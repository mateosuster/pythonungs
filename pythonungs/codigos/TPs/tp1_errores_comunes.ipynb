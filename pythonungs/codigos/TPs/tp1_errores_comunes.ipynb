{
  "nbformat": 4,
  "nbformat_minor": 0,
  "metadata": {
    "colab": {
      "provenance": [],
      "collapsed_sections": [],
      "authorship_tag": "ABX9TyN8QJoxR+crBFLDwCVFM0d5",
      "include_colab_link": true
    },
    "kernelspec": {
      "name": "python3",
      "display_name": "Python 3"
    },
    "language_info": {
      "name": "python"
    }
  },
  "cells": [
    {
      "cell_type": "markdown",
      "metadata": {
        "id": "view-in-github",
        "colab_type": "text"
      },
      "source": [
        "<a href=\"https://colab.research.google.com/github/mateosuster/pythonungs/blob/master/pythonungs/codigos/TPs/tp1_errores_comunes.ipynb\" target=\"_parent\"><img src=\"https://colab.research.google.com/assets/colab-badge.svg\" alt=\"Open In Colab\"/></a>"
      ]
    },
    {
      "cell_type": "markdown",
      "metadata": {
        "id": "eLiRPK5bAfFH"
      },
      "source": [
        "# Errores comunes en el Ejercicio Domiciliario de introducción a Python N°1\n",
        "\n",
        "Fecha de entrega límite: 13/04/22 23:59hs \n",
        "\n",
        "Modo de presentación: \n",
        "\n",
        "1. Guardar una copia de este archivo en su carpeta Drive.\n",
        "2. Renombrar el archivo con el apellido y nombre del estudiante\n",
        "3. Descargar y mandar el trabajo **exclusivamente** en formato `.ipynb` por mail (Asunto \"TP 1 Python - *Apellido*\", al mail msuster@campus.ungs.edu.ar). Para descargarlo hay que ir a *Archivo* --> *Descargar* --> *Descargar .ipynb*\n",
        "\n",
        "Pautas:\n",
        "1. Realización individual\n",
        "2. Asegúrese que el código se ejecute sin errores\n",
        "3. Si tiene dificultades consulte por Slack\n"
      ]
    },
    {
      "cell_type": "markdown",
      "metadata": {
        "id": "4pTLMa3c-DfT"
      },
      "source": [
        "\n",
        "\n",
        "## Presentación de la lista\n",
        "\n",
        "A partir de operar únicamente con los valores de las siguientes listas:"
      ]
    },
    {
      "cell_type": "code",
      "metadata": {
        "id": "g7bdrd5_9_7S"
      },
      "source": [
        "# Ejecute estas lineas de código sin modificar\n",
        "lista_1 = [420, 18, 78, 34, 34, 34, 34, 5, 6, 43, 313, 918] \n",
        "lista_2 = [78, 54, 2, 4261, 3, 4, 56]\n",
        "lista_3 = [60, 20, 441, 1, 65]"
      ],
      "execution_count": null,
      "outputs": []
    },
    {
      "cell_type": "markdown",
      "metadata": {
        "id": "4eZXmfIMAIU9"
      },
      "source": [
        "## Problema 1"
      ]
    },
    {
      "cell_type": "markdown",
      "metadata": {
        "id": "p4Z7F4JZ1Qp_"
      },
      "source": [
        "**Recorte y concatene** las listas 1, 2 y 3 (cuantas veces lo considere necesario) de manera tal que el resultado sea una **nueva lista** con los siguientes valores:\n",
        "\n",
        "``` resultado = [1, 2, 3, 4, 5, 6]```\n",
        "\n",
        "<br>\n",
        "\n",
        "\n",
        "\n",
        "**Nota: Utilice slicing** para obtener los subconjuntos de las listas y recuerde que también puede acceder a los últimos valores por medio de índices negativos"
      ]
    },
    {
      "cell_type": "code",
      "source": [
        "print(lista_3[-2], lista_2[-5], lista_2[-3], lista_2[-2], lista_1[-5], lista_1[-4])"
      ],
      "metadata": {
        "colab": {
          "base_uri": "https://localhost:8080/"
        },
        "id": "mC30jlbDVLiI",
        "outputId": "a2a33161-a85e-42cc-8da8-e309fb74b0bf"
      },
      "execution_count": null,
      "outputs": [
        {
          "output_type": "stream",
          "name": "stdout",
          "text": [
            "1 2 3 4 5 6\n"
          ]
        }
      ]
    },
    {
      "cell_type": "code",
      "source": [
        "a=lista_1[7:9]\n",
        "b=lista_2[2]\n",
        "c=lista_2[4:6]\n",
        "d=lista_3[3]\n",
        "resultado = ( [d] + [b] + [c] + [a] )\n",
        "print(resultado)"
      ],
      "metadata": {
        "colab": {
          "base_uri": "https://localhost:8080/"
        },
        "id": "AljGOn8kUMvm",
        "outputId": "27cf6f6c-799c-4cba-b855-114d629f69bc"
      },
      "execution_count": null,
      "outputs": [
        {
          "output_type": "stream",
          "name": "stdout",
          "text": [
            "[1, 2, [3, 4], [5, 6]]\n"
          ]
        }
      ]
    },
    {
      "cell_type": "code",
      "source": [
        "resultado[2][0]"
      ],
      "metadata": {
        "colab": {
          "base_uri": "https://localhost:8080/"
        },
        "id": "upCSdFmQ_wzQ",
        "outputId": "dfc90485-62e3-411a-de58-9af5c0b432c8"
      },
      "execution_count": null,
      "outputs": [
        {
          "output_type": "execute_result",
          "data": {
            "text/plain": [
              "3"
            ]
          },
          "metadata": {},
          "execution_count": 11
        }
      ]
    },
    {
      "cell_type": "code",
      "source": [
        "resultado = [lista_3[3:4], lista_2[2:3], lista_2[4:6], lista_1[7:9]]\n",
        "print(resultado)"
      ],
      "metadata": {
        "colab": {
          "base_uri": "https://localhost:8080/"
        },
        "id": "alAoO0cCVQFM",
        "outputId": "b2bc6824-0406-410d-f887-ddbfff3f1af5"
      },
      "execution_count": null,
      "outputs": [
        {
          "output_type": "stream",
          "name": "stdout",
          "text": [
            "[[1], [2], [3, 4], [5, 6]]\n"
          ]
        }
      ]
    },
    {
      "cell_type": "code",
      "metadata": {
        "id": "MooxUT6tx8I_",
        "colab": {
          "base_uri": "https://localhost:8080/"
        },
        "outputId": "e50d6b77-0fa9-4df7-89f7-9bb2a9a3108f"
      },
      "source": [
        "#Solución:\n",
        "\n",
        "resultado = lista_3[-2:-1] + lista_2[2:3] + lista_2[4:6] + lista_1[7:9]\n",
        "print(resultado)\n"
      ],
      "execution_count": null,
      "outputs": [
        {
          "output_type": "stream",
          "name": "stdout",
          "text": [
            "[1, 2, 3, 4, 5, 6]\n"
          ]
        }
      ]
    },
    {
      "cell_type": "code",
      "source": [
        "A = [lista_3[-2]] + [lista_2[2]] + lista_2[-3:-1] + lista_1[7:9]\n",
        "A\n",
        "#porque a las 2 primeras listas tengo que usar los corchetes para que se separen?. es decir, si no los uso, directamente los suma. "
      ],
      "metadata": {
        "id": "egfcxgJYWnZp",
        "colab": {
          "base_uri": "https://localhost:8080/"
        },
        "outputId": "f8cd830f-5b6b-47f2-9e2b-6c6e54d873b0"
      },
      "execution_count": null,
      "outputs": [
        {
          "output_type": "execute_result",
          "data": {
            "text/plain": [
              "[1, 2, 3, 4, 5, 6]"
            ]
          },
          "metadata": {},
          "execution_count": 15
        }
      ]
    },
    {
      "cell_type": "code",
      "source": [
        "lista_3[-2]  + lista_2[2]"
      ],
      "metadata": {
        "colab": {
          "base_uri": "https://localhost:8080/"
        },
        "id": "6fGlOVdGCx_I",
        "outputId": "8c59bee5-31fc-4d41-f7e7-dfbfa14b69bc"
      },
      "execution_count": null,
      "outputs": [
        {
          "output_type": "execute_result",
          "data": {
            "text/plain": [
              "3"
            ]
          },
          "metadata": {},
          "execution_count": 21
        }
      ]
    },
    {
      "cell_type": "code",
      "source": [
        "[lista_3[-2]] + [lista_2[2]]"
      ],
      "metadata": {
        "colab": {
          "base_uri": "https://localhost:8080/"
        },
        "id": "djziysXMC86D",
        "outputId": "669b3686-d0d5-48b1-b826-f6498d9cce66"
      },
      "execution_count": null,
      "outputs": [
        {
          "output_type": "execute_result",
          "data": {
            "text/plain": [
              "[1, 2]"
            ]
          },
          "metadata": {},
          "execution_count": 22
        }
      ]
    },
    {
      "cell_type": "markdown",
      "metadata": {
        "id": "zCU06VJwHmZ7"
      },
      "source": [
        "## Problema 2\n",
        " ¿Cuál es la diferencia entre acceder a **un único valor** de una lista por medio de un índice de un sólo valor y un slicing? En otras palabras, ¿qué diferencia hay entre, por ejemplo, `lista_1[0:1]` y `lista_1[0]`? ¿Estamos hablando del mismo tipo de dato? \n",
        "\n",
        " **Nota:** ¿Había una función que nos permitía saber qué tipo de dato es una determinada variable? **Sí**\n"
      ]
    },
    {
      "cell_type": "code",
      "metadata": {
        "id": "ZIp7eh3e01OM"
      },
      "source": [],
      "execution_count": null,
      "outputs": []
    },
    {
      "cell_type": "markdown",
      "metadata": {
        "id": "5_apvQUIJu9o"
      },
      "source": [
        "**Escriba la respuesta aquí**:\n",
        "<br>\n",
        ".....\n"
      ]
    },
    {
      "cell_type": "code",
      "source": [
        "lista_2"
      ],
      "metadata": {
        "colab": {
          "base_uri": "https://localhost:8080/"
        },
        "id": "m5nDZ5iBChXe",
        "outputId": "f3c5a5fd-d07a-4c4c-eff9-831b4971fcba"
      },
      "execution_count": null,
      "outputs": [
        {
          "output_type": "execute_result",
          "data": {
            "text/plain": [
              "[78, 54, 2, 4261, 3, 4, 56]"
            ]
          },
          "metadata": {},
          "execution_count": 17
        }
      ]
    },
    {
      "cell_type": "code",
      "source": [
        "print(lista_2[4:5], type(lista_2[4:5]))"
      ],
      "metadata": {
        "colab": {
          "base_uri": "https://localhost:8080/"
        },
        "id": "yDLVcDHMWY91",
        "outputId": "2e6443ac-f58a-4a32-c695-20fb5449705f"
      },
      "execution_count": null,
      "outputs": [
        {
          "output_type": "stream",
          "name": "stdout",
          "text": [
            "[3] <class 'list'>\n"
          ]
        }
      ]
    },
    {
      "cell_type": "code",
      "source": [
        "print(lista_2[4], type(lista_2[4]))"
      ],
      "metadata": {
        "colab": {
          "base_uri": "https://localhost:8080/"
        },
        "id": "39VlRy-xWPqu",
        "outputId": "5e653032-8849-4b95-8bd6-28522ec1b1e9"
      },
      "execution_count": null,
      "outputs": [
        {
          "output_type": "stream",
          "name": "stdout",
          "text": [
            "3 <class 'int'>\n"
          ]
        }
      ]
    },
    {
      "cell_type": "markdown",
      "metadata": {
        "id": "yeJS3b9lvW7X"
      },
      "source": [
        "## Problema 3\n",
        "\n",
        "**Modifique** la `lista_3` (lo cual es distinto a *redefinir* la `lista_3`) de modo tal que sus valores queden como sigue:\n",
        "\n",
        "``` lista_3 = [6, 10, 4, 420, 22]```\n"
      ]
    },
    {
      "cell_type": "code",
      "source": [
        "lista_3 = [60, 20, 441, 1, 65]\n",
        "lista_3.append(6)\n",
        "lista_3.append(10)\n",
        "lista_3.append(4)\n",
        "lista_3.append(420)\n",
        "lista_3.append(22)\n",
        "lista_3=lista_3[5:10]\n",
        "print(lista_3)"
      ],
      "metadata": {
        "id": "xXfr6unalq0U",
        "colab": {
          "base_uri": "https://localhost:8080/"
        },
        "outputId": "abad8684-9ed7-4a8b-fa5d-3539a90b7902"
      },
      "execution_count": null,
      "outputs": [
        {
          "output_type": "stream",
          "name": "stdout",
          "text": [
            "[6, 10, 4, 420, 22]\n"
          ]
        }
      ]
    },
    {
      "cell_type": "code",
      "source": [
        "A = lista_3 = [60, 20, 441, 1, 65]\n",
        "A = [6, 10, 4, 420, 22]\n",
        "lista_3 = A\n",
        "print(lista_3)"
      ],
      "metadata": {
        "colab": {
          "base_uri": "https://localhost:8080/"
        },
        "id": "Bm-EBQF0oPjp",
        "outputId": "428e178f-1bff-4dc2-d9d5-05d594ef6fe1"
      },
      "execution_count": null,
      "outputs": [
        {
          "output_type": "stream",
          "name": "stdout",
          "text": [
            "[6, 10, 4, 420, 22]\n"
          ]
        }
      ]
    },
    {
      "cell_type": "code",
      "metadata": {
        "id": "jcATCikVvafY",
        "colab": {
          "base_uri": "https://localhost:8080/"
        },
        "outputId": "3068843c-a9dd-453f-d43e-6005dc1691ab"
      },
      "source": [
        "#Solución:\n",
        "lista_3[0]=6\n",
        "lista_3[1]=10\n",
        "lista_3[2]=4\n",
        "lista_3[3]=20\n",
        "lista_3[4]=22\n",
        "print(lista_3)\n"
      ],
      "execution_count": null,
      "outputs": [
        {
          "output_type": "stream",
          "name": "stdout",
          "text": [
            "[6, 10, 4, 20, 22]\n"
          ]
        }
      ]
    },
    {
      "cell_type": "markdown",
      "metadata": {
        "id": "mWP8jZqaBU7e"
      },
      "source": [
        "## Problema 4\n",
        "\n",
        "Observe el primer valor de la `lista_1` con el primero de la `lista_2`. ¿Cúal es mayor? ¿De qué manera podemos expresar esto algorítmicamente? Escriba un programa que compare ambos valores y devuelva como resultado un tipo de dato booleano (*Verdadero* o *Falso*). Realice lo mismo para el segundo y tercer valor de las listas en cuestión, evaluando si es menor, igual o distinto (elija a gusto).\n",
        "\n",
        "**Nota:** utilice los operadores lógicos (`==`, `!=`, `>=`, etc.)"
      ]
    },
    {
      "cell_type": "code",
      "source": [
        "print(bool(420>78))\n",
        "print(bool(420<78))\n",
        "#podemos observar que el primer valor de la lista1 (420) es mayor al primero de la lista2 (78).\n",
        "\n",
        "#lista2\n",
        "print(bool(18>54))\n",
        "print(bool(18<54))\n",
        "#En este caso obsrvamos que el segundo valor de la lista2 (54) es mayor al segundo valor de la liosta1.\n",
        "\n",
        "#lista3\n",
        "print(bool(78>2))\n",
        "print(bool(78<2))"
      ],
      "metadata": {
        "id": "2XjfSpQoncOV",
        "colab": {
          "base_uri": "https://localhost:8080/"
        },
        "outputId": "508ecb52-dc01-4394-927a-178f1d68ad5b"
      },
      "execution_count": null,
      "outputs": [
        {
          "output_type": "stream",
          "name": "stdout",
          "text": [
            "True\n",
            "False\n",
            "False\n",
            "True\n",
            "True\n",
            "False\n"
          ]
        }
      ]
    },
    {
      "cell_type": "code",
      "metadata": {
        "id": "FLu-eh2uBU7q",
        "colab": {
          "base_uri": "https://localhost:8080/"
        },
        "outputId": "de000aad-4751-49b9-8c1a-910339632325"
      },
      "source": [
        "#Solución:\n",
        "\n",
        "lista_1=[420,18,78,34,34,34,34,5,6,43,313,918]\n",
        "lista_2=[78,54,2,4261,3,4,56]\n",
        "mayor=lista_1[0]>lista_2[0]\n",
        "print(mayor)\n",
        "\n",
        "menor=lista_1[1]<lista_2[1]\n",
        "print(menor)\n",
        "\n",
        "igual=lista_1[2]==lista_2[2]\n",
        "print(igual)"
      ],
      "execution_count": null,
      "outputs": [
        {
          "output_type": "stream",
          "name": "stdout",
          "text": [
            "True\n",
            "True\n",
            "False\n"
          ]
        }
      ]
    },
    {
      "cell_type": "code",
      "source": [
        "pos=input(\"Introduce un valor:\")\n",
        "pos=int(pos)"
      ],
      "metadata": {
        "id": "kM3Tpo4yo6pc",
        "colab": {
          "base_uri": "https://localhost:8080/"
        },
        "outputId": "c86c2a95-096f-4488-ede9-cca1c0ade8f9"
      },
      "execution_count": null,
      "outputs": [
        {
          "name": "stdout",
          "output_type": "stream",
          "text": [
            "Introduce un valor:2\n"
          ]
        }
      ]
    },
    {
      "cell_type": "code",
      "source": [
        "lista_1[pos]==lista_2[pos]"
      ],
      "metadata": {
        "id": "hfq7KUv8o9ro",
        "colab": {
          "base_uri": "https://localhost:8080/"
        },
        "outputId": "29317654-59c4-491f-ff96-d9dc470777bf"
      },
      "execution_count": null,
      "outputs": [
        {
          "output_type": "execute_result",
          "data": {
            "text/plain": [
              "False"
            ]
          },
          "metadata": {},
          "execution_count": 38
        }
      ]
    },
    {
      "cell_type": "markdown",
      "metadata": {
        "id": "xbglQxrFKEk_"
      },
      "source": [
        "## Problema 5\n",
        "\n",
        "Anexe los numeros `55` y `420` al final de la `lista_2` y **repita los valores de la lista** resultante 3 veces.\n",
        "\n",
        "**Nota:** Utilice la función que permite *appendear* (adjuntar) datos al final de una lista"
      ]
    },
    {
      "cell_type": "code",
      "source": [
        "lista_2.append(55)\n",
        "lista_2.append(420)\n",
        "lista_2"
      ],
      "metadata": {
        "id": "nMBNuXbsoepp",
        "colab": {
          "base_uri": "https://localhost:8080/"
        },
        "outputId": "aeceeb8c-fee1-4106-c247-e64540a1d81b"
      },
      "execution_count": null,
      "outputs": [
        {
          "output_type": "execute_result",
          "data": {
            "text/plain": [
              "[78, 54, 2, 4261, 3, 4, 56, 55, 420, 55, 420, 55, 420]"
            ]
          },
          "metadata": {},
          "execution_count": 41
        }
      ]
    },
    {
      "cell_type": "markdown",
      "source": [
        "[78, 54, 2, 4261, 3, 4, 56, 55, 420, 55, 420, 55, 420]"
      ],
      "metadata": {
        "id": "D8KuPPcKpPAi"
      }
    },
    {
      "cell_type": "code",
      "metadata": {
        "id": "g2uGqTTNKgJF",
        "colab": {
          "base_uri": "https://localhost:8080/"
        },
        "outputId": "520b45ed-be6f-4524-b90c-1761e5e12990"
      },
      "source": [
        "## Escriba la respuesta aquí\n",
        "lista_2.append(55)\n",
        "lista_2.append(420)\n",
        "print(lista_2*3)"
      ],
      "execution_count": null,
      "outputs": [
        {
          "output_type": "stream",
          "name": "stdout",
          "text": [
            "[78, 54, 2, 4261, 3, 4, 56, 55, 420, 78, 54, 2, 4261, 3, 4, 56, 55, 420, 78, 54, 2, 4261, 3, 4, 56, 55, 420]\n"
          ]
        }
      ]
    },
    {
      "cell_type": "code",
      "source": [
        "## Escriba la respuesta aquí\n",
        "lista_1 = [420, 18, 78, 34, 34, 34, 34, 5, 6, 43, 313, 918] \n",
        "lista_2 = [78, 54, 2, 4261, 3, 4, 56]\n",
        "lista_3 = [60, 20, 441, 1, 65]\n",
        "\n",
        "b= [55, 420]\n",
        "lista_2.extend (b)\n",
        "print(lista_2 *3)"
      ],
      "metadata": {
        "id": "AcvZzPfZpfCP",
        "colab": {
          "base_uri": "https://localhost:8080/"
        },
        "outputId": "a6eeb50c-f308-4e1b-d1f7-08e6277191f2"
      },
      "execution_count": null,
      "outputs": [
        {
          "output_type": "stream",
          "name": "stdout",
          "text": [
            "[78, 54, 2, 4261, 3, 4, 56, 55, 420, 78, 54, 2, 4261, 3, 4, 56, 55, 420, 78, 54, 2, 4261, 3, 4, 56, 55, 420]\n"
          ]
        }
      ]
    },
    {
      "cell_type": "markdown",
      "metadata": {
        "id": "oZB4AEdaJZ1d"
      },
      "source": [
        "## Problema 6\n",
        "Escribir un programa que convierta una lista de valores de pesos a otra lista de sus equivalentes en dólares. Utilizar alguno de los muchos tipos de cambio que existen (no importa si es legal o no). Imprima por pantalla los resultados junto algunos strings que expliquen la operación o el programa.\n",
        "\n",
        "\n",
        "\n",
        "**Nota:** guardar los valores de pesos y dolares en distintas variables\n"
      ]
    },
    {
      "cell_type": "code",
      "source": [
        "lista_pesos=[1,10,50,100,500]\n",
        "lista_dolares=[120,199.50,200]\n",
        "convertirpesos0 = lista_pesos[0] * lista_dolares[1]\n",
        "convertirpesos2 = lista_pesos[2] * lista_dolares[0]\n",
        "convertirpesos3 = lista_pesos[4] * lista_dolares[2]\n",
        "print (\"si tengo\", lista_pesos[0], \"peso obtengo\", convertirpesos0 , \"dolares\")"
      ],
      "metadata": {
        "id": "uTT3o7kWrA_w",
        "colab": {
          "base_uri": "https://localhost:8080/"
        },
        "outputId": "98815a51-8c8c-4161-a22b-c21437086c1e"
      },
      "execution_count": null,
      "outputs": [
        {
          "output_type": "stream",
          "name": "stdout",
          "text": [
            "si tengo 1 peso obtengo 199.5 dolares\n"
          ]
        }
      ]
    },
    {
      "cell_type": "code",
      "source": [
        "pesos = [ 100, 20589.3, 563]\n",
        "\n",
        "fct =0.0089\n",
        "dolar= [pesos[0]*fct , pesos[1]*fct , pesos[2]* fct] #mi conversion\n",
        "\n",
        "print(pesos [0],\"pesos son\", dolar[0],\"dólares\")\n",
        "print(pesos[1],\"pesos son\", dolar[1],\"dólares\")\n",
        "print(pesos[2],\"pesos son\", dolar[2],\"dólares\")"
      ],
      "metadata": {
        "id": "Fo7qSkyVrYll",
        "colab": {
          "base_uri": "https://localhost:8080/"
        },
        "outputId": "d27ad49c-9c3d-4de5-fffd-3fcad938568e"
      },
      "execution_count": null,
      "outputs": [
        {
          "output_type": "stream",
          "name": "stdout",
          "text": [
            "100 pesos son 0.89 dólares\n",
            "20589.3 pesos son 183.24477 dólares\n",
            "563 pesos son 5.0107 dólares\n"
          ]
        }
      ]
    },
    {
      "cell_type": "code",
      "source": [
        "AR=[1,62343200,804320,1000]\n",
        "USD=110.89 #Este valor representa a cuantos pesos equivale un dolar\n",
        "AR[0]=AR[0]/USD\n",
        "AR[1]=AR[1]/USD\n",
        "AR[2]=AR[2]/USD\n",
        "AR[3]=AR[3]/USD\n",
        "\n",
        "print(\"La siguiente lista representa la conversion de los valores 400, 600, 800, 1000  de pesos a dolares\", AR,\"USD\")\n",
        "\n"
      ],
      "metadata": {
        "colab": {
          "base_uri": "https://localhost:8080/"
        },
        "id": "qedO570NuhwU",
        "outputId": "a1957a20-0657-445b-8fb8-2ac0ab143393"
      },
      "execution_count": null,
      "outputs": [
        {
          "output_type": "stream",
          "name": "stdout",
          "text": [
            "La siguiente lista representa la conversion de los valores 400, 600, 800, 1000  de pesos a dolares [0.009017945711966813, 562207.5931102894, 7253.314095049148, 9.017945711966814] USD\n"
          ]
        }
      ]
    },
    {
      "cell_type": "code",
      "metadata": {
        "id": "aqI8yM_lKXjx",
        "colab": {
          "base_uri": "https://localhost:8080/"
        },
        "outputId": "f64df1d9-89cb-456f-e062-159dbea9347e"
      },
      "source": [
        "# Escriba la respuesta aquí\n",
        "Dolar= [1, 2, 3, 4, 5, 6]\n",
        "t_de_cambio= 112.97\n",
        "largo= len(Dolar)\n",
        "Pesos= [0] * largo\n",
        "Pesos[0]= Dolar[0] * t_de_cambio\n",
        "Pesos[1]= Dolar[1] * t_de_cambio\n",
        "Pesos[2]= Dolar[2] * t_de_cambio\n",
        "Pesos[3]= Dolar[3] * t_de_cambio\n",
        "Pesos[4]= Dolar[4] * t_de_cambio\n",
        "print(Dolar,'Dolares son', Pesos, 'Pesos Argentinos')"
      ],
      "execution_count": null,
      "outputs": [
        {
          "output_type": "stream",
          "name": "stdout",
          "text": [
            "[1, 2, 3, 4, 5, 6] Dolares son [112.97, 225.94, 338.90999999999997, 451.88, 564.85, 0] Pesos Argentinos\n"
          ]
        }
      ]
    }
  ]
}
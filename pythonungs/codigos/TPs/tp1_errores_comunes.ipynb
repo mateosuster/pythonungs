{
  "nbformat": 4,
  "nbformat_minor": 0,
  "metadata": {
    "colab": {
      "provenance": [],
      "authorship_tag": "ABX9TyPRvfk4DbVyQiiTyHrvTxv4",
      "include_colab_link": true
    },
    "kernelspec": {
      "name": "python3",
      "display_name": "Python 3"
    },
    "language_info": {
      "name": "python"
    }
  },
  "cells": [
    {
      "cell_type": "markdown",
      "metadata": {
        "id": "view-in-github",
        "colab_type": "text"
      },
      "source": [
        "<a href=\"https://colab.research.google.com/github/mateosuster/pythonungs/blob/master/pythonungs/codigos/TPs/tp1_errores_comunes.ipynb\" target=\"_parent\"><img src=\"https://colab.research.google.com/assets/colab-badge.svg\" alt=\"Open In Colab\"/></a>"
      ]
    },
    {
      "cell_type": "markdown",
      "metadata": {
        "id": "eLiRPK5bAfFH"
      },
      "source": [
        "# Errores comunes en el Ejercicio Domiciliario de introducción a Python N°1\n"
      ]
    },
    {
      "cell_type": "markdown",
      "metadata": {
        "id": "4pTLMa3c-DfT"
      },
      "source": [
        "\n",
        "\n",
        "## Presentación de la lista\n",
        "\n",
        "A partir de operar únicamente con los valores de las siguientes listas:"
      ]
    },
    {
      "cell_type": "code",
      "metadata": {
        "id": "g7bdrd5_9_7S"
      },
      "source": [
        "# Ejecute estas lineas de código sin modificar\n",
        "lista_1 = [420, 18, 'esto es un string', 5, 6, 7.8, 34, 76,  12, 45, 667, 15, 3.4, 34, 43, 313, 'al fin...', 2, 3, 918] \n",
        "lista_2 = [78, 5.4, 'que molesto este texto', 4261, 3., 4, 56]\n",
        "lista_3 = [60, 2.0, 1, 65, 84.3]"
      ],
      "execution_count": 42,
      "outputs": []
    },
    {
      "cell_type": "markdown",
      "metadata": {
        "id": "4eZXmfIMAIU9"
      },
      "source": [
        "## Problema 1"
      ]
    },
    {
      "cell_type": "markdown",
      "metadata": {
        "id": "p4Z7F4JZ1Qp_"
      },
      "source": [
        "**Recorte y concatene** las listas 1, 2 y 3 (cuantas veces lo considere necesario) de manera tal que el resultado sea una **nueva lista** con los siguientes valores:\n",
        "\n",
        "``` resultado = [1, 2, 3, 4, 5, 6]```\n",
        "\n",
        "<br>\n",
        "\n",
        "\n",
        "\n",
        "**Nota: Utilice slicing** para obtener los subconjuntos de las listas y recuerde que también puede acceder a los últimos valores por medio de índices negativos"
      ]
    },
    {
      "cell_type": "code",
      "source": [
        "print(lista_3[-3], lista_1[-3], lista_1[-2], lista_2[-2], lista_1[3], lista_1[4])"
      ],
      "metadata": {
        "colab": {
          "base_uri": "https://localhost:8080/"
        },
        "id": "mC30jlbDVLiI",
        "outputId": "08ce7118-3cbe-4e2a-904a-bd157a0cae80"
      },
      "execution_count": 2,
      "outputs": [
        {
          "output_type": "stream",
          "name": "stdout",
          "text": [
            "1 2 3 4 5 6\n"
          ]
        }
      ]
    },
    {
      "cell_type": "code",
      "source": [
        "print(lista_3[2], lista_1[17:19], lista_2[5], lista_1[3:5])"
      ],
      "metadata": {
        "id": "jMr7_wKFpR8A",
        "outputId": "653578c6-19b0-4886-832d-af496c552e9d",
        "colab": {
          "base_uri": "https://localhost:8080/"
        }
      },
      "execution_count": 3,
      "outputs": [
        {
          "output_type": "stream",
          "name": "stdout",
          "text": [
            "1 [2, 3] 4 [5, 6]\n"
          ]
        }
      ]
    },
    {
      "cell_type": "code",
      "source": [
        "sublista1=lista_1[-3:-1]\n",
        "sublista2=lista_1[3:5]\n",
        "sublista3=lista_2[5]\n",
        "sublista4=lista_3[-3]\n",
        "\n",
        "resultado= [sublista4] + [sublista1] + [sublista3] + [sublista2]\n",
        "resultado"
      ],
      "metadata": {
        "colab": {
          "base_uri": "https://localhost:8080/"
        },
        "id": "AljGOn8kUMvm",
        "outputId": "dfa810ad-5357-4eb0-ab87-b5429519b356"
      },
      "execution_count": 36,
      "outputs": [
        {
          "output_type": "execute_result",
          "data": {
            "text/plain": [
              "[1, [2, 3], 4, [5, 6]]"
            ]
          },
          "metadata": {},
          "execution_count": 36
        }
      ]
    },
    {
      "cell_type": "code",
      "source": [
        "resultado[3][0]"
      ],
      "metadata": {
        "colab": {
          "base_uri": "https://localhost:8080/"
        },
        "id": "upCSdFmQ_wzQ",
        "outputId": "990cf4dc-c86f-45f0-f082-c29a686355be"
      },
      "execution_count": 11,
      "outputs": [
        {
          "output_type": "execute_result",
          "data": {
            "text/plain": [
              "5"
            ]
          },
          "metadata": {},
          "execution_count": 11
        }
      ]
    },
    {
      "cell_type": "code",
      "source": [
        "resultado = [lista_3[-3:-2], lista_1[-3:-2], lista_1[-2:-1], lista_1[3:5]]\n",
        "print(resultado)"
      ],
      "metadata": {
        "colab": {
          "base_uri": "https://localhost:8080/"
        },
        "id": "alAoO0cCVQFM",
        "outputId": "c51c0f08-75f8-4bd0-8f3f-7893387e1ded"
      },
      "execution_count": 19,
      "outputs": [
        {
          "output_type": "stream",
          "name": "stdout",
          "text": [
            "[[1], [2], [3], [5, 6]]\n"
          ]
        }
      ]
    },
    {
      "cell_type": "code",
      "metadata": {
        "id": "MooxUT6tx8I_",
        "colab": {
          "base_uri": "https://localhost:8080/"
        },
        "outputId": "df21a057-883b-48f5-dab1-1668c3c3da0a"
      },
      "source": [
        "#Solución:\n",
        "\n",
        "resultado =  lista_3[-3:-2] +  lista_1[-3:-2] +  lista_1[-2:-1] +  lista_1[3:5] \n",
        "print(resultado)\n"
      ],
      "execution_count": 20,
      "outputs": [
        {
          "output_type": "stream",
          "name": "stdout",
          "text": [
            "[1, 2, 3, 5, 6]\n"
          ]
        }
      ]
    },
    {
      "cell_type": "code",
      "source": [
        "#Solucion alternativa (otra de tantas):\n",
        "\n",
        "resultado_2 =  [lista_3[-3]] +  [lista_1[-3]] +  lista_1[-2:-1] +  lista_1[3:5] \n",
        "resultado_2\n",
        "#porque a las 2 primeras listas tengo que usar los corchetes para que se separen?. es decir, si no los uso, directamente los suma. "
      ],
      "metadata": {
        "id": "eeXMGU2aV8kA",
        "outputId": "62f2e7ad-8e05-4bd1-c429-9b2bdf25eb91",
        "colab": {
          "base_uri": "https://localhost:8080/"
        }
      },
      "execution_count": 24,
      "outputs": [
        {
          "output_type": "execute_result",
          "data": {
            "text/plain": [
              "[1, 2, 3, 5, 6]"
            ]
          },
          "metadata": {},
          "execution_count": 24
        }
      ]
    },
    {
      "cell_type": "code",
      "source": [
        "lista_3[-3] +  lista_1[-3]"
      ],
      "metadata": {
        "colab": {
          "base_uri": "https://localhost:8080/"
        },
        "id": "6fGlOVdGCx_I",
        "outputId": "0d97f256-e47a-4ae2-a41e-ce8083d0b958"
      },
      "execution_count": 27,
      "outputs": [
        {
          "output_type": "execute_result",
          "data": {
            "text/plain": [
              "3"
            ]
          },
          "metadata": {},
          "execution_count": 27
        }
      ]
    },
    {
      "cell_type": "code",
      "source": [
        "[lista_3[-3]] +  [lista_1[-3]] "
      ],
      "metadata": {
        "colab": {
          "base_uri": "https://localhost:8080/"
        },
        "id": "djziysXMC86D",
        "outputId": "4b24e2c7-5e83-4c65-b8f2-0d7ca6831637"
      },
      "execution_count": 29,
      "outputs": [
        {
          "output_type": "execute_result",
          "data": {
            "text/plain": [
              "[1, 2]"
            ]
          },
          "metadata": {},
          "execution_count": 29
        }
      ]
    },
    {
      "cell_type": "markdown",
      "metadata": {
        "id": "zCU06VJwHmZ7"
      },
      "source": [
        "## Problema 2\n",
        " ¿Cuál es la diferencia entre acceder a **un único valor** de una lista por medio de un índice de un sólo valor y un slicing? En otras palabras, ¿qué diferencia hay entre, por ejemplo, `lista_1[0:1]` y `lista_1[0]`? ¿Estamos hablando del mismo tipo de dato? \n",
        "\n",
        " **Nota:** ¿Había una función que nos permitía saber qué tipo de dato es una determinada variable? **Sí**\n"
      ]
    },
    {
      "cell_type": "code",
      "metadata": {
        "id": "ZIp7eh3e01OM"
      },
      "source": [],
      "execution_count": null,
      "outputs": []
    },
    {
      "cell_type": "markdown",
      "metadata": {
        "id": "5_apvQUIJu9o"
      },
      "source": [
        "**Escriba la respuesta aquí**:\n",
        "<br>\n",
        ".....\n"
      ]
    },
    {
      "cell_type": "code",
      "source": [
        "print(lista_1)"
      ],
      "metadata": {
        "colab": {
          "base_uri": "https://localhost:8080/"
        },
        "id": "m5nDZ5iBChXe",
        "outputId": "878ce736-be61-4afc-dd4b-8a3ed86dbf80"
      },
      "execution_count": 33,
      "outputs": [
        {
          "output_type": "stream",
          "name": "stdout",
          "text": [
            "[420, 18, 'esto es un string', 5, 6, 7.8, 34, 76, 12, 45, 667, 15, 3.4, 34, 43, 313, 'al fin...', 2, 3, 918]\n"
          ]
        }
      ]
    },
    {
      "cell_type": "code",
      "source": [
        "print(lista_1[0:1], type(lista_1[0:1]))"
      ],
      "metadata": {
        "colab": {
          "base_uri": "https://localhost:8080/"
        },
        "id": "yDLVcDHMWY91",
        "outputId": "b59ccc22-113a-4878-a0bf-2217b8ebe716"
      },
      "execution_count": 34,
      "outputs": [
        {
          "output_type": "stream",
          "name": "stdout",
          "text": [
            "[420] <class 'list'>\n"
          ]
        }
      ]
    },
    {
      "cell_type": "code",
      "source": [
        "print(lista_1[0], type(lista_1[0]))"
      ],
      "metadata": {
        "colab": {
          "base_uri": "https://localhost:8080/"
        },
        "id": "39VlRy-xWPqu",
        "outputId": "fe55ec14-c573-4deb-f115-1ff3fa2a8000"
      },
      "execution_count": 35,
      "outputs": [
        {
          "output_type": "stream",
          "name": "stdout",
          "text": [
            "420 <class 'int'>\n"
          ]
        }
      ]
    },
    {
      "cell_type": "markdown",
      "metadata": {
        "id": "yeJS3b9lvW7X"
      },
      "source": [
        "## Problema 3\n",
        "\n",
        "**Modifique** la `lista_3` (lo cual es distinto a *redefinir* la `lista_3`) de modo tal que sus valores queden como sigue:\n",
        "\n",
        "```lista_3 = [4.20, 'usa slicing', 2,  ['lista dentro de lista'], 1 ]```\n"
      ]
    },
    {
      "cell_type": "code",
      "source": [
        "#lista original\n",
        "lista_3 = [60, 2.0, 1, 65, 84.3]\n",
        "\n",
        "#propuesta\n",
        "lista_3 = [4.20, 'usa slicing', 2,  ['lista dentro de lista'], 1 ]\n",
        "lista_3"
      ],
      "metadata": {
        "id": "I0R9F0N90nLX",
        "outputId": "f37c27ce-4bd4-42ce-ccc6-260346ecfa55",
        "colab": {
          "base_uri": "https://localhost:8080/"
        }
      },
      "execution_count": 43,
      "outputs": [
        {
          "output_type": "execute_result",
          "data": {
            "text/plain": [
              "[4.2, 'usa slicing', 2, ['lista dentro de lista'], 1]"
            ]
          },
          "metadata": {},
          "execution_count": 43
        }
      ]
    },
    {
      "cell_type": "code",
      "source": [
        "#lista original\n",
        "lista_3 = [60, 2.0, 1, 65, 84.3]\n",
        "\n",
        "#propuesta\n",
        "lista_3[0] = lista_1[0] / 100\n",
        "lista_3[1] = lista_1[1:7]\n",
        "lista_3[2] = 2\n",
        "lista_3[3] = ['lista dentro de lista']\n",
        "lista_3[4] = 1\n",
        "print(lista_3)"
      ],
      "metadata": {
        "id": "zU8TGt54YnYY",
        "outputId": "d8d36faa-004d-4f8e-d218-9b88ce120272",
        "colab": {
          "base_uri": "https://localhost:8080/"
        }
      },
      "execution_count": 45,
      "outputs": [
        {
          "output_type": "stream",
          "name": "stdout",
          "text": [
            "[4.2, [18, 'esto es un string', 5, 6, 7.8, 34], 2, ['lista dentro de lista'], 1]\n"
          ]
        }
      ]
    },
    {
      "cell_type": "code",
      "source": [],
      "metadata": {
        "id": "KEbSjRyZYyjG"
      },
      "execution_count": null,
      "outputs": []
    },
    {
      "cell_type": "code",
      "metadata": {
        "id": "jcATCikVvafY",
        "colab": {
          "base_uri": "https://localhost:8080/"
        },
        "outputId": "009fbdd6-aee8-4c5e-c7ef-9bc4c772a631"
      },
      "source": [
        "#lista original\n",
        "lista_3 = [60, 2.0, 1, 65, 84.3]\n",
        "\n",
        "#solucion propuesta\n",
        "lista_3[0] = 4.20\n",
        "lista_3[-4] = 'usa slicing'\n",
        "lista_3[2] = 2\n",
        "lista_3[-2] = ['lista dentro de lista']\n",
        "lista_3[4] = 1\n",
        "print(\"lista_3 =\" , lista_3)\n"
      ],
      "execution_count": 46,
      "outputs": [
        {
          "output_type": "stream",
          "name": "stdout",
          "text": [
            "lista_3 = [4.2, 'usa slicing', 2, ['lista dentro de lista'], 1]\n"
          ]
        }
      ]
    },
    {
      "cell_type": "code",
      "source": [
        "#lista original\n",
        "lista_3 = [60, 2.0, 1, 65, 84.3]\n",
        "\n",
        "#otra solucion propuesta\n",
        "lista_3[0:3] = [4.20, 'usa slicing', 2]\n",
        "lista_3[3] = ['lista dentro de lista']\n",
        "lista_3[4:5] = [1]\n",
        "print(lista_3) \n"
      ],
      "metadata": {
        "id": "YRCAwFDAZ7Sp",
        "outputId": "c7662510-9459-4303-a504-7e531a46fc1f",
        "colab": {
          "base_uri": "https://localhost:8080/"
        }
      },
      "execution_count": 50,
      "outputs": [
        {
          "output_type": "stream",
          "name": "stdout",
          "text": [
            "[4.2, 'usa slicing', 2, ['lista dentro de lista'], 1]\n"
          ]
        }
      ]
    },
    {
      "cell_type": "code",
      "source": [
        "#lista original\n",
        "lista_3 = [60, 2.0, 1, 65, 84.3]\n",
        "\n",
        "#otra solucion propuesta\n",
        "lista_3[0:5]= 4.20, 'usa slicing', 2, ['lista dentro de lista'], 1 \n",
        "print(lista_3)"
      ],
      "metadata": {
        "id": "3OqQq2NdaE0M",
        "outputId": "ef01c362-bf13-4377-b166-50ca08c0b53c",
        "colab": {
          "base_uri": "https://localhost:8080/"
        }
      },
      "execution_count": 51,
      "outputs": [
        {
          "output_type": "stream",
          "name": "stdout",
          "text": [
            "[4.2, 'usa slicing', 2, ['lista dentro de lista'], 1]\n"
          ]
        }
      ]
    },
    {
      "cell_type": "code",
      "source": [
        "#lista original\n",
        "lista_3 = [60, 2.0, 1, 65, 84.3]\n",
        "\n",
        "#solucion (engorrosa) propuesta\n",
        "lista_3.append( 4.20 )\n",
        "lista_3.append('usa slicing')\n",
        "lista_3.append(2)\n",
        "lista_3.append(['lista dentro de otra lista'])\n",
        "lista_3.append(1)\n",
        "lista_3 = lista_3[5:10]\n",
        "print(lista_3)"
      ],
      "metadata": {
        "id": "ykUu8matZlBo",
        "outputId": "bc2e12b1-55d2-438c-c070-634f93f07d6d",
        "colab": {
          "base_uri": "https://localhost:8080/"
        }
      },
      "execution_count": 49,
      "outputs": [
        {
          "output_type": "stream",
          "name": "stdout",
          "text": [
            "[4.2, 'usa slicing', 2, ['lista dentro de otra lista'], 1]\n"
          ]
        }
      ]
    },
    {
      "cell_type": "markdown",
      "metadata": {
        "id": "mWP8jZqaBU7e"
      },
      "source": [
        "## Problema 4\n",
        "\n",
        "Observe el primer valor de la `lista_1` con el primero de la `lista_2`. ¿Cúal es mayor? ¿De qué manera podemos expresar esto algorítmicamente? Escriba un programa que compare ambos valores y devuelva como resultado un tipo de dato booleano (*Verdadero* o *Falso*). Realice lo mismo para el segundo y tercer valor de las listas en cuestión, evaluando si es menor, igual o distinto (elija a gusto).\n",
        "\n",
        "**Nota:** utilice los operadores lógicos (`==`, `!=`, `>=`, etc.)"
      ]
    },
    {
      "cell_type": "code",
      "source": [
        "print(bool(420>78))\n",
        "print(bool(420<78))\n",
        "#podemos observar que el primer valor de la lista1 (420) es mayor al primero de la lista2 (78).\n"
      ],
      "metadata": {
        "id": "2XjfSpQoncOV",
        "colab": {
          "base_uri": "https://localhost:8080/"
        },
        "outputId": "a1f8becd-bd93-47f7-b1ab-208f6e1dbfe7"
      },
      "execution_count": 52,
      "outputs": [
        {
          "output_type": "stream",
          "name": "stdout",
          "text": [
            "True\n",
            "False\n"
          ]
        }
      ]
    },
    {
      "cell_type": "code",
      "metadata": {
        "id": "FLu-eh2uBU7q",
        "colab": {
          "base_uri": "https://localhost:8080/"
        },
        "outputId": "93f7dd8d-8005-4bbc-8248-4b0776a0cb48"
      },
      "source": [
        "#Solución:\n",
        "comparacion = lista_1[0] == lista_2[1]\n",
        "print(comparacion)"
      ],
      "execution_count": 60,
      "outputs": [
        {
          "output_type": "stream",
          "name": "stdout",
          "text": [
            "False\n"
          ]
        }
      ]
    },
    {
      "cell_type": "code",
      "source": [
        "#Solucion simple, pero no muy explicita\n",
        "lista_1 >= lista_2"
      ],
      "metadata": {
        "id": "xdHPJk_TajXr",
        "outputId": "72047149-ae37-4cf7-9dad-3ff5767c3c5a",
        "colab": {
          "base_uri": "https://localhost:8080/"
        }
      },
      "execution_count": 56,
      "outputs": [
        {
          "output_type": "execute_result",
          "data": {
            "text/plain": [
              "True"
            ]
          },
          "metadata": {},
          "execution_count": 56
        }
      ]
    },
    {
      "cell_type": "code",
      "source": [
        "#solucion utilizando if\n",
        "if lista_1[2] > lista_2[2] :\n",
        "  print ('Verdadero')"
      ],
      "metadata": {
        "id": "paOud16KbHl3"
      },
      "execution_count": 57,
      "outputs": []
    },
    {
      "cell_type": "code",
      "source": [
        "#solucion utilizando input() function\n",
        "\n",
        "pos=input(\"Introduce un valor:\")\n",
        "pos=int(pos)\n",
        "\n",
        "lista_1[pos]==lista_2[pos]"
      ],
      "metadata": {
        "id": "kM3Tpo4yo6pc",
        "colab": {
          "base_uri": "https://localhost:8080/"
        },
        "outputId": "26f70e5e-6605-400e-985f-b4c60c9cf41a"
      },
      "execution_count": 61,
      "outputs": [
        {
          "name": "stdout",
          "output_type": "stream",
          "text": [
            "Introduce un valor:4\n"
          ]
        },
        {
          "output_type": "execute_result",
          "data": {
            "text/plain": [
              "False"
            ]
          },
          "metadata": {},
          "execution_count": 61
        }
      ]
    },
    {
      "cell_type": "markdown",
      "metadata": {
        "id": "xbglQxrFKEk_"
      },
      "source": [
        "## Problema 5\n",
        "\n",
        "Anexe los datos `88.9` y `'es importante diferenciar los tipos de datos'` al final de la `lista_2` y **repita los valores de la lista** resultante 3 veces.\n",
        "\n",
        "**Nota:** Utilice la función que permite *appendear* (adjuntar) datos al final de una lista"
      ]
    },
    {
      "cell_type": "code",
      "source": [
        "#Lista_2\n",
        "lista_2 = [78, 5.4, 'que molesto este texto', 4261, 3., 4, 56]\n",
        "\n",
        "lista_2.append(88.9)\n",
        "lista_2.append(88.9)\n",
        "lista_2.append(88.9)\n",
        "lista_2.append(\"es importante diferenciar los tipos de datos\")\n",
        "lista_2.append(\"es importante diferenciar los tipos de datos\")\n",
        "lista_2.append(\"es importante diferenciar los tipos de datos\")\n",
        "print(lista_2)"
      ],
      "metadata": {
        "id": "aOFVaDrLclMl",
        "outputId": "001569ca-4d31-4022-c369-02b12fe01648",
        "colab": {
          "base_uri": "https://localhost:8080/"
        }
      },
      "execution_count": 65,
      "outputs": [
        {
          "output_type": "stream",
          "name": "stdout",
          "text": [
            "[78, 5.4, 'que molesto este texto', 4261, 3.0, 4, 56, 88.9, 88.9, 88.9, 'es importante diferenciar los tipos de datos', 'es importante diferenciar los tipos de datos', 'es importante diferenciar los tipos de datos']\n"
          ]
        }
      ]
    },
    {
      "cell_type": "code",
      "source": [
        "#Lista_2\n",
        "lista_2 = [78, 5.4, 'que molesto este texto', 4261, 3., 4, 56]\n",
        "\n",
        "lista_2.append([88.9,'es importante diferenciar los tipos de datos']*3)\n",
        "lista_2"
      ],
      "metadata": {
        "id": "cPZX6WFhcZK9",
        "outputId": "e3739f83-71d7-4d58-ec70-31d617e5f5b1",
        "colab": {
          "base_uri": "https://localhost:8080/"
        }
      },
      "execution_count": 64,
      "outputs": [
        {
          "output_type": "execute_result",
          "data": {
            "text/plain": [
              "[78,\n",
              " 5.4,\n",
              " 'que molesto este texto',\n",
              " 4261,\n",
              " 3.0,\n",
              " 4,\n",
              " 56,\n",
              " [88.9,\n",
              "  'es importante diferenciar los tipos de datos',\n",
              "  88.9,\n",
              "  'es importante diferenciar los tipos de datos',\n",
              "  88.9,\n",
              "  'es importante diferenciar los tipos de datos']]"
            ]
          },
          "metadata": {},
          "execution_count": 64
        }
      ]
    },
    {
      "cell_type": "code",
      "source": [
        "#Lista_2\n",
        "lista_2 = [78, 5.4, 'que molesto este texto', 4261, 3., 4, 56]\n",
        "\n",
        "# Anexar a la lista los siguientes datos \n",
        "lista_2.append(88.9)\n",
        "lista_2.append('es importante diferenciar los tipos de datos')\n",
        "\n",
        "#Solución\n",
        "resultado = lista_2 * 3 #esto es más practico que hacer lista_2 + lista_2 + lista_2\n",
        "resultado"
      ],
      "metadata": {
        "id": "nMBNuXbsoepp",
        "colab": {
          "base_uri": "https://localhost:8080/"
        },
        "outputId": "5be4736c-2886-45eb-c62c-102fcc82b14e"
      },
      "execution_count": 66,
      "outputs": [
        {
          "output_type": "execute_result",
          "data": {
            "text/plain": [
              "[78,\n",
              " 5.4,\n",
              " 'que molesto este texto',\n",
              " 4261,\n",
              " 3.0,\n",
              " 4,\n",
              " 56,\n",
              " 88.9,\n",
              " 'es importante diferenciar los tipos de datos',\n",
              " 78,\n",
              " 5.4,\n",
              " 'que molesto este texto',\n",
              " 4261,\n",
              " 3.0,\n",
              " 4,\n",
              " 56,\n",
              " 88.9,\n",
              " 'es importante diferenciar los tipos de datos',\n",
              " 78,\n",
              " 5.4,\n",
              " 'que molesto este texto',\n",
              " 4261,\n",
              " 3.0,\n",
              " 4,\n",
              " 56,\n",
              " 88.9,\n",
              " 'es importante diferenciar los tipos de datos']"
            ]
          },
          "metadata": {},
          "execution_count": 66
        }
      ]
    },
    {
      "cell_type": "markdown",
      "metadata": {
        "id": "oZB4AEdaJZ1d"
      },
      "source": [
        "## Problema 6\n",
        "Escribir un programa que convierta una lista de valores de pesos a otra lista de sus equivalentes en dólares. Utilizar alguno de los muchos tipos de cambio que existen (no importa si es legal o no). Imprima por pantalla los resultados junto algunos strings que expliquen la operación o el programa.\n",
        "\n",
        "\n",
        "\n",
        "**Nota:** guardar los valores de pesos y dolares en distintas variables\n"
      ]
    },
    {
      "cell_type": "code",
      "source": [
        "Lista_de_pesos = [ 200 , 300 , 2000 , 3000 , 10000 , 50000 , 100000 ]\n",
        "\n",
        "Tipo_de_cambio = 400\n",
        "\n",
        "\n",
        "print(Lista_de_pesos[0] * Tipo_de_cambio)\n",
        "print(Lista_de_pesos[1] * Tipo_de_cambio)\n",
        "print(Lista_de_pesos[2] * Tipo_de_cambio)\n",
        "print(Lista_de_pesos[3] * Tipo_de_cambio)\n",
        "print(Lista_de_pesos[4] * Tipo_de_cambio)\n",
        "print(Lista_de_pesos[5] * Tipo_de_cambio)\n",
        "print(Lista_de_pesos[6] * Tipo_de_cambio)"
      ],
      "metadata": {
        "id": "Fo7qSkyVrYll",
        "colab": {
          "base_uri": "https://localhost:8080/"
        },
        "outputId": "ab48aba6-97bf-477d-a0e2-fee41d6f9517"
      },
      "execution_count": 75,
      "outputs": [
        {
          "output_type": "stream",
          "name": "stdout",
          "text": [
            "80000\n",
            "120000\n",
            "800000\n",
            "1200000\n",
            "4000000\n",
            "20000000\n",
            "40000000\n"
          ]
        }
      ]
    },
    {
      "cell_type": "code",
      "source": [
        "#solucion que se olvida de una lista\n",
        "AR=[1,62343200,804320,1000]\n",
        "USD=110.89 #Este valor representa a cuantos pesos equivale un dolar\n",
        "AR[0]=AR[0]/USD\n",
        "AR[1]=AR[1]/USD\n",
        "AR[2]=AR[2]/USD\n",
        "AR[3]=AR[3]/USD\n",
        "\n",
        "print(\"La siguiente lista representa la conversion de los valores 400, 600, 800, 1000  de pesos a dolares\", AR,\"USD\")\n",
        "\n"
      ],
      "metadata": {
        "colab": {
          "base_uri": "https://localhost:8080/"
        },
        "id": "qedO570NuhwU",
        "outputId": "f08435d4-c1e4-4b35-dbb8-e7d96424a3ee"
      },
      "execution_count": 73,
      "outputs": [
        {
          "output_type": "stream",
          "name": "stdout",
          "text": [
            "La siguiente lista representa la conversion de los valores 400, 600, 800, 1000  de pesos a dolares [0.009017945711966813, 562207.5931102894, 7253.314095049148, 9.017945711966814] USD\n"
          ]
        }
      ]
    },
    {
      "cell_type": "code",
      "metadata": {
        "id": "aqI8yM_lKXjx",
        "colab": {
          "base_uri": "https://localhost:8080/"
        },
        "outputId": "48e6e73c-3313-4337-dd93-db46dee6a645"
      },
      "source": [
        "#solucion que se olvida de una lista\n",
        "valorUSD=290\n",
        "lista_pesos=[10000,15000,29000,50000,100000]\n",
        "\n",
        "print(\"Ante una modificación en el valor del dolar cambiamos el importe en valorUSD\")\n",
        "print(\"Valores en Pesos =\",lista_pesos)\n",
        "\n",
        "print(\"El importe en pesos de\",lista_pesos[0],\"equivale a\",lista_pesos[0]/valorUSD,\"dolares\")\n",
        "print(\"El importe en pesos de\",lista_pesos[1],\"equivale a\",lista_pesos[1]/valorUSD,\"dolares\")\n",
        "print(\"El importe en pesos de\",lista_pesos[2],\"equivale a\",lista_pesos[2]/valorUSD,\"dolares\")\n",
        "print(\"El importe en pesos de\",lista_pesos[3],\"equivale a\",lista_pesos[3]/valorUSD,\"dolares\")\n",
        "print(\"El importe en pesos de\",lista_pesos[4],\"equivale a\",lista_pesos[4]/valorUSD,\"dolares\")"
      ],
      "execution_count": null,
      "outputs": [
        {
          "output_type": "stream",
          "name": "stdout",
          "text": [
            "Ante una modificación en el valor del dolar cambiamos el importe en valorUSD\n",
            "Valores en Pesos = [10000, 15000, 29000, 50000, 100000]\n",
            "Convertidos a USD = (34.48275862068966, 51.724137931034484, 100.0, 172.41379310344828, 344.82758620689657)\n",
            "El importe en pesos de 10000 equivale a 34.48275862068966 dolares\n",
            "El importe en pesos de 15000 equivale a 51.724137931034484 dolares\n",
            "El importe en pesos de 29000 equivale a 100.0 dolares\n",
            "El importe en pesos de 50000 equivale a 172.41379310344828 dolares\n",
            "El importe en pesos de 100000 equivale a 344.82758620689657 dolares\n"
          ]
        }
      ]
    },
    {
      "cell_type": "code",
      "source": [
        "#solución posible:\n",
        "tasa_de_cambio= 442.00 #pesos por dólar\n",
        "valores_en_pesos=[10000, 20000, 40000, 60000, 80000, 100000]\n",
        "valores_en_dólares=[]\n",
        "conversión0= round(valores_en_pesos[0]/tasa_de_cambio, 2) \n",
        "conversión1= round(valores_en_pesos[1]/tasa_de_cambio, 2)\n",
        "conversión2= round(valores_en_pesos[2]/tasa_de_cambio, 2)\n",
        "conversión3= round(valores_en_pesos[3]/tasa_de_cambio, 2)\n",
        "conversión4= round(valores_en_pesos[4]/tasa_de_cambio, 2)\n",
        "conversión5= round(valores_en_pesos[5]/tasa_de_cambio, 2)\n",
        "valores_en_dólares.append(conversión0)\n",
        "valores_en_dólares.append(conversión1)\n",
        "valores_en_dólares.append(conversión2)\n",
        "valores_en_dólares.append(conversión3)\n",
        "valores_en_dólares.append(conversión4)\n",
        "valores_en_dólares.append(conversión5)\n",
        "print(\"Los valores en pesos son:\", valores_en_pesos)\n",
        "print(\"La tasa de cambio es:\", tasa_de_cambio)\n",
        "print(\"Los valores de pesos a dólares son:\", valores_en_dólares)"
      ],
      "metadata": {
        "id": "iZ2-ob8L3eK5",
        "outputId": "cb968fd4-5ac5-4ba8-ccfe-af2e8a0230c5",
        "colab": {
          "base_uri": "https://localhost:8080/"
        }
      },
      "execution_count": 71,
      "outputs": [
        {
          "output_type": "stream",
          "name": "stdout",
          "text": [
            "Los valores en pesos son: [10000, 20000, 40000, 60000, 80000, 100000]\n",
            "La tasa de cambio es: 442.0\n",
            "Los valores de pesos a dólares son: [22.62, 45.25, 90.5, 135.75, 181.0, 226.24]\n"
          ]
        }
      ]
    }
  ]
}
{
  "nbformat": 4,
  "nbformat_minor": 0,
  "metadata": {
    "colab": {
      "provenance": [],
      "authorship_tag": "ABX9TyOVqTW9DJDxzOdlmPml945Q",
      "include_colab_link": true
    },
    "kernelspec": {
      "name": "python3",
      "display_name": "Python 3"
    },
    "language_info": {
      "name": "python"
    }
  },
  "cells": [
    {
      "cell_type": "markdown",
      "metadata": {
        "id": "view-in-github",
        "colab_type": "text"
      },
      "source": [
        "<a href=\"https://colab.research.google.com/github/mateosuster/pythonungs/blob/master/pythonungs/codigos/TPs/tp1_errores_comunes.ipynb\" target=\"_parent\"><img src=\"https://colab.research.google.com/assets/colab-badge.svg\" alt=\"Open In Colab\"/></a>"
      ]
    },
    {
      "cell_type": "markdown",
      "metadata": {
        "id": "eLiRPK5bAfFH"
      },
      "source": [
        "# Errores comunes en el Ejercicio Domiciliario de introducción a Python N°1\n"
      ]
    },
    {
      "cell_type": "markdown",
      "metadata": {
        "id": "4pTLMa3c-DfT"
      },
      "source": [
        "\n",
        "\n",
        "## Presentación de la lista\n",
        "\n",
        "A partir de operar únicamente con los valores de las siguientes listas:"
      ]
    },
    {
      "cell_type": "code",
      "metadata": {
        "id": "g7bdrd5_9_7S"
      },
      "source": [
        "# Ejecute estas lineas de código sin modificar\n",
        "lista_1 = [420, 18, 'esto es un string', 5, 6, 7.8, 34, 76,  12, 45, 667, 15, 3.4, 34, 43, 313, 'al fin...', 2, 3, 918] \n",
        "lista_2 = [78, 5.4, 'que molesto este texto', 4261, 3., 4, 56]\n",
        "lista_3 = [60, 2.0, 1, 65, 84.3]"
      ],
      "execution_count": 37,
      "outputs": []
    },
    {
      "cell_type": "markdown",
      "metadata": {
        "id": "4eZXmfIMAIU9"
      },
      "source": [
        "## Problema 1"
      ]
    },
    {
      "cell_type": "markdown",
      "metadata": {
        "id": "p4Z7F4JZ1Qp_"
      },
      "source": [
        "**Recorte y concatene** las listas 1, 2 y 3 (cuantas veces lo considere necesario) de manera tal que el resultado sea una **nueva lista** con los siguientes valores:\n",
        "\n",
        "``` resultado = [1, 2, 3, 4, 5, 6]```\n",
        "\n",
        "<br>\n",
        "\n",
        "\n",
        "\n",
        "**Nota: Utilice slicing** para obtener los subconjuntos de las listas y recuerde que también puede acceder a los últimos valores por medio de índices negativos"
      ]
    },
    {
      "cell_type": "code",
      "source": [
        "print(lista_3[-3], lista_1[-3], lista_1[-2], lista_2[-2], lista_1[3], lista_1[4]) #no se define una nueva lista"
      ],
      "metadata": {
        "colab": {
          "base_uri": "https://localhost:8080/"
        },
        "id": "mC30jlbDVLiI",
        "outputId": "f42d921a-d611-4fce-a6c9-4e596e9e75a4"
      },
      "execution_count": 38,
      "outputs": [
        {
          "output_type": "stream",
          "name": "stdout",
          "text": [
            "1 2 3 4 5 6\n"
          ]
        }
      ]
    },
    {
      "cell_type": "code",
      "source": [
        "print(lista_3[2], lista_1[17:19], lista_2[5], lista_1[3:5]) #no se define una nueva lista"
      ],
      "metadata": {
        "id": "jMr7_wKFpR8A",
        "outputId": "68c468ad-08d8-4563-9908-16059a332516",
        "colab": {
          "base_uri": "https://localhost:8080/"
        }
      },
      "execution_count": 39,
      "outputs": [
        {
          "output_type": "stream",
          "name": "stdout",
          "text": [
            "1 [2, 3] 4 [5, 6]\n"
          ]
        }
      ]
    },
    {
      "cell_type": "code",
      "source": [
        "resultado = [lista_3[-3:-2], lista_1[-3:-2], lista_1[-2:-1], lista_1[3:5]]\n",
        "print(resultado)"
      ],
      "metadata": {
        "colab": {
          "base_uri": "https://localhost:8080/"
        },
        "id": "alAoO0cCVQFM",
        "outputId": "450aa59f-2bbe-4b1d-beeb-f0272a648077"
      },
      "execution_count": 40,
      "outputs": [
        {
          "output_type": "stream",
          "name": "stdout",
          "text": [
            "[[1], [2], [3], [5, 6]]\n"
          ]
        }
      ]
    },
    {
      "cell_type": "code",
      "source": [
        "sublista1=lista_1[-3:-1]\n",
        "sublista2=lista_1[3:5]\n",
        "sublista3=lista_2[5]\n",
        "sublista4=lista_3[-3]\n",
        "\n",
        "resultado= [sublista4] + [sublista1] + [sublista3] + [sublista2]\n",
        "resultado"
      ],
      "metadata": {
        "colab": {
          "base_uri": "https://localhost:8080/"
        },
        "id": "AljGOn8kUMvm",
        "outputId": "737e49ef-1b33-48a1-8fc7-69acc6e58f71"
      },
      "execution_count": 41,
      "outputs": [
        {
          "output_type": "execute_result",
          "data": {
            "text/plain": [
              "[1, [2, 3], 4, [5, 6]]"
            ]
          },
          "metadata": {},
          "execution_count": 41
        }
      ]
    },
    {
      "cell_type": "code",
      "source": [
        "resultado[3][0]"
      ],
      "metadata": {
        "colab": {
          "base_uri": "https://localhost:8080/"
        },
        "id": "upCSdFmQ_wzQ",
        "outputId": "f40e13ef-6b0d-47db-9f21-06d6989ef8e7"
      },
      "execution_count": 42,
      "outputs": [
        {
          "output_type": "execute_result",
          "data": {
            "text/plain": [
              "5"
            ]
          },
          "metadata": {},
          "execution_count": 42
        }
      ]
    },
    {
      "cell_type": "code",
      "metadata": {
        "id": "MooxUT6tx8I_",
        "colab": {
          "base_uri": "https://localhost:8080/"
        },
        "outputId": "2ec115e6-edcd-4836-9342-3c47b2d497da"
      },
      "source": [
        "#Solución:\n",
        "\n",
        "resultado =  lista_3[-3:-2] +  lista_1[-3:-2] +  lista_1[-2:-1] +  lista_1[3:5] \n",
        "print(resultado)\n"
      ],
      "execution_count": 43,
      "outputs": [
        {
          "output_type": "stream",
          "name": "stdout",
          "text": [
            "[1, 2, 3, 5, 6]\n"
          ]
        }
      ]
    },
    {
      "cell_type": "code",
      "source": [
        "#Solucion alternativa (otra de tantas):\n",
        "\n",
        "resultado_2 =  [lista_3[-3]] +  [lista_1[-3]] +  lista_1[-2:-1] +  lista_1[3:5] \n",
        "resultado_2\n",
        "#porque a las 2 primeras listas tengo que usar los corchetes para que se separen?. es decir, si no los uso, directamente los suma. "
      ],
      "metadata": {
        "id": "eeXMGU2aV8kA",
        "outputId": "a22df358-da83-4b5c-83ec-d15e35c8d360",
        "colab": {
          "base_uri": "https://localhost:8080/"
        }
      },
      "execution_count": 44,
      "outputs": [
        {
          "output_type": "execute_result",
          "data": {
            "text/plain": [
              "[1, 2, 3, 5, 6]"
            ]
          },
          "metadata": {},
          "execution_count": 44
        }
      ]
    },
    {
      "cell_type": "code",
      "source": [
        "[lista_3[-3]] +  [lista_1[-3]] "
      ],
      "metadata": {
        "colab": {
          "base_uri": "https://localhost:8080/"
        },
        "id": "djziysXMC86D",
        "outputId": "90b58f93-13ee-4667-ca80-2ca1b769cb88"
      },
      "execution_count": 45,
      "outputs": [
        {
          "output_type": "execute_result",
          "data": {
            "text/plain": [
              "[1, 2]"
            ]
          },
          "metadata": {},
          "execution_count": 45
        }
      ]
    },
    {
      "cell_type": "code",
      "source": [
        "lista_3[-3] +  lista_1[-3]"
      ],
      "metadata": {
        "colab": {
          "base_uri": "https://localhost:8080/"
        },
        "id": "6fGlOVdGCx_I",
        "outputId": "afeedaa6-b188-4d57-e877-a43ea2d283e1"
      },
      "execution_count": 46,
      "outputs": [
        {
          "output_type": "execute_result",
          "data": {
            "text/plain": [
              "3"
            ]
          },
          "metadata": {},
          "execution_count": 46
        }
      ]
    },
    {
      "cell_type": "markdown",
      "metadata": {
        "id": "zCU06VJwHmZ7"
      },
      "source": [
        "## Problema 2\n",
        " ¿Cuál es la diferencia entre acceder a **un único valor** de una lista por medio de un índice de un sólo valor y un slicing? En otras palabras, ¿qué diferencia hay entre, por ejemplo, `lista_1[0:1]` y `lista_1[0]`? ¿Estamos hablando del mismo tipo de dato? \n",
        "\n",
        " **Nota:** ¿Había una función que nos permitía saber qué tipo de dato es una determinada variable? **Sí**\n"
      ]
    },
    {
      "cell_type": "markdown",
      "metadata": {
        "id": "5_apvQUIJu9o"
      },
      "source": [
        "**Escriba la respuesta aquí**:\n",
        "<br>\n",
        ".....\n"
      ]
    },
    {
      "cell_type": "code",
      "source": [
        "print(lista_1)"
      ],
      "metadata": {
        "colab": {
          "base_uri": "https://localhost:8080/"
        },
        "id": "m5nDZ5iBChXe",
        "outputId": "9463fb5a-2e62-4564-b893-1d186c0bae52"
      },
      "execution_count": 47,
      "outputs": [
        {
          "output_type": "stream",
          "name": "stdout",
          "text": [
            "[420, 18, 'esto es un string', 5, 6, 7.8, 34, 76, 12, 45, 667, 15, 3.4, 34, 43, 313, 'al fin...', 2, 3, 918]\n"
          ]
        }
      ]
    },
    {
      "cell_type": "code",
      "source": [
        "print(lista_1[0:1], type(lista_1[0:1]))"
      ],
      "metadata": {
        "colab": {
          "base_uri": "https://localhost:8080/"
        },
        "id": "yDLVcDHMWY91",
        "outputId": "729d4ebf-3ca2-49af-b730-eea64eab41b8"
      },
      "execution_count": 48,
      "outputs": [
        {
          "output_type": "stream",
          "name": "stdout",
          "text": [
            "[420] <class 'list'>\n"
          ]
        }
      ]
    },
    {
      "cell_type": "code",
      "source": [
        "print(lista_1[0], type(lista_1[0]))"
      ],
      "metadata": {
        "colab": {
          "base_uri": "https://localhost:8080/"
        },
        "id": "39VlRy-xWPqu",
        "outputId": "02220895-d493-4f57-9cf6-c71567c2e7d1"
      },
      "execution_count": 49,
      "outputs": [
        {
          "output_type": "stream",
          "name": "stdout",
          "text": [
            "420 <class 'int'>\n"
          ]
        }
      ]
    },
    {
      "cell_type": "markdown",
      "metadata": {
        "id": "yeJS3b9lvW7X"
      },
      "source": [
        "## Problema 3\n",
        "\n",
        "**Modifique** la `lista_3` (lo cual es distinto a *redefinir* la `lista_3`) de modo tal que sus valores queden como sigue:\n",
        "\n",
        "```lista_3 = [4.20, 'usa slicing', 2,  ['lista dentro de lista'], 1 ]```\n"
      ]
    },
    {
      "cell_type": "code",
      "source": [
        "#lista original\n",
        "lista_3 = [60, 2.0, 1, 65, 84.3]\n",
        "\n",
        "#propuesta\n",
        "lista_3 = [4.20, 'usa slicing', 2,  ['lista dentro de lista'], 1 ]\n",
        "lista_3"
      ],
      "metadata": {
        "id": "I0R9F0N90nLX",
        "outputId": "84557c72-15f3-4c06-8b0e-675aae4e8cf6",
        "colab": {
          "base_uri": "https://localhost:8080/"
        }
      },
      "execution_count": 51,
      "outputs": [
        {
          "output_type": "execute_result",
          "data": {
            "text/plain": [
              "[4.2, 'usa slicing', 2, ['lista dentro de lista'], 1]"
            ]
          },
          "metadata": {},
          "execution_count": 51
        }
      ]
    },
    {
      "cell_type": "code",
      "source": [
        "#lista original\n",
        "lista_3 = [60, 2.0, 1, 65, 84.3]\n",
        "\n",
        "#propuesta\n",
        "lista_3[0] = lista_1[0] / 100\n",
        "lista_3[1] = lista_1[1:7]\n",
        "lista_3[2] = 2\n",
        "lista_3[3] = ['lista dentro de lista']\n",
        "lista_3[4] = 1\n",
        "print(lista_3)"
      ],
      "metadata": {
        "id": "zU8TGt54YnYY",
        "outputId": "42cebba3-3665-4c48-e632-0ed3b241cad5",
        "colab": {
          "base_uri": "https://localhost:8080/"
        }
      },
      "execution_count": 52,
      "outputs": [
        {
          "output_type": "stream",
          "name": "stdout",
          "text": [
            "[4.2, [18, 'esto es un string', 5, 6, 7.8, 34], 2, ['lista dentro de lista'], 1]\n"
          ]
        }
      ]
    },
    {
      "cell_type": "code",
      "metadata": {
        "id": "jcATCikVvafY",
        "colab": {
          "base_uri": "https://localhost:8080/"
        },
        "outputId": "7b505511-529e-405a-9444-cd514e111ab0"
      },
      "source": [
        "#lista original\n",
        "lista_3 = [60, 2.0, 1, 65, 84.3]\n",
        "\n",
        "#solucion propuesta\n",
        "lista_3[0] = 4.20\n",
        "lista_3[-4] = 'usa slicing'\n",
        "lista_3[2] = 2\n",
        "lista_3[-2] = ['lista dentro de lista']\n",
        "lista_3[4] = 1\n",
        "print(\"lista_3 =\" , lista_3)\n"
      ],
      "execution_count": 53,
      "outputs": [
        {
          "output_type": "stream",
          "name": "stdout",
          "text": [
            "lista_3 = [4.2, 'usa slicing', 2, ['lista dentro de lista'], 1]\n"
          ]
        }
      ]
    },
    {
      "cell_type": "code",
      "source": [
        "#lista original\n",
        "lista_3 = [60, 2.0, 1, 65, 84.3]\n",
        "\n",
        "#otra solucion propuesta\n",
        "lista_3[0:3] = [4.20, 'usa slicing', 2]\n",
        "lista_3[3] = ['lista dentro de lista']\n",
        "lista_3[4:5] = [1]\n",
        "print(lista_3) \n"
      ],
      "metadata": {
        "id": "YRCAwFDAZ7Sp",
        "outputId": "192cc99c-6e9f-4066-e4ce-c637b96ab78a",
        "colab": {
          "base_uri": "https://localhost:8080/"
        }
      },
      "execution_count": 54,
      "outputs": [
        {
          "output_type": "stream",
          "name": "stdout",
          "text": [
            "[4.2, 'usa slicing', 2, ['lista dentro de lista'], 1]\n"
          ]
        }
      ]
    },
    {
      "cell_type": "code",
      "source": [
        "#lista original\n",
        "lista_3 = [60, 2.0, 1, 65, 84.3]\n",
        "\n",
        "#otra solucion propuesta\n",
        "lista_3[0:5]= 4.20, 'usa slicing', 2, ['lista dentro de lista'], 1 \n",
        "print(lista_3)"
      ],
      "metadata": {
        "id": "3OqQq2NdaE0M",
        "outputId": "b9eaf6af-41fc-43bd-bf6e-e4d70126852d",
        "colab": {
          "base_uri": "https://localhost:8080/"
        }
      },
      "execution_count": 55,
      "outputs": [
        {
          "output_type": "stream",
          "name": "stdout",
          "text": [
            "[4.2, 'usa slicing', 2, ['lista dentro de lista'], 1]\n"
          ]
        }
      ]
    },
    {
      "cell_type": "code",
      "source": [
        "#lista original\n",
        "lista_3 = [60, 2.0, 1, 65, 84.3]\n",
        "\n",
        "#solucion (engorrosa) propuesta\n",
        "lista_3.append( 4.20 )\n",
        "lista_3.append('usa slicing')\n",
        "lista_3.append(2)\n",
        "lista_3.append(['lista dentro de otra lista'])\n",
        "lista_3.append(1)\n",
        "lista_3 = lista_3[5:10]\n",
        "print(lista_3)"
      ],
      "metadata": {
        "id": "ykUu8matZlBo",
        "outputId": "0ca674d8-563d-4d57-9d5c-65df52296e10",
        "colab": {
          "base_uri": "https://localhost:8080/"
        }
      },
      "execution_count": 56,
      "outputs": [
        {
          "output_type": "stream",
          "name": "stdout",
          "text": [
            "[4.2, 'usa slicing', 2, ['lista dentro de otra lista'], 1]\n"
          ]
        }
      ]
    },
    {
      "cell_type": "markdown",
      "metadata": {
        "id": "mWP8jZqaBU7e"
      },
      "source": [
        "## Problema 4\n",
        "\n",
        "Observe el primer valor de la `lista_1` con el primero de la `lista_2`. ¿Cúal es mayor? ¿De qué manera podemos expresar esto algorítmicamente? Escriba un programa que compare ambos valores y devuelva como resultado un tipo de dato booleano (*Verdadero* o *Falso*). Realice lo mismo para el segundo y tercer valor de las listas en cuestión, evaluando si es menor, igual o distinto (elija a gusto).\n",
        "\n",
        "**Nota:** utilice los operadores lógicos (`==`, `!=`, `>=`, etc.)"
      ]
    },
    {
      "cell_type": "code",
      "source": [
        "print(bool(420>78))\n",
        "print(bool(420<78))\n",
        "#podemos observar que el primer valor de la lista1 (420) es mayor al primero de la lista2 (78).\n"
      ],
      "metadata": {
        "id": "2XjfSpQoncOV",
        "colab": {
          "base_uri": "https://localhost:8080/"
        },
        "outputId": "36a7d422-8f9c-4c9d-e2da-e9ca8460845d"
      },
      "execution_count": 57,
      "outputs": [
        {
          "output_type": "stream",
          "name": "stdout",
          "text": [
            "True\n",
            "False\n"
          ]
        }
      ]
    },
    {
      "cell_type": "code",
      "metadata": {
        "id": "FLu-eh2uBU7q",
        "colab": {
          "base_uri": "https://localhost:8080/"
        },
        "outputId": "17a26280-d7bb-4567-becd-1a5f16231efa"
      },
      "source": [
        "#Solución:\n",
        "comparacion = lista_1[0] == lista_2[1]\n",
        "print(comparacion)"
      ],
      "execution_count": 58,
      "outputs": [
        {
          "output_type": "stream",
          "name": "stdout",
          "text": [
            "False\n"
          ]
        }
      ]
    },
    {
      "cell_type": "code",
      "source": [
        "#Solucion simple, pero no muy explicita\n",
        "lista_1 >= lista_2"
      ],
      "metadata": {
        "id": "xdHPJk_TajXr",
        "outputId": "7aea8e26-6fdb-435a-d531-72b694696bde",
        "colab": {
          "base_uri": "https://localhost:8080/"
        }
      },
      "execution_count": 59,
      "outputs": [
        {
          "output_type": "execute_result",
          "data": {
            "text/plain": [
              "True"
            ]
          },
          "metadata": {},
          "execution_count": 59
        }
      ]
    },
    {
      "cell_type": "code",
      "source": [
        "#solucion utilizando if\n",
        "if lista_1[2] > lista_2[2] :\n",
        "  print ('Verdadero')"
      ],
      "metadata": {
        "id": "paOud16KbHl3"
      },
      "execution_count": 60,
      "outputs": []
    },
    {
      "cell_type": "code",
      "source": [
        "#solucion utilizando input() function\n",
        "\n",
        "pos=input(\"Introduce un valor:\")\n",
        "pos=int(pos)\n",
        "\n",
        "lista_1[pos]==lista_2[pos]"
      ],
      "metadata": {
        "id": "kM3Tpo4yo6pc",
        "colab": {
          "base_uri": "https://localhost:8080/"
        },
        "outputId": "28355e35-f9ac-4a55-c9ca-0d0aa2d173e4"
      },
      "execution_count": 61,
      "outputs": [
        {
          "name": "stdout",
          "output_type": "stream",
          "text": [
            "Introduce un valor:1\n"
          ]
        },
        {
          "output_type": "execute_result",
          "data": {
            "text/plain": [
              "False"
            ]
          },
          "metadata": {},
          "execution_count": 61
        }
      ]
    },
    {
      "cell_type": "markdown",
      "metadata": {
        "id": "xbglQxrFKEk_"
      },
      "source": [
        "## Problema 5\n",
        "\n",
        "Anexe los datos `88.9` y `'es importante diferenciar los tipos de datos'` al final de la `lista_2` y **repita los valores de la lista** resultante 3 veces.\n",
        "\n",
        "**Nota:** Utilice la función que permite *appendear* (adjuntar) datos al final de una lista"
      ]
    },
    {
      "cell_type": "code",
      "source": [
        "#Lista_2\n",
        "lista_2 = [78, 5.4, 'que molesto este texto', 4261, 3., 4, 56]\n",
        "\n",
        "lista_2.append(88.9)\n",
        "lista_2.append(88.9)\n",
        "lista_2.append(88.9)\n",
        "lista_2.append(\"es importante diferenciar los tipos de datos\")\n",
        "lista_2.append(\"es importante diferenciar los tipos de datos\")\n",
        "lista_2.append(\"es importante diferenciar los tipos de datos\")\n",
        "print(lista_2)"
      ],
      "metadata": {
        "id": "aOFVaDrLclMl",
        "outputId": "83a13831-b6f9-4ff5-a316-ef83b8b997ce",
        "colab": {
          "base_uri": "https://localhost:8080/"
        }
      },
      "execution_count": 62,
      "outputs": [
        {
          "output_type": "stream",
          "name": "stdout",
          "text": [
            "[78, 5.4, 'que molesto este texto', 4261, 3.0, 4, 56, 88.9, 88.9, 88.9, 'es importante diferenciar los tipos de datos', 'es importante diferenciar los tipos de datos', 'es importante diferenciar los tipos de datos']\n"
          ]
        }
      ]
    },
    {
      "cell_type": "code",
      "source": [
        "#Lista_2\n",
        "lista_2 = [78, 5.4, 'que molesto este texto', 4261, 3., 4, 56]\n",
        "\n",
        "lista_2.append([88.9,'es importante diferenciar los tipos de datos']*3)\n",
        "lista_2"
      ],
      "metadata": {
        "id": "cPZX6WFhcZK9",
        "outputId": "0b03a682-7897-4d44-c941-4bc1a3e5b5ac",
        "colab": {
          "base_uri": "https://localhost:8080/"
        }
      },
      "execution_count": 26,
      "outputs": [
        {
          "output_type": "execute_result",
          "data": {
            "text/plain": [
              "[78,\n",
              " 5.4,\n",
              " 'que molesto este texto',\n",
              " 4261,\n",
              " 3.0,\n",
              " 4,\n",
              " 56,\n",
              " [88.9,\n",
              "  'es importante diferenciar los tipos de datos',\n",
              "  88.9,\n",
              "  'es importante diferenciar los tipos de datos',\n",
              "  88.9,\n",
              "  'es importante diferenciar los tipos de datos']]"
            ]
          },
          "metadata": {},
          "execution_count": 26
        }
      ]
    },
    {
      "cell_type": "code",
      "source": [
        "#Lista_2\n",
        "lista_2 = [78, 5.4, 'que molesto este texto', 4261, 3., 4, 56]\n",
        "\n",
        "# Anexar a la lista los siguientes datos \n",
        "lista_2.append(88.9)\n",
        "lista_2.append('es importante diferenciar los tipos de datos')\n",
        "\n",
        "#Solución\n",
        "resultado = lista_2 * 3 #esto es más practico que hacer lista_2 + lista_2 + lista_2\n",
        "resultado"
      ],
      "metadata": {
        "id": "nMBNuXbsoepp",
        "colab": {
          "base_uri": "https://localhost:8080/"
        },
        "outputId": "4617b7d3-6bed-453b-9c71-0a39df152d9b"
      },
      "execution_count": 63,
      "outputs": [
        {
          "output_type": "execute_result",
          "data": {
            "text/plain": [
              "[78,\n",
              " 5.4,\n",
              " 'que molesto este texto',\n",
              " 4261,\n",
              " 3.0,\n",
              " 4,\n",
              " 56,\n",
              " 88.9,\n",
              " 'es importante diferenciar los tipos de datos',\n",
              " 78,\n",
              " 5.4,\n",
              " 'que molesto este texto',\n",
              " 4261,\n",
              " 3.0,\n",
              " 4,\n",
              " 56,\n",
              " 88.9,\n",
              " 'es importante diferenciar los tipos de datos',\n",
              " 78,\n",
              " 5.4,\n",
              " 'que molesto este texto',\n",
              " 4261,\n",
              " 3.0,\n",
              " 4,\n",
              " 56,\n",
              " 88.9,\n",
              " 'es importante diferenciar los tipos de datos']"
            ]
          },
          "metadata": {},
          "execution_count": 63
        }
      ]
    },
    {
      "cell_type": "markdown",
      "metadata": {
        "id": "oZB4AEdaJZ1d"
      },
      "source": [
        "## Problema 6\n",
        "Escribir un programa que convierta una lista de valores de pesos a otra lista de sus equivalentes en dólares. Utilizar alguno de los muchos tipos de cambio que existen (no importa si es legal o no). Imprima por pantalla los resultados junto algunos strings que expliquen la operación o el programa.\n",
        "\n",
        "\n",
        "\n",
        "**Nota:** guardar los valores de pesos y dolares en distintas variables\n"
      ]
    },
    {
      "cell_type": "code",
      "source": [
        "Lista_de_pesos = [ 200 , 300 , 2000 , 3000 , 10000 , 50000 , 100000 ]\n",
        "\n",
        "Tipo_de_cambio = 400\n",
        "\n",
        "\n",
        "print(Lista_de_pesos[0] * Tipo_de_cambio)\n",
        "print(Lista_de_pesos[1] * Tipo_de_cambio)\n",
        "print(Lista_de_pesos[2] * Tipo_de_cambio)\n",
        "print(Lista_de_pesos[3] * Tipo_de_cambio)\n",
        "print(Lista_de_pesos[4] * Tipo_de_cambio)\n",
        "print(Lista_de_pesos[5] * Tipo_de_cambio)\n",
        "print(Lista_de_pesos[6] * Tipo_de_cambio)"
      ],
      "metadata": {
        "id": "Fo7qSkyVrYll",
        "colab": {
          "base_uri": "https://localhost:8080/"
        },
        "outputId": "92a9a3cf-59a9-4e99-8545-e893e3c14b67"
      },
      "execution_count": 28,
      "outputs": [
        {
          "output_type": "stream",
          "name": "stdout",
          "text": [
            "80000\n",
            "120000\n",
            "800000\n",
            "1200000\n",
            "4000000\n",
            "20000000\n",
            "40000000\n"
          ]
        }
      ]
    },
    {
      "cell_type": "code",
      "source": [
        "#solucion que se olvida de una lista\n",
        "AR=[400, 600, 800, 1000]\n",
        "USD=110.89 #Este valor representa a cuantos pesos equivale un dolar\n",
        "AR[0]=AR[0]/USD\n",
        "AR[1]=AR[1]/USD\n",
        "AR[2]=AR[2]/USD\n",
        "AR[3]=AR[3]/USD\n",
        "\n",
        "print(\"La siguiente lista representa la conversion de los valores 400, 600, 800, 1000  de pesos a dolares\", AR,\"USD\")\n",
        "\n"
      ],
      "metadata": {
        "colab": {
          "base_uri": "https://localhost:8080/"
        },
        "id": "qedO570NuhwU",
        "outputId": "7d5f72da-8a32-4e9d-936b-84e3507102e0"
      },
      "execution_count": 65,
      "outputs": [
        {
          "output_type": "stream",
          "name": "stdout",
          "text": [
            "La siguiente lista representa la conversion de los valores 400, 600, 800, 1000  de pesos a dolares [3.6071782847867255, 5.4107674271800885, 7.214356569573451, 9.017945711966814] USD\n"
          ]
        }
      ]
    },
    {
      "cell_type": "code",
      "metadata": {
        "id": "aqI8yM_lKXjx",
        "colab": {
          "base_uri": "https://localhost:8080/"
        },
        "outputId": "5db26689-fc29-4bd8-a0d3-1a8ab568fa79"
      },
      "source": [
        "#solucion que se olvida de una lista\n",
        "valorUSD=290\n",
        "lista_pesos=[10000,15000,29000,50000,100000]\n",
        "\n",
        "print(\"Ante una modificación en el valor del dolar cambiamos el importe en valorUSD\")\n",
        "print(\"Valores en Pesos =\",lista_pesos)\n",
        "\n",
        "print(\"El importe en pesos de\",lista_pesos[0],\"equivale a\",lista_pesos[0]/valorUSD,\"dolares\")\n",
        "print(\"El importe en pesos de\",lista_pesos[1],\"equivale a\",lista_pesos[1]/valorUSD,\"dolares\")\n",
        "print(\"El importe en pesos de\",lista_pesos[2],\"equivale a\",lista_pesos[2]/valorUSD,\"dolares\")\n",
        "print(\"El importe en pesos de\",lista_pesos[3],\"equivale a\",lista_pesos[3]/valorUSD,\"dolares\")\n",
        "print(\"El importe en pesos de\",lista_pesos[4],\"equivale a\",lista_pesos[4]/valorUSD,\"dolares\")"
      ],
      "execution_count": 66,
      "outputs": [
        {
          "output_type": "stream",
          "name": "stdout",
          "text": [
            "Ante una modificación en el valor del dolar cambiamos el importe en valorUSD\n",
            "Valores en Pesos = [10000, 15000, 29000, 50000, 100000]\n",
            "El importe en pesos de 10000 equivale a 34.48275862068966 dolares\n",
            "El importe en pesos de 15000 equivale a 51.724137931034484 dolares\n",
            "El importe en pesos de 29000 equivale a 100.0 dolares\n",
            "El importe en pesos de 50000 equivale a 172.41379310344828 dolares\n",
            "El importe en pesos de 100000 equivale a 344.82758620689657 dolares\n"
          ]
        }
      ]
    },
    {
      "cell_type": "code",
      "source": [
        "#solución posible:\n",
        "tasa_de_cambio= 442.00 #pesos por dólar\n",
        "valores_en_pesos=[10000, 20000, 40000, 60000, 80000, 100000]\n",
        "valores_en_dólares=[]\n",
        "conversión0= round(valores_en_pesos[0]/tasa_de_cambio, 2) \n",
        "conversión1= round(valores_en_pesos[1]/tasa_de_cambio, 2)\n",
        "conversión2= round(valores_en_pesos[2]/tasa_de_cambio, 2)\n",
        "conversión3= round(valores_en_pesos[3]/tasa_de_cambio, 2)\n",
        "conversión4= round(valores_en_pesos[4]/tasa_de_cambio, 2)\n",
        "conversión5= round(valores_en_pesos[5]/tasa_de_cambio, 2)\n",
        "valores_en_dólares.append(conversión0)\n",
        "valores_en_dólares.append(conversión1)\n",
        "valores_en_dólares.append(conversión2)\n",
        "valores_en_dólares.append(conversión3)\n",
        "valores_en_dólares.append(conversión4)\n",
        "valores_en_dólares.append(conversión5)\n",
        "print(\"Los valores en pesos son:\", valores_en_pesos)\n",
        "print(\"La tasa de cambio es:\", tasa_de_cambio)\n",
        "print(\"Los valores de pesos a dólares son:\", valores_en_dólares)"
      ],
      "metadata": {
        "id": "iZ2-ob8L3eK5",
        "outputId": "8f03e5d2-73e5-4ec2-aa42-c9c2d389c8e7",
        "colab": {
          "base_uri": "https://localhost:8080/"
        }
      },
      "execution_count": 67,
      "outputs": [
        {
          "output_type": "stream",
          "name": "stdout",
          "text": [
            "Los valores en pesos son: [10000, 20000, 40000, 60000, 80000, 100000]\n",
            "La tasa de cambio es: 442.0\n",
            "Los valores de pesos a dólares son: [22.62, 45.25, 90.5, 135.75, 181.0, 226.24]\n"
          ]
        }
      ]
    }
  ]
}
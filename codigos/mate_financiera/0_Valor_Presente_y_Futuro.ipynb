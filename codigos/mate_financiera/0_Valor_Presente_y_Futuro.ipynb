{
  "nbformat": 4,
  "nbformat_minor": 0,
  "metadata": {
    "colab": {
      "name": "MPE III - Valor Presente y Futuro.ipynb",
      "provenance": [],
      "collapsed_sections": [],
      "authorship_tag": "ABX9TyP6fGiHY1XzWM/xBiRmlVXS",
      "include_colab_link": true
    },
    "kernelspec": {
      "name": "python3",
      "display_name": "Python 3"
    },
    "language_info": {
      "name": "python"
    }
  },
  "cells": [
    {
      "cell_type": "markdown",
      "metadata": {
        "id": "view-in-github",
        "colab_type": "text"
      },
      "source": [
        "<a href=\"https://colab.research.google.com/github/mateosuster/pythonungs/blob/master/codigos/mate_financiera/0_Valor_Presente_y_Futuro.ipynb\" target=\"_parent\"><img src=\"https://colab.research.google.com/assets/colab-badge.svg\" alt=\"Open In Colab\"/></a>"
      ]
    },
    {
      "cell_type": "markdown",
      "metadata": {
        "id": "M516MqmRG3HB"
      },
      "source": [
        "# Conceptos básicos de Matemática Financiera"
      ]
    },
    {
      "cell_type": "markdown",
      "metadata": {
        "id": "wfNhzr_SKC73"
      },
      "source": [
        "A continuación se presenta una programación de conceptos básicos de matemática financiera en Python.\n",
        "\n",
        "Una noción fundamental que está detrás de estos desarrollos es la idea de poder comparar flujos de dinero en distintos momentos del tiempo. Para ello, utilizaremos el **valor presente** y **valor futuro**.\n",
        "\n",
        "* ¿Cuál es el valor equivalente de $X hoy en el futuro? El **Valor Futuro** utiliza la *capitalización* para calcular cuánto valdrán los flujos efectivo de hoy en algún momento del futuro (o cuál será el valor final de una inversión)\n",
        "\n",
        "* ¿Cuál es el valor hoy de tener flujos de $X en el futuro? ¿Cuánto valen hoy esas promesas de pago? El **Valor Presente** utiliza el *descuento* para calcular cuánto valen los flujos efectivo hoy (o cuál es el valor que debería invertirse hoy)\n",
        "\n",
        "<br>\n",
        "\n",
        "La formulación matemática de estos conceptos es la siguiente:\n",
        "\n",
        "<br>\n",
        "\n",
        "$$VF = VP (1+i)^{n}$$\n",
        "<br>\n",
        "$$VP = \\frac{VF}{ (1+i)^{n}}$$\n",
        "\n",
        "Donde:\n",
        "* $VF$ : Valor futuro\n",
        "* $VP$: Valor presente\n",
        "* $i$: interés\n",
        "* $n$: número de períodos\n",
        "\n",
        "<br>\n",
        "\n",
        "Para realizar estos cálculos, utilizaremos el [paquete financiero de numpy](https://numpy.org/numpy-financial/latest/), el cual ya tiene cargadas las funciones necesarias.\n",
        "\n",
        "\n"
      ]
    },
    {
      "cell_type": "markdown",
      "metadata": {
        "id": "tjLMASAaize0"
      },
      "source": [
        "![picture](https://www.principlesofaccounting.com/wp-content/gallery/Chapter-24/presentvalueordinary.png)"
      ]
    },
    {
      "cell_type": "code",
      "metadata": {
        "id": "Ij65glZIiGD_"
      },
      "source": [
        "#instalamos el paquete\n",
        "!pip install numpy_financial"
      ],
      "execution_count": null,
      "outputs": []
    },
    {
      "cell_type": "markdown",
      "metadata": {
        "id": "GwyR_UVhlvX_"
      },
      "source": [
        "## Valor Futuro\n",
        "\n",
        "¿Cuál es el valor futuro de $1000 en tres años con una tasa de interés del 6% anual?"
      ]
    },
    {
      "cell_type": "code",
      "metadata": {
        "id": "fBauj_tWG3lC"
      },
      "source": [
        "# importando librerías\n",
        "import numpy_financial as npf\n",
        "\n",
        "x = -1000  # deposito (ojo con el signo)\n",
        "r = .06    # tasa de interes\n",
        "n = 3      # cantidad de años\n",
        "\n",
        "# usando la funcion fv de numpy\n",
        "FV = npf.fv(pv=x, rate=r, nper=n, pmt=0)\n",
        "FV\n"
      ],
      "execution_count": null,
      "outputs": []
    },
    {
      "cell_type": "markdown",
      "metadata": {
        "id": "YRGSg2DxyIiT"
      },
      "source": [
        "Es importante tener en cuenta que, por convención, los signos negativos representan un flujo de cash flow saliente, por ejemplo un depósito, inversión, ahorro o dinero no disponible hoy en día (*cash outflow*). Al contrario, los cobros, ganancias o flujos positivos, quedan con signo positivo (*cash inflow*)"
      ]
    },
    {
      "cell_type": "code",
      "metadata": {
        "id": "DK_uVvAgh2je"
      },
      "source": [
        "# controlamos el resultado\n",
        "-x * (1 + r)**n"
      ],
      "execution_count": null,
      "outputs": []
    },
    {
      "cell_type": "code",
      "metadata": {
        "id": "cR83uLqFf5mw"
      },
      "source": [
        "npf.fv?"
      ],
      "execution_count": null,
      "outputs": []
    },
    {
      "cell_type": "markdown",
      "metadata": {
        "id": "EGENprgLqoEu"
      },
      "source": [
        "Repasemos los parámetros de esta función:\n",
        "\n",
        "* `pv`  es valor presente de nuestra inversión \n",
        "* `rate` es la tasa efectiva de interés que nos rendirá la inversión (o anualidad) por cada período.\n",
        "* `nper`  es el número de períodos. Tener en cuenta que si aquí estamos utilizando como unidad de medida de años, nuestra tasa de interés deberá estar expresada en la misma unidad.\n",
        "* `pmt` es el valor de los depósitos que vamos a ir invirtiendo en caso de existir una anualidad. El importe tiene que ser ingresado en negativo, dado que refleja una salida de dinero.\n",
        "* `when` (opcional) indica cuándo se hace efectivo el flujo de dinero. Como sabemos, el resultado puede ser muy distinto cuando se trate, por ejemplo, de un depósito al comienzo o al final de cada período. Por default, la función es igual tiene seteado este parámetro en función de una anualidad ordinaria, lo cual se expresa como {‘end’, 0}, pero se puede cambiar por {‘begin’, 1} para el calculo de la anualidad anticipada. "
      ]
    },
    {
      "cell_type": "markdown",
      "metadata": {
        "id": "rasgH2A9pcMU"
      },
      "source": [
        "Veamos una visualización de algunos resultados"
      ]
    },
    {
      "cell_type": "code",
      "metadata": {
        "id": "OZEz459Kl835"
      },
      "source": [
        "# Graficando las funciones de valor futuro con interes de 6 y 12 % a 20 años.\n",
        "\n",
        "def fv_r(num, r):\n",
        "    return npf.fv(pv=-1000, rate=r, pmt=0, nper=num) \n",
        "\n",
        "t = list(range(0, 21)) #lista de valores de 0 a 20\n"
      ],
      "execution_count": null,
      "outputs": []
    },
    {
      "cell_type": "code",
      "metadata": {
        "id": "llYldSwhmL0O"
      },
      "source": [
        "import matplotlib.pyplot as plt\n",
        "\n",
        "plt.suptitle(\"Valor Futuro de $1000\")\n",
        "plt.title(\"Con tasa de interés de 6 y 12 %\")\n",
        "plt.plot(t, fv_r(num = t, r=.06), label=\"interes 6 %\")\n",
        "plt.plot(t, fv_r(num = t, r=.12), label=\"interes 12 %\")\n",
        "plt.legend(loc='upper left')\n",
        "plt.show()"
      ],
      "execution_count": null,
      "outputs": []
    },
    {
      "cell_type": "markdown",
      "metadata": {
        "id": "OcA7IwuKG38M"
      },
      "source": [
        "## Valor Presente\n",
        "\n",
        "¿Cuál es la inversión inicial que tenemos que hacer hoy para obtener $1000 en tres meses? Asumiendo una tasa del 6% anual "
      ]
    },
    {
      "cell_type": "code",
      "metadata": {
        "id": "48qQISCQG4E_"
      },
      "source": [
        "fv = -1000  # valor futuro\n",
        "r = .06   # tasa de interes anual\n",
        "n = 3     # cantidad de meses\n",
        "\n",
        "PV = npf.pv(fv=fv, rate= r/12, nper=n, pmt=0)\n",
        "PV"
      ],
      "execution_count": null,
      "outputs": []
    },
    {
      "cell_type": "code",
      "metadata": {
        "id": "QJ_u-gdUtg8F"
      },
      "source": [
        "#chequeamos el resultado\n",
        "-fv / ((1 + r/12)**n)"
      ],
      "execution_count": null,
      "outputs": []
    },
    {
      "cell_type": "code",
      "metadata": {
        "id": "4YjtzdVKBPkz"
      },
      "source": [
        "x = 1\n",
        "\n",
        "def pv_r(num, r):\n",
        "    return npf.pv(fv=-x, rate=r, pmt=0, nper=num)    \n",
        "\n",
        "t = list(range(0, 11)) #lista de valores de 0 a 10\n"
      ],
      "execution_count": null,
      "outputs": []
    },
    {
      "cell_type": "code",
      "metadata": {
        "id": "j_eT0nnVBPk1"
      },
      "source": [
        "import matplotlib.pyplot as plt\n",
        "\n",
        "plt.suptitle(\"Valor Presente de $1\")\n",
        "plt.title(\"Con distintas tasas de interés\")\n",
        "plt.plot(t, pv_r(num =t, r = 0), label=\"0%\")\n",
        "plt.plot(t, pv_r(num =t, r = 0.05 ), label=\"5%\")\n",
        "plt.plot(t, pv_r(num =t, r = 0.15), label=\"15%\")\n",
        "plt.plot(t, pv_r(num =t, r = 0.2), label=\"20%\")\n",
        "plt.xlabel(\"Tiempo\")\n",
        "plt.legend(loc='best')\n",
        "plt.show()"
      ],
      "execution_count": null,
      "outputs": []
    },
    {
      "cell_type": "markdown",
      "metadata": {
        "id": "APodkfep1zWM"
      },
      "source": [
        "Podemos usar el ciclo `for` para emprolijar el código "
      ]
    },
    {
      "cell_type": "code",
      "metadata": {
        "id": "CpiLChbZubpm"
      },
      "source": [
        "import matplotlib.pyplot as plt\n",
        "\n",
        "plt.suptitle(\"Valor Presente de $1\")\n",
        "plt.title(\"Con distintas tasas de interés\")\n",
        "\n",
        "for i, label in zip([0, 0.05,.15,.2], [\"0%\",\"5%\",\"15%\",\"20%\" ] ):\n",
        "  plt.plot(t, pv_r(num =t, r = i), label=label)\n",
        "\n",
        "plt.legend(loc=\"best\")\n",
        "plt.xlabel(\"Tiempo\")\n",
        "plt.show()"
      ],
      "execution_count": null,
      "outputs": []
    },
    {
      "cell_type": "markdown",
      "metadata": {
        "id": "1dX_w3RRpCeh"
      },
      "source": [
        "## Anualidades\n",
        "\n",
        "Las **anualidades** son un flujo de efectivo periódico y regular. Se diferencian en *ordinarias* o *anticipadas* según el flujo de efectivo ocurra al final o al inicio del período.\n",
        "\n",
        "En el caso del valor futuro, la idea de las anualidades es no sólo quedarse con el cálculo simple de cuánto me va a rendir un sólo deposito inicial a fin de un período, sino también poder **calcular el valor futuro de múltiples depósitos** a una misma tasa de interés. \n",
        "\n",
        "<br>\n",
        "<br>\n",
        "\n",
        "\n",
        "$$VF_{anualidad} = FE\\ \\   \\mathbf{*}\\{\\frac{(1+i)^n-1}{i}\\}$$\n",
        "\n",
        "donde,\n",
        "* $FE$ es el flujo de efectivo\n",
        "<br>\n",
        "<br>\n",
        "\n",
        "\n",
        "Por ejemplo, queremos hacer 10 depósitos anuales de $1000 cada uno, los cuales vamos a ir realizando al final de cada año (anualidad ordinaria). ¿Cuál sería en este caso el valor futuro de nuestra anualidad luego del décimo año? Comenzamos con un valor presente de cero y suponemos una tasa de interés del 36%\n",
        "\n"
      ]
    },
    {
      "cell_type": "code",
      "metadata": {
        "id": "62ixin2EpBwB"
      },
      "source": [
        "# Calculando el valor de la anualidad ordinaria con 36% anual\n",
        "\n",
        "x = -1000 # valor de depositos\n",
        "r = .36   # tasa de interes\n",
        "n = 10    # cantidad de años\n",
        "\n",
        "FV = npf.fv(pv=0, rate=r, nper=n, pmt=x,  when='end')\n",
        "FV"
      ],
      "execution_count": null,
      "outputs": []
    },
    {
      "cell_type": "code",
      "metadata": {
        "id": "4bn0ipsun-Li"
      },
      "source": [
        "#recordemos que por default, la funcion realiza el cálculo de la anualidad ordinaria (when = 0)\n",
        "npf.fv(pv=0, rate=r, nper=n, pmt=x)"
      ],
      "execution_count": null,
      "outputs": []
    },
    {
      "cell_type": "markdown",
      "metadata": {
        "id": "_9l1fy5PsXsQ"
      },
      "source": [
        "Si se tratara de una anualidad anticipada, los depósitos se realizarían al inicio del período (`when` = 'begin'), el valor es mayor por las ganancias relativas de interés que vamos teniendo al realizar los depósitos al principio de cada período en lugar de al final (no olvideis una de las grandes máximas fetichistas: *el tiempo es dinero!*)."
      ]
    },
    {
      "cell_type": "code",
      "metadata": {
        "id": "7nOYiySWsK0f"
      },
      "source": [
        "# mismo caso pero con la diferencia de que los depositos se realizan al inicio de cada período.\n",
        "FV = npf.fv(pv=0, rate=r, nper=n, pmt=x, when='begin')\n",
        "FV"
      ],
      "execution_count": null,
      "outputs": []
    },
    {
      "cell_type": "markdown",
      "metadata": {
        "id": "L9BbjMU3sLhr"
      },
      "source": [
        "Las anualidades también pueden encontrarse en el **valor presente**. En este caso, inverso al anterior, tenemos una serie de pagos que recibiremos, y el valor presente de la anualidad nos dirá cuál es el valor que tienen hoy esos pagos futuros. \n",
        "\n",
        "<br>\n",
        "<br>\n",
        "\n",
        "\n",
        "$$VP_{anualidad} = \\frac{FE}{i} *[ 1- \\frac{1}{(1+i)^n}]$$\n",
        "\n",
        "donde,\n",
        "* $FE$ es el flujo de efectivo\n",
        "<br>\n",
        "<br>\n",
        "\n",
        "\n",
        "Así, por ejemplo, si mi tíe en lugar de regalarme USD 10000 dentro de 4 años, decide dar USD 2500 al final de cada año durante 4 años, asumiendo la misma tasa de interés que nos ofrece el banco de 8% anual, el valor presente de esta anualidad se calcula como sigue:"
      ]
    },
    {
      "cell_type": "code",
      "metadata": {
        "id": "ixkLrPpJ6cGC"
      },
      "source": [
        "PV = npf.pv(fv=0, rate=0.08, nper=4, pmt=-2500, when='end')\n",
        "PV"
      ],
      "execution_count": null,
      "outputs": []
    },
    {
      "cell_type": "markdown",
      "metadata": {
        "id": "bYhVtgO-0Lq1"
      },
      "source": [
        "#  Ejercicios"
      ]
    },
    {
      "cell_type": "markdown",
      "metadata": {
        "id": "lCVK8PlN1_JM"
      },
      "source": [
        "## Instrumento random \n",
        "\n",
        "¿Cuál es el valor presente de un instrumento financiero argentino random que nos promete cinco pagos anuales de $700, si la tasa de interés que rige es del 8% anual"
      ]
    },
    {
      "cell_type": "code",
      "metadata": {
        "id": "gshL9srp6CI4"
      },
      "source": [
        ""
      ],
      "execution_count": null,
      "outputs": []
    },
    {
      "cell_type": "markdown",
      "metadata": {
        "id": "L1c4ZoKX6Cm4"
      },
      "source": [
        "## Valor futuro de algún monto \n",
        "\n",
        "¿Cuál es el valor futuro de $70000 luego de 9 meses, existiendo una tasa de interés anual del 38% que se computa mensualmente? Grafique como evoluciona ese valor futuro en muchos períodos el tiempo"
      ]
    },
    {
      "cell_type": "code",
      "metadata": {
        "id": "49dJMqYS1_wa"
      },
      "source": [
        ""
      ],
      "execution_count": null,
      "outputs": []
    },
    {
      "cell_type": "markdown",
      "metadata": {
        "id": "gQPu90Qn7BRb"
      },
      "source": [
        "## Alquiler\n",
        "\n",
        "Un gran propietario de departamentos de Palermo, le pide a usted que calcule el valor presente de los pagos de $50000 que le realizará uno de sus inquilinos durante los próximos 37 meses (es un contrato medio extraño). La tasa de interés es del 20% anual\n",
        " "
      ]
    },
    {
      "cell_type": "code",
      "metadata": {
        "id": "yGd1Sq5b8jN6"
      },
      "source": [
        ""
      ],
      "execution_count": null,
      "outputs": []
    },
    {
      "cell_type": "markdown",
      "metadata": {
        "id": "SUZzIgdc0OIg"
      },
      "source": [
        "## Inversión inicial con ahorros (anualidades)\n",
        "\n",
        "¿Cuál es el valor presente de una inversión que busca obtener un total de \\$15692.93 luego de 10 años? Asumiendo que la tasa de interés es del 5% anual (pero se computa mensualmente) y que todos los meses podemos ahorrar $100 (anualidad)"
      ]
    },
    {
      "cell_type": "code",
      "metadata": {
        "id": "FGT0ih1i1-h_"
      },
      "source": [
        ""
      ],
      "execution_count": null,
      "outputs": []
    },
    {
      "cell_type": "markdown",
      "metadata": {
        "id": "2700RoJl9A2C"
      },
      "source": [
        "## Valor futuro con ahorros\n",
        "\n",
        "¿Cuál es el valor futuro de los ahorros de un jubilade que hoy valen  \\$100, luego de depositarlos durante 10 años, al cual le agrega un ahorro adicional de $50 todos los meses? Asuma que la tasa de interés es del 5% anual y se contabiliza mensualmente"
      ]
    },
    {
      "cell_type": "code",
      "metadata": {
        "id": "-ng8FBMQ9BIG"
      },
      "source": [
        ""
      ],
      "execution_count": null,
      "outputs": []
    },
    {
      "cell_type": "markdown",
      "metadata": {
        "id": "Sbc6o8OXEfnS"
      },
      "source": [
        "## Loop con tasas\n",
        "\n",
        "Construya un ciclo while aplicado en alguna de las funciones anteriores. Elija alguno de los parámetros sobre los cuales iterar con una lista de valores (de intereses, períodos, montos, valores futuros, presentes, etc.)"
      ]
    },
    {
      "cell_type": "code",
      "metadata": {
        "id": "3lRxMJ8WEf08"
      },
      "source": [
        ""
      ],
      "execution_count": null,
      "outputs": []
    },
    {
      "cell_type": "markdown",
      "metadata": {
        "id": "TaebEEfwNdnB"
      },
      "source": [
        "## Comparación gráfica de anualidad ordinaria vs anticipada\n",
        "\n",
        "Compare en un mismo gráfico, el valor futuro de dos anualidades con el mismo monto, tasa y período, pero que se diferencian por ser ordinaria y anticipada"
      ]
    },
    {
      "cell_type": "code",
      "metadata": {
        "id": "zV_DLvgtNdnE"
      },
      "source": [
        ""
      ],
      "execution_count": null,
      "outputs": []
    }
  ]
}
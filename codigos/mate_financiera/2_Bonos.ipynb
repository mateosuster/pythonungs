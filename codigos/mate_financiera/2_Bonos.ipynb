{
  "nbformat": 4,
  "nbformat_minor": 0,
  "metadata": {
    "colab": {
      "name": "MPE III - Bonos",
      "provenance": [],
      "collapsed_sections": [],
      "authorship_tag": "ABX9TyN5rz+ojle+q/GJCjywULVg",
      "include_colab_link": true
    },
    "kernelspec": {
      "name": "python3",
      "display_name": "Python 3"
    },
    "language_info": {
      "name": "python"
    }
  },
  "cells": [
    {
      "cell_type": "markdown",
      "metadata": {
        "id": "view-in-github",
        "colab_type": "text"
      },
      "source": [
        "<a href=\"https://colab.research.google.com/github/mateosuster/pythonungs/blob/master/codigos/mate_financiera/2_Bonos.ipynb\" target=\"_parent\"><img src=\"https://colab.research.google.com/assets/colab-badge.svg\" alt=\"Open In Colab\"/></a>"
      ]
    },
    {
      "cell_type": "markdown",
      "metadata": {
        "id": "uJLQQBJzCdSH"
      },
      "source": [
        "# Bonos\n",
        "\n",
        "## Precio de mercado\n",
        "\n",
        "*¿Cómo se calcula el precio de mercado de un bono?*\n",
        "\n",
        "Conceptualmente, el precio de un bono es expresión del valor presente de los flujos de efectivo que promete. Esto es equivalente al **valor presente de los cupones** que dicho bono paga que más el **valor presente del face value** (o valor nominal) que se reintegrará en el vencimiento.\n",
        "\n",
        "\\\n",
        "\n",
        "La formulación matemática del cálculo puede expresarse de la siguiente manera: \n",
        "\n",
        "![](https://economipedia.com/wp-content/uploads/F%C3%B3rmula-calculo-precio-de-un-bono-1-1.png)\n",
        "\n",
        "Por lo tanto, el cómputo se puede resumir como la suma del valor presente de una anualidad (pagos de cupones) más el valor presente de un pagó único (face value). Alicaremos a continuación las funciones vista con Numpy Financial"
      ]
    },
    {
      "cell_type": "code",
      "metadata": {
        "colab": {
          "base_uri": "https://localhost:8080/"
        },
        "id": "VZBaFddtfMcL",
        "outputId": "a5535141-4516-4234-c5d9-b0579ed5f835"
      },
      "source": [
        "!pip install numpy_financial\n",
        "import numpy_financial as npf"
      ],
      "execution_count": null,
      "outputs": [
        {
          "output_type": "stream",
          "name": "stdout",
          "text": [
            "Looking in indexes: https://pypi.org/simple, https://us-python.pkg.dev/colab-wheels/public/simple/\n",
            "Collecting numpy_financial\n",
            "  Downloading numpy_financial-1.0.0-py3-none-any.whl (14 kB)\n",
            "Requirement already satisfied: numpy>=1.15 in /usr/local/lib/python3.7/dist-packages (from numpy_financial) (1.21.6)\n",
            "Installing collected packages: numpy-financial\n",
            "Successfully installed numpy-financial-1.0.0\n"
          ]
        }
      ]
    },
    {
      "cell_type": "markdown",
      "metadata": {
        "id": "oA1HlFQaaRgb"
      },
      "source": [
        "Definimos una función que calcule los valores presentes de estos dos flujos de fondos."
      ]
    },
    {
      "cell_type": "code",
      "metadata": {
        "id": "t3qYfLc4Z2hd"
      },
      "source": [
        "def precio_bono(face, cup, r, n_cup, mat):\n",
        "  \"\"\"\"\n",
        "  * `face` =  face value\n",
        "  * `cup`= monto pagado por cupón\n",
        "  * `r`= tasa de interes   \n",
        "  * `n_cup` = número de cupones pagados en el año\n",
        "  * `mat` = años hasta la madurez\n",
        "  \"\"\"\n",
        "\n",
        "  import numpy_financial as npf\n",
        "\n",
        "  vp_an = npf.pv(fv = 0, rate = r/n_cup, nper = mat*n_cup, pmt= -cup)\n",
        "  vp_face = npf.pv(fv = -face, rate = r/n_cup, nper = mat*n_cup, pmt=0)\n",
        "  \n",
        "  return vp_an + vp_face"
      ],
      "execution_count": null,
      "outputs": []
    },
    {
      "cell_type": "markdown",
      "metadata": {
        "id": "F0nkPDZmaa3C"
      },
      "source": [
        "Donde:\n",
        "\n",
        "\n",
        "* `face` =  face value\n",
        "* `cup`= monto pagado por cupón\n",
        "* `r`= tasa de interes   \n",
        "* `n_cup` = número de cupones pagados en el año\n",
        "* `mat` = años hasta la madurez\n",
        "\n"
      ]
    },
    {
      "cell_type": "markdown",
      "metadata": {
        "id": "JMLlMGgB2S1u"
      },
      "source": [
        "**Ejemplo**\n",
        "\n",
        "Se desea conocer el precio de un bono con cupon trimestral, tasa de corte del 12% anual, maduración en 15 años y valor par de $120"
      ]
    },
    {
      "cell_type": "code",
      "metadata": {
        "id": "is_NpoTRZCeP"
      },
      "source": [
        "#guardamos algunos valores en variables\n",
        "face = 120\n",
        "r = .12\n",
        "pagos= 4\n",
        "anios = 15\n",
        "cupon = face*r/pagos\n"
      ],
      "execution_count": null,
      "outputs": []
    },
    {
      "cell_type": "code",
      "metadata": {
        "colab": {
          "base_uri": "https://localhost:8080/"
        },
        "id": "XTtSeHccoy__",
        "outputId": "f727ca6d-f6bc-4adc-e329-9fb054d6b1c6"
      },
      "source": [
        "precio_bono(face = face, r= r, mat=anios, n_cup= pagos, cup = cupon)"
      ],
      "execution_count": null,
      "outputs": [
        {
          "output_type": "execute_result",
          "data": {
            "text/plain": [
              "119.99999999999999"
            ]
          },
          "metadata": {},
          "execution_count": 4
        }
      ]
    },
    {
      "cell_type": "markdown",
      "metadata": {
        "id": "fqc3fmrr4dvu"
      },
      "source": [
        "En este caso, el valor par concuerda con el precio del bono porque se cumplen las condiciones de valuación del bono en el mercado primario. \n",
        "\n",
        "En cambio, es importante prestar atención que en el mercado secundario la tasa de descuento del bono estará sujeta a los vaivenes de la economía. Por ejemplo, supongamos que queremos vender dicho bono al año siguiente y la tasa de interés aumentó al 20% debido a la percepción de incobrabilidad de los cupones. ¿Cuál sería ahora el precio?"
      ]
    },
    {
      "cell_type": "code",
      "metadata": {
        "colab": {
          "base_uri": "https://localhost:8080/"
        },
        "id": "hq32JXgW3rUH",
        "outputId": "0ad6218f-0b44-4d44-fd89-e7103d3cb83b"
      },
      "source": [
        "p_mdo = precio_bono(face = face, r= .2, mat=14, n_cup= pagos, cup = cupon)\n",
        "p_mdo"
      ],
      "execution_count": null,
      "outputs": [
        {
          "output_type": "execute_result",
          "data": {
            "text/plain": [
              "75.12349265812256"
            ]
          },
          "metadata": {},
          "execution_count": 5
        }
      ]
    },
    {
      "cell_type": "markdown",
      "metadata": {
        "id": "FU2rMwC6BFXj"
      },
      "source": [
        "La comparación del precio del mercado primario de un bono frente al del secundario, lo cual es lo mismo que comparar las tasa de descuento, se puede resumir de la siguiente manera:\n",
        "\n",
        "* Si YTM = tasa de cupón, entonces el precio par = precio de mercado\n",
        "\n",
        "\n",
        "* Si YTM > tasa de cupón, entonces el precio par > precio de mercado\n",
        "  * Cuando el precio de mercado cotiza bajo la par se denomina *discount bond*\n",
        "\n",
        "\n",
        "* Si YTM < tasa de cupón, entonces el precio par < precio de mercado\n",
        "  * Cuando el precio de mercado cotiza sobre la par se denomina *premium bond*"
      ]
    },
    {
      "cell_type": "markdown",
      "metadata": {
        "id": "nID0ogrm5v0r"
      },
      "source": [
        "## Yield to maturity (YTM)\n",
        "\n",
        "Ahora bien, si poseemos como información el precio de mercado de un bono, ¿cómo podemos averiguar su tasa de descuento (*yield to maturity*)? La formula aproximada de la misma se define como sigue:\n",
        "\n",
        "\n",
        "\\\\\n",
        "\n",
        "\n",
        "![](data:image/jpeg;base64,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)\n",
        "\n",
        "\n",
        "\\\\\n",
        "\n",
        "De no poseer una herramienta de cálculo financiero, la estimación de la YTM se debería realizar de manera iterativa, a prueba y error con distintas tasas de descuento. Sin embargo, nosotros utilizaremos la función `irr` del paquete Numpy Finantial, a la cual debemos pasarle como parámetros el precio de mercado del bono (inversión inicial), los pagos de cupones (cash flow) y el face value (pago final de capital del bono). "
      ]
    },
    {
      "cell_type": "code",
      "metadata": {
        "colab": {
          "base_uri": "https://localhost:8080/"
        },
        "id": "EdWmQcI9_VJr",
        "outputId": "eca3d36b-a2c4-4562-f4ab-dca67db17798"
      },
      "source": [
        "ytm = npf.irr( [-p_mdo] + [cupon]*14*pagos + [face] )\n",
        "ytm"
      ],
      "execution_count": null,
      "outputs": [
        {
          "output_type": "execute_result",
          "data": {
            "text/plain": [
              "0.04975319728155503"
            ]
          },
          "metadata": {},
          "execution_count": 7
        }
      ]
    },
    {
      "cell_type": "code",
      "source": [
        "[-p_mdo] + [cupon]*14*pagos + [face]"
      ],
      "metadata": {
        "id": "xcQ75AcAAl6_"
      },
      "execution_count": null,
      "outputs": []
    },
    {
      "cell_type": "markdown",
      "metadata": {
        "id": "IwSSDBq-EYbu"
      },
      "source": [
        "Este cálculo nos devuelve la YTM proporcional, por lo cual para obtener la tasa de descuento anual debemos multiplicarla por la cantidad de pagos"
      ]
    },
    {
      "cell_type": "code",
      "metadata": {
        "colab": {
          "base_uri": "https://localhost:8080/"
        },
        "id": "XLBeSzfzERCe",
        "outputId": "fc35b5a0-07bf-48b5-acd0-d4838769fdb3"
      },
      "source": [
        "ytm * pagos"
      ],
      "execution_count": null,
      "outputs": [
        {
          "output_type": "execute_result",
          "data": {
            "text/plain": [
              "0.1990127891262201"
            ]
          },
          "metadata": {},
          "execution_count": 8
        }
      ]
    },
    {
      "cell_type": "markdown",
      "metadata": {
        "id": "rDs732h-EjV2"
      },
      "source": [
        "Hay que prestar que este cálculo es aproximado, por lo cual el número exacto no es el mismo, pero sí su redondeo."
      ]
    },
    {
      "cell_type": "markdown",
      "metadata": {
        "id": "8gbzrNw_Jk8_"
      },
      "source": [
        "## Visualizando cotizaciones \n",
        "\n",
        "Veamos algunas cotizaciones reales de [bonos argentinos](https://datos.gob.ar/dataset/sspm-titulos-publicos-deuda/archivo/sspm_179.1)"
      ]
    },
    {
      "cell_type": "code",
      "metadata": {
        "colab": {
          "base_uri": "https://localhost:8080/"
        },
        "id": "SCY-9sT3Jor8",
        "outputId": "3a3503a0-7714-4c55-ecbb-cc4bfc2a908f"
      },
      "source": [
        "!wget https://infra.datos.gob.ar/catalog/sspm/dataset/179/distribution/179.1/download/titulos-publicos.csv"
      ],
      "execution_count": null,
      "outputs": [
        {
          "output_type": "stream",
          "text": [
            "--2021-06-18 21:21:53--  https://infra.datos.gob.ar/catalog/sspm/dataset/179/distribution/179.1/download/titulos-publicos.csv\n",
            "Resolving infra.datos.gob.ar (infra.datos.gob.ar)... 186.33.215.176\n",
            "Connecting to infra.datos.gob.ar (infra.datos.gob.ar)|186.33.215.176|:443... connected.\n",
            "HTTP request sent, awaiting response... 200 OK\n",
            "Length: 1586748 (1.5M) [text/csv]\n",
            "Saving to: ‘titulos-publicos.csv.1’\n",
            "\n",
            "titulos-publicos.cs 100%[===================>]   1.51M  1.25MB/s    in 1.2s    \n",
            "\n",
            "2021-06-18 21:21:55 (1.25 MB/s) - ‘titulos-publicos.csv.1’ saved [1586748/1586748]\n",
            "\n"
          ],
          "name": "stdout"
        }
      ]
    },
    {
      "cell_type": "code",
      "metadata": {
        "id": "YJZbnwhQJrXh"
      },
      "source": [
        "import pandas as pd \n",
        "\n",
        "df = pd.read_csv(\"/content/titulos-publicos.csv\")\n",
        "pd.read_excel(\"/content/titulos-publicos.csv\")"
      ],
      "execution_count": null,
      "outputs": []
    },
    {
      "cell_type": "code",
      "metadata": {
        "colab": {
          "base_uri": "https://localhost:8080/",
          "height": 286
        },
        "id": "tNZIxzW8ARdy",
        "outputId": "9418b5d8-9fc3-4031-ece0-cefef865c522"
      },
      "source": [
        "df.head()"
      ],
      "execution_count": null,
      "outputs": [
        {
          "output_type": "execute_result",
          "data": {
            "text/html": [
              "<div>\n",
              "<style scoped>\n",
              "    .dataframe tbody tr th:only-of-type {\n",
              "        vertical-align: middle;\n",
              "    }\n",
              "\n",
              "    .dataframe tbody tr th {\n",
              "        vertical-align: top;\n",
              "    }\n",
              "\n",
              "    .dataframe thead th {\n",
              "        text-align: right;\n",
              "    }\n",
              "</style>\n",
              "<table border=\"1\" class=\"dataframe\">\n",
              "  <thead>\n",
              "    <tr style=\"text-align: right;\">\n",
              "      <th></th>\n",
              "      <th>aa19_cotizacion</th>\n",
              "      <th>aa19_yield</th>\n",
              "      <th>aa19_dur</th>\n",
              "      <th>aa19_ppv_en_anios</th>\n",
              "      <th>aa21_cotizacion</th>\n",
              "      <th>aa21_yield</th>\n",
              "      <th>aa21_dur</th>\n",
              "      <th>aa21_ppv_en_anios</th>\n",
              "      <th>a2e2_cotizacion</th>\n",
              "      <th>a2e2_yield</th>\n",
              "      <th>a2e2_dur</th>\n",
              "      <th>a2e2_ppv_en_anios</th>\n",
              "      <th>a2e3_cotizacion</th>\n",
              "      <th>a2e3_yield</th>\n",
              "      <th>a2e3_dur</th>\n",
              "      <th>a2e3_ppv_en_anios</th>\n",
              "      <th>aa26_cotizacion</th>\n",
              "      <th>aa26_yield</th>\n",
              "      <th>aa26_dur</th>\n",
              "      <th>aa26_ppv_en_anios</th>\n",
              "      <th>a2e7_cotizacion</th>\n",
              "      <th>a2e7_yield</th>\n",
              "      <th>a2e7_dur</th>\n",
              "      <th>a2e7_ppv_en_anios</th>\n",
              "      <th>a2e8_cotizacion</th>\n",
              "      <th>a2e8_yield</th>\n",
              "      <th>a2e8_dur</th>\n",
              "      <th>a2e8_ppv_en_anios</th>\n",
              "      <th>dicy_cotizacion</th>\n",
              "      <th>dicy_yield</th>\n",
              "      <th>dicy_dur</th>\n",
              "      <th>dicy_ppv_en_anios</th>\n",
              "      <th>diy0_cotizacion</th>\n",
              "      <th>diy0_yield</th>\n",
              "      <th>diy0_dur</th>\n",
              "      <th>diy0_ppv_en_anios</th>\n",
              "      <th>pary_cotizacion</th>\n",
              "      <th>pary_yield</th>\n",
              "      <th>pary_dur</th>\n",
              "      <th>pary_ppv_en_anios</th>\n",
              "      <th>...</th>\n",
              "      <th>tc23_cotizacion</th>\n",
              "      <th>tc23_yield</th>\n",
              "      <th>tc23_dur</th>\n",
              "      <th>tc23_ppv_en_anios</th>\n",
              "      <th>pr13_cotizacion</th>\n",
              "      <th>pr13_yield</th>\n",
              "      <th>pr13_dur</th>\n",
              "      <th>pr13_ppv_en_anios</th>\n",
              "      <th>tc25p_cotizacion</th>\n",
              "      <th>tc25p_yield</th>\n",
              "      <th>tc25p_dur</th>\n",
              "      <th>tc25p_ppv_en_anios</th>\n",
              "      <th>dicp_cotizacion</th>\n",
              "      <th>dicp_yield</th>\n",
              "      <th>dicp_dur</th>\n",
              "      <th>dicp_ppv_en_anios</th>\n",
              "      <th>parp_cotizacion</th>\n",
              "      <th>parp_yield</th>\n",
              "      <th>parp_dur</th>\n",
              "      <th>parp_ppv_en_anios</th>\n",
              "      <th>cuap_cotizacion</th>\n",
              "      <th>cuap_yield</th>\n",
              "      <th>cuap_dur</th>\n",
              "      <th>cuap_ppv_en_anios</th>\n",
              "      <th>af19_cotizacion</th>\n",
              "      <th>af19_yield</th>\n",
              "      <th>af19_dur</th>\n",
              "      <th>af19_ppv_en_anios</th>\n",
              "      <th>a2m2_cotizacion</th>\n",
              "      <th>a2m2_yield</th>\n",
              "      <th>a2m2_dur</th>\n",
              "      <th>a2m2_ppv_en_anios</th>\n",
              "      <th>td21_cotizacion</th>\n",
              "      <th>td21_yield</th>\n",
              "      <th>td21_dur</th>\n",
              "      <th>td21_ppv_en_anios</th>\n",
              "      <th>tvpp_cotizacion</th>\n",
              "      <th>tvpy_cotizacion</th>\n",
              "      <th>tvpa_cotizacion</th>\n",
              "      <th>tvpe_cotizacion</th>\n",
              "    </tr>\n",
              "    <tr>\n",
              "      <th>indice_tiempo</th>\n",
              "      <th></th>\n",
              "      <th></th>\n",
              "      <th></th>\n",
              "      <th></th>\n",
              "      <th></th>\n",
              "      <th></th>\n",
              "      <th></th>\n",
              "      <th></th>\n",
              "      <th></th>\n",
              "      <th></th>\n",
              "      <th></th>\n",
              "      <th></th>\n",
              "      <th></th>\n",
              "      <th></th>\n",
              "      <th></th>\n",
              "      <th></th>\n",
              "      <th></th>\n",
              "      <th></th>\n",
              "      <th></th>\n",
              "      <th></th>\n",
              "      <th></th>\n",
              "      <th></th>\n",
              "      <th></th>\n",
              "      <th></th>\n",
              "      <th></th>\n",
              "      <th></th>\n",
              "      <th></th>\n",
              "      <th></th>\n",
              "      <th></th>\n",
              "      <th></th>\n",
              "      <th></th>\n",
              "      <th></th>\n",
              "      <th></th>\n",
              "      <th></th>\n",
              "      <th></th>\n",
              "      <th></th>\n",
              "      <th></th>\n",
              "      <th></th>\n",
              "      <th></th>\n",
              "      <th></th>\n",
              "      <th></th>\n",
              "      <th></th>\n",
              "      <th></th>\n",
              "      <th></th>\n",
              "      <th></th>\n",
              "      <th></th>\n",
              "      <th></th>\n",
              "      <th></th>\n",
              "      <th></th>\n",
              "      <th></th>\n",
              "      <th></th>\n",
              "      <th></th>\n",
              "      <th></th>\n",
              "      <th></th>\n",
              "      <th></th>\n",
              "      <th></th>\n",
              "      <th></th>\n",
              "      <th></th>\n",
              "      <th></th>\n",
              "      <th></th>\n",
              "      <th></th>\n",
              "      <th></th>\n",
              "      <th></th>\n",
              "      <th></th>\n",
              "      <th></th>\n",
              "      <th></th>\n",
              "      <th></th>\n",
              "      <th></th>\n",
              "      <th></th>\n",
              "      <th></th>\n",
              "      <th></th>\n",
              "      <th></th>\n",
              "      <th></th>\n",
              "      <th></th>\n",
              "      <th></th>\n",
              "      <th></th>\n",
              "      <th></th>\n",
              "      <th></th>\n",
              "      <th></th>\n",
              "      <th></th>\n",
              "      <th></th>\n",
              "    </tr>\n",
              "  </thead>\n",
              "  <tbody>\n",
              "    <tr>\n",
              "      <th>2013-01-02</th>\n",
              "      <td>NaN</td>\n",
              "      <td>NaN</td>\n",
              "      <td>NaN</td>\n",
              "      <td>NaN</td>\n",
              "      <td>NaN</td>\n",
              "      <td>NaN</td>\n",
              "      <td>NaN</td>\n",
              "      <td>NaN</td>\n",
              "      <td>NaN</td>\n",
              "      <td>NaN</td>\n",
              "      <td>NaN</td>\n",
              "      <td>NaN</td>\n",
              "      <td>NaN</td>\n",
              "      <td>NaN</td>\n",
              "      <td>NaN</td>\n",
              "      <td>NaN</td>\n",
              "      <td>NaN</td>\n",
              "      <td>NaN</td>\n",
              "      <td>NaN</td>\n",
              "      <td>NaN</td>\n",
              "      <td>NaN</td>\n",
              "      <td>NaN</td>\n",
              "      <td>NaN</td>\n",
              "      <td>NaN</td>\n",
              "      <td>NaN</td>\n",
              "      <td>NaN</td>\n",
              "      <td>NaN</td>\n",
              "      <td>NaN</td>\n",
              "      <td>700.0</td>\n",
              "      <td>0.080265</td>\n",
              "      <td>8.953592</td>\n",
              "      <td>11.9868</td>\n",
              "      <td>NaN</td>\n",
              "      <td>NaN</td>\n",
              "      <td>NaN</td>\n",
              "      <td>NaN</td>\n",
              "      <td>252.0</td>\n",
              "      <td>0.084898</td>\n",
              "      <td>12.579070</td>\n",
              "      <td>17.5272</td>\n",
              "      <td>...</td>\n",
              "      <td>NaN</td>\n",
              "      <td>NaN</td>\n",
              "      <td>NaN</td>\n",
              "      <td>NaN</td>\n",
              "      <td>149.00</td>\n",
              "      <td>0.128100</td>\n",
              "      <td>4.998972</td>\n",
              "      <td>6.0978</td>\n",
              "      <td>NaN</td>\n",
              "      <td>NaN</td>\n",
              "      <td>NaN</td>\n",
              "      <td>NaN</td>\n",
              "      <td>131.25</td>\n",
              "      <td>0.144516</td>\n",
              "      <td>7.526447</td>\n",
              "      <td>12.6360</td>\n",
              "      <td>47.50</td>\n",
              "      <td>0.118083</td>\n",
              "      <td>12.693837</td>\n",
              "      <td>19.0318</td>\n",
              "      <td>NaN</td>\n",
              "      <td>NaN</td>\n",
              "      <td>NaN</td>\n",
              "      <td>NaN</td>\n",
              "      <td>NaN</td>\n",
              "      <td>NaN</td>\n",
              "      <td>NaN</td>\n",
              "      <td>NaN</td>\n",
              "      <td>NaN</td>\n",
              "      <td>NaN</td>\n",
              "      <td>NaN</td>\n",
              "      <td>NaN</td>\n",
              "      <td>NaN</td>\n",
              "      <td>NaN</td>\n",
              "      <td>NaN</td>\n",
              "      <td>NaN</td>\n",
              "      <td>7.145</td>\n",
              "      <td>50.85</td>\n",
              "      <td>50.7</td>\n",
              "      <td>57.0</td>\n",
              "    </tr>\n",
              "    <tr>\n",
              "      <th>2013-01-03</th>\n",
              "      <td>NaN</td>\n",
              "      <td>NaN</td>\n",
              "      <td>NaN</td>\n",
              "      <td>NaN</td>\n",
              "      <td>NaN</td>\n",
              "      <td>NaN</td>\n",
              "      <td>NaN</td>\n",
              "      <td>NaN</td>\n",
              "      <td>NaN</td>\n",
              "      <td>NaN</td>\n",
              "      <td>NaN</td>\n",
              "      <td>NaN</td>\n",
              "      <td>NaN</td>\n",
              "      <td>NaN</td>\n",
              "      <td>NaN</td>\n",
              "      <td>NaN</td>\n",
              "      <td>NaN</td>\n",
              "      <td>NaN</td>\n",
              "      <td>NaN</td>\n",
              "      <td>NaN</td>\n",
              "      <td>NaN</td>\n",
              "      <td>NaN</td>\n",
              "      <td>NaN</td>\n",
              "      <td>NaN</td>\n",
              "      <td>NaN</td>\n",
              "      <td>NaN</td>\n",
              "      <td>NaN</td>\n",
              "      <td>NaN</td>\n",
              "      <td>700.0</td>\n",
              "      <td>0.080347</td>\n",
              "      <td>8.948217</td>\n",
              "      <td>11.9840</td>\n",
              "      <td>670.0</td>\n",
              "      <td>0.085414</td>\n",
              "      <td>8.780469</td>\n",
              "      <td>12.6332</td>\n",
              "      <td>252.0</td>\n",
              "      <td>0.084958</td>\n",
              "      <td>12.573035</td>\n",
              "      <td>17.5244</td>\n",
              "      <td>...</td>\n",
              "      <td>NaN</td>\n",
              "      <td>NaN</td>\n",
              "      <td>NaN</td>\n",
              "      <td>NaN</td>\n",
              "      <td>150.35</td>\n",
              "      <td>0.126190</td>\n",
              "      <td>5.009697</td>\n",
              "      <td>6.0951</td>\n",
              "      <td>NaN</td>\n",
              "      <td>NaN</td>\n",
              "      <td>NaN</td>\n",
              "      <td>NaN</td>\n",
              "      <td>133.75</td>\n",
              "      <td>0.141912</td>\n",
              "      <td>7.599752</td>\n",
              "      <td>12.6332</td>\n",
              "      <td>46.25</td>\n",
              "      <td>0.120308</td>\n",
              "      <td>12.563981</td>\n",
              "      <td>19.0290</td>\n",
              "      <td>NaN</td>\n",
              "      <td>NaN</td>\n",
              "      <td>NaN</td>\n",
              "      <td>NaN</td>\n",
              "      <td>NaN</td>\n",
              "      <td>NaN</td>\n",
              "      <td>NaN</td>\n",
              "      <td>NaN</td>\n",
              "      <td>NaN</td>\n",
              "      <td>NaN</td>\n",
              "      <td>NaN</td>\n",
              "      <td>NaN</td>\n",
              "      <td>NaN</td>\n",
              "      <td>NaN</td>\n",
              "      <td>NaN</td>\n",
              "      <td>NaN</td>\n",
              "      <td>7.340</td>\n",
              "      <td>50.30</td>\n",
              "      <td>50.4</td>\n",
              "      <td>55.6</td>\n",
              "    </tr>\n",
              "    <tr>\n",
              "      <th>2013-01-04</th>\n",
              "      <td>NaN</td>\n",
              "      <td>NaN</td>\n",
              "      <td>NaN</td>\n",
              "      <td>NaN</td>\n",
              "      <td>NaN</td>\n",
              "      <td>NaN</td>\n",
              "      <td>NaN</td>\n",
              "      <td>NaN</td>\n",
              "      <td>NaN</td>\n",
              "      <td>NaN</td>\n",
              "      <td>NaN</td>\n",
              "      <td>NaN</td>\n",
              "      <td>NaN</td>\n",
              "      <td>NaN</td>\n",
              "      <td>NaN</td>\n",
              "      <td>NaN</td>\n",
              "      <td>NaN</td>\n",
              "      <td>NaN</td>\n",
              "      <td>NaN</td>\n",
              "      <td>NaN</td>\n",
              "      <td>NaN</td>\n",
              "      <td>NaN</td>\n",
              "      <td>NaN</td>\n",
              "      <td>NaN</td>\n",
              "      <td>NaN</td>\n",
              "      <td>NaN</td>\n",
              "      <td>NaN</td>\n",
              "      <td>NaN</td>\n",
              "      <td>700.0</td>\n",
              "      <td>0.080371</td>\n",
              "      <td>8.944776</td>\n",
              "      <td>11.9812</td>\n",
              "      <td>673.0</td>\n",
              "      <td>0.084919</td>\n",
              "      <td>8.794155</td>\n",
              "      <td>12.6303</td>\n",
              "      <td>252.0</td>\n",
              "      <td>0.084976</td>\n",
              "      <td>12.569364</td>\n",
              "      <td>17.5217</td>\n",
              "      <td>...</td>\n",
              "      <td>NaN</td>\n",
              "      <td>NaN</td>\n",
              "      <td>NaN</td>\n",
              "      <td>NaN</td>\n",
              "      <td>150.00</td>\n",
              "      <td>0.126773</td>\n",
              "      <td>5.002877</td>\n",
              "      <td>6.0923</td>\n",
              "      <td>NaN</td>\n",
              "      <td>NaN</td>\n",
              "      <td>NaN</td>\n",
              "      <td>NaN</td>\n",
              "      <td>134.25</td>\n",
              "      <td>0.141416</td>\n",
              "      <td>7.611532</td>\n",
              "      <td>12.6303</td>\n",
              "      <td>46.00</td>\n",
              "      <td>0.120784</td>\n",
              "      <td>12.534177</td>\n",
              "      <td>19.0263</td>\n",
              "      <td>NaN</td>\n",
              "      <td>NaN</td>\n",
              "      <td>NaN</td>\n",
              "      <td>NaN</td>\n",
              "      <td>NaN</td>\n",
              "      <td>NaN</td>\n",
              "      <td>NaN</td>\n",
              "      <td>NaN</td>\n",
              "      <td>NaN</td>\n",
              "      <td>NaN</td>\n",
              "      <td>NaN</td>\n",
              "      <td>NaN</td>\n",
              "      <td>NaN</td>\n",
              "      <td>NaN</td>\n",
              "      <td>NaN</td>\n",
              "      <td>NaN</td>\n",
              "      <td>7.200</td>\n",
              "      <td>49.00</td>\n",
              "      <td>50.0</td>\n",
              "      <td>54.5</td>\n",
              "    </tr>\n",
              "    <tr>\n",
              "      <th>2013-01-05</th>\n",
              "      <td>NaN</td>\n",
              "      <td>NaN</td>\n",
              "      <td>NaN</td>\n",
              "      <td>NaN</td>\n",
              "      <td>NaN</td>\n",
              "      <td>NaN</td>\n",
              "      <td>NaN</td>\n",
              "      <td>NaN</td>\n",
              "      <td>NaN</td>\n",
              "      <td>NaN</td>\n",
              "      <td>NaN</td>\n",
              "      <td>NaN</td>\n",
              "      <td>NaN</td>\n",
              "      <td>NaN</td>\n",
              "      <td>NaN</td>\n",
              "      <td>NaN</td>\n",
              "      <td>NaN</td>\n",
              "      <td>NaN</td>\n",
              "      <td>NaN</td>\n",
              "      <td>NaN</td>\n",
              "      <td>NaN</td>\n",
              "      <td>NaN</td>\n",
              "      <td>NaN</td>\n",
              "      <td>NaN</td>\n",
              "      <td>NaN</td>\n",
              "      <td>NaN</td>\n",
              "      <td>NaN</td>\n",
              "      <td>NaN</td>\n",
              "      <td>NaN</td>\n",
              "      <td>NaN</td>\n",
              "      <td>NaN</td>\n",
              "      <td>NaN</td>\n",
              "      <td>NaN</td>\n",
              "      <td>NaN</td>\n",
              "      <td>NaN</td>\n",
              "      <td>NaN</td>\n",
              "      <td>NaN</td>\n",
              "      <td>NaN</td>\n",
              "      <td>NaN</td>\n",
              "      <td>NaN</td>\n",
              "      <td>...</td>\n",
              "      <td>NaN</td>\n",
              "      <td>NaN</td>\n",
              "      <td>NaN</td>\n",
              "      <td>NaN</td>\n",
              "      <td>NaN</td>\n",
              "      <td>NaN</td>\n",
              "      <td>NaN</td>\n",
              "      <td>NaN</td>\n",
              "      <td>NaN</td>\n",
              "      <td>NaN</td>\n",
              "      <td>NaN</td>\n",
              "      <td>NaN</td>\n",
              "      <td>NaN</td>\n",
              "      <td>NaN</td>\n",
              "      <td>NaN</td>\n",
              "      <td>NaN</td>\n",
              "      <td>NaN</td>\n",
              "      <td>NaN</td>\n",
              "      <td>NaN</td>\n",
              "      <td>NaN</td>\n",
              "      <td>NaN</td>\n",
              "      <td>NaN</td>\n",
              "      <td>NaN</td>\n",
              "      <td>NaN</td>\n",
              "      <td>NaN</td>\n",
              "      <td>NaN</td>\n",
              "      <td>NaN</td>\n",
              "      <td>NaN</td>\n",
              "      <td>NaN</td>\n",
              "      <td>NaN</td>\n",
              "      <td>NaN</td>\n",
              "      <td>NaN</td>\n",
              "      <td>NaN</td>\n",
              "      <td>NaN</td>\n",
              "      <td>NaN</td>\n",
              "      <td>NaN</td>\n",
              "      <td>NaN</td>\n",
              "      <td>NaN</td>\n",
              "      <td>NaN</td>\n",
              "      <td>NaN</td>\n",
              "    </tr>\n",
              "    <tr>\n",
              "      <th>2013-01-06</th>\n",
              "      <td>NaN</td>\n",
              "      <td>NaN</td>\n",
              "      <td>NaN</td>\n",
              "      <td>NaN</td>\n",
              "      <td>NaN</td>\n",
              "      <td>NaN</td>\n",
              "      <td>NaN</td>\n",
              "      <td>NaN</td>\n",
              "      <td>NaN</td>\n",
              "      <td>NaN</td>\n",
              "      <td>NaN</td>\n",
              "      <td>NaN</td>\n",
              "      <td>NaN</td>\n",
              "      <td>NaN</td>\n",
              "      <td>NaN</td>\n",
              "      <td>NaN</td>\n",
              "      <td>NaN</td>\n",
              "      <td>NaN</td>\n",
              "      <td>NaN</td>\n",
              "      <td>NaN</td>\n",
              "      <td>NaN</td>\n",
              "      <td>NaN</td>\n",
              "      <td>NaN</td>\n",
              "      <td>NaN</td>\n",
              "      <td>NaN</td>\n",
              "      <td>NaN</td>\n",
              "      <td>NaN</td>\n",
              "      <td>NaN</td>\n",
              "      <td>NaN</td>\n",
              "      <td>NaN</td>\n",
              "      <td>NaN</td>\n",
              "      <td>NaN</td>\n",
              "      <td>NaN</td>\n",
              "      <td>NaN</td>\n",
              "      <td>NaN</td>\n",
              "      <td>NaN</td>\n",
              "      <td>NaN</td>\n",
              "      <td>NaN</td>\n",
              "      <td>NaN</td>\n",
              "      <td>NaN</td>\n",
              "      <td>...</td>\n",
              "      <td>NaN</td>\n",
              "      <td>NaN</td>\n",
              "      <td>NaN</td>\n",
              "      <td>NaN</td>\n",
              "      <td>NaN</td>\n",
              "      <td>NaN</td>\n",
              "      <td>NaN</td>\n",
              "      <td>NaN</td>\n",
              "      <td>NaN</td>\n",
              "      <td>NaN</td>\n",
              "      <td>NaN</td>\n",
              "      <td>NaN</td>\n",
              "      <td>NaN</td>\n",
              "      <td>NaN</td>\n",
              "      <td>NaN</td>\n",
              "      <td>NaN</td>\n",
              "      <td>NaN</td>\n",
              "      <td>NaN</td>\n",
              "      <td>NaN</td>\n",
              "      <td>NaN</td>\n",
              "      <td>NaN</td>\n",
              "      <td>NaN</td>\n",
              "      <td>NaN</td>\n",
              "      <td>NaN</td>\n",
              "      <td>NaN</td>\n",
              "      <td>NaN</td>\n",
              "      <td>NaN</td>\n",
              "      <td>NaN</td>\n",
              "      <td>NaN</td>\n",
              "      <td>NaN</td>\n",
              "      <td>NaN</td>\n",
              "      <td>NaN</td>\n",
              "      <td>NaN</td>\n",
              "      <td>NaN</td>\n",
              "      <td>NaN</td>\n",
              "      <td>NaN</td>\n",
              "      <td>NaN</td>\n",
              "      <td>NaN</td>\n",
              "      <td>NaN</td>\n",
              "      <td>NaN</td>\n",
              "    </tr>\n",
              "  </tbody>\n",
              "</table>\n",
              "<p>5 rows × 224 columns</p>\n",
              "</div>"
            ],
            "text/plain": [
              "               aa19_cotizacion  aa19_yield  ...  tvpa_cotizacion  tvpe_cotizacion\n",
              "indice_tiempo                               ...                                  \n",
              "2013-01-02                 NaN         NaN  ...             50.7             57.0\n",
              "2013-01-03                 NaN         NaN  ...             50.4             55.6\n",
              "2013-01-04                 NaN         NaN  ...             50.0             54.5\n",
              "2013-01-05                 NaN         NaN  ...              NaN              NaN\n",
              "2013-01-06                 NaN         NaN  ...              NaN              NaN\n",
              "\n",
              "[5 rows x 224 columns]"
            ]
          },
          "metadata": {
            "tags": []
          },
          "execution_count": 24
        }
      ]
    },
    {
      "cell_type": "code",
      "metadata": {
        "colab": {
          "base_uri": "https://localhost:8080/"
        },
        "id": "-SGCVwm0yG1a",
        "outputId": "2b8d05f3-d33d-4d9c-f564-23919714cf3b"
      },
      "source": [
        "df.columns"
      ],
      "execution_count": null,
      "outputs": [
        {
          "output_type": "execute_result",
          "data": {
            "text/plain": [
              "Index(['indice_tiempo', 'aa19_cotizacion', 'aa19_yield', 'aa19_dur',\n",
              "       'aa19_ppv_en_anios', 'aa21_cotizacion', 'aa21_yield', 'aa21_dur',\n",
              "       'aa21_ppv_en_anios', 'a2e2_cotizacion',\n",
              "       ...\n",
              "       'a2m2_dur', 'a2m2_ppv_en_anios', 'td21_cotizacion', 'td21_yield',\n",
              "       'td21_dur', 'td21_ppv_en_anios', 'tvpp_cotizacion', 'tvpy_cotizacion',\n",
              "       'tvpa_cotizacion', 'tvpe_cotizacion'],\n",
              "      dtype='object', length=225)"
            ]
          },
          "metadata": {
            "tags": []
          },
          "execution_count": 22
        }
      ]
    },
    {
      "cell_type": "code",
      "metadata": {
        "id": "871-gxcXyQYK"
      },
      "source": [
        "df.set_index(keys = \"indice_tiempo\", inplace = True)"
      ],
      "execution_count": null,
      "outputs": []
    },
    {
      "cell_type": "code",
      "metadata": {
        "colab": {
          "base_uri": "https://localhost:8080/"
        },
        "id": "cwBdyJy3yxj2",
        "outputId": "32969521-ec5d-41ae-ef0a-144a1a33a0fd"
      },
      "source": [
        "df_filtrado = df.loc[\"2017-01-01\":]\n",
        "df_filtrado.index"
      ],
      "execution_count": null,
      "outputs": [
        {
          "output_type": "execute_result",
          "data": {
            "text/plain": [
              "Index(['2017-01-01', '2017-01-02', '2017-01-03', '2017-01-04', '2017-01-05',\n",
              "       '2017-01-06', '2017-01-07', '2017-01-08', '2017-01-09', '2017-01-10',\n",
              "       ...\n",
              "       '2020-08-22', '2020-08-23', '2020-08-24', '2020-08-25', '2020-08-26',\n",
              "       '2020-08-27', '2020-08-28', '2020-08-29', '2020-08-30', '2020-08-31'],\n",
              "      dtype='object', name='indice_tiempo', length=1339)"
            ]
          },
          "metadata": {
            "tags": []
          },
          "execution_count": 25
        }
      ]
    },
    {
      "cell_type": "code",
      "metadata": {
        "colab": {
          "base_uri": "https://localhost:8080/",
          "height": 351
        },
        "id": "YBDfOmMv1QBc",
        "outputId": "a2e9b916-d4f8-423c-9f9e-249bb7534859"
      },
      "source": [
        "df_graf = df_filtrado[[\"dicy_cotizacion\", \"pary_cotizacion\"]]\n",
        "df_graf.plot(title = \"Cotización de bonos seleccionados\", rot = 45, xlabel = \"Fecha\", ylabel = \"USD\")"
      ],
      "execution_count": null,
      "outputs": [
        {
          "output_type": "execute_result",
          "data": {
            "text/plain": [
              "<matplotlib.axes._subplots.AxesSubplot at 0x7f9a77c51410>"
            ]
          },
          "metadata": {
            "tags": []
          },
          "execution_count": 9
        },
        {
          "output_type": "display_data",
          "data": {
            "image/png": "[encoded data removed]",
            "text/plain": [
              "<Figure size 432x288 with 1 Axes>"
            ]
          },
          "metadata": {
            "tags": [],
            "needs_background": "light"
          }
        }
      ]
    },
    {
      "cell_type": "code",
      "metadata": {
        "colab": {
          "base_uri": "https://localhost:8080/",
          "height": 333
        },
        "id": "svN6Zy5FTEQ8",
        "outputId": "f7be8cda-c366-4629-c266-f79af6e61279"
      },
      "source": [
        "import matplotlib.pyplot as plt\n",
        "\n",
        "plt.plot(df_filtrado.index, df_filtrado.dicy_cotizacion, label= \"dicy\")\n",
        "plt.plot(df_filtrado.index, df_filtrado.pary_cotizacion , label= \"pary\")\n",
        "plt.xlabel(\"Fecha\")\n",
        "plt.ylabel(\"USD\")\n",
        "plt.title(\"Cotizacion de bonos argentinos\")\n",
        "plt.legend(loc = \"best\")\n",
        "plt.xticks(df_filtrado.index[::100],  rotation=45)\n",
        "plt.show()"
      ],
      "execution_count": null,
      "outputs": [
        {
          "output_type": "display_data",
          "data": {
            "image/png": "[encoded data removed]",
            "text/plain": [
              "<Figure size 432x288 with 1 Axes>"
            ]
          },
          "metadata": {
            "tags": [],
            "needs_background": "light"
          }
        }
      ]
    },
    {
      "cell_type": "markdown",
      "metadata": {
        "id": "eTMBSWOS31yS"
      },
      "source": [
        "# Ejercicios\n"
      ]
    },
    {
      "cell_type": "markdown",
      "metadata": {
        "id": "9gA2KcBpHACv"
      },
      "source": [
        "### Bono de Rwanda\n",
        "\n",
        "Rwanda enfrenta una fragil situación fiscal. Los bonos que emitió hace un tiempo presentan las siguientes características: un valor a la par de $1000, una tasa de interés cupón del 12% anual, pagos de intereses anuales y actualmente le quedan 10 años para su vencimiento. La tasa de descuento que esperan ganar los inversionistas es del 10%. ¿A cuánto deben venderse estos bonos?\n",
        "\n"
      ]
    },
    {
      "cell_type": "code",
      "metadata": {
        "id": "CWz7EaADH07S"
      },
      "source": [
        "## escriba la solución aquí\n",
        "\n"
      ],
      "execution_count": null,
      "outputs": []
    },
    {
      "cell_type": "markdown",
      "metadata": {
        "id": "PaZVhlYh33SA"
      },
      "source": [
        "### Pepin Electric Company\n",
        "\n",
        "Pepin Electric Company tiene pendiente una emisión de bonos a 3 años y al 10%, con un valor nominal de $1,000 cada bono. El interés se paga anualmente. Los bonos se encuentran en poder de Suresafe FIRE Insurance Company. Surefase desea vender los bonos y esta negociando con otra empresa. Estima que en las condiciones actuales del mercado los bonos deben brindar un rendimiento del 14% (rendimiento al vencimiento) ¿Qué precio por bono debe estar en posibilidad de obtener en su venta Suresafe?\n",
        "\n"
      ]
    },
    {
      "cell_type": "code",
      "metadata": {
        "id": "Dh6nE5Cd70rs"
      },
      "source": [
        "## escriba la solución aquí\n"
      ],
      "execution_count": null,
      "outputs": []
    },
    {
      "cell_type": "markdown",
      "metadata": {
        "id": "SF5Nk6p18VKI"
      },
      "source": [
        "¿Cuál seria el precio por bono en el problema si los pagos de intereses fueran semestrales? ¿Y su rendimiento corriente?"
      ]
    },
    {
      "cell_type": "code",
      "metadata": {
        "id": "OWfDisJz15fT"
      },
      "source": [
        "## escriba la solución aquí\n"
      ],
      "execution_count": null,
      "outputs": []
    },
    {
      "cell_type": "markdown",
      "metadata": {
        "id": "X6o7aIwMIemI"
      },
      "source": [
        "Considerando estos pagos semestrales, ¿cuál sería el precio de mercado si al año siguiente se vende con una YTM del 8%? ¿Cuál sería el rendimiento de capital del mismo? "
      ]
    },
    {
      "cell_type": "code",
      "metadata": {
        "id": "EdxFL0aUI6BY"
      },
      "source": [
        ""
      ],
      "execution_count": null,
      "outputs": []
    },
    {
      "cell_type": "markdown",
      "metadata": {
        "id": "Hvq-t2z9WS75"
      },
      "source": [
        "¿Cuál sería la nueva tasa de descuento del bono si en ese mismo año su precio se ubica en $1500?"
      ]
    },
    {
      "cell_type": "code",
      "metadata": {
        "id": "bRuM6SMNWTKH"
      },
      "source": [
        ""
      ],
      "execution_count": null,
      "outputs": []
    },
    {
      "cell_type": "markdown",
      "metadata": {
        "id": "3SC06spYWr_Q"
      },
      "source": [
        "### Bonos argentinos\n",
        "\n",
        "Seleccione dos bonos argentinos del dataset cargado y presente una visualización gráfica.\n"
      ]
    },
    {
      "cell_type": "code",
      "metadata": {
        "id": "iLDA9YcPWsZg"
      },
      "source": [
        ""
      ],
      "execution_count": null,
      "outputs": []
    }
  ]
}
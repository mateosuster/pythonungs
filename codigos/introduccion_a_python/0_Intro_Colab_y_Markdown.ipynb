{
  "nbformat": 4,
  "nbformat_minor": 0,
  "metadata": {
    "colab": {
      "name": "MPE III - 0) Intro Colab y Markdown.ipynb",
      "provenance": [],
      "authorship_tag": "ABX9TyPHsQ+hUERVzPHqZnjaYJXZ",
      "include_colab_link": true
    },
    "kernelspec": {
      "name": "python3",
      "display_name": "Python 3"
    },
    "language_info": {
      "name": "python"
    }
  },
  "cells": [
    {
      "cell_type": "markdown",
      "metadata": {
        "id": "view-in-github",
        "colab_type": "text"
      },
      "source": [
        "<a href=\"https://colab.research.google.com/github/mateosuster/pythonungs/blob/master/codigos/introduccion_a_python/MPE_III_0)_Intro_Colab_y_Markdown.ipynb\" target=\"_parent\"><img src=\"https://colab.research.google.com/assets/colab-badge.svg\" alt=\"Open In Colab\"/></a>"
      ]
    },
    {
      "cell_type": "markdown",
      "metadata": {
        "id": "_W6Hp6ZRr3sr"
      },
      "source": [
        "<p><img alt=\"Colaboratory logo\" height=\"45px\" src=\"/img/colab_favicon.ico\" align=\"left\" hspace=\"10px\" vspace=\"0px\"></p>\n",
        "\n",
        "<h1>¿Qué es Colaboratory?</h1>\n",
        "\n",
        "[https://colab.research.google.com/](https://colab.research.google.com/)\n",
        "\n",
        "\n",
        "Colaboratory, o Colab, te permite escribir y ejecutar código de Python en un navegador, dentro de documentos en los que se puede combinar texto con formato excrito en lenguaje Markdown y código de manera que:\n",
        "\n",
        "- No sea requerida una configuración \n",
        "- Acceso gratuito a GPU\n",
        "- Facilidad para compartir\n",
        "\n",
        "---\n",
        "\n",
        "<br>\n",
        "\n",
        "Es importante entender (desde ahora) que el documento en el cual estamos no es una página web estática, sino un entorno interactivo denominado <strong>notebook de Colab</strong>, que permite escribir y ejecutar código. Una vez que levanta la Notebook que les compartí deben abrir un sitio de pruebas que es una copia local sobre la cual pueden trabajar.\n",
        "\n",
        "\n",
        "\n",
        "Existen dos tipos de celdas: Código o Texto "
      ]
    },
    {
      "cell_type": "markdown",
      "metadata": {
        "id": "GtDy86s2tFA8"
      },
      "source": [
        "# Texto"
      ]
    },
    {
      "cell_type": "markdown",
      "metadata": {
        "id": "4zT8jFbls8lD"
      },
      "source": [
        "# Texto en lenguaje Markdown \n",
        "## Texto en lenguaje Markdown \n",
        "### Texto en lenguaje Markdown \n",
        "\n",
        "**Nota:** Hacer doble click para ver el formato\n",
        "\n"
      ]
    },
    {
      "cell_type": "markdown",
      "metadata": {
        "id": "yutEGb1DtG3L"
      },
      "source": [
        "\n",
        "```\n",
        "# 'Esto tiene formato de código`\n",
        "```\n",
        "\n",
        "# Texto título nivel 1\n",
        "\n",
        "*   Elemento de la lista\n",
        "\n",
        "## Texto título nivel 2\n",
        "\n",
        "texto\n",
        "[texto del vínculo](https://)\n",
        "\n",
        "![](https://sitiobigdata.com/wp-content/uploads/2019/02/google-colab.jpeg)\n",
        "\n",
        "$f_r(x)=rx (1-x)$\n",
        "\n",
        "$\\lambda(r)=\\lim\\limits_{n\\rightarrow\\infty}\\frac{1}{n}\n",
        "\\sum_{i=0}^{n-1}\\log\\begin{vmatrix}\\frac{d_{f_r}}{d_x}(x^{(r)}_i)\\end{vmatrix}$\n",
        "\n",
        "[Intro a Markdown](https://www.markdownguide.org/getting-started/)\n",
        "\n"
      ]
    }
  ]
}
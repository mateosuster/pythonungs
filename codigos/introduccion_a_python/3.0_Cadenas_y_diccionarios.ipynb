{
  "nbformat": 4,
  "nbformat_minor": 0,
  "metadata": {
    "anaconda-cloud": {},
    "kernelspec": {
      "display_name": "Python [conda env:BayesP3]",
      "language": "python",
      "name": "conda-env-BayesP3-py"
    },
    "language_info": {
      "codemirror_mode": {
        "name": "ipython",
        "version": 3
      },
      "file_extension": ".py",
      "mimetype": "text/x-python",
      "name": "python",
      "nbconvert_exporter": "python",
      "pygments_lexer": "ipython3",
      "version": "3.6.6"
    },
    "colab": {
      "name": "MPE III - 3) Cadenas y diccionarios.ipynb",
      "provenance": [],
      "collapsed_sections": [],
      "include_colab_link": true
    }
  },
  "cells": [
    {
      "cell_type": "markdown",
      "metadata": {
        "id": "view-in-github",
        "colab_type": "text"
      },
      "source": [
        "<a href=\"https://colab.research.google.com/github/mateosuster/pythonungs/blob/master/codigos/introduccion_a_python/3.0_Cadenas_y_diccionarios.ipynb\" target=\"_parent\"><img src=\"https://colab.research.google.com/assets/colab-badge.svg\" alt=\"Open In Colab\"/></a>"
      ]
    },
    {
      "cell_type": "markdown",
      "metadata": {
        "id": "DhN4iEDH0WX-"
      },
      "source": [
        "# Cadenas o strings\n",
        "\n",
        "En Python las cadenas son definidas como listas de caracteres, por lo que es posible aplicarles las operaciones que vimos con las listas.\n",
        "\n",
        "Una cadena se puede formar usando comillas dobles o sencillas, de la siguiente manera:"
      ]
    },
    {
      "cell_type": "code",
      "metadata": {
        "id": "EhU40Fn_0WX_"
      },
      "source": [
        "fruta = \"banano \""
      ],
      "execution_count": null,
      "outputs": []
    },
    {
      "cell_type": "code",
      "metadata": {
        "id": "i_S0vdyU0WYD"
      },
      "source": [
        "dulce = 'bocadillo'"
      ],
      "execution_count": null,
      "outputs": []
    },
    {
      "cell_type": "markdown",
      "metadata": {
        "id": "Z2ZZsEQk0WYG"
      },
      "source": [
        "En este caso, los operadores + y * dan los siguientes resultados:\n",
        "\n",
        "| Operación | Uso             | Resultado                                         \n",
        "| --------- | --------------- | --------- \n",
        "|    +      | cadena + cadena | Une dos cadenas                                   \n",
        "|    \\*     | cadena * número | Repite una cadena tantas veces como sea el número \n",
        "\n",
        "Con las dos variables arriba definidas podemos realizar, por ejemplo, las\n",
        "siguientes operaciones:"
      ]
    },
    {
      "cell_type": "code",
      "metadata": {
        "id": "MoRQlJHx0WYH"
      },
      "source": [
        "fruta + dulce"
      ],
      "execution_count": null,
      "outputs": []
    },
    {
      "cell_type": "code",
      "metadata": {
        "id": "SzHkptIO0WYK"
      },
      "source": [
        "fruta * 3"
      ],
      "execution_count": null,
      "outputs": []
    },
    {
      "cell_type": "code",
      "metadata": {
        "id": "neXJFmMd0WYM"
      },
      "source": [
        "dulce[0]"
      ],
      "execution_count": null,
      "outputs": []
    },
    {
      "cell_type": "code",
      "metadata": {
        "id": "PGDZ3mNf0WYO"
      },
      "source": [
        "dulce[:7]"
      ],
      "execution_count": null,
      "outputs": []
    },
    {
      "cell_type": "markdown",
      "metadata": {
        "id": "O6HFMvUO0WYR"
      },
      "source": [
        "Sin embargo, las cadenas no pueden ser modificadas, es decir, no les puede asignar nuevos elementos como a las listas y por tanto son inmutables. Esto lo podemos constatar a continuación:"
      ]
    },
    {
      "cell_type": "code",
      "metadata": {
        "id": "jniCfXl70WYR"
      },
      "source": [
        "fruta[2] = 'z'"
      ],
      "execution_count": null,
      "outputs": []
    },
    {
      "cell_type": "markdown",
      "metadata": {
        "id": "eMmUYeBR0WYT"
      },
      "source": [
        "Las cadenas tienen varios métodos que pueden ser de gran utilidad. A diferencia de las funciones, los métodos son acciones se pueden aplican sobre un objeto y son parte de su clase. Es decir, son parte de la funcionalidad del mismo objeto (en cambio las funciones están definidas por sí mismas y no pertenecen a ninguna clase).\n",
        "\n",
        "A los métodos se puede acceder colocando un punto después del nombre de la variable a la que se le haya asignado una cadena y oprimiendo la tecla <kbd>Tab</kbd>. Por ejemplo, si después de `fruta` colocamos un punto, veremos que aparece:"
      ]
    },
    {
      "cell_type": "code",
      "metadata": {
        "id": "yF8nBAxO0WYU"
      },
      "source": [
        "fruta.find('o')\n"
      ],
      "execution_count": null,
      "outputs": []
    },
    {
      "cell_type": "markdown",
      "metadata": {
        "id": "vfZrIcqr0WYW"
      },
      "source": [
        "**Nota**: *Ninguno* de estos métodos *modifican* a la cadena original, pues como ya dijimos, las cadenas son inmutables.\n",
        "\n",
        "Ejemplos de otros métodos:\n",
        "\n",
        "* **upper**: Convierte toda la cadena en mayúsculas"
      ]
    },
    {
      "cell_type": "code",
      "metadata": {
        "id": "jVM8ZYpS0WYX"
      },
      "source": [
        "fruta.upper()"
      ],
      "execution_count": null,
      "outputs": []
    },
    {
      "cell_type": "markdown",
      "metadata": {
        "id": "YFLWZDD70WYZ"
      },
      "source": [
        "* **count**: Cuenta cuantas veces se repite un carácter en una cadena"
      ]
    },
    {
      "cell_type": "code",
      "metadata": {
        "id": "H9iUnXai0WYZ"
      },
      "source": [
        "fruta.count('a')"
      ],
      "execution_count": null,
      "outputs": []
    },
    {
      "cell_type": "markdown",
      "metadata": {
        "id": "tkVGM9Pi0WYc"
      },
      "source": [
        "* **replace**: Reemplaza un carácter o parte de una cadena por otro carácter o cadena"
      ]
    },
    {
      "cell_type": "code",
      "metadata": {
        "id": "Z2apRXdv0WYg"
      },
      "source": [
        "fruta.replace('ban', 'en')"
      ],
      "execution_count": null,
      "outputs": []
    },
    {
      "cell_type": "markdown",
      "source": [
        "\n",
        "\n",
        "*   **startswith**: Evalúa si el string empieza con una cadena determinada\n",
        "\n"
      ],
      "metadata": {
        "id": "oe2hinkl-D7N"
      }
    },
    {
      "cell_type": "code",
      "source": [
        "fruta.startswith(\"man\")"
      ],
      "metadata": {
        "id": "1iWzDFmJ-EWM"
      },
      "execution_count": null,
      "outputs": []
    },
    {
      "cell_type": "markdown",
      "metadata": {
        "id": "kBCuq2l80WYi"
      },
      "source": [
        "* **split**: Divide una cadena según los espacios que tenga y genera una lista de palabras."
      ]
    },
    {
      "cell_type": "code",
      "metadata": {
        "id": "8vhpH-xM0WYi"
      },
      "source": [
        "s = \"Hola, mundo!\""
      ],
      "execution_count": null,
      "outputs": []
    },
    {
      "cell_type": "code",
      "metadata": {
        "id": "2xffmc9Z0WYk"
      },
      "source": [
        "s.split()"
      ],
      "execution_count": null,
      "outputs": []
    },
    {
      "cell_type": "markdown",
      "metadata": {
        "id": "WnAyEj_q0WYm"
      },
      "source": [
        "También puede dividir una cadena por un determinado carácter para partirla en varias subcadenas:"
      ]
    },
    {
      "cell_type": "code",
      "metadata": {
        "id": "h_J9F6lN0WYm"
      },
      "source": [
        "dulce.split('d')"
      ],
      "execution_count": null,
      "outputs": []
    },
    {
      "cell_type": "markdown",
      "metadata": {
        "id": "g6jEWxlI49OK"
      },
      "source": [
        "Podemos ver todas las operaciones que podemos aplicar sobre un dato con la función `dir()`"
      ]
    },
    {
      "cell_type": "code",
      "metadata": {
        "id": "110ngoLL42rx"
      },
      "source": [
        "print(dir(\"cadena\"))"
      ],
      "execution_count": null,
      "outputs": []
    },
    {
      "cell_type": "markdown",
      "metadata": {
        "id": "SgP9pOZP0WZa"
      },
      "source": [
        "# Diccionarios\n",
        "\n",
        "Los diccionarios son una estructura de datos muy usada en Python. Ya hemos visto que los elementos de listas, cadenas y tuplas están indexados por números, es decir, `li[0]`, `fruta[1]` o `tp[2]`. En su lugar, los diccionarios están indexados por *claves* (o *keys* en inglés), que pueden ser no sólo números, sino también cadenas, tuplas o cualquier otro tipo de datos que sea **inmutable**.\n",
        "\n",
        "Lo interesante de los diccionarios es que nos sirven para relacionar dos tipos distintos de datos: las claves con sus *valores* (o *values* en inglés), que pueden ser mutables o inmutables.\n",
        "\n",
        "Por ejemplo, supongamos que queremos guardar los fechas de defunción de distintas personas. Esto lo podemos hacer muy fácilmente con un diccionario, en el que las claves sean el nombre de cada persona y sus valores son los años.\n",
        "\n",
        "Para ello, en Python podemos escribir algo como:"
      ]
    },
    {
      "cell_type": "code",
      "metadata": {
        "id": "aipKjKyQ0WZa"
      },
      "source": [
        "fechas = {'Karl': 1883, 'Friedrich': 1895, 'Vladimir': 1924}"
      ],
      "execution_count": null,
      "outputs": []
    },
    {
      "cell_type": "markdown",
      "metadata": {
        "id": "hqO78HQI0WZc"
      },
      "source": [
        "Como podemos ver, los diccionarios se definen con llaves (`{ }`). Las *claves*\n",
        "son los elementos que están a la izquierda de los `:`, mientras que los que\n",
        "están a la derecha son los *valores*.\n",
        "\n",
        "Como ya se mencionó, para extraer un elemento de un diccionario es necesario usar alguna de sus claves. En nuestro caso, las claves son los nombres de las personas. Por ejemplo, para extraer el código que le corresponde a `Karl` debemos escribir:"
      ]
    },
    {
      "cell_type": "code",
      "metadata": {
        "id": "iX1A58ci0WZc"
      },
      "source": [
        "fechas[\"Karl\"]"
      ],
      "execution_count": null,
      "outputs": []
    },
    {
      "cell_type": "markdown",
      "metadata": {
        "id": "Unt5Aezf0WZe"
      },
      "source": [
        "o para el de `Friedrich`"
      ]
    },
    {
      "cell_type": "code",
      "metadata": {
        "id": "UZDWRVIy0WZf"
      },
      "source": [
        "fechas[\"Friedrich\"]"
      ],
      "execution_count": null,
      "outputs": []
    },
    {
      "cell_type": "markdown",
      "metadata": {
        "id": "S2_LYWYe0WZh"
      },
      "source": [
        "Si alguien cambia de contraseña, podemos actualizar nuestro diccionario fácilmente haciendo una nueva asignación, por ejemplo:"
      ]
    },
    {
      "cell_type": "code",
      "metadata": {
        "id": "FIua3Li20WZh"
      },
      "source": [
        "fechas[\"Vladimir\"] = 1627"
      ],
      "execution_count": null,
      "outputs": []
    },
    {
      "cell_type": "code",
      "metadata": {
        "id": "jMipTfhb0WZj"
      },
      "source": [
        "fechas"
      ],
      "execution_count": null,
      "outputs": []
    },
    {
      "cell_type": "markdown",
      "metadata": {
        "id": "8jeBE7y50WZk"
      },
      "source": [
        "**Nota**: Los diccionarios no tienen un orden interno por defecto. En el último ejemplo podemos ver como `'Friedrich'` aparece al principio del diccionario,  mientras que en la primera definición de `fechas` aparecía segundo. No hay que preocuparse por ello."
      ]
    },
    {
      "cell_type": "markdown",
      "metadata": {
        "id": "D8VBMhL_0WZl"
      },
      "source": [
        "O si una persona se retira del servicio, podemos eliminarla del diccionario\n",
        "usando el siguiente comando:"
      ]
    },
    {
      "cell_type": "code",
      "metadata": {
        "id": "N8pgqhKC0WZl"
      },
      "source": [
        "fechas.pop('Karl')"
      ],
      "execution_count": null,
      "outputs": []
    },
    {
      "cell_type": "code",
      "metadata": {
        "id": "r6DGso-l0WZo"
      },
      "source": [
        "fechas"
      ],
      "execution_count": null,
      "outputs": []
    },
    {
      "cell_type": "markdown",
      "metadata": {
        "id": "VtoLKyp60WZp"
      },
      "source": [
        "Si queremos introducir el nombre y la contraseña de una nueva persona, sólo es\n",
        "necesario usar una nueva clave y asignarle un valor, así"
      ]
    },
    {
      "cell_type": "code",
      "metadata": {
        "id": "B4sUdbsk0WZq"
      },
      "source": [
        "fechas['Rosa'] = 1919\n",
        "fechas"
      ],
      "execution_count": null,
      "outputs": []
    },
    {
      "cell_type": "markdown",
      "metadata": {
        "id": "8JNcOMRl0WZ1"
      },
      "source": [
        "Para extraer todas las claves y los valores de un diccionario podemos usar los siguientes métodos:"
      ]
    },
    {
      "cell_type": "code",
      "metadata": {
        "id": "nJFEYTWs0WZ1"
      },
      "source": [
        "fechas.keys()"
      ],
      "execution_count": null,
      "outputs": []
    },
    {
      "cell_type": "code",
      "metadata": {
        "id": "HKoR_dyT0WZ3"
      },
      "source": [
        "fechas.values()"
      ],
      "execution_count": null,
      "outputs": []
    },
    {
      "cell_type": "code",
      "source": [
        "fechas.values()[0]"
      ],
      "metadata": {
        "id": "PncnV_WE5ovO"
      },
      "execution_count": null,
      "outputs": []
    },
    {
      "cell_type": "markdown",
      "metadata": {
        "id": "fiACZqJH0WZv"
      },
      "source": [
        "Para saber si una persona ya está en el diccionario o no, usamos el siguiente\n",
        "método:"
      ]
    },
    {
      "cell_type": "code",
      "metadata": {
        "id": "P7BQ4FHD0WZv"
      },
      "source": [
        "'Rosa' in fechas.keys()"
      ],
      "execution_count": null,
      "outputs": []
    },
    {
      "cell_type": "code",
      "metadata": {
        "id": "yMuYLSFWY4zR"
      },
      "source": [
        "'Rosa' in fechas"
      ],
      "execution_count": null,
      "outputs": []
    },
    {
      "cell_type": "code",
      "metadata": {
        "id": "bM0j8Y8k0WZy"
      },
      "source": [
        "'El pela' in fechas.keys()"
      ],
      "execution_count": null,
      "outputs": []
    },
    {
      "cell_type": "markdown",
      "metadata": {
        "id": "u4HTiIlqY-w7"
      },
      "source": [
        "Este método sólo busca en las llaves. Veamos si intentamos buscar un valor:"
      ]
    },
    {
      "cell_type": "code",
      "metadata": {
        "id": "wDDD1DDmY_O0"
      },
      "source": [
        "6621 in fechas"
      ],
      "execution_count": null,
      "outputs": []
    }
  ]
}
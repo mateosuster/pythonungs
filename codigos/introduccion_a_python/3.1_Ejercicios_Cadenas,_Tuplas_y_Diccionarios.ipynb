{
  "nbformat": 4,
  "nbformat_minor": 0,
  "metadata": {
    "colab": {
      "name": "MPE III - Ejercicios Cadenas, Tuplas y Diccionarios.ipynb",
      "provenance": [],
      "collapsed_sections": [],
      "authorship_tag": "ABX9TyNd8E7YBZIvnbHWh6tZ2tfX",
      "include_colab_link": true
    },
    "kernelspec": {
      "name": "python3",
      "display_name": "Python 3"
    },
    "language_info": {
      "name": "python"
    }
  },
  "cells": [
    {
      "cell_type": "markdown",
      "metadata": {
        "id": "view-in-github",
        "colab_type": "text"
      },
      "source": [
        "<a href=\"https://colab.research.google.com/github/mateosuster/pythonungs/blob/master/codigos/introduccion_a_python/3.1_Ejercicios_Cadenas%2C_Tuplas_y_Diccionarios.ipynb\" target=\"_parent\"><img src=\"https://colab.research.google.com/assets/colab-badge.svg\" alt=\"Open In Colab\"/></a>"
      ]
    },
    {
      "cell_type": "markdown",
      "metadata": {
        "id": "w77O39UsHmSm"
      },
      "source": [
        "# MPE III\n",
        "## Problemas sobre Cadenas, Tuplas y Diccionarios"
      ]
    },
    {
      "cell_type": "markdown",
      "metadata": {
        "id": "hy0lzUubsS5-"
      },
      "source": [
        "### Problema de la repetición por 50\n",
        "\n",
        "Tomar la variable `dulce`, hacer que se repita 50 veces, y separar las palabras con un espacio, de tal forma que obtengamos algo como lo siguiente, pero **sin** generar un espacio al final.\n",
        "\n",
        "        'bocadillo bocadillo ...'"
      ]
    },
    {
      "cell_type": "code",
      "metadata": {
        "id": "_jr9hR9ZsS6F"
      },
      "source": [
        "# Escribir la solución aquí\n"
      ],
      "execution_count": null,
      "outputs": []
    },
    {
      "cell_type": "markdown",
      "metadata": {
        "id": "7R-HNPEJ0WYs"
      },
      "source": [
        "### Problema contar repeteciones\n",
        "\n",
        "¿Cuántas veces se repite la palabra `banano` en la siguiente cadena?:"
      ]
    },
    {
      "cell_type": "code",
      "metadata": {
        "id": "ANZU9sm20WYs"
      },
      "source": [
        "cadena = 'bananobananobananobananobananobananobananobananobananobananobananobananobananobananobananobananobananobananobananobananobananobananobananobananobananobananobananobananobananobananobananobananobananobananobananobananobananobananobananobananobananobananobananobananobananobananobananobananobananobananobananobananobananobananobananobananobananobananobananobananobananobananobananobananobananobananobananobananobananobananobananobananobananobananobananobananobananobananobananobananobananobananobananobananobananobananobananobananobananobananobananobananobananobananobananobananobananobananobananobananobananobananobananobananobananobananobananobananobananobananobananobananobananobananobananobananobananobananobananobananobananobananobananobananobananobananobananobananobananobananobananobananobananobananobananobananobananobananobananobananobananobananobananobananobananobananobananobananobananobananobAnanObAnanObAnanObAnanObAnanObAnanObAnanObAnanObAnanObAnanObAnanObAnanObAnanObAnanObAnanObAnanObAnanObAnanObAnanObAnanObAnanObAnanObAnanObAnanObAnanObAnanObAnanObAnanObAnanObAnanObAnanObAnanObAnanObAnanObAnanObAnanObAnanObAnanObAnanObAnanObanaNobanaNobanaNobanaNobanaNobanaNobanaNobanaNobanaNobanaNobanaNobanaNobanaNobanaNobanaNobanaNobanaNobanaNobanaNobanaNoBaNaNoBaNaNoBaNaNoBaNaNoBaNaNoBaNaNoBaNaNoBaNaNoBaNaNoBaNaNoBaNaNoBaNaNoBaNaNoBaNaNoBaNaNoBaNaNoBaNaNoBaNaNoBaNaNoBaNaNoBaNaNoBaNaNoBaNaNoBaNaNoBaNaNoBaNaNoBaNaNoBaNaNoBaNaNo'"
      ],
      "execution_count": null,
      "outputs": []
    },
    {
      "cell_type": "markdown",
      "metadata": {
        "id": "yLMMzV840WYw"
      },
      "source": [
        "### Problema contar repeticiones independiente de tipo de letra\n",
        "\n",
        "Cuántas veces se repite `banano` en la cadena anterior, sin importar si algunas de sus letras están en mayúsculas o no?\n"
      ]
    },
    {
      "cell_type": "code",
      "metadata": {
        "id": "Fw9e3mSp0WYx"
      },
      "source": [
        ""
      ],
      "execution_count": null,
      "outputs": []
    },
    {
      "cell_type": "markdown",
      "metadata": {
        "id": "S59ILV5F0WYy"
      },
      "source": [
        "### Problema `center`\n",
        "\n",
        "¿Qué produce el método `center`?\n",
        "\n",
        "Experimentar con los siguientes comandos para ver que produce:"
      ]
    },
    {
      "cell_type": "code",
      "metadata": {
        "id": "KFPsrefa0WYz"
      },
      "source": [
        "dulce = 'bocadillo'\n",
        "dulce.center(2)"
      ],
      "execution_count": null,
      "outputs": []
    },
    {
      "cell_type": "code",
      "metadata": {
        "id": "XiP8AdFQ0WY0"
      },
      "source": [
        "dulce.center(11)"
      ],
      "execution_count": null,
      "outputs": []
    },
    {
      "cell_type": "code",
      "metadata": {
        "id": "HggWjTd-0WY3"
      },
      "source": [
        "dulce.center(16)"
      ],
      "execution_count": null,
      "outputs": []
    },
    {
      "cell_type": "code",
      "metadata": {
        "id": "ObrIHJAq0WY5"
      },
      "source": [
        "dulce.center(30)"
      ],
      "execution_count": null,
      "outputs": []
    },
    {
      "cell_type": "markdown",
      "source": [
        "## Problema conversion string a num\n",
        "\n",
        "Indague que formas de convertir una variable **de string a númerica** existen e intente implementar una solución con la variable:\n",
        "\n",
        "\n",
        "\n",
        "```\n",
        "no_quiero_ser_str = \"420\"\n",
        "```\n",
        "\n"
      ],
      "metadata": {
        "id": "-EGIGn2-Y3dZ"
      }
    },
    {
      "cell_type": "code",
      "source": [
        ""
      ],
      "metadata": {
        "id": "dHicSxE8Y2kw"
      },
      "execution_count": null,
      "outputs": []
    },
    {
      "cell_type": "markdown",
      "metadata": {
        "id": "ZQFGhOL9X4k9"
      },
      "source": [
        "### Problema diccionario con materias (I)\n",
        "\n",
        "Defina un diccionario en donde el contenido de cada llave sea **una lista** con las materias cursadas en sus últimos 3 cuatrimestres.  "
      ]
    },
    {
      "cell_type": "code",
      "metadata": {
        "id": "fl5tyRf5X4w9"
      },
      "source": [
        ""
      ],
      "execution_count": null,
      "outputs": []
    },
    {
      "cell_type": "markdown",
      "metadata": {
        "id": "vPIcwLWZYRn5"
      },
      "source": [
        "### Problema diccionario con materias (II)\n",
        "\n",
        "Dentro del diccionario anterior, modifique una de las listas cambiando dos materias de un cuatrimestre por sus correlativas."
      ]
    },
    {
      "cell_type": "code",
      "metadata": {
        "id": "r8P7C7NXYRn5"
      },
      "source": [
        ""
      ],
      "execution_count": null,
      "outputs": []
    },
    {
      "cell_type": "markdown",
      "source": [
        "### Problema diccionario con materias (III)\n",
        "Guarde todas las llaves y todos los valores del diccionario creado anteriormente en dos variables distintas e imprímalas por pantalla"
      ],
      "metadata": {
        "id": "oj_VSlN5g-Mc"
      }
    },
    {
      "cell_type": "code",
      "source": [
        ""
      ],
      "metadata": {
        "id": "NnjJi8Kmg-UV"
      },
      "execution_count": null,
      "outputs": []
    },
    {
      "cell_type": "markdown",
      "source": [
        "## Problema datos personales\n",
        "Escribir un programa que guarde nombre, edad, dirección y teléfono de una persona en un diccionario. Después debe mostrar por pantalla un mensaje que diga tal persona se llama `nombre`, tiene `edad` años, vive en `dirección` y su número de teléfono es `teléfono`.\n"
      ],
      "metadata": {
        "id": "XKkaP7cFZ-xu"
      }
    },
    {
      "cell_type": "code",
      "source": [
        ""
      ],
      "metadata": {
        "id": "Y7Z2TvbfaY-4"
      },
      "execution_count": null,
      "outputs": []
    },
    {
      "cell_type": "markdown",
      "source": [
        "### Problema diccionario de varias personas\n",
        "Cree otro diccionario con datos personales de otra persona. Luego intente construir **otro** diccionario que incluya a los datos de las dos personas. Finalmente modifique al menos un dato de cada una de las dos personas"
      ],
      "metadata": {
        "id": "QqnMeaexNTa8"
      }
    },
    {
      "cell_type": "code",
      "source": [
        ""
      ],
      "metadata": {
        "id": "h3dlD0TsNThR"
      },
      "execution_count": null,
      "outputs": []
    }
  ]
}
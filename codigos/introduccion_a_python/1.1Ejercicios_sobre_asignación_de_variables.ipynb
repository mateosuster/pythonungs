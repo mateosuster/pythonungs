{
  "nbformat": 4,
  "nbformat_minor": 0,
  "metadata": {
    "colab": {
      "name": "MPE III - Ejercicios sobre asignación de variables.ipynb",
      "provenance": [],
      "include_colab_link": true
    },
    "kernelspec": {
      "name": "python3",
      "display_name": "Python 3"
    },
    "language_info": {
      "name": "python"
    }
  },
  "cells": [
    {
      "cell_type": "markdown",
      "metadata": {
        "id": "view-in-github",
        "colab_type": "text"
      },
      "source": [
        "<a href=\"https://colab.research.google.com/github/mateosuster/pythonungs/blob/master/codigos/introduccion_a_python/1.1Ejercicios_sobre_asignaci%C3%B3n_de_variables.ipynb\" target=\"_parent\"><img src=\"https://colab.research.google.com/assets/colab-badge.svg\" alt=\"Open In Colab\"/></a>"
      ]
    },
    {
      "cell_type": "markdown",
      "source": [
        "# MPE III\n",
        "## Problemas sobre asignación de variables"
      ],
      "metadata": {
        "id": "hzscC8JBwUwW"
      }
    },
    {
      "cell_type": "markdown",
      "source": [
        "### Problema del saludo inicial\n",
        "\n",
        "Realice el ritual de iniciación pythónico de imprimir un \"Hola mundo!\" por la pantalla"
      ],
      "metadata": {
        "id": "UwLRa6ZtzUfG"
      }
    },
    {
      "cell_type": "code",
      "metadata": {
        "id": "eA6gpCrnIfI6"
      },
      "source": [
        "# Escribir la solución aquí\n"
      ],
      "execution_count": null,
      "outputs": []
    },
    {
      "cell_type": "markdown",
      "source": [
        "### Problema nuestra primera asignación\n",
        "\n",
        "Asigne en una variable llamada `var` un dato de tipo *float* cualquiera. Luego imprima por la pantalla el valor de la misma con la función utilizada en el problema anterior. Decore la impresión con un texto a elección (ejemplo: \"el valor de `var` es ...\").\n",
        "\n",
        "**Nota:** se pueden imprimir varios objetos, separándolos con `,` dentro de los argumentos de la función"
      ],
      "metadata": {
        "id": "uDouX-lnwuaX"
      }
    },
    {
      "cell_type": "code",
      "source": [
        "# Escribir la solución aquí\n"
      ],
      "metadata": {
        "id": "mW22cRld0t5p"
      },
      "execution_count": null,
      "outputs": []
    },
    {
      "cell_type": "markdown",
      "source": [
        "### Problema variable borrada\n",
        "\n",
        "La función `del()` sirve para eliminar variables creadas en el entorno de ejecución. Utilícela para eliminar la variable definida en el problema anterior. Luego, intente nuevamente imprimir por pantalla la variable ahora eliminada. Interpréte y explique el error que se presenta. \n"
      ],
      "metadata": {
        "id": "1cyPLPxgyyw8"
      }
    },
    {
      "cell_type": "code",
      "source": [
        "# Escribir la solución aquí\n"
      ],
      "metadata": {
        "id": "khtE_dqa1kjc"
      },
      "execution_count": null,
      "outputs": []
    }
  ]
}
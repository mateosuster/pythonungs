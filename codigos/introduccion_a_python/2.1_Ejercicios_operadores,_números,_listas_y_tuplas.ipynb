{
  "nbformat": 4,
  "nbformat_minor": 0,
  "metadata": {
    "colab": {
      "name": "MPE III - Ejercicios operadores, números, listas y tuplas.ipynb",
      "provenance": [],
      "include_colab_link": true
    },
    "kernelspec": {
      "name": "python3",
      "display_name": "Python 3"
    },
    "language_info": {
      "name": "python"
    }
  },
  "cells": [
    {
      "cell_type": "markdown",
      "metadata": {
        "id": "view-in-github",
        "colab_type": "text"
      },
      "source": [
        "<a href=\"https://colab.research.google.com/github/mateosuster/pythonungs/blob/master/codigos/introduccion_a_python/2.1_Ejercicios_operadores%2C_n%C3%BAmeros%2C_listas_y_tuplas.ipynb\" target=\"_parent\"><img src=\"https://colab.research.google.com/assets/colab-badge.svg\" alt=\"Open In Colab\"/></a>"
      ]
    },
    {
      "cell_type": "markdown",
      "metadata": {
        "id": "Ln7wwnSE0LpX"
      },
      "source": [
        "# MPE III\n",
        "## Problemas sobre operadores, números, listas y tuplas"
      ]
    },
    {
      "cell_type": "markdown",
      "metadata": {
        "id": "o6O5nA4OIfI6"
      },
      "source": [
        "### Problema aritmético\n",
        "\n",
        "Escribir un programa que muestre por pantalla el resultado de la siguiente operación aritmética $\\frac{(3+2)^{2}}{420-10}$. Utilice la asignación de variables vista en clases."
      ]
    },
    {
      "cell_type": "code",
      "metadata": {
        "id": "eA6gpCrnIfI6"
      },
      "source": [
        "# Escribir la solución aquí\n"
      ],
      "execution_count": null,
      "outputs": []
    },
    {
      "cell_type": "markdown",
      "metadata": {
        "id": "RFgzv0CfKHcQ"
      },
      "source": [
        "### Problema IMC\n",
        "\n",
        "Guarde en distintas variables su peso (kg) y estatura (m) y calcule su Índice de Masa Corporal. Almacene dicho valor en una nueva variable e imprímalo por pantalla junto a alguna leyenda."
      ]
    },
    {
      "cell_type": "code",
      "metadata": {
        "id": "rfE34P5SKHcQ"
      },
      "source": [
        "# Escribir la solución aquí\n"
      ],
      "execution_count": null,
      "outputs": []
    },
    {
      "cell_type": "markdown",
      "metadata": {
        "id": "bDnnVI1wL9dJ"
      },
      "source": [
        "### Problema lista al cubo\n",
        "\n",
        "Cree una lista con sus notas del cuatrimestre pasado y posteriormente imprima por pantalla cada elemento **de la lista** junto con su cubo. Si no tiene ninguna nota, invente."
      ]
    },
    {
      "cell_type": "code",
      "metadata": {
        "id": "y_iLIoIGL9dJ"
      },
      "source": [
        "# Escribir la solución aquí\n"
      ],
      "execution_count": null,
      "outputs": []
    },
    {
      "cell_type": "markdown",
      "metadata": {
        "id": "Z3C3jDJiE6JA"
      },
      "source": [
        "### Problema materias\n",
        "\n",
        "Escribir un programa que almacene las materias que se encuentra cursando en una lista y lo muestre por pantalla. Luego imprima \"*Este cuatri estoy cursando* `asignatura1`*,* `asignatura2`*, ... y* `asignaturaN`\", donde `asignatura` es cada una de las **materias de la lista**."
      ]
    },
    {
      "cell_type": "code",
      "metadata": {
        "id": "gTVEWMSzE6JB"
      },
      "source": [
        "# Escribir la solución aquí\n",
        "\n"
      ],
      "execution_count": null,
      "outputs": []
    },
    {
      "cell_type": "markdown",
      "metadata": {
        "id": "KS7j-qRrFvP7"
      },
      "source": [
        "### Problema materias correlacionadas\n",
        "\n",
        "**Modificar la lista anterior** reemplazando las materias con alguna de sus correlacionadas.  "
      ]
    },
    {
      "cell_type": "code",
      "metadata": {
        "id": "TZpG_uQBFvP7"
      },
      "source": [
        "# Escribir la solución aquí\n",
        "\n"
      ],
      "execution_count": null,
      "outputs": []
    },
    {
      "cell_type": "markdown",
      "source": [
        "### Problema tercer elemento\n",
        "\n",
        "Dada la lista numeros = [10, 20, 30, 40, 50], accede al tercer elemento y asígnalo a la variable tercer_elemento."
      ],
      "metadata": {
        "id": "D2CxAnX6rEAa"
      }
    },
    {
      "cell_type": "code",
      "source": [
        "# Escribir la solución aquí\n",
        "\n"
      ],
      "metadata": {
        "id": "s6S3h4zarJYJ"
      },
      "execution_count": null,
      "outputs": []
    },
    {
      "cell_type": "markdown",
      "source": [
        "### Problema suma lista\n",
        "\n",
        "Dada la lista numeros = [1, 2, 3, 4, 5], calcula la suma de todos sus elementos"
      ],
      "metadata": {
        "id": "QeGq5joxswEF"
      }
    },
    {
      "cell_type": "code",
      "source": [
        "# Escribir la solución aquí\n",
        "\n"
      ],
      "metadata": {
        "id": "jSGLVExws3F0"
      },
      "execution_count": null,
      "outputs": []
    },
    {
      "cell_type": "markdown",
      "metadata": {
        "id": "0telMEJf0LpX"
      },
      "source": [
        "### Problema 100 repeticiones\n",
        "\n",
        "Construir una lista que tenga `100` repeticiones de los números `-1`, `0` y `1`, en ese orden exacto."
      ]
    },
    {
      "cell_type": "code",
      "metadata": {
        "id": "YEuMI7vD0LpX"
      },
      "source": [
        "# Escribir la solución aquí\n",
        "\n"
      ],
      "execution_count": null,
      "outputs": []
    },
    {
      "cell_type": "markdown",
      "metadata": {
        "id": "icr1Zj9pQJCQ"
      },
      "source": [
        "### Problema concatenada\n",
        "\n",
        "Construir dos listas (con el contenido que usted quiera) y luego concatenarlas en una variable llamada `concatenada`"
      ]
    },
    {
      "cell_type": "code",
      "metadata": {
        "id": "0HTAMejkQJCT"
      },
      "source": [
        "# Escribir la solución aquí\n"
      ],
      "execution_count": null,
      "outputs": []
    },
    {
      "cell_type": "markdown",
      "metadata": {
        "id": "jPccSXH90LpZ"
      },
      "source": [
        "### Problema el uno rodeado\n",
        "\n",
        "Construir una lista que tenga un `1` rodeado de dos listas, cada una con `20` ceros."
      ]
    },
    {
      "cell_type": "code",
      "metadata": {
        "id": "HdpG5iio0LpZ"
      },
      "source": [
        "# Escribir la solución aquí\n"
      ],
      "execution_count": null,
      "outputs": []
    },
    {
      "cell_type": "markdown",
      "metadata": {
        "id": "eGf2iPKHaPas"
      },
      "source": [
        "### Problema Farenheit a Celcius\n",
        "\n",
        "Escribir un programa que convierta 78 grados Farenheit a Celsius. Guarde el resultado en una variable e imprima el resultado\n",
        "\n",
        "Fórmula de conversión:\n",
        "\n",
        "$$C° = (F°-32)*\\frac{5}{9}$$"
      ]
    },
    {
      "cell_type": "code",
      "metadata": {
        "id": "RtJ8hMzSaTw6"
      },
      "source": [
        "# Escribir la solución aquí\n"
      ],
      "execution_count": null,
      "outputs": []
    },
    {
      "cell_type": "markdown",
      "metadata": {
        "id": "yNiHMXv73Wak"
      },
      "source": [
        "### Problema millas a kilómetros\n",
        "\n",
        "Escribir un script que convierta un valor en millas a kilómetros.\n",
        "\n",
        "$$1\\  milla = 1,60934\\  kilometros$$\n",
        "$$1\\  kilómetro = 0.621371\\  millas$$\n"
      ]
    },
    {
      "cell_type": "code",
      "metadata": {
        "id": "7Zoys17D5BA4"
      },
      "source": [
        "# Escribir la solución aquí\n",
        "\n"
      ],
      "execution_count": null,
      "outputs": []
    },
    {
      "cell_type": "markdown",
      "metadata": {
        "id": "KYpsdPAi5eSx"
      },
      "source": [
        "### Problema millas a kilómetros redondeado\n",
        " Modificar el problema anterior para redondear el resultado a dos decimales después de la coma.\n",
        "\n",
        " **Nota:** Usar la función `round()`. Ejemplo: `round(x, d)` redondea el número `x` a `d` decimales después de la coma."
      ]
    },
    {
      "cell_type": "code",
      "metadata": {
        "id": "LTdtruZp5nlw"
      },
      "source": [
        "# Escribir la solución aquí\n"
      ],
      "execution_count": null,
      "outputs": []
    },
    {
      "cell_type": "markdown",
      "metadata": {
        "id": "5tKUGFM_5n3c"
      },
      "source": [
        "### Problema millas a kilometros con lista de 3\n",
        "\n",
        "Modificar el ejercicio anterior para que convierta una lista de 3 valores en millas a otra lista con sus 3 valores correspondientes en kilómetros."
      ]
    },
    {
      "cell_type": "code",
      "metadata": {
        "id": "yiDIaa5DHLwS"
      },
      "source": [
        "# Escribir la solución aquí\n"
      ],
      "execution_count": null,
      "outputs": []
    },
    {
      "cell_type": "markdown",
      "metadata": {
        "id": "IVYdhUie0Lpb"
      },
      "source": [
        "### Problema promedio lista\n",
        "\n",
        "Calcular el promedio de la siguiente lista:"
      ]
    },
    {
      "cell_type": "code",
      "metadata": {
        "id": "DW65UXQv0Lpc"
      },
      "source": [
        "li = [3, 18, 17, 44, 14, 12, 29, 19, 4, 6, 17, 7, 14, 6, 8, 17, 17, 21, 65,\\\n",
        "      19, 10, 31, 92, 17, 5, 15, 3, 14, 20, 12, 29, 57, 15, 2, 17, 1, 6, 17, 2,\\\n",
        "      71, 12, 11, 62, 14, 9, 20, 43, 19, 4, 15,5]\n"
      ],
      "execution_count": null,
      "outputs": []
    },
    {
      "cell_type": "markdown",
      "metadata": {
        "id": "ivBqAS6o0Lpe"
      },
      "source": [
        "*Respuesta*:\n",
        "\n",
        "    19.75\n",
        "\n",
        "**Nota**: Usar el comando `sum(li)` para obtener la suma de los elementos de la lista, y el comando `len(li)` para obtener cuantos elementos tiene."
      ]
    },
    {
      "cell_type": "code",
      "metadata": {
        "id": "BqWHLtvP0Lpe"
      },
      "source": [
        "# Escribir la solución aquí\n"
      ],
      "execution_count": null,
      "outputs": []
    },
    {
      "cell_type": "markdown",
      "metadata": {
        "id": "X-bTkIBy0Lpg"
      },
      "source": [
        "\n",
        "### Problema media movil lista\n",
        "\n",
        "La media móvil es un concepto muy usado en economía para tratar de observar si existe una tendencia al alza o a la baja en la evolución de una variable (por ejemplo, el PBI o los precios de las acciones de una empresa). Para ello, lo que hace es crear una serie de promedios de distintos subconjuntos del conjunto de datos original.\n",
        "\n",
        "Por ejemplo, si en siete días las acciones de una empresa tuvieron los siguientes precios:\n",
        "\n",
        "    Precios: 11, 12, 13, 14, 15, 16, 17\n",
        "\n",
        "Podemos calcular la media móvil, en periodos de cinco días, de la siguiente forma:\n",
        "\n",
        "    Primera media móvil de 5 días: (11 + 12 + 13 + 14 + 15) / 5 = 13\n",
        "\n",
        "    Segunda media móvil de 5 días: (12 + 13 + 14 + 15 + 16) / 5 = 14\n",
        "\n",
        "    Tercera media móvil de 5 días: (13 + 14 + 15 + 16 + 17) / 5 = 15\n",
        "\n",
        "Con esta descripción, encontrar de la cuarta, séptima y décima medias móviles, en periodos de 10 días, para los siguientes precios de las acciones de Intel registrados entre el 24 de Marzo y el 5 de Mayo de 2010:"
      ]
    },
    {
      "cell_type": "code",
      "metadata": {
        "id": "XusJcc9M0Lpg"
      },
      "source": [
        "intel = [22.27, 22.19, 22.08, 22.17, 22.18, 22.13, 22.23, 22.43, 22.24,\\\n",
        "         22.29, 22.15, 22.39, 22.38, 22.61, 23.36, 24.05, 23.75, 23.83, 23.95,\\\n",
        "         23.63, 23.82, 23.87, 23.65, 23.19, 23.10, 23.33, 22.68, 23.10, 22.40,\\\n",
        "         22.17]"
      ],
      "execution_count": null,
      "outputs": []
    },
    {
      "cell_type": "markdown",
      "metadata": {
        "id": "9ZfmCRax0Lpi"
      },
      "source": [
        "*Respuesta*:\n",
        "\n",
        "    22.259, 22.613, 23.076\n",
        "    \n",
        "**Nota**: Utilizar las operaciones de rebanado descritas arriba."
      ]
    },
    {
      "cell_type": "code",
      "metadata": {
        "id": "R0PXyFvFRc2Y"
      },
      "source": [
        "# Escribir la solución aquí\n"
      ],
      "execution_count": null,
      "outputs": []
    },
    {
      "cell_type": "markdown",
      "metadata": {
        "id": "tfrurJW10WZI"
      },
      "source": [
        "### Problema promedio tupla\n",
        "\n",
        "¿Es posible calcular el promedio a la lista de la siguiente tupla?"
      ]
    },
    {
      "cell_type": "code",
      "metadata": {
        "id": "6tSigIoQ0WZJ"
      },
      "source": [
        "li = (3, 18, 17, 44, 14, 12, 29, 19, 4, 6, 17, 7, 14, 6, 8, 17, 17, 21, 65,\\\n",
        "      19, 10, 31, 92, 17, 5, 15, 3, 14, 20, 12, 29, 57, 15, 2, 17, 1, 6, 17, 2,\\\n",
        "      71, 12, 11, 62, 14, 9, 20, 43, 19, 4, 15)"
      ],
      "execution_count": null,
      "outputs": []
    },
    {
      "cell_type": "markdown",
      "metadata": {
        "id": "olR2oqmh0WZO"
      },
      "source": [
        "### Problema crear tupla\n",
        "\n",
        "Crear una tupla que tenga un sólo elemento"
      ]
    },
    {
      "cell_type": "code",
      "metadata": {
        "id": "25YIDVSlWdet"
      },
      "source": [],
      "execution_count": null,
      "outputs": []
    },
    {
      "cell_type": "markdown",
      "metadata": {
        "id": "ajtJDOUa0WZQ"
      },
      "source": [
        "### Problema asignación tupla (I)\n",
        "\n",
        "¿Qué efecto tiene esta operación dado el valor asignado a `tp1`?"
      ]
    },
    {
      "cell_type": "code",
      "metadata": {
        "id": "FV66tcYx0WZR"
      },
      "source": [
        "tp1 = 'a', 'b', 2\n",
        "x, y, z = tp1\n",
        "y"
      ],
      "execution_count": null,
      "outputs": []
    },
    {
      "cell_type": "markdown",
      "metadata": {
        "id": "rmQs2PKI0WZT"
      },
      "source": [
        "Escriba su respuesta aquí...."
      ]
    },
    {
      "cell_type": "markdown",
      "metadata": {
        "id": "ZOL3bL_U0WZV"
      },
      "source": [
        "### Problema asignación tupla (II)\n",
        "\n",
        "¿Por qué, en cambio, esta operación falla?"
      ]
    },
    {
      "cell_type": "code",
      "metadata": {
        "id": "v1lRpSqi0WZV"
      },
      "source": [
        "u, v, z, x = tp1\n",
        "v"
      ],
      "execution_count": null,
      "outputs": []
    },
    {
      "cell_type": "markdown",
      "metadata": {
        "id": "BsWRvYPfXilH"
      },
      "source": [
        "### Problema máximo de una tupla\n",
        "\n",
        "¿Cómo se calcula el máximo de una tupla?"
      ]
    },
    {
      "cell_type": "code",
      "metadata": {
        "id": "TwhOAA92XlHu"
      },
      "source": [],
      "execution_count": null,
      "outputs": []
    }
  ]
}
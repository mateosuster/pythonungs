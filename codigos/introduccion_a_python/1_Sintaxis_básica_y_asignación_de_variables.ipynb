{
  "nbformat": 4,
  "nbformat_minor": 0,
  "metadata": {
    "colab": {
      "name": "MPE III - 1) Sintaxis básica y asignación de variables.ipynb",
      "provenance": [],
      "collapsed_sections": [],
      "include_colab_link": true
    },
    "kernelspec": {
      "name": "python3",
      "display_name": "Python 3"
    },
    "language_info": {
      "name": "python"
    }
  },
  "cells": [
    {
      "cell_type": "markdown",
      "metadata": {
        "id": "view-in-github",
        "colab_type": "text"
      },
      "source": [
        "<a href=\"https://colab.research.google.com/github/mateosuster/pythonungs/blob/master/codigos/introduccion_a_python/1_Sintaxis_b%C3%A1sica_y_asignaci%C3%B3n_de_variables.ipynb\" target=\"_parent\"><img src=\"https://colab.research.google.com/assets/colab-badge.svg\" alt=\"Open In Colab\"/></a>"
      ]
    },
    {
      "cell_type": "markdown",
      "metadata": {
        "id": "EQ0TXLMHUWxR"
      },
      "source": [
        "# Código\n",
        "\n",
        "Evaluemos algunas expresiones..."
      ]
    },
    {
      "cell_type": "code",
      "metadata": {
        "id": "-nFXTNY9xQAT"
      },
      "source": [
        "2 + 420"
      ],
      "execution_count": null,
      "outputs": []
    },
    {
      "cell_type": "code",
      "metadata": {
        "id": "gJrtitysxScB"
      },
      "source": [
        "2 + 420."
      ],
      "execution_count": null,
      "outputs": []
    },
    {
      "cell_type": "code",
      "metadata": {
        "id": "3BKCaK-4xVPF"
      },
      "source": [
        "\"Hola\""
      ],
      "execution_count": null,
      "outputs": []
    },
    {
      "cell_type": "code",
      "metadata": {
        "id": "jBfuhgUGxZkc"
      },
      "source": [
        "'Hola'"
      ],
      "execution_count": null,
      "outputs": []
    },
    {
      "cell_type": "code",
      "metadata": {
        "id": "B3kchoyixcGY"
      },
      "source": [
        "\"Hola\" + ' mundo'"
      ],
      "execution_count": null,
      "outputs": []
    },
    {
      "cell_type": "markdown",
      "source": [
        "Veamos ahora el *bautismo pythónico* inicial: digámosle \"Hola\" al mundo!"
      ],
      "metadata": {
        "id": "LlBGF9HUf-Pi"
      }
    },
    {
      "cell_type": "code",
      "metadata": {
        "id": "oiI0eOv8tJvO"
      },
      "source": [
        "print(\"Hola mundo!\")"
      ],
      "execution_count": null,
      "outputs": []
    },
    {
      "cell_type": "markdown",
      "metadata": {
        "id": "JgKVipXWuoSM"
      },
      "source": [
        "## Asignación de variables\n",
        "\n",
        "`variable = expresion`\n",
        "\n"
      ]
    },
    {
      "cell_type": "code",
      "metadata": {
        "id": "tD8oGs1PUaRN"
      },
      "source": [
        "pi = 3.1416"
      ],
      "execution_count": null,
      "outputs": []
    },
    {
      "cell_type": "markdown",
      "metadata": {
        "id": "9UO--0_iwLgd"
      },
      "source": [
        "Podemos usar la función `print()` para imprimir por pantalla, aunque también es posible relizarlo solo invocando los objetos creados (aunque esto no es tan frecuente, incluso podría ser considerado por algunes como una *mala práctica*)"
      ]
    },
    {
      "cell_type": "code",
      "metadata": {
        "id": "-BE2D8BFw2Vt"
      },
      "source": [
        "print(pi)"
      ],
      "execution_count": null,
      "outputs": []
    },
    {
      "cell_type": "code",
      "metadata": {
        "id": "Q3brXs4musdC"
      },
      "source": [
        "pi"
      ],
      "execution_count": null,
      "outputs": []
    },
    {
      "cell_type": "code",
      "metadata": {
        "id": "37yJTceK5EnL"
      },
      "source": [
        "# esto es un comentario, el cual no es leído por el programa\n",
        "\n",
        "pi / 420 # podemos introducir comentarios en cualquier lugar seguido de un numeral (\"#\")"
      ],
      "execution_count": null,
      "outputs": []
    },
    {
      "cell_type": "code",
      "metadata": {
        "id": "6GUWSvG25elk"
      },
      "source": [
        "# print(pi + 420 ) # esto tiene pinta de ser codigo pero se encuentra \"comentado\""
      ],
      "execution_count": null,
      "outputs": []
    },
    {
      "cell_type": "markdown",
      "metadata": {
        "id": "ncfGDQ0wv8u5"
      },
      "source": [
        "Python (como muchos otros lenguajes) distingue mayúsculas y minúsculas, por lo que hay que tener cuidado a la hora de asignarles un nombre. Es importante también que las variables tengan nombres declarativos."
      ]
    },
    {
      "cell_type": "code",
      "metadata": {
        "id": "hwUINffHNkvL"
      },
      "source": [
        "Variable=5\n",
        "variable=3\n",
        "VaRiAbLe=8\n",
        "# Son todas variables distintas !\n"
      ],
      "execution_count": null,
      "outputs": []
    },
    {
      "cell_type": "markdown",
      "metadata": {
        "id": "t_TfY5R7wE_x"
      },
      "source": [
        "Hay que tener cuidado con los **estados** de las variables, ya que pueden ir modificándose a lo largo del algoritmo. \n",
        "\n",
        "Por ejemplo, la variable `papita` puede empezar valiendo 5.... "
      ]
    },
    {
      "cell_type": "code",
      "metadata": {
        "id": "Sy-FMaQTNj1S"
      },
      "source": [
        "papita = 5\n",
        "print(papita)"
      ],
      "execution_count": null,
      "outputs": []
    },
    {
      "cell_type": "markdown",
      "metadata": {
        "id": "2EfdWU3vxZdz"
      },
      "source": [
        "Pero puede terminar valiendo otra cosa..."
      ]
    },
    {
      "cell_type": "code",
      "metadata": {
        "id": "UQXbdy7qxZlX"
      },
      "source": [
        "papita = 18\n",
        "print(papita)"
      ],
      "execution_count": null,
      "outputs": []
    },
    {
      "cell_type": "markdown",
      "metadata": {
        "id": "IOzb9v86xpw3"
      },
      "source": [
        "Siempre tomará el último valor asignado (los estados anteriores se pierden)"
      ]
    },
    {
      "cell_type": "code",
      "metadata": {
        "id": "VYzcKP_gxqDB"
      },
      "source": [
        "papita = \"frita\"\n",
        "print(papita)"
      ],
      "execution_count": null,
      "outputs": []
    },
    {
      "cell_type": "markdown",
      "source": [
        "## Tipos de datos"
      ],
      "metadata": {
        "id": "QmXQ_oQA-l21"
      }
    },
    {
      "cell_type": "code",
      "source": [
        "type(2)"
      ],
      "metadata": {
        "id": "QZCYEi-S-ymo"
      },
      "execution_count": null,
      "outputs": []
    },
    {
      "cell_type": "code",
      "source": [
        "type(2.)"
      ],
      "metadata": {
        "id": "Za4de2ne-z68"
      },
      "execution_count": null,
      "outputs": []
    },
    {
      "cell_type": "code",
      "source": [
        "type(\"texto\")"
      ],
      "metadata": {
        "id": "T0N2lXm2-1EP"
      },
      "execution_count": null,
      "outputs": []
    },
    {
      "cell_type": "code",
      "source": [
        "type(None)"
      ],
      "metadata": {
        "id": "jYniIVd4-5Cx"
      },
      "execution_count": null,
      "outputs": []
    }
  ]
}
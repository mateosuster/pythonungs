{
  "cells": [
    {
      "cell_type": "markdown",
      "metadata": {
        "id": "view-in-github",
        "colab_type": "text"
      },
      "source": [
        "<a href=\"https://colab.research.google.com/github/mateosuster/pythonungs/blob/master/codigos/introduccion_a_python/Practica_manejo_de_errores.ipynb\" target=\"_parent\"><img src=\"https://colab.research.google.com/assets/colab-badge.svg\" alt=\"Open In Colab\"/></a>"
      ]
    },
    {
      "cell_type": "markdown",
      "metadata": {
        "id": "h5qz8twf3V21"
      },
      "source": [
        "## Listas, Funciones, Errores\n"
      ]
    },
    {
      "cell_type": "markdown",
      "metadata": {
        "id": "tTFZQSB63V28"
      },
      "source": [
        "- [Control de flujo](#Control-de-flujo)\n",
        "- [Tuplas](#Tuplas)\n",
        "- [Errores](#Errores)\n",
        "- [List Comprehension](#List-Comprehension)\n",
        "- [Funciones](#Funciones)"
      ]
    },
    {
      "cell_type": "markdown",
      "metadata": {
        "id": "zzHtUC9Q3V29"
      },
      "source": [
        "### Pequeño Repaso"
      ]
    },
    {
      "cell_type": "code",
      "execution_count": null,
      "metadata": {
        "id": "bBIM47e73V2-"
      },
      "outputs": [],
      "source": [
        "for i in range(1, 10):\n",
        "    if i % 2 == 0:\n",
        "        print(f\"El número {i} es par\")"
      ]
    },
    {
      "cell_type": "markdown",
      "metadata": {
        "id": "s-af307m3V3C"
      },
      "source": [
        "## Control de flujo\n",
        "\n",
        "Contamos con 3 _keywords_ que modifican el orden de ejecución **dentro de un bucle**\n",
        "\n",
        "- **continue**: interrumpe el flujo del bucle y retoma la ejecución en la siguiente iteración\n",
        "- **break**: termina el bucle\n",
        "- **pass**: no tiene efecto, se usa para evitar error cuando lo exige la sintáxis\n"
      ]
    },
    {
      "cell_type": "markdown",
      "metadata": {
        "id": "YOet2F_j3V3D"
      },
      "source": [
        "Vamos a simular una base de datos de usuarios empleando un diccionario. Este diccionario tiene como llave un id representando por un entero. Como valor tiene un diccionario con nombre, apellido y dni."
      ]
    },
    {
      "cell_type": "code",
      "execution_count": null,
      "metadata": {
        "id": "7UdnCLZp3V3D"
      },
      "outputs": [],
      "source": [
        "base = {\n",
        "    1: {\"nombre\":\"Fernanda\",\n",
        "        \"apellido\":\"Fernandez\",\n",
        "        \"dni\":333333331},\n",
        "    2: {\"nombre\":\"Gonzalo\",\n",
        "        \"apellido\":\"Gonzalez\",\n",
        "        \"dni\":333333332},\n",
        "    3: {\"nombre\":\"Rodrigo\",\n",
        "        \"apellido\":\"Rodriguez\",\n",
        "        \"dni\":333333333}\n",
        "    }"
      ]
    },
    {
      "cell_type": "markdown",
      "metadata": {
        "id": "1_pcGIDV3V3F"
      },
      "source": [
        "Supongamos que en una página web tenemos un formulario en el cual las personas que acceden completan con su dni y queremos saber el nombre y apellido si contamos con el mismo en la base, y si no lo tenemos sólo queremos saber cuál es el dni."
      ]
    },
    {
      "cell_type": "code",
      "execution_count": null,
      "metadata": {
        "id": "Arw_Qoka3V3G"
      },
      "outputs": [],
      "source": [
        "dnis = [333333331, 333333336, 333333339, 333333332, None, 333333333]"
      ]
    },
    {
      "cell_type": "code",
      "execution_count": null,
      "metadata": {
        "id": "uljoUMiy3V3H"
      },
      "outputs": [],
      "source": [
        "n_encontrados = 0\n",
        "\n",
        "for dni in dnis: # itero por todos los dnis\n",
        "\n",
        "    if type(dni) == int: # si el tipo es entero\n",
        "        dni_encontrado = False # inicializo una variable con valor False, ya van a ver para qué :-)\n",
        "\n",
        "        # Ahora viene la parte complicada, ¿cómo sé si ese dni ya está en mi base?\n",
        "        # 1- Recordemos que base es un diccionario y como tal tiene el método items(), pruébenlo afuera de esta celda\n",
        "        # me devuelve una tupla, con la llave en el primer elemento y el valor en el segundo\n",
        "\n",
        "        # itero por todos los elementos\n",
        "        for i in base.items():\n",
        "            valor = i[1] # guardo el valor en una variable\n",
        "            if dni == valor[\"dni\"]: # si el dni es el mismo que estoy buscando...\n",
        "                dni_encontrado = True\n",
        "                nombre_completo = valor[\"nombre\"] + \" \" + valor[\"apellido\"]\n",
        "                n_encontrados += 1 # esto equivale a encontrados = encontrados + 1, agrega uno\n",
        "                break # freno la búsqueda, ésto evita que siga buscando\n",
        "\n",
        "        if dni_encontrado: # entra acá si es True\n",
        "            print(f\"{nombre_completo.title()} ingreso a nuestra web\")\n",
        "\n",
        "        elif not dni_encontrado: # noten el not\n",
        "            print(f'El dni {dni} no se encuentra en la base...')\n",
        "            continue # sigo con la búsqueda, NO paso a la siguiente línea\n",
        "\n",
        "        print(f\"Hasta el momento se encontraron {n_encontrados} casos\")\n",
        "\n",
        "    else:\n",
        "        pass # si dni no es un entero entonces no hacemos nada, suponemos que hubo algún tipo de error"
      ]
    },
    {
      "cell_type": "markdown",
      "metadata": {
        "id": "LGU2-GHa3V3J"
      },
      "source": [
        "## Tuplas"
      ]
    },
    {
      "cell_type": "markdown",
      "metadata": {
        "id": "QJIVfor83V3K"
      },
      "source": [
        "Una **tupla** es una secuencia **inmutable** de longitud fija. Las tuplas generalmente se utilizan para representar secuencias de elementos que tienen longitud fija."
      ]
    },
    {
      "cell_type": "code",
      "execution_count": null,
      "metadata": {
        "id": "jgrp-ucx3V3K"
      },
      "outputs": [],
      "source": [
        "registro = ('Argentina', 112000, 'Bariloche')"
      ]
    },
    {
      "cell_type": "markdown",
      "metadata": {
        "id": "fuMZ4o6m3V3L"
      },
      "source": [
        "Podemos acceder a un elemento por un índice como con una lista"
      ]
    },
    {
      "cell_type": "code",
      "execution_count": null,
      "metadata": {
        "id": "ckk0oAhZGgJY"
      },
      "outputs": [],
      "source": [
        "registro[0]"
      ]
    },
    {
      "cell_type": "markdown",
      "metadata": {
        "id": "-wl3UPrK3V3M"
      },
      "source": [
        "#### Unpacking\n",
        "\n",
        "Con una tupla, o una lista podemos separar una secuencia en variables de la siguiente manera"
      ]
    },
    {
      "cell_type": "code",
      "execution_count": null,
      "metadata": {
        "id": "Llaio0pk3V3N"
      },
      "outputs": [],
      "source": [
        "pais, poblacion, ciudad = registro\n",
        "\n",
        "print(\"País:\", pais)\n",
        "print(\"Población:\", poblacion)\n",
        "print(\"Ciudad:\", ciudad)"
      ]
    },
    {
      "cell_type": "code",
      "execution_count": null,
      "metadata": {
        "id": "ck5lAsi-JUsX"
      },
      "outputs": [],
      "source": [
        "registros = [registro, ('Brasil', 477000, 'Florianópolis')]\n",
        "registros[1]"
      ]
    },
    {
      "cell_type": "markdown",
      "metadata": {
        "id": "4aVkkHH-3V3O"
      },
      "source": [
        "Pero como las tuplas son **inmutables** no se pueden modificar"
      ]
    },
    {
      "cell_type": "code",
      "execution_count": null,
      "metadata": {
        "id": "Rm6B1xR53V3O"
      },
      "outputs": [],
      "source": [
        "# Una lista sí se puede modificar\n",
        "lista = [1, 2, 3]\n",
        "\n",
        "lista[0] = 4\n",
        "\n",
        "lista"
      ]
    },
    {
      "cell_type": "markdown",
      "metadata": {
        "id": "L9a5YeXg3V3P"
      },
      "source": [
        "En cambio una tupla no se puede modificar o, como dice el cartel de error, no permite asignación:"
      ]
    },
    {
      "cell_type": "code",
      "execution_count": null,
      "metadata": {
        "id": "jfOf0WAymLDQ"
      },
      "outputs": [],
      "source": [
        "print(registro)\n",
        "registro[0] = 'Chile'"
      ]
    },
    {
      "cell_type": "code",
      "execution_count": null,
      "metadata": {
        "id": "uH_frLgp3V3Q"
      },
      "outputs": [],
      "source": [
        "# tampoco se puede borrar ninguno de sus elementos\n",
        "del registro[0]"
      ]
    },
    {
      "cell_type": "markdown",
      "metadata": {
        "id": "FMKgKVpx3V3R"
      },
      "source": [
        "## Tipos de errores\n",
        "\n",
        "En el ejemplo de arriba vimos una pantalla de error. El **traceback** o **stack trace** nos muestra el camino del error: veremos más adelante que cuando tenemos funciones anidadas, vemos aquí como el error se propaga.\n",
        "\n",
        "Las cosas a las que en principio les debemos prestar atención son:\n",
        "\n",
        "   1. El nombre del error, en este caso **TypeError**\n",
        "   2. La explicación dada en el último renglón: \"'tuple' object doesn't support item deletion\"\n",
        "   3. La flecha que nos indica la línea en la que ocurrió el error"
      ]
    },
    {
      "cell_type": "markdown",
      "metadata": {
        "id": "JPsoHAdO3V3R"
      },
      "source": [
        "Existen distintos tipos de errores en Python, pueden consultar la lista de todas las excepciones básicas acá:\n",
        "https://docs.python.org/3/library/exceptions.html#bltin-exceptions\n",
        "\n",
        "Sin embargo, las excepciones más frecuentes son:\n",
        "\n",
        "**AttributeError**: cuando tratamos de llamar a una referencia que no existe.\n",
        "\n",
        "**NameError**: cuando se llama a una variable u otro nombre que no está definido en el ambiente en que estamos trabajando.\n",
        "\n",
        "**KeyError**: cuando queremos llamar a una llave que no existe, por ejemplo, en un diccionario.\n",
        "\n",
        "**SyntaxError**: cuando hay un problema de sintaxis, errores muy comunes al comienzo pueden ser que no se cerró una llave o corchete, que falta alguna coma o dos puntos.\n",
        "\n",
        "**TypeError**: cuando el tipo de soporta una determinada operación.\n",
        "\n",
        "**IndexError**: cuando el índice al que se quiere acceder no existe, generalmente debido a que se llama a un índice mayor al largo de la lista."
      ]
    },
    {
      "cell_type": "markdown",
      "metadata": {
        "id": "BBn28GTe3V3S"
      },
      "source": [
        "Veamos algunos ejemplos:"
      ]
    },
    {
      "cell_type": "code",
      "execution_count": null,
      "metadata": {
        "id": "m7DV9QGp3V3S"
      },
      "outputs": [],
      "source": [
        "print(no_definido)"
      ]
    },
    {
      "cell_type": "code",
      "execution_count": null,
      "metadata": {
        "id": "6EH1qg553V3S"
      },
      "outputs": [],
      "source": [
        "print(base) # recordamos base"
      ]
    },
    {
      "cell_type": "code",
      "execution_count": null,
      "metadata": {
        "id": "RfGOW4H93V3T"
      },
      "outputs": [],
      "source": [
        "base['Gertrudis']"
      ]
    },
    {
      "cell_type": "markdown",
      "metadata": {
        "id": "1EfD-Pbd3V3T"
      },
      "source": [
        "### Ejercicios"
      ]
    },
    {
      "cell_type": "markdown",
      "metadata": {
        "id": "mGEim2KK3V3U"
      },
      "source": [
        "Prueben y arreglen los siguientes errores de código:\n",
        "\n",
        "\n",
        "1. ¿Qué está pasando en este código?"
      ]
    },
    {
      "cell_type": "code",
      "execution_count": null,
      "metadata": {
        "id": "Kjh4dYPv3V3U"
      },
      "outputs": [],
      "source": [
        "if 10 > 5\n",
        "    print('Qué está pasando?')"
      ]
    },
    {
      "cell_type": "markdown",
      "metadata": {
        "id": "7J9VKv7-3V3U"
      },
      "source": [
        "2. ¿Y en este? Traten de arreglarlo"
      ]
    },
    {
      "cell_type": "code",
      "execution_count": null,
      "metadata": {
        "id": "8Sk9CSjJ3V3V"
      },
      "outputs": [],
      "source": [
        "a = 5\n",
        "b = \"3\"\n",
        "a + b == 8"
      ]
    },
    {
      "cell_type": "markdown",
      "metadata": {
        "id": "7Wi4k5CH3V3V"
      },
      "source": [
        "3. ¿Y continuación?"
      ]
    },
    {
      "cell_type": "code",
      "execution_count": null,
      "metadata": {
        "id": "bNLmiuqr3V3W"
      },
      "outputs": [],
      "source": [
        "a = [\"the beatles\", \"the rolling stones\", \"queen\", \"led zepellin\"]\n",
        "\n",
        "a[4]"
      ]
    },
    {
      "cell_type": "markdown",
      "metadata": {
        "id": "3Q7fy9R-3V3W"
      },
      "source": [
        "4- ¿Y acá? ¿qué pasó?"
      ]
    },
    {
      "cell_type": "code",
      "execution_count": null,
      "metadata": {
        "id": "5qmlcq0C3V3W"
      },
      "outputs": [],
      "source": [
        "a.appended([\"cream\"])"
      ]
    },
    {
      "cell_type": "markdown",
      "metadata": {
        "id": "cPp19aPX3V3X"
      },
      "source": [
        "## Manejo de errores"
      ]
    },
    {
      "cell_type": "markdown",
      "metadata": {
        "id": "1HPiTkAg3V3X"
      },
      "source": [
        "Para anticipar y manejar los errores, podemos usar la clausula **try** y **except**"
      ]
    },
    {
      "cell_type": "code",
      "execution_count": null,
      "metadata": {
        "id": "va00KTef3V3Y"
      },
      "outputs": [],
      "source": [
        "a = '20'\n",
        "b = 5\n",
        "\n",
        "try:\n",
        "    print(a+b)\n",
        "except:\n",
        "    print(int(a)+int(b)) # convierto a int ambas variables"
      ]
    },
    {
      "cell_type": "markdown",
      "metadata": {
        "id": "Wm_Icip43V3Y"
      },
      "source": [
        "Si queremos ver qué excepción ocurrió, podemos usar la siguiente sintáxis:"
      ]
    },
    {
      "cell_type": "code",
      "execution_count": null,
      "metadata": {
        "id": "thsHnz4w3V3Y"
      },
      "outputs": [],
      "source": [
        "try:\n",
        "    print(a+b)\n",
        "except Exception as e:\n",
        "    print(f\"El error fue {e}\")"
      ]
    },
    {
      "cell_type": "markdown",
      "metadata": {
        "id": "uqsyA-Wk3V3Z"
      },
      "source": [
        "También podemos especificar qué hacer para distintos tipos de error:"
      ]
    },
    {
      "cell_type": "code",
      "execution_count": null,
      "metadata": {
        "id": "GH6jC9vn3V3Z"
      },
      "outputs": [],
      "source": [
        "lista_tuplas = [('3', 8),\n",
        "                (5, 0),\n",
        "                (3, ),\n",
        "                (4, 6)]\n",
        "\n",
        "for t in lista_tuplas:\n",
        "    print(f\"la tupla es {t}\")\n",
        "\n",
        "    try:\n",
        "        print(\"intento dividir...\")\n",
        "        print(t[0] / t[1])\n",
        "        print(\"éxito!\")\n",
        "    except IndexError:\n",
        "        print('El largo está mal')\n",
        "    except TypeError:\n",
        "        print('Error en el tipo de datos')\n",
        "    except ZeroDivisionError:\n",
        "        print(\"No se puede dividir por cero\")\n",
        "\n",
        "    print()"
      ]
    },
    {
      "cell_type": "markdown",
      "metadata": {
        "id": "P_FuZOtt5_v9"
      },
      "source": [
        "# Listas por comprensión (List Comprehension)"
      ]
    },
    {
      "cell_type": "markdown",
      "metadata": {
        "id": "pKJ0aPBY5_v9"
      },
      "source": [
        "Las **listas por comprensión** son una funcionalidad muy flexible de Python que permite crear listas de un modo más \"descriptivo\", basandose en la notación de definición de conjuntos."
      ]
    },
    {
      "cell_type": "markdown",
      "metadata": {
        "id": "UiX8lW2F5_v9"
      },
      "source": [
        "Supongamos que necesitamos obtener una lista con los elementos de una lista original elevados al cuadrado.\n",
        "\n",
        "Sin listas por comprensión haríamos..."
      ]
    },
    {
      "cell_type": "code",
      "execution_count": null,
      "metadata": {
        "id": "2IEzVUC-5_v9"
      },
      "outputs": [],
      "source": [
        "lista = [1,2,3,4,5]\n",
        "\n",
        "cuadrados = []\n",
        "\n",
        "for x in lista:\n",
        "    cuadrados.append(x**2)\n",
        "\n",
        "cuadrados"
      ]
    },
    {
      "cell_type": "markdown",
      "metadata": {
        "id": "M33Xo-AH5_v9"
      },
      "source": [
        "En cambio, con listas por comprensión usamos esta expresión:"
      ]
    },
    {
      "cell_type": "code",
      "execution_count": null,
      "metadata": {
        "id": "QE22aod15_v9"
      },
      "outputs": [],
      "source": [
        "cuadrados = [x**2 for x in lista]\n",
        "cuadrados"
      ]
    },
    {
      "cell_type": "markdown",
      "metadata": {
        "id": "5eSwjVuj5_v9"
      },
      "source": [
        "En las listas por comprensión también podemos incluir condicionales en una sola línea, vean la siguiente expresión:"
      ]
    },
    {
      "cell_type": "code",
      "execution_count": null,
      "metadata": {
        "id": "YpOa7oAU5_v9"
      },
      "outputs": [],
      "source": [
        "x = 10\n",
        "print(x if x > 15 else 0)"
      ]
    },
    {
      "cell_type": "code",
      "execution_count": null,
      "metadata": {
        "id": "cCPBXuUx5_v9"
      },
      "outputs": [],
      "source": [
        "x = 16\n",
        "print(x if x > 15 else 0)"
      ]
    },
    {
      "cell_type": "markdown",
      "metadata": {
        "id": "VErxWHiq5_v9"
      },
      "source": [
        "Ahora vamos a generar una lista por comprensión sólo con los números donde el cuadrado sea menor a 15"
      ]
    },
    {
      "cell_type": "code",
      "execution_count": null,
      "metadata": {
        "id": "9XawHwau5_v-"
      },
      "outputs": [],
      "source": [
        "cuadrados = [x**2 for x in lista if x**2 < 15]\n",
        "cuadrados"
      ]
    },
    {
      "cell_type": "markdown",
      "metadata": {
        "id": "OLHzEbvJ5_v-"
      },
      "source": [
        "La sintáxis para **filtrar** con condicionales es\n",
        "\n",
        "> [ (elemento) ( for x in (iterable) ) ( if condicion ) ]\n",
        "\n",
        "Donde \"elemento\" es lo que vayamos a guardar en la lista. <br> <br>  Incluyendo un **else**:\n",
        "\n",
        "> [ (elemento) (if condicion else otro_elemento) ( for x in (iterable) ) ]\n",
        "\n",
        "Pueden hacerse loops anidados:\n",
        "\n",
        "> [i for i in range(x) for j in range(y)]"
      ]
    },
    {
      "cell_type": "markdown",
      "metadata": {
        "id": "1aljVQCT5_v-"
      },
      "source": [
        "Otra forma de pensar la sintaxis es a partir de teoría de conjuntos. Por ejemplo:\n",
        "Un conjunto S definido por todos los números X / 4 que pertenecen a los Naturales y cumplen que su cuadrado es menor a 60\n",
        "\n",
        "$$S=\\{\\,\\frac{x}{4}\\mid x \\in \\mathbb{N},\\ x^2<60\\,\\}$$"
      ]
    },
    {
      "cell_type": "markdown",
      "metadata": {
        "id": "P9P3snpk5_v-"
      },
      "source": [
        "Con un loop for:"
      ]
    },
    {
      "cell_type": "code",
      "execution_count": null,
      "metadata": {
        "id": "xFaBtITr5_v-"
      },
      "outputs": [],
      "source": [
        "S = []\n",
        "\n",
        "for x in range(1000):\n",
        "    if x ** 2 < 60:\n",
        "        S.append(x/4)\n",
        "S"
      ]
    },
    {
      "cell_type": "markdown",
      "metadata": {
        "id": "HHOnm7XS5_v-"
      },
      "source": [
        "Con listas por comprensión:"
      ]
    },
    {
      "cell_type": "code",
      "execution_count": null,
      "metadata": {
        "id": "6SRHtz5q5_v-"
      },
      "outputs": [],
      "source": [
        "S = [x/4 for x in range(1000) if x**2 < 60]\n",
        "S"
      ]
    },
    {
      "cell_type": "code",
      "execution_count": null,
      "metadata": {
        "id": "KN7Pf9OG5_v-"
      },
      "outputs": [],
      "source": [
        "for x in range(3):\n",
        "    for y in 'abc':\n",
        "        print(x,y)"
      ]
    },
    {
      "cell_type": "code",
      "execution_count": null,
      "metadata": {
        "id": "uIc0eYfS5_v_"
      },
      "outputs": [],
      "source": [
        "[(x, y) for x in range(3) for y in 'abc']"
      ]
    },
    {
      "cell_type": "markdown",
      "metadata": {
        "id": "DM4voCvD5_v_"
      },
      "source": [
        "O comprensiones anidadas:\n",
        "\n",
        "> [ [i for i in range(x) ] for j in range(y) ]"
      ]
    },
    {
      "cell_type": "code",
      "execution_count": null,
      "metadata": {
        "id": "OptmVOwV5_v_"
      },
      "outputs": [],
      "source": [
        "[[l*n for l in 'abc'] for n in range(3)]"
      ]
    },
    {
      "cell_type": "markdown",
      "metadata": {
        "id": "sQzZDtjt5_v_"
      },
      "source": [
        "Además, el elemento que se genera puede ser de otro tipo, en este caso una tupla:"
      ]
    },
    {
      "cell_type": "code",
      "execution_count": null,
      "metadata": {
        "id": "OR_eVkVf5_v_"
      },
      "outputs": [],
      "source": [
        "animales = ['mantarraya', 'pandas', 'narval', 'unicornio']\n",
        "\n",
        "[(a, len(a)) for a in animales]"
      ]
    },
    {
      "cell_type": "markdown",
      "metadata": {
        "id": "-Eixez2b5_v_"
      },
      "source": [
        "### Ejercicios"
      ]
    },
    {
      "cell_type": "markdown",
      "metadata": {
        "id": "TM4FiEj45_wA"
      },
      "source": [
        "1- Dado el siguiente grupo de palabras, crear otra lista que contenga sólo la primera letra de cada una"
      ]
    },
    {
      "cell_type": "code",
      "execution_count": null,
      "metadata": {
        "id": "rcKmaALl5_wA"
      },
      "outputs": [],
      "source": [
        "lista = ['a','ante','bajo','cabe','con']"
      ]
    },
    {
      "cell_type": "markdown",
      "metadata": {
        "id": "cK5KZLr65_wA"
      },
      "source": [
        "2- Dada la siguiente frase, crear una lista con el largo de cada palabra.\n",
        "Tip: Antes de aplicar listas por comprensión pueden usar la función split que vimos la clase pasada y la función replace para remover la puntuación."
      ]
    },
    {
      "cell_type": "code",
      "execution_count": null,
      "metadata": {
        "id": "15Eo09If5_wA"
      },
      "outputs": [],
      "source": [
        "frase = 'Cambiar el mundo, amigo Sancho, no es ni utopía ni locura, es justicia'"
      ]
    },
    {
      "cell_type": "markdown",
      "metadata": {
        "id": "_TOHFrYt3V3Z"
      },
      "source": [
        "# I/O\n",
        "\n",
        "Ahora veremos como abrir archivos usando Python base. Para hacerlo usaremos la sentencia **with** para definir un **contexto** del siguiente modo:\n",
        "\n",
        "    with open('corpus.txt', 'r') as inp:\n",
        "        string_contenido = inp.read()\n",
        "        \n",
        "Lo que significa: con el archivo \"corpus.txt\" abierto en **modo** lectura (\"r\" de read) con el **alias** _inp_, definimos la variable contenido usando el método **.read()** para leer el archivo. Algunas aclaraciones:\n",
        "\n",
        "- El método .read() es propio del objeto de input, que **en esta ocasión** llamamos _inp_. Otro método útil es **.readlines()** que nos permite iterar por renglones.\n",
        "- La ruta al archivo puede ser **relativa** como en este caso, donde el archivo se encontraría en la misma carpeta que la notebook. También se puede dar el path completo, como podría ser \"C:/Usuarios/Matías/Documentos/corpus.txt\""
      ]
    },
    {
      "cell_type": "markdown",
      "metadata": {
        "id": "zuSvhSZh3V3a"
      },
      "source": [
        "Existen varios modos de abrir un archivo, incluyendo:\n",
        "\n",
        "    - r: read, lectura\n",
        "    - w: write, escritura\n",
        "    - a: append, agregar al final del archivo\n",
        "   \n",
        "Por ejemplo, para escribir en un archivo, haríamos:\n",
        "\n",
        "    with open(outpath, 'w') as f:\n",
        "        f.write(string)"
      ]
    },
    {
      "cell_type": "code",
      "execution_count": null,
      "metadata": {
        "id": "yvuPe-qX3V3a"
      },
      "outputs": [],
      "source": [
        "with open('nuevo.txt', 'w') as f:\n",
        "    f.write('ejemplo de escritura')"
      ]
    },
    {
      "cell_type": "code",
      "execution_count": null,
      "metadata": {
        "id": "aA0yL32V3V3a"
      },
      "outputs": [],
      "source": [
        "with open('nuevo.txt', 'r') as f:\n",
        "    contenido = f.read()\n",
        "\n",
        "print(contenido)"
      ]
    },
    {
      "cell_type": "markdown",
      "metadata": {
        "id": "7u5PEC213V3b"
      },
      "source": [
        "En Python se puede pedir un input del usuario de la siguiente manera:"
      ]
    },
    {
      "cell_type": "code",
      "execution_count": null,
      "metadata": {
        "id": "uG54n_bs3V3f"
      },
      "outputs": [],
      "source": [
        "while True:\n",
        "    usuario_dijo = input('Ingrese un numero')\n",
        "\n",
        "    try:\n",
        "        num = int(usuario_dijo)\n",
        "        break\n",
        "    except:\n",
        "        print('No anduvo, intente de nuevo')\n",
        "\n",
        "print(f'Su numero fue {num}! :D')"
      ]
    },
    {
      "cell_type": "markdown",
      "metadata": {
        "id": "z7m76iKu3V3f"
      },
      "source": [
        "# Funciones\n",
        "\n",
        "Las funciones nos permiten estandarizar y reutilizar un proceso en múltiples ocasiones.\n",
        "\n",
        "Como patrón de diseño, las funciones tienen que ser lo más atómicas posibles, es decir, resolver un problema lo más pequeño posible y bien definido.\n",
        "\n",
        "Los nombres también son importantes, el nombre de la función tiene que reflejar lo mejor posible lo que hace.\n",
        "\n",
        "\n",
        "Las funciones se definen de la siguiente manera:\n",
        "\n",
        "    def nombre_de_funcion(argumentos):\n",
        "        \"\"\"docstring opcional\"\"\"\n",
        "        resultado = procedimiento(argumentos)\n",
        "        return resultado\n",
        "        \n",
        "Las variables definidias en el contexto de una función son locales, es decir, sólo viven dentro de esa función. Por otra parte, si desde una función se llama a una variable que no está definida en la función tratará de buscarla afuera. En general, es buena práctica usar sólo variables definidas dentro de la función o argumentos.\n",
        "\n",
        "Los argumentos son variables que le pasamos a la función para que *haga algo*.\n",
        "\n",
        "Las funciones emplean dos términos reservados:\n",
        "\n",
        "- def: que indica el comienzo de la definición de la función\n",
        "\n",
        "- return: establece la variable o variables que devuelve la función\n",
        "\n",
        "En este punto vale la pena mencionar que en Python los nombres (de variables, funciones, etc.) se almacenan y ordenan en NameSpaces. En este punto, la información definida dentro de la función no es compartida con el exterior de la función (salvo algunas excepciones que no vienen al caso), por lo tanto, para compartirla, la función debe enviar desde el NameSpace local (el de la función) al NameSpace global (donde está el resto del programa). Para ello, el término return indica qué se devolverá al ambiente global. Para que efectivamente esa/s variable/s que la función devuelve se guarden una variable en el ambiente global debemos asignar el resultado a una variable. Esto va a quedar más claro con el código.\n",
        "\n",
        "Por último, vale la pena mencionar que *print* sólo nos muestra el contenido de una variable pero no envía la información desde la función hacia afuera."
      ]
    },
    {
      "cell_type": "code",
      "execution_count": null,
      "metadata": {
        "id": "MHLgRqvu3V3g"
      },
      "outputs": [],
      "source": [
        "def promedio(lista):\n",
        "    return sum(lista) / len(lista)"
      ]
    },
    {
      "cell_type": "code",
      "execution_count": null,
      "metadata": {
        "id": "beWdpjEu3V3g"
      },
      "outputs": [],
      "source": [
        "resultado = promedio([0,1,2,3]) # asigno el resultado\n",
        "print(resultado)"
      ]
    },
    {
      "cell_type": "code",
      "execution_count": null,
      "metadata": {
        "id": "TKQBI6Bt3V3h"
      },
      "outputs": [],
      "source": [
        "def suma(a,b):\n",
        "    \"\"\"Esta función recibe dos numeros y devuelve la suma\"\"\"\n",
        "    return a+b"
      ]
    },
    {
      "cell_type": "code",
      "execution_count": null,
      "metadata": {
        "id": "LKMxgiQj3V3h"
      },
      "outputs": [],
      "source": [
        "r = suma(3,5) # asigno el resultado\n",
        "print(r)"
      ]
    },
    {
      "cell_type": "code",
      "execution_count": null,
      "metadata": {
        "id": "ZWH_9Agh3V3h"
      },
      "outputs": [],
      "source": [
        "def rango(lista):\n",
        "    return max(lista) - min(lista)"
      ]
    },
    {
      "cell_type": "code",
      "execution_count": null,
      "metadata": {
        "id": "ruLPIDqD3V3i"
      },
      "outputs": [],
      "source": [
        "lista = [89, -24, 9, 2]\n",
        "rango(lista)"
      ]
    },
    {
      "cell_type": "markdown",
      "metadata": {
        "id": "x11_Fll93V3i"
      },
      "source": [
        "### Ejercicios:\n",
        "\n",
        "1- Escribir una función que reciba una lista con números y devuelva la suma de todos los pares\n",
        "\n",
        "2- Escribir una función que tome una lista con distintos elementos (de cualquier tipo) y devuelva una lista sólo con los últimos tres números que aparecen."
      ]
    },
    {
      "cell_type": "markdown",
      "metadata": {
        "id": "Hw8M9vMQ3V3i"
      },
      "source": [
        "En las funciones existen argumentos se pueden pasar por posición o por su nombre. Algunos de los argumentos tienen un valor por default."
      ]
    },
    {
      "cell_type": "code",
      "execution_count": null,
      "metadata": {
        "id": "2Tc_eWuc3V3j"
      },
      "outputs": [],
      "source": [
        "def unir_lista(lista, conector=' '):\n",
        "    \"\"\"Esta funcion recibe dos argumentos, una lista y un conector\n",
        "    y devuelve la lista unida usando el conector.\"\"\"\n",
        "\n",
        "    unida = conector.join([str(e) for e in lista])\n",
        "\n",
        "    return unida"
      ]
    },
    {
      "cell_type": "code",
      "execution_count": null,
      "metadata": {
        "id": "RguBLWoK3V3j"
      },
      "outputs": [],
      "source": [
        "unir_lista(['unir',3,'cosas'])"
      ]
    },
    {
      "cell_type": "code",
      "execution_count": null,
      "metadata": {
        "id": "EMJGDNJu3V3j"
      },
      "outputs": [],
      "source": [
        "unir_lista(['probando', 'unir', 'lista', 123], conector = ',')"
      ]
    },
    {
      "cell_type": "markdown",
      "metadata": {
        "id": "n29zifmH3V3j"
      },
      "source": [
        "Lo que no podemos hacer es pasar el argumento nombrado antes de el o los posicionales"
      ]
    },
    {
      "cell_type": "code",
      "execution_count": null,
      "metadata": {
        "id": "PehRqNEi3V3k"
      },
      "outputs": [],
      "source": [
        "unir_lista(conector = ',',['probando', 'unir', 'lista', 123])"
      ]
    },
    {
      "cell_type": "markdown",
      "metadata": {
        "id": "4PcVOkcn3V3k"
      },
      "source": [
        "Cuando uso los argumentos por su nombre, puedo pasarlos en cualquier orden"
      ]
    },
    {
      "cell_type": "code",
      "execution_count": null,
      "metadata": {
        "id": "yGp0qoHO3V3k"
      },
      "outputs": [],
      "source": [
        "unir_lista(conector = ',',lista = ['probando', 'unir', 'lista', 123])"
      ]
    },
    {
      "cell_type": "markdown",
      "metadata": {
        "id": "a8ITJtyW3V3k"
      },
      "source": [
        "Existen distintos tipos de argumentos, principalmente los llamados \"args\" y \"kwargs\", o argumentos y \"keyword arguments\" es decir argumentos nombrados."
      ]
    },
    {
      "cell_type": "markdown",
      "metadata": {
        "id": "6mb1XZmU3V3l"
      },
      "source": [
        "También podemos tener un numero variable de argumentos, usando el symbolo *, por conveción al parámetro se le llama 'args'"
      ]
    },
    {
      "cell_type": "markdown",
      "metadata": {
        "id": "1kQ9JcQY3V3l"
      },
      "source": [
        "Internamente, los elementos de *args se tratan como una tupla"
      ]
    },
    {
      "cell_type": "code",
      "execution_count": null,
      "metadata": {
        "id": "jqvZxc9B3V3l"
      },
      "outputs": [],
      "source": [
        "def suma_todos(*args):\n",
        "    print(type(args))\n",
        "    return sum(args)"
      ]
    },
    {
      "cell_type": "code",
      "execution_count": null,
      "metadata": {
        "id": "Qmu8tvyA3V3l",
        "outputId": "840ea38e-ad8d-4cc3-86f5-309f97d87444",
        "colab": {
          "base_uri": "https://localhost:8080/"
        }
      },
      "outputs": [
        {
          "output_type": "stream",
          "name": "stdout",
          "text": [
            "<class 'tuple'>\n"
          ]
        },
        {
          "output_type": "execute_result",
          "data": {
            "text/plain": [
              "16"
            ]
          },
          "metadata": {},
          "execution_count": 2
        }
      ],
      "source": [
        "suma_todos(9,1,4,2)"
      ]
    },
    {
      "cell_type": "markdown",
      "metadata": {
        "id": "0uwI2Qw63V3m"
      },
      "source": [
        "En cambio los elementos de **kwargs se tratan como un diccionario"
      ]
    },
    {
      "cell_type": "code",
      "execution_count": null,
      "metadata": {
        "id": "R6yP6IoZ3V3m"
      },
      "outputs": [],
      "source": [
        "def consulta(**kwargs):\n",
        "    print(type(kwargs))\n",
        "    texto = f\"Su consulta es {kwargs['fecha']} a las {kwargs['hora']}\"\n",
        "    return texto"
      ]
    },
    {
      "cell_type": "code",
      "execution_count": null,
      "metadata": {
        "id": "W49mHQvN3V3n",
        "outputId": "01c64bdb-a513-405f-92bf-1ebbdb49dd22",
        "colab": {
          "base_uri": "https://localhost:8080/",
          "height": 53
        }
      },
      "outputs": [
        {
          "output_type": "stream",
          "name": "stdout",
          "text": [
            "<class 'dict'>\n"
          ]
        },
        {
          "output_type": "execute_result",
          "data": {
            "text/plain": [
              "'Su consulta es hoy a las 4PM'"
            ],
            "application/vnd.google.colaboratory.intrinsic+json": {
              "type": "string"
            }
          },
          "metadata": {},
          "execution_count": 10
        }
      ],
      "source": [
        "consulta(fecha='hoy',hora='4PM')"
      ]
    },
    {
      "cell_type": "markdown",
      "source": [
        "El símbolo * también permite desempaquetar elementos que le pasamos a una función (con * para los argumentos de tipo arg y ** para los kwargs)"
      ],
      "metadata": {
        "id": "hE0yWOLeCj9l"
      }
    },
    {
      "cell_type": "code",
      "source": [
        "otra_lista= [4,6,3] #definimos una lista, pero podría ser otro tipo de dato, por ej, una tupla\n",
        "suma_todos(*otra_lista)"
      ],
      "metadata": {
        "id": "N3926IfcB-7i",
        "outputId": "ae5d3631-6a85-46c3-fb0b-e3b7008ecd34",
        "colab": {
          "base_uri": "https://localhost:8080/"
        }
      },
      "execution_count": null,
      "outputs": [
        {
          "output_type": "stream",
          "name": "stdout",
          "text": [
            "<class 'tuple'>\n"
          ]
        },
        {
          "output_type": "execute_result",
          "data": {
            "text/plain": [
              "13"
            ]
          },
          "metadata": {},
          "execution_count": 11
        }
      ]
    },
    {
      "cell_type": "code",
      "source": [
        "otro_dict = {'fecha': '19/04/1945', 'hora': '3AM'}\n",
        "consulta(**otro_dict)"
      ],
      "metadata": {
        "id": "70kkItyPCjU4",
        "outputId": "c7ac7c14-f325-4f22-cd80-2f40a43e621f",
        "colab": {
          "base_uri": "https://localhost:8080/",
          "height": 53
        }
      },
      "execution_count": null,
      "outputs": [
        {
          "output_type": "stream",
          "name": "stdout",
          "text": [
            "<class 'dict'>\n"
          ]
        },
        {
          "output_type": "execute_result",
          "data": {
            "text/plain": [
              "'Su consulta es 19/04/1945 a las 3AM'"
            ],
            "application/vnd.google.colaboratory.intrinsic+json": {
              "type": "string"
            }
          },
          "metadata": {},
          "execution_count": 14
        }
      ]
    },
    {
      "cell_type": "markdown",
      "metadata": {
        "id": "7-6rV2KF3V3n"
      },
      "source": [
        "Finalmente, podemos juntar todo lo visto en una misma función, es decir, tener argumentos sin nombre sin valor default, argumentos con valores default, args y kwargs. Esto es especialmente útil cuando necesitamos enviar args o kwargs a otras funciones usadas dentro de una función."
      ]
    },
    {
      "cell_type": "code",
      "execution_count": null,
      "metadata": {
        "id": "ha-58NsP3V3n"
      },
      "outputs": [],
      "source": [
        "valor_consulta = {\"consulta\":10, \"arreglos_caries\":20, \"flúor\":15}"
      ]
    },
    {
      "cell_type": "code",
      "execution_count": null,
      "metadata": {
        "id": "YzP5nHCL3V3n"
      },
      "outputs": [],
      "source": [
        "costos = list(valor_consulta.values())\n",
        "costos"
      ]
    },
    {
      "cell_type": "code",
      "execution_count": null,
      "metadata": {
        "id": "9_maQHqD3V3o"
      },
      "outputs": [],
      "source": [
        "def emitir_factura(nombre, dni, tipo=\"DNI\", *args, **kwargs):\n",
        "    factura = \"\"\n",
        "    factura += f\"Gracias por su visita Nombre:{nombre} \\n\"\n",
        "    factura += f\"{tipo} {dni} \\n\"\n",
        "    costo = suma_todos(*args) # hago unpacking de args\n",
        "    factura += f\"El costo es {costo} \\n\"\n",
        "    factura += consulta(**kwargs) # hago unpacking de kwargs\n",
        "    return factura"
      ]
    },
    {
      "cell_type": "code",
      "execution_count": null,
      "metadata": {
        "id": "M96Wysd_3V3p"
      },
      "outputs": [],
      "source": [
        "factura = emitir_factura(\"Obi Wan\", 370310455, \"DNI\", *costos, fecha=\"hoy\", hora=\"5PM\")"
      ]
    },
    {
      "cell_type": "code",
      "execution_count": null,
      "metadata": {
        "id": "hf6trYo-3V3p"
      },
      "outputs": [],
      "source": [
        "print(factura)"
      ]
    }
  ],
  "metadata": {
    "kernelspec": {
      "display_name": "Python (base)",
      "language": "python",
      "name": "base"
    },
    "language_info": {
      "codemirror_mode": {
        "name": "ipython",
        "version": 3
      },
      "file_extension": ".py",
      "mimetype": "text/x-python",
      "name": "python",
      "nbconvert_exporter": "python",
      "pygments_lexer": "ipython3",
      "version": "3.7.3"
    },
    "colab": {
      "provenance": [],
      "toc_visible": true,
      "include_colab_link": true
    }
  },
  "nbformat": 4,
  "nbformat_minor": 0
}
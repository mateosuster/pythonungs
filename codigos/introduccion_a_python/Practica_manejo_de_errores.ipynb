{
  "cells": [
    {
      "cell_type": "markdown",
      "metadata": {
        "id": "view-in-github",
        "colab_type": "text"
      },
      "source": [
        "<a href=\"https://colab.research.google.com/github/mateosuster/pythonungs/blob/master/codigos/introduccion_a_python/Practica_manejo_de_errores.ipynb\" target=\"_parent\"><img src=\"https://colab.research.google.com/assets/colab-badge.svg\" alt=\"Open In Colab\"/></a>"
      ]
    },
    {
      "cell_type": "markdown",
      "metadata": {
        "id": "h5qz8twf3V21"
      },
      "source": [
        "# Errores\n"
      ]
    },
    {
      "cell_type": "markdown",
      "metadata": {
        "id": "FMKgKVpx3V3R"
      },
      "source": [
        "## Tipos de errores\n",
        "\n",
        "En el ejemplo de arriba vimos una pantalla de error. El **traceback** o **stack trace** nos muestra el camino del error: veremos más adelante que cuando tenemos funciones anidadas, vemos aquí como el error se propaga.\n",
        "\n",
        "Las cosas a las que en principio les debemos prestar atención son:\n",
        "\n",
        "   1. El nombre del error, en este caso **TypeError**\n",
        "   2. La explicación dada en el último renglón: \"'tuple' object doesn't support item deletion\"\n",
        "   3. La flecha que nos indica la línea en la que ocurrió el error"
      ]
    },
    {
      "cell_type": "markdown",
      "metadata": {
        "id": "JPsoHAdO3V3R"
      },
      "source": [
        "Existen distintos tipos de errores en Python, pueden consultar la lista de todas las excepciones básicas acá:\n",
        "https://docs.python.org/3/library/exceptions.html#bltin-exceptions\n",
        "\n",
        "Sin embargo, las excepciones más frecuentes son:\n",
        "\n",
        "**AttributeError**: cuando tratamos de llamar a una referencia que no existe.\n",
        "\n",
        "**NameError**: cuando se llama a una variable u otro nombre que no está definido en el ambiente en que estamos trabajando.\n",
        "\n",
        "**KeyError**: cuando queremos llamar a una llave que no existe, por ejemplo, en un diccionario.\n",
        "\n",
        "**SyntaxError**: cuando hay un problema de sintaxis, errores muy comunes al comienzo pueden ser que no se cerró una llave o corchete, que falta alguna coma o dos puntos.\n",
        "\n",
        "**TypeError**: cuando el tipo de soporta una determinada operación.\n",
        "\n",
        "**IndexError**: cuando el índice al que se quiere acceder no existe, generalmente debido a que se llama a un índice mayor al largo de la lista."
      ]
    },
    {
      "cell_type": "markdown",
      "metadata": {
        "id": "BBn28GTe3V3S"
      },
      "source": [
        "Veamos algunos ejemplos:"
      ]
    },
    {
      "cell_type": "code",
      "execution_count": null,
      "metadata": {
        "id": "m7DV9QGp3V3S"
      },
      "outputs": [],
      "source": [
        "print(no_definido)"
      ]
    },
    {
      "cell_type": "code",
      "execution_count": null,
      "metadata": {
        "id": "6EH1qg553V3S"
      },
      "outputs": [],
      "source": [
        "print(base) # recordamos base"
      ]
    },
    {
      "cell_type": "code",
      "execution_count": null,
      "metadata": {
        "id": "RfGOW4H93V3T"
      },
      "outputs": [],
      "source": [
        "base['Gertrudis']"
      ]
    },
    {
      "cell_type": "markdown",
      "metadata": {
        "id": "1EfD-Pbd3V3T"
      },
      "source": [
        "### Ejercicios"
      ]
    },
    {
      "cell_type": "markdown",
      "metadata": {
        "id": "mGEim2KK3V3U"
      },
      "source": [
        "Prueben y arreglen los siguientes errores de código:\n",
        "\n",
        "\n",
        "1. ¿Qué está pasando en este código?"
      ]
    },
    {
      "cell_type": "code",
      "execution_count": null,
      "metadata": {
        "id": "Kjh4dYPv3V3U"
      },
      "outputs": [],
      "source": [
        "if 10 > 5\n",
        "    print('Qué está pasando?')"
      ]
    },
    {
      "cell_type": "markdown",
      "metadata": {
        "id": "7J9VKv7-3V3U"
      },
      "source": [
        "2. ¿Y en este? Traten de arreglarlo"
      ]
    },
    {
      "cell_type": "code",
      "execution_count": null,
      "metadata": {
        "id": "8Sk9CSjJ3V3V"
      },
      "outputs": [],
      "source": [
        "a = 5\n",
        "b = \"3\"\n",
        "a + b == 8"
      ]
    },
    {
      "cell_type": "markdown",
      "metadata": {
        "id": "7Wi4k5CH3V3V"
      },
      "source": [
        "3. ¿Y continuación?"
      ]
    },
    {
      "cell_type": "code",
      "execution_count": null,
      "metadata": {
        "id": "bNLmiuqr3V3W"
      },
      "outputs": [],
      "source": [
        "a = [\"the beatles\", \"the rolling stones\", \"queen\", \"led zepellin\"]\n",
        "\n",
        "a[4]"
      ]
    },
    {
      "cell_type": "markdown",
      "metadata": {
        "id": "3Q7fy9R-3V3W"
      },
      "source": [
        "4- ¿Y acá? ¿qué pasó?"
      ]
    },
    {
      "cell_type": "code",
      "execution_count": null,
      "metadata": {
        "id": "5qmlcq0C3V3W"
      },
      "outputs": [],
      "source": [
        "a.appended([\"cream\"])"
      ]
    },
    {
      "cell_type": "markdown",
      "metadata": {
        "id": "cPp19aPX3V3X"
      },
      "source": [
        "## Manejo de errores"
      ]
    },
    {
      "cell_type": "markdown",
      "metadata": {
        "id": "1HPiTkAg3V3X"
      },
      "source": [
        "Para anticipar y manejar los errores, podemos usar la clausula **try** y **except**"
      ]
    },
    {
      "cell_type": "code",
      "execution_count": null,
      "metadata": {
        "id": "va00KTef3V3Y"
      },
      "outputs": [],
      "source": [
        "a = '20'\n",
        "b = 5\n",
        "\n",
        "try:\n",
        "    print(a+b)\n",
        "except:\n",
        "    print(int(a)+int(b)) # convierto a int ambas variables"
      ]
    },
    {
      "cell_type": "markdown",
      "metadata": {
        "id": "Wm_Icip43V3Y"
      },
      "source": [
        "Si queremos ver qué excepción ocurrió, podemos usar la siguiente sintáxis:"
      ]
    },
    {
      "cell_type": "code",
      "execution_count": null,
      "metadata": {
        "id": "thsHnz4w3V3Y"
      },
      "outputs": [],
      "source": [
        "try:\n",
        "    print(a+b)\n",
        "except Exception as e:\n",
        "    print(f\"El error fue {e}\")"
      ]
    },
    {
      "cell_type": "markdown",
      "metadata": {
        "id": "uqsyA-Wk3V3Z"
      },
      "source": [
        "También podemos especificar qué hacer para distintos tipos de error:"
      ]
    },
    {
      "cell_type": "code",
      "execution_count": 7,
      "metadata": {
        "id": "GH6jC9vn3V3Z",
        "outputId": "76567fd4-d19e-44ba-b041-2588f06d4d96",
        "colab": {
          "base_uri": "https://localhost:8080/"
        }
      },
      "outputs": [
        {
          "output_type": "stream",
          "name": "stdout",
          "text": [
            "la tupla es ('3', 8)\n",
            "intento dividir...\n",
            "Error en el tipo de datos\n",
            "\n",
            "la tupla es (5, 0)\n",
            "intento dividir...\n",
            "Error en el tipo de datos\n",
            "\n",
            "la tupla es (3,)\n",
            "intento dividir...\n",
            "Error en el tipo de datos\n",
            "\n",
            "la tupla es (4, 6)\n",
            "intento dividir...\n",
            "Error en el tipo de datos\n",
            "\n"
          ]
        }
      ],
      "source": [
        "lista_tuplas = [('3', 8),\n",
        "                (5, 0),\n",
        "                (3, ),\n",
        "                (4, 6)]\n",
        "\n",
        "i = 0\n",
        "while i < len(lista_tuplas):\n",
        "    print(f\"la tupla es {lista_tuplas[i]}\")\n",
        "\n",
        "    try:\n",
        "        print(\"intento dividir...\")\n",
        "        print(lista_tuplas[0] / lista_tuplas[1])\n",
        "        print(\"éxito!\")\n",
        "    except IndexError:\n",
        "        print('El largo está mal')\n",
        "    except TypeError:\n",
        "        print('Error en el tipo de datos')\n",
        "    except ZeroDivisionError:\n",
        "        print(\"No se puede dividir por cero\")\n",
        "\n",
        "    print()\n",
        "    i+=1"
      ]
    }
  ],
  "metadata": {
    "kernelspec": {
      "display_name": "Python (base)",
      "language": "python",
      "name": "base"
    },
    "language_info": {
      "codemirror_mode": {
        "name": "ipython",
        "version": 3
      },
      "file_extension": ".py",
      "mimetype": "text/x-python",
      "name": "python",
      "nbconvert_exporter": "python",
      "pygments_lexer": "ipython3",
      "version": "3.7.3"
    },
    "colab": {
      "provenance": [],
      "toc_visible": true,
      "include_colab_link": true
    }
  },
  "nbformat": 4,
  "nbformat_minor": 0
}
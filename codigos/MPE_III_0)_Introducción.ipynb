{
  "cells": [
    {
      "cell_type": "markdown",
      "metadata": {
        "id": "QbTQT4cDqXpd"
      },
      "source": [
        "# Introducción a Python\n",
        "Curso de Matemática para Economistas III (UNGS)\n",
        "\n",
        "Docentes: \\\\\n",
        "- Lic. Mateo Suster \\\\\n",
        "- Lic. Fernando Molina\n",
        "\n",
        "<br>\n",
        "<br>\n",
        "\n",
        "## Contenidos\n",
        "#### Introducción a Python\n",
        "  * [Sintaxis básica y asignación de variables](https://colab.research.google.com/drive/1tQeB0IJ1T0GoxvT95oy7I5WNSqkVOduT?usp=sharing)\n",
        "    * [Ejercicios de asignaciones](https://colab.research.google.com/drive/1iUjhF72fVzcvhBW9obL_E1mIbzsiX6mK?usp=sharing)\n",
        "  * [Números, listas y tuplas](https://colab.research.google.com/drive/15RFG4oE_3lv_ArXkZvudDEDxgLJqrqrs?usp=sharing)\n",
        "    * [Ejercicios números, listas y tuplas](https://colab.research.google.com/drive/1JUZ0uU-YNSlt64j97qJoC-8IeWImWkj9?usp=sharing)\n",
        "  * [Cadenas y diccionarios](https://colab.research.google.com/drive/1nES9LPtKgGxoPQMEpix9U0a78hC3OAST?usp=sharing)\n",
        "    * [Ejercicios cadenas y diccionarios](https://colab.research.google.com/drive/17DG6kJWtbkwVDVOcF9Nml4o81MYPSr8k?usp=sharing) \n",
        "\n",
        "### Programación funcional\n",
        "  * [Operadores lógicos y Estructuras de control (`if` y `while`)](https://colab.research.google.com/drive/15IXq-bqW4cGecCNcJ2DPBWLVO_us-Sau?usp=sharing)\n",
        "    * [Ejercicios Estructuras de control (`if` y `while`)](https://colab.research.google.com/drive/1d7oyEBkzSwHCz3TmYQCk4nIgrkpjXQ4g?usp=sharing)\n",
        "  * [Funciones](https://colab.research.google.com/drive/1fgHJykIEOGvy5WV4CduyBGObTm-gGTLt?usp=sharing)\n",
        "    * [Ejercicios sobre funciones](https://colab.research.google.com/drive/1gEvU7HznPoTRAWzpTX2cbBu2eAbGA2TU?usp=sharing)\n",
        "\n",
        "\n",
        "### Datos y visualizaciones\n",
        "  * [Importación de librerías - Gráficos](https://colab.research.google.com/drive/1gAkSxnh6xCAcPwtuPBecsVhfeN40ajvc?usp=sharing)\n",
        "\n",
        "### Ecuaciones dinámicas\n",
        "  * [Programa que resuelve ecuaciones diferenciales](https://colab.research.google.com/drive/19pO-BXE5CgdNWw6VUvfoGE_V1sRvz1R8?usp=sharing)  \n",
        "    * [Ejercicios de ecuaciones diferenciales](https://colab.research.google.com/drive/1V6BNFKgypzMgdhHTc-2cBumNmiDENpLO?usp=sharing)\n",
        "\n",
        "### Trabajos prácticos\n",
        "* [TP domiciliario N°1](https://colab.research.google.com/drive/1Zgu67ae9o1gmBU3FOOapMovTdRhlsUwY?usp=sharing)\n",
        "* [TP domiciliario N°2](https://colab.research.google.com/drive/1wLxUtrRV-16NoQciT3ExtiL4w1xZOXCx#scrollTo=Q2-XUspAj8Tn)\n",
        "* [TP domiciliario N°3](https://drive.google.com/file/d/10bwo5EnIHsCIasQ-kK6gSjmuW7yp5MA0/view?usp=sharing)\n",
        "\n",
        "<br>\n",
        "<br>"
      ]
    },
    {
      "cell_type": "markdown",
      "metadata": {
        "id": "_W6Hp6ZRr3sr"
      },
      "source": [
        "<p><img alt=\"Colaboratory logo\" height=\"45px\" src=\"/img/colab_favicon.ico\" align=\"left\" hspace=\"10px\" vspace=\"0px\"></p>\n",
        "\n",
        "<h1>¿Qué es Colaboratory?</h1>\n",
        "\n",
        "[https://colab.research.google.com/](https://colab.research.google.com/)\n",
        "\n",
        "\n",
        "Colaboratory, o Colab, te permite escribir y ejecutar código de Python en un navegador, dentro de documentos en los que se puede combinar texto con formato excrito en lenguaje Markdown y código de manera que:\n",
        "\n",
        "- No sea requerida una configuración \n",
        "- Acceso gratuito a GPU\n",
        "- Facilidad para compartir\n",
        "\n",
        "---\n",
        "\n",
        "<br>\n",
        "\n",
        "Es importante entender (desde ahora) que el documento en el cual estamos no es una página web estática, sino un entorno interactivo denominado <strong>notebook de Colab</strong>, que permite escribir y ejecutar código. Una vez que levanta la Notebook que les compartí deben abrir un sitio de pruebas que es una copia local sobre la cual pueden trabajar.\n",
        "\n",
        "\n",
        "\n",
        "Existen dos tipos de celdas: Código o Texto "
      ]
    },
    {
      "cell_type": "markdown",
      "metadata": {
        "id": "GtDy86s2tFA8"
      },
      "source": [
        "# Texto"
      ]
    },
    {
      "cell_type": "markdown",
      "metadata": {
        "id": "4zT8jFbls8lD"
      },
      "source": [
        "# Texto en lenguaje Markdown \n",
        "## Texto en lenguaje Markdown \n",
        "### Texto en lenguaje Markdown \n",
        "\n",
        "**Nota:** Hacer doble click para ver el formato\n",
        "\n"
      ]
    },
    {
      "cell_type": "markdown",
      "metadata": {
        "id": "yutEGb1DtG3L"
      },
      "source": [
        "\n",
        "```\n",
        "# 'Esto tiene formato de código`\n",
        "```\n",
        "\n",
        "# Texto título nivel 1\n",
        "\n",
        "*   Elemento de la lista\n",
        "\n",
        "## Texto título nivel 2\n",
        "\n",
        "texto\n",
        "[texto del vínculo](https://)\n",
        "\n",
        "![](https://sitiobigdata.com/wp-content/uploads/2019/02/google-colab.jpeg)\n",
        "\n",
        "$f_r(x)=rx (1-x)$\n",
        "\n",
        "$\\lambda(r)=\\lim\\limits_{n\\rightarrow\\infty}\\frac{1}{n}\n",
        "\\sum_{i=0}^{n-1}\\log\\begin{vmatrix}\\frac{d_{f_r}}{d_x}(x^{(r)}_i)\\end{vmatrix}$\n",
        "\n",
        "[Intro a Markdown](https://www.markdownguide.org/getting-started/)\n",
        "\n"
      ]
    }
  ],
  "metadata": {
    "colab": {
      "collapsed_sections": [],
      "name": "MPE III - 0) Introducción.ipynb",
      "provenance": []
    },
    "kernelspec": {
      "display_name": "Python 3 (ipykernel)",
      "language": "python",
      "name": "python3"
    },
    "language_info": {
      "codemirror_mode": {
        "name": "ipython",
        "version": 3
      },
      "file_extension": ".py",
      "mimetype": "text/x-python",
      "name": "python",
      "nbconvert_exporter": "python",
      "pygments_lexer": "ipython3",
      "version": "3.9.6"
    }
  },
  "nbformat": 4,
  "nbformat_minor": 0
}
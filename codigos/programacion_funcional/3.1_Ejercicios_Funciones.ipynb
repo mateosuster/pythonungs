{
  "nbformat": 4,
  "nbformat_minor": 0,
  "metadata": {
    "colab": {
      "name": "MPE III - Ejercicios Funciones.ipynb",
      "provenance": [],
      "authorship_tag": "ABX9TyMun/8lGNI0PO3zqY5cGgvt",
      "include_colab_link": true
    },
    "kernelspec": {
      "name": "python3",
      "display_name": "Python 3"
    },
    "language_info": {
      "name": "python"
    }
  },
  "cells": [
    {
      "cell_type": "markdown",
      "metadata": {
        "id": "view-in-github",
        "colab_type": "text"
      },
      "source": [
        "<a href=\"https://colab.research.google.com/github/mateosuster/pythonungs/blob/master/codigos/programacion_funcional/3.1_Ejercicios_Funciones.ipynb\" target=\"_parent\"><img src=\"https://colab.research.google.com/assets/colab-badge.svg\" alt=\"Open In Colab\"/></a>"
      ]
    },
    {
      "cell_type": "markdown",
      "metadata": {
        "id": "BinlP74qjslv"
      },
      "source": [
        "# MPE III\n",
        "## Problemas sobre Funciones"
      ]
    },
    {
      "cell_type": "markdown",
      "metadata": {
        "id": "RYD7T_lePhlS"
      },
      "source": [
        "### Problema duplicar\n",
        "\n",
        "Definir una función que se llame `duplicar` que tome como parámetro de entrada un número cualquiera y retorne su valor duplicado\n"
      ]
    },
    {
      "cell_type": "code",
      "metadata": {
        "id": "WjNifHlQKIS0"
      },
      "source": [
        "#Escriba aquí su respuesta\n",
        " \n"
      ],
      "execution_count": null,
      "outputs": []
    },
    {
      "cell_type": "markdown",
      "metadata": {
        "id": "tGMVmMU50c6S"
      },
      "source": [
        "### Problema absoluto\n",
        "\n",
        "Definir una función `absoluto(x)` que tome un número `x` y retorne su valor absoluto, así:\n",
        "\n",
        "```python\n",
        "absoluto(100.22)\n",
        "100.22\n",
        "```\n",
        "\n",
        "```python\n",
        "absoluto(-18.7)\n",
        "18.7\n",
        "```"
      ]
    },
    {
      "cell_type": "code",
      "metadata": {
        "id": "ZMPK9qVS0c6S"
      },
      "source": [
        "#Escriba aquí su respuesta"
      ],
      "execution_count": null,
      "outputs": []
    },
    {
      "cell_type": "markdown",
      "metadata": {
        "id": "ZAO_N9cp0Zgg"
      },
      "source": [
        "### Problema imprimir doble\n",
        "\n",
        "Definir una función `imprimir_doble` que tome un argumento `x` y lo imprima dos veces, con un espacio entre una palabra y la siguiente. Por ejemplo, al evaluarla debe retornar:\n",
        "\n",
        "```python\n",
        "imprimir_doble(5)\n",
        "5 5\n",
        "```\n",
        "     \n",
        "```python\n",
        "imprimir_doble('hola')\n",
        "hola hola\n",
        "```\n",
        "     \n",
        "```python\n",
        "imprimir_doble([3,9,4])\n",
        "[3,9,4] [3,9,4]\n",
        "```"
      ]
    },
    {
      "cell_type": "code",
      "metadata": {
        "id": "u5qALl7Q0Zgg"
      },
      "source": [
        "#Escribir la solución aquí\n",
        "\n",
        "# Evaluar la función aquí\n"
      ],
      "execution_count": null,
      "outputs": []
    },
    {
      "cell_type": "markdown",
      "metadata": {
        "id": "xWzqDb7VSdR4"
      },
      "source": [
        "### Problema promedio lista\n",
        "\n",
        "Escribir una función que reciba como entrada una lista de números, y que\n",
        "devuelva como salida el promedio de todos los números de la lista.\n"
      ]
    },
    {
      "cell_type": "code",
      "metadata": {
        "id": "K7N_mkQISqwn"
      },
      "source": [
        "#Escribir la solución aquí\n",
        "\n",
        "# Evaluar la función aquí"
      ],
      "execution_count": null,
      "outputs": []
    },
    {
      "cell_type": "markdown",
      "metadata": {
        "id": "rnNKuBTBSp2l"
      },
      "source": [
        "### Problema promedio de 5\n",
        "\n",
        "Escribir una función que reciba como entrada una lista de números, y que\n",
        "devuelva como salida el promedio de todos los números de la lista si la\n",
        "longitud de la lista es menor a 5, y que devuelva \"Mayor a 5 me da fiaca\" si la longitud\n",
        "de la lista es 5 o más."
      ]
    },
    {
      "cell_type": "code",
      "metadata": {
        "id": "uAWG14VKTAkx"
      },
      "source": [
        "#Escribir la solución aquí\n",
        "\n",
        "# Evaluar la función aquí"
      ],
      "execution_count": null,
      "outputs": []
    },
    {
      "cell_type": "markdown",
      "metadata": {
        "id": "7v4VARwCk9FE"
      },
      "source": [
        "### Problema función de conversión pesos a dólares (I)\n",
        "\n",
        "Defina una función que encapsule el Problema conversión pesos a dólares loopeado de la práctica de Estructuras de control. Asegúrese de que funcione correctamente, evaluando la función con distintos valores.\n",
        "\n",
        "Nota: Asigne un nombre a la función que sea representativo del programa que realiza."
      ]
    },
    {
      "cell_type": "code",
      "metadata": {
        "id": "WC_05QWdk9FF"
      },
      "source": [
        "#Escribir la solución aquí\n",
        "\n",
        "# Evaluar la función aquí"
      ],
      "execution_count": null,
      "outputs": []
    },
    {
      "cell_type": "markdown",
      "metadata": {
        "id": "9tOUHc4-lVIP"
      },
      "source": [
        "### Problema función de conversión pesos a dólares (II)\n",
        "\n",
        "Modifique el programa del punto anterior tal que funcione para cualquier tipo de cambio y evalúe su funcionamiento"
      ]
    },
    {
      "cell_type": "code",
      "metadata": {
        "id": "dB2OAOWElVIS"
      },
      "source": [
        "#Escribir la solución aquí\n",
        "\n",
        "# Evaluar la función aquí"
      ],
      "execution_count": null,
      "outputs": []
    }
  ]
}
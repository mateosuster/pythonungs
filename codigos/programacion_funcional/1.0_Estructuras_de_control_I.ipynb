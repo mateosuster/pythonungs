{
  "nbformat": 4,
  "nbformat_minor": 0,
  "metadata": {
    "colab": {
      "name": "MPE III - 4) Estructuras de control I.ipynb",
      "provenance": [],
      "collapsed_sections": [],
      "authorship_tag": "ABX9TyNVoJ0aO7TNDHzb5eDr4M8c",
      "include_colab_link": true
    },
    "kernelspec": {
      "name": "python3",
      "display_name": "Python 3"
    },
    "language_info": {
      "name": "python"
    }
  },
  "cells": [
    {
      "cell_type": "markdown",
      "metadata": {
        "id": "view-in-github",
        "colab_type": "text"
      },
      "source": [
        "<a href=\"https://colab.research.google.com/github/mateosuster/pythonungs/blob/master/codigos/programacion_funcional/1.0_Estructuras_de_control_I.ipynb\" target=\"_parent\"><img src=\"https://colab.research.google.com/assets/colab-badge.svg\" alt=\"Open In Colab\"/></a>"
      ]
    },
    {
      "cell_type": "markdown",
      "metadata": {
        "id": "awDMEU7hmp6Y"
      },
      "source": [
        "# Estructuras de control"
      ]
    },
    {
      "cell_type": "markdown",
      "metadata": {
        "id": "gn1DBhFm0c6I"
      },
      "source": [
        "Las estructuras de control permiten modificar el proceso de ejecución del programa a partir de ciertas condiciones lógicas que definimos.\n",
        "\n",
        "Algunos de los operadores con los que se pueden hacer comparaciones son:\n",
        "\n",
        "| Operador | Resultado\n",
        "| -------- | ---------\n",
        "|   ==     | Igualdad\n",
        "|   !=     | No es igual        \n",
        "|   <      | Menor que\n",
        "|   >      | Mayor que\n",
        "|   <=     | Menor o igual\n",
        "|   >=     | Mayor o igual\n",
        "|   ~    | Niega una condición\n",
        "|   not    | Niega una condición\n",
        "|   in     | Verifica si un elemento está en una lista\n",
        "|   and    | Verifica si dos condiciones se cumplen\n",
        "|   &    | Verifica si dos condiciones se cumplen\n",
        "|   or     | Verifica si se cumple al menos una condición\n",
        "|   \\|     | Verifica si se cumple al menos una condición\n",
        "|   is     | Verifica si un objeto es igual a otro\n",
        "\n",
        "Para que las estructuras de control funcionen correctamente, el resultado de usar estos operadores debe dar `TRUE` o `FALSE`. A excepción de `in` y `not`, todos los demás operadores son similares a los usados en otros lenguajes de programación, por lo que no vamos a mirar ejemplos de ellos. Veamos, por tanto, sólo como funcionan los primeros."
      ]
    },
    {
      "cell_type": "code",
      "metadata": {
        "id": "z63V7kADTO6m"
      },
      "source": [
        "a = 5\n",
        "b = 10"
      ],
      "execution_count": null,
      "outputs": []
    },
    {
      "cell_type": "code",
      "metadata": {
        "id": "Hz1ZA3CS4au3"
      },
      "source": [
        "a < b"
      ],
      "execution_count": null,
      "outputs": []
    },
    {
      "cell_type": "code",
      "metadata": {
        "id": "tYRzheXN6Fa2"
      },
      "source": [
        "a >= b"
      ],
      "execution_count": null,
      "outputs": []
    },
    {
      "cell_type": "markdown",
      "source": [
        "Para mejorar el entendimiento del uso de `and` y `or` es útil el conocimiento de las [tablas de verdad](https://es.wikipedia.org/wiki/Tabla_de_verdad)."
      ],
      "metadata": {
        "id": "INaRbwO-1QAi"
      }
    },
    {
      "cell_type": "code",
      "metadata": {
        "id": "clGQwiAZIcVW"
      },
      "source": [
        "a < b and a >= b"
      ],
      "execution_count": null,
      "outputs": []
    },
    {
      "cell_type": "code",
      "metadata": {
        "id": "ZkzYc5BJIoJh"
      },
      "source": [
        "a < b & a >= b"
      ],
      "execution_count": null,
      "outputs": []
    },
    {
      "cell_type": "code",
      "metadata": {
        "id": "Cm1Qs8_nIl71"
      },
      "source": [
        "a < b or a >= b"
      ],
      "execution_count": null,
      "outputs": []
    },
    {
      "cell_type": "code",
      "metadata": {
        "id": "7Vh-nOQwIs_d"
      },
      "source": [
        "a < b | a >= b"
      ],
      "execution_count": null,
      "outputs": []
    },
    {
      "cell_type": "code",
      "metadata": {
        "id": "not6ytmJ6NBE"
      },
      "source": [
        "b == 10"
      ],
      "execution_count": null,
      "outputs": []
    },
    {
      "cell_type": "code",
      "metadata": {
        "id": "9kvlJyhqI0yp"
      },
      "source": [
        "10 is b"
      ],
      "execution_count": null,
      "outputs": []
    },
    {
      "cell_type": "markdown",
      "metadata": {
        "id": "rFO3U69_0c6R"
      },
      "source": [
        "A través de estos ejemplos podemos notar que los valores de verdad en Python se escriben como `True` y `False` para verdadero y falso, respectivamente."
      ]
    },
    {
      "cell_type": "code",
      "metadata": {
        "id": "2R6fX-n0TQI3"
      },
      "source": [
        "not (a != 5)"
      ],
      "execution_count": null,
      "outputs": []
    },
    {
      "cell_type": "code",
      "metadata": {
        "id": "BaCWuWEF0c6O"
      },
      "source": [
        "not (2 == 5)"
      ],
      "execution_count": null,
      "outputs": []
    },
    {
      "cell_type": "code",
      "metadata": {
        "id": "64CG4l7wTklI"
      },
      "source": [
        "'a' in 'abc'"
      ],
      "execution_count": null,
      "outputs": []
    },
    {
      "cell_type": "code",
      "metadata": {
        "id": "u6_IhlKm0c6I"
      },
      "source": [
        "3 in [1, 2, 4]"
      ],
      "execution_count": null,
      "outputs": []
    },
    {
      "cell_type": "code",
      "metadata": {
        "id": "hGdIOmea0c6M"
      },
      "source": [
        "3 in [1, 2, 3]"
      ],
      "execution_count": null,
      "outputs": []
    },
    {
      "cell_type": "code",
      "metadata": {
        "id": "CgCcoR126SMQ"
      },
      "source": [
        "c = a != b\n",
        "c"
      ],
      "execution_count": null,
      "outputs": []
    },
    {
      "cell_type": "code",
      "metadata": {
        "id": "uGYyqI3nQYUM"
      },
      "source": [
        "type(c)"
      ],
      "execution_count": null,
      "outputs": []
    },
    {
      "cell_type": "markdown",
      "metadata": {
        "id": "VvjcjGhk0c57"
      },
      "source": [
        "## El condicional (if)\n",
        "\n",
        "Es quizá la estructura de control más utilizada. A continuación presentamos un sencillo ejemplo para observar cómo es su sintaxis en Python:"
      ]
    },
    {
      "cell_type": "code",
      "metadata": {
        "id": "ecHg9WRE7V-r"
      },
      "source": [
        "if 2+2 == 4:\n",
        "  print(\"AH, menos mal\")"
      ],
      "execution_count": null,
      "outputs": []
    },
    {
      "cell_type": "code",
      "metadata": {
        "id": "JnwmvHEy7ifM"
      },
      "source": [
        "if 2+2 == 420:\n",
        "  print(\"Python, es la hora\")"
      ],
      "execution_count": null,
      "outputs": []
    },
    {
      "cell_type": "markdown",
      "metadata": {
        "id": "FFJJJsf5717I"
      },
      "source": [
        "Agregar un `elif` o `else` nos permite sumar otros condicionales a la estructura de control. La condición del `elif` se evalúa si y solo si el anterior `if` resulta `FALSE`. "
      ]
    },
    {
      "cell_type": "code",
      "metadata": {
        "id": "mLecwN2t7NgD",
        "outputId": "060f1151-96f4-442c-96c4-a7363c4858b0",
        "colab": {
          "base_uri": "https://localhost:8080/"
        }
      },
      "source": [
        "if 7 > 5:\n",
        "    print('7 es mayor que 5')\n",
        "elif 1 < 5:\n",
        "    print('1 es menor que 5') "
      ],
      "execution_count": 1,
      "outputs": [
        {
          "output_type": "stream",
          "name": "stdout",
          "text": [
            "7 es mayor que 5\n"
          ]
        }
      ]
    },
    {
      "cell_type": "markdown",
      "metadata": {
        "id": "y9-0gJyw7U8t"
      },
      "source": [
        "En cambio, el `else` no requiere evaluar ninguna condición lógica, sino que se ejecuta si y sólo si todos los condicionales anteriores son `FALSE`. La siguiente imagen permite ver la estructura de un algortimo que posee una estructura de control `if-else`\n",
        "\n",
        "      "
      ]
    },
    {
      "cell_type": "markdown",
      "metadata": {
        "id": "c4X1rACu1EWp"
      },
      "source": [
        "![](https://www.guru99.com/images/r_programming/032818_1241_IFELSEELIF1.png)"
      ]
    },
    {
      "cell_type": "code",
      "metadata": {
        "id": "dOBmnyib7zc4"
      },
      "source": [
        "if 2 + 2 == 4.20:\n",
        "  print(\"Python, tenemos un problema\")\n",
        "else: \n",
        "  print(\"Los números son distintos\")\n",
        "\n",
        "print(\"\\nY esto se ejecuta independientemente de la estructura de control\")"
      ],
      "execution_count": null,
      "outputs": []
    },
    {
      "cell_type": "markdown",
      "metadata": {
        "id": "2NShZPSSu6Er"
      },
      "source": [
        "Podemos sintetizar la lógica de funcionamiento de la siguiente manera:\n",
        "```\n",
        "if CONDICION:\n",
        "    hacer algo\n",
        "elif CONDICION:\n",
        "    hace otra cosa\n",
        "else:\n",
        "    hace otra otra cosa\n",
        "```\n",
        "\n"
      ]
    },
    {
      "cell_type": "markdown",
      "source": [
        "**Cuidado:** Tiene que quedar claro es lo mismo utilizar una sentencia `if-elif` que un `if-if` consecutivo. Observa las siguientes diferencias."
      ],
      "metadata": {
        "id": "4spo0RrPgafA"
      }
    },
    {
      "cell_type": "code",
      "source": [
        "if 7 > 5:\n",
        "    print('7 es mayor que 5')\n",
        "elif 7 > 5:\n",
        "    print('esto nunca se va a ejecutar') "
      ],
      "metadata": {
        "id": "3Uyw9pkCfFmN",
        "outputId": "693b452f-462b-495d-c4fe-4c544ded1331",
        "colab": {
          "base_uri": "https://localhost:8080/"
        }
      },
      "execution_count": 2,
      "outputs": [
        {
          "output_type": "stream",
          "name": "stdout",
          "text": [
            "7 es mayor que 5\n"
          ]
        }
      ]
    },
    {
      "cell_type": "code",
      "source": [
        "if 7 > 5:\n",
        "    print('7 es mayor que 5')\n",
        "if 7 > 5:\n",
        "    print('esto si se va a ejecutar') "
      ],
      "metadata": {
        "id": "0ndyk-brfSfc",
        "outputId": "e73de434-cd76-40c2-9e82-bc7f7502f525",
        "colab": {
          "base_uri": "https://localhost:8080/"
        }
      },
      "execution_count": 3,
      "outputs": [
        {
          "output_type": "stream",
          "name": "stdout",
          "text": [
            "7 es mayor que 5\n",
            "esto se se va a ejecutar\n"
          ]
        }
      ]
    },
    {
      "cell_type": "markdown",
      "metadata": {
        "id": "j0yUy_e90c64"
      },
      "source": [
        "## El ciclo while\n",
        "\n",
        "Finalmente vamos a mirar la sintaxis del comando `while`, que si bien no es tan usado, es muy útil porque permite recorrer los elementos de una lista, tupla o cadena por medio de su índice. \n",
        "\n",
        "\n",
        "Miremos unos ejemplos: <br>\n",
        "**(1)** Imprimimos los valores de `i`, una variable que irá aumentando en una unidad."
      ]
    },
    {
      "cell_type": "code",
      "metadata": {
        "id": "MXWJvOxPvZ18"
      },
      "source": [
        "i = 0 # arranco la inicializacion en valor = 0\n",
        "\n",
        "while i < 3:\n",
        "  print (i) # imprimo por pantalla\n",
        "  i = i+1 # muevo el indice una posicion"
      ],
      "execution_count": null,
      "outputs": []
    },
    {
      "cell_type": "markdown",
      "metadata": {
        "id": "AMtZ2ZXrveY-"
      },
      "source": [
        "**(2)** Evaluamos si dentro de los elementos de la lista `x` hay un valor igual a `6`, seleccionándo los elementos de `x` por medio de su índice. "
      ]
    },
    {
      "cell_type": "code",
      "metadata": {
        "id": "Lzxn6uS20c64"
      },
      "source": [
        "x = [3, 6, 9, 11]\n",
        "\n",
        "i = 0\n",
        "\n",
        "while i < 4:\n",
        "    print( x[i] == 6)\n",
        "    i = i + 1"
      ],
      "execution_count": null,
      "outputs": []
    },
    {
      "cell_type": "code",
      "metadata": {
        "id": "h1wukkPebF5K"
      },
      "source": [
        "x = [3, 6, 9, 11]\n",
        "\n",
        "i = 0\n",
        "while i < 4:\n",
        "    print( not(x[i] == 6))\n",
        "    i += 1"
      ],
      "execution_count": null,
      "outputs": []
    },
    {
      "cell_type": "markdown",
      "metadata": {
        "id": "ui89Wgst0c66"
      },
      "source": [
        "En la última línea pueden verse un ejemplo de asignación abreviada, pues en lugar de escribir ``i = i+1``, escribimos ``i += 1``, lo cual es similar a como se hace en C o C++. Otras abreviaciones que funcionan en Python son:\n",
        "\n",
        "    -=, *=, /=, y %=\n",
        "\n",
        "**Nota**:\n",
        "\n",
        "¿Cuál es el efecto de `%=` en una asignación abreviada?"
      ]
    }
  ]
}
{
  "nbformat": 4,
  "nbformat_minor": 0,
  "metadata": {
    "colab": {
      "name": "MPE III - 4) Estructuras de control I.ipynb",
      "provenance": [],
      "include_colab_link": true
    },
    "kernelspec": {
      "name": "python3",
      "display_name": "Python 3"
    },
    "language_info": {
      "name": "python"
    }
  },
  "cells": [
    {
      "cell_type": "markdown",
      "metadata": {
        "id": "view-in-github",
        "colab_type": "text"
      },
      "source": [
        "<a href=\"https://colab.research.google.com/github/mateosuster/pythonungs/blob/master/codigos/programacion_funcional/1.0_Estructuras_de_control_I.ipynb\" target=\"_parent\"><img src=\"https://colab.research.google.com/assets/colab-badge.svg\" alt=\"Open In Colab\"/></a>"
      ]
    },
    {
      "cell_type": "markdown",
      "metadata": {
        "id": "awDMEU7hmp6Y"
      },
      "source": [
        "# Estructuras de control"
      ]
    },
    {
      "cell_type": "markdown",
      "metadata": {
        "id": "gn1DBhFm0c6I"
      },
      "source": [
        "Las estructuras de control permiten modificar el proceso de ejecución del programa a partir de ciertas condiciones lógicas que definimos.\n",
        "\n",
        "Algunos de los operadores con los que se pueden hacer comparaciones son:\n",
        "\n",
        "| Operador | Resultado\n",
        "| -------- | ---------\n",
        "|   ==     | Igualdad\n",
        "|   !=     | No es igual        \n",
        "|   <      | Menor que\n",
        "|   >      | Mayor que\n",
        "|   <=     | Menor o igual\n",
        "|   >=     | Mayor o igual\n",
        "|   ~    | Niega una condición\n",
        "|   not    | Niega una condición\n",
        "|   in     | Verifica si un elemento está en una lista\n",
        "|   and    | Verifica si dos condiciones se cumplen\n",
        "|   &    | Verifica si dos condiciones se cumplen\n",
        "|   or     | Verifica si se cumple al menos una condición\n",
        "|   \\|     | Verifica si se cumple al menos una condición\n",
        "|   is     | Verifica si un objeto es igual a otro\n",
        "\n",
        "Para que las estructuras de control funcionen correctamente, el resultado de usar estos operadores debe dar `TRUE` o `FALSE`. A excepción de `in` y `not`, todos los demás operadores son similares a los usados en otros lenguajes de programación, por lo que no vamos a mirar ejemplos de ellos. Veamos, por tanto, sólo como funcionan los primeros."
      ]
    },
    {
      "cell_type": "code",
      "metadata": {
        "id": "z63V7kADTO6m"
      },
      "source": [
        "a = 5\n",
        "b = 10"
      ],
      "execution_count": 5,
      "outputs": []
    },
    {
      "cell_type": "code",
      "metadata": {
        "id": "Hz1ZA3CS4au3",
        "outputId": "05918fd0-fbe3-493b-eca5-c2ede5de0ee7",
        "colab": {
          "base_uri": "https://localhost:8080/"
        }
      },
      "source": [
        "a < b"
      ],
      "execution_count": 6,
      "outputs": [
        {
          "output_type": "execute_result",
          "data": {
            "text/plain": [
              "True"
            ]
          },
          "metadata": {},
          "execution_count": 6
        }
      ]
    },
    {
      "cell_type": "code",
      "metadata": {
        "id": "tYRzheXN6Fa2",
        "outputId": "32f3b82c-c54b-410c-bcda-684547eaf8ce",
        "colab": {
          "base_uri": "https://localhost:8080/"
        }
      },
      "source": [
        "a >= b"
      ],
      "execution_count": 11,
      "outputs": [
        {
          "output_type": "execute_result",
          "data": {
            "text/plain": [
              "False"
            ]
          },
          "metadata": {},
          "execution_count": 11
        }
      ]
    },
    {
      "cell_type": "markdown",
      "source": [
        "Para mejorar el entendimiento del uso de `and` y `or` es útil el conocimiento de las [tablas de verdad](https://es.wikipedia.org/wiki/Tabla_de_verdad)."
      ],
      "metadata": {
        "id": "INaRbwO-1QAi"
      }
    },
    {
      "cell_type": "code",
      "metadata": {
        "id": "clGQwiAZIcVW",
        "outputId": "2d909973-197a-4fcf-b70d-2213809b8782",
        "colab": {
          "base_uri": "https://localhost:8080/"
        }
      },
      "source": [
        "a < b and a >= b"
      ],
      "execution_count": 12,
      "outputs": [
        {
          "output_type": "execute_result",
          "data": {
            "text/plain": [
              "False"
            ]
          },
          "metadata": {},
          "execution_count": 12
        }
      ]
    },
    {
      "cell_type": "code",
      "metadata": {
        "id": "ZkzYc5BJIoJh",
        "outputId": "74667bd6-302e-4aa0-c262-f48e1231d98b",
        "colab": {
          "base_uri": "https://localhost:8080/"
        }
      },
      "source": [
        "a < b & a >= b"
      ],
      "execution_count": 13,
      "outputs": [
        {
          "output_type": "execute_result",
          "data": {
            "text/plain": [
              "False"
            ]
          },
          "metadata": {},
          "execution_count": 13
        }
      ]
    },
    {
      "cell_type": "code",
      "metadata": {
        "id": "Cm1Qs8_nIl71",
        "outputId": "97e75721-c237-4b07-8ca7-2c9f0c61ff12",
        "colab": {
          "base_uri": "https://localhost:8080/"
        }
      },
      "source": [
        "a < b or a >= b"
      ],
      "execution_count": 14,
      "outputs": [
        {
          "output_type": "execute_result",
          "data": {
            "text/plain": [
              "True"
            ]
          },
          "metadata": {},
          "execution_count": 14
        }
      ]
    },
    {
      "cell_type": "code",
      "metadata": {
        "id": "7Vh-nOQwIs_d",
        "outputId": "474d30e2-578c-4041-f935-e988b3e1d77b",
        "colab": {
          "base_uri": "https://localhost:8080/"
        }
      },
      "source": [
        "a < b | a >= b"
      ],
      "execution_count": 15,
      "outputs": [
        {
          "output_type": "execute_result",
          "data": {
            "text/plain": [
              "True"
            ]
          },
          "metadata": {},
          "execution_count": 15
        }
      ]
    },
    {
      "cell_type": "code",
      "metadata": {
        "id": "not6ytmJ6NBE",
        "outputId": "f3c45c0d-7a6e-4036-90cb-17e5981fd367",
        "colab": {
          "base_uri": "https://localhost:8080/"
        }
      },
      "source": [
        "b == 10"
      ],
      "execution_count": 16,
      "outputs": [
        {
          "output_type": "execute_result",
          "data": {
            "text/plain": [
              "True"
            ]
          },
          "metadata": {},
          "execution_count": 16
        }
      ]
    },
    {
      "cell_type": "code",
      "metadata": {
        "id": "9kvlJyhqI0yp",
        "outputId": "8937ff8e-74df-408b-bdf3-1b51a9ae8be0",
        "colab": {
          "base_uri": "https://localhost:8080/"
        }
      },
      "source": [
        "10 is b"
      ],
      "execution_count": 17,
      "outputs": [
        {
          "output_type": "stream",
          "name": "stderr",
          "text": [
            "<>:1: SyntaxWarning: \"is\" with a literal. Did you mean \"==\"?\n",
            "<>:1: SyntaxWarning: \"is\" with a literal. Did you mean \"==\"?\n",
            "<ipython-input-17-7a34a91a75e7>:1: SyntaxWarning: \"is\" with a literal. Did you mean \"==\"?\n",
            "  10 is b\n"
          ]
        },
        {
          "output_type": "execute_result",
          "data": {
            "text/plain": [
              "True"
            ]
          },
          "metadata": {},
          "execution_count": 17
        }
      ]
    },
    {
      "cell_type": "markdown",
      "metadata": {
        "id": "rFO3U69_0c6R"
      },
      "source": [
        "A través de estos ejemplos podemos notar que los valores de verdad en Python se escriben como `True` y `False` para verdadero y falso, respectivamente."
      ]
    },
    {
      "cell_type": "code",
      "source": [
        "var = a < b\n",
        "print(var, type(var))\n"
      ],
      "metadata": {
        "id": "qVglpHLp3REe",
        "outputId": "1ebdefdb-46db-416b-d24d-5172ffd50467",
        "colab": {
          "base_uri": "https://localhost:8080/"
        }
      },
      "execution_count": 9,
      "outputs": [
        {
          "output_type": "stream",
          "name": "stdout",
          "text": [
            "True <class 'bool'>\n"
          ]
        }
      ]
    },
    {
      "cell_type": "code",
      "source": [
        "var = not ( a < b)\n",
        "print(var, type(var))\n"
      ],
      "metadata": {
        "id": "bPuKGiUb3ZK0",
        "outputId": "3eb126d7-618f-40a4-c8a7-ff5fcef72753",
        "colab": {
          "base_uri": "https://localhost:8080/"
        }
      },
      "execution_count": 10,
      "outputs": [
        {
          "output_type": "stream",
          "name": "stdout",
          "text": [
            "False <class 'bool'>\n"
          ]
        }
      ]
    },
    {
      "cell_type": "code",
      "metadata": {
        "id": "2R6fX-n0TQI3"
      },
      "source": [
        "not (a != 5)"
      ],
      "execution_count": null,
      "outputs": []
    },
    {
      "cell_type": "code",
      "metadata": {
        "id": "BaCWuWEF0c6O"
      },
      "source": [
        "not (2 == 5)"
      ],
      "execution_count": null,
      "outputs": []
    },
    {
      "cell_type": "code",
      "metadata": {
        "id": "64CG4l7wTklI",
        "outputId": "63f484de-d309-42ea-9c19-68356f9861cc",
        "colab": {
          "base_uri": "https://localhost:8080/"
        }
      },
      "source": [
        "'a' in 'abc'"
      ],
      "execution_count": 18,
      "outputs": [
        {
          "output_type": "execute_result",
          "data": {
            "text/plain": [
              "True"
            ]
          },
          "metadata": {},
          "execution_count": 18
        }
      ]
    },
    {
      "cell_type": "code",
      "metadata": {
        "id": "u6_IhlKm0c6I",
        "outputId": "ec110785-200f-4756-cc9f-2c27834f5867",
        "colab": {
          "base_uri": "https://localhost:8080/"
        }
      },
      "source": [
        "3 in [1, 2, 4]"
      ],
      "execution_count": 19,
      "outputs": [
        {
          "output_type": "execute_result",
          "data": {
            "text/plain": [
              "False"
            ]
          },
          "metadata": {},
          "execution_count": 19
        }
      ]
    },
    {
      "cell_type": "code",
      "metadata": {
        "id": "hGdIOmea0c6M"
      },
      "source": [
        "3 in [1, 2, 3]"
      ],
      "execution_count": null,
      "outputs": []
    },
    {
      "cell_type": "code",
      "metadata": {
        "id": "CgCcoR126SMQ"
      },
      "source": [
        "c = a != b\n",
        "c"
      ],
      "execution_count": null,
      "outputs": []
    },
    {
      "cell_type": "code",
      "metadata": {
        "id": "uGYyqI3nQYUM"
      },
      "source": [
        "type(c)"
      ],
      "execution_count": null,
      "outputs": []
    },
    {
      "cell_type": "markdown",
      "metadata": {
        "id": "VvjcjGhk0c57"
      },
      "source": [
        "## El condicional (if)\n",
        "\n",
        "Es quizá la estructura de control más utilizada. A continuación presentamos un sencillo ejemplo para observar cómo es su sintaxis en Python:"
      ]
    },
    {
      "cell_type": "code",
      "metadata": {
        "id": "ecHg9WRE7V-r",
        "outputId": "81bf7be9-795d-4399-831a-c782474e7eec",
        "colab": {
          "base_uri": "https://localhost:8080/"
        }
      },
      "source": [
        "if 2+2 == 4:\n",
        "  print(\"AH, menos mal\")"
      ],
      "execution_count": 20,
      "outputs": [
        {
          "output_type": "stream",
          "name": "stdout",
          "text": [
            "AH, menos mal\n"
          ]
        }
      ]
    },
    {
      "cell_type": "code",
      "metadata": {
        "id": "JnwmvHEy7ifM"
      },
      "source": [
        "if 2+2 == 420:\n",
        "  print(\"Python, es la hora\")"
      ],
      "execution_count": 22,
      "outputs": []
    },
    {
      "cell_type": "markdown",
      "metadata": {
        "id": "FFJJJsf5717I"
      },
      "source": [
        "Agregar un `elif` o `else` nos permite sumar otros condicionales a la estructura de control. La condición del `elif` se evalúa si y solo si el anterior `if` resulta `FALSE`."
      ]
    },
    {
      "cell_type": "code",
      "metadata": {
        "id": "mLecwN2t7NgD",
        "outputId": "d9c839ce-5da1-4656-8882-e1e44c73be3c",
        "colab": {
          "base_uri": "https://localhost:8080/"
        }
      },
      "source": [
        "if 7 > 5:\n",
        "    print('7 es mayor que 5')\n",
        "elif 1 < 5:\n",
        "    print('1 es menor que 5')"
      ],
      "execution_count": 25,
      "outputs": [
        {
          "output_type": "stream",
          "name": "stdout",
          "text": [
            "1 es menor que 5\n"
          ]
        }
      ]
    },
    {
      "cell_type": "markdown",
      "metadata": {
        "id": "y9-0gJyw7U8t"
      },
      "source": [
        "En cambio, el `else` no requiere evaluar ninguna condición lógica, sino que se ejecuta si y sólo si todos los condicionales anteriores son `FALSE`. La siguiente imagen permite ver la estructura de un algortimo que posee una estructura de control `if-else`\n",
        "\n",
        "      "
      ]
    },
    {
      "cell_type": "markdown",
      "metadata": {
        "id": "c4X1rACu1EWp"
      },
      "source": [
        "![](https://www.guru99.com/images/r_programming/032818_1241_IFELSEELIF1.png)"
      ]
    },
    {
      "cell_type": "code",
      "metadata": {
        "id": "dOBmnyib7zc4",
        "outputId": "b1437f17-2aff-40b5-87e4-77155283e15e",
        "colab": {
          "base_uri": "https://localhost:8080/"
        }
      },
      "source": [
        "if 2 + 2 == 4.20:\n",
        "  print(\"Python, tenemos un problema\")\n",
        "else:\n",
        "  print(\"Los números son distintos\")\n",
        "\n",
        "print(\"\\nY esto se ejecuta independientemente de la estructura de control\")"
      ],
      "execution_count": 26,
      "outputs": [
        {
          "output_type": "stream",
          "name": "stdout",
          "text": [
            "Los números son distintos\n",
            "\n",
            "Y esto se ejecuta independientemente de la estructura de control\n"
          ]
        }
      ]
    },
    {
      "cell_type": "markdown",
      "metadata": {
        "id": "2NShZPSSu6Er"
      },
      "source": [
        "Podemos sintetizar la lógica de funcionamiento de la siguiente manera:\n",
        "```\n",
        "if CONDICION:\n",
        "    hacer algo\n",
        "elif CONDICION:\n",
        "    hace otra cosa\n",
        "else:\n",
        "    hace otra otra cosa\n",
        "```\n",
        "\n"
      ]
    },
    {
      "cell_type": "markdown",
      "source": [
        "**Cuidado:** debe quedar claro que no es lo mismo utilizar un `if-elif` que un `if-if` consecutivo"
      ],
      "metadata": {
        "id": "Xuso23DOhZ4S"
      }
    },
    {
      "cell_type": "code",
      "source": [
        "if 7 > 5:\n",
        "    print('7 es mayor que 5')\n",
        "elif 7 > 5:\n",
        "    print('esto no se va a ejecutar')"
      ],
      "metadata": {
        "id": "3NBftTcZhuWv",
        "outputId": "d2db9756-0fcd-4248-c694-cd2a4eb74ea4",
        "colab": {
          "base_uri": "https://localhost:8080/"
        }
      },
      "execution_count": 27,
      "outputs": [
        {
          "output_type": "stream",
          "name": "stdout",
          "text": [
            "7 es mayor que 5\n"
          ]
        }
      ]
    },
    {
      "cell_type": "code",
      "source": [
        "if 7 > 5:\n",
        "    print('7 es mayor que 5')\n",
        "if 7 > 5:\n",
        "    print('esto si se va a ejecutar')"
      ],
      "metadata": {
        "id": "Sg91j8eChycX",
        "outputId": "60c6e794-4f13-4635-88d0-9a22cd8e3e5b",
        "colab": {
          "base_uri": "https://localhost:8080/"
        }
      },
      "execution_count": 29,
      "outputs": [
        {
          "output_type": "stream",
          "name": "stdout",
          "text": [
            "7 es mayor que 5\n",
            "esto si se va a ejecutar\n"
          ]
        }
      ]
    },
    {
      "cell_type": "markdown",
      "metadata": {
        "id": "j0yUy_e90c64"
      },
      "source": [
        "## El ciclo while\n",
        "\n",
        "Finalmente vamos a mirar la sintaxis del comando `while`, que si bien no es tan usado, es muy útil porque permite recorrer los elementos de una lista, tupla o cadena por medio de su índice.\n",
        "\n",
        "\n",
        "Miremos unos ejemplos: <br>\n",
        "**(1)** Imprimimos los valores de `i`, una variable que irá aumentando en una unidad."
      ]
    },
    {
      "cell_type": "code",
      "metadata": {
        "id": "MXWJvOxPvZ18",
        "outputId": "fa8283a0-030d-4e29-f371-c054218557bb",
        "colab": {
          "base_uri": "https://localhost:8080/"
        }
      },
      "source": [
        "i = 0 # arranco la inicializacion en valor = 0\n",
        "\n",
        "while i < 3:\n",
        "  print (i) # imprimo por pantalla\n",
        "  i = i+1 # muevo el indice una posicion"
      ],
      "execution_count": 36,
      "outputs": [
        {
          "output_type": "stream",
          "name": "stdout",
          "text": [
            "0\n",
            "1\n",
            "2\n"
          ]
        }
      ]
    },
    {
      "cell_type": "markdown",
      "metadata": {
        "id": "AMtZ2ZXrveY-"
      },
      "source": [
        "**(2)** Evaluamos si dentro de los elementos de la lista `x` hay un valor igual a `6`, seleccionándo los elementos de `x` por medio de su índice."
      ]
    },
    {
      "cell_type": "code",
      "metadata": {
        "id": "Lzxn6uS20c64",
        "outputId": "65953737-822e-48c2-979c-77dc8d9d5b7b",
        "colab": {
          "base_uri": "https://localhost:8080/"
        }
      },
      "source": [
        "x = [3, 6, 9, 11]\n",
        "\n",
        "i = 0\n",
        "\n",
        "while i < 4:\n",
        "    print( x[i] == 6)\n",
        "    i = i + 1"
      ],
      "execution_count": 34,
      "outputs": [
        {
          "output_type": "stream",
          "name": "stdout",
          "text": [
            "False\n",
            "True\n",
            "False\n",
            "False\n"
          ]
        }
      ]
    },
    {
      "cell_type": "code",
      "metadata": {
        "id": "h1wukkPebF5K",
        "outputId": "8a5f9211-a25e-43fe-f8aa-d2ffcb1123d2",
        "colab": {
          "base_uri": "https://localhost:8080/"
        }
      },
      "source": [
        "x = [3, 6, 9, 11]\n",
        "\n",
        "i = 0\n",
        "while i < 4:\n",
        "    print( not(x[i] == 6))\n",
        "    i += 1 # es igual i = i + 1"
      ],
      "execution_count": 35,
      "outputs": [
        {
          "output_type": "stream",
          "name": "stdout",
          "text": [
            "True\n",
            "False\n",
            "True\n",
            "True\n"
          ]
        }
      ]
    },
    {
      "cell_type": "markdown",
      "metadata": {
        "id": "ui89Wgst0c66"
      },
      "source": [
        "En la última línea pueden verse un ejemplo de asignación abreviada, pues en lugar de escribir ``i = i+1``, escribimos ``i += 1``, lo cual es similar a como se hace en C o C++. Otras abreviaciones que funcionan en Python son:\n",
        "\n",
        "    -=, *=, /=, y %=\n",
        "\n",
        "**Nota**:\n",
        "\n",
        "¿Cuál es el efecto de `%=` en una asignación abreviada?"
      ]
    }
  ]
}
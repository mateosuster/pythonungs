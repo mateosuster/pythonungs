{
  "nbformat": 4,
  "nbformat_minor": 0,
  "metadata": {
    "colab": {
      "provenance": [],
      "include_colab_link": true
    },
    "kernelspec": {
      "name": "python3",
      "display_name": "Python 3"
    },
    "language_info": {
      "name": "python"
    }
  },
  "cells": [
    {
      "cell_type": "markdown",
      "metadata": {
        "id": "view-in-github",
        "colab_type": "text"
      },
      "source": [
        "<a href=\"https://colab.research.google.com/github/mateosuster/pythonungs/blob/master/codigos/programacion_funcional/Funci%C3%B3n_input().ipynb\" target=\"_parent\"><img src=\"https://colab.research.google.com/assets/colab-badge.svg\" alt=\"Open In Colab\"/></a>"
      ]
    },
    {
      "cell_type": "markdown",
      "source": [
        "# Explicación de la función input()"
      ],
      "metadata": {
        "id": "Vyx-eAazBlK2"
      }
    },
    {
      "cell_type": "markdown",
      "source": [
        "## Introducción a la función `input()`\n",
        "\n",
        "La función `input()` permite interactuar con el usuario mediante la consola, solicitando datos que el usuario debe ingresar. Esta función siempre devuelve un valor de tipo cadena de texto (string), independientemente de lo que el usuario ingrese.\n",
        "\n",
        "Sintaxis\n",
        "\n",
        "\n",
        "```\n",
        "variable = input('Mensaje al usuario')\n",
        "```\n",
        "\n",
        "El mensaje entre comillas es el texto que se mostrará al usuario cuando el programa ejecute esta línea. El valor ingresado por el usuario será almacenado en la variable asignada."
      ],
      "metadata": {
        "id": "EOl-ZqpQBpCR"
      }
    },
    {
      "cell_type": "markdown",
      "source": [
        "## Ejemplo básico de uso\n",
        "\n",
        "En el siguiente ejemplo, pediremos al usuario que ingrese su nombre y luego lo saludaremos:"
      ],
      "metadata": {
        "id": "EVMR1YFkB4j-"
      }
    },
    {
      "cell_type": "code",
      "execution_count": null,
      "metadata": {
        "colab": {
          "base_uri": "https://localhost:8080/"
        },
        "id": "rtZ3mlDNAufU",
        "outputId": "e8378628-077d-4570-f4b7-504e76992bbb"
      },
      "outputs": [
        {
          "output_type": "stream",
          "name": "stdout",
          "text": [
            "¿Cómo te llamas? mateo\n",
            "Hola, mateo!\n"
          ]
        }
      ],
      "source": [
        "nombre = input(\"¿Cómo te llamas? \")\n",
        "print(f\"Hola, {nombre}!\")"
      ]
    },
    {
      "cell_type": "markdown",
      "source": [
        "En este caso, el usuario ingresará su nombre, y el programa imprimirá un saludo personalizado."
      ],
      "metadata": {
        "id": "rI4lkTH7CAuu"
      }
    },
    {
      "cell_type": "markdown",
      "source": [
        "## Convertir el input a otros tipos de datos\n",
        "\n",
        "Dado que la función input() siempre devuelve una cadena de texto, si necesitas trabajar con otro tipo de dato (como números), es necesario convertir el valor ingresado.\n",
        "\n",
        "Por ejemplo, si queremos solicitar la edad del usuario, debemos convertir ese valor a un número entero:"
      ],
      "metadata": {
        "id": "45RAThEXCDgS"
      }
    },
    {
      "cell_type": "code",
      "source": [
        "edad = input(\"¿Cuántos años tienes? \")\n",
        "edad = int(edad)  # Convertir el input a un entero\n",
        "print(f\"Tendrás {edad + 1} años en tu próximo cumpleaños.\")\n"
      ],
      "metadata": {
        "colab": {
          "base_uri": "https://localhost:8080/"
        },
        "id": "BudXKqlUCHkO",
        "outputId": "c69d7ffe-6e67-46bc-9539-6a127f79da4f"
      },
      "execution_count": null,
      "outputs": [
        {
          "output_type": "stream",
          "name": "stdout",
          "text": [
            "¿Cuántos años tienes? 420\n",
            "Tendrás 421 años en tu próximo cumpleaños.\n"
          ]
        }
      ]
    },
    {
      "cell_type": "markdown",
      "source": [
        "En este caso, usamos int() para convertir la cadena de texto ingresada a un número entero. Es importante realizar esta conversión si necesitas hacer cálculos o trabajar con el valor como un número."
      ],
      "metadata": {
        "id": "vdh-dSjWCMBO"
      }
    },
    {
      "cell_type": "markdown",
      "source": [
        "## Trabajar con múltiples entradas\n",
        "\n",
        "Podemos solicitar al usuario que ingrese varios datos en una sola línea, y luego separarlos. Para esto, podemos utilizar el método split().\n"
      ],
      "metadata": {
        "id": "e_p6XjelCPni"
      }
    },
    {
      "cell_type": "code",
      "source": [
        "entrada = input(\"Ingresa tu color favorito y tu comida favorita, separados por un espacio: \")\n",
        "color, comida = entrada.split()\n",
        "print(f\"Tu color favorito es {color} y tu comida favorita es {comida}.\")\n"
      ],
      "metadata": {
        "colab": {
          "base_uri": "https://localhost:8080/"
        },
        "id": "Q4KObagnCTIV",
        "outputId": "77846da5-59f3-4941-f332-1da94d7218e0"
      },
      "execution_count": null,
      "outputs": [
        {
          "output_type": "stream",
          "name": "stdout",
          "text": [
            "Ingresa tu color favorito y tu comida favorita, separados por un espacio: rojo pizza\n",
            "Tu color favorito es rojo y tu comida favorita es pizza.\n"
          ]
        }
      ]
    },
    {
      "cell_type": "markdown",
      "source": [
        "Aquí, el usuario debe ingresar dos valores separados por un espacio, y estos serán asignados a las variables color y comida."
      ],
      "metadata": {
        "id": "WURXGSnECbob"
      }
    },
    {
      "cell_type": "markdown",
      "source": [
        "### Validación del input del usuario\n",
        "Es común que los usuarios ingresen datos incorrectos, especialmente cuando se espera un número y se ingresa texto. Para manejar este tipo de errores, podemos utilizar un bloque try-except para validar que el dato ingresado es correcto.\n",
        "\n",
        "Por ejemplo, si queremos asegurarnos de que el usuario ingresa su edad como un número:"
      ],
      "metadata": {
        "id": "ZVH9epLrOSwb"
      }
    },
    {
      "cell_type": "code",
      "source": [
        "while True:\n",
        "    try:\n",
        "        edad = int(input(\"Por favor, ingresa tu edad en números: \"))\n",
        "        print(f\"Gracias! Has ingresado: {edad} años.\")\n",
        "        break\n",
        "    except ValueError:\n",
        "        print(\"Error: por favor ingresa un número válido.\")\n",
        "\n"
      ],
      "metadata": {
        "id": "L2TLjJ4xOVPZ",
        "outputId": "4fb34404-94c7-4025-8739-4835aae854f0",
        "colab": {
          "base_uri": "https://localhost:8080/"
        }
      },
      "execution_count": null,
      "outputs": [
        {
          "output_type": "stream",
          "name": "stdout",
          "text": [
            "Por favor, ingresa tu edad en números: dgfd\n",
            "Error: por favor ingresa un número válido.\n",
            "Por favor, ingresa tu edad en números: 2\n",
            "Gracias! Has ingresado: 2 años.\n"
          ]
        }
      ]
    },
    {
      "cell_type": "markdown",
      "source": [
        "En este caso, el programa seguirá pidiendo la edad hasta que el usuario ingrese un número válido. Si el usuario ingresa algo que no se pueda convertir a un entero, el programa mostrará un mensaje de error y volverá a pedir el valor."
      ],
      "metadata": {
        "id": "d5nDgf1aOZ-o"
      }
    }
  ]
}
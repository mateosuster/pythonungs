{
  "nbformat": 4,
  "nbformat_minor": 0,
  "metadata": {
    "colab": {
      "name": "MPE III - Funciones.ipynb",
      "provenance": [],
      "authorship_tag": "ABX9TyOFUrVlyGIeSrinEwbblyib",
      "include_colab_link": true
    },
    "kernelspec": {
      "name": "python3",
      "display_name": "Python 3"
    },
    "language_info": {
      "name": "python"
    }
  },
  "cells": [
    {
      "cell_type": "markdown",
      "metadata": {
        "id": "view-in-github",
        "colab_type": "text"
      },
      "source": [
        "<a href=\"https://colab.research.google.com/github/mateosuster/pythonungs/blob/master/codigos/programacion_funcional/3.0_MPE_III_Funciones.ipynb\" target=\"_parent\"><img src=\"https://colab.research.google.com/assets/colab-badge.svg\" alt=\"Open In Colab\"/></a>"
      ]
    },
    {
      "cell_type": "markdown",
      "metadata": {
        "id": "4x9KMjQt0ZgR"
      },
      "source": [
        "# Funciones\n",
        "\n",
        "Como en cualquier otro lenguaje, en *Python* también es posible definir funciones, es decir, secuencias de enunciados que reciben ciertos datos, ejecutan algunas operaciones sobre ellos y devuelven un resultado. Una de las ventajas de las funciones es que nos permiten **particionar problemas** y **evitar la duplicación de información**.\n",
        "\n",
        "Para definir una función se usa la palabra clave `def`, y el valor que va a retornar siempre debe ser precedido por un `return`. La sintaxis de una función es como se ve a continuación:\n",
        "\n",
        "```python\n",
        "def NOMBRE(LISTA DE ARGUMENTOS):\n",
        "    ENUNCIADOS\n",
        "    return VALOR\n",
        "```\n",
        "\n",
        "ó\n",
        "\n",
        "```python\n",
        "def NOMBRE(LISTA DE ARGUMENTOS):\n",
        "    ENUNCIADOS\n",
        "    print(VALOR)\n",
        "```\n",
        "\n",
        "La línea que contiene el `return` (o `print`) es opcional, pues no todas las funciones deben retornar algo. Por ejemplo, hay algunas que sólo modifican los valores de ciertas variables, por lo que no necesitan retornar o imprimir ningún valor."
      ]
    },
    {
      "cell_type": "markdown",
      "metadata": {
        "id": "Ff5W7Zrx0ZgS"
      },
      "source": [
        "**Nota**:\n",
        "\n",
        "Es muy importante tener en cuenta que los enunciados que hacen parte de la función deben estar **cuatro espacios** por dentro del encabezado. En otras palabras, todo lo que esté indentado con cuatro espacios por dentro de la definición, pertenece al cuerpo de la función, ya que en Python la indentación es lo único que define la forma en que se agrupa el código. Sólo cuando el nivel de indentación se retorne al punto en que se escribió el primer `def` se considera que ha terminado la definición de la función.\n",
        "\n",
        "**Nota:** Google Colab también reconoce los indentados de dos espacios como válidos, pero no todos los entornos poseen esta características. Por lo general, se usan cuatro espacios."
      ]
    },
    {
      "cell_type": "markdown",
      "metadata": {
        "id": "FGT0m2HZ0ZgS"
      },
      "source": [
        "Un ejemplo muy sencillo de una función que toma un argumento `x` y retorna este argumento elevado al cuadrado es:"
      ]
    },
    {
      "cell_type": "code",
      "metadata": {
        "id": "TeLGcvcO0ZgT"
      },
      "source": [
        "def cuadrado(x):\n",
        "    a = x**2\n",
        "    return a"
      ],
      "execution_count": 1,
      "outputs": []
    },
    {
      "cell_type": "markdown",
      "metadata": {
        "id": "cLZXcOIR0ZgV"
      },
      "source": [
        "Podemos comprobar que la función esta operando correctamente al pasarle varios argumentos y ver los resultados que retorna:"
      ]
    },
    {
      "cell_type": "code",
      "metadata": {
        "id": "Uaoz-4Vh0ZgW",
        "outputId": "83ad5521-6dec-49da-f2b1-bf5f6edb1d85",
        "colab": {
          "base_uri": "https://localhost:8080/"
        }
      },
      "source": [
        "cuadrado(3)"
      ],
      "execution_count": 2,
      "outputs": [
        {
          "output_type": "execute_result",
          "data": {
            "text/plain": [
              "9"
            ]
          },
          "metadata": {},
          "execution_count": 2
        }
      ]
    },
    {
      "cell_type": "code",
      "source": [
        "num = cuadrado(42)\n",
        "num % 5"
      ],
      "metadata": {
        "id": "xyFioGcxaHYf",
        "outputId": "007bd92a-ec38-48c9-8eb7-9f17204dd051",
        "colab": {
          "base_uri": "https://localhost:8080/"
        }
      },
      "execution_count": 3,
      "outputs": [
        {
          "output_type": "execute_result",
          "data": {
            "text/plain": [
              "4"
            ]
          },
          "metadata": {},
          "execution_count": 3
        }
      ]
    },
    {
      "cell_type": "code",
      "metadata": {
        "id": "agI8_q2V0Zgc",
        "outputId": "948d1e38-a22e-4082-ed20-d64b839bb2c0",
        "colab": {
          "base_uri": "https://localhost:8080/",
          "height": 253
        }
      },
      "source": [
        "cuadrado('a')"
      ],
      "execution_count": 4,
      "outputs": [
        {
          "output_type": "error",
          "ename": "TypeError",
          "evalue": "ignored",
          "traceback": [
            "\u001b[0;31m---------------------------------------------------------------------------\u001b[0m",
            "\u001b[0;31mTypeError\u001b[0m                                 Traceback (most recent call last)",
            "\u001b[0;32m<ipython-input-4-00c5ce253cb7>\u001b[0m in \u001b[0;36m<cell line: 1>\u001b[0;34m()\u001b[0m\n\u001b[0;32m----> 1\u001b[0;31m \u001b[0mcuadrado\u001b[0m\u001b[0;34m(\u001b[0m\u001b[0;34m'a'\u001b[0m\u001b[0;34m)\u001b[0m\u001b[0;34m\u001b[0m\u001b[0;34m\u001b[0m\u001b[0m\n\u001b[0m",
            "\u001b[0;32m<ipython-input-1-4ea03be6a408>\u001b[0m in \u001b[0;36mcuadrado\u001b[0;34m(x)\u001b[0m\n\u001b[1;32m      1\u001b[0m \u001b[0;32mdef\u001b[0m \u001b[0mcuadrado\u001b[0m\u001b[0;34m(\u001b[0m\u001b[0mx\u001b[0m\u001b[0;34m)\u001b[0m\u001b[0;34m:\u001b[0m\u001b[0;34m\u001b[0m\u001b[0;34m\u001b[0m\u001b[0m\n\u001b[0;32m----> 2\u001b[0;31m     \u001b[0ma\u001b[0m \u001b[0;34m=\u001b[0m \u001b[0mx\u001b[0m\u001b[0;34m**\u001b[0m\u001b[0;36m2\u001b[0m\u001b[0;34m\u001b[0m\u001b[0;34m\u001b[0m\u001b[0m\n\u001b[0m\u001b[1;32m      3\u001b[0m     \u001b[0;32mreturn\u001b[0m \u001b[0ma\u001b[0m\u001b[0;34m\u001b[0m\u001b[0;34m\u001b[0m\u001b[0m\n",
            "\u001b[0;31mTypeError\u001b[0m: unsupported operand type(s) for ** or pow(): 'str' and 'int'"
          ]
        }
      ]
    },
    {
      "cell_type": "markdown",
      "metadata": {
        "id": "dZcKY3Y80Zgf"
      },
      "source": [
        "En el último caso vemos que si intentamos pasarle a la función un argumento que no puede ser procesado, Python simplemente retorna un error."
      ]
    },
    {
      "cell_type": "markdown",
      "source": [
        "Las funciones que no retornan un valor (procedimientos) no nos permiten interactuar con valores. Veamos un simple ejemplo"
      ],
      "metadata": {
        "id": "HHA3KYyYZ2tW"
      }
    },
    {
      "cell_type": "code",
      "source": [
        "def cuadrado_print(x):\n",
        "    a = x**2\n",
        "    print(a)\n",
        "\n",
        "num_func_print = cuadrado_print(2)"
      ],
      "metadata": {
        "id": "xTdQEXhmZ1qe",
        "outputId": "e199177f-f6ca-4d9c-e948-845b57f512de",
        "colab": {
          "base_uri": "https://localhost:8080/"
        }
      },
      "execution_count": 5,
      "outputs": [
        {
          "output_type": "stream",
          "name": "stdout",
          "text": [
            "4\n"
          ]
        }
      ]
    },
    {
      "cell_type": "code",
      "source": [
        "num_func_print + 2"
      ],
      "metadata": {
        "id": "vqofWeKyaao6",
        "outputId": "329f8eb3-2882-4bc0-ca22-9c4d8f13bea6",
        "colab": {
          "base_uri": "https://localhost:8080/",
          "height": 166
        }
      },
      "execution_count": 6,
      "outputs": [
        {
          "output_type": "error",
          "ename": "TypeError",
          "evalue": "ignored",
          "traceback": [
            "\u001b[0;31m---------------------------------------------------------------------------\u001b[0m",
            "\u001b[0;31mTypeError\u001b[0m                                 Traceback (most recent call last)",
            "\u001b[0;32m<ipython-input-6-2473b832aed6>\u001b[0m in \u001b[0;36m<cell line: 1>\u001b[0;34m()\u001b[0m\n\u001b[0;32m----> 1\u001b[0;31m \u001b[0mnum_func_print\u001b[0m \u001b[0;34m+\u001b[0m \u001b[0;36m2\u001b[0m\u001b[0;34m\u001b[0m\u001b[0;34m\u001b[0m\u001b[0m\n\u001b[0m",
            "\u001b[0;31mTypeError\u001b[0m: unsupported operand type(s) for +: 'NoneType' and 'int'"
          ]
        }
      ]
    },
    {
      "cell_type": "code",
      "source": [
        "type(num_func_print)"
      ],
      "metadata": {
        "id": "6qrpAmIMcJOm",
        "outputId": "b42fb212-84db-47ea-de69-6404f725bdd2",
        "colab": {
          "base_uri": "https://localhost:8080/"
        }
      },
      "execution_count": 7,
      "outputs": [
        {
          "output_type": "execute_result",
          "data": {
            "text/plain": [
              "NoneType"
            ]
          },
          "metadata": {},
          "execution_count": 7
        }
      ]
    },
    {
      "cell_type": "markdown",
      "metadata": {
        "id": "abTOgx6tsWk1"
      },
      "source": [
        "Otro ejemplo de una función sencilla es el siguiente:"
      ]
    },
    {
      "cell_type": "code",
      "metadata": {
        "id": "Bh8CClCURBLJ"
      },
      "source": [
        "def suma(x,y):\n",
        "  return x + y"
      ],
      "execution_count": 11,
      "outputs": []
    },
    {
      "cell_type": "code",
      "source": [
        "suma(4, 6)"
      ],
      "metadata": {
        "id": "W_dXOyKMBbxD",
        "outputId": "336ff81b-02bc-4a1d-b738-8e92a9199ccd",
        "colab": {
          "base_uri": "https://localhost:8080/"
        }
      },
      "execution_count": 12,
      "outputs": [
        {
          "output_type": "execute_result",
          "data": {
            "text/plain": [
              "10"
            ]
          },
          "metadata": {},
          "execution_count": 12
        }
      ]
    },
    {
      "cell_type": "code",
      "metadata": {
        "id": "UDeG1osGRE1L",
        "outputId": "fbcd76aa-cc4e-4ad6-e422-264d51cf88f5",
        "colab": {
          "base_uri": "https://localhost:8080/",
          "height": 35
        }
      },
      "source": [
        "suma('ab','c')"
      ],
      "execution_count": 9,
      "outputs": [
        {
          "output_type": "execute_result",
          "data": {
            "text/plain": [
              "'abc'"
            ],
            "application/vnd.google.colaboratory.intrinsic+json": {
              "type": "string"
            }
          },
          "metadata": {},
          "execution_count": 9
        }
      ]
    },
    {
      "cell_type": "markdown",
      "metadata": {
        "id": "qG__Z7BSTq_n"
      },
      "source": [
        "Es importante tener en cuenta que la cantidad de inputs debe ser igual a la cantidad de parámetros definidos; de lo contrario, se rompe.  "
      ]
    },
    {
      "cell_type": "code",
      "metadata": {
        "id": "F0HwGgZOTp8l"
      },
      "source": [
        "suma(3, 4, 5)"
      ],
      "execution_count": null,
      "outputs": []
    },
    {
      "cell_type": "markdown",
      "source": [
        "Podemos pasarle valores por default a las funciones, de modo que no haga falta explicitar siempre que valor debe tomar un argumento determinado"
      ],
      "metadata": {
        "id": "ujJeRrycHFzX"
      }
    },
    {
      "cell_type": "code",
      "source": [
        "def suma_con_y_default(x,y=1):\n",
        "  return x + y"
      ],
      "metadata": {
        "id": "az2PFIxuBPj6"
      },
      "execution_count": 10,
      "outputs": []
    },
    {
      "cell_type": "code",
      "source": [
        "suma_con_y_default(4, 6)"
      ],
      "metadata": {
        "id": "Hl47Zh-fBYbH",
        "outputId": "c842ec07-c606-4e57-9ebd-af24dd1aa2b7",
        "colab": {
          "base_uri": "https://localhost:8080/"
        }
      },
      "execution_count": 13,
      "outputs": [
        {
          "output_type": "execute_result",
          "data": {
            "text/plain": [
              "10"
            ]
          },
          "metadata": {},
          "execution_count": 13
        }
      ]
    },
    {
      "cell_type": "code",
      "source": [
        "suma_con_y_default(4)"
      ],
      "metadata": {
        "id": "TfH3rfpzBfHa",
        "outputId": "3ead1e0d-29c8-42e2-8787-ecb1b7b89cd1",
        "colab": {
          "base_uri": "https://localhost:8080/"
        }
      },
      "execution_count": 14,
      "outputs": [
        {
          "output_type": "execute_result",
          "data": {
            "text/plain": [
              "5"
            ]
          },
          "metadata": {},
          "execution_count": 14
        }
      ]
    },
    {
      "cell_type": "markdown",
      "source": [
        "Podemos invertir el orden en el cual pasamos los inputs explicitando qué valor se le asigna a cada argumento"
      ],
      "metadata": {
        "id": "GS8rOK5ZHTHe"
      }
    },
    {
      "cell_type": "code",
      "source": [
        "def division(x, y):\n",
        "  return x/y"
      ],
      "metadata": {
        "id": "vPKOVPo7BpuM"
      },
      "execution_count": 15,
      "outputs": []
    },
    {
      "cell_type": "code",
      "source": [
        "division(50, 10) #caso default, los argumentos se leen en orden"
      ],
      "metadata": {
        "id": "WIWWS-CABxck",
        "outputId": "8098cbe7-8de9-411c-fa3c-4e3943096de7",
        "colab": {
          "base_uri": "https://localhost:8080/"
        }
      },
      "execution_count": 17,
      "outputs": [
        {
          "output_type": "execute_result",
          "data": {
            "text/plain": [
              "5.0"
            ]
          },
          "metadata": {},
          "execution_count": 17
        }
      ]
    },
    {
      "cell_type": "code",
      "source": [
        "division(x = 50, y = 10) #el resultado es el mismo que el anterior"
      ],
      "metadata": {
        "id": "m9phGMKrB8Xe",
        "outputId": "43de7ade-0bba-43d3-cdb6-c96c806add91",
        "colab": {
          "base_uri": "https://localhost:8080/"
        }
      },
      "execution_count": 18,
      "outputs": [
        {
          "output_type": "execute_result",
          "data": {
            "text/plain": [
              "5.0"
            ]
          },
          "metadata": {},
          "execution_count": 18
        }
      ]
    },
    {
      "cell_type": "code",
      "source": [
        "division(y = 50, x = 10) #invertimos el orden de los argumentos, primero pasamos la 'y' y luego la 'x'"
      ],
      "metadata": {
        "id": "HcLjS_DSCBHL",
        "outputId": "38e014e9-750c-40d1-c1f3-997ac4b93532",
        "colab": {
          "base_uri": "https://localhost:8080/"
        }
      },
      "execution_count": 21,
      "outputs": [
        {
          "output_type": "execute_result",
          "data": {
            "text/plain": [
              "0.2"
            ]
          },
          "metadata": {},
          "execution_count": 21
        }
      ]
    },
    {
      "cell_type": "markdown",
      "source": [
        "No obstante, si definimos el argumento de algun primer valor, debemos definirlos para todos"
      ],
      "metadata": {
        "id": "a5zVndOGHtpf"
      }
    },
    {
      "cell_type": "code",
      "source": [
        "division(y = 10,  50)"
      ],
      "metadata": {
        "id": "8gYmt2NrCMD5",
        "outputId": "138ffe89-6f89-4c05-8e4b-aba7ffdbaef8",
        "colab": {
          "base_uri": "https://localhost:8080/",
          "height": 131
        }
      },
      "execution_count": 25,
      "outputs": [
        {
          "output_type": "error",
          "ename": "SyntaxError",
          "evalue": "ignored",
          "traceback": [
            "\u001b[0;36m  File \u001b[0;32m\"<ipython-input-25-bb7ea2944a81>\"\u001b[0;36m, line \u001b[0;32m1\u001b[0m\n\u001b[0;31m    division(y = 10,  50)\u001b[0m\n\u001b[0m                        ^\u001b[0m\n\u001b[0;31mSyntaxError\u001b[0m\u001b[0;31m:\u001b[0m positional argument follows keyword argument\n"
          ]
        }
      ]
    },
    {
      "cell_type": "markdown",
      "source": [
        "Sí se puede hacer a la inversa, es decir, no definir un primer argumento, pero si los siguientes"
      ],
      "metadata": {
        "id": "Mivcsq8KIHhP"
      }
    },
    {
      "cell_type": "code",
      "source": [
        "division( 10, y=  50)"
      ],
      "metadata": {
        "id": "mV_ta6uqIArN",
        "outputId": "3ef866e4-4933-437f-aabd-498a5018393d",
        "colab": {
          "base_uri": "https://localhost:8080/"
        }
      },
      "execution_count": 26,
      "outputs": [
        {
          "output_type": "execute_result",
          "data": {
            "text/plain": [
              "0.2"
            ]
          },
          "metadata": {},
          "execution_count": 26
        }
      ]
    }
  ]
}
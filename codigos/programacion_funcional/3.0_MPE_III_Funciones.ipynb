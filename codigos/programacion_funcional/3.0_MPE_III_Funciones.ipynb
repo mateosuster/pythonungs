{
  "nbformat": 4,
  "nbformat_minor": 0,
  "metadata": {
    "colab": {
      "name": "MPE III - Funciones.ipynb",
      "provenance": [],
      "collapsed_sections": [],
      "authorship_tag": "ABX9TyMb+Okwg0w1x+R77yP9fjfr",
      "include_colab_link": true
    },
    "kernelspec": {
      "name": "python3",
      "display_name": "Python 3"
    },
    "language_info": {
      "name": "python"
    }
  },
  "cells": [
    {
      "cell_type": "markdown",
      "metadata": {
        "id": "view-in-github",
        "colab_type": "text"
      },
      "source": [
        "<a href=\"https://colab.research.google.com/github/mateosuster/pythonungs/blob/master/codigos/programacion_funcional/3_MPE_III_Funciones.ipynb\" target=\"_parent\"><img src=\"https://colab.research.google.com/assets/colab-badge.svg\" alt=\"Open In Colab\"/></a>"
      ]
    },
    {
      "cell_type": "markdown",
      "metadata": {
        "id": "4x9KMjQt0ZgR"
      },
      "source": [
        "# Funciones\n",
        "\n",
        "Como en cualquier otro lenguaje, en *Python* también es posible definir funciones, es decir, secuencias de enunciados que reciben ciertos datos, ejecutan algunas operaciones sobre ellos y devuelven un resultado. Una de las ventajas de las funciones es que nos permiten **particionar problemas** y **evitar la duplicación de información**.\n",
        "\n",
        "Para definir una función se usa la palabra clave `def`, y el valor que va a retornar siempre debe ser precedido por un `return`. La sintaxis de una función es como se ve a continuación:\n",
        "\n",
        "```python\n",
        "def NOMBRE(LISTA DE ARGUMENTOS):\n",
        "    ENUNCIADOS\n",
        "    return VALOR\n",
        "```\n",
        "\n",
        "ó\n",
        "\n",
        "```python\n",
        "def NOMBRE(LISTA DE ARGUMENTOS):\n",
        "    ENUNCIADOS\n",
        "    print(VALOR)\n",
        "```\n",
        "\n",
        "La línea que contiene el `return` (o `print`) es opcional, pues no todas las funciones deben retornar algo. Por ejemplo, hay algunas que sólo modifican los valores de ciertas variables, por lo que no necesitan retornar o imprimir ningún valor."
      ]
    },
    {
      "cell_type": "markdown",
      "metadata": {
        "id": "Ff5W7Zrx0ZgS"
      },
      "source": [
        "**Nota**:\n",
        "\n",
        "Es muy importante tener en cuenta que los enunciados que hacen parte de la función deben estar **cuatro espacios** por dentro del encabezado. En otras palabras, todo lo que esté indentado con cuatro espacios por dentro de la definición, pertenece al cuerpo de la función, ya que en Python la indentación es lo único que define la forma en que se agrupa el código. Sólo cuando el nivel de indentación se retorne al punto en que se escribió el primer `def` se considera que ha terminado la definición de la función.\n",
        "\n",
        "**Nota:** Google Colab también reconoce los indentados de dos espacios como válidos, pero no todos los entornos poseen esta características. Por lo general, se usan cuatro espacios."
      ]
    },
    {
      "cell_type": "markdown",
      "metadata": {
        "id": "FGT0m2HZ0ZgS"
      },
      "source": [
        "Un ejemplo muy sencillo de una función que toma un argumento `x` y retorna este argumento elevado al cuadrado es:"
      ]
    },
    {
      "cell_type": "code",
      "metadata": {
        "id": "TeLGcvcO0ZgT"
      },
      "source": [
        "def cuadrado(x):\n",
        "    a = x**2\n",
        "    return a"
      ],
      "execution_count": null,
      "outputs": []
    },
    {
      "cell_type": "markdown",
      "metadata": {
        "id": "cLZXcOIR0ZgV"
      },
      "source": [
        "Podemos comprobar que la función esta operando correctamente al pasarle varios argumentos y ver los resultados que retorna:"
      ]
    },
    {
      "cell_type": "code",
      "metadata": {
        "id": "Uaoz-4Vh0ZgW"
      },
      "source": [
        "cuadrado(3)"
      ],
      "execution_count": null,
      "outputs": []
    },
    {
      "cell_type": "code",
      "source": [
        "num = cuadrado(42)\n",
        "num % 5"
      ],
      "metadata": {
        "id": "xyFioGcxaHYf"
      },
      "execution_count": null,
      "outputs": []
    },
    {
      "cell_type": "code",
      "metadata": {
        "id": "agI8_q2V0Zgc"
      },
      "source": [
        "cuadrado('a')"
      ],
      "execution_count": null,
      "outputs": []
    },
    {
      "cell_type": "markdown",
      "metadata": {
        "id": "dZcKY3Y80Zgf"
      },
      "source": [
        "En el último caso vemos que si intentamos pasarle a la función un argumento que no puede ser procesado, Python simplemente retorna un error."
      ]
    },
    {
      "cell_type": "markdown",
      "source": [
        "Las funciones que no retornan un valor (procedimientos) no nos permiten interactuar con valores. Veamos un simple ejemplo"
      ],
      "metadata": {
        "id": "HHA3KYyYZ2tW"
      }
    },
    {
      "cell_type": "code",
      "source": [
        "def cuadrado_print(x):\n",
        "    a = x**2\n",
        "    print(a)\n",
        "\n",
        "num_func_print = cuadrado_print(2)\n",
        "num_func_print"
      ],
      "metadata": {
        "id": "xTdQEXhmZ1qe"
      },
      "execution_count": null,
      "outputs": []
    },
    {
      "cell_type": "code",
      "source": [
        "num_func_print + 2"
      ],
      "metadata": {
        "id": "vqofWeKyaao6"
      },
      "execution_count": null,
      "outputs": []
    },
    {
      "cell_type": "code",
      "source": [
        "type(num_func_print)"
      ],
      "metadata": {
        "id": "6qrpAmIMcJOm"
      },
      "execution_count": null,
      "outputs": []
    },
    {
      "cell_type": "markdown",
      "metadata": {
        "id": "abTOgx6tsWk1"
      },
      "source": [
        "Otro ejemplo de una función sencilla es el siguiente:"
      ]
    },
    {
      "cell_type": "code",
      "metadata": {
        "id": "Bh8CClCURBLJ"
      },
      "source": [
        "def suma(x,y):\n",
        "  return x + y"
      ],
      "execution_count": null,
      "outputs": []
    },
    {
      "cell_type": "code",
      "metadata": {
        "id": "UDeG1osGRE1L"
      },
      "source": [
        "suma('ab','c')"
      ],
      "execution_count": null,
      "outputs": []
    },
    {
      "cell_type": "markdown",
      "metadata": {
        "id": "qG__Z7BSTq_n"
      },
      "source": [
        "Es importante tener en cuenta que la cantidad de inputs debe ser igual a la cantidad de parámetros definidos; de lo contrario, se rompe.  "
      ]
    },
    {
      "cell_type": "code",
      "metadata": {
        "id": "F0HwGgZOTp8l"
      },
      "source": [
        "suma(3, 4, 5)"
      ],
      "execution_count": null,
      "outputs": []
    }
  ]
}
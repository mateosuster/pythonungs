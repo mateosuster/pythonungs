{
  "nbformat": 4,
  "nbformat_minor": 0,
  "metadata": {
    "colab": {
      "name": "MPE III - Ejercicios if y while.ipynb",
      "provenance": [],
      "collapsed_sections": [],
      "include_colab_link": true
    },
    "kernelspec": {
      "name": "python3",
      "display_name": "Python 3"
    },
    "language_info": {
      "name": "python"
    }
  },
  "cells": [
    {
      "cell_type": "markdown",
      "metadata": {
        "id": "view-in-github",
        "colab_type": "text"
      },
      "source": [
        "<a href=\"https://colab.research.google.com/github/mateosuster/pythonungs/blob/master/codigos/programacion_funcional/4.1_Ejercicios_if_y_while.ipynb\" target=\"_parent\"><img src=\"https://colab.research.google.com/assets/colab-badge.svg\" alt=\"Open In Colab\"/></a>"
      ]
    },
    {
      "cell_type": "markdown",
      "metadata": {
        "id": "WfP0zwZGBcHr"
      },
      "source": [
        "# MPE III\n",
        "## Problemas sobre estructuras de control (`if` y `while`)\n",
        "\n",
        "### Atención: **NO USAR BUCLE** `for`\n",
        "\n",
        "![](https://memegenerator.net/img/instances/70639364/for-loop-while-loop.jpg)"
      ]
    },
    {
      "cell_type": "markdown",
      "metadata": {
        "id": "1S9GO-bFYcCj"
      },
      "source": [
        "### Problema división entera\n",
        "\n",
        "Escribir un programa que manipule dos variables con **números enteros**, calcule su división y muestre, **a través de un booleano**, si la división es exacta o no.\n",
        "\n",
        "El programa puede pensarse algorítimicamente de la siguiente manera:\n",
        "```\n",
        "**DIVISOR DE NÚMEROS**\n",
        "\n",
        "1) Escriba el dividendo: 14\n",
        "2) Escriba el divisor: 5\n",
        "3) Resultado: La división no es exacta. Cociente: 2 Resto: 4\n",
        "```\n",
        "\n",
        "**Nota**: puede utilizar la función `input()`, pero en caso de no estar familiarizade, no se haga mala sangre\n"
      ]
    },
    {
      "cell_type": "code",
      "metadata": {
        "id": "RzT1-cOyliiR"
      },
      "source": [
        "#Escriba la solución aquí\n",
        "\n"
      ],
      "execution_count": null,
      "outputs": []
    },
    {
      "cell_type": "markdown",
      "metadata": {
        "id": "QelYeoGQIBTs"
      },
      "source": [
        "### Problema división por cero\n",
        "\n",
        "Mejore el programa anterior permitiendo que **en caso de** que el divisor sea igual a cero, se genere una salida por pantalla advirtiendo la invalidez del cómputo."
      ]
    },
    {
      "cell_type": "code",
      "metadata": {
        "id": "D7F5tsEaIBTu"
      },
      "source": [
        "#Escriba la solución aquí\n",
        "\n"
      ],
      "execution_count": null,
      "outputs": []
    },
    {
      "cell_type": "markdown",
      "metadata": {
        "id": "WREwNACWIvKa"
      },
      "source": [
        "### Problema comparación de números\n",
        "\n",
        "Escriba un programa que pida dos números cualquiera (menos los últimos tres de la tarjeta de crédito) y que conteste cuál es el menor y cuál el mayor o que escriba que son iguales.\n",
        "\n"
      ]
    },
    {
      "cell_type": "code",
      "metadata": {
        "id": "zZI99UlIIvKc"
      },
      "source": [
        "#Escriba la solución aquí\n",
        "\n"
      ],
      "execution_count": null,
      "outputs": []
    },
    {
      "cell_type": "markdown",
      "metadata": {
        "id": "1Cf0kcrnJYT3"
      },
      "source": [
        "### Problema comparación de años\n",
        "\n",
        "Programe un algorítmo que guarde en una variable el año actual y otro cualquiera y que escriba, en una caso, cuántos años han pasado desde ese año o, en el otro, cuántos años faltan para llegar al mismo (el caso futurista)\n",
        "\n"
      ]
    },
    {
      "cell_type": "code",
      "metadata": {
        "id": "v5fuTuQHJYT5"
      },
      "source": [
        "#Escriba la solución aquí\n",
        "\n"
      ],
      "execution_count": null,
      "outputs": []
    },
    {
      "cell_type": "markdown",
      "metadata": {
        "id": "KLyiP1zuJwUs"
      },
      "source": [
        "### Problema múltiplos\n",
        "\n",
        "Escriba un programa que analice dos números enteros y que imprima por pantalla si el mayor es múltiplo del menor.\n",
        "\n"
      ]
    },
    {
      "cell_type": "code",
      "metadata": {
        "id": "jEEg6sImJwUu"
      },
      "source": [
        "#Escriba la solución aquí\n",
        "\n"
      ],
      "execution_count": null,
      "outputs": []
    },
    {
      "cell_type": "markdown",
      "metadata": {
        "id": "SDabYYuaL8ZR"
      },
      "source": [
        "### Problema la lista del super\n",
        "\n",
        "Evalúe si su **lista** del supermercado contiene \"Vermouth\". En caso de ser positivo, imprima por pantalla `Consume Vermouth`. De lo contrario, imprima `Esta canasta de consumo se cuidad el hígado`\n"
      ]
    },
    {
      "cell_type": "code",
      "metadata": {
        "id": "_iLXbhMGL8ZU"
      },
      "source": [
        "#Escriba la solución aquí\n",
        "\n"
      ],
      "execution_count": null,
      "outputs": []
    },
    {
      "cell_type": "markdown",
      "metadata": {
        "id": "CffxdcztMkUK"
      },
      "source": [
        "### Problema la lista del super (II)\n",
        "\n",
        "**Modifique** el programa anterior para que en caso de que no consuma vermouth, evalúe si la lista contiene alguna otra bebida alcóholica que usted ha muestreado en otra lista independiente. Vincular las dos condiciones. "
      ]
    },
    {
      "cell_type": "code",
      "metadata": {
        "id": "agtg7PMoMkUM"
      },
      "source": [
        "#Escriba la solución aquí\n",
        "\n"
      ],
      "execution_count": null,
      "outputs": []
    },
    {
      "cell_type": "markdown",
      "metadata": {
        "id": "AbKAnt6RNZIS"
      },
      "source": [
        "### Problema yen2 al kiosco\n",
        "\n",
        "Escriba un programa que parta de una variable con un número equivalente al dinero que usted posee en su bolsillo. Evalúe si le alcanza para comprar una coca en el kiosco más cercano. En caso de ser afirmativo, imprima por pantalla que ha realizado la transacción correctamente y además calcule cuánto dinero le queda en su bolsillo. De lo contrario imprima `Por desagracia, usted no posee suficiente dinero para comprar una coca cola`"
      ]
    },
    {
      "cell_type": "code",
      "metadata": {
        "id": "1PvEVpqMNZIT"
      },
      "source": [
        "#Escriba la solución aquí\n",
        "\n"
      ],
      "execution_count": null,
      "outputs": []
    },
    {
      "cell_type": "markdown",
      "metadata": {
        "id": "f3M5BtLYOhmO"
      },
      "source": [
        "### Problema migrando\n",
        "\n",
        "Construya un programa que evalúe si una persona es de nacionalidad vietnamita **o** china **y** es menor de edad. En caso afirmativo, imprima `Pase por la fila 1`. En caso de que sea mayor de edad y china, imprima que pase por la `fila 2`; mayor de edad y vietnamita, `fila 3`; y en caso de que no se cumpla ninguna condición, `fila 4`.\n"
      ]
    },
    {
      "cell_type": "code",
      "metadata": {
        "id": "KQV5Uj8sOhmQ"
      },
      "source": [
        "#Escriba la solución aquí\n",
        "\n"
      ],
      "execution_count": null,
      "outputs": []
    },
    {
      "cell_type": "markdown",
      "metadata": {
        "id": "3aWGZupr9jg6"
      },
      "source": [
        "### Problema *printeando* en bucle\n",
        "\n",
        "Escriba un programa que imprima por pantalla el nombre de una persona tantas veces como sea el largo del string. El programa debe funcionar para cualquier nombre independientemente de su largo.  \n"
      ]
    },
    {
      "cell_type": "code",
      "metadata": {
        "id": "Ele5ieFk9jhD"
      },
      "source": [
        "#Escriba la solución aquí\n",
        "\n"
      ],
      "execution_count": null,
      "outputs": []
    },
    {
      "cell_type": "markdown",
      "metadata": {
        "id": "_Hwlsr3kC5TJ"
      },
      "source": [
        "### Problema *bucleando* letras\n",
        "\n",
        "Modifique el problema anterior de modo que ahora imprima **las letras** de la cadena con las que se escribió el nombre de la persona"
      ]
    },
    {
      "cell_type": "code",
      "metadata": {
        "id": "r8lWyS5VC5TL"
      },
      "source": [
        "#Escriba la solución aquí\n",
        "\n"
      ],
      "execution_count": null,
      "outputs": []
    },
    {
      "cell_type": "markdown",
      "metadata": {
        "id": "nKDNbt1mLlVO"
      },
      "source": [
        "### Problema Contando letras\n",
        "\n",
        "Escribir un programa que sea capaz de mostrar la cantidad de letras \"a\" dentro de un texto que se le cargue.\n",
        "- Aquí tiene que usar el ciclo while y el condicional if\n",
        "- Esta prohibido utilizar alguna función de python que cuente letras\n",
        "\n",
        "![](https://i.ytimg.com/vi/jU8S7q5RBRw/hqdefault.jpg)\n"
      ]
    },
    {
      "cell_type": "code",
      "metadata": {
        "id": "jZNQlXxTLybX"
      },
      "source": [
        "#Escriba la solución aquí\n",
        "\n"
      ],
      "execution_count": null,
      "outputs": []
    },
    {
      "cell_type": "markdown",
      "metadata": {
        "id": "mwbowb4QIcL4"
      },
      "source": [
        "### Problema suma acumulada\n",
        "\n",
        "Programe un algoritmo que realice la suma acumulada de una lista con una `n` cantidad de números flotantes o enteros. Cuando la suma acumulada llegue a ser igual o mayor a 100, imprimir por pantalla `llegó a 100`. De lo contrario, imprimir `La suma acumulada es menor a 100`. Testee que el programa funcione con ambas condiciones\n",
        "\n",
        "\n",
        "Nota: si la suma acumulada llegó a 100, asegúrese que imprima la leyenda sólo una única vez por pantalla."
      ]
    },
    {
      "cell_type": "code",
      "metadata": {
        "id": "-_O7I0qNKL1A"
      },
      "source": [
        "#Escriba la solución aquí\n",
        "\n"
      ],
      "execution_count": null,
      "outputs": []
    },
    {
      "cell_type": "markdown",
      "metadata": {
        "id": "sDeYH0Dw_D-I"
      },
      "source": [
        "### Problema cuenta regresiva\n",
        "\n",
        "Escriba un programa que parta de un numero entero cualquiera (ejemplo `numero = 10`), al cual se le irán realizando sustracciones iterativas (ejemplo de a `1` en cada ciclo). Mostrar por pantalla el valor que toma la variable en cada iteración y cuando llegue a un valor menor o igual a cero imprimir `Se terminó tu hermoso ciclo while!!`    \n"
      ]
    },
    {
      "cell_type": "code",
      "metadata": {
        "id": "xkgeMoYN_D-J"
      },
      "source": [
        "#Escriba la solución aquí\n",
        "\n"
      ],
      "execution_count": null,
      "outputs": []
    },
    {
      "cell_type": "markdown",
      "metadata": {
        "id": "SPqafhPjGNK3"
      },
      "source": [
        "### Problema lista divisible por 3\n",
        "\n",
        "Definir una lista con **numeros enteros** y programar un bucle while que evalúe si cada uno de los elementos de dicha lista es divisible por 3. En caso de que así lo sea, que el programa imprima `Es divisble por tres`. De lo contrario, que imprima `mmm, no lo es` "
      ]
    },
    {
      "cell_type": "code",
      "metadata": {
        "id": "5lawn73LGNK5"
      },
      "source": [
        "#Escriba la solución aquí\n",
        "\n"
      ],
      "execution_count": null,
      "outputs": []
    },
    {
      "cell_type": "markdown",
      "metadata": {
        "id": "D1w8c6NlGxQP"
      },
      "source": [
        "### Problema lista divisible por `n`\n",
        "\n",
        "Modificar el programa anterior para que funcione para que evalúe la \"divisiblidad\" por cualquier numero. Implementar la función [input()](https://www.mclibre.org/consultar/python/lecciones/python-entrada-teclado.html) mencionada por algún compañere nerd.\n",
        "\n",
        "Nota: la función `input()` coerciona los valores a string"
      ]
    },
    {
      "cell_type": "code",
      "metadata": {
        "id": "s1mejzuHGxQR"
      },
      "source": [
        "#Escriba la solución aquí\n",
        "\n"
      ],
      "execution_count": null,
      "outputs": []
    },
    {
      "cell_type": "markdown",
      "metadata": {
        "id": "iZbU5R5yGFjC"
      },
      "source": [
        "### Problema conversión pesos a dólares loopeado (I)\n",
        "Escribir un programa que tome como entrada una lista con precios cotizados en dólares y convertirla a una lista de sus magros equivalentes en pesos (tomar alguno de los múltiples tipos de cambio existentes, independientemente de su legalidad).\n",
        "\n",
        "* El programa tiene que funcionar para lista de cualquier longitud\n",
        "* La salida del programa tiene que ser un gráfico de Dólares vs Pesos\n",
        "\n",
        "**Nota:** utilizar un ciclo `while`"
      ]
    },
    {
      "cell_type": "code",
      "metadata": {
        "id": "n1x1jccWGFjE"
      },
      "source": [
        "#Escriba la solución aquí\n",
        "\n"
      ],
      "execution_count": null,
      "outputs": []
    },
    {
      "cell_type": "markdown",
      "metadata": {
        "id": "QOPCOBkrmDkM"
      },
      "source": [
        "### Problema conversión pesos a dólares loopeado (II)\n",
        "\n",
        "Modifique el problema anterior para que ahora la salida del programa, además del gráfico, también incluya una salida por pantalla que indique para cada monto de dólares su correspondiente monto equivalente en pesos.\n",
        "\n",
        "**Nota:** ¿Se puede utilizar un ciclo `while` aquí también?"
      ]
    },
    {
      "cell_type": "code",
      "metadata": {
        "id": "WApX9Iq2oVUP"
      },
      "source": [
        "#Escriba la solución aquí\n",
        "\n"
      ],
      "execution_count": null,
      "outputs": []
    },
    {
      "cell_type": "markdown",
      "metadata": {
        "id": "MYCpHJualfSq"
      },
      "source": [
        "### Problema variaciones del tipo de cambio loopeado\n",
        "\n",
        "Escribir un programa que tome como entrada una lista de cotizaciones del dólar (en pesos) y convertirla a una lista de intranquilas variaciones porcentuales de la cotización.\n",
        "\n",
        "* El programa tiene que funcionar para lista de cualquier longitud.\n",
        "* La salida del programa tiene que ser un gráfico de la evolción de las\n",
        "variaciones."
      ]
    },
    {
      "cell_type": "code",
      "metadata": {
        "id": "xFVR2-hWl95W"
      },
      "source": [
        "#Escriba la solución aquí\n",
        "\n"
      ],
      "execution_count": null,
      "outputs": []
    },
    {
      "cell_type": "markdown",
      "metadata": {
        "id": "EFv_Jx1hA-Ut"
      },
      "source": [
        "### Problema asesorando a la familia Rocca \n",
        "\n",
        "Armar un ciclo while que parta de un capital inicial equivalente al [patrimonio de Paolo Rocca](https://www.forbesargentina.com/millonarios/por-rocca-cayeron-primer-puesto-ranking-forbes-2020-n3518) y capitalizarlo de manera compuesta en 6 iteraciones con una tasa de interés fija del 40%. \n",
        "\n",
        "Recuerde que la fórmula del interés compuesto se puede reescribir como una productoria:\n",
        "\n",
        "$ C_n = C_0(1+i_1)*(1+i_2)*...*(1+i_n)  $\n",
        "\n",
        "\n"
      ]
    },
    {
      "cell_type": "code",
      "metadata": {
        "id": "pOtk0V4lA-Uu"
      },
      "source": [
        "#Escriba la solución aquí\n",
        "\n"
      ],
      "execution_count": null,
      "outputs": []
    },
    {
      "cell_type": "markdown",
      "metadata": {
        "id": "iAHPTHjmLCtE"
      },
      "source": [
        "### La hipoteca de Mariano\n",
        "\n",
        "Mariano accedió a un crédito a 30 años para comprar una vivienda, con una tasa fija nominal anual del 5%. Pidió 1.000.000 al banco y quedó en pagar una cuota fija de 5.368,22\n",
        "\n",
        "El siguiente es un programa que calcula el monto total que pagará Mariano a lo largo de los años. ¿Cuánto es lo que va pagar? Ejecute el siguiente programa para saberlo"
      ]
    },
    {
      "cell_type": "code",
      "metadata": {
        "id": "cM3b8lmYLD_I"
      },
      "source": [
        "saldo = 1000000.0\n",
        "tasa = 0.05\n",
        "pago_mensual = 5368.22\n",
        "total_pagado = 0.0\n",
        "\n",
        "while saldo > 0:\n",
        "    saldo = saldo * (1+tasa/12) - pago_mensual\n",
        "    total_pagado = total_pagado + pago_mensual\n",
        "\n",
        "print('Total pagado', round(total_pagado, 2))"
      ],
      "execution_count": null,
      "outputs": []
    },
    {
      "cell_type": "markdown",
      "metadata": {
        "id": "x1lQaqbALHUC"
      },
      "source": [
        "#### Problema Adelantos\n",
        "\n",
        "Imaginemos que Mariano adelanta pagos extra de 1000/mes durante los primeros 12 meses de la hipoteca.\n",
        "\n",
        "Modificá el programa anterior para incorporar estos pagos extra y que imprima el monto total pagado junto con la cantidad de meses requeridos.\n",
        "\n",
        "Aclaración: aunque pueda parecer sencillo, este ejercicio va a necesitar que agregues una variable mes y que prestes bastante atención a cuándo la incrementás, con qué valor entra al ciclo y con qué valor sale del ciclo. Una posiblidad es inicializar mes en 0 y otra es inicializarla en 1. En el primer caso es problable que la variable salga del ciclo contando la cantidad de pagos que se hicieron, en el segundo, ¡es probable que salga contando la cantidad de pagos más uno!\n",
        "\n",
        "*El ejercicio tiene que dar: 1.896.245,22 en 351 meses*\n"
      ]
    },
    {
      "cell_type": "code",
      "metadata": {
        "id": "46SOj599LMxC"
      },
      "source": [
        "#Escriba la solución aquí\n"
      ],
      "execution_count": null,
      "outputs": []
    },
    {
      "cell_type": "markdown",
      "metadata": {
        "id": "3cICn_azLcP0"
      },
      "source": [
        "#### Problema Calculando adelantos\n",
        "\n",
        "¿Cuánto pagaría Mariano si agrega $1000 por mes durante cuatro años, comenzando en el sexto año de la hipoteca (es decir, luego de 5 años)?\n",
        "\n",
        "Modificá tu programa de forma que la información sobre pagos extras pueda ser incorporada de manera más ágil. Agregá las siguientes variables antes del ciclo, para definir el comienzo, fin y monto de los pagos extras:\n",
        "\n",
        "pago_extra_mes_comienzo = 61\n",
        "\n",
        "pago_extra_mes_fin = 108\n",
        "\n",
        "pago_extra = 1000\n",
        "\n",
        "Hacé que el programa tenga en cuenta estas variables para calcular el total a pagar apropiadamente."
      ]
    },
    {
      "cell_type": "code",
      "metadata": {
        "id": "IqmK1dVfLgHg"
      },
      "source": [
        "#Escriba la solución aquí\n",
        "\n"
      ],
      "execution_count": null,
      "outputs": []
    }
  ]
}
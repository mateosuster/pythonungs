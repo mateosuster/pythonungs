{
  "nbformat": 4,
  "nbformat_minor": 0,
  "metadata": {
    "colab": {
      "provenance": [],
      "authorship_tag": "ABX9TyMQ0N9+BhTG+KS0lQ0o2RWy",
      "include_colab_link": true
    },
    "kernelspec": {
      "name": "python3",
      "display_name": "Python 3"
    },
    "language_info": {
      "name": "python"
    }
  },
  "cells": [
    {
      "cell_type": "markdown",
      "metadata": {
        "id": "view-in-github",
        "colab_type": "text"
      },
      "source": [
        "<a href=\"https://colab.research.google.com/github/mateosuster/pythonungs/blob/master/codigos/programacion_funcional/Estructuras_de_control_II.ipynb\" target=\"_parent\"><img src=\"https://colab.research.google.com/assets/colab-badge.svg\" alt=\"Open In Colab\"/></a>"
      ]
    },
    {
      "cell_type": "markdown",
      "metadata": {
        "id": "O_B7XhxK0c6Y"
      },
      "source": [
        "# El ciclo for\n",
        "\n",
        "En Python `for` se utiliza para moverse (o iterar) entre los elementos de una secuencia de datos. Su sintaxis es más sencilla que la usada en otros lenguajes de programación (como C o C++), porque en lugar de utilizar un contador cuyo valor va aumentando o disminuyendo durante el ciclo, se toma una secuencia completa (i.e. una lista, una tupla, o una cadena), y se recorren sus elementos en el orden en que aparecen en ella.\n",
        "\n",
        "Observemos algunos ejemplos:"
      ]
    },
    {
      "cell_type": "code",
      "metadata": {
        "id": "-0z1z4AK0c6b"
      },
      "source": [
        "for x in [3, 9, 12, 4]:\n",
        "    print(x)"
      ],
      "execution_count": null,
      "outputs": []
    },
    {
      "cell_type": "markdown",
      "source": [
        "Comparemos esta sintaxis con el loop while"
      ],
      "metadata": {
        "id": "ir734OBDDwQf"
      }
    },
    {
      "cell_type": "code",
      "source": [
        "lista = [3, 9, 12, 4]"
      ],
      "metadata": {
        "id": "djPDKVU6EASg"
      },
      "execution_count": null,
      "outputs": []
    },
    {
      "cell_type": "code",
      "source": [
        "i = 0\n",
        "while i < len(lista):\n",
        "  print(lista[i])\n",
        "  i +=1"
      ],
      "metadata": {
        "id": "FSIrk29FDusP"
      },
      "execution_count": null,
      "outputs": []
    },
    {
      "cell_type": "code",
      "metadata": {
        "id": "dN_358y4yh8D"
      },
      "source": [
        "for y in  [4, 5, 6, -2, 4,0]:\n",
        "    print(y*2)"
      ],
      "execution_count": null,
      "outputs": []
    },
    {
      "cell_type": "markdown",
      "source": [
        "Con este tipo de loop se hace muy fácil iterar sobre cualquier tipo de dato, ya sean listas, strings, diccionarios, etc."
      ],
      "metadata": {
        "id": "jLvU_g4_pjUk"
      }
    },
    {
      "cell_type": "code",
      "metadata": {
        "id": "nKwvtYra0c6d"
      },
      "source": [
        "prefijos = \"JKLMNOPQ\"\n",
        "sufijo = \"ack\"\n",
        "\n",
        "for letra in prefijos:\n",
        "    print(letra + sufijo)"
      ],
      "execution_count": null,
      "outputs": []
    },
    {
      "cell_type": "code",
      "source": [
        "diccionario = {\n",
        "    \"algun\": [1.2, 42, \"más cosas\"],\n",
        "    \"maldito\": 3,\n",
        "    \"algoritmo\": {\"cuantas\": \"cosas\"}\n",
        "}\n",
        "\n",
        "print(\"Iteramos sobre las llaves...\")\n",
        "for iterable in diccionario.keys():\n",
        "  print(iterable)\n",
        "\n",
        "print(\"\\nIteramos NUEVAMENTE sobre las llaves... (pero con distinta sintaxis)\")\n",
        "for iterable in diccionario:\n",
        "  print(iterable)\n",
        "\n",
        "print(\"\\nY también sobre los valores...\")\n",
        "for iterable in diccionario.values():\n",
        "  print(iterable)\n"
      ],
      "metadata": {
        "colab": {
          "base_uri": "https://localhost:8080/"
        },
        "id": "THEeXQHEpsld",
        "outputId": "18fdeb15-0eae-4e3d-9d22-accddce88263"
      },
      "execution_count": null,
      "outputs": [
        {
          "output_type": "stream",
          "name": "stdout",
          "text": [
            "Iteramos sobre las llaves...\n",
            "algun\n",
            "maldito\n",
            "algoritmo\n",
            "\n",
            "Iteramos NUEVAMENTE sobre las llaves... (pero con distinta sintaxis)\n",
            "algun\n",
            "maldito\n",
            "algoritmo\n",
            "\n",
            "Y también sobre los valores...\n",
            "[1.2, 42, 'más cosas']\n",
            "3\n",
            "{'cuantas': 'cosas'}\n"
          ]
        }
      ]
    },
    {
      "cell_type": "markdown",
      "source": [
        "`range` es un comando que se utiliza muy a menudo junto a los ciclos `for`, pues sirve para generar una lista con todos los números desde 0 hasta cierto valor."
      ],
      "metadata": {
        "id": "_ESohrcTEP0w"
      }
    },
    {
      "cell_type": "code",
      "metadata": {
        "id": "4KLUiofr0c6e"
      },
      "source": [
        "for i in range(10):\n",
        "    print(i)"
      ],
      "execution_count": null,
      "outputs": []
    },
    {
      "cell_type": "code",
      "source": [
        "objeto = range(2)\n",
        "objeto"
      ],
      "metadata": {
        "id": "o_qnxknL7z95"
      },
      "execution_count": null,
      "outputs": []
    },
    {
      "cell_type": "markdown",
      "metadata": {
        "id": "Vh1C0hbQ0c6g"
      },
      "source": [
        "**Nota**: En Python 3 `range` genera un objeto de tipo `range` en lugar de una lista, por razones de eficiencia. Por ello hay que convertirlo a una lista para observar lo que contiene."
      ]
    },
    {
      "cell_type": "code",
      "source": [
        "type(range(4))"
      ],
      "metadata": {
        "id": "ccJw1msk78O-"
      },
      "execution_count": null,
      "outputs": []
    },
    {
      "cell_type": "code",
      "metadata": {
        "id": "-AxVu79Z_AYL"
      },
      "source": [
        "range(10)"
      ],
      "execution_count": null,
      "outputs": []
    },
    {
      "cell_type": "code",
      "metadata": {
        "id": "DwXBi5520c6g"
      },
      "source": [
        "list(range(10))"
      ],
      "execution_count": null,
      "outputs": []
    },
    {
      "cell_type": "markdown",
      "metadata": {
        "id": "jyyYKRix0c6i"
      },
      "source": [
        "`range` no sólo acepta un único argumento. Al evaluarlo con dos argumentos, genera una lista desde el valor inicial, hasta uno antes del límite superior (cierre exclusivo)"
      ]
    },
    {
      "cell_type": "code",
      "metadata": {
        "id": "9u6rXrKk0c6i"
      },
      "source": [
        "list(range(1, 20))"
      ],
      "execution_count": null,
      "outputs": []
    },
    {
      "cell_type": "markdown",
      "metadata": {
        "id": "PzFJETZx0c6l"
      },
      "source": [
        "Y con un tercer argumento, `range` genera una lista con valores espaciados según el tercer argumento"
      ]
    },
    {
      "cell_type": "code",
      "metadata": {
        "id": "bazkTj_60c6l"
      },
      "source": [
        "list(range(7, 25, 3))"
      ],
      "execution_count": null,
      "outputs": []
    },
    {
      "cell_type": "markdown",
      "metadata": {
        "id": "5zXQA6e20c6n"
      },
      "source": [
        "Dado que no es fácil recordar como funciona `range`, su ayuda puede consultarse interactivamente al evaluar su nombre, seguido de `?`, así:"
      ]
    },
    {
      "cell_type": "code",
      "metadata": {
        "id": "0KIjDFLX0c6o"
      },
      "source": [
        "range?"
      ],
      "execution_count": null,
      "outputs": []
    },
    {
      "cell_type": "markdown",
      "metadata": {
        "id": "InYalMYRzIOD"
      },
      "source": [
        "El siguiente programa hace lo mismo que el primer ejemplo, solo que está escrito de manera distinta."
      ]
    },
    {
      "cell_type": "code",
      "metadata": {
        "id": "7bBqc1u4yzCg"
      },
      "source": [
        "lista = [3, 9, 12, 4]\n",
        "\n",
        "for i in range(len(lista)):\n",
        "  print(lista[i])"
      ],
      "execution_count": null,
      "outputs": []
    },
    {
      "cell_type": "code",
      "metadata": {
        "id": "mX7QX0k8y3uI"
      },
      "source": [
        "list(range(len(lista)))"
      ],
      "execution_count": null,
      "outputs": []
    },
    {
      "cell_type": "markdown",
      "metadata": {
        "id": "lRNPtug5wu3N"
      },
      "source": [
        "Podemos pasar distintos objetos a iterar en un ciclo `for` con la función `zip`, que comprime los objetos que se encuentran en la misma posición de distintas listas en una tupla iterable."
      ]
    },
    {
      "cell_type": "code",
      "metadata": {
        "id": "kbzOJFzpxFnH"
      },
      "source": [
        "for x, y in zip([3, 9, 12, 4], [6, 3, 8, 5]):\n",
        "    print(x, y)\n",
        "    print(x*y, end =\"\\n\\n\")"
      ],
      "execution_count": null,
      "outputs": []
    },
    {
      "cell_type": "markdown",
      "metadata": {
        "id": "s-af307m3V3C"
      },
      "source": [
        "## Control de flujo\n",
        "\n",
        "Contamos con 3 _keywords_ que modifican el orden de ejecución **dentro de un bucle**\n",
        "\n",
        "- **continue**: interrumpe el flujo del bucle y retoma la ejecución en la siguiente iteración\n",
        "- **break**: termina el bucle\n",
        "- **pass**: no tiene efecto, se usa para evitar error cuando lo exige la sintáxis\n"
      ]
    },
    {
      "cell_type": "markdown",
      "metadata": {
        "id": "YOet2F_j3V3D"
      },
      "source": [
        "Vamos a simular una base de datos de usuarios empleando un diccionario. Este diccionario tiene como llave un id representando por un entero. Como valor tiene un diccionario con nombre, apellido y dni."
      ]
    },
    {
      "cell_type": "code",
      "execution_count": null,
      "metadata": {
        "id": "7UdnCLZp3V3D"
      },
      "outputs": [],
      "source": [
        "base = {\n",
        "    1: {\"nombre\":\"Fernanda\",\n",
        "        \"apellido\":\"Fernandez\",\n",
        "        \"dni\":333333331},\n",
        "    2: {\"nombre\":\"Gonzalo\",\n",
        "        \"apellido\":\"Gonzalez\",\n",
        "        \"dni\":333333332},\n",
        "    3: {\"nombre\":\"Rodrigo\",\n",
        "        \"apellido\":\"Rodriguez\",\n",
        "        \"dni\":333333333}\n",
        "    }"
      ]
    },
    {
      "cell_type": "markdown",
      "metadata": {
        "id": "1_pcGIDV3V3F"
      },
      "source": [
        "Supongamos que en una página web tenemos un formulario en el cual las personas que acceden completan con su dni y queremos saber el nombre y apellido si contamos con el mismo en la base, y si no lo tenemos sólo queremos saber cuál es el dni."
      ]
    },
    {
      "cell_type": "code",
      "execution_count": null,
      "metadata": {
        "id": "Arw_Qoka3V3G"
      },
      "outputs": [],
      "source": [
        "dnis = [333333331, 333333336, 333333339, 333333332, None, 333333333]"
      ]
    },
    {
      "cell_type": "code",
      "execution_count": null,
      "metadata": {
        "id": "uljoUMiy3V3H"
      },
      "outputs": [],
      "source": [
        "n_encontrados = 0\n",
        "\n",
        "for dni in dnis: # itero por todos los dnis\n",
        "\n",
        "    if type(dni) == int: # si el tipo es entero\n",
        "        dni_encontrado = False # inicializo una variable con valor False, ya van a ver para qué :-)\n",
        "\n",
        "        # Ahora viene la parte complicada, ¿cómo sé si ese dni ya está en mi base?\n",
        "        # 1- Recordemos que base es un diccionario y como tal tiene el método items(), pruébenlo afuera de esta celda\n",
        "        # me devuelve una tupla, con la llave en el primer elemento y el valor en el segundo\n",
        "\n",
        "        # itero por todos los elementos\n",
        "        for i in base.items():\n",
        "            valor = i[1] # guardo el valor en una variable\n",
        "            if dni == valor[\"dni\"]: # si el dni es el mismo que estoy buscando...\n",
        "                dni_encontrado = True\n",
        "                nombre_completo = valor[\"nombre\"] + \" \" + valor[\"apellido\"]\n",
        "                n_encontrados += 1 # esto equivale a encontrados = encontrados + 1, agrega uno\n",
        "                break # freno la búsqueda, ésto evita que siga buscando\n",
        "\n",
        "        if dni_encontrado: # entra acá si es True\n",
        "            print(f\"{nombre_completo.title()} ingreso a nuestra web\")\n",
        "\n",
        "        elif not dni_encontrado: # noten el not\n",
        "            print(f'El dni {dni} no se encuentra en la base...')\n",
        "            continue # sigo con la búsqueda, NO paso a la siguiente línea\n",
        "\n",
        "        print(f\"Hasta el momento se encontraron {n_encontrados} casos\")\n",
        "\n",
        "    else:\n",
        "        pass # si dni no es un entero entonces no hacemos nada, suponemos que hubo algún tipo de error"
      ]
    },
    {
      "cell_type": "markdown",
      "metadata": {
        "id": "P_FuZOtt5_v9"
      },
      "source": [
        "# Listas por comprensión (List Comprehension)"
      ]
    },
    {
      "cell_type": "markdown",
      "metadata": {
        "id": "pKJ0aPBY5_v9"
      },
      "source": [
        "Las **listas por comprensión** son una funcionalidad muy flexible de Python que permite crear listas de un modo más \"descriptivo\", basandose en la notación de definición de conjuntos."
      ]
    },
    {
      "cell_type": "markdown",
      "metadata": {
        "id": "UiX8lW2F5_v9"
      },
      "source": [
        "Supongamos que necesitamos obtener una lista con los elementos de una lista original elevados al cuadrado.\n",
        "\n",
        "Sin listas por comprensión haríamos..."
      ]
    },
    {
      "cell_type": "code",
      "execution_count": null,
      "metadata": {
        "id": "2IEzVUC-5_v9"
      },
      "outputs": [],
      "source": [
        "lista = [1,2,3,4,5]\n",
        "\n",
        "cuadrados = []\n",
        "\n",
        "for x in lista:\n",
        "    cuadrados.append(x**2)\n",
        "\n",
        "cuadrados"
      ]
    },
    {
      "cell_type": "markdown",
      "metadata": {
        "id": "M33Xo-AH5_v9"
      },
      "source": [
        "En cambio, con listas por comprensión usamos esta expresión:"
      ]
    },
    {
      "cell_type": "code",
      "execution_count": null,
      "metadata": {
        "id": "QE22aod15_v9"
      },
      "outputs": [],
      "source": [
        "cuadrados = [x**2 for x in lista]\n",
        "cuadrados"
      ]
    },
    {
      "cell_type": "markdown",
      "metadata": {
        "id": "5eSwjVuj5_v9"
      },
      "source": [
        "En las listas por comprensión también podemos incluir condicionales en una sola línea, vean la siguiente expresión:"
      ]
    },
    {
      "cell_type": "code",
      "execution_count": null,
      "metadata": {
        "id": "YpOa7oAU5_v9"
      },
      "outputs": [],
      "source": [
        "x = 10\n",
        "print(x if x > 15 else 0)"
      ]
    },
    {
      "cell_type": "code",
      "execution_count": null,
      "metadata": {
        "id": "cCPBXuUx5_v9"
      },
      "outputs": [],
      "source": [
        "x = 16\n",
        "print(x if x > 15 else 0)"
      ]
    },
    {
      "cell_type": "markdown",
      "metadata": {
        "id": "VErxWHiq5_v9"
      },
      "source": [
        "Ahora vamos a generar una lista por comprensión sólo con los números donde el cuadrado sea menor a 15"
      ]
    },
    {
      "cell_type": "code",
      "execution_count": null,
      "metadata": {
        "id": "9XawHwau5_v-"
      },
      "outputs": [],
      "source": [
        "cuadrados = [x**2 for x in lista if x**2 < 15]\n",
        "cuadrados"
      ]
    },
    {
      "cell_type": "markdown",
      "metadata": {
        "id": "OLHzEbvJ5_v-"
      },
      "source": [
        "La sintáxis para **filtrar** con condicionales es\n",
        "\n",
        "> [ (elemento) ( for x in (iterable) ) ( if condicion ) ]\n",
        "\n",
        "Donde \"elemento\" es lo que vayamos a guardar en la lista. <br> <br>  Incluyendo un **else**:\n",
        "\n",
        "> [ (elemento) (if condicion else otro_elemento) ( for x in (iterable) ) ]\n",
        "\n",
        "Pueden hacerse loops anidados:\n",
        "\n",
        "> [i for i in range(x) for j in range(y)]"
      ]
    },
    {
      "cell_type": "markdown",
      "metadata": {
        "id": "1aljVQCT5_v-"
      },
      "source": [
        "Otra forma de pensar la sintaxis es a partir de teoría de conjuntos. Por ejemplo:\n",
        "Un conjunto S definido por todos los números X / 4 que pertenecen a los Naturales y cumplen que su cuadrado es menor a 60\n",
        "\n",
        "$$S=\\{\\,\\frac{x}{4}\\mid x \\in \\mathbb{N},\\ x^2<60\\,\\}$$"
      ]
    },
    {
      "cell_type": "markdown",
      "metadata": {
        "id": "P9P3snpk5_v-"
      },
      "source": [
        "Con un loop for:"
      ]
    },
    {
      "cell_type": "code",
      "execution_count": null,
      "metadata": {
        "id": "xFaBtITr5_v-"
      },
      "outputs": [],
      "source": [
        "S = []\n",
        "\n",
        "for x in range(1000):\n",
        "    if x ** 2 < 60:\n",
        "        S.append(x/4)\n",
        "S"
      ]
    },
    {
      "cell_type": "markdown",
      "metadata": {
        "id": "HHOnm7XS5_v-"
      },
      "source": [
        "Con listas por comprensión:"
      ]
    },
    {
      "cell_type": "code",
      "execution_count": null,
      "metadata": {
        "id": "6SRHtz5q5_v-"
      },
      "outputs": [],
      "source": [
        "S = [x/4 for x in range(1000) if x**2 < 60]\n",
        "S"
      ]
    },
    {
      "cell_type": "code",
      "execution_count": null,
      "metadata": {
        "id": "KN7Pf9OG5_v-"
      },
      "outputs": [],
      "source": [
        "for x in range(3):\n",
        "    for y in 'abc':\n",
        "        print(x,y)"
      ]
    },
    {
      "cell_type": "code",
      "execution_count": null,
      "metadata": {
        "id": "uIc0eYfS5_v_"
      },
      "outputs": [],
      "source": [
        "[(x, y) for x in range(3) for y in 'abc']"
      ]
    },
    {
      "cell_type": "markdown",
      "metadata": {
        "id": "DM4voCvD5_v_"
      },
      "source": [
        "O comprensiones anidadas:\n",
        "\n",
        "> [ [i for i in range(x) ] for j in range(y) ]"
      ]
    },
    {
      "cell_type": "code",
      "execution_count": null,
      "metadata": {
        "id": "OptmVOwV5_v_"
      },
      "outputs": [],
      "source": [
        "[[l*n for l in 'abc'] for n in range(3)]"
      ]
    },
    {
      "cell_type": "markdown",
      "metadata": {
        "id": "sQzZDtjt5_v_"
      },
      "source": [
        "Además, el elemento que se genera puede ser de otro tipo, en este caso una tupla:"
      ]
    },
    {
      "cell_type": "code",
      "execution_count": null,
      "metadata": {
        "id": "OR_eVkVf5_v_"
      },
      "outputs": [],
      "source": [
        "animales = ['mantarraya', 'pandas', 'narval', 'unicornio']\n",
        "\n",
        "[(a, len(a)) for a in animales]"
      ]
    }
  ]
}
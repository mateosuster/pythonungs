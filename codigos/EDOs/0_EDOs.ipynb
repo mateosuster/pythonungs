{
  "nbformat": 4,
  "nbformat_minor": 0,
  "metadata": {
    "colab": {
      "name": "MPE III - EDOs.ipynb",
      "provenance": [],
      "collapsed_sections": [],
      "authorship_tag": "ABX9TyNgjpfTrQcdB3e0aCVwE3bZ",
      "include_colab_link": true
    },
    "kernelspec": {
      "name": "python3",
      "display_name": "Python 3"
    },
    "language_info": {
      "name": "python"
    }
  },
  "cells": [
    {
      "cell_type": "markdown",
      "metadata": {
        "id": "view-in-github",
        "colab_type": "text"
      },
      "source": [
        "<a href=\"https://colab.research.google.com/github/mateosuster/pythonungs/blob/master/codigos/EDOs/0_EDOs.ipynb\" target=\"_parent\"><img src=\"https://colab.research.google.com/assets/colab-badge.svg\" alt=\"Open In Colab\"/></a>"
      ]
    },
    {
      "cell_type": "markdown",
      "metadata": {
        "id": "mXm_Cg-ujPwY"
      },
      "source": [
        "# Máximas de la programación que vimos hasta ahora\n",
        "1. **Reutilización de valores**: cualquier valor que quiera ser reutilizado (para un cálculo posterior, para una salida, etc.) debe ser almacenado previamente en una variable.\n",
        "\n",
        "2. **Duplicación de información**: siempre que sea posible no duplicar información en el código.\n",
        "  * Guardar el valor que se repite en una variable, y utilizar la variable en lugar del valor.\n",
        "  * Con las líneas de código que se repiten crear una función, y utilizarla en lugar de andar repitiendo el código.\n",
        "\n",
        "3. **Particionar y encapsular el problema**: siempre que sea posible particionar el problema y encapsularlo en problemas menos complejos.\n",
        "  * Mediante funciones.\n",
        "  * Mediante scripts."
      ]
    },
    {
      "cell_type": "markdown",
      "metadata": {
        "id": "61ozHWtkhoKF"
      },
      "source": [
        "# Programa para resolver Ecuaciones Diferenciales\n",
        "\n",
        "La librería que vamos a utilizar es [`SymPy`](https://www.sympy.org/en/index.html). Es fundamental aprender a entender la documentación de las librerías (vean de ejemplo la de [documentación de SymPy](https://docs.sympy.org/latest/index.html). Ante cualquier duda, siempre se puede googlear sobre el uso de alguna función, parámetros, o sobre cómo hacer tal o cual cosa con los elementos de la librería."
      ]
    },
    {
      "cell_type": "code",
      "metadata": {
        "id": "0uWLgwRvhomy"
      },
      "source": [
        "#Importo las libererías que vamos a utilizar\n",
        "from sympy import * #para resolver ecuaciones diferenciales\n",
        "from numpy import linspace #para generar una lista de valores equiespaciados"
      ],
      "execution_count": null,
      "outputs": []
    },
    {
      "cell_type": "markdown",
      "metadata": {
        "id": "itfWLbjtVSO_"
      },
      "source": [
        "## Resolviendo una ecuación sencilla"
      ]
    },
    {
      "cell_type": "code",
      "metadata": {
        "id": "XsWqQKs9VYBl"
      },
      "source": [
        "t = symbols('t') # la variable independiente"
      ],
      "execution_count": null,
      "outputs": []
    },
    {
      "cell_type": "markdown",
      "metadata": {
        "id": "M3adytzvnTLA"
      },
      "source": [
        "¿Qué es symbols? Para poder saber con qué estamos trabajando, podemos servirnos de la función de ayuda o evaluar qué tipo de dato devuelve. Lo mismo podemos hacer con todas las funciones que desconozcamos."
      ]
    },
    {
      "cell_type": "code",
      "metadata": {
        "id": "-2BaQKqsLLhK"
      },
      "source": [
        "symbols?"
      ],
      "execution_count": null,
      "outputs": []
    },
    {
      "cell_type": "code",
      "metadata": {
        "id": "GOHjz1LanfGs"
      },
      "source": [
        "type(t)"
      ],
      "execution_count": null,
      "outputs": []
    },
    {
      "cell_type": "code",
      "metadata": {
        "id": "dKnzVRGVtKhj"
      },
      "source": [
        " t*3"
      ],
      "execution_count": null,
      "outputs": []
    },
    {
      "cell_type": "markdown",
      "metadata": {
        "id": "4AwaQ5iTW7l3"
      },
      "source": [
        "Las funciones que vamos a utilizar son las siguientes: \n",
        "\n",
        "  * `Eq` es la función de Python para definidir ecuaciones diferenciales. La coma es el signo igual (`=`).\n",
        "  * `y(t).diff(t)` es la derivada primera\n",
        "  * `y(t).diff(t,t)` es la derivada segunda\n",
        "  * `solve` resuelve algebraicamente la ecuación\n",
        "\n",
        "\n",
        "<br>\n",
        "\n",
        "  Ejemplo sencillo $t^{2} =2$"
      ]
    },
    {
      "cell_type": "code",
      "metadata": {
        "id": "ysEHBYTHWcKK"
      },
      "source": [
        "# Resolver ecuaciones. Ej: t**2 = 2\n",
        "t = symbols('t') # la variable independiente\n",
        "func = t**2\n",
        "cte = 2\n",
        "\n",
        "ecuacion = Eq(func , cte)\n",
        "solucion = solve(ecuacion , t)\n",
        "print('La solución de la ecuación', ecuacion, 'es' , solucion)"
      ],
      "execution_count": null,
      "outputs": []
    },
    {
      "cell_type": "markdown",
      "metadata": {
        "id": "E4VDbwBiXTiP"
      },
      "source": [
        "Podemos evaluar ecuación con la función `subs`. <br>\n",
        "Por ejemplo $t^{3} =2$ evaluada en $t_0 = 1$, $t_1 = 2$, $t_2 = 3$ "
      ]
    },
    {
      "cell_type": "code",
      "metadata": {
        "id": "_0OjxOUfXT2K"
      },
      "source": [
        "# Evaluar funciones. Ej: y = t**3 evaluada en t0 = 1, t1 = 2, t2 = 3\n",
        "\n",
        "t = symbols('t') # la variable independiente\n",
        "y = t**3 # la función\n",
        "\n",
        "y0 = y.subs(t,1)\n",
        "y1 = y.subs(t,2)\n",
        "y2 = y.subs(t,3)\n",
        "\n",
        "print('La funcion t**3 evaluada en t = 1 es ' , y0)\n",
        "print('La funcion t**3 evaluada en t = 2 es ' , y1)\n",
        "print('La funcion t**3 evaluada en t = 3 es ' , y2)"
      ],
      "execution_count": null,
      "outputs": []
    },
    {
      "cell_type": "markdown",
      "metadata": {
        "id": "9_MKCChPXw00"
      },
      "source": [
        "También podemos obtener sus derivadas primera, segunda, tercera de $y = t^{3}$\n"
      ]
    },
    {
      "cell_type": "code",
      "metadata": {
        "id": "OZf7flHgX3HA"
      },
      "source": [
        "dy1 = y.diff(t)\n",
        "dy2= y.diff(t,t)\n",
        "dy3 = y.diff(t,t,t)\n",
        "\n",
        "print('La derivada primera de t**3 es ' , dy1)\n",
        "print('La derivada segunda de t**3 es ' , dy2)\n",
        "print('La derivada tercera de t**3 es ' , dy3)"
      ],
      "execution_count": null,
      "outputs": []
    },
    {
      "cell_type": "markdown",
      "source": [
        "**Tarea:** mejorar los codigos anteriores con un loop while"
      ],
      "metadata": {
        "id": "TYu_F9i4sGVM"
      }
    },
    {
      "cell_type": "markdown",
      "metadata": {
        "id": "ERcPRWVNXAYy"
      },
      "source": [
        "## Resolviendo una ecuación dinámicas"
      ]
    },
    {
      "cell_type": "markdown",
      "metadata": {
        "id": "oRycMzYXli5r"
      },
      "source": [
        "Defino los nombres de la variable y la función"
      ]
    },
    {
      "cell_type": "code",
      "metadata": {
        "id": "7bwdBDgckViZ"
      },
      "source": [
        "t = symbols('t') # la variable independiente\n",
        "y = symbols('y', cls=Function) # el parámetro cls me permite definir una función\n",
        "# y = Function('y') #alternativa  para definir la función"
      ],
      "execution_count": null,
      "outputs": []
    },
    {
      "cell_type": "code",
      "source": [
        "type(y)"
      ],
      "metadata": {
        "id": "4IFtVLUusZWT"
      },
      "execution_count": null,
      "outputs": []
    },
    {
      "cell_type": "code",
      "metadata": {
        "id": "MwTpzyAVqmXi"
      },
      "source": [
        "y(t) "
      ],
      "execution_count": null,
      "outputs": []
    },
    {
      "cell_type": "markdown",
      "metadata": {
        "id": "l06JJD76l4PI"
      },
      "source": [
        "En este caso definimos la siguiente función, pero ustedes pueden modificarla a gusto: \n",
        "\n",
        "$Y_t^{''} + 6Y_t^{'}+ 9Y_t^ =45$\n",
        " "
      ]
    },
    {
      "cell_type": "code",
      "metadata": {
        "id": "juKRmyvHk-f5"
      },
      "source": [
        "######################################################################\n",
        "#   comentar y descomentar en función de lo que se quiera resolver   #\n",
        "######################################################################\n",
        "\n",
        "# ejemplo de orden 3\n",
        "# ecDif = Eq(  y(t).diff(t,t,t) - y(t).diff(t,t) - 2*y(t).diff(t) , 12 ) \n",
        "\n",
        "# ejemplos de orden 2\n",
        "ecDif = Eq(  y(t).diff(t,t) + 6*y(t).diff(t) + 9*y(t), 45 ) \n",
        "\n",
        "#ejemplo orden 1:  y' -3y = 12\n",
        "# ecDif = Eq( y(t).diff(t) - 3*y(t)   , 12 )\n",
        "\n",
        "#ejemplo raices complejas\n",
        "# ecDif = Eq( y(t).diff(t, t) - 6*y(t).diff(t) + 13*y(t)   , 0 ) \n",
        "\n",
        "ecDif"
      ],
      "execution_count": null,
      "outputs": []
    },
    {
      "cell_type": "markdown",
      "metadata": {
        "id": "Uvx1XlOTnWiN"
      },
      "source": [
        "Defino condiciones iniciales (cambiar a gusto): \n",
        "\n",
        "**Nota**: en general se definen las condiciones iniciales sobre el mismo punto (*t*)\n",
        "\n",
        "$$Y_t(0)=13$$\n",
        "$$Y_t^{'}(0)=420$$\n"
      ]
    },
    {
      "cell_type": "code",
      "metadata": {
        "id": "Wy5sTLPFnPBq"
      },
      "source": [
        "# condiciones iniciales para ejemplo de orden 3\n",
        "# condInic = {y(0): 1, y(t).diff(t).subs(t, 0): 2, y(t).diff(t, t).subs(t, 0): 3 }\n",
        "\n",
        "# condiciones iniciales para ejemplo de orden 2\n",
        "condInic = {y(0): 13, y(t).diff(t).subs(t, 0): 420 }\n",
        "# condInic = {y(0): 1, y(1): 10}\n",
        "\n",
        "# condiciones iniciales para ejemplo de orden 1\n",
        "# condInic = {y(0): 1} \n"
      ],
      "execution_count": null,
      "outputs": []
    },
    {
      "cell_type": "markdown",
      "metadata": {
        "id": "tg3QtE3soN3g"
      },
      "source": [
        "Resuelvo la ecuación diferencial con los objetos definidos anteriormente\n",
        "\n",
        "  + [`dsolve`](https://docs.sympy.org/latest/modules/solvers/ode.html) es la función de la librería SymPy para calcular la solución de la ecuación diferencial\n",
        "  + `eq` es su parámetro en donde indicamos la ecuación diferencial a resolver (en este caso el objeto `ecDif`)\n",
        "  + en `funcs` indicamos la función que queremos resolver (en este caso `y(t)`)\n",
        "  + `ics` son las condiciones iniciales (nuestra variable `condInic`)"
      ]
    },
    {
      "cell_type": "markdown",
      "source": [
        "Podemos resolver la ecuación sin las condiciones iniciales para ver la fórmula general de la solución."
      ],
      "metadata": {
        "id": "o-DhpyaIyT-M"
      }
    },
    {
      "cell_type": "code",
      "source": [
        "sol = dsolve(eq= ecDif, funcs= y(t)) \n",
        "sol"
      ],
      "metadata": {
        "id": "AmyL_OVsyTjf"
      },
      "execution_count": null,
      "outputs": []
    },
    {
      "cell_type": "markdown",
      "source": [
        "Pera para poder visualizar la evolución temporal de la ecuación, debemos setear las condiciones iniciales como un parámetro más de la función `dsolve`"
      ],
      "metadata": {
        "id": "-Wks3k1uyv_y"
      }
    },
    {
      "cell_type": "code",
      "metadata": {
        "id": "6L-tGz3Fn1JR"
      },
      "source": [
        "sol = dsolve(eq= ecDif, funcs= y(t), ics= condInic )\n",
        "sol"
      ],
      "execution_count": null,
      "outputs": []
    },
    {
      "cell_type": "markdown",
      "metadata": {
        "id": "IzZmu0lHQ3__"
      },
      "source": [
        "Si aplicamos el método `.args[i]` podemos acceder a los términos de la solución:\n",
        "\n",
        "  * con `.args[0]` accedemos a la función\n",
        "  * con `.args[1]` accedemos a la ecuación"
      ]
    },
    {
      "cell_type": "code",
      "source": [
        "print(sol)"
      ],
      "metadata": {
        "id": "WXegHW2LvyCi"
      },
      "execution_count": null,
      "outputs": []
    },
    {
      "cell_type": "code",
      "metadata": {
        "id": "k-kU1KfNdMmO"
      },
      "source": [
        "print(sol, \"\\n\", sol.args[0],\"\\n\", sol.args[1])"
      ],
      "execution_count": null,
      "outputs": []
    },
    {
      "cell_type": "markdown",
      "metadata": {
        "id": "xguj5_YbpLIv"
      },
      "source": [
        "Muestro la ecuación y el resultado"
      ]
    },
    {
      "cell_type": "code",
      "metadata": {
        "id": "l4DLPsvMktEy"
      },
      "source": [
        "print(\"La ecuación diferencial:\", ecDif,\n",
        "      \"\\n Con las condiciones iniciales\", condInic,\n",
        "      \"\\n Tiene la siguiente solución:\", sol)"
      ],
      "execution_count": null,
      "outputs": []
    },
    {
      "cell_type": "markdown",
      "metadata": {
        "id": "B5c0BC3fsRFw"
      },
      "source": [
        "## Pequeña mejora del programa para mostrar la ecuación y su solución de forma más legible"
      ]
    },
    {
      "cell_type": "code",
      "metadata": {
        "id": "Q7vRAgw_snBe"
      },
      "source": [
        "init_printing() #para imprimir fórmulas matemáticas\n",
        "from IPython.display import display #muestro la ode y la solución\n",
        "\n",
        "print(\"La ecuación diferencial:\")\n",
        "display(ecDif)#agrego un renglón en blanco\n",
        "print(\"\\n Las condiciones inciales:\")\n",
        "display( condInic)\n",
        "print(\"\\n\") \n",
        "display(\"La solución:\", sol)\n",
        "print(\"\\n\") \n",
        "display(\"La función:\", sol.args[0])\n",
        "print(\"\\n\") \n",
        "display(\"La ecuación que debemos hacer evaluable:\", sol.args[1])"
      ],
      "execution_count": null,
      "outputs": []
    },
    {
      "cell_type": "markdown",
      "metadata": {
        "id": "Tu2Q5Nxjuw8h"
      },
      "source": [
        "## Graficamos la solución\n",
        "\n",
        "Para lograr dicho cometido, necesitamos hacer la ecuación evaluable, para lo cual nos valemos de [`lambdify`](https://docs.sympy.org/latest/modules/utilities/lambdify.html)"
      ]
    },
    {
      "cell_type": "code",
      "metadata": {
        "id": "jZbfHNBVtCln"
      },
      "source": [
        "from matplotlib import pyplot as plt\n",
        "\n",
        "f = sol.args[1] # me quedo solamente con la fórmula de la solución\n",
        "lam = lambdify(args = t,expr= f, modules=[\"numpy\"]) #hago la fórmula evaluable\n",
        "\n",
        "t_vals = linspace(-1.5, 2.9, 500)  #valores de t a usar para evaluar: inicio, fin, cantidad valores.\n",
        "# t_vals = linspace(0, 1000, 1000) # podemos ir probando distintos valores a evaluar\n",
        "y_vals = lam(t_vals) #evalúo la fórmula en los valores de t\n",
        "\n",
        "#grafico la solución\n",
        "plt.plot(t_vals, y_vals) #hago el gráfico\n",
        "plt.grid() #que me ponga un grillado en el gráfico\n",
        "plt.xlabel(\"tiempo\") #leyende del eje horizontal\n",
        "plt.ylabel(\"Valores de y\") #leyenda del eje vertical\n",
        "plt.show() #muestro el gráfico"
      ],
      "execution_count": null,
      "outputs": []
    }
  ]
}
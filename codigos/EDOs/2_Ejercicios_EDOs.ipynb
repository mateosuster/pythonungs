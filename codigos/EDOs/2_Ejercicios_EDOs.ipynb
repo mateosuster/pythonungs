{
  "nbformat": 4,
  "nbformat_minor": 0,
  "metadata": {
    "colab": {
      "name": "MPE III - Ejercicios EDOs.ipynb",
      "provenance": [],
      "collapsed_sections": [],
      "authorship_tag": "ABX9TyOhOx2jdbYlB+bBRUAXrBUk",
      "include_colab_link": true
    },
    "kernelspec": {
      "name": "python3",
      "display_name": "Python 3"
    },
    "language_info": {
      "name": "python"
    }
  },
  "cells": [
    {
      "cell_type": "markdown",
      "metadata": {
        "id": "view-in-github",
        "colab_type": "text"
      },
      "source": [
        "<a href=\"https://colab.research.google.com/github/mateosuster/pythonungs/blob/master/codigos/EDOs/2_Ejercicios_EDOs.ipynb\" target=\"_parent\"><img src=\"https://colab.research.google.com/assets/colab-badge.svg\" alt=\"Open In Colab\"/></a>"
      ]
    },
    {
      "cell_type": "markdown",
      "metadata": {
        "id": "mXm_Cg-ujPwY"
      },
      "source": [
        "# Ejercicios sobre Ecuaciones Dinámicas"
      ]
    },
    {
      "cell_type": "markdown",
      "metadata": {
        "id": "EGD0VzPSwHTn"
      },
      "source": [
        "### Ejercicio 1\n",
        "\n",
        "Utilizar nuestro primer programa que resuelve EDOs para resolver algunas ecuaciones diferenciales de la práctica.\n"
      ]
    },
    {
      "cell_type": "code",
      "metadata": {
        "id": "JJyddQy5wQiI"
      },
      "source": [
        ""
      ],
      "execution_count": null,
      "outputs": []
    },
    {
      "cell_type": "markdown",
      "metadata": {
        "id": "Y5s1Qj19waUR"
      },
      "source": [
        "### Ejercicio 2\n",
        "\n",
        "Modificar nuestro primer programa que resuelve EDOs para\n",
        "muestre la ecuación y la solución de forma más legible"
      ]
    },
    {
      "cell_type": "code",
      "metadata": {
        "id": "F8vwCOJowknI"
      },
      "source": [
        ""
      ],
      "execution_count": null,
      "outputs": []
    },
    {
      "cell_type": "markdown",
      "metadata": {
        "id": "9uYKrYjLwvpK"
      },
      "source": [
        "### Ejercicio 3\n",
        "\n",
        "Modificar el programa del punto 2) para que también grafique\n",
        "la solución de la EDO"
      ]
    },
    {
      "cell_type": "code",
      "metadata": {
        "id": "FO2jfdBfw62C"
      },
      "source": [
        ""
      ],
      "execution_count": null,
      "outputs": []
    },
    {
      "cell_type": "code",
      "metadata": {
        "id": "1x4BsRQWIlPI"
      },
      "source": [
        ""
      ],
      "execution_count": null,
      "outputs": []
    },
    {
      "cell_type": "markdown",
      "metadata": {
        "id": "xlxG1Zr3IkDd"
      },
      "source": [
        "### Ejercicio Bonus Hacker\n",
        "\n",
        "Modificar el primer programa que resuelve\n",
        "EDOs para que resuelva sistemas con 2 ecuaciones\n",
        "diferenciales (aunque sea algún caso básico)."
      ]
    },
    {
      "cell_type": "code",
      "metadata": {
        "id": "osWT0DTXIkvD"
      },
      "source": [
        ""
      ],
      "execution_count": null,
      "outputs": []
    }
  ]
}
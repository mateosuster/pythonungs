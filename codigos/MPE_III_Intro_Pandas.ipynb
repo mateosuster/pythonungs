{
  "nbformat": 4,
  "nbformat_minor": 0,
  "metadata": {
    "kernelspec": {
      "display_name": "Python 3",
      "language": "python",
      "name": "python3"
    },
    "language_info": {
      "codemirror_mode": {
        "name": "ipython",
        "version": 3
      },
      "file_extension": ".py",
      "mimetype": "text/x-python",
      "name": "python",
      "nbconvert_exporter": "python",
      "pygments_lexer": "ipython3",
      "version": "3.7.6"
    },
    "colab": {
      "name": "MPE III - Intro Pandas.ipynb",
      "provenance": [],
      "collapsed_sections": [],
      "toc_visible": true,
      "include_colab_link": true
    }
  },
  "cells": [
    {
      "cell_type": "markdown",
      "metadata": {
        "id": "view-in-github",
        "colab_type": "text"
      },
      "source": [
        "<a href=\"https://colab.research.google.com/github/mateosuster/pythonungs/blob/master/codigos/MPE_III_Intro_Pandas.ipynb\" target=\"_parent\"><img src=\"https://colab.research.google.com/assets/colab-badge.svg\" alt=\"Open In Colab\"/></a>"
      ]
    },
    {
      "cell_type": "markdown",
      "metadata": {
        "id": "CNfoNA42MR9k"
      },
      "source": [
        "# Pandas\n",
        "\n",
        "* [Pandas](https://pandas.pydata.org/pandas-docs/stable/index.html) es una biblioteca de código abierto que proporciona estructuras de datos y herramientas de análisis de datos de alto rendimiento y fáciles de usar para el lenguaje de programación Python. Es una de las librerías más usadas para este tipo de tareas.\n",
        "\n",
        "* Nombre derivado de \"**Pan**el **Da**ta **S**ystem\" (término econométrico para datasets multidimensionales).\n",
        "\n",
        "* Su funcionalidad permite hacer operaciones sobre datos que se encuentran en memoria de manera eficiente. Combina la alta performance de las operaciones sobre arrays de NumPy con la flexibilidad en la manipulación datasets (Excel, CSV, Google Spreadsheets, etc., etc.) o una base de datos relacional (SQL).\n"
      ]
    },
    {
      "cell_type": "code",
      "source": [
        "#Como buena práctica, iniciamos importando las librerías\n",
        "import pandas as pd\n",
        "import numpy as np"
      ],
      "metadata": {
        "id": "UkNs3LibfWbe"
      },
      "execution_count": 3,
      "outputs": []
    },
    {
      "cell_type": "markdown",
      "metadata": {
        "id": "OfgMIhwUbgrh"
      },
      "source": [
        "## Exploración\n",
        "\n",
        "Vamos a analizar datos de una fuente real. Los ingresos de los funcionarios son información pública que se libera anualmente en el <a href='https://data.buenosaires.gob.ar/dataset/sueldo-funcionarios'>portal de datos abiertos</a> de GCBA.  \n",
        "\n",
        "En general los 4 primeros pasos para analizar un data set son:\n",
        "1. Leerlo\n",
        "2. Consultar cuáles son las columnas\n",
        "3. Extraer una muestra\n",
        "4. Verificar cuántos registros tiene\n"
      ]
    },
    {
      "cell_type": "markdown",
      "metadata": {
        "id": "MhmgU5Xsbgri"
      },
      "source": [
        "### 1- Para leer el data set usamos la función de pandas `read_csv()`\n",
        "\n",
        "\n",
        "Con esta función podemos leer archivos que estén en una url pública o en una ubicación del disco accesible desde la Jupyter Notebook. "
      ]
    },
    {
      "cell_type": "code",
      "execution_count": 2,
      "metadata": {
        "id": "Oy-STM-Ybgrj"
      },
      "outputs": [],
      "source": [
        "df = pd.read_csv('http://cdn.buenosaires.gob.ar/datosabiertos/datasets/sueldo-funcionarios/sueldo_funcionarios_2019.csv')"
      ]
    },
    {
      "cell_type": "markdown",
      "metadata": {
        "id": "stX8AbqSbgrj"
      },
      "source": [
        "### 2- Consultamos las columnas\n"
      ]
    },
    {
      "cell_type": "code",
      "execution_count": 3,
      "metadata": {
        "id": "_oY6tx70bgrl",
        "outputId": "8bab5879-2764-4816-af45-d0486256e350",
        "colab": {
          "base_uri": "https://localhost:8080/"
        }
      },
      "outputs": [
        {
          "output_type": "execute_result",
          "data": {
            "text/plain": [
              "Index(['cuil', 'anio', 'mes', 'funcionario_apellido', 'funcionario_nombre',\n",
              "       'reparticion', 'asignacion_por_cargo_i', 'aguinaldo_ii',\n",
              "       'total_salario_bruto_i_+_ii', 'observaciones'],\n",
              "      dtype='object')"
            ]
          },
          "metadata": {},
          "execution_count": 3
        }
      ],
      "source": [
        "df.columns"
      ]
    },
    {
      "cell_type": "markdown",
      "metadata": {
        "id": "-S4PbyeObgrm"
      },
      "source": [
        "### 3- Extraemos una muestra"
      ]
    },
    {
      "cell_type": "code",
      "execution_count": 5,
      "metadata": {
        "id": "nNELmQKubgrm",
        "outputId": "808f47f7-8286-40ae-9a68-82bc4cb5c5a6",
        "colab": {
          "base_uri": "https://localhost:8080/",
          "height": 460
        }
      },
      "outputs": [
        {
          "output_type": "execute_result",
          "data": {
            "text/plain": [
              "              cuil  anio  mes funcionario_apellido funcionario_nombre  \\\n",
              "57   20-22709722-2  2019    2                LOPEZ             MATIAS   \n",
              "339  27-26690980-8  2019   11               UHALDE        MARIA PAULA   \n",
              "240  27-30744939-6  2019    8              FERRERO           GENOVEVA   \n",
              "88   20-22709722-2  2019    3                LOPEZ             MATIAS   \n",
              "177  20-22293622-6  2019    6            FERNANDEZ       DIEGO HERNAN   \n",
              "\n",
              "                                        reparticion  asignacion_por_cargo_i  \\\n",
              "57                        SECR Desarrollo Ciudadano               204017.27   \n",
              "339        SECR Cultura Ciudadana y Función Pública               249972.87   \n",
              "240  SECR Administración de Seguridad y Emergencias               239470.36   \n",
              "88                        SECR Desarrollo Ciudadano               210061.14   \n",
              "177                SECR Integración Social y Urbana               226866.41   \n",
              "\n",
              "     aguinaldo_ii  total_salario_bruto_i_+_ii observaciones  \n",
              "57           0.00                   204017.27           NaN  \n",
              "339          0.00                   249972.87           NaN  \n",
              "240          0.00                   239470.36           NaN  \n",
              "88           0.00                   210061.14           NaN  \n",
              "177     113433.21                   340299.62           NaN  "
            ],
            "text/html": [
              "\n",
              "  <div id=\"df-b1e0f4c7-690c-4610-86ab-909f8fe7e9b2\">\n",
              "    <div class=\"colab-df-container\">\n",
              "      <div>\n",
              "<style scoped>\n",
              "    .dataframe tbody tr th:only-of-type {\n",
              "        vertical-align: middle;\n",
              "    }\n",
              "\n",
              "    .dataframe tbody tr th {\n",
              "        vertical-align: top;\n",
              "    }\n",
              "\n",
              "    .dataframe thead th {\n",
              "        text-align: right;\n",
              "    }\n",
              "</style>\n",
              "<table border=\"1\" class=\"dataframe\">\n",
              "  <thead>\n",
              "    <tr style=\"text-align: right;\">\n",
              "      <th></th>\n",
              "      <th>cuil</th>\n",
              "      <th>anio</th>\n",
              "      <th>mes</th>\n",
              "      <th>funcionario_apellido</th>\n",
              "      <th>funcionario_nombre</th>\n",
              "      <th>reparticion</th>\n",
              "      <th>asignacion_por_cargo_i</th>\n",
              "      <th>aguinaldo_ii</th>\n",
              "      <th>total_salario_bruto_i_+_ii</th>\n",
              "      <th>observaciones</th>\n",
              "    </tr>\n",
              "  </thead>\n",
              "  <tbody>\n",
              "    <tr>\n",
              "      <th>57</th>\n",
              "      <td>20-22709722-2</td>\n",
              "      <td>2019</td>\n",
              "      <td>2</td>\n",
              "      <td>LOPEZ</td>\n",
              "      <td>MATIAS</td>\n",
              "      <td>SECR Desarrollo Ciudadano</td>\n",
              "      <td>204017.27</td>\n",
              "      <td>0.00</td>\n",
              "      <td>204017.27</td>\n",
              "      <td>NaN</td>\n",
              "    </tr>\n",
              "    <tr>\n",
              "      <th>339</th>\n",
              "      <td>27-26690980-8</td>\n",
              "      <td>2019</td>\n",
              "      <td>11</td>\n",
              "      <td>UHALDE</td>\n",
              "      <td>MARIA PAULA</td>\n",
              "      <td>SECR Cultura Ciudadana y Función Pública</td>\n",
              "      <td>249972.87</td>\n",
              "      <td>0.00</td>\n",
              "      <td>249972.87</td>\n",
              "      <td>NaN</td>\n",
              "    </tr>\n",
              "    <tr>\n",
              "      <th>240</th>\n",
              "      <td>27-30744939-6</td>\n",
              "      <td>2019</td>\n",
              "      <td>8</td>\n",
              "      <td>FERRERO</td>\n",
              "      <td>GENOVEVA</td>\n",
              "      <td>SECR Administración de Seguridad y Emergencias</td>\n",
              "      <td>239470.36</td>\n",
              "      <td>0.00</td>\n",
              "      <td>239470.36</td>\n",
              "      <td>NaN</td>\n",
              "    </tr>\n",
              "    <tr>\n",
              "      <th>88</th>\n",
              "      <td>20-22709722-2</td>\n",
              "      <td>2019</td>\n",
              "      <td>3</td>\n",
              "      <td>LOPEZ</td>\n",
              "      <td>MATIAS</td>\n",
              "      <td>SECR Desarrollo Ciudadano</td>\n",
              "      <td>210061.14</td>\n",
              "      <td>0.00</td>\n",
              "      <td>210061.14</td>\n",
              "      <td>NaN</td>\n",
              "    </tr>\n",
              "    <tr>\n",
              "      <th>177</th>\n",
              "      <td>20-22293622-6</td>\n",
              "      <td>2019</td>\n",
              "      <td>6</td>\n",
              "      <td>FERNANDEZ</td>\n",
              "      <td>DIEGO HERNAN</td>\n",
              "      <td>SECR Integración Social y Urbana</td>\n",
              "      <td>226866.41</td>\n",
              "      <td>113433.21</td>\n",
              "      <td>340299.62</td>\n",
              "      <td>NaN</td>\n",
              "    </tr>\n",
              "  </tbody>\n",
              "</table>\n",
              "</div>\n",
              "      <button class=\"colab-df-convert\" onclick=\"convertToInteractive('df-b1e0f4c7-690c-4610-86ab-909f8fe7e9b2')\"\n",
              "              title=\"Convert this dataframe to an interactive table.\"\n",
              "              style=\"display:none;\">\n",
              "        \n",
              "  <svg xmlns=\"http://www.w3.org/2000/svg\" height=\"24px\"viewBox=\"0 0 24 24\"\n",
              "       width=\"24px\">\n",
              "    <path d=\"M0 0h24v24H0V0z\" fill=\"none\"/>\n",
              "    <path d=\"M18.56 5.44l.94 2.06.94-2.06 2.06-.94-2.06-.94-.94-2.06-.94 2.06-2.06.94zm-11 1L8.5 8.5l.94-2.06 2.06-.94-2.06-.94L8.5 2.5l-.94 2.06-2.06.94zm10 10l.94 2.06.94-2.06 2.06-.94-2.06-.94-.94-2.06-.94 2.06-2.06.94z\"/><path d=\"M17.41 7.96l-1.37-1.37c-.4-.4-.92-.59-1.43-.59-.52 0-1.04.2-1.43.59L10.3 9.45l-7.72 7.72c-.78.78-.78 2.05 0 2.83L4 21.41c.39.39.9.59 1.41.59.51 0 1.02-.2 1.41-.59l7.78-7.78 2.81-2.81c.8-.78.8-2.07 0-2.86zM5.41 20L4 18.59l7.72-7.72 1.47 1.35L5.41 20z\"/>\n",
              "  </svg>\n",
              "      </button>\n",
              "      \n",
              "  <style>\n",
              "    .colab-df-container {\n",
              "      display:flex;\n",
              "      flex-wrap:wrap;\n",
              "      gap: 12px;\n",
              "    }\n",
              "\n",
              "    .colab-df-convert {\n",
              "      background-color: #E8F0FE;\n",
              "      border: none;\n",
              "      border-radius: 50%;\n",
              "      cursor: pointer;\n",
              "      display: none;\n",
              "      fill: #1967D2;\n",
              "      height: 32px;\n",
              "      padding: 0 0 0 0;\n",
              "      width: 32px;\n",
              "    }\n",
              "\n",
              "    .colab-df-convert:hover {\n",
              "      background-color: #E2EBFA;\n",
              "      box-shadow: 0px 1px 2px rgba(60, 64, 67, 0.3), 0px 1px 3px 1px rgba(60, 64, 67, 0.15);\n",
              "      fill: #174EA6;\n",
              "    }\n",
              "\n",
              "    [theme=dark] .colab-df-convert {\n",
              "      background-color: #3B4455;\n",
              "      fill: #D2E3FC;\n",
              "    }\n",
              "\n",
              "    [theme=dark] .colab-df-convert:hover {\n",
              "      background-color: #434B5C;\n",
              "      box-shadow: 0px 1px 3px 1px rgba(0, 0, 0, 0.15);\n",
              "      filter: drop-shadow(0px 1px 2px rgba(0, 0, 0, 0.3));\n",
              "      fill: #FFFFFF;\n",
              "    }\n",
              "  </style>\n",
              "\n",
              "      <script>\n",
              "        const buttonEl =\n",
              "          document.querySelector('#df-b1e0f4c7-690c-4610-86ab-909f8fe7e9b2 button.colab-df-convert');\n",
              "        buttonEl.style.display =\n",
              "          google.colab.kernel.accessAllowed ? 'block' : 'none';\n",
              "\n",
              "        async function convertToInteractive(key) {\n",
              "          const element = document.querySelector('#df-b1e0f4c7-690c-4610-86ab-909f8fe7e9b2');\n",
              "          const dataTable =\n",
              "            await google.colab.kernel.invokeFunction('convertToInteractive',\n",
              "                                                     [key], {});\n",
              "          if (!dataTable) return;\n",
              "\n",
              "          const docLinkHtml = 'Like what you see? Visit the ' +\n",
              "            '<a target=\"_blank\" href=https://colab.research.google.com/notebooks/data_table.ipynb>data table notebook</a>'\n",
              "            + ' to learn more about interactive tables.';\n",
              "          element.innerHTML = '';\n",
              "          dataTable['output_type'] = 'display_data';\n",
              "          await google.colab.output.renderOutput(dataTable, element);\n",
              "          const docLink = document.createElement('div');\n",
              "          docLink.innerHTML = docLinkHtml;\n",
              "          element.appendChild(docLink);\n",
              "        }\n",
              "      </script>\n",
              "    </div>\n",
              "  </div>\n",
              "  "
            ]
          },
          "metadata": {},
          "execution_count": 5
        }
      ],
      "source": [
        "df.sample(5)"
      ]
    },
    {
      "cell_type": "markdown",
      "metadata": {
        "id": "KmFqXl--bgrn"
      },
      "source": [
        "### 4- Consultamos la cantidad de filas y de columnas"
      ]
    },
    {
      "cell_type": "code",
      "execution_count": 6,
      "metadata": {
        "id": "Ak3iXSxLbgro",
        "outputId": "1a582588-21ce-4189-fe81-a6d3a474c6d5",
        "colab": {
          "base_uri": "https://localhost:8080/"
        }
      },
      "outputs": [
        {
          "output_type": "execute_result",
          "data": {
            "text/plain": [
              "(385, 10)"
            ]
          },
          "metadata": {},
          "execution_count": 6
        }
      ],
      "source": [
        "# La propiedad shape nos devuelve una tupla (filas,columnas)\n",
        "df.shape"
      ]
    },
    {
      "cell_type": "markdown",
      "source": [
        "## Vectorización en Pandas\n",
        "Pandas es útil para trabajar sobre datos tabulares, con dos condiciones importantes:\n",
        "\n",
        "I. Los datos se encuentran enteramente en la memoria RAM. Con lo cual, el tamaño de los datos que podemos manipular está limitado por el hardware. Como regla de pulgar, es una buena práctica no ocupar más de 1/3 de la memoria RAM de nuestro dispositivo con el dataset. Así, si estamos trabajando localmente en una notebook con 8GB de memoria RAM no es recomendable procesar datasets de más de 2.33GB.\n",
        "\n",
        "II. En pandas, las operaciones sobre filas y columnas son, en general, eficientes porque se hacen de forma \"vectorizada\". En realidad esta optimización, se hace desde numpy, una librería para realizar operaciones matemáticas que se utilizó a su vez para escribir pandas. \n",
        "\n",
        "Las operaciones vectorizadas son las que se realizan en bloque en vez de caso por caso. Las computadoras de hoy tienen la capacidad de recibir muchas instrucciones juntas y procesar varias de ellas a la vez. Por ejemplo, si nuestro hardware tiene la capacidad de procesar 4 operaciones juntas, el resultado de vectorizar una operación matemática es el siguiente:\n",
        "\n",
        "<img src = 'https://datasets-humai.s3.amazonaws.com/images/vectorizacion.png' /> \n",
        "\n",
        "\n",
        "En el primer caso hay que hacer 5 operaciones y en el segundo caso sólo dos.\n",
        "\n",
        "Es importante entender, entonces, que Pandas trabaja de esta manera y que por eso es una de las herramientas más elegidas para manipular datos en memoria."
      ],
      "metadata": {
        "id": "ecYA4P6Xezvb"
      }
    },
    {
      "cell_type": "markdown",
      "metadata": {
        "id": "aqRlFyrcbgrp"
      },
      "source": [
        "## Los objetos fundamentales de Pandas"
      ]
    },
    {
      "cell_type": "markdown",
      "source": [
        "### Series\n",
        "\n",
        "Las *Series* son un vector unidimensional, el objeto \"más simple\" que encontramos en Pandas. En el fondo, podemos pensar a las series como \"columnas\" de una tabla que están asociadas a un índice y a un nombre. Igual que una lista común de Python es una secuencia de elementos ordenados, pero a diferencia de la lista está asociada a más información."
      ],
      "metadata": {
        "id": "h2o88XDhqmYk"
      }
    },
    {
      "cell_type": "code",
      "execution_count": 7,
      "metadata": {
        "id": "IfnWSCgrbgrq"
      },
      "outputs": [],
      "source": [
        "# Las series se pueden crear a partir de una lista\n",
        "serie = pd.Series(['a','b','c'])"
      ]
    },
    {
      "cell_type": "code",
      "execution_count": 8,
      "metadata": {
        "id": "KWzcWiiWbgrq",
        "colab": {
          "base_uri": "https://localhost:8080/"
        },
        "outputId": "0faf66ed-f090-415e-b120-3d715781f93c"
      },
      "outputs": [
        {
          "output_type": "stream",
          "name": "stdout",
          "text": [
            "Tipo de objetos que tiene  object\n",
            "Nombre  None\n",
            "Index  RangeIndex(start=0, stop=3, step=1)\n",
            "Valores  ['a' 'b' 'c']\n"
          ]
        }
      ],
      "source": [
        "# Propiedades importantes de las series\n",
        "print('Tipo de objetos que tiene ', serie.dtype)\n",
        "print('Nombre ', serie.name)\n",
        "print('Index ',serie.index)\n",
        "print('Valores ',serie.values)\n"
      ]
    },
    {
      "cell_type": "markdown",
      "metadata": {
        "id": "RtxguLb4MWfG"
      },
      "source": [
        "### DataFrame \n",
        "\n",
        "El principal objeto en Pandas son los DataFrames, los cuales son una estructura de datos tabular (o simplemente \"tablas\"), compuestas por una colección de \"columnas\" o series que **comparten todas un mismo índice**. Cada columna puede poseer un tipo de determinado de dato distinto (number, string, boolean, etc.).  \n",
        "\n",
        "Los DataFrames tienen un objeto Index que describe los nombres de columnas y otro objeto Index que describen los nombres de las filas.\n",
        "\n",
        "En general los DataFrames se crean a partir de leer tablas de archivos (pueden ser en formato json, csv o incluso xlsx) pero a veces también se crean a partir de listas de diccionarios o de otras maneras. Veamos algunas de ellas.\n",
        "\n",
        "<br>"
      ]
    },
    {
      "cell_type": "markdown",
      "source": [
        "* Diccionario con listas:\n",
        "<br>\n",
        "\n",
        "```\n",
        "{Nombre columna: [Valores]}\n",
        "```"
      ],
      "metadata": {
        "id": "XA5S8F_jo7lV"
      }
    },
    {
      "cell_type": "code",
      "metadata": {
        "id": "qPwW644lqLk9",
        "colab": {
          "base_uri": "https://localhost:8080/"
        },
        "outputId": "4b4c6bc5-46c9-4f89-e450-c7b68f5ba726"
      },
      "source": [
        "name_age = {'Name' : ['Ali', 'Bill', 'David', 'Hany', 'Ibtisam'], 'Age' : [32, 55, 20, 43, 30]}\n",
        "print(\"name_age es\", type(name_age))\n",
        "print(name_age)"
      ],
      "execution_count": 9,
      "outputs": [
        {
          "output_type": "stream",
          "name": "stdout",
          "text": [
            "name_age es <class 'dict'>\n",
            "{'Name': ['Ali', 'Bill', 'David', 'Hany', 'Ibtisam'], 'Age': [32, 55, 20, 43, 30]}\n"
          ]
        }
      ]
    },
    {
      "cell_type": "code",
      "metadata": {
        "id": "VtXyEgXTZ1LR",
        "colab": {
          "base_uri": "https://localhost:8080/",
          "height": 192
        },
        "outputId": "3b873ed3-decf-4297-a986-a493fd5fe3ce"
      },
      "source": [
        "data_frame = pd.DataFrame(name_age)\n",
        "print(\"data_frame es\", type(data_frame))\n",
        "data_frame.head(4)"
      ],
      "execution_count": 10,
      "outputs": [
        {
          "output_type": "stream",
          "name": "stdout",
          "text": [
            "data_frame es <class 'pandas.core.frame.DataFrame'>\n"
          ]
        },
        {
          "output_type": "execute_result",
          "data": {
            "text/plain": [
              "    Name  Age\n",
              "0    Ali   32\n",
              "1   Bill   55\n",
              "2  David   20\n",
              "3   Hany   43"
            ],
            "text/html": [
              "\n",
              "  <div id=\"df-7f3b9de8-b56c-4f7e-b276-f74f55c3c5b0\">\n",
              "    <div class=\"colab-df-container\">\n",
              "      <div>\n",
              "<style scoped>\n",
              "    .dataframe tbody tr th:only-of-type {\n",
              "        vertical-align: middle;\n",
              "    }\n",
              "\n",
              "    .dataframe tbody tr th {\n",
              "        vertical-align: top;\n",
              "    }\n",
              "\n",
              "    .dataframe thead th {\n",
              "        text-align: right;\n",
              "    }\n",
              "</style>\n",
              "<table border=\"1\" class=\"dataframe\">\n",
              "  <thead>\n",
              "    <tr style=\"text-align: right;\">\n",
              "      <th></th>\n",
              "      <th>Name</th>\n",
              "      <th>Age</th>\n",
              "    </tr>\n",
              "  </thead>\n",
              "  <tbody>\n",
              "    <tr>\n",
              "      <th>0</th>\n",
              "      <td>Ali</td>\n",
              "      <td>32</td>\n",
              "    </tr>\n",
              "    <tr>\n",
              "      <th>1</th>\n",
              "      <td>Bill</td>\n",
              "      <td>55</td>\n",
              "    </tr>\n",
              "    <tr>\n",
              "      <th>2</th>\n",
              "      <td>David</td>\n",
              "      <td>20</td>\n",
              "    </tr>\n",
              "    <tr>\n",
              "      <th>3</th>\n",
              "      <td>Hany</td>\n",
              "      <td>43</td>\n",
              "    </tr>\n",
              "  </tbody>\n",
              "</table>\n",
              "</div>\n",
              "      <button class=\"colab-df-convert\" onclick=\"convertToInteractive('df-7f3b9de8-b56c-4f7e-b276-f74f55c3c5b0')\"\n",
              "              title=\"Convert this dataframe to an interactive table.\"\n",
              "              style=\"display:none;\">\n",
              "        \n",
              "  <svg xmlns=\"http://www.w3.org/2000/svg\" height=\"24px\"viewBox=\"0 0 24 24\"\n",
              "       width=\"24px\">\n",
              "    <path d=\"M0 0h24v24H0V0z\" fill=\"none\"/>\n",
              "    <path d=\"M18.56 5.44l.94 2.06.94-2.06 2.06-.94-2.06-.94-.94-2.06-.94 2.06-2.06.94zm-11 1L8.5 8.5l.94-2.06 2.06-.94-2.06-.94L8.5 2.5l-.94 2.06-2.06.94zm10 10l.94 2.06.94-2.06 2.06-.94-2.06-.94-.94-2.06-.94 2.06-2.06.94z\"/><path d=\"M17.41 7.96l-1.37-1.37c-.4-.4-.92-.59-1.43-.59-.52 0-1.04.2-1.43.59L10.3 9.45l-7.72 7.72c-.78.78-.78 2.05 0 2.83L4 21.41c.39.39.9.59 1.41.59.51 0 1.02-.2 1.41-.59l7.78-7.78 2.81-2.81c.8-.78.8-2.07 0-2.86zM5.41 20L4 18.59l7.72-7.72 1.47 1.35L5.41 20z\"/>\n",
              "  </svg>\n",
              "      </button>\n",
              "      \n",
              "  <style>\n",
              "    .colab-df-container {\n",
              "      display:flex;\n",
              "      flex-wrap:wrap;\n",
              "      gap: 12px;\n",
              "    }\n",
              "\n",
              "    .colab-df-convert {\n",
              "      background-color: #E8F0FE;\n",
              "      border: none;\n",
              "      border-radius: 50%;\n",
              "      cursor: pointer;\n",
              "      display: none;\n",
              "      fill: #1967D2;\n",
              "      height: 32px;\n",
              "      padding: 0 0 0 0;\n",
              "      width: 32px;\n",
              "    }\n",
              "\n",
              "    .colab-df-convert:hover {\n",
              "      background-color: #E2EBFA;\n",
              "      box-shadow: 0px 1px 2px rgba(60, 64, 67, 0.3), 0px 1px 3px 1px rgba(60, 64, 67, 0.15);\n",
              "      fill: #174EA6;\n",
              "    }\n",
              "\n",
              "    [theme=dark] .colab-df-convert {\n",
              "      background-color: #3B4455;\n",
              "      fill: #D2E3FC;\n",
              "    }\n",
              "\n",
              "    [theme=dark] .colab-df-convert:hover {\n",
              "      background-color: #434B5C;\n",
              "      box-shadow: 0px 1px 3px 1px rgba(0, 0, 0, 0.15);\n",
              "      filter: drop-shadow(0px 1px 2px rgba(0, 0, 0, 0.3));\n",
              "      fill: #FFFFFF;\n",
              "    }\n",
              "  </style>\n",
              "\n",
              "      <script>\n",
              "        const buttonEl =\n",
              "          document.querySelector('#df-7f3b9de8-b56c-4f7e-b276-f74f55c3c5b0 button.colab-df-convert');\n",
              "        buttonEl.style.display =\n",
              "          google.colab.kernel.accessAllowed ? 'block' : 'none';\n",
              "\n",
              "        async function convertToInteractive(key) {\n",
              "          const element = document.querySelector('#df-7f3b9de8-b56c-4f7e-b276-f74f55c3c5b0');\n",
              "          const dataTable =\n",
              "            await google.colab.kernel.invokeFunction('convertToInteractive',\n",
              "                                                     [key], {});\n",
              "          if (!dataTable) return;\n",
              "\n",
              "          const docLinkHtml = 'Like what you see? Visit the ' +\n",
              "            '<a target=\"_blank\" href=https://colab.research.google.com/notebooks/data_table.ipynb>data table notebook</a>'\n",
              "            + ' to learn more about interactive tables.';\n",
              "          element.innerHTML = '';\n",
              "          dataTable['output_type'] = 'display_data';\n",
              "          await google.colab.output.renderOutput(dataTable, element);\n",
              "          const docLink = document.createElement('div');\n",
              "          docLink.innerHTML = docLinkHtml;\n",
              "          element.appendChild(docLink);\n",
              "        }\n",
              "      </script>\n",
              "    </div>\n",
              "  </div>\n",
              "  "
            ]
          },
          "metadata": {},
          "execution_count": 10
        }
      ]
    },
    {
      "cell_type": "markdown",
      "metadata": {
        "id": "Z6Y9Qkk-nN5Y"
      },
      "source": [
        "* Lista de Diccionarios: \n",
        "<br>\n",
        "\n",
        "```\n",
        "[{Columna1: valor, Columna2: valor}, \n",
        "{Columna1: valor, Columna2: valor}]\n",
        "```\n",
        "\n",
        "Cada elemento de la lista corresponde a una fila"
      ]
    },
    {
      "cell_type": "code",
      "metadata": {
        "id": "oQAZgFnanu_s",
        "colab": {
          "base_uri": "https://localhost:8080/"
        },
        "outputId": "46e47174-0c58-4898-b8d7-7c6756a88c47"
      },
      "source": [
        "name_age = [{'Name': 'Ali','Age':32},\n",
        "            {'Name': 'Bill','Age':55},\n",
        "            {'Name': 'David','Age':20},\n",
        "            {'Name': 'Hany','Age':43},\n",
        "            {'Name': 'Ibtisam','Age':30}]\n",
        "\n",
        "print(\"name_age es\", type(name_age))\n",
        "print(name_age)"
      ],
      "execution_count": 11,
      "outputs": [
        {
          "output_type": "stream",
          "name": "stdout",
          "text": [
            "name_age es <class 'list'>\n",
            "[{'Name': 'Ali', 'Age': 32}, {'Name': 'Bill', 'Age': 55}, {'Name': 'David', 'Age': 20}, {'Name': 'Hany', 'Age': 43}, {'Name': 'Ibtisam', 'Age': 30}]\n"
          ]
        }
      ]
    },
    {
      "cell_type": "code",
      "metadata": {
        "id": "25FZNzvHaX5w",
        "colab": {
          "base_uri": "https://localhost:8080/",
          "height": 223
        },
        "outputId": "1f226531-2563-42a4-ed15-92b68472d32c"
      },
      "source": [
        "data_frame = pd.DataFrame(name_age)\n",
        "print(\"data_frame es\", type(data_frame))\n",
        "data_frame"
      ],
      "execution_count": 12,
      "outputs": [
        {
          "output_type": "stream",
          "name": "stdout",
          "text": [
            "data_frame es <class 'pandas.core.frame.DataFrame'>\n"
          ]
        },
        {
          "output_type": "execute_result",
          "data": {
            "text/plain": [
              "      Name  Age\n",
              "0      Ali   32\n",
              "1     Bill   55\n",
              "2    David   20\n",
              "3     Hany   43\n",
              "4  Ibtisam   30"
            ],
            "text/html": [
              "\n",
              "  <div id=\"df-9af7954f-ee40-4a54-9cfa-ab7524dfa7aa\">\n",
              "    <div class=\"colab-df-container\">\n",
              "      <div>\n",
              "<style scoped>\n",
              "    .dataframe tbody tr th:only-of-type {\n",
              "        vertical-align: middle;\n",
              "    }\n",
              "\n",
              "    .dataframe tbody tr th {\n",
              "        vertical-align: top;\n",
              "    }\n",
              "\n",
              "    .dataframe thead th {\n",
              "        text-align: right;\n",
              "    }\n",
              "</style>\n",
              "<table border=\"1\" class=\"dataframe\">\n",
              "  <thead>\n",
              "    <tr style=\"text-align: right;\">\n",
              "      <th></th>\n",
              "      <th>Name</th>\n",
              "      <th>Age</th>\n",
              "    </tr>\n",
              "  </thead>\n",
              "  <tbody>\n",
              "    <tr>\n",
              "      <th>0</th>\n",
              "      <td>Ali</td>\n",
              "      <td>32</td>\n",
              "    </tr>\n",
              "    <tr>\n",
              "      <th>1</th>\n",
              "      <td>Bill</td>\n",
              "      <td>55</td>\n",
              "    </tr>\n",
              "    <tr>\n",
              "      <th>2</th>\n",
              "      <td>David</td>\n",
              "      <td>20</td>\n",
              "    </tr>\n",
              "    <tr>\n",
              "      <th>3</th>\n",
              "      <td>Hany</td>\n",
              "      <td>43</td>\n",
              "    </tr>\n",
              "    <tr>\n",
              "      <th>4</th>\n",
              "      <td>Ibtisam</td>\n",
              "      <td>30</td>\n",
              "    </tr>\n",
              "  </tbody>\n",
              "</table>\n",
              "</div>\n",
              "      <button class=\"colab-df-convert\" onclick=\"convertToInteractive('df-9af7954f-ee40-4a54-9cfa-ab7524dfa7aa')\"\n",
              "              title=\"Convert this dataframe to an interactive table.\"\n",
              "              style=\"display:none;\">\n",
              "        \n",
              "  <svg xmlns=\"http://www.w3.org/2000/svg\" height=\"24px\"viewBox=\"0 0 24 24\"\n",
              "       width=\"24px\">\n",
              "    <path d=\"M0 0h24v24H0V0z\" fill=\"none\"/>\n",
              "    <path d=\"M18.56 5.44l.94 2.06.94-2.06 2.06-.94-2.06-.94-.94-2.06-.94 2.06-2.06.94zm-11 1L8.5 8.5l.94-2.06 2.06-.94-2.06-.94L8.5 2.5l-.94 2.06-2.06.94zm10 10l.94 2.06.94-2.06 2.06-.94-2.06-.94-.94-2.06-.94 2.06-2.06.94z\"/><path d=\"M17.41 7.96l-1.37-1.37c-.4-.4-.92-.59-1.43-.59-.52 0-1.04.2-1.43.59L10.3 9.45l-7.72 7.72c-.78.78-.78 2.05 0 2.83L4 21.41c.39.39.9.59 1.41.59.51 0 1.02-.2 1.41-.59l7.78-7.78 2.81-2.81c.8-.78.8-2.07 0-2.86zM5.41 20L4 18.59l7.72-7.72 1.47 1.35L5.41 20z\"/>\n",
              "  </svg>\n",
              "      </button>\n",
              "      \n",
              "  <style>\n",
              "    .colab-df-container {\n",
              "      display:flex;\n",
              "      flex-wrap:wrap;\n",
              "      gap: 12px;\n",
              "    }\n",
              "\n",
              "    .colab-df-convert {\n",
              "      background-color: #E8F0FE;\n",
              "      border: none;\n",
              "      border-radius: 50%;\n",
              "      cursor: pointer;\n",
              "      display: none;\n",
              "      fill: #1967D2;\n",
              "      height: 32px;\n",
              "      padding: 0 0 0 0;\n",
              "      width: 32px;\n",
              "    }\n",
              "\n",
              "    .colab-df-convert:hover {\n",
              "      background-color: #E2EBFA;\n",
              "      box-shadow: 0px 1px 2px rgba(60, 64, 67, 0.3), 0px 1px 3px 1px rgba(60, 64, 67, 0.15);\n",
              "      fill: #174EA6;\n",
              "    }\n",
              "\n",
              "    [theme=dark] .colab-df-convert {\n",
              "      background-color: #3B4455;\n",
              "      fill: #D2E3FC;\n",
              "    }\n",
              "\n",
              "    [theme=dark] .colab-df-convert:hover {\n",
              "      background-color: #434B5C;\n",
              "      box-shadow: 0px 1px 3px 1px rgba(0, 0, 0, 0.15);\n",
              "      filter: drop-shadow(0px 1px 2px rgba(0, 0, 0, 0.3));\n",
              "      fill: #FFFFFF;\n",
              "    }\n",
              "  </style>\n",
              "\n",
              "      <script>\n",
              "        const buttonEl =\n",
              "          document.querySelector('#df-9af7954f-ee40-4a54-9cfa-ab7524dfa7aa button.colab-df-convert');\n",
              "        buttonEl.style.display =\n",
              "          google.colab.kernel.accessAllowed ? 'block' : 'none';\n",
              "\n",
              "        async function convertToInteractive(key) {\n",
              "          const element = document.querySelector('#df-9af7954f-ee40-4a54-9cfa-ab7524dfa7aa');\n",
              "          const dataTable =\n",
              "            await google.colab.kernel.invokeFunction('convertToInteractive',\n",
              "                                                     [key], {});\n",
              "          if (!dataTable) return;\n",
              "\n",
              "          const docLinkHtml = 'Like what you see? Visit the ' +\n",
              "            '<a target=\"_blank\" href=https://colab.research.google.com/notebooks/data_table.ipynb>data table notebook</a>'\n",
              "            + ' to learn more about interactive tables.';\n",
              "          element.innerHTML = '';\n",
              "          dataTable['output_type'] = 'display_data';\n",
              "          await google.colab.output.renderOutput(dataTable, element);\n",
              "          const docLink = document.createElement('div');\n",
              "          docLink.innerHTML = docLinkHtml;\n",
              "          element.appendChild(docLink);\n",
              "        }\n",
              "      </script>\n",
              "    </div>\n",
              "  </div>\n",
              "  "
            ]
          },
          "metadata": {},
          "execution_count": 12
        }
      ]
    },
    {
      "cell_type": "markdown",
      "metadata": {
        "id": "V_Tpt4WAj7bs"
      },
      "source": [
        "* Lista de listas: \n",
        "\n",
        "<br>\n",
        "[  [valor<sub>11</sub>, valor<sub>12</sub>],\n",
        "<br>\n",
        "[valor<sub>21</sub>, valor<sub>22</sub>], \n",
        "<br>...<br>\n",
        "[valor<sub>n1</sub>, valor<sub>n2</sub>] ] \n",
        "<br>\n",
        "<br>\n",
        "  Cada lista de la superlista corresponde a una fila u observación"
      ]
    },
    {
      "cell_type": "code",
      "metadata": {
        "id": "uIhrjhrAi_HX",
        "colab": {
          "base_uri": "https://localhost:8080/"
        },
        "outputId": "c171947b-46db-435f-ed17-972ad044e83e"
      },
      "source": [
        "name_age = [ ['Ali',32], ['Bill',55],\n",
        "            ['David', 20], ['Hany',43],\n",
        "            ['Ibtisam',30]  ]\n",
        "\n",
        "print(\"name_age es\", type(name_age))\n",
        "print(name_age)"
      ],
      "execution_count": 1,
      "outputs": [
        {
          "output_type": "stream",
          "name": "stdout",
          "text": [
            "name_age es <class 'list'>\n",
            "[['Ali', 32], ['Bill', 55], ['David', 20], ['Hany', 43], ['Ibtisam', 30]]\n"
          ]
        }
      ]
    },
    {
      "cell_type": "code",
      "metadata": {
        "id": "xaeLPzkKjdBd",
        "colab": {
          "base_uri": "https://localhost:8080/",
          "height": 223
        },
        "outputId": "23fb1c60-8477-4a8d-f5d0-aca659ba67f9"
      },
      "source": [
        "data_frame = pd.DataFrame(name_age, columns = [\"Name\", \"Age\"]) #con columns especificamos los nombres de columnas\n",
        "print(\"data_frame es\", type(data_frame))\n",
        "data_frame"
      ],
      "execution_count": 4,
      "outputs": [
        {
          "output_type": "stream",
          "name": "stdout",
          "text": [
            "data_frame es <class 'pandas.core.frame.DataFrame'>\n"
          ]
        },
        {
          "output_type": "execute_result",
          "data": {
            "text/plain": [
              "      Name  Age\n",
              "0      Ali   32\n",
              "1     Bill   55\n",
              "2    David   20\n",
              "3     Hany   43\n",
              "4  Ibtisam   30"
            ],
            "text/html": [
              "\n",
              "  <div id=\"df-8564512f-a08c-4010-b46a-b6fedd7bc922\">\n",
              "    <div class=\"colab-df-container\">\n",
              "      <div>\n",
              "<style scoped>\n",
              "    .dataframe tbody tr th:only-of-type {\n",
              "        vertical-align: middle;\n",
              "    }\n",
              "\n",
              "    .dataframe tbody tr th {\n",
              "        vertical-align: top;\n",
              "    }\n",
              "\n",
              "    .dataframe thead th {\n",
              "        text-align: right;\n",
              "    }\n",
              "</style>\n",
              "<table border=\"1\" class=\"dataframe\">\n",
              "  <thead>\n",
              "    <tr style=\"text-align: right;\">\n",
              "      <th></th>\n",
              "      <th>Name</th>\n",
              "      <th>Age</th>\n",
              "    </tr>\n",
              "  </thead>\n",
              "  <tbody>\n",
              "    <tr>\n",
              "      <th>0</th>\n",
              "      <td>Ali</td>\n",
              "      <td>32</td>\n",
              "    </tr>\n",
              "    <tr>\n",
              "      <th>1</th>\n",
              "      <td>Bill</td>\n",
              "      <td>55</td>\n",
              "    </tr>\n",
              "    <tr>\n",
              "      <th>2</th>\n",
              "      <td>David</td>\n",
              "      <td>20</td>\n",
              "    </tr>\n",
              "    <tr>\n",
              "      <th>3</th>\n",
              "      <td>Hany</td>\n",
              "      <td>43</td>\n",
              "    </tr>\n",
              "    <tr>\n",
              "      <th>4</th>\n",
              "      <td>Ibtisam</td>\n",
              "      <td>30</td>\n",
              "    </tr>\n",
              "  </tbody>\n",
              "</table>\n",
              "</div>\n",
              "      <button class=\"colab-df-convert\" onclick=\"convertToInteractive('df-8564512f-a08c-4010-b46a-b6fedd7bc922')\"\n",
              "              title=\"Convert this dataframe to an interactive table.\"\n",
              "              style=\"display:none;\">\n",
              "        \n",
              "  <svg xmlns=\"http://www.w3.org/2000/svg\" height=\"24px\"viewBox=\"0 0 24 24\"\n",
              "       width=\"24px\">\n",
              "    <path d=\"M0 0h24v24H0V0z\" fill=\"none\"/>\n",
              "    <path d=\"M18.56 5.44l.94 2.06.94-2.06 2.06-.94-2.06-.94-.94-2.06-.94 2.06-2.06.94zm-11 1L8.5 8.5l.94-2.06 2.06-.94-2.06-.94L8.5 2.5l-.94 2.06-2.06.94zm10 10l.94 2.06.94-2.06 2.06-.94-2.06-.94-.94-2.06-.94 2.06-2.06.94z\"/><path d=\"M17.41 7.96l-1.37-1.37c-.4-.4-.92-.59-1.43-.59-.52 0-1.04.2-1.43.59L10.3 9.45l-7.72 7.72c-.78.78-.78 2.05 0 2.83L4 21.41c.39.39.9.59 1.41.59.51 0 1.02-.2 1.41-.59l7.78-7.78 2.81-2.81c.8-.78.8-2.07 0-2.86zM5.41 20L4 18.59l7.72-7.72 1.47 1.35L5.41 20z\"/>\n",
              "  </svg>\n",
              "      </button>\n",
              "      \n",
              "  <style>\n",
              "    .colab-df-container {\n",
              "      display:flex;\n",
              "      flex-wrap:wrap;\n",
              "      gap: 12px;\n",
              "    }\n",
              "\n",
              "    .colab-df-convert {\n",
              "      background-color: #E8F0FE;\n",
              "      border: none;\n",
              "      border-radius: 50%;\n",
              "      cursor: pointer;\n",
              "      display: none;\n",
              "      fill: #1967D2;\n",
              "      height: 32px;\n",
              "      padding: 0 0 0 0;\n",
              "      width: 32px;\n",
              "    }\n",
              "\n",
              "    .colab-df-convert:hover {\n",
              "      background-color: #E2EBFA;\n",
              "      box-shadow: 0px 1px 2px rgba(60, 64, 67, 0.3), 0px 1px 3px 1px rgba(60, 64, 67, 0.15);\n",
              "      fill: #174EA6;\n",
              "    }\n",
              "\n",
              "    [theme=dark] .colab-df-convert {\n",
              "      background-color: #3B4455;\n",
              "      fill: #D2E3FC;\n",
              "    }\n",
              "\n",
              "    [theme=dark] .colab-df-convert:hover {\n",
              "      background-color: #434B5C;\n",
              "      box-shadow: 0px 1px 3px 1px rgba(0, 0, 0, 0.15);\n",
              "      filter: drop-shadow(0px 1px 2px rgba(0, 0, 0, 0.3));\n",
              "      fill: #FFFFFF;\n",
              "    }\n",
              "  </style>\n",
              "\n",
              "      <script>\n",
              "        const buttonEl =\n",
              "          document.querySelector('#df-8564512f-a08c-4010-b46a-b6fedd7bc922 button.colab-df-convert');\n",
              "        buttonEl.style.display =\n",
              "          google.colab.kernel.accessAllowed ? 'block' : 'none';\n",
              "\n",
              "        async function convertToInteractive(key) {\n",
              "          const element = document.querySelector('#df-8564512f-a08c-4010-b46a-b6fedd7bc922');\n",
              "          const dataTable =\n",
              "            await google.colab.kernel.invokeFunction('convertToInteractive',\n",
              "                                                     [key], {});\n",
              "          if (!dataTable) return;\n",
              "\n",
              "          const docLinkHtml = 'Like what you see? Visit the ' +\n",
              "            '<a target=\"_blank\" href=https://colab.research.google.com/notebooks/data_table.ipynb>data table notebook</a>'\n",
              "            + ' to learn more about interactive tables.';\n",
              "          element.innerHTML = '';\n",
              "          dataTable['output_type'] = 'display_data';\n",
              "          await google.colab.output.renderOutput(dataTable, element);\n",
              "          const docLink = document.createElement('div');\n",
              "          docLink.innerHTML = docLinkHtml;\n",
              "          element.appendChild(docLink);\n",
              "        }\n",
              "      </script>\n",
              "    </div>\n",
              "  </div>\n",
              "  "
            ]
          },
          "metadata": {},
          "execution_count": 4
        }
      ]
    },
    {
      "cell_type": "markdown",
      "source": [
        "#### Selección de columnas\n",
        "\n",
        "Hay dos alternativas para seleccionar columnas de un DataFrame"
      ],
      "metadata": {
        "id": "dATANiHJZf4o"
      }
    },
    {
      "cell_type": "code",
      "source": [
        "data_frame[\"Name\"]"
      ],
      "metadata": {
        "id": "0uvAkk81ZlfM",
        "outputId": "9c3545eb-4c52-4fe8-c887-47352795396b",
        "colab": {
          "base_uri": "https://localhost:8080/"
        }
      },
      "execution_count": 5,
      "outputs": [
        {
          "output_type": "execute_result",
          "data": {
            "text/plain": [
              "0        Ali\n",
              "1       Bill\n",
              "2      David\n",
              "3       Hany\n",
              "4    Ibtisam\n",
              "Name: Name, dtype: object"
            ]
          },
          "metadata": {},
          "execution_count": 5
        }
      ]
    },
    {
      "cell_type": "code",
      "source": [
        "data_frame.Name"
      ],
      "metadata": {
        "id": "V3YB4H4yZzIA",
        "outputId": "80525cc0-aec0-4476-906c-7eabaa5acffe",
        "colab": {
          "base_uri": "https://localhost:8080/"
        }
      },
      "execution_count": 6,
      "outputs": [
        {
          "output_type": "execute_result",
          "data": {
            "text/plain": [
              "0        Ali\n",
              "1       Bill\n",
              "2      David\n",
              "3       Hany\n",
              "4    Ibtisam\n",
              "Name: Name, dtype: object"
            ]
          },
          "metadata": {},
          "execution_count": 6
        }
      ]
    },
    {
      "cell_type": "markdown",
      "source": [
        "Esta última forma es menos utilizada, pero también es una sintaxis válida. Ambas sentencias producen el mismo resultado de tipo series"
      ],
      "metadata": {
        "id": "3sbGVEgdZ4Ew"
      }
    },
    {
      "cell_type": "code",
      "source": [
        "type(data_frame[\"Name\"])"
      ],
      "metadata": {
        "id": "YG5c3oyAaDT-",
        "outputId": "313be152-0246-415f-ac98-5f9feec0f732",
        "colab": {
          "base_uri": "https://localhost:8080/"
        }
      },
      "execution_count": 7,
      "outputs": [
        {
          "output_type": "execute_result",
          "data": {
            "text/plain": [
              "pandas.core.series.Series"
            ]
          },
          "metadata": {},
          "execution_count": 7
        }
      ]
    },
    {
      "cell_type": "markdown",
      "metadata": {
        "id": "gUhdQtSQqLld"
      },
      "source": [
        "## Lectura de archivos\n",
        "\n",
        "Otra manera de crear dataframes, es leyendo archivos con datos, en lugar de armarlos nosotros *a mano*. La librería pandas permite abrir y guardar los [dataframes en muchos formatos distintos](https://pandas.pydata.org/pandas-docs/stable/reference/io.html) \n",
        "\n",
        "### Carga de Archivos\n",
        "\n",
        "Lo primero que debemos resolver es cómo subir archivos a Google Colab. Veamos un ejemplo con los datos de [cotizaciones del dólar](https://datos.gob.ar/ru/dataset/sspm-tipo-cambio--usd---futuro-dolar). Existen múltiples maneras:\n",
        "\n",
        "* Si tenemos una url, podemos descargarla directamente a Colab de la siguiente manera:\n",
        "\n"
      ]
    },
    {
      "cell_type": "code",
      "metadata": {
        "id": "hKhxwPUZ-EwT",
        "colab": {
          "base_uri": "https://localhost:8080/"
        },
        "outputId": "68c99b94-a7b4-433f-d774-ad9335bc8cbf"
      },
      "source": [
        "# Descargamos un dataset público\n",
        "!wget https://infra.datos.gob.ar/catalog/sspm/dataset/168/distribution/168.1/download/datos-tipo-cambio-usd-futuro-dolar-frecuencia-diaria.csv"
      ],
      "execution_count": 15,
      "outputs": [
        {
          "output_type": "stream",
          "name": "stdout",
          "text": [
            "--2022-05-13 23:11:43--  https://infra.datos.gob.ar/catalog/sspm/dataset/168/distribution/168.1/download/datos-tipo-cambio-usd-futuro-dolar-frecuencia-diaria.csv\n",
            "Resolving infra.datos.gob.ar (infra.datos.gob.ar)... 186.33.215.176\n",
            "Connecting to infra.datos.gob.ar (infra.datos.gob.ar)|186.33.215.176|:443... connected.\n",
            "HTTP request sent, awaiting response... 200 OK\n",
            "Length: 808585 (790K) [text/csv]\n",
            "Saving to: ‘datos-tipo-cambio-usd-futuro-dolar-frecuencia-diaria.csv’\n",
            "\n",
            "datos-tipo-cambio-u 100%[===================>] 789.63K   946KB/s    in 0.8s    \n",
            "\n",
            "2022-05-13 23:11:45 (946 KB/s) - ‘datos-tipo-cambio-usd-futuro-dolar-frecuencia-diaria.csv’ saved [808585/808585]\n",
            "\n"
          ]
        }
      ]
    },
    {
      "cell_type": "markdown",
      "metadata": {
        "id": "_Gc5ilIeKF1i"
      },
      "source": [
        "* Otra opción es subir el archivo manualmente:"
      ]
    },
    {
      "cell_type": "code",
      "metadata": {
        "id": "X-iVr6EyJ9iS",
        "colab": {
          "resources": {
            "http://localhost:8080/nbextensions/google.colab/files.js": {
              "data": "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",
              "ok": true,
              "headers": [
                [
                  "content-type",
                  "application/javascript"
                ]
              ],
              "status": 200,
              "status_text": ""
            }
          },
          "base_uri": "https://localhost:8080/",
          "height": 39
        },
        "outputId": "fa93097b-6121-4bce-d55a-1b341a1c9826"
      },
      "source": [
        "from google.colab import files\n",
        "\n",
        "uploaded=files.upload()"
      ],
      "execution_count": 16,
      "outputs": [
        {
          "output_type": "display_data",
          "data": {
            "text/plain": [
              "<IPython.core.display.HTML object>"
            ],
            "text/html": [
              "\n",
              "     <input type=\"file\" id=\"files-f44ab7fa-445a-4927-aa20-df22031e5585\" name=\"files[]\" multiple disabled\n",
              "        style=\"border:none\" />\n",
              "     <output id=\"result-f44ab7fa-445a-4927-aa20-df22031e5585\">\n",
              "      Upload widget is only available when the cell has been executed in the\n",
              "      current browser session. Please rerun this cell to enable.\n",
              "      </output>\n",
              "      <script src=\"/nbextensions/google.colab/files.js\"></script> "
            ]
          },
          "metadata": {}
        }
      ]
    },
    {
      "cell_type": "markdown",
      "metadata": {
        "id": "d0YI-bhILL7y"
      },
      "source": [
        "* Por último, es posible acceder a Google Drive en colab:"
      ]
    },
    {
      "cell_type": "code",
      "metadata": {
        "id": "JxmfIOijKxqZ",
        "colab": {
          "base_uri": "https://localhost:8080/"
        },
        "outputId": "3936f376-858d-4e57-f9fb-fca153fe7e68"
      },
      "source": [
        "from google.colab import drive\n",
        "\n",
        "drive.mount('/content/gdrive')"
      ],
      "execution_count": 17,
      "outputs": [
        {
          "output_type": "stream",
          "name": "stdout",
          "text": [
            "Mounted at /content/gdrive\n"
          ]
        }
      ]
    },
    {
      "cell_type": "markdown",
      "metadata": {
        "id": "RfTnKaQtNRHy"
      },
      "source": [
        "Una vez que tenemos el archivo que queremos en colab, podemos abrirlo con la función **read_csv**"
      ]
    },
    {
      "cell_type": "code",
      "metadata": {
        "id": "iXtWeUpB-bch",
        "colab": {
          "base_uri": "https://localhost:8080/",
          "height": 488
        },
        "outputId": "40404c2c-93cf-459f-ffa9-cdc28ca9532b"
      },
      "source": [
        "dolar_df = pd.read_csv(\"/content/datos-tipo-cambio-usd-futuro-dolar-frecuencia-diaria.csv\")\n",
        "dolar_df"
      ],
      "execution_count": 32,
      "outputs": [
        {
          "output_type": "execute_result",
          "data": {
            "text/plain": [
              "     indice_tiempo  tipo_cambio_bna_vendedor  tipo_cambio_a3500  \\\n",
              "0       2002-03-05                       NaN             1.9917   \n",
              "1       2002-03-06                       NaN             2.0508   \n",
              "2       2002-03-07                       NaN             2.1375   \n",
              "3       2002-03-08                       NaN             2.2033   \n",
              "4       2002-03-09                       NaN             2.2033   \n",
              "...            ...                       ...                ...   \n",
              "7357    2022-04-26                    119.75           114.8417   \n",
              "7358    2022-04-27                    119.75           115.0050   \n",
              "7359    2022-04-28                    119.75           115.1733   \n",
              "7360    2022-04-29                    120.25           115.3117   \n",
              "7361    2022-04-30                    120.25           115.3117   \n",
              "\n",
              "      tipo_cambio_mae  volumen_mae  tipo_cambio_implicito_en_adrs  \\\n",
              "0                 NaN          NaN                       2.180124   \n",
              "1                 NaN          NaN                       2.222222   \n",
              "2                 NaN          NaN                       2.343949   \n",
              "3                 NaN          NaN                       2.227778   \n",
              "4                 NaN          NaN                       2.227778   \n",
              "...               ...          ...                            ...   \n",
              "7357           114.85          NaN                     214.881623   \n",
              "7358           115.04          NaN                     208.698031   \n",
              "7359           115.18          NaN                     205.172414   \n",
              "7360           115.31          NaN                     204.730473   \n",
              "7361           115.31          NaN                     204.730473   \n",
              "\n",
              "      futuro_rofex_usd1m  interes_abierto_1m  futuro_rofex_usd2m  \\\n",
              "0                    NaN                 NaN                 NaN   \n",
              "1                    NaN                 NaN                 NaN   \n",
              "2                    NaN                 NaN                 NaN   \n",
              "3                    NaN                 NaN                 NaN   \n",
              "4                    NaN                 NaN                 NaN   \n",
              "...                  ...                 ...                 ...   \n",
              "7357              115.30           2173037.0              121.00   \n",
              "7358              115.28           2141382.0              121.00   \n",
              "7359              115.30           1839555.0              120.96   \n",
              "7360              115.31           1839555.0              120.73   \n",
              "7361              115.31           1839555.0              120.73   \n",
              "\n",
              "      interes_abierto_2m  futuro_rofex_usd3m  interes_abierto_3m  \\\n",
              "0                    NaN                 NaN                 NaN   \n",
              "1                    NaN                 NaN                 NaN   \n",
              "2                    NaN                 NaN                 NaN   \n",
              "3                    NaN                 NaN                 NaN   \n",
              "4                    NaN                 NaN                 NaN   \n",
              "...                  ...                 ...                 ...   \n",
              "7357            740809.0              127.10            261824.0   \n",
              "7358            944708.0              127.14            312879.0   \n",
              "7359           1315908.0              127.18            350398.0   \n",
              "7360           2465967.0              127.05            361946.0   \n",
              "7361           2465967.0              127.05            361946.0   \n",
              "\n",
              "      futuro_rofex_usd4m  interes_abierto_4m  futuro_rofex_usd5m  \\\n",
              "0                    NaN                 NaN                 NaN   \n",
              "1                    NaN                 NaN                 NaN   \n",
              "2                    NaN                 NaN                 NaN   \n",
              "3                    NaN                 NaN                 NaN   \n",
              "4                    NaN                 NaN                 NaN   \n",
              "...                  ...                 ...                 ...   \n",
              "7357              133.00            192843.0              139.50   \n",
              "7358              133.41            217803.0              140.38   \n",
              "7359              133.62            224907.0              140.80   \n",
              "7360              133.70            243283.0              141.30   \n",
              "7361              133.70            243283.0              141.30   \n",
              "\n",
              "      interes_abierto_5m  futuro_rofex_usd6m  interes_abierto_6m  \n",
              "0                    NaN                 NaN                 NaN  \n",
              "1                    NaN                 NaN                 NaN  \n",
              "2                    NaN                 NaN                 NaN  \n",
              "3                    NaN                 NaN                 NaN  \n",
              "4                    NaN                 NaN                 NaN  \n",
              "...                  ...                 ...                 ...  \n",
              "7357             52932.0              145.50             60372.0  \n",
              "7358             66187.0              146.40             65231.0  \n",
              "7359             66573.0              147.20             63426.0  \n",
              "7360             63043.0              147.55             62675.0  \n",
              "7361             63043.0              147.55             62675.0  \n",
              "\n",
              "[7362 rows x 18 columns]"
            ],
            "text/html": [
              "\n",
              "  <div id=\"df-ec7d9815-58cf-450c-99d6-34f764ae8f35\">\n",
              "    <div class=\"colab-df-container\">\n",
              "      <div>\n",
              "<style scoped>\n",
              "    .dataframe tbody tr th:only-of-type {\n",
              "        vertical-align: middle;\n",
              "    }\n",
              "\n",
              "    .dataframe tbody tr th {\n",
              "        vertical-align: top;\n",
              "    }\n",
              "\n",
              "    .dataframe thead th {\n",
              "        text-align: right;\n",
              "    }\n",
              "</style>\n",
              "<table border=\"1\" class=\"dataframe\">\n",
              "  <thead>\n",
              "    <tr style=\"text-align: right;\">\n",
              "      <th></th>\n",
              "      <th>indice_tiempo</th>\n",
              "      <th>tipo_cambio_bna_vendedor</th>\n",
              "      <th>tipo_cambio_a3500</th>\n",
              "      <th>tipo_cambio_mae</th>\n",
              "      <th>volumen_mae</th>\n",
              "      <th>tipo_cambio_implicito_en_adrs</th>\n",
              "      <th>futuro_rofex_usd1m</th>\n",
              "      <th>interes_abierto_1m</th>\n",
              "      <th>futuro_rofex_usd2m</th>\n",
              "      <th>interes_abierto_2m</th>\n",
              "      <th>futuro_rofex_usd3m</th>\n",
              "      <th>interes_abierto_3m</th>\n",
              "      <th>futuro_rofex_usd4m</th>\n",
              "      <th>interes_abierto_4m</th>\n",
              "      <th>futuro_rofex_usd5m</th>\n",
              "      <th>interes_abierto_5m</th>\n",
              "      <th>futuro_rofex_usd6m</th>\n",
              "      <th>interes_abierto_6m</th>\n",
              "    </tr>\n",
              "  </thead>\n",
              "  <tbody>\n",
              "    <tr>\n",
              "      <th>0</th>\n",
              "      <td>2002-03-05</td>\n",
              "      <td>NaN</td>\n",
              "      <td>1.9917</td>\n",
              "      <td>NaN</td>\n",
              "      <td>NaN</td>\n",
              "      <td>2.180124</td>\n",
              "      <td>NaN</td>\n",
              "      <td>NaN</td>\n",
              "      <td>NaN</td>\n",
              "      <td>NaN</td>\n",
              "      <td>NaN</td>\n",
              "      <td>NaN</td>\n",
              "      <td>NaN</td>\n",
              "      <td>NaN</td>\n",
              "      <td>NaN</td>\n",
              "      <td>NaN</td>\n",
              "      <td>NaN</td>\n",
              "      <td>NaN</td>\n",
              "    </tr>\n",
              "    <tr>\n",
              "      <th>1</th>\n",
              "      <td>2002-03-06</td>\n",
              "      <td>NaN</td>\n",
              "      <td>2.0508</td>\n",
              "      <td>NaN</td>\n",
              "      <td>NaN</td>\n",
              "      <td>2.222222</td>\n",
              "      <td>NaN</td>\n",
              "      <td>NaN</td>\n",
              "      <td>NaN</td>\n",
              "      <td>NaN</td>\n",
              "      <td>NaN</td>\n",
              "      <td>NaN</td>\n",
              "      <td>NaN</td>\n",
              "      <td>NaN</td>\n",
              "      <td>NaN</td>\n",
              "      <td>NaN</td>\n",
              "      <td>NaN</td>\n",
              "      <td>NaN</td>\n",
              "    </tr>\n",
              "    <tr>\n",
              "      <th>2</th>\n",
              "      <td>2002-03-07</td>\n",
              "      <td>NaN</td>\n",
              "      <td>2.1375</td>\n",
              "      <td>NaN</td>\n",
              "      <td>NaN</td>\n",
              "      <td>2.343949</td>\n",
              "      <td>NaN</td>\n",
              "      <td>NaN</td>\n",
              "      <td>NaN</td>\n",
              "      <td>NaN</td>\n",
              "      <td>NaN</td>\n",
              "      <td>NaN</td>\n",
              "      <td>NaN</td>\n",
              "      <td>NaN</td>\n",
              "      <td>NaN</td>\n",
              "      <td>NaN</td>\n",
              "      <td>NaN</td>\n",
              "      <td>NaN</td>\n",
              "    </tr>\n",
              "    <tr>\n",
              "      <th>3</th>\n",
              "      <td>2002-03-08</td>\n",
              "      <td>NaN</td>\n",
              "      <td>2.2033</td>\n",
              "      <td>NaN</td>\n",
              "      <td>NaN</td>\n",
              "      <td>2.227778</td>\n",
              "      <td>NaN</td>\n",
              "      <td>NaN</td>\n",
              "      <td>NaN</td>\n",
              "      <td>NaN</td>\n",
              "      <td>NaN</td>\n",
              "      <td>NaN</td>\n",
              "      <td>NaN</td>\n",
              "      <td>NaN</td>\n",
              "      <td>NaN</td>\n",
              "      <td>NaN</td>\n",
              "      <td>NaN</td>\n",
              "      <td>NaN</td>\n",
              "    </tr>\n",
              "    <tr>\n",
              "      <th>4</th>\n",
              "      <td>2002-03-09</td>\n",
              "      <td>NaN</td>\n",
              "      <td>2.2033</td>\n",
              "      <td>NaN</td>\n",
              "      <td>NaN</td>\n",
              "      <td>2.227778</td>\n",
              "      <td>NaN</td>\n",
              "      <td>NaN</td>\n",
              "      <td>NaN</td>\n",
              "      <td>NaN</td>\n",
              "      <td>NaN</td>\n",
              "      <td>NaN</td>\n",
              "      <td>NaN</td>\n",
              "      <td>NaN</td>\n",
              "      <td>NaN</td>\n",
              "      <td>NaN</td>\n",
              "      <td>NaN</td>\n",
              "      <td>NaN</td>\n",
              "    </tr>\n",
              "    <tr>\n",
              "      <th>...</th>\n",
              "      <td>...</td>\n",
              "      <td>...</td>\n",
              "      <td>...</td>\n",
              "      <td>...</td>\n",
              "      <td>...</td>\n",
              "      <td>...</td>\n",
              "      <td>...</td>\n",
              "      <td>...</td>\n",
              "      <td>...</td>\n",
              "      <td>...</td>\n",
              "      <td>...</td>\n",
              "      <td>...</td>\n",
              "      <td>...</td>\n",
              "      <td>...</td>\n",
              "      <td>...</td>\n",
              "      <td>...</td>\n",
              "      <td>...</td>\n",
              "      <td>...</td>\n",
              "    </tr>\n",
              "    <tr>\n",
              "      <th>7357</th>\n",
              "      <td>2022-04-26</td>\n",
              "      <td>119.75</td>\n",
              "      <td>114.8417</td>\n",
              "      <td>114.85</td>\n",
              "      <td>NaN</td>\n",
              "      <td>214.881623</td>\n",
              "      <td>115.30</td>\n",
              "      <td>2173037.0</td>\n",
              "      <td>121.00</td>\n",
              "      <td>740809.0</td>\n",
              "      <td>127.10</td>\n",
              "      <td>261824.0</td>\n",
              "      <td>133.00</td>\n",
              "      <td>192843.0</td>\n",
              "      <td>139.50</td>\n",
              "      <td>52932.0</td>\n",
              "      <td>145.50</td>\n",
              "      <td>60372.0</td>\n",
              "    </tr>\n",
              "    <tr>\n",
              "      <th>7358</th>\n",
              "      <td>2022-04-27</td>\n",
              "      <td>119.75</td>\n",
              "      <td>115.0050</td>\n",
              "      <td>115.04</td>\n",
              "      <td>NaN</td>\n",
              "      <td>208.698031</td>\n",
              "      <td>115.28</td>\n",
              "      <td>2141382.0</td>\n",
              "      <td>121.00</td>\n",
              "      <td>944708.0</td>\n",
              "      <td>127.14</td>\n",
              "      <td>312879.0</td>\n",
              "      <td>133.41</td>\n",
              "      <td>217803.0</td>\n",
              "      <td>140.38</td>\n",
              "      <td>66187.0</td>\n",
              "      <td>146.40</td>\n",
              "      <td>65231.0</td>\n",
              "    </tr>\n",
              "    <tr>\n",
              "      <th>7359</th>\n",
              "      <td>2022-04-28</td>\n",
              "      <td>119.75</td>\n",
              "      <td>115.1733</td>\n",
              "      <td>115.18</td>\n",
              "      <td>NaN</td>\n",
              "      <td>205.172414</td>\n",
              "      <td>115.30</td>\n",
              "      <td>1839555.0</td>\n",
              "      <td>120.96</td>\n",
              "      <td>1315908.0</td>\n",
              "      <td>127.18</td>\n",
              "      <td>350398.0</td>\n",
              "      <td>133.62</td>\n",
              "      <td>224907.0</td>\n",
              "      <td>140.80</td>\n",
              "      <td>66573.0</td>\n",
              "      <td>147.20</td>\n",
              "      <td>63426.0</td>\n",
              "    </tr>\n",
              "    <tr>\n",
              "      <th>7360</th>\n",
              "      <td>2022-04-29</td>\n",
              "      <td>120.25</td>\n",
              "      <td>115.3117</td>\n",
              "      <td>115.31</td>\n",
              "      <td>NaN</td>\n",
              "      <td>204.730473</td>\n",
              "      <td>115.31</td>\n",
              "      <td>1839555.0</td>\n",
              "      <td>120.73</td>\n",
              "      <td>2465967.0</td>\n",
              "      <td>127.05</td>\n",
              "      <td>361946.0</td>\n",
              "      <td>133.70</td>\n",
              "      <td>243283.0</td>\n",
              "      <td>141.30</td>\n",
              "      <td>63043.0</td>\n",
              "      <td>147.55</td>\n",
              "      <td>62675.0</td>\n",
              "    </tr>\n",
              "    <tr>\n",
              "      <th>7361</th>\n",
              "      <td>2022-04-30</td>\n",
              "      <td>120.25</td>\n",
              "      <td>115.3117</td>\n",
              "      <td>115.31</td>\n",
              "      <td>NaN</td>\n",
              "      <td>204.730473</td>\n",
              "      <td>115.31</td>\n",
              "      <td>1839555.0</td>\n",
              "      <td>120.73</td>\n",
              "      <td>2465967.0</td>\n",
              "      <td>127.05</td>\n",
              "      <td>361946.0</td>\n",
              "      <td>133.70</td>\n",
              "      <td>243283.0</td>\n",
              "      <td>141.30</td>\n",
              "      <td>63043.0</td>\n",
              "      <td>147.55</td>\n",
              "      <td>62675.0</td>\n",
              "    </tr>\n",
              "  </tbody>\n",
              "</table>\n",
              "<p>7362 rows × 18 columns</p>\n",
              "</div>\n",
              "      <button class=\"colab-df-convert\" onclick=\"convertToInteractive('df-ec7d9815-58cf-450c-99d6-34f764ae8f35')\"\n",
              "              title=\"Convert this dataframe to an interactive table.\"\n",
              "              style=\"display:none;\">\n",
              "        \n",
              "  <svg xmlns=\"http://www.w3.org/2000/svg\" height=\"24px\"viewBox=\"0 0 24 24\"\n",
              "       width=\"24px\">\n",
              "    <path d=\"M0 0h24v24H0V0z\" fill=\"none\"/>\n",
              "    <path d=\"M18.56 5.44l.94 2.06.94-2.06 2.06-.94-2.06-.94-.94-2.06-.94 2.06-2.06.94zm-11 1L8.5 8.5l.94-2.06 2.06-.94-2.06-.94L8.5 2.5l-.94 2.06-2.06.94zm10 10l.94 2.06.94-2.06 2.06-.94-2.06-.94-.94-2.06-.94 2.06-2.06.94z\"/><path d=\"M17.41 7.96l-1.37-1.37c-.4-.4-.92-.59-1.43-.59-.52 0-1.04.2-1.43.59L10.3 9.45l-7.72 7.72c-.78.78-.78 2.05 0 2.83L4 21.41c.39.39.9.59 1.41.59.51 0 1.02-.2 1.41-.59l7.78-7.78 2.81-2.81c.8-.78.8-2.07 0-2.86zM5.41 20L4 18.59l7.72-7.72 1.47 1.35L5.41 20z\"/>\n",
              "  </svg>\n",
              "      </button>\n",
              "      \n",
              "  <style>\n",
              "    .colab-df-container {\n",
              "      display:flex;\n",
              "      flex-wrap:wrap;\n",
              "      gap: 12px;\n",
              "    }\n",
              "\n",
              "    .colab-df-convert {\n",
              "      background-color: #E8F0FE;\n",
              "      border: none;\n",
              "      border-radius: 50%;\n",
              "      cursor: pointer;\n",
              "      display: none;\n",
              "      fill: #1967D2;\n",
              "      height: 32px;\n",
              "      padding: 0 0 0 0;\n",
              "      width: 32px;\n",
              "    }\n",
              "\n",
              "    .colab-df-convert:hover {\n",
              "      background-color: #E2EBFA;\n",
              "      box-shadow: 0px 1px 2px rgba(60, 64, 67, 0.3), 0px 1px 3px 1px rgba(60, 64, 67, 0.15);\n",
              "      fill: #174EA6;\n",
              "    }\n",
              "\n",
              "    [theme=dark] .colab-df-convert {\n",
              "      background-color: #3B4455;\n",
              "      fill: #D2E3FC;\n",
              "    }\n",
              "\n",
              "    [theme=dark] .colab-df-convert:hover {\n",
              "      background-color: #434B5C;\n",
              "      box-shadow: 0px 1px 3px 1px rgba(0, 0, 0, 0.15);\n",
              "      filter: drop-shadow(0px 1px 2px rgba(0, 0, 0, 0.3));\n",
              "      fill: #FFFFFF;\n",
              "    }\n",
              "  </style>\n",
              "\n",
              "      <script>\n",
              "        const buttonEl =\n",
              "          document.querySelector('#df-ec7d9815-58cf-450c-99d6-34f764ae8f35 button.colab-df-convert');\n",
              "        buttonEl.style.display =\n",
              "          google.colab.kernel.accessAllowed ? 'block' : 'none';\n",
              "\n",
              "        async function convertToInteractive(key) {\n",
              "          const element = document.querySelector('#df-ec7d9815-58cf-450c-99d6-34f764ae8f35');\n",
              "          const dataTable =\n",
              "            await google.colab.kernel.invokeFunction('convertToInteractive',\n",
              "                                                     [key], {});\n",
              "          if (!dataTable) return;\n",
              "\n",
              "          const docLinkHtml = 'Like what you see? Visit the ' +\n",
              "            '<a target=\"_blank\" href=https://colab.research.google.com/notebooks/data_table.ipynb>data table notebook</a>'\n",
              "            + ' to learn more about interactive tables.';\n",
              "          element.innerHTML = '';\n",
              "          dataTable['output_type'] = 'display_data';\n",
              "          await google.colab.output.renderOutput(dataTable, element);\n",
              "          const docLink = document.createElement('div');\n",
              "          docLink.innerHTML = docLinkHtml;\n",
              "          element.appendChild(docLink);\n",
              "        }\n",
              "      </script>\n",
              "    </div>\n",
              "  </div>\n",
              "  "
            ]
          },
          "metadata": {},
          "execution_count": 32
        }
      ]
    },
    {
      "cell_type": "markdown",
      "source": [
        "Recuerden que también podemos leer el dataframe introduciendo el URL de descarga en la función `read_csv()`, tal como hicimos al principio. El siguiente bloque de código, que es un ejemplo de ello, tiene el mismo efecto que el anterior.\n",
        "\n"
      ],
      "metadata": {
        "id": "RTAuq59-s_Al"
      }
    },
    {
      "cell_type": "code",
      "source": [
        "# dolar_df = pd.read_csv(\"https://infra.datos.gob.ar/catalog/sspm/dataset/168/distribution/168.1/download/datos-tipo-cambio-usd-futuro-dolar-frecuencia-diaria.csv\")\n",
        "# dolar_df"
      ],
      "metadata": {
        "id": "qRudVURdtULh"
      },
      "execution_count": 21,
      "outputs": []
    },
    {
      "cell_type": "markdown",
      "source": [
        "Repasemos algunas propiedades importantes de los dataframes."
      ],
      "metadata": {
        "id": "52l4Fz8NuCtn"
      }
    },
    {
      "cell_type": "code",
      "execution_count": 26,
      "metadata": {
        "id": "jF8gcFp4bgrs",
        "outputId": "b8775ff0-b682-435a-fb86-a563632f4271",
        "colab": {
          "base_uri": "https://localhost:8080/"
        }
      },
      "outputs": [
        {
          "output_type": "stream",
          "name": "stdout",
          "text": [
            "Columnas  Index(['indice_tiempo', 'tipo_cambio_bna_vendedor', 'tipo_cambio_a3500',\n",
            "       'tipo_cambio_mae', 'volumen_mae', 'tipo_cambio_implicito_en_adrs',\n",
            "       'futuro_rofex_usd1m', 'interes_abierto_1m', 'futuro_rofex_usd2m',\n",
            "       'interes_abierto_2m', 'futuro_rofex_usd3m', 'interes_abierto_3m',\n",
            "       'futuro_rofex_usd4m', 'interes_abierto_4m', 'futuro_rofex_usd5m',\n",
            "       'interes_abierto_5m', 'futuro_rofex_usd6m', 'interes_abierto_6m'],\n",
            "      dtype='object')\n",
            "\n",
            "Index  RangeIndex(start=0, stop=7362, step=1)\n",
            "\n",
            "Dimensiones  (7362, 18)\n",
            "\n"
          ]
        }
      ],
      "source": [
        "print('Columnas ', dolar_df.columns, end = \"\\n\\n\")\n",
        "print('Index ', dolar_df.index, end = \"\\n\\n\")\n",
        "print('Dimensiones ',dolar_df.shape, end = \"\\n\\n\")"
      ]
    },
    {
      "cell_type": "code",
      "execution_count": 28,
      "metadata": {
        "id": "qeJjofRHbgrs",
        "outputId": "a027eb92-178a-441a-963e-b60b7850d1d8",
        "colab": {
          "base_uri": "https://localhost:8080/",
          "height": 270
        }
      },
      "outputs": [
        {
          "output_type": "execute_result",
          "data": {
            "text/plain": [
              "  indice_tiempo  tipo_cambio_bna_vendedor  tipo_cambio_a3500  tipo_cambio_mae  \\\n",
              "0    2002-03-05                       NaN             1.9917              NaN   \n",
              "1    2002-03-06                       NaN             2.0508              NaN   \n",
              "2    2002-03-07                       NaN             2.1375              NaN   \n",
              "3    2002-03-08                       NaN             2.2033              NaN   \n",
              "4    2002-03-09                       NaN             2.2033              NaN   \n",
              "\n",
              "   volumen_mae  tipo_cambio_implicito_en_adrs  futuro_rofex_usd1m  \\\n",
              "0          NaN                       2.180124                 NaN   \n",
              "1          NaN                       2.222222                 NaN   \n",
              "2          NaN                       2.343949                 NaN   \n",
              "3          NaN                       2.227778                 NaN   \n",
              "4          NaN                       2.227778                 NaN   \n",
              "\n",
              "   interes_abierto_1m  futuro_rofex_usd2m  interes_abierto_2m  \\\n",
              "0                 NaN                 NaN                 NaN   \n",
              "1                 NaN                 NaN                 NaN   \n",
              "2                 NaN                 NaN                 NaN   \n",
              "3                 NaN                 NaN                 NaN   \n",
              "4                 NaN                 NaN                 NaN   \n",
              "\n",
              "   futuro_rofex_usd3m  interes_abierto_3m  futuro_rofex_usd4m  \\\n",
              "0                 NaN                 NaN                 NaN   \n",
              "1                 NaN                 NaN                 NaN   \n",
              "2                 NaN                 NaN                 NaN   \n",
              "3                 NaN                 NaN                 NaN   \n",
              "4                 NaN                 NaN                 NaN   \n",
              "\n",
              "   interes_abierto_4m  futuro_rofex_usd5m  interes_abierto_5m  \\\n",
              "0                 NaN                 NaN                 NaN   \n",
              "1                 NaN                 NaN                 NaN   \n",
              "2                 NaN                 NaN                 NaN   \n",
              "3                 NaN                 NaN                 NaN   \n",
              "4                 NaN                 NaN                 NaN   \n",
              "\n",
              "   futuro_rofex_usd6m  interes_abierto_6m  \n",
              "0                 NaN                 NaN  \n",
              "1                 NaN                 NaN  \n",
              "2                 NaN                 NaN  \n",
              "3                 NaN                 NaN  \n",
              "4                 NaN                 NaN  "
            ],
            "text/html": [
              "\n",
              "  <div id=\"df-a8f5c0ad-de83-4d52-a2d8-0e3642a0db73\">\n",
              "    <div class=\"colab-df-container\">\n",
              "      <div>\n",
              "<style scoped>\n",
              "    .dataframe tbody tr th:only-of-type {\n",
              "        vertical-align: middle;\n",
              "    }\n",
              "\n",
              "    .dataframe tbody tr th {\n",
              "        vertical-align: top;\n",
              "    }\n",
              "\n",
              "    .dataframe thead th {\n",
              "        text-align: right;\n",
              "    }\n",
              "</style>\n",
              "<table border=\"1\" class=\"dataframe\">\n",
              "  <thead>\n",
              "    <tr style=\"text-align: right;\">\n",
              "      <th></th>\n",
              "      <th>indice_tiempo</th>\n",
              "      <th>tipo_cambio_bna_vendedor</th>\n",
              "      <th>tipo_cambio_a3500</th>\n",
              "      <th>tipo_cambio_mae</th>\n",
              "      <th>volumen_mae</th>\n",
              "      <th>tipo_cambio_implicito_en_adrs</th>\n",
              "      <th>futuro_rofex_usd1m</th>\n",
              "      <th>interes_abierto_1m</th>\n",
              "      <th>futuro_rofex_usd2m</th>\n",
              "      <th>interes_abierto_2m</th>\n",
              "      <th>futuro_rofex_usd3m</th>\n",
              "      <th>interes_abierto_3m</th>\n",
              "      <th>futuro_rofex_usd4m</th>\n",
              "      <th>interes_abierto_4m</th>\n",
              "      <th>futuro_rofex_usd5m</th>\n",
              "      <th>interes_abierto_5m</th>\n",
              "      <th>futuro_rofex_usd6m</th>\n",
              "      <th>interes_abierto_6m</th>\n",
              "    </tr>\n",
              "  </thead>\n",
              "  <tbody>\n",
              "    <tr>\n",
              "      <th>0</th>\n",
              "      <td>2002-03-05</td>\n",
              "      <td>NaN</td>\n",
              "      <td>1.9917</td>\n",
              "      <td>NaN</td>\n",
              "      <td>NaN</td>\n",
              "      <td>2.180124</td>\n",
              "      <td>NaN</td>\n",
              "      <td>NaN</td>\n",
              "      <td>NaN</td>\n",
              "      <td>NaN</td>\n",
              "      <td>NaN</td>\n",
              "      <td>NaN</td>\n",
              "      <td>NaN</td>\n",
              "      <td>NaN</td>\n",
              "      <td>NaN</td>\n",
              "      <td>NaN</td>\n",
              "      <td>NaN</td>\n",
              "      <td>NaN</td>\n",
              "    </tr>\n",
              "    <tr>\n",
              "      <th>1</th>\n",
              "      <td>2002-03-06</td>\n",
              "      <td>NaN</td>\n",
              "      <td>2.0508</td>\n",
              "      <td>NaN</td>\n",
              "      <td>NaN</td>\n",
              "      <td>2.222222</td>\n",
              "      <td>NaN</td>\n",
              "      <td>NaN</td>\n",
              "      <td>NaN</td>\n",
              "      <td>NaN</td>\n",
              "      <td>NaN</td>\n",
              "      <td>NaN</td>\n",
              "      <td>NaN</td>\n",
              "      <td>NaN</td>\n",
              "      <td>NaN</td>\n",
              "      <td>NaN</td>\n",
              "      <td>NaN</td>\n",
              "      <td>NaN</td>\n",
              "    </tr>\n",
              "    <tr>\n",
              "      <th>2</th>\n",
              "      <td>2002-03-07</td>\n",
              "      <td>NaN</td>\n",
              "      <td>2.1375</td>\n",
              "      <td>NaN</td>\n",
              "      <td>NaN</td>\n",
              "      <td>2.343949</td>\n",
              "      <td>NaN</td>\n",
              "      <td>NaN</td>\n",
              "      <td>NaN</td>\n",
              "      <td>NaN</td>\n",
              "      <td>NaN</td>\n",
              "      <td>NaN</td>\n",
              "      <td>NaN</td>\n",
              "      <td>NaN</td>\n",
              "      <td>NaN</td>\n",
              "      <td>NaN</td>\n",
              "      <td>NaN</td>\n",
              "      <td>NaN</td>\n",
              "    </tr>\n",
              "    <tr>\n",
              "      <th>3</th>\n",
              "      <td>2002-03-08</td>\n",
              "      <td>NaN</td>\n",
              "      <td>2.2033</td>\n",
              "      <td>NaN</td>\n",
              "      <td>NaN</td>\n",
              "      <td>2.227778</td>\n",
              "      <td>NaN</td>\n",
              "      <td>NaN</td>\n",
              "      <td>NaN</td>\n",
              "      <td>NaN</td>\n",
              "      <td>NaN</td>\n",
              "      <td>NaN</td>\n",
              "      <td>NaN</td>\n",
              "      <td>NaN</td>\n",
              "      <td>NaN</td>\n",
              "      <td>NaN</td>\n",
              "      <td>NaN</td>\n",
              "      <td>NaN</td>\n",
              "    </tr>\n",
              "    <tr>\n",
              "      <th>4</th>\n",
              "      <td>2002-03-09</td>\n",
              "      <td>NaN</td>\n",
              "      <td>2.2033</td>\n",
              "      <td>NaN</td>\n",
              "      <td>NaN</td>\n",
              "      <td>2.227778</td>\n",
              "      <td>NaN</td>\n",
              "      <td>NaN</td>\n",
              "      <td>NaN</td>\n",
              "      <td>NaN</td>\n",
              "      <td>NaN</td>\n",
              "      <td>NaN</td>\n",
              "      <td>NaN</td>\n",
              "      <td>NaN</td>\n",
              "      <td>NaN</td>\n",
              "      <td>NaN</td>\n",
              "      <td>NaN</td>\n",
              "      <td>NaN</td>\n",
              "    </tr>\n",
              "  </tbody>\n",
              "</table>\n",
              "</div>\n",
              "      <button class=\"colab-df-convert\" onclick=\"convertToInteractive('df-a8f5c0ad-de83-4d52-a2d8-0e3642a0db73')\"\n",
              "              title=\"Convert this dataframe to an interactive table.\"\n",
              "              style=\"display:none;\">\n",
              "        \n",
              "  <svg xmlns=\"http://www.w3.org/2000/svg\" height=\"24px\"viewBox=\"0 0 24 24\"\n",
              "       width=\"24px\">\n",
              "    <path d=\"M0 0h24v24H0V0z\" fill=\"none\"/>\n",
              "    <path d=\"M18.56 5.44l.94 2.06.94-2.06 2.06-.94-2.06-.94-.94-2.06-.94 2.06-2.06.94zm-11 1L8.5 8.5l.94-2.06 2.06-.94-2.06-.94L8.5 2.5l-.94 2.06-2.06.94zm10 10l.94 2.06.94-2.06 2.06-.94-2.06-.94-.94-2.06-.94 2.06-2.06.94z\"/><path d=\"M17.41 7.96l-1.37-1.37c-.4-.4-.92-.59-1.43-.59-.52 0-1.04.2-1.43.59L10.3 9.45l-7.72 7.72c-.78.78-.78 2.05 0 2.83L4 21.41c.39.39.9.59 1.41.59.51 0 1.02-.2 1.41-.59l7.78-7.78 2.81-2.81c.8-.78.8-2.07 0-2.86zM5.41 20L4 18.59l7.72-7.72 1.47 1.35L5.41 20z\"/>\n",
              "  </svg>\n",
              "      </button>\n",
              "      \n",
              "  <style>\n",
              "    .colab-df-container {\n",
              "      display:flex;\n",
              "      flex-wrap:wrap;\n",
              "      gap: 12px;\n",
              "    }\n",
              "\n",
              "    .colab-df-convert {\n",
              "      background-color: #E8F0FE;\n",
              "      border: none;\n",
              "      border-radius: 50%;\n",
              "      cursor: pointer;\n",
              "      display: none;\n",
              "      fill: #1967D2;\n",
              "      height: 32px;\n",
              "      padding: 0 0 0 0;\n",
              "      width: 32px;\n",
              "    }\n",
              "\n",
              "    .colab-df-convert:hover {\n",
              "      background-color: #E2EBFA;\n",
              "      box-shadow: 0px 1px 2px rgba(60, 64, 67, 0.3), 0px 1px 3px 1px rgba(60, 64, 67, 0.15);\n",
              "      fill: #174EA6;\n",
              "    }\n",
              "\n",
              "    [theme=dark] .colab-df-convert {\n",
              "      background-color: #3B4455;\n",
              "      fill: #D2E3FC;\n",
              "    }\n",
              "\n",
              "    [theme=dark] .colab-df-convert:hover {\n",
              "      background-color: #434B5C;\n",
              "      box-shadow: 0px 1px 3px 1px rgba(0, 0, 0, 0.15);\n",
              "      filter: drop-shadow(0px 1px 2px rgba(0, 0, 0, 0.3));\n",
              "      fill: #FFFFFF;\n",
              "    }\n",
              "  </style>\n",
              "\n",
              "      <script>\n",
              "        const buttonEl =\n",
              "          document.querySelector('#df-a8f5c0ad-de83-4d52-a2d8-0e3642a0db73 button.colab-df-convert');\n",
              "        buttonEl.style.display =\n",
              "          google.colab.kernel.accessAllowed ? 'block' : 'none';\n",
              "\n",
              "        async function convertToInteractive(key) {\n",
              "          const element = document.querySelector('#df-a8f5c0ad-de83-4d52-a2d8-0e3642a0db73');\n",
              "          const dataTable =\n",
              "            await google.colab.kernel.invokeFunction('convertToInteractive',\n",
              "                                                     [key], {});\n",
              "          if (!dataTable) return;\n",
              "\n",
              "          const docLinkHtml = 'Like what you see? Visit the ' +\n",
              "            '<a target=\"_blank\" href=https://colab.research.google.com/notebooks/data_table.ipynb>data table notebook</a>'\n",
              "            + ' to learn more about interactive tables.';\n",
              "          element.innerHTML = '';\n",
              "          dataTable['output_type'] = 'display_data';\n",
              "          await google.colab.output.renderOutput(dataTable, element);\n",
              "          const docLink = document.createElement('div');\n",
              "          docLink.innerHTML = docLinkHtml;\n",
              "          element.appendChild(docLink);\n",
              "        }\n",
              "      </script>\n",
              "    </div>\n",
              "  </div>\n",
              "  "
            ]
          },
          "metadata": {},
          "execution_count": 28
        }
      ],
      "source": [
        "# Consultar las primeras filas\n",
        "dolar_df.head()"
      ]
    },
    {
      "cell_type": "markdown",
      "metadata": {
        "id": "z3wm7HJKbgrt"
      },
      "source": [
        "Si queremos extraer una serie del DataFrame, podemos hacerlo de la misma forma en que extraemos un valor de un diccionario.\n",
        "\n"
      ]
    },
    {
      "cell_type": "code",
      "execution_count": 29,
      "metadata": {
        "id": "Jj7sMjnNbgrt",
        "colab": {
          "base_uri": "https://localhost:8080/"
        },
        "outputId": "f4bc22e6-29e3-44c6-c240-10e3c7c4ff44"
      },
      "outputs": [
        {
          "output_type": "execute_result",
          "data": {
            "text/plain": [
              "pandas.core.series.Series"
            ]
          },
          "metadata": {},
          "execution_count": 29
        }
      ],
      "source": [
        "serie_fecha = dolar_df['indice_tiempo']\n",
        "\n",
        "type(serie_fecha)"
      ]
    },
    {
      "cell_type": "markdown",
      "metadata": {
        "id": "290_usiPNGjE"
      },
      "source": [
        "Podemos explorar los datos del dataset con los [graficos de Pandas](https://pandas.pydata.org/pandas-docs/stable/reference/api/pandas.DataFrame.plot.html)"
      ]
    },
    {
      "cell_type": "code",
      "metadata": {
        "id": "_Pdekut2G0bB",
        "colab": {
          "base_uri": "https://localhost:8080/",
          "height": 346
        },
        "outputId": "148d39b5-7930-49ca-8b77-3bd87542727d"
      },
      "source": [
        "dolar_df.set_index(keys = \"indice_tiempo\", inplace=True) #definimos un indice de manera \"inplace\"\n",
        "dolar_df.plot(rot = 45 )"
      ],
      "execution_count": 33,
      "outputs": [
        {
          "output_type": "execute_result",
          "data": {
            "text/plain": [
              "<matplotlib.axes._subplots.AxesSubplot at 0x7f828e010a90>"
            ]
          },
          "metadata": {},
          "execution_count": 33
        },
        {
          "output_type": "display_data",
          "data": {
            "text/plain": [
              "<Figure size 432x288 with 1 Axes>"
            ],
            "image/png": "[encoded data removed]"
          },
          "metadata": {
            "needs_background": "light"
          }
        }
      ]
    },
    {
      "cell_type": "code",
      "metadata": {
        "id": "5S6iCMi9h0-J",
        "colab": {
          "base_uri": "https://localhost:8080/",
          "height": 335
        },
        "outputId": "f61381d2-4fc3-4771-f13a-9c58aee98278"
      },
      "source": [
        "dolar_df= dolar_df[[ \"tipo_cambio_a3500\",  \"tipo_cambio_implicito_en_adrs\"]]\n",
        "dolar_df.plot(rot = 45 )"
      ],
      "execution_count": 36,
      "outputs": [
        {
          "output_type": "execute_result",
          "data": {
            "text/plain": [
              "<matplotlib.axes._subplots.AxesSubplot at 0x7f828ddea1d0>"
            ]
          },
          "metadata": {},
          "execution_count": 36
        },
        {
          "output_type": "display_data",
          "data": {
            "text/plain": [
              "<Figure size 432x288 with 1 Axes>"
            ],
            "image/png": "[encoded data removed]"
          },
          "metadata": {
            "needs_background": "light"
          }
        }
      ]
    }
  ]
}
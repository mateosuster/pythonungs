{
  "nbformat": 4,
  "nbformat_minor": 0,
  "metadata": {
    "kernelspec": {
      "display_name": "Python 3",
      "language": "python",
      "name": "python3"
    },
    "language_info": {
      "codemirror_mode": {
        "name": "ipython",
        "version": 3
      },
      "file_extension": ".py",
      "mimetype": "text/x-python",
      "name": "python",
      "nbconvert_exporter": "python",
      "pygments_lexer": "ipython3",
      "version": "3.7.6"
    },
    "colab": {
      "name": "MPE III - Intro Pandas.ipynb",
      "provenance": [],
      "collapsed_sections": [],
      "toc_visible": true,
      "include_colab_link": true
    }
  },
  "cells": [
    {
      "cell_type": "markdown",
      "metadata": {
        "id": "view-in-github",
        "colab_type": "text"
      },
      "source": [
        "<a href=\"https://colab.research.google.com/github/mateosuster/pythonungs/blob/master/codigos/MPE_III_Intro_Pandas.ipynb\" target=\"_parent\"><img src=\"https://colab.research.google.com/assets/colab-badge.svg\" alt=\"Open In Colab\"/></a>"
      ]
    },
    {
      "cell_type": "markdown",
      "source": [
        "# Pandas\n",
        "\n",
        "Tabla de Contenidos\n",
        "\n",
        "    I. ¿Qué es Pandas?\n",
        "    II. Análisis de datos con Pandas\n",
        "    III. Vectorización\n",
        "    IV. Los objetos fundamentales de Pandas\n",
        "        I. Series\n",
        "        II. DataFrames\n",
        "    V. Lectura de archivos"
      ],
      "metadata": {
        "id": "REjJgmbM4XaJ"
      }
    },
    {
      "cell_type": "markdown",
      "metadata": {
        "id": "CNfoNA42MR9k"
      },
      "source": [
        "# ¿Qué es Pandas?\n",
        "\n",
        "* [Pandas](https://pandas.pydata.org/pandas-docs/stable/index.html) es una biblioteca de código abierto que proporciona estructuras de datos y herramientas de análisis de datos de alto rendimiento y fáciles de usar para el lenguaje de programación Python. Es una de las librerías más usadas para este tipo de tareas.\n",
        "\n",
        "* Nombre derivado de \"**Pan**el **Da**ta **S**ystem\" (término econométrico para datasets multidimensionales).\n",
        "\n",
        "* Su funcionalidad permite hacer operaciones sobre datos que se encuentran en memoria de manera eficiente. Combina la alta performance de las operaciones sobre arrays de NumPy con la flexibilidad en la manipulación datasets (Excel, CSV, Google Spreadsheets, etc., etc.) o una base de datos relacional (SQL).\n"
      ]
    },
    {
      "cell_type": "code",
      "source": [
        "#Como buena práctica, iniciamos importando las librerías\n",
        "import pandas as pd\n",
        "import numpy as np"
      ],
      "metadata": {
        "id": "UkNs3LibfWbe"
      },
      "execution_count": null,
      "outputs": []
    },
    {
      "cell_type": "markdown",
      "metadata": {
        "id": "OfgMIhwUbgrh"
      },
      "source": [
        "## Exploración\n",
        "\n",
        "Vamos a analizar datos de una fuente real. Los ingresos de los funcionarios son información pública que se libera anualmente en el <a href='https://data.buenosaires.gob.ar/dataset/sueldo-funcionarios'>portal de datos abiertos</a> de GCBA.  \n",
        "\n",
        "En general los 4 primeros pasos para analizar un data set son:\n",
        "1. Leerlo\n",
        "2. Consultar cuáles son las columnas\n",
        "3. Extraer una muestra\n",
        "4. Verificar cuántos registros tiene\n"
      ]
    },
    {
      "cell_type": "markdown",
      "metadata": {
        "id": "MhmgU5Xsbgri"
      },
      "source": [
        "### 1- Para leer el data set usamos la función de pandas `read_csv()`\n",
        "\n",
        "\n",
        "Con esta función podemos leer archivos que estén en una url pública o en una ubicación del disco accesible desde la Jupyter Notebook. "
      ]
    },
    {
      "cell_type": "code",
      "execution_count": null,
      "metadata": {
        "id": "Oy-STM-Ybgrj"
      },
      "outputs": [],
      "source": [
        "df = pd.read_csv('http://cdn.buenosaires.gob.ar/datosabiertos/datasets/sueldo-funcionarios/sueldo_funcionarios_2019.csv')"
      ]
    },
    {
      "cell_type": "markdown",
      "metadata": {
        "id": "stX8AbqSbgrj"
      },
      "source": [
        "### 2- Consultamos las columnas\n"
      ]
    },
    {
      "cell_type": "code",
      "execution_count": null,
      "metadata": {
        "id": "_oY6tx70bgrl"
      },
      "outputs": [],
      "source": [
        "df.columns"
      ]
    },
    {
      "cell_type": "markdown",
      "metadata": {
        "id": "-S4PbyeObgrm"
      },
      "source": [
        "### 3- Extraemos una muestra"
      ]
    },
    {
      "cell_type": "code",
      "execution_count": null,
      "metadata": {
        "id": "nNELmQKubgrm"
      },
      "outputs": [],
      "source": [
        "df.sample(5)"
      ]
    },
    {
      "cell_type": "markdown",
      "metadata": {
        "id": "KmFqXl--bgrn"
      },
      "source": [
        "### 4- Consultamos la cantidad de filas y de columnas"
      ]
    },
    {
      "cell_type": "code",
      "execution_count": null,
      "metadata": {
        "id": "Ak3iXSxLbgro"
      },
      "outputs": [],
      "source": [
        "# La propiedad shape nos devuelve una tupla (filas,columnas)\n",
        "df.shape"
      ]
    },
    {
      "cell_type": "markdown",
      "source": [
        "## Vectorización en Pandas\n",
        "Pandas es útil para trabajar sobre datos tabulares, con dos condiciones importantes:\n",
        "\n",
        "I. Los datos se encuentran enteramente en la memoria RAM. Con lo cual, el tamaño de los datos que podemos manipular está limitado por el hardware. Como regla de pulgar, es una buena práctica no ocupar más de 1/3 de la memoria RAM de nuestro dispositivo con el dataset. Así, si estamos trabajando localmente en una notebook con 8GB de memoria RAM no es recomendable procesar datasets de más de 2.33GB.\n",
        "\n",
        "II. En pandas, las operaciones sobre filas y columnas son, en general, eficientes porque se hacen de forma \"vectorizada\". En realidad esta optimización, se hace desde numpy, una librería para realizar operaciones matemáticas que se utilizó a su vez para escribir pandas. \n",
        "\n",
        "Las operaciones vectorizadas son las que se realizan en bloque en vez de caso por caso. Las computadoras de hoy tienen la capacidad de recibir muchas instrucciones juntas y procesar varias de ellas a la vez. Por ejemplo, si nuestro hardware tiene la capacidad de procesar 4 operaciones juntas, el resultado de vectorizar una operación matemática es el siguiente:\n",
        "\n",
        "<img src = 'https://datasets-humai.s3.amazonaws.com/images/vectorizacion.png' /> \n",
        "\n",
        "\n",
        "En el primer caso hay que hacer 5 operaciones y en el segundo caso sólo dos.\n",
        "\n",
        "Es importante entender, entonces, que Pandas trabaja de esta manera y que por eso es una de las herramientas más elegidas para manipular datos en memoria."
      ],
      "metadata": {
        "id": "ecYA4P6Xezvb"
      }
    },
    {
      "cell_type": "markdown",
      "metadata": {
        "id": "aqRlFyrcbgrp"
      },
      "source": [
        "## Los objetos fundamentales de Pandas"
      ]
    },
    {
      "cell_type": "markdown",
      "source": [
        "### Series\n",
        "\n",
        "Las *Series* son un vector unidimensional, el objeto \"más simple\" que encontramos en Pandas. En el fondo, podemos pensar a las series como \"columnas\" de una tabla que están asociadas a un índice y a un nombre. Igual que una lista común de Python es una secuencia de elementos ordenados, pero a diferencia de la lista está asociada a más información."
      ],
      "metadata": {
        "id": "h2o88XDhqmYk"
      }
    },
    {
      "cell_type": "code",
      "execution_count": null,
      "metadata": {
        "id": "IfnWSCgrbgrq"
      },
      "outputs": [],
      "source": [
        "# Las series se pueden crear a partir de una lista\n",
        "serie = pd.Series(['a','b','c'])"
      ]
    },
    {
      "cell_type": "code",
      "execution_count": null,
      "metadata": {
        "id": "KWzcWiiWbgrq"
      },
      "outputs": [],
      "source": [
        "# Propiedades importantes de las series\n",
        "print('Tipo de objetos que tiene ', serie.dtype)\n",
        "print('Nombre ', serie.name)\n",
        "print('Index ',serie.index)\n",
        "print('Valores ',serie.values)\n"
      ]
    },
    {
      "cell_type": "markdown",
      "metadata": {
        "id": "RtxguLb4MWfG"
      },
      "source": [
        "### DataFrame \n",
        "\n",
        "El principal objeto en Pandas son los DataFrames, los cuales son una estructura de datos tabular (o simplemente \"tablas\"), compuestas por una colección de \"columnas\" o series que **comparten todas un mismo índice**. Cada columna puede poseer un tipo de determinado de dato distinto (number, string, boolean, etc.).  \n",
        "\n",
        "Los DataFrames tienen un objeto Index que describe los nombres de columnas y otro objeto Index que describen los nombres de las filas.\n",
        "\n",
        "En general los DataFrames se crean a partir de leer tablas de archivos (pueden ser en formato json, csv o incluso xlsx) pero a veces también se crean a partir de listas de diccionarios o de otras maneras. Veamos algunas de ellas.\n",
        "\n",
        "<br>"
      ]
    },
    {
      "cell_type": "markdown",
      "source": [
        "* Diccionario con listas:\n",
        "<br>\n",
        "\n",
        "```\n",
        "{Nombre columna: [Valores]}\n",
        "```"
      ],
      "metadata": {
        "id": "XA5S8F_jo7lV"
      }
    },
    {
      "cell_type": "code",
      "metadata": {
        "id": "qPwW644lqLk9"
      },
      "source": [
        "name_age = {'Name' : ['Ali', 'Bill', 'David', 'Hany', 'Ibtisam'], 'Age' : [32, 55, 20, 43, 30]}\n",
        "print(\"name_age es\", type(name_age))\n",
        "print(name_age)"
      ],
      "execution_count": null,
      "outputs": []
    },
    {
      "cell_type": "code",
      "metadata": {
        "id": "VtXyEgXTZ1LR"
      },
      "source": [
        "data_frame = pd.DataFrame(name_age)\n",
        "print(\"data_frame es\", type(data_frame))\n",
        "data_frame.head(4)"
      ],
      "execution_count": null,
      "outputs": []
    },
    {
      "cell_type": "markdown",
      "metadata": {
        "id": "Z6Y9Qkk-nN5Y"
      },
      "source": [
        "* Lista de Diccionarios: \n",
        "<br>\n",
        "\n",
        "```\n",
        "[{Columna1: valor, Columna2: valor}, \n",
        "{Columna1: valor, Columna2: valor}]\n",
        "```\n",
        "\n",
        "Cada elemento de la lista corresponde a una fila"
      ]
    },
    {
      "cell_type": "code",
      "metadata": {
        "id": "oQAZgFnanu_s"
      },
      "source": [
        "name_age = [{'Name': 'Ali','Age':32},\n",
        "            {'Name': 'Bill','Age':55},\n",
        "            {'Name': 'David','Age':20},\n",
        "            {'Name': 'Hany','Age':43},\n",
        "            {'Name': 'Ibtisam','Age':30}]\n",
        "\n",
        "print(\"name_age es\", type(name_age))\n",
        "print(name_age)"
      ],
      "execution_count": null,
      "outputs": []
    },
    {
      "cell_type": "code",
      "metadata": {
        "id": "25FZNzvHaX5w"
      },
      "source": [
        "data_frame = pd.DataFrame(name_age)\n",
        "print(\"data_frame es\", type(data_frame))\n",
        "data_frame"
      ],
      "execution_count": null,
      "outputs": []
    },
    {
      "cell_type": "markdown",
      "metadata": {
        "id": "V_Tpt4WAj7bs"
      },
      "source": [
        "* Lista de listas: \n",
        "\n",
        "<br>\n",
        "[  [valor<sub>11</sub>, valor<sub>12</sub>],\n",
        "<br>\n",
        "[valor<sub>21</sub>, valor<sub>22</sub>], \n",
        "<br>...<br>\n",
        "[valor<sub>n1</sub>, valor<sub>n2</sub>] ] \n",
        "<br>\n",
        "<br>\n",
        "  Cada lista de la superlista corresponde a una fila u observación"
      ]
    },
    {
      "cell_type": "code",
      "metadata": {
        "id": "uIhrjhrAi_HX"
      },
      "source": [
        "name_age = [ ['Ali',32], ['Bill',55],\n",
        "            ['David', 20], ['Hany',43],\n",
        "            ['Ibtisam',30]  ]\n",
        "\n",
        "print(\"name_age es\", type(name_age))\n",
        "print(name_age)"
      ],
      "execution_count": null,
      "outputs": []
    },
    {
      "cell_type": "code",
      "metadata": {
        "id": "xaeLPzkKjdBd"
      },
      "source": [
        "data_frame = pd.DataFrame(name_age, columns = [\"Name\", \"Age\"]) #con columns especificamos los nombres de columnas\n",
        "print(\"data_frame es\", type(data_frame))\n",
        "data_frame"
      ],
      "execution_count": null,
      "outputs": []
    },
    {
      "cell_type": "markdown",
      "source": [
        "#### Selección de columnas\n",
        "\n",
        "Hay dos alternativas para seleccionar columnas de un DataFrame"
      ],
      "metadata": {
        "id": "dATANiHJZf4o"
      }
    },
    {
      "cell_type": "code",
      "source": [
        "data_frame[\"Name\"]"
      ],
      "metadata": {
        "id": "0uvAkk81ZlfM"
      },
      "execution_count": null,
      "outputs": []
    },
    {
      "cell_type": "code",
      "source": [
        "data_frame.Name"
      ],
      "metadata": {
        "id": "V3YB4H4yZzIA"
      },
      "execution_count": null,
      "outputs": []
    },
    {
      "cell_type": "markdown",
      "source": [
        "Esta última forma es menos utilizada, pero también es una sintaxis válida. Ambas sentencias producen el mismo resultado de tipo series"
      ],
      "metadata": {
        "id": "3sbGVEgdZ4Ew"
      }
    },
    {
      "cell_type": "code",
      "source": [
        "type(data_frame[\"Name\"])"
      ],
      "metadata": {
        "id": "YG5c3oyAaDT-"
      },
      "execution_count": null,
      "outputs": []
    },
    {
      "cell_type": "markdown",
      "metadata": {
        "id": "gUhdQtSQqLld"
      },
      "source": [
        "## Lectura de archivos\n",
        "\n",
        "Otra manera de crear dataframes, es leyendo archivos con datos, en lugar de armarlos nosotros *a mano*. La librería pandas permite abrir y guardar los [dataframes en muchos formatos distintos](https://pandas.pydata.org/pandas-docs/stable/reference/io.html) \n",
        "\n",
        "### Carga de Archivos\n",
        "\n",
        "Lo primero que debemos resolver es cómo subir archivos a Google Colab. Veamos un ejemplo con los datos de [cotizaciones del dólar](https://datos.gob.ar/ru/dataset/sspm-tipo-cambio--usd---futuro-dolar). Existen múltiples maneras:\n",
        "\n",
        "* Si tenemos una url, podemos descargarla directamente a Colab de la siguiente manera:\n",
        "\n"
      ]
    },
    {
      "cell_type": "code",
      "metadata": {
        "id": "hKhxwPUZ-EwT"
      },
      "source": [
        "# Descargamos un dataset público\n",
        "!wget https://infra.datos.gob.ar/catalog/sspm/dataset/168/distribution/168.1/download/datos-tipo-cambio-usd-futuro-dolar-frecuencia-diaria.csv"
      ],
      "execution_count": null,
      "outputs": []
    },
    {
      "cell_type": "markdown",
      "metadata": {
        "id": "_Gc5ilIeKF1i"
      },
      "source": [
        "* Otra opción es subir el archivo manualmente:"
      ]
    },
    {
      "cell_type": "code",
      "metadata": {
        "id": "X-iVr6EyJ9iS"
      },
      "source": [
        "from google.colab import files\n",
        "\n",
        "uploaded=files.upload()"
      ],
      "execution_count": null,
      "outputs": []
    },
    {
      "cell_type": "markdown",
      "metadata": {
        "id": "d0YI-bhILL7y"
      },
      "source": [
        "* Por último, es posible acceder a Google Drive en colab:"
      ]
    },
    {
      "cell_type": "code",
      "metadata": {
        "id": "JxmfIOijKxqZ"
      },
      "source": [
        "from google.colab import drive\n",
        "\n",
        "drive.mount('/content/gdrive')"
      ],
      "execution_count": null,
      "outputs": []
    },
    {
      "cell_type": "markdown",
      "metadata": {
        "id": "RfTnKaQtNRHy"
      },
      "source": [
        "Una vez que tenemos el archivo que queremos en colab, podemos abrirlo con la función **read_csv**"
      ]
    },
    {
      "cell_type": "code",
      "metadata": {
        "id": "iXtWeUpB-bch"
      },
      "source": [
        "dolar_df = pd.read_csv(\"/content/datos-tipo-cambio-usd-futuro-dolar-frecuencia-diaria.csv\")\n",
        "dolar_df"
      ],
      "execution_count": null,
      "outputs": []
    },
    {
      "cell_type": "markdown",
      "source": [
        "Recuerden que también podemos leer el dataframe introduciendo el URL de descarga en la función `read_csv()`, tal como hicimos al principio. El siguiente bloque de código, que es un ejemplo de ello, tiene el mismo efecto que el anterior.\n",
        "\n"
      ],
      "metadata": {
        "id": "RTAuq59-s_Al"
      }
    },
    {
      "cell_type": "code",
      "source": [
        "# dolar_df = pd.read_csv(\"https://infra.datos.gob.ar/catalog/sspm/dataset/168/distribution/168.1/download/datos-tipo-cambio-usd-futuro-dolar-frecuencia-diaria.csv\")\n",
        "# dolar_df"
      ],
      "metadata": {
        "id": "qRudVURdtULh"
      },
      "execution_count": null,
      "outputs": []
    },
    {
      "cell_type": "markdown",
      "source": [
        "Exportación de archivos"
      ],
      "metadata": {
        "id": "q-0j0A-XbAkA"
      }
    },
    {
      "cell_type": "code",
      "source": [
        "dolar_df.to_csv(\"/content/elnombrequesemecanta.csv\")"
      ],
      "metadata": {
        "id": "Jfiqtydba_CX"
      },
      "execution_count": null,
      "outputs": []
    },
    {
      "cell_type": "markdown",
      "source": [
        "# A modo de cierre...\n",
        "Repasemos algunas propiedades importantes de los dataframes."
      ],
      "metadata": {
        "id": "52l4Fz8NuCtn"
      }
    },
    {
      "cell_type": "code",
      "execution_count": null,
      "metadata": {
        "id": "jF8gcFp4bgrs"
      },
      "outputs": [],
      "source": [
        "print('Columnas ', dolar_df.columns, end = \"\\n\\n\")\n",
        "print('Index ', dolar_df.index, end = \"\\n\\n\")\n",
        "print('Dimensiones ',dolar_df.shape, end = \"\\n\\n\")"
      ]
    },
    {
      "cell_type": "code",
      "execution_count": null,
      "metadata": {
        "id": "qeJjofRHbgrs"
      },
      "outputs": [],
      "source": [
        "# Consultar las primeras filas\n",
        "dolar_df.head()"
      ]
    },
    {
      "cell_type": "markdown",
      "metadata": {
        "id": "z3wm7HJKbgrt"
      },
      "source": [
        "Si queremos extraer una serie del DataFrame, podemos hacerlo de la misma forma en que extraemos un valor de un diccionario.\n",
        "\n"
      ]
    },
    {
      "cell_type": "code",
      "execution_count": null,
      "metadata": {
        "id": "Jj7sMjnNbgrt"
      },
      "outputs": [],
      "source": [
        "serie_fecha = dolar_df['indice_tiempo']\n",
        "\n",
        "type(serie_fecha)"
      ]
    },
    {
      "cell_type": "markdown",
      "metadata": {
        "id": "290_usiPNGjE"
      },
      "source": [
        "Podemos explorar los datos del dataset con los [graficos de Pandas](https://pandas.pydata.org/pandas-docs/stable/reference/api/pandas.DataFrame.plot.html)"
      ]
    },
    {
      "cell_type": "code",
      "metadata": {
        "id": "_Pdekut2G0bB"
      },
      "source": [
        "dolar_df.set_index(keys = \"indice_tiempo\", inplace=True) #definimos un indice de manera \"inplace\"\n",
        "dolar_df.plot(rot = 45 )"
      ],
      "execution_count": null,
      "outputs": []
    },
    {
      "cell_type": "code",
      "metadata": {
        "id": "5S6iCMi9h0-J"
      },
      "source": [
        "dolar_df= dolar_df[[ \"tipo_cambio_a3500\",  \"tipo_cambio_implicito_en_adrs\"]]\n",
        "dolar_df.plot(rot = 45 )"
      ],
      "execution_count": null,
      "outputs": []
    }
  ]
}
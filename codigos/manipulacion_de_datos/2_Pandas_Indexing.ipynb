{
  "nbformat": 4,
  "nbformat_minor": 0,
  "metadata": {
    "colab": {
      "name": "MPE III - Pandas Indexing.ipynb",
      "provenance": [],
      "toc_visible": true,
      "include_colab_link": true
    },
    "kernelspec": {
      "name": "python3",
      "display_name": "Python 3"
    },
    "language_info": {
      "name": "python"
    }
  },
  "cells": [
    {
      "cell_type": "markdown",
      "metadata": {
        "id": "view-in-github",
        "colab_type": "text"
      },
      "source": [
        "<a href=\"https://colab.research.google.com/github/mateosuster/pythonungs/blob/master/codigos/manipulacion_de_datos/2_Pandas_Indexing.ipynb\" target=\"_parent\"><img src=\"https://colab.research.google.com/assets/colab-badge.svg\" alt=\"Open In Colab\"/></a>"
      ]
    },
    {
      "cell_type": "markdown",
      "source": [
        "# Indexación y Agregación \n",
        "\n",
        "Tabla de Contenidos\n",
        "\n",
        "    I. Índices\n",
        "    II. Exploración\n",
        "        I. Filtrando un DataFrame (Indexing)\n",
        "            I. Boolean Indexing\n",
        "                I. Máscara booleana\n",
        "                II. Máscara booleana con muchas condiciones\n",
        "            II. Boolean indexing con query()\n",
        "            III. Fancy Indexing\n",
        "        II. Funciones de Agregación\n",
        "    IV. Otros análisis descriptivos\n",
        "        I. Para las variables numéricas\n",
        "        II. Para las variables categóricas\n",
        "        III. Ordenar por columnas y limitar la cantidad de resultados"
      ],
      "metadata": {
        "id": "AleuxzX735GY"
      }
    },
    {
      "cell_type": "markdown",
      "metadata": {
        "id": "hlrhI8jMbgru"
      },
      "source": [
        "## Índices\n",
        "\n",
        "Los índices acompañan a las series y a los Data Frames. Son conjuntos ordenados e inmutables de elementos. Volvamos a levantar el dataset de salarios de funcionarios como ejemplo."
      ]
    },
    {
      "cell_type": "code",
      "source": [
        "import pandas as pd\n",
        "df = pd.read_csv('http://cdn.buenosaires.gob.ar/datosabiertos/datasets/sueldo-funcionarios/sueldo_funcionarios_2019.csv')"
      ],
      "metadata": {
        "id": "8w8jo4VBv0xh"
      },
      "execution_count": 1,
      "outputs": []
    },
    {
      "cell_type": "code",
      "execution_count": null,
      "metadata": {
        "id": "gvHh-dPabgru",
        "colab": {
          "base_uri": "https://localhost:8080/"
        },
        "outputId": "2754c39e-8772-4777-b2a5-974a69e49a3e"
      },
      "outputs": [
        {
          "output_type": "execute_result",
          "data": {
            "text/plain": [
              "RangeIndex(start=0, stop=385, step=1)"
            ]
          },
          "metadata": {},
          "execution_count": 38
        }
      ],
      "source": [
        "df.index"
      ]
    },
    {
      "cell_type": "code",
      "source": [
        "df.shape"
      ],
      "metadata": {
        "id": "6w3SlXG1AXxP",
        "outputId": "07983e15-eda7-4070-b20e-b9a5a60c6b52",
        "colab": {
          "base_uri": "https://localhost:8080/"
        }
      },
      "execution_count": null,
      "outputs": [
        {
          "output_type": "execute_result",
          "data": {
            "text/plain": [
              "(385, 10)"
            ]
          },
          "metadata": {},
          "execution_count": 18
        }
      ]
    },
    {
      "cell_type": "code",
      "execution_count": null,
      "metadata": {
        "id": "ScNFGLnZbgru",
        "colab": {
          "base_uri": "https://localhost:8080/"
        },
        "outputId": "3b15975d-54c3-4d8e-aa2a-f9fd38cb3b13"
      },
      "outputs": [
        {
          "output_type": "execute_result",
          "data": {
            "text/plain": [
              "Index(['cuil', 'anio', 'mes', 'funcionario_apellido', 'funcionario_nombre',\n",
              "       'reparticion', 'asignacion_por_cargo_i', 'aguinaldo_ii',\n",
              "       'total_salario_bruto_i_+_ii', 'observaciones'],\n",
              "      dtype='object')"
            ]
          },
          "metadata": {},
          "execution_count": 17
        }
      ],
      "source": [
        "df.columns"
      ]
    },
    {
      "cell_type": "code",
      "execution_count": null,
      "metadata": {
        "id": "7yBgUhUFbgrv",
        "colab": {
          "base_uri": "https://localhost:8080/"
        },
        "outputId": "b7062f3a-6495-4e45-b736-d254d157ec22"
      },
      "outputs": [
        {
          "output_type": "execute_result",
          "data": {
            "text/plain": [
              "Int64Index([2, 3, 5, 7, 11], dtype='int64')"
            ]
          },
          "metadata": {},
          "execution_count": 40
        }
      ],
      "source": [
        "ind = pd.Index([2, 3, 5, 7, 11])\n",
        "ind"
      ]
    },
    {
      "cell_type": "code",
      "execution_count": null,
      "metadata": {
        "id": "EOtH7ZNNbgrv",
        "colab": {
          "base_uri": "https://localhost:8080/",
          "height": 287
        },
        "outputId": "908903af-4d26-4f55-9a60-962525ebe64c"
      },
      "outputs": [
        {
          "output_type": "error",
          "ename": "TypeError",
          "evalue": "ignored",
          "traceback": [
            "\u001b[0;31m---------------------------------------------------------------------------\u001b[0m",
            "\u001b[0;31mTypeError\u001b[0m                                 Traceback (most recent call last)",
            "\u001b[0;32m<ipython-input-41-906a9fa1424c>\u001b[0m in \u001b[0;36m<module>\u001b[0;34m()\u001b[0m\n\u001b[0;32m----> 1\u001b[0;31m \u001b[0mind\u001b[0m\u001b[0;34m[\u001b[0m\u001b[0;36m1\u001b[0m\u001b[0;34m]\u001b[0m \u001b[0;34m=\u001b[0m \u001b[0;36m0\u001b[0m\u001b[0;34m\u001b[0m\u001b[0;34m\u001b[0m\u001b[0m\n\u001b[0m",
            "\u001b[0;32m/usr/local/lib/python3.7/dist-packages/pandas/core/indexes/base.py\u001b[0m in \u001b[0;36m__setitem__\u001b[0;34m(self, key, value)\u001b[0m\n\u001b[1;32m   4583\u001b[0m     \u001b[0;34m@\u001b[0m\u001b[0mfinal\u001b[0m\u001b[0;34m\u001b[0m\u001b[0;34m\u001b[0m\u001b[0m\n\u001b[1;32m   4584\u001b[0m     \u001b[0;32mdef\u001b[0m \u001b[0m__setitem__\u001b[0m\u001b[0;34m(\u001b[0m\u001b[0mself\u001b[0m\u001b[0;34m,\u001b[0m \u001b[0mkey\u001b[0m\u001b[0;34m,\u001b[0m \u001b[0mvalue\u001b[0m\u001b[0;34m)\u001b[0m\u001b[0;34m:\u001b[0m\u001b[0;34m\u001b[0m\u001b[0;34m\u001b[0m\u001b[0m\n\u001b[0;32m-> 4585\u001b[0;31m         \u001b[0;32mraise\u001b[0m \u001b[0mTypeError\u001b[0m\u001b[0;34m(\u001b[0m\u001b[0;34m\"Index does not support mutable operations\"\u001b[0m\u001b[0;34m)\u001b[0m\u001b[0;34m\u001b[0m\u001b[0;34m\u001b[0m\u001b[0m\n\u001b[0m\u001b[1;32m   4586\u001b[0m \u001b[0;34m\u001b[0m\u001b[0m\n\u001b[1;32m   4587\u001b[0m     \u001b[0;32mdef\u001b[0m \u001b[0m__getitem__\u001b[0m\u001b[0;34m(\u001b[0m\u001b[0mself\u001b[0m\u001b[0;34m,\u001b[0m \u001b[0mkey\u001b[0m\u001b[0;34m)\u001b[0m\u001b[0;34m:\u001b[0m\u001b[0;34m\u001b[0m\u001b[0;34m\u001b[0m\u001b[0m\n",
            "\u001b[0;31mTypeError\u001b[0m: Index does not support mutable operations"
          ]
        }
      ],
      "source": [
        "ind[1] = 0"
      ]
    },
    {
      "cell_type": "markdown",
      "metadata": {
        "id": "lIxH-aIDbgrv"
      },
      "source": [
        "### Ejercicio Titanic exploratorio\n",
        "Exploren el dataset público que se encuentra en la siguiente url: https://osf.io/aupb4/download ¿De qué se trata? ¿Cuántas filas tiene? ¿Cuántas columnas? Al leerlo, pueden almacenarlo en la variable df_titanic. "
      ]
    },
    {
      "cell_type": "code",
      "execution_count": null,
      "metadata": {
        "id": "6DxC0jcdbgrv"
      },
      "outputs": [],
      "source": []
    },
    {
      "cell_type": "code",
      "execution_count": null,
      "metadata": {
        "id": "xY0o7rzXbgrw"
      },
      "outputs": [],
      "source": []
    },
    {
      "cell_type": "code",
      "execution_count": null,
      "metadata": {
        "id": "f2YL17MTbgrw"
      },
      "outputs": [],
      "source": []
    },
    {
      "cell_type": "markdown",
      "source": [
        "## Filtrando un DataFrame (Indexing)\n",
        "\n",
        "Hay muchas técnicas para filtrar un DataFrame. Podemos querer filtrar por columnas o por filas, por posición o por nombre. También podemos querer filtrar por condiciones que se cumplen o no. Cuando no queremos filtrar sobre una dimensión (filas o columnas) usamos \":\" para seleccionar todo.\n",
        "\n",
        "Existe un método muy práctico con el cual podemos acceder a filas y columnas que se realiza mediante las instrucciones **`.iloc[]`** (utilizando el número de índice/posición) o usando **`.loc[]`** (mediante el nombre del índice o columna).\n",
        "\n",
        "\n",
        "\n",
        "```\n",
        "#con .iloc (selección implícita)\n",
        "NombreDataFrame.iloc[numero_filas, numero_columnas]\n",
        "\n",
        "#con .loc (selección explícita)\n",
        "NombreDataFrame.loc[nombre_indice, nombre_columnas]\n",
        "```\n",
        "\n",
        "![](https://shanelynnwebsite-mid9n9g1q9y8tt.netdna-ssl.com/wp-content/uploads/2016/10/Pandas-selections-and-indexing-1024x731.png)"
      ],
      "metadata": {
        "id": "nVU-KyNJyTy0"
      }
    },
    {
      "cell_type": "markdown",
      "metadata": {
        "id": "fGgxMGYYbgrw"
      },
      "source": [
        "### Boolean Indexing\n",
        "\n",
        "Supongamos que queremos tomar el dataset de funcionarios y quedarnos únicamente con los que pertenecen al Ministerio de Cultura.\n",
        "Para eso lo que hacemos es indexar al DataFrame por una condición booleana. Eso implica que debemos crear una serie compuesta por valores True y False para aplicarla como índice a las filas.\n",
        "\n",
        "Los operadores que sirven para evaluar condiciones sobre las series son:\n",
        "\n",
        "\n",
        "| S  | Descripción   | S  | Descripción   |   |\n",
        "|----|---------------|----|---------------|---|\n",
        "| >= | Mayor o Igual | <= | Menor o Igual |   |\n",
        "| == | Igual         | != | Distinto      |   |\n",
        "| >  | Mayor         | <  | Menor         |   |"
      ]
    },
    {
      "cell_type": "markdown",
      "metadata": {
        "id": "bYA8IIE_bgrw"
      },
      "source": [
        "#### Máscara booleana\n",
        "\n",
        "Veamos lo que pasa cuando le aplicamos a una serie una condición que devuelve un booleano"
      ]
    },
    {
      "cell_type": "code",
      "execution_count": 6,
      "metadata": {
        "id": "msAO-kbVbgrx",
        "outputId": "f8507b22-b1a1-48fb-f88a-fe29c65ea7e4",
        "colab": {
          "base_uri": "https://localhost:8080/"
        }
      },
      "outputs": [
        {
          "output_type": "execute_result",
          "data": {
            "text/plain": [
              "0      False\n",
              "1      False\n",
              "2      False\n",
              "3      False\n",
              "4      False\n",
              "       ...  \n",
              "380    False\n",
              "381     True\n",
              "382     True\n",
              "383    False\n",
              "384    False\n",
              "Name: asignacion_por_cargo_i, Length: 385, dtype: bool"
            ]
          },
          "metadata": {},
          "execution_count": 6
        }
      ],
      "source": [
        "df['asignacion_por_cargo_i'] > 270000"
      ]
    },
    {
      "cell_type": "markdown",
      "metadata": {
        "id": "mHS7hDQVbgrx"
      },
      "source": [
        "Nos devuelve una serie de la misma longitud que la original y que contiene sólo valores True o False. "
      ]
    },
    {
      "cell_type": "code",
      "execution_count": 16,
      "metadata": {
        "id": "ES0QPzOzbgrx"
      },
      "outputs": [],
      "source": [
        "mascara_booleana = df['asignacion_por_cargo_i'] > 270000"
      ]
    },
    {
      "cell_type": "code",
      "execution_count": null,
      "metadata": {
        "id": "vGFH4L_Xbgry",
        "outputId": "382d7f15-cad4-4d58-ec84-cd9e09366546",
        "colab": {
          "base_uri": "https://localhost:8080/"
        }
      },
      "outputs": [
        {
          "output_type": "execute_result",
          "data": {
            "text/plain": [
              "pandas.core.series.Series"
            ]
          },
          "metadata": {},
          "execution_count": 5
        }
      ],
      "source": [
        "type(mascara_booleana)"
      ]
    },
    {
      "cell_type": "code",
      "execution_count": null,
      "metadata": {
        "id": "Yd6A69rlbgry",
        "outputId": "0cd442d4-dde4-4b0d-c47b-85849ed610ef",
        "colab": {
          "base_uri": "https://localhost:8080/"
        }
      },
      "outputs": [
        {
          "output_type": "execute_result",
          "data": {
            "text/plain": [
              "(385,)"
            ]
          },
          "metadata": {},
          "execution_count": 23
        }
      ],
      "source": [
        "mascara_booleana.shape"
      ]
    },
    {
      "cell_type": "code",
      "execution_count": null,
      "metadata": {
        "id": "Th7GR2OMbgry",
        "outputId": "b7f96a6a-0ff6-48f9-95c2-ff861c085351",
        "colab": {
          "base_uri": "https://localhost:8080/"
        }
      },
      "outputs": [
        {
          "output_type": "execute_result",
          "data": {
            "text/plain": [
              "dtype('bool')"
            ]
          },
          "metadata": {},
          "execution_count": 24
        }
      ],
      "source": [
        "mascara_booleana.dtype"
      ]
    },
    {
      "cell_type": "markdown",
      "source": [
        "Como la máscara posee las posiciones donde se cumple o no la condición, luego podemos quedarnos con solo las filas que sí la cumplen por medio de indexar el dataframe con este Series resultante."
      ],
      "metadata": {
        "id": "blR8IB5feIXz"
      }
    },
    {
      "cell_type": "code",
      "source": [
        "df[mascara_booleana]"
      ],
      "metadata": {
        "id": "TL0764rEeZCV",
        "outputId": "6ef73f3a-69db-49c7-c22c-bfc2426775cb",
        "colab": {
          "base_uri": "https://localhost:8080/",
          "height": 1000
        }
      },
      "execution_count": 17,
      "outputs": [
        {
          "output_type": "execute_result",
          "data": {
            "text/plain": [
              "              cuil  anio  mes funcionario_apellido funcionario_nombre  \\\n",
              "252  27-24483014-0  2019    9                ACUÑA      MARIA SOLEDAD   \n",
              "253  20-13872301-2  2019    9             ASTARLOA      GABRIEL MARIA   \n",
              "254  20-25641207-2  2019    9             AVOGADRO       ENRIQUE LUIS   \n",
              "255  27-13221055-7  2019    9            BOU PEREZ          ANA MARIA   \n",
              "256  27-13092400-5  2019    9                FREDA     MONICA BEATRIZ   \n",
              "257  20-17110752-1  2019    9         MACCHIAVELLI    EDUARDO ALBERTO   \n",
              "258  20-22293873-3  2019    9               MIGUEL       FELIPE OSCAR   \n",
              "259  20-14699669-9  2019    9               MOCCIA             FRANCO   \n",
              "260  20-24941711-5  2019    9                 MURA             MARTIN   \n",
              "261  20-21981279-6  2019    9        SCRENCI SILVA        BRUNO GUIDO   \n",
              "262  27-24030362-6  2019    9          TAGLIAFERRI          GUADALUPE   \n",
              "263  20-23864572-8  2019    9             STRAFACE     FERNANDO DIEGO   \n",
              "283  27-24483014-0  2019   10                ACUÑA      MARIA SOLEDAD   \n",
              "284  20-13872301-2  2019   10             ASTARLOA      GABRIEL MARIA   \n",
              "285  20-25641207-2  2019   10             AVOGADRO       ENRIQUE LUIS   \n",
              "286  27-13221055-7  2019   10            BOU PEREZ          ANA MARIA   \n",
              "287  27-13092400-5  2019   10                FREDA     MONICA BEATRIZ   \n",
              "288  20-17110752-1  2019   10         MACCHIAVELLI    EDUARDO ALBERTO   \n",
              "289  20-22293873-3  2019   10               MIGUEL       FELIPE OSCAR   \n",
              "290  20-14699669-9  2019   10               MOCCIA             FRANCO   \n",
              "291  20-24941711-5  2019   10                 MURA             MARTIN   \n",
              "292  20-21981279-6  2019   10        SCRENCI SILVA        BRUNO GUIDO   \n",
              "293  27-24030362-6  2019   10          TAGLIAFERRI          GUADALUPE   \n",
              "294  20-23864572-8  2019   10             STRAFACE     FERNANDO DIEGO   \n",
              "314  27-24483014-0  2019   11                ACUÑA      MARIA SOLEDAD   \n",
              "315  20-13872301-2  2019   11             ASTARLOA      GABRIEL MARIA   \n",
              "316  20-25641207-2  2019   11             AVOGADRO       ENRIQUE LUIS   \n",
              "317  27-13221055-7  2019   11            BOU PEREZ          ANA MARIA   \n",
              "318  27-13092400-5  2019   11                FREDA     MONICA BEATRIZ   \n",
              "319  20-17110752-1  2019   11         MACCHIAVELLI    EDUARDO ALBERTO   \n",
              "320  20-22293873-3  2019   11               MIGUEL       FELIPE OSCAR   \n",
              "321  20-14699669-9  2019   11               MOCCIA             FRANCO   \n",
              "322  20-24941711-5  2019   11                 MURA             MARTIN   \n",
              "323  20-21981279-6  2019   11        SCRENCI SILVA        BRUNO GUIDO   \n",
              "324  27-24030362-6  2019   11          TAGLIAFERRI          GUADALUPE   \n",
              "325  20-23864572-8  2019   11             STRAFACE     FERNANDO DIEGO   \n",
              "365  27-13092400-5  2019   12                FREDA     MONICA BEATRIZ   \n",
              "367  27-24483014-0  2019   12                ACUÑA      MARIA SOLEDAD   \n",
              "368  20-25641207-2  2019   12             AVOGADRO       ENRIQUE LUIS   \n",
              "369  20-24941711-5  2019   12                 MURA             MARTIN   \n",
              "373  20-22293873-3  2019   12               MIGUEL       FELIPE OSCAR   \n",
              "374  20-13872301-2  2019   12             ASTARLOA      GABRIEL MARIA   \n",
              "381  20-23864572-8  2019   12             STRAFACE     FERNANDO DIEGO   \n",
              "382  20-21981279-6  2019   12        SCRENCI SILVA        BRUNO GUIDO   \n",
              "\n",
              "                                          reparticion  asignacion_por_cargo_i  \\\n",
              "252              Ministerio de Educación e Innovación               275089.75   \n",
              "253  Procuración General de la Ciudad de Buenos Aires               275089.75   \n",
              "254                             Ministerio de Cultura               275089.75   \n",
              "255                               Ministerio de Salud               275089.75   \n",
              "256  Sindicatura General de la Ciudad de Buenos Aires               275089.75   \n",
              "257          Ministerio de Ambiente y Espacio Público               275089.75   \n",
              "258                 Jefatura de Gabinete de Ministros               275089.75   \n",
              "259      Ministerio de Desarrollo Urbano y Transporte               275089.75   \n",
              "260                 Ministerio de Economía y Finanzas               275089.75   \n",
              "261                            Ministerio de Gobierno               275089.75   \n",
              "262         Ministerio de Hábitat y Desarrollo Humano               275089.75   \n",
              "263      SECR General y de Relaciones Internacionales               275089.75   \n",
              "283              Ministerio de Educación e Innovación               275089.75   \n",
              "284  Procuración General de la Ciudad de Buenos Aires               275089.75   \n",
              "285                             Ministerio de Cultura               275089.75   \n",
              "286                               Ministerio de Salud               275089.75   \n",
              "287  Sindicatura General de la Ciudad de Buenos Aires               275089.75   \n",
              "288          Ministerio de Ambiente y Espacio Público               275089.75   \n",
              "289                 Jefatura de Gabinete de Ministros               275089.75   \n",
              "290      Ministerio de Desarrollo Urbano y Transporte               275089.75   \n",
              "291                 Ministerio de Economía y Finanzas               275089.75   \n",
              "292                            Ministerio de Gobierno               275089.75   \n",
              "293         Ministerio de Hábitat y Desarrollo Humano               275089.75   \n",
              "294      SECR General y de Relaciones Internacionales               275089.75   \n",
              "314              Ministerio de Educación e Innovación               275089.75   \n",
              "315  Procuración General de la Ciudad de Buenos Aires               275089.75   \n",
              "316                             Ministerio de Cultura               275089.75   \n",
              "317                               Ministerio de Salud               275089.75   \n",
              "318  Sindicatura General de la Ciudad de Buenos Aires               275089.75   \n",
              "319          Ministerio de Ambiente y Espacio Público               275089.75   \n",
              "320                 Jefatura de Gabinete de Ministros               275089.75   \n",
              "321      Ministerio de Desarrollo Urbano y Transporte               275089.75   \n",
              "322                 Ministerio de Economía y Finanzas               275089.75   \n",
              "323                            Ministerio de Gobierno               275089.75   \n",
              "324         Ministerio de Hábitat y Desarrollo Humano               275089.75   \n",
              "325      SECR General y de Relaciones Internacionales               275089.75   \n",
              "365  Sindicatura General de la Ciudad de Buenos Aires               275089.75   \n",
              "367                           Ministerio de Educación               275089.75   \n",
              "368                             Ministerio de Cultura               275089.75   \n",
              "369                 Ministerio de Hacienda y Finanzas               275089.75   \n",
              "373                 Jefatura de Gabinete de Ministros               275089.75   \n",
              "374  Procuración General de la Ciudad de Buenos Aires               275089.75   \n",
              "381         SECR General y Relaciones Internacionales               275089.75   \n",
              "382                            Ministerio de Gobierno               275089.75   \n",
              "\n",
              "     aguinaldo_ii  total_salario_bruto_i_+_ii observaciones  \n",
              "252          0.00                   275089.75           NaN  \n",
              "253          0.00                   275089.75           NaN  \n",
              "254          0.00                   275089.75           NaN  \n",
              "255          0.00                   275089.75           NaN  \n",
              "256          0.00                   275089.75           NaN  \n",
              "257          0.00                   275089.75           NaN  \n",
              "258          0.00                   275089.75           NaN  \n",
              "259          0.00                   275089.75           NaN  \n",
              "260          0.00                   275089.75           NaN  \n",
              "261          0.00                   275089.75           NaN  \n",
              "262          0.00                   275089.75           NaN  \n",
              "263          0.00                   275089.75           NaN  \n",
              "283          0.00                   275089.75           NaN  \n",
              "284          0.00                   275089.75           NaN  \n",
              "285          0.00                   275089.75           NaN  \n",
              "286          0.00                   275089.75           NaN  \n",
              "287          0.00                   275089.75           NaN  \n",
              "288          0.00                   275089.75           NaN  \n",
              "289          0.00                   275089.75           NaN  \n",
              "290          0.00                   275089.75           NaN  \n",
              "291          0.00                   275089.75           NaN  \n",
              "292          0.00                   275089.75           NaN  \n",
              "293          0.00                   275089.75           NaN  \n",
              "294          0.00                   275089.75           NaN  \n",
              "314          0.00                   275089.75           NaN  \n",
              "315          0.00                   275089.75           NaN  \n",
              "316          0.00                   275089.75           NaN  \n",
              "317          0.00                   275089.75           NaN  \n",
              "318          0.00                   275089.75           NaN  \n",
              "319          0.00                   275089.75           NaN  \n",
              "320          0.00                   275089.75           NaN  \n",
              "321          0.00                   275089.75           NaN  \n",
              "322          0.00                   275089.75           NaN  \n",
              "323          0.00                   275089.75           NaN  \n",
              "324          0.00                   275089.75           NaN  \n",
              "325          0.00                   275089.75           NaN  \n",
              "365     137544.87                   412634.62           NaN  \n",
              "367     137544.87                   412634.62           NaN  \n",
              "368     137544.87                   412634.62           NaN  \n",
              "369     137544.87                   412634.62           NaN  \n",
              "373     137544.87                   412634.62           NaN  \n",
              "374     170855.56                   445945.31           NaN  \n",
              "381     137544.87                   412634.62           NaN  \n",
              "382     137544.87                   412634.62           NaN  "
            ],
            "text/html": [
              "\n",
              "  <div id=\"df-40349b88-b504-4d1d-b063-bf95bf3db373\">\n",
              "    <div class=\"colab-df-container\">\n",
              "      <div>\n",
              "<style scoped>\n",
              "    .dataframe tbody tr th:only-of-type {\n",
              "        vertical-align: middle;\n",
              "    }\n",
              "\n",
              "    .dataframe tbody tr th {\n",
              "        vertical-align: top;\n",
              "    }\n",
              "\n",
              "    .dataframe thead th {\n",
              "        text-align: right;\n",
              "    }\n",
              "</style>\n",
              "<table border=\"1\" class=\"dataframe\">\n",
              "  <thead>\n",
              "    <tr style=\"text-align: right;\">\n",
              "      <th></th>\n",
              "      <th>cuil</th>\n",
              "      <th>anio</th>\n",
              "      <th>mes</th>\n",
              "      <th>funcionario_apellido</th>\n",
              "      <th>funcionario_nombre</th>\n",
              "      <th>reparticion</th>\n",
              "      <th>asignacion_por_cargo_i</th>\n",
              "      <th>aguinaldo_ii</th>\n",
              "      <th>total_salario_bruto_i_+_ii</th>\n",
              "      <th>observaciones</th>\n",
              "    </tr>\n",
              "  </thead>\n",
              "  <tbody>\n",
              "    <tr>\n",
              "      <th>252</th>\n",
              "      <td>27-24483014-0</td>\n",
              "      <td>2019</td>\n",
              "      <td>9</td>\n",
              "      <td>ACUÑA</td>\n",
              "      <td>MARIA SOLEDAD</td>\n",
              "      <td>Ministerio de Educación e Innovación</td>\n",
              "      <td>275089.75</td>\n",
              "      <td>0.00</td>\n",
              "      <td>275089.75</td>\n",
              "      <td>NaN</td>\n",
              "    </tr>\n",
              "    <tr>\n",
              "      <th>253</th>\n",
              "      <td>20-13872301-2</td>\n",
              "      <td>2019</td>\n",
              "      <td>9</td>\n",
              "      <td>ASTARLOA</td>\n",
              "      <td>GABRIEL MARIA</td>\n",
              "      <td>Procuración General de la Ciudad de Buenos Aires</td>\n",
              "      <td>275089.75</td>\n",
              "      <td>0.00</td>\n",
              "      <td>275089.75</td>\n",
              "      <td>NaN</td>\n",
              "    </tr>\n",
              "    <tr>\n",
              "      <th>254</th>\n",
              "      <td>20-25641207-2</td>\n",
              "      <td>2019</td>\n",
              "      <td>9</td>\n",
              "      <td>AVOGADRO</td>\n",
              "      <td>ENRIQUE LUIS</td>\n",
              "      <td>Ministerio de Cultura</td>\n",
              "      <td>275089.75</td>\n",
              "      <td>0.00</td>\n",
              "      <td>275089.75</td>\n",
              "      <td>NaN</td>\n",
              "    </tr>\n",
              "    <tr>\n",
              "      <th>255</th>\n",
              "      <td>27-13221055-7</td>\n",
              "      <td>2019</td>\n",
              "      <td>9</td>\n",
              "      <td>BOU PEREZ</td>\n",
              "      <td>ANA MARIA</td>\n",
              "      <td>Ministerio de Salud</td>\n",
              "      <td>275089.75</td>\n",
              "      <td>0.00</td>\n",
              "      <td>275089.75</td>\n",
              "      <td>NaN</td>\n",
              "    </tr>\n",
              "    <tr>\n",
              "      <th>256</th>\n",
              "      <td>27-13092400-5</td>\n",
              "      <td>2019</td>\n",
              "      <td>9</td>\n",
              "      <td>FREDA</td>\n",
              "      <td>MONICA BEATRIZ</td>\n",
              "      <td>Sindicatura General de la Ciudad de Buenos Aires</td>\n",
              "      <td>275089.75</td>\n",
              "      <td>0.00</td>\n",
              "      <td>275089.75</td>\n",
              "      <td>NaN</td>\n",
              "    </tr>\n",
              "    <tr>\n",
              "      <th>257</th>\n",
              "      <td>20-17110752-1</td>\n",
              "      <td>2019</td>\n",
              "      <td>9</td>\n",
              "      <td>MACCHIAVELLI</td>\n",
              "      <td>EDUARDO ALBERTO</td>\n",
              "      <td>Ministerio de Ambiente y Espacio Público</td>\n",
              "      <td>275089.75</td>\n",
              "      <td>0.00</td>\n",
              "      <td>275089.75</td>\n",
              "      <td>NaN</td>\n",
              "    </tr>\n",
              "    <tr>\n",
              "      <th>258</th>\n",
              "      <td>20-22293873-3</td>\n",
              "      <td>2019</td>\n",
              "      <td>9</td>\n",
              "      <td>MIGUEL</td>\n",
              "      <td>FELIPE OSCAR</td>\n",
              "      <td>Jefatura de Gabinete de Ministros</td>\n",
              "      <td>275089.75</td>\n",
              "      <td>0.00</td>\n",
              "      <td>275089.75</td>\n",
              "      <td>NaN</td>\n",
              "    </tr>\n",
              "    <tr>\n",
              "      <th>259</th>\n",
              "      <td>20-14699669-9</td>\n",
              "      <td>2019</td>\n",
              "      <td>9</td>\n",
              "      <td>MOCCIA</td>\n",
              "      <td>FRANCO</td>\n",
              "      <td>Ministerio de Desarrollo Urbano y Transporte</td>\n",
              "      <td>275089.75</td>\n",
              "      <td>0.00</td>\n",
              "      <td>275089.75</td>\n",
              "      <td>NaN</td>\n",
              "    </tr>\n",
              "    <tr>\n",
              "      <th>260</th>\n",
              "      <td>20-24941711-5</td>\n",
              "      <td>2019</td>\n",
              "      <td>9</td>\n",
              "      <td>MURA</td>\n",
              "      <td>MARTIN</td>\n",
              "      <td>Ministerio de Economía y Finanzas</td>\n",
              "      <td>275089.75</td>\n",
              "      <td>0.00</td>\n",
              "      <td>275089.75</td>\n",
              "      <td>NaN</td>\n",
              "    </tr>\n",
              "    <tr>\n",
              "      <th>261</th>\n",
              "      <td>20-21981279-6</td>\n",
              "      <td>2019</td>\n",
              "      <td>9</td>\n",
              "      <td>SCRENCI SILVA</td>\n",
              "      <td>BRUNO GUIDO</td>\n",
              "      <td>Ministerio de Gobierno</td>\n",
              "      <td>275089.75</td>\n",
              "      <td>0.00</td>\n",
              "      <td>275089.75</td>\n",
              "      <td>NaN</td>\n",
              "    </tr>\n",
              "    <tr>\n",
              "      <th>262</th>\n",
              "      <td>27-24030362-6</td>\n",
              "      <td>2019</td>\n",
              "      <td>9</td>\n",
              "      <td>TAGLIAFERRI</td>\n",
              "      <td>GUADALUPE</td>\n",
              "      <td>Ministerio de Hábitat y Desarrollo Humano</td>\n",
              "      <td>275089.75</td>\n",
              "      <td>0.00</td>\n",
              "      <td>275089.75</td>\n",
              "      <td>NaN</td>\n",
              "    </tr>\n",
              "    <tr>\n",
              "      <th>263</th>\n",
              "      <td>20-23864572-8</td>\n",
              "      <td>2019</td>\n",
              "      <td>9</td>\n",
              "      <td>STRAFACE</td>\n",
              "      <td>FERNANDO DIEGO</td>\n",
              "      <td>SECR General y de Relaciones Internacionales</td>\n",
              "      <td>275089.75</td>\n",
              "      <td>0.00</td>\n",
              "      <td>275089.75</td>\n",
              "      <td>NaN</td>\n",
              "    </tr>\n",
              "    <tr>\n",
              "      <th>283</th>\n",
              "      <td>27-24483014-0</td>\n",
              "      <td>2019</td>\n",
              "      <td>10</td>\n",
              "      <td>ACUÑA</td>\n",
              "      <td>MARIA SOLEDAD</td>\n",
              "      <td>Ministerio de Educación e Innovación</td>\n",
              "      <td>275089.75</td>\n",
              "      <td>0.00</td>\n",
              "      <td>275089.75</td>\n",
              "      <td>NaN</td>\n",
              "    </tr>\n",
              "    <tr>\n",
              "      <th>284</th>\n",
              "      <td>20-13872301-2</td>\n",
              "      <td>2019</td>\n",
              "      <td>10</td>\n",
              "      <td>ASTARLOA</td>\n",
              "      <td>GABRIEL MARIA</td>\n",
              "      <td>Procuración General de la Ciudad de Buenos Aires</td>\n",
              "      <td>275089.75</td>\n",
              "      <td>0.00</td>\n",
              "      <td>275089.75</td>\n",
              "      <td>NaN</td>\n",
              "    </tr>\n",
              "    <tr>\n",
              "      <th>285</th>\n",
              "      <td>20-25641207-2</td>\n",
              "      <td>2019</td>\n",
              "      <td>10</td>\n",
              "      <td>AVOGADRO</td>\n",
              "      <td>ENRIQUE LUIS</td>\n",
              "      <td>Ministerio de Cultura</td>\n",
              "      <td>275089.75</td>\n",
              "      <td>0.00</td>\n",
              "      <td>275089.75</td>\n",
              "      <td>NaN</td>\n",
              "    </tr>\n",
              "    <tr>\n",
              "      <th>286</th>\n",
              "      <td>27-13221055-7</td>\n",
              "      <td>2019</td>\n",
              "      <td>10</td>\n",
              "      <td>BOU PEREZ</td>\n",
              "      <td>ANA MARIA</td>\n",
              "      <td>Ministerio de Salud</td>\n",
              "      <td>275089.75</td>\n",
              "      <td>0.00</td>\n",
              "      <td>275089.75</td>\n",
              "      <td>NaN</td>\n",
              "    </tr>\n",
              "    <tr>\n",
              "      <th>287</th>\n",
              "      <td>27-13092400-5</td>\n",
              "      <td>2019</td>\n",
              "      <td>10</td>\n",
              "      <td>FREDA</td>\n",
              "      <td>MONICA BEATRIZ</td>\n",
              "      <td>Sindicatura General de la Ciudad de Buenos Aires</td>\n",
              "      <td>275089.75</td>\n",
              "      <td>0.00</td>\n",
              "      <td>275089.75</td>\n",
              "      <td>NaN</td>\n",
              "    </tr>\n",
              "    <tr>\n",
              "      <th>288</th>\n",
              "      <td>20-17110752-1</td>\n",
              "      <td>2019</td>\n",
              "      <td>10</td>\n",
              "      <td>MACCHIAVELLI</td>\n",
              "      <td>EDUARDO ALBERTO</td>\n",
              "      <td>Ministerio de Ambiente y Espacio Público</td>\n",
              "      <td>275089.75</td>\n",
              "      <td>0.00</td>\n",
              "      <td>275089.75</td>\n",
              "      <td>NaN</td>\n",
              "    </tr>\n",
              "    <tr>\n",
              "      <th>289</th>\n",
              "      <td>20-22293873-3</td>\n",
              "      <td>2019</td>\n",
              "      <td>10</td>\n",
              "      <td>MIGUEL</td>\n",
              "      <td>FELIPE OSCAR</td>\n",
              "      <td>Jefatura de Gabinete de Ministros</td>\n",
              "      <td>275089.75</td>\n",
              "      <td>0.00</td>\n",
              "      <td>275089.75</td>\n",
              "      <td>NaN</td>\n",
              "    </tr>\n",
              "    <tr>\n",
              "      <th>290</th>\n",
              "      <td>20-14699669-9</td>\n",
              "      <td>2019</td>\n",
              "      <td>10</td>\n",
              "      <td>MOCCIA</td>\n",
              "      <td>FRANCO</td>\n",
              "      <td>Ministerio de Desarrollo Urbano y Transporte</td>\n",
              "      <td>275089.75</td>\n",
              "      <td>0.00</td>\n",
              "      <td>275089.75</td>\n",
              "      <td>NaN</td>\n",
              "    </tr>\n",
              "    <tr>\n",
              "      <th>291</th>\n",
              "      <td>20-24941711-5</td>\n",
              "      <td>2019</td>\n",
              "      <td>10</td>\n",
              "      <td>MURA</td>\n",
              "      <td>MARTIN</td>\n",
              "      <td>Ministerio de Economía y Finanzas</td>\n",
              "      <td>275089.75</td>\n",
              "      <td>0.00</td>\n",
              "      <td>275089.75</td>\n",
              "      <td>NaN</td>\n",
              "    </tr>\n",
              "    <tr>\n",
              "      <th>292</th>\n",
              "      <td>20-21981279-6</td>\n",
              "      <td>2019</td>\n",
              "      <td>10</td>\n",
              "      <td>SCRENCI SILVA</td>\n",
              "      <td>BRUNO GUIDO</td>\n",
              "      <td>Ministerio de Gobierno</td>\n",
              "      <td>275089.75</td>\n",
              "      <td>0.00</td>\n",
              "      <td>275089.75</td>\n",
              "      <td>NaN</td>\n",
              "    </tr>\n",
              "    <tr>\n",
              "      <th>293</th>\n",
              "      <td>27-24030362-6</td>\n",
              "      <td>2019</td>\n",
              "      <td>10</td>\n",
              "      <td>TAGLIAFERRI</td>\n",
              "      <td>GUADALUPE</td>\n",
              "      <td>Ministerio de Hábitat y Desarrollo Humano</td>\n",
              "      <td>275089.75</td>\n",
              "      <td>0.00</td>\n",
              "      <td>275089.75</td>\n",
              "      <td>NaN</td>\n",
              "    </tr>\n",
              "    <tr>\n",
              "      <th>294</th>\n",
              "      <td>20-23864572-8</td>\n",
              "      <td>2019</td>\n",
              "      <td>10</td>\n",
              "      <td>STRAFACE</td>\n",
              "      <td>FERNANDO DIEGO</td>\n",
              "      <td>SECR General y de Relaciones Internacionales</td>\n",
              "      <td>275089.75</td>\n",
              "      <td>0.00</td>\n",
              "      <td>275089.75</td>\n",
              "      <td>NaN</td>\n",
              "    </tr>\n",
              "    <tr>\n",
              "      <th>314</th>\n",
              "      <td>27-24483014-0</td>\n",
              "      <td>2019</td>\n",
              "      <td>11</td>\n",
              "      <td>ACUÑA</td>\n",
              "      <td>MARIA SOLEDAD</td>\n",
              "      <td>Ministerio de Educación e Innovación</td>\n",
              "      <td>275089.75</td>\n",
              "      <td>0.00</td>\n",
              "      <td>275089.75</td>\n",
              "      <td>NaN</td>\n",
              "    </tr>\n",
              "    <tr>\n",
              "      <th>315</th>\n",
              "      <td>20-13872301-2</td>\n",
              "      <td>2019</td>\n",
              "      <td>11</td>\n",
              "      <td>ASTARLOA</td>\n",
              "      <td>GABRIEL MARIA</td>\n",
              "      <td>Procuración General de la Ciudad de Buenos Aires</td>\n",
              "      <td>275089.75</td>\n",
              "      <td>0.00</td>\n",
              "      <td>275089.75</td>\n",
              "      <td>NaN</td>\n",
              "    </tr>\n",
              "    <tr>\n",
              "      <th>316</th>\n",
              "      <td>20-25641207-2</td>\n",
              "      <td>2019</td>\n",
              "      <td>11</td>\n",
              "      <td>AVOGADRO</td>\n",
              "      <td>ENRIQUE LUIS</td>\n",
              "      <td>Ministerio de Cultura</td>\n",
              "      <td>275089.75</td>\n",
              "      <td>0.00</td>\n",
              "      <td>275089.75</td>\n",
              "      <td>NaN</td>\n",
              "    </tr>\n",
              "    <tr>\n",
              "      <th>317</th>\n",
              "      <td>27-13221055-7</td>\n",
              "      <td>2019</td>\n",
              "      <td>11</td>\n",
              "      <td>BOU PEREZ</td>\n",
              "      <td>ANA MARIA</td>\n",
              "      <td>Ministerio de Salud</td>\n",
              "      <td>275089.75</td>\n",
              "      <td>0.00</td>\n",
              "      <td>275089.75</td>\n",
              "      <td>NaN</td>\n",
              "    </tr>\n",
              "    <tr>\n",
              "      <th>318</th>\n",
              "      <td>27-13092400-5</td>\n",
              "      <td>2019</td>\n",
              "      <td>11</td>\n",
              "      <td>FREDA</td>\n",
              "      <td>MONICA BEATRIZ</td>\n",
              "      <td>Sindicatura General de la Ciudad de Buenos Aires</td>\n",
              "      <td>275089.75</td>\n",
              "      <td>0.00</td>\n",
              "      <td>275089.75</td>\n",
              "      <td>NaN</td>\n",
              "    </tr>\n",
              "    <tr>\n",
              "      <th>319</th>\n",
              "      <td>20-17110752-1</td>\n",
              "      <td>2019</td>\n",
              "      <td>11</td>\n",
              "      <td>MACCHIAVELLI</td>\n",
              "      <td>EDUARDO ALBERTO</td>\n",
              "      <td>Ministerio de Ambiente y Espacio Público</td>\n",
              "      <td>275089.75</td>\n",
              "      <td>0.00</td>\n",
              "      <td>275089.75</td>\n",
              "      <td>NaN</td>\n",
              "    </tr>\n",
              "    <tr>\n",
              "      <th>320</th>\n",
              "      <td>20-22293873-3</td>\n",
              "      <td>2019</td>\n",
              "      <td>11</td>\n",
              "      <td>MIGUEL</td>\n",
              "      <td>FELIPE OSCAR</td>\n",
              "      <td>Jefatura de Gabinete de Ministros</td>\n",
              "      <td>275089.75</td>\n",
              "      <td>0.00</td>\n",
              "      <td>275089.75</td>\n",
              "      <td>NaN</td>\n",
              "    </tr>\n",
              "    <tr>\n",
              "      <th>321</th>\n",
              "      <td>20-14699669-9</td>\n",
              "      <td>2019</td>\n",
              "      <td>11</td>\n",
              "      <td>MOCCIA</td>\n",
              "      <td>FRANCO</td>\n",
              "      <td>Ministerio de Desarrollo Urbano y Transporte</td>\n",
              "      <td>275089.75</td>\n",
              "      <td>0.00</td>\n",
              "      <td>275089.75</td>\n",
              "      <td>NaN</td>\n",
              "    </tr>\n",
              "    <tr>\n",
              "      <th>322</th>\n",
              "      <td>20-24941711-5</td>\n",
              "      <td>2019</td>\n",
              "      <td>11</td>\n",
              "      <td>MURA</td>\n",
              "      <td>MARTIN</td>\n",
              "      <td>Ministerio de Economía y Finanzas</td>\n",
              "      <td>275089.75</td>\n",
              "      <td>0.00</td>\n",
              "      <td>275089.75</td>\n",
              "      <td>NaN</td>\n",
              "    </tr>\n",
              "    <tr>\n",
              "      <th>323</th>\n",
              "      <td>20-21981279-6</td>\n",
              "      <td>2019</td>\n",
              "      <td>11</td>\n",
              "      <td>SCRENCI SILVA</td>\n",
              "      <td>BRUNO GUIDO</td>\n",
              "      <td>Ministerio de Gobierno</td>\n",
              "      <td>275089.75</td>\n",
              "      <td>0.00</td>\n",
              "      <td>275089.75</td>\n",
              "      <td>NaN</td>\n",
              "    </tr>\n",
              "    <tr>\n",
              "      <th>324</th>\n",
              "      <td>27-24030362-6</td>\n",
              "      <td>2019</td>\n",
              "      <td>11</td>\n",
              "      <td>TAGLIAFERRI</td>\n",
              "      <td>GUADALUPE</td>\n",
              "      <td>Ministerio de Hábitat y Desarrollo Humano</td>\n",
              "      <td>275089.75</td>\n",
              "      <td>0.00</td>\n",
              "      <td>275089.75</td>\n",
              "      <td>NaN</td>\n",
              "    </tr>\n",
              "    <tr>\n",
              "      <th>325</th>\n",
              "      <td>20-23864572-8</td>\n",
              "      <td>2019</td>\n",
              "      <td>11</td>\n",
              "      <td>STRAFACE</td>\n",
              "      <td>FERNANDO DIEGO</td>\n",
              "      <td>SECR General y de Relaciones Internacionales</td>\n",
              "      <td>275089.75</td>\n",
              "      <td>0.00</td>\n",
              "      <td>275089.75</td>\n",
              "      <td>NaN</td>\n",
              "    </tr>\n",
              "    <tr>\n",
              "      <th>365</th>\n",
              "      <td>27-13092400-5</td>\n",
              "      <td>2019</td>\n",
              "      <td>12</td>\n",
              "      <td>FREDA</td>\n",
              "      <td>MONICA BEATRIZ</td>\n",
              "      <td>Sindicatura General de la Ciudad de Buenos Aires</td>\n",
              "      <td>275089.75</td>\n",
              "      <td>137544.87</td>\n",
              "      <td>412634.62</td>\n",
              "      <td>NaN</td>\n",
              "    </tr>\n",
              "    <tr>\n",
              "      <th>367</th>\n",
              "      <td>27-24483014-0</td>\n",
              "      <td>2019</td>\n",
              "      <td>12</td>\n",
              "      <td>ACUÑA</td>\n",
              "      <td>MARIA SOLEDAD</td>\n",
              "      <td>Ministerio de Educación</td>\n",
              "      <td>275089.75</td>\n",
              "      <td>137544.87</td>\n",
              "      <td>412634.62</td>\n",
              "      <td>NaN</td>\n",
              "    </tr>\n",
              "    <tr>\n",
              "      <th>368</th>\n",
              "      <td>20-25641207-2</td>\n",
              "      <td>2019</td>\n",
              "      <td>12</td>\n",
              "      <td>AVOGADRO</td>\n",
              "      <td>ENRIQUE LUIS</td>\n",
              "      <td>Ministerio de Cultura</td>\n",
              "      <td>275089.75</td>\n",
              "      <td>137544.87</td>\n",
              "      <td>412634.62</td>\n",
              "      <td>NaN</td>\n",
              "    </tr>\n",
              "    <tr>\n",
              "      <th>369</th>\n",
              "      <td>20-24941711-5</td>\n",
              "      <td>2019</td>\n",
              "      <td>12</td>\n",
              "      <td>MURA</td>\n",
              "      <td>MARTIN</td>\n",
              "      <td>Ministerio de Hacienda y Finanzas</td>\n",
              "      <td>275089.75</td>\n",
              "      <td>137544.87</td>\n",
              "      <td>412634.62</td>\n",
              "      <td>NaN</td>\n",
              "    </tr>\n",
              "    <tr>\n",
              "      <th>373</th>\n",
              "      <td>20-22293873-3</td>\n",
              "      <td>2019</td>\n",
              "      <td>12</td>\n",
              "      <td>MIGUEL</td>\n",
              "      <td>FELIPE OSCAR</td>\n",
              "      <td>Jefatura de Gabinete de Ministros</td>\n",
              "      <td>275089.75</td>\n",
              "      <td>137544.87</td>\n",
              "      <td>412634.62</td>\n",
              "      <td>NaN</td>\n",
              "    </tr>\n",
              "    <tr>\n",
              "      <th>374</th>\n",
              "      <td>20-13872301-2</td>\n",
              "      <td>2019</td>\n",
              "      <td>12</td>\n",
              "      <td>ASTARLOA</td>\n",
              "      <td>GABRIEL MARIA</td>\n",
              "      <td>Procuración General de la Ciudad de Buenos Aires</td>\n",
              "      <td>275089.75</td>\n",
              "      <td>170855.56</td>\n",
              "      <td>445945.31</td>\n",
              "      <td>NaN</td>\n",
              "    </tr>\n",
              "    <tr>\n",
              "      <th>381</th>\n",
              "      <td>20-23864572-8</td>\n",
              "      <td>2019</td>\n",
              "      <td>12</td>\n",
              "      <td>STRAFACE</td>\n",
              "      <td>FERNANDO DIEGO</td>\n",
              "      <td>SECR General y Relaciones Internacionales</td>\n",
              "      <td>275089.75</td>\n",
              "      <td>137544.87</td>\n",
              "      <td>412634.62</td>\n",
              "      <td>NaN</td>\n",
              "    </tr>\n",
              "    <tr>\n",
              "      <th>382</th>\n",
              "      <td>20-21981279-6</td>\n",
              "      <td>2019</td>\n",
              "      <td>12</td>\n",
              "      <td>SCRENCI SILVA</td>\n",
              "      <td>BRUNO GUIDO</td>\n",
              "      <td>Ministerio de Gobierno</td>\n",
              "      <td>275089.75</td>\n",
              "      <td>137544.87</td>\n",
              "      <td>412634.62</td>\n",
              "      <td>NaN</td>\n",
              "    </tr>\n",
              "  </tbody>\n",
              "</table>\n",
              "</div>\n",
              "      <button class=\"colab-df-convert\" onclick=\"convertToInteractive('df-40349b88-b504-4d1d-b063-bf95bf3db373')\"\n",
              "              title=\"Convert this dataframe to an interactive table.\"\n",
              "              style=\"display:none;\">\n",
              "        \n",
              "  <svg xmlns=\"http://www.w3.org/2000/svg\" height=\"24px\"viewBox=\"0 0 24 24\"\n",
              "       width=\"24px\">\n",
              "    <path d=\"M0 0h24v24H0V0z\" fill=\"none\"/>\n",
              "    <path d=\"M18.56 5.44l.94 2.06.94-2.06 2.06-.94-2.06-.94-.94-2.06-.94 2.06-2.06.94zm-11 1L8.5 8.5l.94-2.06 2.06-.94-2.06-.94L8.5 2.5l-.94 2.06-2.06.94zm10 10l.94 2.06.94-2.06 2.06-.94-2.06-.94-.94-2.06-.94 2.06-2.06.94z\"/><path d=\"M17.41 7.96l-1.37-1.37c-.4-.4-.92-.59-1.43-.59-.52 0-1.04.2-1.43.59L10.3 9.45l-7.72 7.72c-.78.78-.78 2.05 0 2.83L4 21.41c.39.39.9.59 1.41.59.51 0 1.02-.2 1.41-.59l7.78-7.78 2.81-2.81c.8-.78.8-2.07 0-2.86zM5.41 20L4 18.59l7.72-7.72 1.47 1.35L5.41 20z\"/>\n",
              "  </svg>\n",
              "      </button>\n",
              "      \n",
              "  <style>\n",
              "    .colab-df-container {\n",
              "      display:flex;\n",
              "      flex-wrap:wrap;\n",
              "      gap: 12px;\n",
              "    }\n",
              "\n",
              "    .colab-df-convert {\n",
              "      background-color: #E8F0FE;\n",
              "      border: none;\n",
              "      border-radius: 50%;\n",
              "      cursor: pointer;\n",
              "      display: none;\n",
              "      fill: #1967D2;\n",
              "      height: 32px;\n",
              "      padding: 0 0 0 0;\n",
              "      width: 32px;\n",
              "    }\n",
              "\n",
              "    .colab-df-convert:hover {\n",
              "      background-color: #E2EBFA;\n",
              "      box-shadow: 0px 1px 2px rgba(60, 64, 67, 0.3), 0px 1px 3px 1px rgba(60, 64, 67, 0.15);\n",
              "      fill: #174EA6;\n",
              "    }\n",
              "\n",
              "    [theme=dark] .colab-df-convert {\n",
              "      background-color: #3B4455;\n",
              "      fill: #D2E3FC;\n",
              "    }\n",
              "\n",
              "    [theme=dark] .colab-df-convert:hover {\n",
              "      background-color: #434B5C;\n",
              "      box-shadow: 0px 1px 3px 1px rgba(0, 0, 0, 0.15);\n",
              "      filter: drop-shadow(0px 1px 2px rgba(0, 0, 0, 0.3));\n",
              "      fill: #FFFFFF;\n",
              "    }\n",
              "  </style>\n",
              "\n",
              "      <script>\n",
              "        const buttonEl =\n",
              "          document.querySelector('#df-40349b88-b504-4d1d-b063-bf95bf3db373 button.colab-df-convert');\n",
              "        buttonEl.style.display =\n",
              "          google.colab.kernel.accessAllowed ? 'block' : 'none';\n",
              "\n",
              "        async function convertToInteractive(key) {\n",
              "          const element = document.querySelector('#df-40349b88-b504-4d1d-b063-bf95bf3db373');\n",
              "          const dataTable =\n",
              "            await google.colab.kernel.invokeFunction('convertToInteractive',\n",
              "                                                     [key], {});\n",
              "          if (!dataTable) return;\n",
              "\n",
              "          const docLinkHtml = 'Like what you see? Visit the ' +\n",
              "            '<a target=\"_blank\" href=https://colab.research.google.com/notebooks/data_table.ipynb>data table notebook</a>'\n",
              "            + ' to learn more about interactive tables.';\n",
              "          element.innerHTML = '';\n",
              "          dataTable['output_type'] = 'display_data';\n",
              "          await google.colab.output.renderOutput(dataTable, element);\n",
              "          const docLink = document.createElement('div');\n",
              "          docLink.innerHTML = docLinkHtml;\n",
              "          element.appendChild(docLink);\n",
              "        }\n",
              "      </script>\n",
              "    </div>\n",
              "  </div>\n",
              "  "
            ]
          },
          "metadata": {},
          "execution_count": 17
        }
      ]
    },
    {
      "cell_type": "markdown",
      "metadata": {
        "id": "GISuzHGdbgry"
      },
      "source": [
        "Ahora seleccionemos entonces, los registros que corresponden al Ministerio de Cultura."
      ]
    },
    {
      "cell_type": "code",
      "execution_count": null,
      "metadata": {
        "id": "3pDK1b5Ubgrz"
      },
      "outputs": [],
      "source": [
        "df_min_cul = df.loc[df['reparticion'] == 'Ministerio de Cultura',:]"
      ]
    },
    {
      "cell_type": "code",
      "execution_count": null,
      "metadata": {
        "id": "M7UTc7rxbgrz",
        "outputId": "0f8ea2fb-e247-41a7-bb81-fd09235d5b5a",
        "colab": {
          "base_uri": "https://localhost:8080/"
        }
      },
      "outputs": [
        {
          "output_type": "execute_result",
          "data": {
            "text/plain": [
              "(12, 10)"
            ]
          },
          "metadata": {},
          "execution_count": 7
        }
      ],
      "source": [
        "# Veamos la cantidad de casos\n",
        "df_min_cul.shape"
      ]
    },
    {
      "cell_type": "markdown",
      "metadata": {
        "id": "6pwJlhaObgr0"
      },
      "source": [
        "Algo que puede llegar a confundir sobre el Indexing en Pandas es que en algunos casos se puede ser menos explícito a la hora de filtrar. Por ejemplo si ponemos una condición Booleana, pandas asume que el tipo de indexing es loc y que el filtro es sobre las filas y no sobre las columnas:\n"
      ]
    },
    {
      "cell_type": "code",
      "execution_count": null,
      "metadata": {
        "id": "piT3y3NPbgr1"
      },
      "outputs": [],
      "source": [
        "df_min_cul = df[df['reparticion'] == 'Ministerio de Cultura']"
      ]
    },
    {
      "cell_type": "code",
      "execution_count": null,
      "metadata": {
        "id": "XBFJ7iY3bgr1",
        "outputId": "4e2531c3-21f0-4982-ce08-02da2d4549be",
        "colab": {
          "base_uri": "https://localhost:8080/"
        }
      },
      "outputs": [
        {
          "output_type": "execute_result",
          "data": {
            "text/plain": [
              "(12, 10)"
            ]
          },
          "metadata": {},
          "execution_count": 9
        }
      ],
      "source": [
        "df_min_cul.shape"
      ]
    },
    {
      "cell_type": "markdown",
      "metadata": {
        "id": "BHbds_hZbgr1"
      },
      "source": [
        "Probemos con otra condición.\n",
        "\n",
        "### Ejercicio sueldos mitad de año\n",
        "\n",
        "Traer todos los sueldos de la segunda mitad del año..."
      ]
    },
    {
      "cell_type": "code",
      "source": [],
      "metadata": {
        "id": "xW7x-hiL5dgD"
      },
      "execution_count": null,
      "outputs": []
    },
    {
      "cell_type": "markdown",
      "metadata": {
        "id": "nXldedjBbgr2"
      },
      "source": [
        "### Ejercicio Titanic sobrevientes\n",
        "Volviendo al DataFrame del Titanic ¿Cuántos pasajeros sobrevivieron y cuántos no? "
      ]
    },
    {
      "cell_type": "code",
      "execution_count": null,
      "metadata": {
        "id": "UhXVRAHmbgr2"
      },
      "outputs": [],
      "source": []
    },
    {
      "cell_type": "code",
      "source": [],
      "metadata": {
        "id": "6dePEW1q-iJu"
      },
      "execution_count": null,
      "outputs": []
    },
    {
      "cell_type": "markdown",
      "metadata": {
        "id": "8xPqIKXzbgr2"
      },
      "source": [
        "#### Máscara booleana con muchas condiciones\n",
        "\n",
        "Ahora tratemos de filtrar el dataset por dos condiciones: por ejemplo tomar los sueldos de abril de la secretaria de innovación. \n",
        "Para eso tenemos que combinar dos máscaras booleanas con una condición.\n",
        "\n",
        "| S | Descripcion        | S  | Descripcion |   |\n",
        "|---|--------------------|----|-------------|---|\n",
        "| & | AND (y)            | \\| | OR (o)      |   |\n",
        "| ^ | XOR (o exclusivo)  | ~  | NOT (no)    |   |\n",
        "\n",
        "\n",
        "\n",
        "Por ejemplo: seleccionemos los casos donde o bien se haya cobrado aguinaldo o bien el salario total haya sido mayor que 240.000, pero no las dos cosas. \n"
      ]
    },
    {
      "cell_type": "code",
      "execution_count": null,
      "metadata": {
        "id": "td2ToapWbgr3",
        "outputId": "f1b73eec-836f-421a-d8dd-1a3d1733222e",
        "colab": {
          "base_uri": "https://localhost:8080/",
          "height": 869
        }
      },
      "outputs": [
        {
          "output_type": "execute_result",
          "data": {
            "text/plain": [
              "              cuil  anio  mes funcionario_apellido funcionario_nombre  \\\n",
              "55   20-26781618-3  2019    2                LARRE       PEDRO ANDRES   \n",
              "97   27-24483014-0  2019    4                ACUÑA      MARIA SOLEDAD   \n",
              "98   20-13872301-2  2019    4             ASTARLOA      GABRIEL MARIA   \n",
              "99   20-25641207-2  2019    4             AVOGADRO       ENRIQUE LUIS   \n",
              "100  27-13221055-7  2019    4            BOU PEREZ          ANA MARIA   \n",
              "..             ...   ...  ...                  ...                ...   \n",
              "360  20-28908968-4  2019   12       COELHO CHICANO          CHRISTIAN   \n",
              "361  20-28908968-4  2019   12       COELHO CHICANO          CHRISTIAN   \n",
              "362  20-24424714-9  2019   12         D'ALESSANDRO     MARCELO SILVIO   \n",
              "363  20-24424714-9  2019   12         D'ALESSANDRO     MARCELO SILVIO   \n",
              "384  27-27011181-0  2019   12            FERNANDEZ     KARINA BEATRIZ   \n",
              "\n",
              "                                          reparticion  asignacion_por_cargo_i  \\\n",
              "55              SECR Ciencia, Tecnologia e Innovacion               204017.27   \n",
              "97               Ministerio de Educación e Innovación               249661.60   \n",
              "98   Procuración General de la Ciudad de Buenos Aires               249661.60   \n",
              "99                              Ministerio de Cultura               249661.60   \n",
              "100                               Ministerio de Salud               249661.60   \n",
              "..                                                ...                     ...   \n",
              "360                                     SS Contenidos                74991.86   \n",
              "361                                    SECR de Medios               187539.45   \n",
              "362                         SECR Justicia y Seguridad                74991.86   \n",
              "363                         SECR Justicia y Seguridad               187539.45   \n",
              "384                         SECR Asuntos Estratégicos               187539.45   \n",
              "\n",
              "     aguinaldo_ii  total_salario_bruto_i_+_ii        observaciones  \n",
              "55       34002.88                   238020.15       baja 28/2/2019  \n",
              "97           0.00                   249661.60                  NaN  \n",
              "98           0.00                   249661.60                  NaN  \n",
              "99           0.00                   249661.60                  NaN  \n",
              "100          0.00                   249661.60                  NaN  \n",
              "..            ...                         ...                  ...  \n",
              "360     110404.68                   185396.54         baja al 9/12  \n",
              "361      15628.29                   203167.74  alta desde el 10/12  \n",
              "362     110404.68                   185396.54         baja al 9/12  \n",
              "363      15628.29                   203167.74  alta desde el 10/12  \n",
              "384      15628.29                   203167.74  alta desde el 10/12  \n",
              "\n",
              "[170 rows x 10 columns]"
            ],
            "text/html": [
              "\n",
              "  <div id=\"df-8e63d1d0-1677-48be-9345-d4dc7c25ff07\">\n",
              "    <div class=\"colab-df-container\">\n",
              "      <div>\n",
              "<style scoped>\n",
              "    .dataframe tbody tr th:only-of-type {\n",
              "        vertical-align: middle;\n",
              "    }\n",
              "\n",
              "    .dataframe tbody tr th {\n",
              "        vertical-align: top;\n",
              "    }\n",
              "\n",
              "    .dataframe thead th {\n",
              "        text-align: right;\n",
              "    }\n",
              "</style>\n",
              "<table border=\"1\" class=\"dataframe\">\n",
              "  <thead>\n",
              "    <tr style=\"text-align: right;\">\n",
              "      <th></th>\n",
              "      <th>cuil</th>\n",
              "      <th>anio</th>\n",
              "      <th>mes</th>\n",
              "      <th>funcionario_apellido</th>\n",
              "      <th>funcionario_nombre</th>\n",
              "      <th>reparticion</th>\n",
              "      <th>asignacion_por_cargo_i</th>\n",
              "      <th>aguinaldo_ii</th>\n",
              "      <th>total_salario_bruto_i_+_ii</th>\n",
              "      <th>observaciones</th>\n",
              "    </tr>\n",
              "  </thead>\n",
              "  <tbody>\n",
              "    <tr>\n",
              "      <th>55</th>\n",
              "      <td>20-26781618-3</td>\n",
              "      <td>2019</td>\n",
              "      <td>2</td>\n",
              "      <td>LARRE</td>\n",
              "      <td>PEDRO ANDRES</td>\n",
              "      <td>SECR Ciencia, Tecnologia e Innovacion</td>\n",
              "      <td>204017.27</td>\n",
              "      <td>34002.88</td>\n",
              "      <td>238020.15</td>\n",
              "      <td>baja 28/2/2019</td>\n",
              "    </tr>\n",
              "    <tr>\n",
              "      <th>97</th>\n",
              "      <td>27-24483014-0</td>\n",
              "      <td>2019</td>\n",
              "      <td>4</td>\n",
              "      <td>ACUÑA</td>\n",
              "      <td>MARIA SOLEDAD</td>\n",
              "      <td>Ministerio de Educación e Innovación</td>\n",
              "      <td>249661.60</td>\n",
              "      <td>0.00</td>\n",
              "      <td>249661.60</td>\n",
              "      <td>NaN</td>\n",
              "    </tr>\n",
              "    <tr>\n",
              "      <th>98</th>\n",
              "      <td>20-13872301-2</td>\n",
              "      <td>2019</td>\n",
              "      <td>4</td>\n",
              "      <td>ASTARLOA</td>\n",
              "      <td>GABRIEL MARIA</td>\n",
              "      <td>Procuración General de la Ciudad de Buenos Aires</td>\n",
              "      <td>249661.60</td>\n",
              "      <td>0.00</td>\n",
              "      <td>249661.60</td>\n",
              "      <td>NaN</td>\n",
              "    </tr>\n",
              "    <tr>\n",
              "      <th>99</th>\n",
              "      <td>20-25641207-2</td>\n",
              "      <td>2019</td>\n",
              "      <td>4</td>\n",
              "      <td>AVOGADRO</td>\n",
              "      <td>ENRIQUE LUIS</td>\n",
              "      <td>Ministerio de Cultura</td>\n",
              "      <td>249661.60</td>\n",
              "      <td>0.00</td>\n",
              "      <td>249661.60</td>\n",
              "      <td>NaN</td>\n",
              "    </tr>\n",
              "    <tr>\n",
              "      <th>100</th>\n",
              "      <td>27-13221055-7</td>\n",
              "      <td>2019</td>\n",
              "      <td>4</td>\n",
              "      <td>BOU PEREZ</td>\n",
              "      <td>ANA MARIA</td>\n",
              "      <td>Ministerio de Salud</td>\n",
              "      <td>249661.60</td>\n",
              "      <td>0.00</td>\n",
              "      <td>249661.60</td>\n",
              "      <td>NaN</td>\n",
              "    </tr>\n",
              "    <tr>\n",
              "      <th>...</th>\n",
              "      <td>...</td>\n",
              "      <td>...</td>\n",
              "      <td>...</td>\n",
              "      <td>...</td>\n",
              "      <td>...</td>\n",
              "      <td>...</td>\n",
              "      <td>...</td>\n",
              "      <td>...</td>\n",
              "      <td>...</td>\n",
              "      <td>...</td>\n",
              "    </tr>\n",
              "    <tr>\n",
              "      <th>360</th>\n",
              "      <td>20-28908968-4</td>\n",
              "      <td>2019</td>\n",
              "      <td>12</td>\n",
              "      <td>COELHO CHICANO</td>\n",
              "      <td>CHRISTIAN</td>\n",
              "      <td>SS Contenidos</td>\n",
              "      <td>74991.86</td>\n",
              "      <td>110404.68</td>\n",
              "      <td>185396.54</td>\n",
              "      <td>baja al 9/12</td>\n",
              "    </tr>\n",
              "    <tr>\n",
              "      <th>361</th>\n",
              "      <td>20-28908968-4</td>\n",
              "      <td>2019</td>\n",
              "      <td>12</td>\n",
              "      <td>COELHO CHICANO</td>\n",
              "      <td>CHRISTIAN</td>\n",
              "      <td>SECR de Medios</td>\n",
              "      <td>187539.45</td>\n",
              "      <td>15628.29</td>\n",
              "      <td>203167.74</td>\n",
              "      <td>alta desde el 10/12</td>\n",
              "    </tr>\n",
              "    <tr>\n",
              "      <th>362</th>\n",
              "      <td>20-24424714-9</td>\n",
              "      <td>2019</td>\n",
              "      <td>12</td>\n",
              "      <td>D'ALESSANDRO</td>\n",
              "      <td>MARCELO SILVIO</td>\n",
              "      <td>SECR Justicia y Seguridad</td>\n",
              "      <td>74991.86</td>\n",
              "      <td>110404.68</td>\n",
              "      <td>185396.54</td>\n",
              "      <td>baja al 9/12</td>\n",
              "    </tr>\n",
              "    <tr>\n",
              "      <th>363</th>\n",
              "      <td>20-24424714-9</td>\n",
              "      <td>2019</td>\n",
              "      <td>12</td>\n",
              "      <td>D'ALESSANDRO</td>\n",
              "      <td>MARCELO SILVIO</td>\n",
              "      <td>SECR Justicia y Seguridad</td>\n",
              "      <td>187539.45</td>\n",
              "      <td>15628.29</td>\n",
              "      <td>203167.74</td>\n",
              "      <td>alta desde el 10/12</td>\n",
              "    </tr>\n",
              "    <tr>\n",
              "      <th>384</th>\n",
              "      <td>27-27011181-0</td>\n",
              "      <td>2019</td>\n",
              "      <td>12</td>\n",
              "      <td>FERNANDEZ</td>\n",
              "      <td>KARINA BEATRIZ</td>\n",
              "      <td>SECR Asuntos Estratégicos</td>\n",
              "      <td>187539.45</td>\n",
              "      <td>15628.29</td>\n",
              "      <td>203167.74</td>\n",
              "      <td>alta desde el 10/12</td>\n",
              "    </tr>\n",
              "  </tbody>\n",
              "</table>\n",
              "<p>170 rows × 10 columns</p>\n",
              "</div>\n",
              "      <button class=\"colab-df-convert\" onclick=\"convertToInteractive('df-8e63d1d0-1677-48be-9345-d4dc7c25ff07')\"\n",
              "              title=\"Convert this dataframe to an interactive table.\"\n",
              "              style=\"display:none;\">\n",
              "        \n",
              "  <svg xmlns=\"http://www.w3.org/2000/svg\" height=\"24px\"viewBox=\"0 0 24 24\"\n",
              "       width=\"24px\">\n",
              "    <path d=\"M0 0h24v24H0V0z\" fill=\"none\"/>\n",
              "    <path d=\"M18.56 5.44l.94 2.06.94-2.06 2.06-.94-2.06-.94-.94-2.06-.94 2.06-2.06.94zm-11 1L8.5 8.5l.94-2.06 2.06-.94-2.06-.94L8.5 2.5l-.94 2.06-2.06.94zm10 10l.94 2.06.94-2.06 2.06-.94-2.06-.94-.94-2.06-.94 2.06-2.06.94z\"/><path d=\"M17.41 7.96l-1.37-1.37c-.4-.4-.92-.59-1.43-.59-.52 0-1.04.2-1.43.59L10.3 9.45l-7.72 7.72c-.78.78-.78 2.05 0 2.83L4 21.41c.39.39.9.59 1.41.59.51 0 1.02-.2 1.41-.59l7.78-7.78 2.81-2.81c.8-.78.8-2.07 0-2.86zM5.41 20L4 18.59l7.72-7.72 1.47 1.35L5.41 20z\"/>\n",
              "  </svg>\n",
              "      </button>\n",
              "      \n",
              "  <style>\n",
              "    .colab-df-container {\n",
              "      display:flex;\n",
              "      flex-wrap:wrap;\n",
              "      gap: 12px;\n",
              "    }\n",
              "\n",
              "    .colab-df-convert {\n",
              "      background-color: #E8F0FE;\n",
              "      border: none;\n",
              "      border-radius: 50%;\n",
              "      cursor: pointer;\n",
              "      display: none;\n",
              "      fill: #1967D2;\n",
              "      height: 32px;\n",
              "      padding: 0 0 0 0;\n",
              "      width: 32px;\n",
              "    }\n",
              "\n",
              "    .colab-df-convert:hover {\n",
              "      background-color: #E2EBFA;\n",
              "      box-shadow: 0px 1px 2px rgba(60, 64, 67, 0.3), 0px 1px 3px 1px rgba(60, 64, 67, 0.15);\n",
              "      fill: #174EA6;\n",
              "    }\n",
              "\n",
              "    [theme=dark] .colab-df-convert {\n",
              "      background-color: #3B4455;\n",
              "      fill: #D2E3FC;\n",
              "    }\n",
              "\n",
              "    [theme=dark] .colab-df-convert:hover {\n",
              "      background-color: #434B5C;\n",
              "      box-shadow: 0px 1px 3px 1px rgba(0, 0, 0, 0.15);\n",
              "      filter: drop-shadow(0px 1px 2px rgba(0, 0, 0, 0.3));\n",
              "      fill: #FFFFFF;\n",
              "    }\n",
              "  </style>\n",
              "\n",
              "      <script>\n",
              "        const buttonEl =\n",
              "          document.querySelector('#df-8e63d1d0-1677-48be-9345-d4dc7c25ff07 button.colab-df-convert');\n",
              "        buttonEl.style.display =\n",
              "          google.colab.kernel.accessAllowed ? 'block' : 'none';\n",
              "\n",
              "        async function convertToInteractive(key) {\n",
              "          const element = document.querySelector('#df-8e63d1d0-1677-48be-9345-d4dc7c25ff07');\n",
              "          const dataTable =\n",
              "            await google.colab.kernel.invokeFunction('convertToInteractive',\n",
              "                                                     [key], {});\n",
              "          if (!dataTable) return;\n",
              "\n",
              "          const docLinkHtml = 'Like what you see? Visit the ' +\n",
              "            '<a target=\"_blank\" href=https://colab.research.google.com/notebooks/data_table.ipynb>data table notebook</a>'\n",
              "            + ' to learn more about interactive tables.';\n",
              "          element.innerHTML = '';\n",
              "          dataTable['output_type'] = 'display_data';\n",
              "          await google.colab.output.renderOutput(dataTable, element);\n",
              "          const docLink = document.createElement('div');\n",
              "          docLink.innerHTML = docLinkHtml;\n",
              "          element.appendChild(docLink);\n",
              "        }\n",
              "      </script>\n",
              "    </div>\n",
              "  </div>\n",
              "  "
            ]
          },
          "metadata": {},
          "execution_count": 16
        }
      ],
      "source": [
        "df[(df['total_salario_bruto_i_+_ii'] > 240000) ^ (df['aguinaldo_ii'] > 0)]"
      ]
    },
    {
      "cell_type": "markdown",
      "metadata": {
        "id": "SOJxVc5Bbgr3"
      },
      "source": [
        "Ahora veamos los sueldos de febrero de la SECR Ciencia, Tecnologia e Innovacion."
      ]
    },
    {
      "cell_type": "code",
      "execution_count": null,
      "metadata": {
        "id": "OWOkINiZbgr3",
        "outputId": "a1497372-4e35-4e80-f638-1e94fd331036",
        "colab": {
          "base_uri": "https://localhost:8080/",
          "height": 197
        }
      },
      "outputs": [
        {
          "output_type": "execute_result",
          "data": {
            "text/plain": [
              "             cuil  anio  mes funcionario_apellido funcionario_nombre  \\\n",
              "55  20-26781618-3  2019    2                LARRE       PEDRO ANDRES   \n",
              "\n",
              "                              reparticion  asignacion_por_cargo_i  \\\n",
              "55  SECR Ciencia, Tecnologia e Innovacion               204017.27   \n",
              "\n",
              "    aguinaldo_ii  total_salario_bruto_i_+_ii   observaciones  \n",
              "55      34002.88                   238020.15  baja 28/2/2019  "
            ],
            "text/html": [
              "\n",
              "  <div id=\"df-b1c0bc6c-dbb4-4c8e-af8d-e050d903ea85\">\n",
              "    <div class=\"colab-df-container\">\n",
              "      <div>\n",
              "<style scoped>\n",
              "    .dataframe tbody tr th:only-of-type {\n",
              "        vertical-align: middle;\n",
              "    }\n",
              "\n",
              "    .dataframe tbody tr th {\n",
              "        vertical-align: top;\n",
              "    }\n",
              "\n",
              "    .dataframe thead th {\n",
              "        text-align: right;\n",
              "    }\n",
              "</style>\n",
              "<table border=\"1\" class=\"dataframe\">\n",
              "  <thead>\n",
              "    <tr style=\"text-align: right;\">\n",
              "      <th></th>\n",
              "      <th>cuil</th>\n",
              "      <th>anio</th>\n",
              "      <th>mes</th>\n",
              "      <th>funcionario_apellido</th>\n",
              "      <th>funcionario_nombre</th>\n",
              "      <th>reparticion</th>\n",
              "      <th>asignacion_por_cargo_i</th>\n",
              "      <th>aguinaldo_ii</th>\n",
              "      <th>total_salario_bruto_i_+_ii</th>\n",
              "      <th>observaciones</th>\n",
              "    </tr>\n",
              "  </thead>\n",
              "  <tbody>\n",
              "    <tr>\n",
              "      <th>55</th>\n",
              "      <td>20-26781618-3</td>\n",
              "      <td>2019</td>\n",
              "      <td>2</td>\n",
              "      <td>LARRE</td>\n",
              "      <td>PEDRO ANDRES</td>\n",
              "      <td>SECR Ciencia, Tecnologia e Innovacion</td>\n",
              "      <td>204017.27</td>\n",
              "      <td>34002.88</td>\n",
              "      <td>238020.15</td>\n",
              "      <td>baja 28/2/2019</td>\n",
              "    </tr>\n",
              "  </tbody>\n",
              "</table>\n",
              "</div>\n",
              "      <button class=\"colab-df-convert\" onclick=\"convertToInteractive('df-b1c0bc6c-dbb4-4c8e-af8d-e050d903ea85')\"\n",
              "              title=\"Convert this dataframe to an interactive table.\"\n",
              "              style=\"display:none;\">\n",
              "        \n",
              "  <svg xmlns=\"http://www.w3.org/2000/svg\" height=\"24px\"viewBox=\"0 0 24 24\"\n",
              "       width=\"24px\">\n",
              "    <path d=\"M0 0h24v24H0V0z\" fill=\"none\"/>\n",
              "    <path d=\"M18.56 5.44l.94 2.06.94-2.06 2.06-.94-2.06-.94-.94-2.06-.94 2.06-2.06.94zm-11 1L8.5 8.5l.94-2.06 2.06-.94-2.06-.94L8.5 2.5l-.94 2.06-2.06.94zm10 10l.94 2.06.94-2.06 2.06-.94-2.06-.94-.94-2.06-.94 2.06-2.06.94z\"/><path d=\"M17.41 7.96l-1.37-1.37c-.4-.4-.92-.59-1.43-.59-.52 0-1.04.2-1.43.59L10.3 9.45l-7.72 7.72c-.78.78-.78 2.05 0 2.83L4 21.41c.39.39.9.59 1.41.59.51 0 1.02-.2 1.41-.59l7.78-7.78 2.81-2.81c.8-.78.8-2.07 0-2.86zM5.41 20L4 18.59l7.72-7.72 1.47 1.35L5.41 20z\"/>\n",
              "  </svg>\n",
              "      </button>\n",
              "      \n",
              "  <style>\n",
              "    .colab-df-container {\n",
              "      display:flex;\n",
              "      flex-wrap:wrap;\n",
              "      gap: 12px;\n",
              "    }\n",
              "\n",
              "    .colab-df-convert {\n",
              "      background-color: #E8F0FE;\n",
              "      border: none;\n",
              "      border-radius: 50%;\n",
              "      cursor: pointer;\n",
              "      display: none;\n",
              "      fill: #1967D2;\n",
              "      height: 32px;\n",
              "      padding: 0 0 0 0;\n",
              "      width: 32px;\n",
              "    }\n",
              "\n",
              "    .colab-df-convert:hover {\n",
              "      background-color: #E2EBFA;\n",
              "      box-shadow: 0px 1px 2px rgba(60, 64, 67, 0.3), 0px 1px 3px 1px rgba(60, 64, 67, 0.15);\n",
              "      fill: #174EA6;\n",
              "    }\n",
              "\n",
              "    [theme=dark] .colab-df-convert {\n",
              "      background-color: #3B4455;\n",
              "      fill: #D2E3FC;\n",
              "    }\n",
              "\n",
              "    [theme=dark] .colab-df-convert:hover {\n",
              "      background-color: #434B5C;\n",
              "      box-shadow: 0px 1px 3px 1px rgba(0, 0, 0, 0.15);\n",
              "      filter: drop-shadow(0px 1px 2px rgba(0, 0, 0, 0.3));\n",
              "      fill: #FFFFFF;\n",
              "    }\n",
              "  </style>\n",
              "\n",
              "      <script>\n",
              "        const buttonEl =\n",
              "          document.querySelector('#df-b1c0bc6c-dbb4-4c8e-af8d-e050d903ea85 button.colab-df-convert');\n",
              "        buttonEl.style.display =\n",
              "          google.colab.kernel.accessAllowed ? 'block' : 'none';\n",
              "\n",
              "        async function convertToInteractive(key) {\n",
              "          const element = document.querySelector('#df-b1c0bc6c-dbb4-4c8e-af8d-e050d903ea85');\n",
              "          const dataTable =\n",
              "            await google.colab.kernel.invokeFunction('convertToInteractive',\n",
              "                                                     [key], {});\n",
              "          if (!dataTable) return;\n",
              "\n",
              "          const docLinkHtml = 'Like what you see? Visit the ' +\n",
              "            '<a target=\"_blank\" href=https://colab.research.google.com/notebooks/data_table.ipynb>data table notebook</a>'\n",
              "            + ' to learn more about interactive tables.';\n",
              "          element.innerHTML = '';\n",
              "          dataTable['output_type'] = 'display_data';\n",
              "          await google.colab.output.renderOutput(dataTable, element);\n",
              "          const docLink = document.createElement('div');\n",
              "          docLink.innerHTML = docLinkHtml;\n",
              "          element.appendChild(docLink);\n",
              "        }\n",
              "      </script>\n",
              "    </div>\n",
              "  </div>\n",
              "  "
            ]
          },
          "metadata": {},
          "execution_count": 11
        }
      ],
      "source": [
        "df[(df['mes'] == 2) & (df['reparticion'] == 'SECR Ciencia, Tecnologia e Innovacion')]"
      ]
    },
    {
      "cell_type": "markdown",
      "metadata": {
        "id": "Jr4QHKBUbgr3"
      },
      "source": [
        "### Boolean indexing con query()\n",
        "\n",
        "La sintaxis que se utiliza para hacer Boolean indexing es un poco repetitiva. Noten que filtrar (aún en su expresión más corta sin loc ni especificar filas o columnas) implica ESCRIBIR DOS VECES el nombre del dataset. Para crear un shortcut, Pandas ofrece la función .query() \n",
        "\n"
      ]
    },
    {
      "cell_type": "code",
      "execution_count": null,
      "metadata": {
        "id": "qmU3wiCAbgr3",
        "outputId": "7678cabe-7778-4f36-86a3-935b70f909f1",
        "colab": {
          "base_uri": "https://localhost:8080/",
          "height": 444
        }
      },
      "outputs": [
        {
          "output_type": "execute_result",
          "data": {
            "text/plain": [
              "              cuil  anio  mes funcionario_apellido funcionario_nombre  \\\n",
              "4    20-25641207-2  2019    1             AVOGADRO       ENRIQUE LUIS   \n",
              "36   20-25641207-2  2019    2             AVOGADRO       ENRIQUE LUIS   \n",
              "68   20-25641207-2  2019    3             AVOGADRO       ENRIQUE LUIS   \n",
              "99   20-25641207-2  2019    4             AVOGADRO       ENRIQUE LUIS   \n",
              "130  20-25641207-2  2019    5             AVOGADRO       ENRIQUE LUIS   \n",
              "\n",
              "               reparticion  asignacion_por_cargo_i  aguinaldo_ii  \\\n",
              "4    Ministerio de Cultura               224516.62           0.0   \n",
              "36   Ministerio de Cultura               224516.62           0.0   \n",
              "68   Ministerio de Cultura               231167.76           0.0   \n",
              "99   Ministerio de Cultura               249661.60           0.0   \n",
              "130  Ministerio de Cultura               249661.60           0.0   \n",
              "\n",
              "     total_salario_bruto_i_+_ii observaciones  \n",
              "4                     224516.62           NaN  \n",
              "36                    224516.62           NaN  \n",
              "68                    231167.76           NaN  \n",
              "99                    249661.60           NaN  \n",
              "130                   249661.60           NaN  "
            ],
            "text/html": [
              "\n",
              "  <div id=\"df-0e875b34-c03f-48bf-b51b-851a9eb2748e\">\n",
              "    <div class=\"colab-df-container\">\n",
              "      <div>\n",
              "<style scoped>\n",
              "    .dataframe tbody tr th:only-of-type {\n",
              "        vertical-align: middle;\n",
              "    }\n",
              "\n",
              "    .dataframe tbody tr th {\n",
              "        vertical-align: top;\n",
              "    }\n",
              "\n",
              "    .dataframe thead th {\n",
              "        text-align: right;\n",
              "    }\n",
              "</style>\n",
              "<table border=\"1\" class=\"dataframe\">\n",
              "  <thead>\n",
              "    <tr style=\"text-align: right;\">\n",
              "      <th></th>\n",
              "      <th>cuil</th>\n",
              "      <th>anio</th>\n",
              "      <th>mes</th>\n",
              "      <th>funcionario_apellido</th>\n",
              "      <th>funcionario_nombre</th>\n",
              "      <th>reparticion</th>\n",
              "      <th>asignacion_por_cargo_i</th>\n",
              "      <th>aguinaldo_ii</th>\n",
              "      <th>total_salario_bruto_i_+_ii</th>\n",
              "      <th>observaciones</th>\n",
              "    </tr>\n",
              "  </thead>\n",
              "  <tbody>\n",
              "    <tr>\n",
              "      <th>4</th>\n",
              "      <td>20-25641207-2</td>\n",
              "      <td>2019</td>\n",
              "      <td>1</td>\n",
              "      <td>AVOGADRO</td>\n",
              "      <td>ENRIQUE LUIS</td>\n",
              "      <td>Ministerio de Cultura</td>\n",
              "      <td>224516.62</td>\n",
              "      <td>0.0</td>\n",
              "      <td>224516.62</td>\n",
              "      <td>NaN</td>\n",
              "    </tr>\n",
              "    <tr>\n",
              "      <th>36</th>\n",
              "      <td>20-25641207-2</td>\n",
              "      <td>2019</td>\n",
              "      <td>2</td>\n",
              "      <td>AVOGADRO</td>\n",
              "      <td>ENRIQUE LUIS</td>\n",
              "      <td>Ministerio de Cultura</td>\n",
              "      <td>224516.62</td>\n",
              "      <td>0.0</td>\n",
              "      <td>224516.62</td>\n",
              "      <td>NaN</td>\n",
              "    </tr>\n",
              "    <tr>\n",
              "      <th>68</th>\n",
              "      <td>20-25641207-2</td>\n",
              "      <td>2019</td>\n",
              "      <td>3</td>\n",
              "      <td>AVOGADRO</td>\n",
              "      <td>ENRIQUE LUIS</td>\n",
              "      <td>Ministerio de Cultura</td>\n",
              "      <td>231167.76</td>\n",
              "      <td>0.0</td>\n",
              "      <td>231167.76</td>\n",
              "      <td>NaN</td>\n",
              "    </tr>\n",
              "    <tr>\n",
              "      <th>99</th>\n",
              "      <td>20-25641207-2</td>\n",
              "      <td>2019</td>\n",
              "      <td>4</td>\n",
              "      <td>AVOGADRO</td>\n",
              "      <td>ENRIQUE LUIS</td>\n",
              "      <td>Ministerio de Cultura</td>\n",
              "      <td>249661.60</td>\n",
              "      <td>0.0</td>\n",
              "      <td>249661.60</td>\n",
              "      <td>NaN</td>\n",
              "    </tr>\n",
              "    <tr>\n",
              "      <th>130</th>\n",
              "      <td>20-25641207-2</td>\n",
              "      <td>2019</td>\n",
              "      <td>5</td>\n",
              "      <td>AVOGADRO</td>\n",
              "      <td>ENRIQUE LUIS</td>\n",
              "      <td>Ministerio de Cultura</td>\n",
              "      <td>249661.60</td>\n",
              "      <td>0.0</td>\n",
              "      <td>249661.60</td>\n",
              "      <td>NaN</td>\n",
              "    </tr>\n",
              "  </tbody>\n",
              "</table>\n",
              "</div>\n",
              "      <button class=\"colab-df-convert\" onclick=\"convertToInteractive('df-0e875b34-c03f-48bf-b51b-851a9eb2748e')\"\n",
              "              title=\"Convert this dataframe to an interactive table.\"\n",
              "              style=\"display:none;\">\n",
              "        \n",
              "  <svg xmlns=\"http://www.w3.org/2000/svg\" height=\"24px\"viewBox=\"0 0 24 24\"\n",
              "       width=\"24px\">\n",
              "    <path d=\"M0 0h24v24H0V0z\" fill=\"none\"/>\n",
              "    <path d=\"M18.56 5.44l.94 2.06.94-2.06 2.06-.94-2.06-.94-.94-2.06-.94 2.06-2.06.94zm-11 1L8.5 8.5l.94-2.06 2.06-.94-2.06-.94L8.5 2.5l-.94 2.06-2.06.94zm10 10l.94 2.06.94-2.06 2.06-.94-2.06-.94-.94-2.06-.94 2.06-2.06.94z\"/><path d=\"M17.41 7.96l-1.37-1.37c-.4-.4-.92-.59-1.43-.59-.52 0-1.04.2-1.43.59L10.3 9.45l-7.72 7.72c-.78.78-.78 2.05 0 2.83L4 21.41c.39.39.9.59 1.41.59.51 0 1.02-.2 1.41-.59l7.78-7.78 2.81-2.81c.8-.78.8-2.07 0-2.86zM5.41 20L4 18.59l7.72-7.72 1.47 1.35L5.41 20z\"/>\n",
              "  </svg>\n",
              "      </button>\n",
              "      \n",
              "  <style>\n",
              "    .colab-df-container {\n",
              "      display:flex;\n",
              "      flex-wrap:wrap;\n",
              "      gap: 12px;\n",
              "    }\n",
              "\n",
              "    .colab-df-convert {\n",
              "      background-color: #E8F0FE;\n",
              "      border: none;\n",
              "      border-radius: 50%;\n",
              "      cursor: pointer;\n",
              "      display: none;\n",
              "      fill: #1967D2;\n",
              "      height: 32px;\n",
              "      padding: 0 0 0 0;\n",
              "      width: 32px;\n",
              "    }\n",
              "\n",
              "    .colab-df-convert:hover {\n",
              "      background-color: #E2EBFA;\n",
              "      box-shadow: 0px 1px 2px rgba(60, 64, 67, 0.3), 0px 1px 3px 1px rgba(60, 64, 67, 0.15);\n",
              "      fill: #174EA6;\n",
              "    }\n",
              "\n",
              "    [theme=dark] .colab-df-convert {\n",
              "      background-color: #3B4455;\n",
              "      fill: #D2E3FC;\n",
              "    }\n",
              "\n",
              "    [theme=dark] .colab-df-convert:hover {\n",
              "      background-color: #434B5C;\n",
              "      box-shadow: 0px 1px 3px 1px rgba(0, 0, 0, 0.15);\n",
              "      filter: drop-shadow(0px 1px 2px rgba(0, 0, 0, 0.3));\n",
              "      fill: #FFFFFF;\n",
              "    }\n",
              "  </style>\n",
              "\n",
              "      <script>\n",
              "        const buttonEl =\n",
              "          document.querySelector('#df-0e875b34-c03f-48bf-b51b-851a9eb2748e button.colab-df-convert');\n",
              "        buttonEl.style.display =\n",
              "          google.colab.kernel.accessAllowed ? 'block' : 'none';\n",
              "\n",
              "        async function convertToInteractive(key) {\n",
              "          const element = document.querySelector('#df-0e875b34-c03f-48bf-b51b-851a9eb2748e');\n",
              "          const dataTable =\n",
              "            await google.colab.kernel.invokeFunction('convertToInteractive',\n",
              "                                                     [key], {});\n",
              "          if (!dataTable) return;\n",
              "\n",
              "          const docLinkHtml = 'Like what you see? Visit the ' +\n",
              "            '<a target=\"_blank\" href=https://colab.research.google.com/notebooks/data_table.ipynb>data table notebook</a>'\n",
              "            + ' to learn more about interactive tables.';\n",
              "          element.innerHTML = '';\n",
              "          dataTable['output_type'] = 'display_data';\n",
              "          await google.colab.output.renderOutput(dataTable, element);\n",
              "          const docLink = document.createElement('div');\n",
              "          docLink.innerHTML = docLinkHtml;\n",
              "          element.appendChild(docLink);\n",
              "        }\n",
              "      </script>\n",
              "    </div>\n",
              "  </div>\n",
              "  "
            ]
          },
          "metadata": {},
          "execution_count": 13
        }
      ],
      "source": [
        "df_cult = df.query('reparticion == \"Ministerio de Cultura\"')\n",
        "df_cult.head()"
      ]
    },
    {
      "cell_type": "markdown",
      "metadata": {
        "id": "U8Pg2Gawbgr4"
      },
      "source": [
        "También se puede hacer query sobre múltiples condiciones."
      ]
    },
    {
      "cell_type": "code",
      "execution_count": null,
      "metadata": {
        "id": "Iaf7xDeKbgr4"
      },
      "outputs": [],
      "source": [
        "df2 = df.query('asignacion_por_cargo_i > 240000 & aguinaldo_ii > 0')"
      ]
    },
    {
      "cell_type": "code",
      "execution_count": null,
      "metadata": {
        "id": "fUupMju3bgr4",
        "outputId": "cc8263c4-d8cb-43ee-d5e8-6552c3cfa028",
        "colab": {
          "base_uri": "https://localhost:8080/"
        }
      },
      "outputs": [
        {
          "output_type": "execute_result",
          "data": {
            "text/plain": [
              "(34, 10)"
            ]
          },
          "metadata": {},
          "execution_count": 15
        }
      ],
      "source": [
        "df2.shape"
      ]
    },
    {
      "cell_type": "markdown",
      "metadata": {
        "id": "V1POkoeNbgr5"
      },
      "source": [
        "### Fancy Indexing\n",
        "\n",
        "Ahora vamos a quedarnos con un subconjunto de columnas del DataFrame."
      ]
    },
    {
      "cell_type": "code",
      "execution_count": null,
      "metadata": {
        "id": "LnkLlS9Ebgr5"
      },
      "outputs": [],
      "source": [
        "df_view = df.loc[:,['anio','mes']]"
      ]
    },
    {
      "cell_type": "code",
      "execution_count": null,
      "metadata": {
        "id": "hE8wtOmBbgr6",
        "outputId": "3b967a5f-6300-481c-a36f-1ac1d9529e09",
        "colab": {
          "base_uri": "https://localhost:8080/"
        }
      },
      "outputs": [
        {
          "output_type": "execute_result",
          "data": {
            "text/plain": [
              "(385, 2)"
            ]
          },
          "metadata": {},
          "execution_count": 20
        }
      ],
      "source": [
        "df_view.shape"
      ]
    },
    {
      "cell_type": "markdown",
      "metadata": {
        "id": "rz4VDplUbgr6"
      },
      "source": [
        "Existe una forma menos explícita de hacer esta misma operación. Si pasamos una lista al indexing, pandas asume que el tipo de indexing es loc y que el filtro es sobre las columnas y no las filas:"
      ]
    },
    {
      "cell_type": "code",
      "execution_count": null,
      "metadata": {
        "id": "G1gKbRqcbgr6"
      },
      "outputs": [],
      "source": [
        "df_view = df[['anio','mes']]"
      ]
    },
    {
      "cell_type": "code",
      "execution_count": null,
      "metadata": {
        "id": "JbsjaC3zbgr6",
        "outputId": "78cd3440-4f96-4181-dc77-1dff124e3c76",
        "colab": {
          "base_uri": "https://localhost:8080/"
        }
      },
      "outputs": [
        {
          "output_type": "execute_result",
          "data": {
            "text/plain": [
              "(385, 2)"
            ]
          },
          "metadata": {},
          "execution_count": 22
        }
      ],
      "source": [
        "df_view.shape"
      ]
    },
    {
      "cell_type": "markdown",
      "metadata": {
        "id": "MPLG_4wjbgr6"
      },
      "source": [
        "Fíjense lo que pasa si tratamos de acceder a filas utilizando una lista de nombres, en este caso [3,8]. "
      ]
    },
    {
      "cell_type": "code",
      "execution_count": null,
      "metadata": {
        "id": "k4KkKoBibgr7",
        "outputId": "889e2d51-c222-4f80-d381-4f6dfcb56509",
        "colab": {
          "base_uri": "https://localhost:8080/",
          "height": 346
        }
      },
      "outputs": [
        {
          "output_type": "error",
          "ename": "KeyError",
          "evalue": "ignored",
          "traceback": [
            "\u001b[0;31m---------------------------------------------------------------------------\u001b[0m",
            "\u001b[0;31mKeyError\u001b[0m                                  Traceback (most recent call last)",
            "\u001b[0;32m<ipython-input-25-356438c29bef>\u001b[0m in \u001b[0;36m<module>\u001b[0;34m()\u001b[0m\n\u001b[1;32m      1\u001b[0m \u001b[0;31m# Incorrecto\u001b[0m\u001b[0;34m\u001b[0m\u001b[0;34m\u001b[0m\u001b[0;34m\u001b[0m\u001b[0m\n\u001b[0;32m----> 2\u001b[0;31m \u001b[0mdf_view\u001b[0m \u001b[0;34m=\u001b[0m \u001b[0mdf\u001b[0m\u001b[0;34m[\u001b[0m\u001b[0;34m[\u001b[0m\u001b[0;36m3\u001b[0m\u001b[0;34m,\u001b[0m\u001b[0;36m8\u001b[0m\u001b[0;34m]\u001b[0m\u001b[0;34m]\u001b[0m\u001b[0;34m\u001b[0m\u001b[0;34m\u001b[0m\u001b[0m\n\u001b[0m",
            "\u001b[0;32m/usr/local/lib/python3.7/dist-packages/pandas/core/frame.py\u001b[0m in \u001b[0;36m__getitem__\u001b[0;34m(self, key)\u001b[0m\n\u001b[1;32m   3462\u001b[0m             \u001b[0;32mif\u001b[0m \u001b[0mis_iterator\u001b[0m\u001b[0;34m(\u001b[0m\u001b[0mkey\u001b[0m\u001b[0;34m)\u001b[0m\u001b[0;34m:\u001b[0m\u001b[0;34m\u001b[0m\u001b[0;34m\u001b[0m\u001b[0m\n\u001b[1;32m   3463\u001b[0m                 \u001b[0mkey\u001b[0m \u001b[0;34m=\u001b[0m \u001b[0mlist\u001b[0m\u001b[0;34m(\u001b[0m\u001b[0mkey\u001b[0m\u001b[0;34m)\u001b[0m\u001b[0;34m\u001b[0m\u001b[0;34m\u001b[0m\u001b[0m\n\u001b[0;32m-> 3464\u001b[0;31m             \u001b[0mindexer\u001b[0m \u001b[0;34m=\u001b[0m \u001b[0mself\u001b[0m\u001b[0;34m.\u001b[0m\u001b[0mloc\u001b[0m\u001b[0;34m.\u001b[0m\u001b[0m_get_listlike_indexer\u001b[0m\u001b[0;34m(\u001b[0m\u001b[0mkey\u001b[0m\u001b[0;34m,\u001b[0m \u001b[0maxis\u001b[0m\u001b[0;34m=\u001b[0m\u001b[0;36m1\u001b[0m\u001b[0;34m)\u001b[0m\u001b[0;34m[\u001b[0m\u001b[0;36m1\u001b[0m\u001b[0;34m]\u001b[0m\u001b[0;34m\u001b[0m\u001b[0;34m\u001b[0m\u001b[0m\n\u001b[0m\u001b[1;32m   3465\u001b[0m \u001b[0;34m\u001b[0m\u001b[0m\n\u001b[1;32m   3466\u001b[0m         \u001b[0;31m# take() does not accept boolean indexers\u001b[0m\u001b[0;34m\u001b[0m\u001b[0;34m\u001b[0m\u001b[0;34m\u001b[0m\u001b[0m\n",
            "\u001b[0;32m/usr/local/lib/python3.7/dist-packages/pandas/core/indexing.py\u001b[0m in \u001b[0;36m_get_listlike_indexer\u001b[0;34m(self, key, axis)\u001b[0m\n\u001b[1;32m   1312\u001b[0m             \u001b[0mkeyarr\u001b[0m\u001b[0;34m,\u001b[0m \u001b[0mindexer\u001b[0m\u001b[0;34m,\u001b[0m \u001b[0mnew_indexer\u001b[0m \u001b[0;34m=\u001b[0m \u001b[0max\u001b[0m\u001b[0;34m.\u001b[0m\u001b[0m_reindex_non_unique\u001b[0m\u001b[0;34m(\u001b[0m\u001b[0mkeyarr\u001b[0m\u001b[0;34m)\u001b[0m\u001b[0;34m\u001b[0m\u001b[0;34m\u001b[0m\u001b[0m\n\u001b[1;32m   1313\u001b[0m \u001b[0;34m\u001b[0m\u001b[0m\n\u001b[0;32m-> 1314\u001b[0;31m         \u001b[0mself\u001b[0m\u001b[0;34m.\u001b[0m\u001b[0m_validate_read_indexer\u001b[0m\u001b[0;34m(\u001b[0m\u001b[0mkeyarr\u001b[0m\u001b[0;34m,\u001b[0m \u001b[0mindexer\u001b[0m\u001b[0;34m,\u001b[0m \u001b[0maxis\u001b[0m\u001b[0;34m)\u001b[0m\u001b[0;34m\u001b[0m\u001b[0;34m\u001b[0m\u001b[0m\n\u001b[0m\u001b[1;32m   1315\u001b[0m \u001b[0;34m\u001b[0m\u001b[0m\n\u001b[1;32m   1316\u001b[0m         if needs_i8_conversion(ax.dtype) or isinstance(\n",
            "\u001b[0;32m/usr/local/lib/python3.7/dist-packages/pandas/core/indexing.py\u001b[0m in \u001b[0;36m_validate_read_indexer\u001b[0;34m(self, key, indexer, axis)\u001b[0m\n\u001b[1;32m   1372\u001b[0m                 \u001b[0;32mif\u001b[0m \u001b[0muse_interval_msg\u001b[0m\u001b[0;34m:\u001b[0m\u001b[0;34m\u001b[0m\u001b[0;34m\u001b[0m\u001b[0m\n\u001b[1;32m   1373\u001b[0m                     \u001b[0mkey\u001b[0m \u001b[0;34m=\u001b[0m \u001b[0mlist\u001b[0m\u001b[0;34m(\u001b[0m\u001b[0mkey\u001b[0m\u001b[0;34m)\u001b[0m\u001b[0;34m\u001b[0m\u001b[0;34m\u001b[0m\u001b[0m\n\u001b[0;32m-> 1374\u001b[0;31m                 \u001b[0;32mraise\u001b[0m \u001b[0mKeyError\u001b[0m\u001b[0;34m(\u001b[0m\u001b[0;34mf\"None of [{key}] are in the [{axis_name}]\"\u001b[0m\u001b[0;34m)\u001b[0m\u001b[0;34m\u001b[0m\u001b[0;34m\u001b[0m\u001b[0m\n\u001b[0m\u001b[1;32m   1375\u001b[0m \u001b[0;34m\u001b[0m\u001b[0m\n\u001b[1;32m   1376\u001b[0m             \u001b[0mnot_found\u001b[0m \u001b[0;34m=\u001b[0m \u001b[0mlist\u001b[0m\u001b[0;34m(\u001b[0m\u001b[0mensure_index\u001b[0m\u001b[0;34m(\u001b[0m\u001b[0mkey\u001b[0m\u001b[0;34m)\u001b[0m\u001b[0;34m[\u001b[0m\u001b[0mmissing_mask\u001b[0m\u001b[0;34m.\u001b[0m\u001b[0mnonzero\u001b[0m\u001b[0;34m(\u001b[0m\u001b[0;34m)\u001b[0m\u001b[0;34m[\u001b[0m\u001b[0;36m0\u001b[0m\u001b[0;34m]\u001b[0m\u001b[0;34m]\u001b[0m\u001b[0;34m.\u001b[0m\u001b[0munique\u001b[0m\u001b[0;34m(\u001b[0m\u001b[0;34m)\u001b[0m\u001b[0;34m)\u001b[0m\u001b[0;34m\u001b[0m\u001b[0;34m\u001b[0m\u001b[0m\n",
            "\u001b[0;31mKeyError\u001b[0m: \"None of [Int64Index([3, 8], dtype='int64')] are in the [columns]\""
          ]
        }
      ],
      "source": [
        "# Incorrecto\n",
        "df_view = df[[3,8]]"
      ]
    },
    {
      "cell_type": "markdown",
      "metadata": {
        "id": "8o-gc73ibgr7"
      },
      "source": [
        "Nos da un error porque cuando pasamos únicamente una lista al indexing, pandas asume que queremos un set de columnas y si los nombres no existen, da error. La forma correcta de hacerlo es pasar una lista de índices y explicitar que vamos a indizar con loc y que seleccionamos todas las columnas."
      ]
    },
    {
      "cell_type": "code",
      "execution_count": null,
      "metadata": {
        "id": "TVIEZQ5Cbgr7"
      },
      "outputs": [],
      "source": [
        "# Correcto\n",
        "df_view = df.loc[[3,8],:]"
      ]
    },
    {
      "cell_type": "code",
      "execution_count": null,
      "metadata": {
        "id": "prJq-9wkbgr7",
        "outputId": "657bfe88-ef1f-48a1-bade-212dfb67543d",
        "colab": {
          "base_uri": "https://localhost:8080/",
          "height": 263
        }
      },
      "outputs": [
        {
          "output_type": "execute_result",
          "data": {
            "text/plain": [
              "            cuil  anio  mes funcionario_apellido funcionario_nombre  \\\n",
              "3  20-13872301-2  2019    1             ASTARLOA      GABRIEL MARIA   \n",
              "8  20-22293873-3  2019    1               MIGUEL       FELIPE OSCAR   \n",
              "\n",
              "                                        reparticion  asignacion_por_cargo_i  \\\n",
              "3  Procuración General de la Ciudad de Buenos Aires               224516.62   \n",
              "8                 Jefatura de Gabinete de Ministros               224516.62   \n",
              "\n",
              "   aguinaldo_ii  total_salario_bruto_i_+_ii observaciones  \n",
              "3           0.0                   224516.62           NaN  \n",
              "8           0.0                   224516.62           NaN  "
            ],
            "text/html": [
              "\n",
              "  <div id=\"df-abe2648e-28aa-493b-9c2b-8b3cde1d55a3\">\n",
              "    <div class=\"colab-df-container\">\n",
              "      <div>\n",
              "<style scoped>\n",
              "    .dataframe tbody tr th:only-of-type {\n",
              "        vertical-align: middle;\n",
              "    }\n",
              "\n",
              "    .dataframe tbody tr th {\n",
              "        vertical-align: top;\n",
              "    }\n",
              "\n",
              "    .dataframe thead th {\n",
              "        text-align: right;\n",
              "    }\n",
              "</style>\n",
              "<table border=\"1\" class=\"dataframe\">\n",
              "  <thead>\n",
              "    <tr style=\"text-align: right;\">\n",
              "      <th></th>\n",
              "      <th>cuil</th>\n",
              "      <th>anio</th>\n",
              "      <th>mes</th>\n",
              "      <th>funcionario_apellido</th>\n",
              "      <th>funcionario_nombre</th>\n",
              "      <th>reparticion</th>\n",
              "      <th>asignacion_por_cargo_i</th>\n",
              "      <th>aguinaldo_ii</th>\n",
              "      <th>total_salario_bruto_i_+_ii</th>\n",
              "      <th>observaciones</th>\n",
              "    </tr>\n",
              "  </thead>\n",
              "  <tbody>\n",
              "    <tr>\n",
              "      <th>3</th>\n",
              "      <td>20-13872301-2</td>\n",
              "      <td>2019</td>\n",
              "      <td>1</td>\n",
              "      <td>ASTARLOA</td>\n",
              "      <td>GABRIEL MARIA</td>\n",
              "      <td>Procuración General de la Ciudad de Buenos Aires</td>\n",
              "      <td>224516.62</td>\n",
              "      <td>0.0</td>\n",
              "      <td>224516.62</td>\n",
              "      <td>NaN</td>\n",
              "    </tr>\n",
              "    <tr>\n",
              "      <th>8</th>\n",
              "      <td>20-22293873-3</td>\n",
              "      <td>2019</td>\n",
              "      <td>1</td>\n",
              "      <td>MIGUEL</td>\n",
              "      <td>FELIPE OSCAR</td>\n",
              "      <td>Jefatura de Gabinete de Ministros</td>\n",
              "      <td>224516.62</td>\n",
              "      <td>0.0</td>\n",
              "      <td>224516.62</td>\n",
              "      <td>NaN</td>\n",
              "    </tr>\n",
              "  </tbody>\n",
              "</table>\n",
              "</div>\n",
              "      <button class=\"colab-df-convert\" onclick=\"convertToInteractive('df-abe2648e-28aa-493b-9c2b-8b3cde1d55a3')\"\n",
              "              title=\"Convert this dataframe to an interactive table.\"\n",
              "              style=\"display:none;\">\n",
              "        \n",
              "  <svg xmlns=\"http://www.w3.org/2000/svg\" height=\"24px\"viewBox=\"0 0 24 24\"\n",
              "       width=\"24px\">\n",
              "    <path d=\"M0 0h24v24H0V0z\" fill=\"none\"/>\n",
              "    <path d=\"M18.56 5.44l.94 2.06.94-2.06 2.06-.94-2.06-.94-.94-2.06-.94 2.06-2.06.94zm-11 1L8.5 8.5l.94-2.06 2.06-.94-2.06-.94L8.5 2.5l-.94 2.06-2.06.94zm10 10l.94 2.06.94-2.06 2.06-.94-2.06-.94-.94-2.06-.94 2.06-2.06.94z\"/><path d=\"M17.41 7.96l-1.37-1.37c-.4-.4-.92-.59-1.43-.59-.52 0-1.04.2-1.43.59L10.3 9.45l-7.72 7.72c-.78.78-.78 2.05 0 2.83L4 21.41c.39.39.9.59 1.41.59.51 0 1.02-.2 1.41-.59l7.78-7.78 2.81-2.81c.8-.78.8-2.07 0-2.86zM5.41 20L4 18.59l7.72-7.72 1.47 1.35L5.41 20z\"/>\n",
              "  </svg>\n",
              "      </button>\n",
              "      \n",
              "  <style>\n",
              "    .colab-df-container {\n",
              "      display:flex;\n",
              "      flex-wrap:wrap;\n",
              "      gap: 12px;\n",
              "    }\n",
              "\n",
              "    .colab-df-convert {\n",
              "      background-color: #E8F0FE;\n",
              "      border: none;\n",
              "      border-radius: 50%;\n",
              "      cursor: pointer;\n",
              "      display: none;\n",
              "      fill: #1967D2;\n",
              "      height: 32px;\n",
              "      padding: 0 0 0 0;\n",
              "      width: 32px;\n",
              "    }\n",
              "\n",
              "    .colab-df-convert:hover {\n",
              "      background-color: #E2EBFA;\n",
              "      box-shadow: 0px 1px 2px rgba(60, 64, 67, 0.3), 0px 1px 3px 1px rgba(60, 64, 67, 0.15);\n",
              "      fill: #174EA6;\n",
              "    }\n",
              "\n",
              "    [theme=dark] .colab-df-convert {\n",
              "      background-color: #3B4455;\n",
              "      fill: #D2E3FC;\n",
              "    }\n",
              "\n",
              "    [theme=dark] .colab-df-convert:hover {\n",
              "      background-color: #434B5C;\n",
              "      box-shadow: 0px 1px 3px 1px rgba(0, 0, 0, 0.15);\n",
              "      filter: drop-shadow(0px 1px 2px rgba(0, 0, 0, 0.3));\n",
              "      fill: #FFFFFF;\n",
              "    }\n",
              "  </style>\n",
              "\n",
              "      <script>\n",
              "        const buttonEl =\n",
              "          document.querySelector('#df-abe2648e-28aa-493b-9c2b-8b3cde1d55a3 button.colab-df-convert');\n",
              "        buttonEl.style.display =\n",
              "          google.colab.kernel.accessAllowed ? 'block' : 'none';\n",
              "\n",
              "        async function convertToInteractive(key) {\n",
              "          const element = document.querySelector('#df-abe2648e-28aa-493b-9c2b-8b3cde1d55a3');\n",
              "          const dataTable =\n",
              "            await google.colab.kernel.invokeFunction('convertToInteractive',\n",
              "                                                     [key], {});\n",
              "          if (!dataTable) return;\n",
              "\n",
              "          const docLinkHtml = 'Like what you see? Visit the ' +\n",
              "            '<a target=\"_blank\" href=https://colab.research.google.com/notebooks/data_table.ipynb>data table notebook</a>'\n",
              "            + ' to learn more about interactive tables.';\n",
              "          element.innerHTML = '';\n",
              "          dataTable['output_type'] = 'display_data';\n",
              "          await google.colab.output.renderOutput(dataTable, element);\n",
              "          const docLink = document.createElement('div');\n",
              "          docLink.innerHTML = docLinkHtml;\n",
              "          element.appendChild(docLink);\n",
              "        }\n",
              "      </script>\n",
              "    </div>\n",
              "  </div>\n",
              "  "
            ]
          },
          "metadata": {},
          "execution_count": 27
        }
      ],
      "source": [
        "df_view"
      ]
    },
    {
      "cell_type": "markdown",
      "source": [
        "Podemos utilizar una lista con números para filtrar con el método .iloc"
      ],
      "metadata": {
        "id": "ueED58pzFM79"
      }
    },
    {
      "cell_type": "code",
      "source": [
        "df.iloc[:,[3,8]] #Traigo todas las filas y las columnas 3 y 8"
      ],
      "metadata": {
        "id": "ij7oK0dcFRR4"
      },
      "execution_count": null,
      "outputs": []
    },
    {
      "cell_type": "markdown",
      "source": [
        "### Ejercicio Titanic sobrevivientes por género\n",
        "¿Cuántos hombres y mujeres sobrevivieron según los datos del Titanic? "
      ],
      "metadata": {
        "id": "TeTWfwk8L638"
      }
    },
    {
      "cell_type": "code",
      "source": [],
      "metadata": {
        "id": "g7HVcTN7L77l"
      },
      "execution_count": null,
      "outputs": []
    },
    {
      "cell_type": "markdown",
      "metadata": {
        "id": "HsUi_0I9bgr_"
      },
      "source": [
        "## Funciones de Agregación\n",
        "\n",
        "Utilizando Pandas podemos aplicar funciones a nivel de columna. Algunas funciones predefinidas son la media, el desvío estándar y la sumatoria, el valor máximo y el mínimo.\n",
        "\n",
        "Algunas de las funciones de agregación más comunes son:\n",
        "\n",
        "<ul>\n",
        "    <li>min</li>\n",
        "    <li>max</li>\n",
        "    <li>count</li>\n",
        "    <li>sum</li>\n",
        "    <li>prod</li>\n",
        "    <li>mean</li>\n",
        "    <li>median</li>\n",
        "    <li>mode</li>\n",
        "    <li>std</li>\n",
        "    <li>var</li>\n",
        "</ul>\n",
        "\n",
        "\n"
      ]
    },
    {
      "cell_type": "code",
      "execution_count": null,
      "metadata": {
        "id": "vkoCP4S9bgr_",
        "outputId": "45a6f4f7-71f6-4bb3-e3d1-b8830846f2ea",
        "colab": {
          "base_uri": "https://localhost:8080/"
        }
      },
      "outputs": [
        {
          "output_type": "execute_result",
          "data": {
            "text/plain": [
              "12"
            ]
          },
          "metadata": {},
          "execution_count": 35
        }
      ],
      "source": [
        "df['mes'].max()"
      ]
    },
    {
      "cell_type": "code",
      "execution_count": null,
      "metadata": {
        "id": "OMYYFNMCbgr_",
        "outputId": "03aeed39-fd1b-4443-af06-ac139d369a16",
        "colab": {
          "base_uri": "https://localhost:8080/"
        }
      },
      "outputs": [
        {
          "output_type": "execute_result",
          "data": {
            "text/plain": [
              "234234.3679999999"
            ]
          },
          "metadata": {},
          "execution_count": 36
        }
      ],
      "source": [
        "df['asignacion_por_cargo_i'].mean()"
      ]
    },
    {
      "cell_type": "code",
      "execution_count": null,
      "metadata": {
        "id": "QT3OF1Ykbgr_",
        "outputId": "126ef2f1-a8f0-4c7b-a431-93f10bce6d71",
        "colab": {
          "base_uri": "https://localhost:8080/"
        }
      },
      "outputs": [
        {
          "output_type": "execute_result",
          "data": {
            "text/plain": [
              "35043.16008466176"
            ]
          },
          "metadata": {},
          "execution_count": 37
        }
      ],
      "source": [
        "df['asignacion_por_cargo_i'].std()"
      ]
    },
    {
      "cell_type": "code",
      "execution_count": null,
      "metadata": {
        "id": "aeKH2RgybgsA",
        "outputId": "fb9de40d-1a43-4ffe-e389-60ea1a65c05e",
        "colab": {
          "base_uri": "https://localhost:8080/"
        }
      },
      "outputs": [
        {
          "output_type": "execute_result",
          "data": {
            "text/plain": [
              "97988834.36000001"
            ]
          },
          "metadata": {},
          "execution_count": 38
        }
      ],
      "source": [
        "df['total_salario_bruto_i_+_ii'].sum()"
      ]
    },
    {
      "cell_type": "markdown",
      "metadata": {
        "id": "1MY-PNmybgsA"
      },
      "source": [
        "Podemos combinar los filtros que vimos antes con las funciones de agregación para responder preguntas cómo ¿Cuál fue en gasto en asignaciones de funcionarios para la Secretaría de Medios 2019? ¿Y para la de Justicia y Seguridad?"
      ]
    },
    {
      "cell_type": "code",
      "execution_count": null,
      "metadata": {
        "id": "nS2J0AKebgsA",
        "outputId": "c0a1ed89-0285-458e-da85-66a8e8942d6e",
        "colab": {
          "base_uri": "https://localhost:8080/"
        }
      },
      "outputs": [
        {
          "output_type": "execute_result",
          "data": {
            "text/plain": [
              "3232402.25"
            ]
          },
          "metadata": {},
          "execution_count": 39
        }
      ],
      "source": [
        "df[df['reparticion'] == 'SECR de Medios']['total_salario_bruto_i_+_ii'].sum()"
      ]
    },
    {
      "cell_type": "code",
      "execution_count": null,
      "metadata": {
        "id": "NRW1RHSebgsB",
        "outputId": "734bf863-76e5-4474-afc3-90ba201ce178",
        "colab": {
          "base_uri": "https://localhost:8080/"
        }
      },
      "outputs": [
        {
          "output_type": "execute_result",
          "data": {
            "text/plain": [
              "3029551.7300000004"
            ]
          },
          "metadata": {},
          "execution_count": 40
        }
      ],
      "source": [
        "df[df['reparticion'] == 'SECR Justicia y Seguridad']['total_salario_bruto_i_+_ii'].sum()"
      ]
    },
    {
      "cell_type": "markdown",
      "metadata": {
        "id": "d92bOdn_bgsB"
      },
      "source": [
        "Ahora respondamos algunas preguntas: ¿Quién o quiénes del dataset cobran el salario más alto? ¿Y el más bajo?"
      ]
    },
    {
      "cell_type": "code",
      "execution_count": null,
      "metadata": {
        "scrolled": true,
        "id": "RurRvJyYbgsB",
        "outputId": "73e3dade-52c5-46ab-e44a-9fb5bf411d34",
        "colab": {
          "base_uri": "https://localhost:8080/",
          "height": 197
        }
      },
      "outputs": [
        {
          "output_type": "execute_result",
          "data": {
            "text/plain": [
              "              cuil  anio  mes funcionario_apellido funcionario_nombre  \\\n",
              "374  20-13872301-2  2019   12             ASTARLOA      GABRIEL MARIA   \n",
              "\n",
              "                                          reparticion  asignacion_por_cargo_i  \\\n",
              "374  Procuración General de la Ciudad de Buenos Aires               275089.75   \n",
              "\n",
              "     aguinaldo_ii  total_salario_bruto_i_+_ii observaciones  \n",
              "374     170855.56                   445945.31           NaN  "
            ],
            "text/html": [
              "\n",
              "  <div id=\"df-434ebecf-243a-496e-97a2-c4dbc06fe8d3\">\n",
              "    <div class=\"colab-df-container\">\n",
              "      <div>\n",
              "<style scoped>\n",
              "    .dataframe tbody tr th:only-of-type {\n",
              "        vertical-align: middle;\n",
              "    }\n",
              "\n",
              "    .dataframe tbody tr th {\n",
              "        vertical-align: top;\n",
              "    }\n",
              "\n",
              "    .dataframe thead th {\n",
              "        text-align: right;\n",
              "    }\n",
              "</style>\n",
              "<table border=\"1\" class=\"dataframe\">\n",
              "  <thead>\n",
              "    <tr style=\"text-align: right;\">\n",
              "      <th></th>\n",
              "      <th>cuil</th>\n",
              "      <th>anio</th>\n",
              "      <th>mes</th>\n",
              "      <th>funcionario_apellido</th>\n",
              "      <th>funcionario_nombre</th>\n",
              "      <th>reparticion</th>\n",
              "      <th>asignacion_por_cargo_i</th>\n",
              "      <th>aguinaldo_ii</th>\n",
              "      <th>total_salario_bruto_i_+_ii</th>\n",
              "      <th>observaciones</th>\n",
              "    </tr>\n",
              "  </thead>\n",
              "  <tbody>\n",
              "    <tr>\n",
              "      <th>374</th>\n",
              "      <td>20-13872301-2</td>\n",
              "      <td>2019</td>\n",
              "      <td>12</td>\n",
              "      <td>ASTARLOA</td>\n",
              "      <td>GABRIEL MARIA</td>\n",
              "      <td>Procuración General de la Ciudad de Buenos Aires</td>\n",
              "      <td>275089.75</td>\n",
              "      <td>170855.56</td>\n",
              "      <td>445945.31</td>\n",
              "      <td>NaN</td>\n",
              "    </tr>\n",
              "  </tbody>\n",
              "</table>\n",
              "</div>\n",
              "      <button class=\"colab-df-convert\" onclick=\"convertToInteractive('df-434ebecf-243a-496e-97a2-c4dbc06fe8d3')\"\n",
              "              title=\"Convert this dataframe to an interactive table.\"\n",
              "              style=\"display:none;\">\n",
              "        \n",
              "  <svg xmlns=\"http://www.w3.org/2000/svg\" height=\"24px\"viewBox=\"0 0 24 24\"\n",
              "       width=\"24px\">\n",
              "    <path d=\"M0 0h24v24H0V0z\" fill=\"none\"/>\n",
              "    <path d=\"M18.56 5.44l.94 2.06.94-2.06 2.06-.94-2.06-.94-.94-2.06-.94 2.06-2.06.94zm-11 1L8.5 8.5l.94-2.06 2.06-.94-2.06-.94L8.5 2.5l-.94 2.06-2.06.94zm10 10l.94 2.06.94-2.06 2.06-.94-2.06-.94-.94-2.06-.94 2.06-2.06.94z\"/><path d=\"M17.41 7.96l-1.37-1.37c-.4-.4-.92-.59-1.43-.59-.52 0-1.04.2-1.43.59L10.3 9.45l-7.72 7.72c-.78.78-.78 2.05 0 2.83L4 21.41c.39.39.9.59 1.41.59.51 0 1.02-.2 1.41-.59l7.78-7.78 2.81-2.81c.8-.78.8-2.07 0-2.86zM5.41 20L4 18.59l7.72-7.72 1.47 1.35L5.41 20z\"/>\n",
              "  </svg>\n",
              "      </button>\n",
              "      \n",
              "  <style>\n",
              "    .colab-df-container {\n",
              "      display:flex;\n",
              "      flex-wrap:wrap;\n",
              "      gap: 12px;\n",
              "    }\n",
              "\n",
              "    .colab-df-convert {\n",
              "      background-color: #E8F0FE;\n",
              "      border: none;\n",
              "      border-radius: 50%;\n",
              "      cursor: pointer;\n",
              "      display: none;\n",
              "      fill: #1967D2;\n",
              "      height: 32px;\n",
              "      padding: 0 0 0 0;\n",
              "      width: 32px;\n",
              "    }\n",
              "\n",
              "    .colab-df-convert:hover {\n",
              "      background-color: #E2EBFA;\n",
              "      box-shadow: 0px 1px 2px rgba(60, 64, 67, 0.3), 0px 1px 3px 1px rgba(60, 64, 67, 0.15);\n",
              "      fill: #174EA6;\n",
              "    }\n",
              "\n",
              "    [theme=dark] .colab-df-convert {\n",
              "      background-color: #3B4455;\n",
              "      fill: #D2E3FC;\n",
              "    }\n",
              "\n",
              "    [theme=dark] .colab-df-convert:hover {\n",
              "      background-color: #434B5C;\n",
              "      box-shadow: 0px 1px 3px 1px rgba(0, 0, 0, 0.15);\n",
              "      filter: drop-shadow(0px 1px 2px rgba(0, 0, 0, 0.3));\n",
              "      fill: #FFFFFF;\n",
              "    }\n",
              "  </style>\n",
              "\n",
              "      <script>\n",
              "        const buttonEl =\n",
              "          document.querySelector('#df-434ebecf-243a-496e-97a2-c4dbc06fe8d3 button.colab-df-convert');\n",
              "        buttonEl.style.display =\n",
              "          google.colab.kernel.accessAllowed ? 'block' : 'none';\n",
              "\n",
              "        async function convertToInteractive(key) {\n",
              "          const element = document.querySelector('#df-434ebecf-243a-496e-97a2-c4dbc06fe8d3');\n",
              "          const dataTable =\n",
              "            await google.colab.kernel.invokeFunction('convertToInteractive',\n",
              "                                                     [key], {});\n",
              "          if (!dataTable) return;\n",
              "\n",
              "          const docLinkHtml = 'Like what you see? Visit the ' +\n",
              "            '<a target=\"_blank\" href=https://colab.research.google.com/notebooks/data_table.ipynb>data table notebook</a>'\n",
              "            + ' to learn more about interactive tables.';\n",
              "          element.innerHTML = '';\n",
              "          dataTable['output_type'] = 'display_data';\n",
              "          await google.colab.output.renderOutput(dataTable, element);\n",
              "          const docLink = document.createElement('div');\n",
              "          docLink.innerHTML = docLinkHtml;\n",
              "          element.appendChild(docLink);\n",
              "        }\n",
              "      </script>\n",
              "    </div>\n",
              "  </div>\n",
              "  "
            ]
          },
          "metadata": {},
          "execution_count": 41
        }
      ],
      "source": [
        "df[df['total_salario_bruto_i_+_ii'] == df['total_salario_bruto_i_+_ii'].max()]"
      ]
    },
    {
      "cell_type": "code",
      "execution_count": null,
      "metadata": {
        "scrolled": true,
        "id": "7MZQyVQmbgsC",
        "outputId": "2b197074-e7f9-4a15-fe8d-1156b86398d7",
        "colab": {
          "base_uri": "https://localhost:8080/",
          "height": 579
        }
      },
      "outputs": [
        {
          "output_type": "execute_result",
          "data": {
            "text/plain": [
              "              cuil  anio  mes funcionario_apellido funcionario_nombre  \\\n",
              "344  27-30744939-6  2019   12              FERRERO           GENOVEVA   \n",
              "348  20-22709722-2  2019   12                LOPEZ             MATIAS   \n",
              "354  20-20008464-1  2019   12               GIUSTI          JOSE LUIS   \n",
              "358  20-31164337-2  2019   12         DI BENEDETTO           FEDERICO   \n",
              "360  20-28908968-4  2019   12       COELHO CHICANO          CHRISTIAN   \n",
              "362  20-24424714-9  2019   12         D'ALESSANDRO     MARCELO SILVIO   \n",
              "\n",
              "                                           reparticion  \\\n",
              "344     SECR Administración de Seguridad y Emergencias   \n",
              "348                          SECR Desarrollo Ciudadano   \n",
              "354  UPE Transferencia de Funciones y Facultades en...   \n",
              "358                                    SS Comunicacion   \n",
              "360                                      SS Contenidos   \n",
              "362                          SECR Justicia y Seguridad   \n",
              "\n",
              "     asignacion_por_cargo_i  aguinaldo_ii  total_salario_bruto_i_+_ii  \\\n",
              "344                74991.86     110404.68                   185396.54   \n",
              "348                74991.86     110404.68                   185396.54   \n",
              "354                74991.86     110404.68                   185396.54   \n",
              "358                74991.86     110404.68                   185396.54   \n",
              "360                74991.86     110404.68                   185396.54   \n",
              "362                74991.86     110404.68                   185396.54   \n",
              "\n",
              "    observaciones  \n",
              "344  baja al 9/12  \n",
              "348  baja al 9/12  \n",
              "354  baja al 9/12  \n",
              "358  baja al 9/12  \n",
              "360  baja al 9/12  \n",
              "362  baja al 9/12  "
            ],
            "text/html": [
              "\n",
              "  <div id=\"df-2fca054e-8fda-456e-ae6a-fea82dea55b4\">\n",
              "    <div class=\"colab-df-container\">\n",
              "      <div>\n",
              "<style scoped>\n",
              "    .dataframe tbody tr th:only-of-type {\n",
              "        vertical-align: middle;\n",
              "    }\n",
              "\n",
              "    .dataframe tbody tr th {\n",
              "        vertical-align: top;\n",
              "    }\n",
              "\n",
              "    .dataframe thead th {\n",
              "        text-align: right;\n",
              "    }\n",
              "</style>\n",
              "<table border=\"1\" class=\"dataframe\">\n",
              "  <thead>\n",
              "    <tr style=\"text-align: right;\">\n",
              "      <th></th>\n",
              "      <th>cuil</th>\n",
              "      <th>anio</th>\n",
              "      <th>mes</th>\n",
              "      <th>funcionario_apellido</th>\n",
              "      <th>funcionario_nombre</th>\n",
              "      <th>reparticion</th>\n",
              "      <th>asignacion_por_cargo_i</th>\n",
              "      <th>aguinaldo_ii</th>\n",
              "      <th>total_salario_bruto_i_+_ii</th>\n",
              "      <th>observaciones</th>\n",
              "    </tr>\n",
              "  </thead>\n",
              "  <tbody>\n",
              "    <tr>\n",
              "      <th>344</th>\n",
              "      <td>27-30744939-6</td>\n",
              "      <td>2019</td>\n",
              "      <td>12</td>\n",
              "      <td>FERRERO</td>\n",
              "      <td>GENOVEVA</td>\n",
              "      <td>SECR Administración de Seguridad y Emergencias</td>\n",
              "      <td>74991.86</td>\n",
              "      <td>110404.68</td>\n",
              "      <td>185396.54</td>\n",
              "      <td>baja al 9/12</td>\n",
              "    </tr>\n",
              "    <tr>\n",
              "      <th>348</th>\n",
              "      <td>20-22709722-2</td>\n",
              "      <td>2019</td>\n",
              "      <td>12</td>\n",
              "      <td>LOPEZ</td>\n",
              "      <td>MATIAS</td>\n",
              "      <td>SECR Desarrollo Ciudadano</td>\n",
              "      <td>74991.86</td>\n",
              "      <td>110404.68</td>\n",
              "      <td>185396.54</td>\n",
              "      <td>baja al 9/12</td>\n",
              "    </tr>\n",
              "    <tr>\n",
              "      <th>354</th>\n",
              "      <td>20-20008464-1</td>\n",
              "      <td>2019</td>\n",
              "      <td>12</td>\n",
              "      <td>GIUSTI</td>\n",
              "      <td>JOSE LUIS</td>\n",
              "      <td>UPE Transferencia de Funciones y Facultades en...</td>\n",
              "      <td>74991.86</td>\n",
              "      <td>110404.68</td>\n",
              "      <td>185396.54</td>\n",
              "      <td>baja al 9/12</td>\n",
              "    </tr>\n",
              "    <tr>\n",
              "      <th>358</th>\n",
              "      <td>20-31164337-2</td>\n",
              "      <td>2019</td>\n",
              "      <td>12</td>\n",
              "      <td>DI BENEDETTO</td>\n",
              "      <td>FEDERICO</td>\n",
              "      <td>SS Comunicacion</td>\n",
              "      <td>74991.86</td>\n",
              "      <td>110404.68</td>\n",
              "      <td>185396.54</td>\n",
              "      <td>baja al 9/12</td>\n",
              "    </tr>\n",
              "    <tr>\n",
              "      <th>360</th>\n",
              "      <td>20-28908968-4</td>\n",
              "      <td>2019</td>\n",
              "      <td>12</td>\n",
              "      <td>COELHO CHICANO</td>\n",
              "      <td>CHRISTIAN</td>\n",
              "      <td>SS Contenidos</td>\n",
              "      <td>74991.86</td>\n",
              "      <td>110404.68</td>\n",
              "      <td>185396.54</td>\n",
              "      <td>baja al 9/12</td>\n",
              "    </tr>\n",
              "    <tr>\n",
              "      <th>362</th>\n",
              "      <td>20-24424714-9</td>\n",
              "      <td>2019</td>\n",
              "      <td>12</td>\n",
              "      <td>D'ALESSANDRO</td>\n",
              "      <td>MARCELO SILVIO</td>\n",
              "      <td>SECR Justicia y Seguridad</td>\n",
              "      <td>74991.86</td>\n",
              "      <td>110404.68</td>\n",
              "      <td>185396.54</td>\n",
              "      <td>baja al 9/12</td>\n",
              "    </tr>\n",
              "  </tbody>\n",
              "</table>\n",
              "</div>\n",
              "      <button class=\"colab-df-convert\" onclick=\"convertToInteractive('df-2fca054e-8fda-456e-ae6a-fea82dea55b4')\"\n",
              "              title=\"Convert this dataframe to an interactive table.\"\n",
              "              style=\"display:none;\">\n",
              "        \n",
              "  <svg xmlns=\"http://www.w3.org/2000/svg\" height=\"24px\"viewBox=\"0 0 24 24\"\n",
              "       width=\"24px\">\n",
              "    <path d=\"M0 0h24v24H0V0z\" fill=\"none\"/>\n",
              "    <path d=\"M18.56 5.44l.94 2.06.94-2.06 2.06-.94-2.06-.94-.94-2.06-.94 2.06-2.06.94zm-11 1L8.5 8.5l.94-2.06 2.06-.94-2.06-.94L8.5 2.5l-.94 2.06-2.06.94zm10 10l.94 2.06.94-2.06 2.06-.94-2.06-.94-.94-2.06-.94 2.06-2.06.94z\"/><path d=\"M17.41 7.96l-1.37-1.37c-.4-.4-.92-.59-1.43-.59-.52 0-1.04.2-1.43.59L10.3 9.45l-7.72 7.72c-.78.78-.78 2.05 0 2.83L4 21.41c.39.39.9.59 1.41.59.51 0 1.02-.2 1.41-.59l7.78-7.78 2.81-2.81c.8-.78.8-2.07 0-2.86zM5.41 20L4 18.59l7.72-7.72 1.47 1.35L5.41 20z\"/>\n",
              "  </svg>\n",
              "      </button>\n",
              "      \n",
              "  <style>\n",
              "    .colab-df-container {\n",
              "      display:flex;\n",
              "      flex-wrap:wrap;\n",
              "      gap: 12px;\n",
              "    }\n",
              "\n",
              "    .colab-df-convert {\n",
              "      background-color: #E8F0FE;\n",
              "      border: none;\n",
              "      border-radius: 50%;\n",
              "      cursor: pointer;\n",
              "      display: none;\n",
              "      fill: #1967D2;\n",
              "      height: 32px;\n",
              "      padding: 0 0 0 0;\n",
              "      width: 32px;\n",
              "    }\n",
              "\n",
              "    .colab-df-convert:hover {\n",
              "      background-color: #E2EBFA;\n",
              "      box-shadow: 0px 1px 2px rgba(60, 64, 67, 0.3), 0px 1px 3px 1px rgba(60, 64, 67, 0.15);\n",
              "      fill: #174EA6;\n",
              "    }\n",
              "\n",
              "    [theme=dark] .colab-df-convert {\n",
              "      background-color: #3B4455;\n",
              "      fill: #D2E3FC;\n",
              "    }\n",
              "\n",
              "    [theme=dark] .colab-df-convert:hover {\n",
              "      background-color: #434B5C;\n",
              "      box-shadow: 0px 1px 3px 1px rgba(0, 0, 0, 0.15);\n",
              "      filter: drop-shadow(0px 1px 2px rgba(0, 0, 0, 0.3));\n",
              "      fill: #FFFFFF;\n",
              "    }\n",
              "  </style>\n",
              "\n",
              "      <script>\n",
              "        const buttonEl =\n",
              "          document.querySelector('#df-2fca054e-8fda-456e-ae6a-fea82dea55b4 button.colab-df-convert');\n",
              "        buttonEl.style.display =\n",
              "          google.colab.kernel.accessAllowed ? 'block' : 'none';\n",
              "\n",
              "        async function convertToInteractive(key) {\n",
              "          const element = document.querySelector('#df-2fca054e-8fda-456e-ae6a-fea82dea55b4');\n",
              "          const dataTable =\n",
              "            await google.colab.kernel.invokeFunction('convertToInteractive',\n",
              "                                                     [key], {});\n",
              "          if (!dataTable) return;\n",
              "\n",
              "          const docLinkHtml = 'Like what you see? Visit the ' +\n",
              "            '<a target=\"_blank\" href=https://colab.research.google.com/notebooks/data_table.ipynb>data table notebook</a>'\n",
              "            + ' to learn more about interactive tables.';\n",
              "          element.innerHTML = '';\n",
              "          dataTable['output_type'] = 'display_data';\n",
              "          await google.colab.output.renderOutput(dataTable, element);\n",
              "          const docLink = document.createElement('div');\n",
              "          docLink.innerHTML = docLinkHtml;\n",
              "          element.appendChild(docLink);\n",
              "        }\n",
              "      </script>\n",
              "    </div>\n",
              "  </div>\n",
              "  "
            ]
          },
          "metadata": {},
          "execution_count": 42
        }
      ],
      "source": [
        "df[df['total_salario_bruto_i_+_ii'] == df['total_salario_bruto_i_+_ii'].min()]"
      ]
    },
    {
      "cell_type": "markdown",
      "metadata": {
        "id": "e__WqfP6bgsC"
      },
      "source": [
        "## Otros análisis descriptivos\n",
        "\n",
        "Pandas viene con algunas funciones built-in para ayudar al análisis descriptivo.\n",
        "\n"
      ]
    },
    {
      "cell_type": "markdown",
      "source": [
        "### Para las variables numéricas"
      ],
      "metadata": {
        "id": "LTxpeLu6QXIT"
      }
    },
    {
      "cell_type": "code",
      "execution_count": null,
      "metadata": {
        "id": "dFNTyjRtbgsC",
        "outputId": "5ede9a4f-ac41-468e-ad6f-f034ae8ba6c4",
        "colab": {
          "base_uri": "https://localhost:8080/",
          "height": 300
        }
      },
      "outputs": [
        {
          "output_type": "execute_result",
          "data": {
            "text/plain": [
              "         anio         mes  asignacion_por_cargo_i   aguinaldo_ii  \\\n",
              "count   385.0  385.000000              385.000000     385.000000   \n",
              "mean   2019.0    6.631169           234234.368000   20282.084883   \n",
              "std       0.0    3.539077            35043.160085   45248.840725   \n",
              "min    2019.0    1.000000            74991.860000       0.000000   \n",
              "25%    2019.0    4.000000           224516.620000       0.000000   \n",
              "50%    2019.0    7.000000           239470.360000       0.000000   \n",
              "75%    2019.0   10.000000           249972.870000       0.000000   \n",
              "max    2019.0   12.000000           275089.750000  170855.560000   \n",
              "\n",
              "       total_salario_bruto_i_+_ii  \n",
              "count                  385.000000  \n",
              "mean                254516.452883  \n",
              "std                  51434.987870  \n",
              "min                 185396.540000  \n",
              "25%                 224516.620000  \n",
              "50%                 245811.620000  \n",
              "75%                 263531.980000  \n",
              "max                 445945.310000  "
            ],
            "text/html": [
              "\n",
              "  <div id=\"df-3dd992d7-6a9f-4389-a8c0-cf9f860b9e2c\">\n",
              "    <div class=\"colab-df-container\">\n",
              "      <div>\n",
              "<style scoped>\n",
              "    .dataframe tbody tr th:only-of-type {\n",
              "        vertical-align: middle;\n",
              "    }\n",
              "\n",
              "    .dataframe tbody tr th {\n",
              "        vertical-align: top;\n",
              "    }\n",
              "\n",
              "    .dataframe thead th {\n",
              "        text-align: right;\n",
              "    }\n",
              "</style>\n",
              "<table border=\"1\" class=\"dataframe\">\n",
              "  <thead>\n",
              "    <tr style=\"text-align: right;\">\n",
              "      <th></th>\n",
              "      <th>anio</th>\n",
              "      <th>mes</th>\n",
              "      <th>asignacion_por_cargo_i</th>\n",
              "      <th>aguinaldo_ii</th>\n",
              "      <th>total_salario_bruto_i_+_ii</th>\n",
              "    </tr>\n",
              "  </thead>\n",
              "  <tbody>\n",
              "    <tr>\n",
              "      <th>count</th>\n",
              "      <td>385.0</td>\n",
              "      <td>385.000000</td>\n",
              "      <td>385.000000</td>\n",
              "      <td>385.000000</td>\n",
              "      <td>385.000000</td>\n",
              "    </tr>\n",
              "    <tr>\n",
              "      <th>mean</th>\n",
              "      <td>2019.0</td>\n",
              "      <td>6.631169</td>\n",
              "      <td>234234.368000</td>\n",
              "      <td>20282.084883</td>\n",
              "      <td>254516.452883</td>\n",
              "    </tr>\n",
              "    <tr>\n",
              "      <th>std</th>\n",
              "      <td>0.0</td>\n",
              "      <td>3.539077</td>\n",
              "      <td>35043.160085</td>\n",
              "      <td>45248.840725</td>\n",
              "      <td>51434.987870</td>\n",
              "    </tr>\n",
              "    <tr>\n",
              "      <th>min</th>\n",
              "      <td>2019.0</td>\n",
              "      <td>1.000000</td>\n",
              "      <td>74991.860000</td>\n",
              "      <td>0.000000</td>\n",
              "      <td>185396.540000</td>\n",
              "    </tr>\n",
              "    <tr>\n",
              "      <th>25%</th>\n",
              "      <td>2019.0</td>\n",
              "      <td>4.000000</td>\n",
              "      <td>224516.620000</td>\n",
              "      <td>0.000000</td>\n",
              "      <td>224516.620000</td>\n",
              "    </tr>\n",
              "    <tr>\n",
              "      <th>50%</th>\n",
              "      <td>2019.0</td>\n",
              "      <td>7.000000</td>\n",
              "      <td>239470.360000</td>\n",
              "      <td>0.000000</td>\n",
              "      <td>245811.620000</td>\n",
              "    </tr>\n",
              "    <tr>\n",
              "      <th>75%</th>\n",
              "      <td>2019.0</td>\n",
              "      <td>10.000000</td>\n",
              "      <td>249972.870000</td>\n",
              "      <td>0.000000</td>\n",
              "      <td>263531.980000</td>\n",
              "    </tr>\n",
              "    <tr>\n",
              "      <th>max</th>\n",
              "      <td>2019.0</td>\n",
              "      <td>12.000000</td>\n",
              "      <td>275089.750000</td>\n",
              "      <td>170855.560000</td>\n",
              "      <td>445945.310000</td>\n",
              "    </tr>\n",
              "  </tbody>\n",
              "</table>\n",
              "</div>\n",
              "      <button class=\"colab-df-convert\" onclick=\"convertToInteractive('df-3dd992d7-6a9f-4389-a8c0-cf9f860b9e2c')\"\n",
              "              title=\"Convert this dataframe to an interactive table.\"\n",
              "              style=\"display:none;\">\n",
              "        \n",
              "  <svg xmlns=\"http://www.w3.org/2000/svg\" height=\"24px\"viewBox=\"0 0 24 24\"\n",
              "       width=\"24px\">\n",
              "    <path d=\"M0 0h24v24H0V0z\" fill=\"none\"/>\n",
              "    <path d=\"M18.56 5.44l.94 2.06.94-2.06 2.06-.94-2.06-.94-.94-2.06-.94 2.06-2.06.94zm-11 1L8.5 8.5l.94-2.06 2.06-.94-2.06-.94L8.5 2.5l-.94 2.06-2.06.94zm10 10l.94 2.06.94-2.06 2.06-.94-2.06-.94-.94-2.06-.94 2.06-2.06.94z\"/><path d=\"M17.41 7.96l-1.37-1.37c-.4-.4-.92-.59-1.43-.59-.52 0-1.04.2-1.43.59L10.3 9.45l-7.72 7.72c-.78.78-.78 2.05 0 2.83L4 21.41c.39.39.9.59 1.41.59.51 0 1.02-.2 1.41-.59l7.78-7.78 2.81-2.81c.8-.78.8-2.07 0-2.86zM5.41 20L4 18.59l7.72-7.72 1.47 1.35L5.41 20z\"/>\n",
              "  </svg>\n",
              "      </button>\n",
              "      \n",
              "  <style>\n",
              "    .colab-df-container {\n",
              "      display:flex;\n",
              "      flex-wrap:wrap;\n",
              "      gap: 12px;\n",
              "    }\n",
              "\n",
              "    .colab-df-convert {\n",
              "      background-color: #E8F0FE;\n",
              "      border: none;\n",
              "      border-radius: 50%;\n",
              "      cursor: pointer;\n",
              "      display: none;\n",
              "      fill: #1967D2;\n",
              "      height: 32px;\n",
              "      padding: 0 0 0 0;\n",
              "      width: 32px;\n",
              "    }\n",
              "\n",
              "    .colab-df-convert:hover {\n",
              "      background-color: #E2EBFA;\n",
              "      box-shadow: 0px 1px 2px rgba(60, 64, 67, 0.3), 0px 1px 3px 1px rgba(60, 64, 67, 0.15);\n",
              "      fill: #174EA6;\n",
              "    }\n",
              "\n",
              "    [theme=dark] .colab-df-convert {\n",
              "      background-color: #3B4455;\n",
              "      fill: #D2E3FC;\n",
              "    }\n",
              "\n",
              "    [theme=dark] .colab-df-convert:hover {\n",
              "      background-color: #434B5C;\n",
              "      box-shadow: 0px 1px 3px 1px rgba(0, 0, 0, 0.15);\n",
              "      filter: drop-shadow(0px 1px 2px rgba(0, 0, 0, 0.3));\n",
              "      fill: #FFFFFF;\n",
              "    }\n",
              "  </style>\n",
              "\n",
              "      <script>\n",
              "        const buttonEl =\n",
              "          document.querySelector('#df-3dd992d7-6a9f-4389-a8c0-cf9f860b9e2c button.colab-df-convert');\n",
              "        buttonEl.style.display =\n",
              "          google.colab.kernel.accessAllowed ? 'block' : 'none';\n",
              "\n",
              "        async function convertToInteractive(key) {\n",
              "          const element = document.querySelector('#df-3dd992d7-6a9f-4389-a8c0-cf9f860b9e2c');\n",
              "          const dataTable =\n",
              "            await google.colab.kernel.invokeFunction('convertToInteractive',\n",
              "                                                     [key], {});\n",
              "          if (!dataTable) return;\n",
              "\n",
              "          const docLinkHtml = 'Like what you see? Visit the ' +\n",
              "            '<a target=\"_blank\" href=https://colab.research.google.com/notebooks/data_table.ipynb>data table notebook</a>'\n",
              "            + ' to learn more about interactive tables.';\n",
              "          element.innerHTML = '';\n",
              "          dataTable['output_type'] = 'display_data';\n",
              "          await google.colab.output.renderOutput(dataTable, element);\n",
              "          const docLink = document.createElement('div');\n",
              "          docLink.innerHTML = docLinkHtml;\n",
              "          element.appendChild(docLink);\n",
              "        }\n",
              "      </script>\n",
              "    </div>\n",
              "  </div>\n",
              "  "
            ]
          },
          "metadata": {},
          "execution_count": 43
        }
      ],
      "source": [
        "df.describe()"
      ]
    },
    {
      "cell_type": "markdown",
      "metadata": {
        "id": "IvqggzKObgsD"
      },
      "source": [
        "### Para las variables categóricas\n"
      ]
    },
    {
      "cell_type": "code",
      "source": [
        "df['reparticion'].unique()"
      ],
      "metadata": {
        "id": "A43lNUdmaTEi"
      },
      "execution_count": null,
      "outputs": []
    },
    {
      "cell_type": "code",
      "execution_count": null,
      "metadata": {
        "id": "aX9qTM8obgsD",
        "outputId": "154b355b-304a-44cc-b89e-e9904daa3c10",
        "colab": {
          "base_uri": "https://localhost:8080/"
        }
      },
      "outputs": [
        {
          "output_type": "execute_result",
          "data": {
            "text/plain": [
              "SECR Desarrollo Ciudadano                                         13\n",
              "Ministerio de Salud                                               13\n",
              "SECR Justicia y Seguridad                                         13\n",
              "SECR de Medios                                                    13\n",
              "Jefe de Gobierno                                                  12\n",
              "SECR Legal y Técnica                                              12\n",
              "SS Contenidos                                                     12\n",
              "Ente de Turismo Ley Nº 2627                                       12\n",
              "Consejo de los Derechos de Niñas, Niños y Adoles - Presidencia    12\n",
              "Vicejefatura de Gobierno                                          12\n",
              "UPE Transferencia de Funciones y Facultades en Materia de Seg.    12\n",
              "SECR Administración de Seguridad y Emergencias                    12\n",
              "SECR Integración Social y Urbana                                  12\n",
              "SECR Integración Social Para Personas Mayores                     12\n",
              "SECR Planificación, Evaluación y Coordinación de Gestión          12\n",
              "SS Comunicacion                                                   12\n",
              "Ministerio de Gobierno                                            12\n",
              "Ministerio de Desarrollo Urbano y Transporte                      12\n",
              "Jefatura de Gabinete de Ministros                                 12\n",
              "Procuración General de la Ciudad de Buenos Aires                  12\n",
              "Sindicatura General de la Ciudad de Buenos Aires                  12\n",
              "Ministerio de Cultura                                             12\n",
              "SECR Transporte                                                   11\n",
              "Ministerio de Educación e Innovación                              11\n",
              "SECR Coordinación General                                         11\n",
              "SECR Cultura Ciudadana y Función Pública                          11\n",
              "SECR General y de Relaciones Internacionales                      11\n",
              "Ministerio de Economía y Finanzas                                 11\n",
              "Ministerio de Hábitat y Desarrollo Humano                         11\n",
              "SECR Atención y Gestión Ciudadana                                 11\n",
              "Ministerio de Ambiente y Espacio Público                          11\n",
              "Ministerio de Espacio Público e Higiene Urbana                     2\n",
              "SECR Ciencia, Tecnologia e Innovacion                              2\n",
              "Ministerio de Desarrollo Humano y Hábitat                          2\n",
              "SECR Desarrollo Urbano                                             1\n",
              "Ministerio de Desarrollo Económico y Producción                    1\n",
              "SECR Ambiente                                                      1\n",
              "SECR Comunicación, Contenidos y Participación Ciudadana            1\n",
              "SECR Atención Ciudadana y Gestión Comunal                          1\n",
              "Ministerio de Educación                                            1\n",
              "Ministerio de Hacienda y Finanzas                                  1\n",
              "SECR Innovación y Transformación Digital                           1\n",
              "SECR Transformación Cultural                                       1\n",
              "SECR Transporte y Obras Públicas                                   1\n",
              "SECR General y Relaciones Internacionales                          1\n",
              "SECR Asuntos Estratégicos                                          1\n",
              "Name: reparticion, dtype: int64"
            ]
          },
          "metadata": {},
          "execution_count": 44
        }
      ],
      "source": [
        "df['reparticion'].value_counts()"
      ]
    },
    {
      "cell_type": "markdown",
      "source": [
        "### Ejercicios Tiranic promedios\n",
        "\n",
        "1) ¿Cuál era la edad promedio de los pasajeros de cada clase (Pclass)?\n",
        "\n",
        "2) ¿Cuál fue la tarifa que pagaron en promedio los hombres? ¿Y las mujeres?\n"
      ],
      "metadata": {
        "id": "3Z_qOQ48N2Uf"
      }
    },
    {
      "cell_type": "code",
      "source": [],
      "metadata": {
        "id": "wRPuKyCnN8rW"
      },
      "execution_count": null,
      "outputs": []
    },
    {
      "cell_type": "code",
      "source": [],
      "metadata": {
        "id": "ScUy2OWdN8wA"
      },
      "execution_count": null,
      "outputs": []
    },
    {
      "cell_type": "code",
      "source": [],
      "metadata": {
        "id": "5LebvMjcN81h"
      },
      "execution_count": null,
      "outputs": []
    },
    {
      "cell_type": "markdown",
      "metadata": {
        "id": "MpqGCjOXbgsG"
      },
      "source": [
        "## Ordenar por columnas y limitar la cantidad de resultados"
      ]
    },
    {
      "cell_type": "markdown",
      "metadata": {
        "id": "ZwQ1Pn8tbgsH"
      },
      "source": [
        "Otra forma de resolver el problema de encontrar el mayor y el menos es con el método sort_values. Este método puede recibir un valor único (nombre de columna) o una lista (con varias columnas) y un orden asc o desc. Por default el orden es asc.\n",
        "\n",
        "Si combinamos el ordenamiento con el método head() para limitar la cantidad de resultados, podemos encontrar los N primeros. "
      ]
    },
    {
      "cell_type": "code",
      "execution_count": null,
      "metadata": {
        "id": "fBP_8bx1bgsH"
      },
      "outputs": [],
      "source": [
        "# Recordemos cómo abrir la documentación de un método\n",
        "df.sort_values?"
      ]
    },
    {
      "cell_type": "code",
      "execution_count": null,
      "metadata": {
        "id": "OC-s64jJbgsH",
        "outputId": "b3435416-b734-47bc-bf06-5015cada6d00",
        "colab": {
          "base_uri": "https://localhost:8080/",
          "height": 197
        }
      },
      "outputs": [
        {
          "output_type": "execute_result",
          "data": {
            "text/plain": [
              "              cuil  anio  mes funcionario_apellido funcionario_nombre  \\\n",
              "374  20-13872301-2  2019   12             ASTARLOA      GABRIEL MARIA   \n",
              "\n",
              "                                          reparticion  asignacion_por_cargo_i  \\\n",
              "374  Procuración General de la Ciudad de Buenos Aires               275089.75   \n",
              "\n",
              "     aguinaldo_ii  total_salario_bruto_i_+_ii observaciones  \n",
              "374     170855.56                   445945.31           NaN  "
            ],
            "text/html": [
              "\n",
              "  <div id=\"df-ab31b72e-d6b1-45ed-89d3-912ce4c50886\">\n",
              "    <div class=\"colab-df-container\">\n",
              "      <div>\n",
              "<style scoped>\n",
              "    .dataframe tbody tr th:only-of-type {\n",
              "        vertical-align: middle;\n",
              "    }\n",
              "\n",
              "    .dataframe tbody tr th {\n",
              "        vertical-align: top;\n",
              "    }\n",
              "\n",
              "    .dataframe thead th {\n",
              "        text-align: right;\n",
              "    }\n",
              "</style>\n",
              "<table border=\"1\" class=\"dataframe\">\n",
              "  <thead>\n",
              "    <tr style=\"text-align: right;\">\n",
              "      <th></th>\n",
              "      <th>cuil</th>\n",
              "      <th>anio</th>\n",
              "      <th>mes</th>\n",
              "      <th>funcionario_apellido</th>\n",
              "      <th>funcionario_nombre</th>\n",
              "      <th>reparticion</th>\n",
              "      <th>asignacion_por_cargo_i</th>\n",
              "      <th>aguinaldo_ii</th>\n",
              "      <th>total_salario_bruto_i_+_ii</th>\n",
              "      <th>observaciones</th>\n",
              "    </tr>\n",
              "  </thead>\n",
              "  <tbody>\n",
              "    <tr>\n",
              "      <th>374</th>\n",
              "      <td>20-13872301-2</td>\n",
              "      <td>2019</td>\n",
              "      <td>12</td>\n",
              "      <td>ASTARLOA</td>\n",
              "      <td>GABRIEL MARIA</td>\n",
              "      <td>Procuración General de la Ciudad de Buenos Aires</td>\n",
              "      <td>275089.75</td>\n",
              "      <td>170855.56</td>\n",
              "      <td>445945.31</td>\n",
              "      <td>NaN</td>\n",
              "    </tr>\n",
              "  </tbody>\n",
              "</table>\n",
              "</div>\n",
              "      <button class=\"colab-df-convert\" onclick=\"convertToInteractive('df-ab31b72e-d6b1-45ed-89d3-912ce4c50886')\"\n",
              "              title=\"Convert this dataframe to an interactive table.\"\n",
              "              style=\"display:none;\">\n",
              "        \n",
              "  <svg xmlns=\"http://www.w3.org/2000/svg\" height=\"24px\"viewBox=\"0 0 24 24\"\n",
              "       width=\"24px\">\n",
              "    <path d=\"M0 0h24v24H0V0z\" fill=\"none\"/>\n",
              "    <path d=\"M18.56 5.44l.94 2.06.94-2.06 2.06-.94-2.06-.94-.94-2.06-.94 2.06-2.06.94zm-11 1L8.5 8.5l.94-2.06 2.06-.94-2.06-.94L8.5 2.5l-.94 2.06-2.06.94zm10 10l.94 2.06.94-2.06 2.06-.94-2.06-.94-.94-2.06-.94 2.06-2.06.94z\"/><path d=\"M17.41 7.96l-1.37-1.37c-.4-.4-.92-.59-1.43-.59-.52 0-1.04.2-1.43.59L10.3 9.45l-7.72 7.72c-.78.78-.78 2.05 0 2.83L4 21.41c.39.39.9.59 1.41.59.51 0 1.02-.2 1.41-.59l7.78-7.78 2.81-2.81c.8-.78.8-2.07 0-2.86zM5.41 20L4 18.59l7.72-7.72 1.47 1.35L5.41 20z\"/>\n",
              "  </svg>\n",
              "      </button>\n",
              "      \n",
              "  <style>\n",
              "    .colab-df-container {\n",
              "      display:flex;\n",
              "      flex-wrap:wrap;\n",
              "      gap: 12px;\n",
              "    }\n",
              "\n",
              "    .colab-df-convert {\n",
              "      background-color: #E8F0FE;\n",
              "      border: none;\n",
              "      border-radius: 50%;\n",
              "      cursor: pointer;\n",
              "      display: none;\n",
              "      fill: #1967D2;\n",
              "      height: 32px;\n",
              "      padding: 0 0 0 0;\n",
              "      width: 32px;\n",
              "    }\n",
              "\n",
              "    .colab-df-convert:hover {\n",
              "      background-color: #E2EBFA;\n",
              "      box-shadow: 0px 1px 2px rgba(60, 64, 67, 0.3), 0px 1px 3px 1px rgba(60, 64, 67, 0.15);\n",
              "      fill: #174EA6;\n",
              "    }\n",
              "\n",
              "    [theme=dark] .colab-df-convert {\n",
              "      background-color: #3B4455;\n",
              "      fill: #D2E3FC;\n",
              "    }\n",
              "\n",
              "    [theme=dark] .colab-df-convert:hover {\n",
              "      background-color: #434B5C;\n",
              "      box-shadow: 0px 1px 3px 1px rgba(0, 0, 0, 0.15);\n",
              "      filter: drop-shadow(0px 1px 2px rgba(0, 0, 0, 0.3));\n",
              "      fill: #FFFFFF;\n",
              "    }\n",
              "  </style>\n",
              "\n",
              "      <script>\n",
              "        const buttonEl =\n",
              "          document.querySelector('#df-ab31b72e-d6b1-45ed-89d3-912ce4c50886 button.colab-df-convert');\n",
              "        buttonEl.style.display =\n",
              "          google.colab.kernel.accessAllowed ? 'block' : 'none';\n",
              "\n",
              "        async function convertToInteractive(key) {\n",
              "          const element = document.querySelector('#df-ab31b72e-d6b1-45ed-89d3-912ce4c50886');\n",
              "          const dataTable =\n",
              "            await google.colab.kernel.invokeFunction('convertToInteractive',\n",
              "                                                     [key], {});\n",
              "          if (!dataTable) return;\n",
              "\n",
              "          const docLinkHtml = 'Like what you see? Visit the ' +\n",
              "            '<a target=\"_blank\" href=https://colab.research.google.com/notebooks/data_table.ipynb>data table notebook</a>'\n",
              "            + ' to learn more about interactive tables.';\n",
              "          element.innerHTML = '';\n",
              "          dataTable['output_type'] = 'display_data';\n",
              "          await google.colab.output.renderOutput(dataTable, element);\n",
              "          const docLink = document.createElement('div');\n",
              "          docLink.innerHTML = docLinkHtml;\n",
              "          element.appendChild(docLink);\n",
              "        }\n",
              "      </script>\n",
              "    </div>\n",
              "  </div>\n",
              "  "
            ]
          },
          "metadata": {},
          "execution_count": 48
        }
      ],
      "source": [
        "# Calculamos el máximo\n",
        "df.sort_values('total_salario_bruto_i_+_ii',ascending=False).head(1)"
      ]
    },
    {
      "cell_type": "code",
      "execution_count": null,
      "metadata": {
        "id": "w4XN09k3bgsI",
        "outputId": "4e63e48c-962f-4a41-9071-31100c5b0765",
        "colab": {
          "base_uri": "https://localhost:8080/",
          "height": 214
        }
      },
      "outputs": [
        {
          "output_type": "execute_result",
          "data": {
            "text/plain": [
              "              cuil  anio  mes funcionario_apellido funcionario_nombre  \\\n",
              "344  27-30744939-6  2019   12              FERRERO           GENOVEVA   \n",
              "\n",
              "                                        reparticion  asignacion_por_cargo_i  \\\n",
              "344  SECR Administración de Seguridad y Emergencias                74991.86   \n",
              "\n",
              "     aguinaldo_ii  total_salario_bruto_i_+_ii observaciones  \n",
              "344     110404.68                   185396.54  baja al 9/12  "
            ],
            "text/html": [
              "\n",
              "  <div id=\"df-a4f5fa39-ffcf-48ad-a674-93efb14022e9\">\n",
              "    <div class=\"colab-df-container\">\n",
              "      <div>\n",
              "<style scoped>\n",
              "    .dataframe tbody tr th:only-of-type {\n",
              "        vertical-align: middle;\n",
              "    }\n",
              "\n",
              "    .dataframe tbody tr th {\n",
              "        vertical-align: top;\n",
              "    }\n",
              "\n",
              "    .dataframe thead th {\n",
              "        text-align: right;\n",
              "    }\n",
              "</style>\n",
              "<table border=\"1\" class=\"dataframe\">\n",
              "  <thead>\n",
              "    <tr style=\"text-align: right;\">\n",
              "      <th></th>\n",
              "      <th>cuil</th>\n",
              "      <th>anio</th>\n",
              "      <th>mes</th>\n",
              "      <th>funcionario_apellido</th>\n",
              "      <th>funcionario_nombre</th>\n",
              "      <th>reparticion</th>\n",
              "      <th>asignacion_por_cargo_i</th>\n",
              "      <th>aguinaldo_ii</th>\n",
              "      <th>total_salario_bruto_i_+_ii</th>\n",
              "      <th>observaciones</th>\n",
              "    </tr>\n",
              "  </thead>\n",
              "  <tbody>\n",
              "    <tr>\n",
              "      <th>344</th>\n",
              "      <td>27-30744939-6</td>\n",
              "      <td>2019</td>\n",
              "      <td>12</td>\n",
              "      <td>FERRERO</td>\n",
              "      <td>GENOVEVA</td>\n",
              "      <td>SECR Administración de Seguridad y Emergencias</td>\n",
              "      <td>74991.86</td>\n",
              "      <td>110404.68</td>\n",
              "      <td>185396.54</td>\n",
              "      <td>baja al 9/12</td>\n",
              "    </tr>\n",
              "  </tbody>\n",
              "</table>\n",
              "</div>\n",
              "      <button class=\"colab-df-convert\" onclick=\"convertToInteractive('df-a4f5fa39-ffcf-48ad-a674-93efb14022e9')\"\n",
              "              title=\"Convert this dataframe to an interactive table.\"\n",
              "              style=\"display:none;\">\n",
              "        \n",
              "  <svg xmlns=\"http://www.w3.org/2000/svg\" height=\"24px\"viewBox=\"0 0 24 24\"\n",
              "       width=\"24px\">\n",
              "    <path d=\"M0 0h24v24H0V0z\" fill=\"none\"/>\n",
              "    <path d=\"M18.56 5.44l.94 2.06.94-2.06 2.06-.94-2.06-.94-.94-2.06-.94 2.06-2.06.94zm-11 1L8.5 8.5l.94-2.06 2.06-.94-2.06-.94L8.5 2.5l-.94 2.06-2.06.94zm10 10l.94 2.06.94-2.06 2.06-.94-2.06-.94-.94-2.06-.94 2.06-2.06.94z\"/><path d=\"M17.41 7.96l-1.37-1.37c-.4-.4-.92-.59-1.43-.59-.52 0-1.04.2-1.43.59L10.3 9.45l-7.72 7.72c-.78.78-.78 2.05 0 2.83L4 21.41c.39.39.9.59 1.41.59.51 0 1.02-.2 1.41-.59l7.78-7.78 2.81-2.81c.8-.78.8-2.07 0-2.86zM5.41 20L4 18.59l7.72-7.72 1.47 1.35L5.41 20z\"/>\n",
              "  </svg>\n",
              "      </button>\n",
              "      \n",
              "  <style>\n",
              "    .colab-df-container {\n",
              "      display:flex;\n",
              "      flex-wrap:wrap;\n",
              "      gap: 12px;\n",
              "    }\n",
              "\n",
              "    .colab-df-convert {\n",
              "      background-color: #E8F0FE;\n",
              "      border: none;\n",
              "      border-radius: 50%;\n",
              "      cursor: pointer;\n",
              "      display: none;\n",
              "      fill: #1967D2;\n",
              "      height: 32px;\n",
              "      padding: 0 0 0 0;\n",
              "      width: 32px;\n",
              "    }\n",
              "\n",
              "    .colab-df-convert:hover {\n",
              "      background-color: #E2EBFA;\n",
              "      box-shadow: 0px 1px 2px rgba(60, 64, 67, 0.3), 0px 1px 3px 1px rgba(60, 64, 67, 0.15);\n",
              "      fill: #174EA6;\n",
              "    }\n",
              "\n",
              "    [theme=dark] .colab-df-convert {\n",
              "      background-color: #3B4455;\n",
              "      fill: #D2E3FC;\n",
              "    }\n",
              "\n",
              "    [theme=dark] .colab-df-convert:hover {\n",
              "      background-color: #434B5C;\n",
              "      box-shadow: 0px 1px 3px 1px rgba(0, 0, 0, 0.15);\n",
              "      filter: drop-shadow(0px 1px 2px rgba(0, 0, 0, 0.3));\n",
              "      fill: #FFFFFF;\n",
              "    }\n",
              "  </style>\n",
              "\n",
              "      <script>\n",
              "        const buttonEl =\n",
              "          document.querySelector('#df-a4f5fa39-ffcf-48ad-a674-93efb14022e9 button.colab-df-convert');\n",
              "        buttonEl.style.display =\n",
              "          google.colab.kernel.accessAllowed ? 'block' : 'none';\n",
              "\n",
              "        async function convertToInteractive(key) {\n",
              "          const element = document.querySelector('#df-a4f5fa39-ffcf-48ad-a674-93efb14022e9');\n",
              "          const dataTable =\n",
              "            await google.colab.kernel.invokeFunction('convertToInteractive',\n",
              "                                                     [key], {});\n",
              "          if (!dataTable) return;\n",
              "\n",
              "          const docLinkHtml = 'Like what you see? Visit the ' +\n",
              "            '<a target=\"_blank\" href=https://colab.research.google.com/notebooks/data_table.ipynb>data table notebook</a>'\n",
              "            + ' to learn more about interactive tables.';\n",
              "          element.innerHTML = '';\n",
              "          dataTable['output_type'] = 'display_data';\n",
              "          await google.colab.output.renderOutput(dataTable, element);\n",
              "          const docLink = document.createElement('div');\n",
              "          docLink.innerHTML = docLinkHtml;\n",
              "          element.appendChild(docLink);\n",
              "        }\n",
              "      </script>\n",
              "    </div>\n",
              "  </div>\n",
              "  "
            ]
          },
          "metadata": {},
          "execution_count": 49
        }
      ],
      "source": [
        "# Calculamos el mínimo\n",
        "df.sort_values('total_salario_bruto_i_+_ii').head(1)"
      ]
    }
  ]
}
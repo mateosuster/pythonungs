{
  "nbformat": 4,
  "nbformat_minor": 0,
  "metadata": {
    "colab": {
      "name": "Ejercicios pandas.ipynb",
      "provenance": [],
      "authorship_tag": "ABX9TyOFV0nDpKKUURij/qdMQtTz",
      "include_colab_link": true
    },
    "kernelspec": {
      "name": "python3",
      "display_name": "Python 3"
    },
    "language_info": {
      "name": "python"
    }
  },
  "cells": [
    {
      "cell_type": "markdown",
      "metadata": {
        "id": "view-in-github",
        "colab_type": "text"
      },
      "source": [
        "<a href=\"https://colab.research.google.com/github/mateosuster/pythonungs/blob/master/codigos/MPE_III_Ejercicios_pandas.ipynb\" target=\"_parent\"><img src=\"https://colab.research.google.com/assets/colab-badge.svg\" alt=\"Open In Colab\"/></a>"
      ]
    },
    {
      "cell_type": "markdown",
      "source": [
        "# MPE III - Ejercicios con Pandas"
      ],
      "metadata": {
        "id": "2ONYSwtS-Rx2"
      }
    },
    {
      "cell_type": "markdown",
      "source": [
        "## Problema armando un dataframe de cero\n",
        "\n",
        "Construir un dataframe a partir de dos objetos tipo *Series* con información de provincias argentinas (no más de 5) de:\n",
        "* superficie o área, **a partir de un diccionario**\n",
        "* población, **a partir de dos listas** (una con el index y otra con el valor)\n",
        "\n",
        "El índice del dataframe debe ser el nombre de las provincias, el cual debe ser común a las dos series independientemente construidas (de caso contrario, no se puede armar el dataframe correctamente)."
      ],
      "metadata": {
        "id": "Thep3iiSTaqM"
      }
    },
    {
      "cell_type": "markdown",
      "source": [
        "Recordemos que:\n",
        "* Una *Series* es un objeto similar a un vector unidimensional\n",
        "* Contiene un array de valores y un array asociado de etiquetas de estos valores denominado como **índice**.\n",
        "* Una Serie también puede ser pensada como un diccionario de tamaño fijo con sus claves ordenadas.\n",
        "* Siempre es bueno revisar la documentación de las funciones. Prestar atención al parámetro index de la función [`pandas.Series()`](https://pandas.pydata.org/docs/reference/api/pandas.Series.html), el cual puede ser de utilidad para este ejercicio.\n"
      ],
      "metadata": {
        "id": "HW0c7zm1TL4j"
      }
    },
    {
      "cell_type": "code",
      "source": [
        ""
      ],
      "metadata": {
        "id": "QU99QQ_OTMCU"
      },
      "execution_count": null,
      "outputs": []
    },
    {
      "cell_type": "code",
      "source": [
        ""
      ],
      "metadata": {
        "id": "8s5vqCilXo8L"
      },
      "execution_count": null,
      "outputs": []
    },
    {
      "cell_type": "code",
      "source": [
        ""
      ],
      "metadata": {
        "id": "gxBwAHbCXpBL"
      },
      "execution_count": null,
      "outputs": []
    },
    {
      "cell_type": "code",
      "source": [
        ""
      ],
      "metadata": {
        "id": "8cEIGJ3vXpN2"
      },
      "execution_count": null,
      "outputs": []
    },
    {
      "cell_type": "markdown",
      "source": [
        "## Problema modificando índice\n",
        "\n",
        "Modifique el índice del dataset anterior con nombres de municipios bonarenses. \n",
        "\n",
        "Nota: recuerde que para ver el índice de un DataFrame se puede usar el método `.index` al cual se le pueden asignar nuevos valores."
      ],
      "metadata": {
        "id": "zWAJks9qak1M"
      }
    },
    {
      "cell_type": "code",
      "source": [
        ""
      ],
      "metadata": {
        "id": "4u7g5K8SalBs"
      },
      "execution_count": null,
      "outputs": []
    },
    {
      "cell_type": "markdown",
      "source": [
        "### Problema Titanic tarifa\n",
        "Según el dataset del Titanic, ¿cuántos pasajeros pagaron una tarifa menor a 25?"
      ],
      "metadata": {
        "id": "TklMGQjq-tkp"
      }
    },
    {
      "cell_type": "code",
      "source": [
        ""
      ],
      "metadata": {
        "id": "NjzzAxwu_EXF"
      },
      "execution_count": null,
      "outputs": []
    },
    {
      "cell_type": "markdown",
      "source": [
        "### Problema sueldos meses\n",
        "A partir del dataset de sueldos de funcionarios de CABA consulte aquellos registros entre los meses 2 y 4."
      ],
      "metadata": {
        "id": "gvFp7TXo-ZR0"
      }
    },
    {
      "cell_type": "code",
      "execution_count": null,
      "metadata": {
        "id": "pN0Sptlx-OZA"
      },
      "outputs": [],
      "source": [
        ""
      ]
    },
    {
      "cell_type": "markdown",
      "source": [
        "## Problema sueldos repartición\n",
        "\n",
        "Filtre del dataset de sueldos las observaciones pertenecientes al Ministerio de Cultura o a la Procuración General de la Ciudad de Buenos Aires"
      ],
      "metadata": {
        "id": "dDZEmxhiAw8u"
      }
    },
    {
      "cell_type": "code",
      "source": [
        ""
      ],
      "metadata": {
        "id": "hibV2bb3AyUe"
      },
      "execution_count": null,
      "outputs": []
    },
    {
      "cell_type": "markdown",
      "source": [
        "### Problema traducción a query\n",
        "\n",
        "Traduzca 2 ó 3 filtros de los problemas anteriores a la sintaxis query (Nota: hay que utilizar las función homónima). ¿Qué diferencia ve entre los códigos escritos con respecto al ejercicio anterior?\n",
        "\n"
      ],
      "metadata": {
        "id": "ybDJfr0G_FSJ"
      }
    },
    {
      "cell_type": "code",
      "source": [
        ""
      ],
      "metadata": {
        "id": "L5Yq6Zcy-7m8"
      },
      "execution_count": null,
      "outputs": []
    },
    {
      "cell_type": "markdown",
      "source": [
        "## Y más problemas de indexing con Titanic...\n",
        "\n",
        "1) ¿Cuántos menores de 18 años había? ¿Cuántos sobrevivieron?\n",
        "\n",
        "2) Seleccionen únicamente las columnas Sex y Survived y almacenenlas en un nuevo DataFrame que se llame df_titanic_subset.\n"
      ],
      "metadata": {
        "id": "LBE99X0GG6o5"
      }
    },
    {
      "cell_type": "code",
      "source": [
        ""
      ],
      "metadata": {
        "id": "iMwoFMC9G6uk"
      },
      "execution_count": null,
      "outputs": []
    },
    {
      "cell_type": "code",
      "source": [
        ""
      ],
      "metadata": {
        "id": "Q_EDYkn-HCEQ"
      },
      "execution_count": null,
      "outputs": []
    },
    {
      "cell_type": "markdown",
      "source": [
        "## Problemas de agregación con Titanic.\n",
        "\n",
        "1) ¿Cuánto pagaron en total los pasajeros de primera clase para subir al Titanic? ¿Y los de tercera?\n",
        "\n",
        "2) ¿Cuántos pasajeros había en cada tipo de clase?"
      ],
      "metadata": {
        "id": "2h2EI3rmH_88"
      }
    },
    {
      "cell_type": "code",
      "source": [
        ""
      ],
      "metadata": {
        "id": "nuGgDa-uIXiu"
      },
      "execution_count": null,
      "outputs": []
    },
    {
      "cell_type": "code",
      "source": [
        ""
      ],
      "metadata": {
        "id": "8qsgvsF3IXpG"
      },
      "execution_count": null,
      "outputs": []
    },
    {
      "cell_type": "code",
      "source": [
        ""
      ],
      "metadata": {
        "id": "DCGRQpsaIXs9"
      },
      "execution_count": null,
      "outputs": []
    },
    {
      "cell_type": "code",
      "source": [
        ""
      ],
      "metadata": {
        "id": "MlSjmPE9IXyx"
      },
      "execution_count": null,
      "outputs": []
    }
  ]
}
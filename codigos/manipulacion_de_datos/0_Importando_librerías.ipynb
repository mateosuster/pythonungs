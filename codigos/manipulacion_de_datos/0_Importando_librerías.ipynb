{
  "nbformat": 4,
  "nbformat_minor": 0,
  "metadata": {
    "colab": {
      "name": "MPE III - 5) Importando librerías.ipynb",
      "provenance": [],
      "authorship_tag": "ABX9TyPM2MMqJux28G5vFg5vqsCQ",
      "include_colab_link": true
    },
    "kernelspec": {
      "name": "python3",
      "display_name": "Python 3"
    },
    "language_info": {
      "name": "python"
    }
  },
  "cells": [
    {
      "cell_type": "markdown",
      "metadata": {
        "id": "view-in-github",
        "colab_type": "text"
      },
      "source": [
        "<a href=\"https://colab.research.google.com/github/mateosuster/pythonungs/blob/master/codigos/manipulacion_de_datos/0_Importando_librer%C3%ADas.ipynb\" target=\"_parent\"><img src=\"https://colab.research.google.com/assets/colab-badge.svg\" alt=\"Open In Colab\"/></a>"
      ]
    },
    {
      "cell_type": "markdown",
      "metadata": {
        "id": "JOEpImumZ9us"
      },
      "source": [
        "# Importar librerías\n",
        "\n",
        "Python posee un gran variedad de librerías para todo tipo de usos, desde la creación y apertura de archivos en cualquier sistema operativo hasta la extracción de datos en archivos de Word o Excel, pasando por el manejo y análisis de enormes cantidades de información provenientes de la bolsa de valores o de experimentos astronómicos, climáticos o biológicos.\n",
        "\n",
        "La ventaja de Python sobre otros lenguajes de programación es que posee un avanzado mecanismo para importar librerías o comandos específicos de alguna de ellas, lo que hace muy sencillo usarlas para beneficio del programador. A continuación veremos las distintas formas en que puede hacerse esto."
      ]
    },
    {
      "cell_type": "markdown",
      "metadata": {
        "id": "RFnwYPdA0g29"
      },
      "source": [
        "## Usando `import`\n",
        "\n",
        "La primera opción, y la más sencilla, es usar el comando `import` seguido del nombre la librería, así:\n",
        "\n",
        "```python\n",
        "import math\n",
        "```\n",
        "\n",
        "Cuando queramos usar algún comando de la librería, debemos llamarla por su nombre seguido de un punto (`.`) y la tecla <kbd>Tab</kbd>. Inmediatamente deberá aparecer una lista con las funciones que hacen parte de la misma. así:"
      ]
    },
    {
      "cell_type": "code",
      "metadata": {
        "id": "NXAKuF0S0g29"
      },
      "source": [
        "import math"
      ],
      "execution_count": null,
      "outputs": []
    },
    {
      "cell_type": "code",
      "metadata": {
        "id": "AyM37rUQ0g3A"
      },
      "source": [
        "math.pi"
      ],
      "execution_count": null,
      "outputs": []
    },
    {
      "cell_type": "code",
      "metadata": {
        "id": "Qk9w743d0g3C"
      },
      "source": [
        "math.cos(5)"
      ],
      "execution_count": null,
      "outputs": []
    },
    {
      "cell_type": "markdown",
      "metadata": {
        "id": "zOViekt20g3F"
      },
      "source": [
        "Como `math` es la librería de funciones matemáticas básicas de Python, podemos utilizarla para calcular el $\\textrm{sin}(\\pi/2)$, por ejemplo:"
      ]
    },
    {
      "cell_type": "code",
      "metadata": {
        "id": "Qu7H9Wzh0g3F"
      },
      "source": [
        "math.sin(math.pi/2)"
      ],
      "execution_count": null,
      "outputs": []
    },
    {
      "cell_type": "code",
      "source": [
        "math.log10(2)"
      ],
      "metadata": {
        "id": "Zfn44y9qiigc"
      },
      "execution_count": null,
      "outputs": []
    },
    {
      "cell_type": "markdown",
      "metadata": {
        "id": "luyYB4_fbwBb"
      },
      "source": [
        "Si no invocamos la librería previamente al uso de la función, Python tirará un error."
      ]
    },
    {
      "cell_type": "code",
      "metadata": {
        "id": "iLqDsZdFbsbX"
      },
      "source": [
        "cos(5)"
      ],
      "execution_count": null,
      "outputs": []
    },
    {
      "cell_type": "markdown",
      "metadata": {
        "id": "JP0Omiof0g3H"
      },
      "source": [
        "## Usando `from`\n",
        "\n",
        "Otra opción es sólo llamar un comando específico de una librería determinada. Para ello usamos la siguiente sintaxis:\n",
        "\n",
        "```python\n",
        "from math import sin\n",
        "```\n",
        "\n",
        "En este caso sólo se carga el comando `sin`, sin cargar el resto de la librería. Esto puede ser muy ventajoso cuando la librería es grande y sólo queremos utilizar una pequeña funcionalidad de la misma. Otra ventaja es que no es necesario usar el nombre de la librería antes del comando."
      ]
    },
    {
      "cell_type": "code",
      "metadata": {
        "id": "v2-k8Qhv0g3I"
      },
      "source": [
        "from math import sin"
      ],
      "execution_count": null,
      "outputs": []
    },
    {
      "cell_type": "code",
      "metadata": {
        "id": "wFokjpr40g3K"
      },
      "source": [
        "sin(3.1)"
      ],
      "execution_count": null,
      "outputs": []
    },
    {
      "cell_type": "code",
      "metadata": {
        "id": "0T5z4wBy0g3N"
      },
      "source": [
        "sin(pi/2)"
      ],
      "execution_count": null,
      "outputs": []
    },
    {
      "cell_type": "markdown",
      "metadata": {
        "id": "x6PWnLRx0g3P"
      },
      "source": [
        "Para no tener que escribir **una línea** `from math import ...` **por cada símbolo que se desee importar**, se puede usar la misma sintaxis de arriba con cada símbolo separado por una coma, así:"
      ]
    },
    {
      "cell_type": "code",
      "metadata": {
        "id": "ovkG91i-0g3P"
      },
      "source": [
        "from math import sin, pi"
      ],
      "execution_count": null,
      "outputs": []
    },
    {
      "cell_type": "markdown",
      "metadata": {
        "id": "br2oatcN0g3R"
      },
      "source": [
        "Al cargar `pi` de `math` de esta forma, ya no veremos el error anterior:"
      ]
    },
    {
      "cell_type": "code",
      "metadata": {
        "id": "tb3QQeJn0g3S"
      },
      "source": [
        "sin(pi/2)"
      ],
      "execution_count": null,
      "outputs": []
    },
    {
      "cell_type": "markdown",
      "metadata": {
        "id": "KemIHOIQ0g3U"
      },
      "source": [
        "## Usando un nombre corto\n",
        "\n",
        "Una opción para no tener que llamar una librería por su nombre completo, es renombrarla al momento de importarla. Esto es una práctica bastante común, pues permite utilizar nombres cortos para las librerías, lo que hace más fácil llamarlas con el `.`\n",
        "\n",
        "\n",
        " Para ello se usa la siguiente sintaxis:\n",
        "\n",
        "```python\n",
        "import math as mt\n",
        "```\n",
        "\n",
        "De esta forma, en lugar de `math` sólo usamos `mt`, así:"
      ]
    },
    {
      "cell_type": "code",
      "metadata": {
        "id": "B2KvQDBR0g3U"
      },
      "source": [
        "import math as mt"
      ],
      "execution_count": null,
      "outputs": []
    },
    {
      "cell_type": "code",
      "metadata": {
        "id": "DQo-3f6r0g3X"
      },
      "source": [
        "mt.sin(mt.pi/2)"
      ],
      "execution_count": null,
      "outputs": []
    },
    {
      "cell_type": "markdown",
      "metadata": {
        "id": "L2ELs-3C0g3Y"
      },
      "source": [
        "## Importando todos los comandos\n",
        "\n",
        "La última opción consiste en llamar todos los comandos de una librería sin que estén precedidos por su nombre. Para ello se utiliza la sintaxis:\n",
        "\n",
        "```python\n",
        "from math import *\n",
        "```\n",
        "\n",
        "**Advertencia**:\n",
        "\n",
        "Esta opción no es muy recomendable ya que los comandos de varias librerías pueden tener el mismo nombre, lo que puede resultar en serias confusiones. Podemos pisar funciones que hemos construido previamente\n",
        "\n",
        "Un ejemplo de este caso es el siguiente:"
      ]
    },
    {
      "cell_type": "code",
      "metadata": {
        "id": "nSQsq5AE0g3Z"
      },
      "source": [
        "from math import *"
      ],
      "execution_count": null,
      "outputs": []
    },
    {
      "cell_type": "code",
      "metadata": {
        "id": "j7UjdYOO0g3a",
        "colab": {
          "base_uri": "https://localhost:8080/"
        },
        "outputId": "75d6e58a-7ad4-474f-d3a5-4b65459371cd"
      },
      "source": [
        "log10(exp(9)/2)"
      ],
      "execution_count": null,
      "outputs": [
        {
          "output_type": "execute_result",
          "data": {
            "text/plain": [
              "3.607620341465285"
            ]
          },
          "metadata": {},
          "execution_count": 4
        }
      ]
    }
  ]
}
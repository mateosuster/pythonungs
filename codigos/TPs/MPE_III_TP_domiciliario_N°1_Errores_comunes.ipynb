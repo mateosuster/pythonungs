{
  "nbformat": 4,
  "nbformat_minor": 0,
  "metadata": {
    "colab": {
      "provenance": [],
      "toc_visible": true,
      "include_colab_link": true
    },
    "kernelspec": {
      "name": "python3",
      "display_name": "Python 3"
    },
    "language_info": {
      "name": "python"
    }
  },
  "cells": [
    {
      "cell_type": "markdown",
      "metadata": {
        "id": "view-in-github",
        "colab_type": "text"
      },
      "source": [
        "<a href=\"https://colab.research.google.com/github/mateosuster/pythonungs/blob/master/codigos/TPs/MPE_III_TP_domiciliario_N%C2%B01_Errores_comunes.ipynb\" target=\"_parent\"><img src=\"https://colab.research.google.com/assets/colab-badge.svg\" alt=\"Open In Colab\"/></a>"
      ]
    },
    {
      "cell_type": "markdown",
      "metadata": {
        "id": "eLiRPK5bAfFH"
      },
      "source": [
        "# Trabajo Práctico N°1 de introducción a Python\n",
        "## UNGS - Matemática para Economistas III\n",
        "### Errores comunes y posible resolución\n",
        "\n",
        "Se presentan algunos de los errores comunes presentados por los estudiantes en la resolución del Trabajo Práctico N°1. También se comparte una posible resolución correcta, la cual es sólo una de las tantas posibles.\n",
        "\n",
        "\n"
      ]
    },
    {
      "cell_type": "markdown",
      "metadata": {
        "id": "4pTLMa3c-DfT"
      },
      "source": [
        "\n",
        "\n",
        "## Presentación de la lista\n",
        "\n",
        "A partir de operar únicamente con los valores de las siguientes listas:"
      ]
    },
    {
      "cell_type": "code",
      "metadata": {
        "id": "g7bdrd5_9_7S"
      },
      "source": [
        "# Ejecute estas lineas de código sin modificar\n",
        "lista_1 = [100, 200, 'string', 3, 56, 7, 81, 5, 92, 4, 1, 23, 12, 'al fin...', 2, 3, 17]\n",
        "lista_2 = [1, 3.5, 'que molesto este texto', 500, 2, 98, 33, 4]\n",
        "lista_3 = [9, 4, 2, 1, 60, 15, 3, ['ojo que esto es', 'otra lista'], 45]"
      ],
      "execution_count": null,
      "outputs": []
    },
    {
      "cell_type": "markdown",
      "metadata": {
        "id": "4eZXmfIMAIU9"
      },
      "source": [
        "## Problema 1"
      ]
    },
    {
      "cell_type": "markdown",
      "metadata": {
        "id": "p4Z7F4JZ1Qp_"
      },
      "source": [
        "**Recorte y concatene** las listas definidas anteriormente (cuantas veces lo considere necesario) de manera tal que se obtenga el como resultado una **nueva lista** al imprimirla por pantalla se vea el siguiente contenido:\n",
        "\n",
        "```\n",
        "print(nueva_lista)\n",
        ">>> [1, 2, 3, 4, 5]\n",
        "\n",
        "```\n",
        "\n",
        "<br>\n",
        "\n",
        "**Nota: Utilice slicing** para obtener los subconjuntos de las listas y recuerde que también puede acceder a los últimos valores por medio de índices negativos\n",
        "\n",
        "Finalmente, explique cuál es la diferencia entre acceder a un **único valor** de una lista por medio de un índice de un sólo valor y un slicing? En otras palabras, ¿qué diferencia hay entre, por ejemplo, `lista_1[0:1]` y `lista_1[0]`?\n",
        "\n",
        "<br>\n",
        "\n"
      ]
    },
    {
      "cell_type": "markdown",
      "source": [
        "### Errores comunes"
      ],
      "metadata": {
        "id": "ED0pFN0L72Z3"
      }
    },
    {
      "cell_type": "code",
      "source": [
        "# Error 1: no definir nueva lista\n",
        "nueva_lista=lista_1[10],lista_2[4],lista_3[6],lista_2[7],lista_1[7]\n",
        "print(nueva_lista)\n"
      ],
      "metadata": {
        "id": "SO9ZzCqC7Eke"
      },
      "execution_count": null,
      "outputs": []
    },
    {
      "cell_type": "markdown",
      "source": [
        "El problema de esta solución empieza por no definir ninguna lista. Por mas de que la variable se llame `nueva_lista`, no estamos frente a ninguna nueva lista (hecho que puede comprobarse con la función `type()`). Lo que se esta creando en la variable susodicha es una **tupla**. Luego posee el problema de que no aplica slicing (ahora veremos por qué eso es importante)."
      ],
      "metadata": {
        "id": "fPRWNr0Y7YGt"
      }
    },
    {
      "cell_type": "code",
      "source": [
        "# Error 2: no hay slicing ni concatenación\n",
        "a = lista_2[0]\n",
        "b = lista_3[2]\n",
        "c = lista_1[-2]\n",
        "d = lista_2[-1]\n",
        "e = lista_1[7]\n",
        "\n",
        "nueva_lista = [a,b,c,d,e]\n",
        "\n",
        "print(nueva_lista)\n"
      ],
      "metadata": {
        "id": "mErMKbze7Edm"
      },
      "execution_count": null,
      "outputs": []
    },
    {
      "cell_type": "markdown",
      "source": [
        "Si bien se alcanza el resultado, la solución anterior no recorta las listas, sino que accede a valores individuales de las mismas. En la consiga se pide explícitamente que se recorte. Y en la nota al pie se aclara con un pase gol que lo mismo se haga con slicing. Esto da ventajas de rendimiento en la ejecución (fijense como la solución anterior define un gran numero de variables nuevas, lo cual consume, aunque marginalmente, tiempo de escritura en la memoria).\n",
        "\n",
        "El otro problema que tiene esta solución es que no concatena, debido a que no trabaja con listas recortadas (sino con valores individuales de tipo entero). Esto lleva que se proponga como solución la creación de una nueva lista (en la línea 8) con los enteros, obtenidos por medio de la indización, separados por coma.\n"
      ],
      "metadata": {
        "id": "-Fin7iW2_F9l"
      }
    },
    {
      "cell_type": "code",
      "source": [
        "#Error 3: si bien usa slicing y concatena, se encapsula nuevamente en listas los recortes (innecesario)\n",
        "sublista1=lista_2[:1]\n",
        "sublista2=lista_1[-3:-1]\n",
        "sublista3=lista_2[-1:]\n",
        "sublista4=lista_1[-10:-9]\n",
        "\n",
        "resultado= [sublista1] + [sublista2]  + [sublista3] + [sublista4]\n",
        "resultado"
      ],
      "metadata": {
        "id": "-mH_YccoBj5X"
      },
      "execution_count": null,
      "outputs": []
    },
    {
      "cell_type": "markdown",
      "source": [
        "Gran jugada, pero falló la definición final. El problema aquí es que se vuelve a encapsular las sublistas recortadas en una nueva lista, entorpenciendo la concatenación. La concatenación es una operación que de por sí se encarga de combinar las sublistas resultantes en una única lista final."
      ],
      "metadata": {
        "id": "htgBh7vSC3sP"
      }
    },
    {
      "cell_type": "code",
      "source": [
        "# Error 4: si bien usa slicing y concaten\n",
        "# NOTA: si bien se arriba al resultado, no se sigue las indicaciones solicitadas\n",
        "\n",
        "nueva_lista = [lista_2[0]] + lista_1[-3:-1] + [lista_3[1]] + [lista_1[7]]\n",
        "\n",
        "#imprimo por pantalla\n",
        "print(nueva_lista)\n"
      ],
      "metadata": {
        "id": "vOIPOLBLFb_v"
      },
      "execution_count": null,
      "outputs": []
    },
    {
      "cell_type": "markdown",
      "source": [],
      "metadata": {
        "id": "HUSUm2jqFbYi"
      }
    },
    {
      "cell_type": "markdown",
      "source": [
        "### Posible solución"
      ],
      "metadata": {
        "id": "K9QtHtfN8Q9G"
      }
    },
    {
      "cell_type": "code",
      "metadata": {
        "id": "MooxUT6tx8I_"
      },
      "source": [
        "#Posible solución:\n",
        "# Creamos una nueva lista\n",
        "nueva_lista = lista_2[:1] + lista_3[2:3] + lista_3[6:7] + lista_2[-1:] + lista_1[-10:-9]\n",
        "\n",
        "# Imprimimos la nueva lista\n",
        "print(nueva_lista)"
      ],
      "execution_count": null,
      "outputs": []
    },
    {
      "cell_type": "markdown",
      "source": [
        "Cuando aplicamos slicing sobre cada subconjunto a concatenar, al final no es necesario encapsular ningún valor en nuevas listas. Es clave aquí que todos los recortes de las listas se hagan con slicing, por más de que los mismos sean únicamente de largo 1, es decir, de un único valor. Esto evitaría tener que volver a encapsular valores en nuevas listas, como en el primer y tercer elemento de soluciones del estilo:\n",
        "\n",
        "\n",
        "\n",
        "```\n",
        "nueva_lista = [lista_2[0]] + lista_1[-3:-1] + [lista_3[1]] + [lista_1[7]]\n",
        "```\n",
        "\n",
        "\n",
        "\n",
        "¿Por qué es importante el uso del slicing aunque sea sobre un único valor? El meollo de la cuestión es que **son dos tipos de datos distintos**. La segunda parte de este ejercicio buscaba atacar dicho aspecto."
      ],
      "metadata": {
        "id": "dgBAYb6i8XRE"
      }
    },
    {
      "cell_type": "markdown",
      "source": [
        "### Sobre el problema del tipo de dato"
      ],
      "metadata": {
        "id": "0fpnlW6F93uD"
      }
    },
    {
      "cell_type": "markdown",
      "source": [
        "Ahora bien, con respecto a la pregunta de la diferencia entre acceder a un único valor de una lista por medio de un índice de un sólo valor y un slicing )(es decir, `lista_1[0:1]` frente a `lista_1[0]`), lo primero que tiene que saltar a la vista es que el resultado es **casi** idéntico. Pero si no fuera por el **casi**...\n",
        "\n",
        "\n",
        "La diferencia no consiste en que uno da un rango de valores, mientras otro devuelve un único valor, algo que se puede comprobar tan sencillamente por medio de la ejecución de las instrucciones por la pantalla:\n"
      ],
      "metadata": {
        "id": "1LfkdEQN8p0g"
      }
    },
    {
      "cell_type": "code",
      "source": [
        "print(lista_1[0:1])\n",
        "print(lista_1[0])"
      ],
      "metadata": {
        "id": "4ASdeXgl99Xk"
      },
      "execution_count": null,
      "outputs": []
    },
    {
      "cell_type": "markdown",
      "source": [
        "Ambos devuelven \"en el fondo\" un `100`, pero el primer resultado lo devuelve dentro de una lista. Y esa es la clave: **las operaciones devuelven dos tipos de datos distintos**. En el primer caso estamos hablando de que el resultado es una lista, mientras que en el segundo, el tipo de dato será siempre el del valor individual que allí aparece (en este caso un entero).\n",
        "\n",
        "Es fundamental entender los distintos tipos de datos con los que estamos trabajando a la hora de programar. Al no entender, por ejemplo, que con `lista_1[2]`, se esta recortando un dato de tipo entero, luego cuando queramos concatenar con el operador `+` lo que va a ocurrir es que nos enfrentaremos a un error, debido a la incompatibilidad del operador entre listas y enteros.\n",
        "\n",
        "Siempre que tengamos dudas sobre con qué tipo de datos estamos trabajando, hay que usar la función `type()`\n",
        "\n"
      ],
      "metadata": {
        "id": "fNJuU82F-NQ7"
      }
    },
    {
      "cell_type": "code",
      "source": [
        "recorte_lista = lista_1[0:1]\n",
        "recorte_unico = lista_1[0]\n",
        "\n",
        "print(recorte_lista, 'es de tipo', type(recorte_lista))\n",
        "print(recorte_unico, 'es de tipo', type(recorte_unico))"
      ],
      "metadata": {
        "id": "EO3ru1AmHbT_"
      },
      "execution_count": null,
      "outputs": []
    },
    {
      "cell_type": "markdown",
      "metadata": {
        "id": "xbglQxrFKEk_"
      },
      "source": [
        "## Problema 2\n",
        "\n",
        "Anexe los datos `504` y `'es importante diferenciar los tipos de datos'` al final de la `lista_2` y **repita los valores de la lista final** resultante 3 veces.\n",
        "\n",
        "**Nota:** Utilice el método que permite *adjuntar* datos al final de una lista\n",
        "\n",
        "¿Qué método deberiamos haber utilizado si en realidad buscábamos introducir los nuevos datos en una posición distinta a la última (por ejemplo, a la mitad de la lista)? Explique y de un ejemplo."
      ]
    },
    {
      "cell_type": "markdown",
      "source": [
        "### Errores comunes"
      ],
      "metadata": {
        "id": "CuI6MYr8ImYf"
      }
    },
    {
      "cell_type": "code",
      "source": [
        "# Error 1: No se repiten los valores de la lista resultante, sino lo que se repiten solo los valores insertados\n",
        "lista_2 = [1, 3.5, 'que molesto este texto', 500, 2, 98, 33, 4]\n",
        "\n",
        "\n",
        "lista_2.append(504)\n",
        "lista_2.append(\" es importante diferenciar los tipos de datos\")\n",
        "lista_2.append(504)\n",
        "lista_2.append(\" es importante diferenciar los tipos de datos\")\n",
        "lista_2.append(504)\n",
        "lista_2.append(\" es importante diferenciar los tipos de datos\")\n",
        "\n",
        "print(lista_2)"
      ],
      "metadata": {
        "id": "tG9JOmvrImHp"
      },
      "execution_count": null,
      "outputs": []
    },
    {
      "cell_type": "markdown",
      "source": [
        "Este problema está relacionado a un problema de interpretación de consigna."
      ],
      "metadata": {
        "id": "dv9Mk7cXKpup"
      }
    },
    {
      "cell_type": "code",
      "source": [
        "# Error 2: se añaden los valores repetidos al final como una nueva lista\n",
        "lista_2 = [1, 3.5, 'que molesto este texto', 500, 2, 98, 33, 4]\n",
        "\n",
        "\n",
        "lista_2.append([504, \" es importante diferenciar los tipos de datos\"]*3)\n",
        "print(lista_2)"
      ],
      "metadata": {
        "id": "7dQ9_FRNKBTF"
      },
      "execution_count": null,
      "outputs": []
    },
    {
      "cell_type": "markdown",
      "source": [
        "Aquí el problema aparece al introducir una nueva lista con valores repetidos al final, cuando en realidad se pide que lo que se repita son los valores de la lista resultante (es decir, la original junto con los valores agregados **adentro** de la lista)"
      ],
      "metadata": {
        "id": "IH3h3UT4KzXm"
      }
    },
    {
      "cell_type": "markdown",
      "source": [
        "### Posible solución"
      ],
      "metadata": {
        "id": "gdSG5APJIn_7"
      }
    },
    {
      "cell_type": "code",
      "metadata": {
        "id": "g2uGqTTNKgJF"
      },
      "source": [
        "## Posible solución\n",
        "\n",
        "# Anexar los datos 504 y 'es importante diferenciar los tipos de datos' al final de lista_2\n",
        "lista_2.append(504)\n",
        "lista_2.append('es importante diferenciar los tipos de datos')\n",
        "\n",
        "# Repito los valores de la lista_2 * 3 veces\n",
        "lista_2 = lista_2 * 3\n",
        "\n",
        "# Imprimo la lista_2\n",
        "print(lista_2)\n"
      ],
      "execution_count": null,
      "outputs": []
    },
    {
      "cell_type": "markdown",
      "source": [
        "Luego, si queremos en cambio introducir un valor a la mitad de la lista, tenemos que usar el método `.insert()`, al cual le debemos pasar como parámetros la posición en la cual deseamos insertar y los valores a introducir."
      ],
      "metadata": {
        "id": "PmC9wHKWIv-6"
      }
    },
    {
      "cell_type": "code",
      "source": [
        "posicion_mitad = len(lista_2) // 2\n",
        "\n",
        "# Insertar los nuevos datos en la posición de la mitad\n",
        "lista_2.insert(posicion_mitad, 'es importante diferenciar los tipos de datos')\n",
        "print(lista_2)"
      ],
      "metadata": {
        "id": "GBSUX8IVI2Ph"
      },
      "execution_count": null,
      "outputs": []
    },
    {
      "cell_type": "markdown",
      "metadata": {
        "id": "oZB4AEdaJZ1d"
      },
      "source": [
        "## Problema 3\n",
        "Escribir un programa que convierta una lista de valores de pesos a otra lista de sus equivalentes en dólares. Utilizar alguno de los muchos tipos de cambio que existen (no importa si es legal o no). Imprima por pantalla cada uno de los resultados junto algunos strings que expliquen la operación o el programa.\n",
        "\n",
        "\n",
        "**Nota:** guardar los valores de pesos y dolares en distintas variables\n"
      ]
    },
    {
      "cell_type": "markdown",
      "source": [
        "### Errores comunes"
      ],
      "metadata": {
        "id": "N8PMxYLsNn19"
      }
    },
    {
      "cell_type": "code",
      "source": [
        "# Error 1: la conversión es correcta, pero el resultado no es una nueva lista\n",
        "Lista_de_pesos = [ 200 , 300 , 2000 , 3000 , 10000 , 50000 , 100000 ]\n",
        "\n",
        "Tipo_de_cambio = 400\n",
        "\n",
        "\n",
        "print(Lista_de_pesos[0] * Tipo_de_cambio)\n",
        "print(Lista_de_pesos[1] * Tipo_de_cambio)\n",
        "print(Lista_de_pesos[2] * Tipo_de_cambio)\n",
        "print(Lista_de_pesos[3] * Tipo_de_cambio)\n",
        "print(Lista_de_pesos[4] * Tipo_de_cambio)\n",
        "print(Lista_de_pesos[5] * Tipo_de_cambio)\n",
        "print(Lista_de_pesos[6] * Tipo_de_cambio)"
      ],
      "metadata": {
        "id": "gFn_-i7sNpUG"
      },
      "execution_count": null,
      "outputs": []
    },
    {
      "cell_type": "markdown",
      "source": [
        "El problema aquí es que el resultado debe quedar guardado en una nueva lista."
      ],
      "metadata": {
        "id": "9rrPyZv_OKW9"
      }
    },
    {
      "cell_type": "code",
      "source": [
        "#Error 2: No se\n",
        "AR=[400, 600, 800, 1000]\n",
        "USD=110.89 #Este valor representa a cuantos pesos equivale un dolar\n",
        "AR[0]=AR[0]/USD\n",
        "AR[1]=AR[1]/USD\n",
        "AR[2]=AR[2]/USD\n",
        "AR[3]=AR[3]/USD\n",
        "\n",
        "print(\"La siguiente lista representa la conversion de los valores 400, 600, 800, 1000  de pesos a dolares\", AR,\"USD\")\n",
        "\n"
      ],
      "metadata": {
        "id": "mazKfTDuNzhM"
      },
      "execution_count": null,
      "outputs": []
    },
    {
      "cell_type": "markdown",
      "source": [
        "Esta solución se olvida de reutilizar variables definidas (fijense como se podria haber utilizado la variable `AR` dentro del ultimo `print()`), lo cual introduce una mala práctica llamada \"hardcodeo\"."
      ],
      "metadata": {
        "id": "lB5475-hOI-Q"
      }
    },
    {
      "cell_type": "code",
      "source": [
        "# Error 2': tambien posee problemas de hardcoding, pero en otra parte\n",
        "lista_a=[100, 1000, 10000, 100000, 1000000]\n",
        "print(\"Lista de valores en pesos argentinos:\", lista_a)\n",
        "a= 100/1265\n",
        "b= 1000/1265\n",
        "c= 10000/1265\n",
        "d= 100000/1265\n",
        "e= 1000000/1265\n",
        "lista_b= [a, b, c, d, e]\n",
        "print(\"Lista de valores en dolares:\", lista_b)\n",
        "print(a, \"dolares estadounidenses equivalen a $100 pesos argentinos\")\n",
        "print(b, \"dolares estadounidenses equivalen a $1000 pesos argentinos\")\n",
        "print(c, \"dolares estadounidenses equivalen a $10000 pesos argentinos\")\n",
        "print(d, \"dolares estadounidenses equivalen a $100000 pesos argentinos\")\n",
        "print(e, \"dolares estadounidenses equivalen a $1000000 pesos argentinos\")"
      ],
      "metadata": {
        "id": "EWa_9b0LOolU"
      },
      "execution_count": null,
      "outputs": []
    },
    {
      "cell_type": "markdown",
      "source": [
        "Los valores de la `lista_a` nunca se utilizan, al tiempo que se podria guardar la variable del tipo de cambio en una variable para evitar la duplicación de información."
      ],
      "metadata": {
        "id": "_pPmniLMOyku"
      }
    },
    {
      "cell_type": "markdown",
      "source": [
        "### Posible solución"
      ],
      "metadata": {
        "id": "nej3XXSENpiI"
      }
    },
    {
      "cell_type": "code",
      "metadata": {
        "id": "aqI8yM_lKXjx"
      },
      "source": [
        "# Posible solución\n",
        "dolarblue= 1245\n",
        "pesos=[10500,5000,3000,7500,8000,9700]\n",
        "dolares= [pesos[0]/dolarblue, pesos[1]/dolarblue,pesos[2]/dolarblue,pesos[3]/dolarblue,pesos[4]/dolarblue]\n",
        "print(dolares[0],\" dólares equivale a\", pesos[0],\"pesos.\")\n",
        "print(dolares[1],\" dólares equivale a\", pesos[1],\"pesos.\")\n",
        "print(dolares[2],\" dólares equivale a\", pesos[2],\"pesos.\")\n",
        "print(dolares[3],\" dólares equivale a\", pesos[3],\"pesos.\")\n",
        "print(dolares[4],\" dólares equivale a\", pesos[4],\"pesos.\")\n",
        "#Para que resolver el problema, se define el valor del dolar blue como variable y los valores en pesos como lista.\n",
        "#Luego para hacer la conversión, se define la lista \"dolares\" donde se divide cada valor en pesos por \"dolar blue\"\n"
      ],
      "execution_count": null,
      "outputs": []
    },
    {
      "cell_type": "markdown",
      "source": [
        "Dolares y pesos quedan definidos en listas distintas, y se imprime cada uno de los valores solicitados por la pantalla."
      ],
      "metadata": {
        "id": "vSMw_NcFPdyD"
      }
    }
  ]
}
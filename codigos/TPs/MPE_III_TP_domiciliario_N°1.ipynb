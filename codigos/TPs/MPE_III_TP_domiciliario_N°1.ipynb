{
  "nbformat": 4,
  "nbformat_minor": 0,
  "metadata": {
    "colab": {
      "name": "MPE III - TP domiciliario N°1.ipynb",
      "provenance": [],
      "toc_visible": true,
      "include_colab_link": true
    },
    "kernelspec": {
      "name": "python3",
      "display_name": "Python 3"
    },
    "language_info": {
      "name": "python"
    }
  },
  "cells": [
    {
      "cell_type": "markdown",
      "metadata": {
        "id": "view-in-github",
        "colab_type": "text"
      },
      "source": [
        "<a href=\"https://colab.research.google.com/github/mateosuster/pythonungs/blob/master/codigos/TPs/MPE_III_TP_domiciliario_N%C2%B01.ipynb\" target=\"_parent\"><img src=\"https://colab.research.google.com/assets/colab-badge.svg\" alt=\"Open In Colab\"/></a>"
      ]
    },
    {
      "cell_type": "markdown",
      "metadata": {
        "id": "eLiRPK5bAfFH"
      },
      "source": [
        "# Ejercicio Domiciliario de introducción a Python\n",
        "\n",
        "Fecha de entrega límite: Viernes 06/09/24 12:00 AM\n",
        "\n",
        "Modo de presentación:\n",
        "\n",
        "1. Guardar una copia de este archivo en su carpeta Drive.\n",
        "2. Completar su nombre en la siguiente celda de texto\n",
        "3. Renombrar el archivo con el siguiente formato: *MPE3_022024_COM#_TP1_NumeroDNI.ipynb* (sin espacios ni puntos), siendo *COM1* comisión Pereira y *COM2* comisión Calello, y *NumeroDNI* el número de DNI del estudiante. Esto es muy importante.\n",
        "4. Descargar y mandar el trabajo **exclusivamente** en formato `.ipynb` por mail (Asunto \"TP 1 Python - *Apellido*\", al mail msuster@campus.ungs.edu.ar). Para descargarlo hay que ir dentro de la barra de herramientas a *Archivo* --> *Descargar* --> *Descargar .ipynb*\n",
        "\n",
        "Pautas:\n",
        "1. Realización individual\n",
        "2. Asegúrese que el código se ejecute sin errores\n",
        "3. Si tiene dificultades consulte por Slack en los canales correspondientes\n"
      ]
    },
    {
      "cell_type": "markdown",
      "source": [
        "### Estudiante: [Nombre y Apellido]"
      ],
      "metadata": {
        "id": "YtmZzPfD1u17"
      }
    },
    {
      "cell_type": "markdown",
      "metadata": {
        "id": "4pTLMa3c-DfT"
      },
      "source": [
        "\n",
        "\n",
        "## Presentación de la lista\n",
        "\n",
        "A partir de operar únicamente con los valores de las siguientes listas:"
      ]
    },
    {
      "cell_type": "code",
      "metadata": {
        "id": "g7bdrd5_9_7S"
      },
      "source": [
        "# Ejecute estas lineas de código sin modificar\n",
        "lista_1 = [100, 200, 'string', 3, 56, 7, 81, 5, 92, 4, 1, 23, 12, 'al fin...', 2, 3, 17]\n",
        "lista_2 = [1, 3.5, 'que molesto este texto', 500, 2, 98, 33, 4]\n",
        "lista_3 = [9, 4, 2, 1, 60, 15, 3, ['ojo que esto es', 'otra lista'], 45]\n"
      ],
      "execution_count": null,
      "outputs": []
    },
    {
      "cell_type": "markdown",
      "metadata": {
        "id": "4eZXmfIMAIU9"
      },
      "source": [
        "## Problema 1"
      ]
    },
    {
      "cell_type": "markdown",
      "metadata": {
        "id": "p4Z7F4JZ1Qp_"
      },
      "source": [
        "**Recorte y concatene** las listas definidas anteriormente (cuantas veces lo considere necesario) de manera tal que se obtenga el como resultado una **nueva lista** al imprimirla por pantalla se vea el siguiente contenido:\n",
        "\n",
        "```\n",
        "print(nueva_lista)\n",
        ">>> [1, 2, 3, 4, 5]\n",
        "\n",
        "```\n",
        "\n",
        "<br>\n",
        "\n",
        "**Nota: Utilice slicing** para obtener los subconjuntos de las listas y recuerde que también puede acceder a los últimos valores por medio de índices negativos\n",
        "\n",
        "Finalmente, explique cuál es la diferencia entre acceder a un **único valor** de una lista por medio de un índice de un sólo valor y un slicing? En otras palabras, ¿qué diferencia hay entre, por ejemplo, `lista_1[0:1]` y `lista_1[0]`?\n",
        "\n",
        "<br>\n",
        "\n"
      ]
    },
    {
      "cell_type": "code",
      "metadata": {
        "id": "MooxUT6tx8I_"
      },
      "source": [
        "#Solución:\n",
        "\n"
      ],
      "execution_count": null,
      "outputs": []
    },
    {
      "cell_type": "markdown",
      "metadata": {
        "id": "xbglQxrFKEk_"
      },
      "source": [
        "## Problema 2\n",
        "\n",
        "Anexe los datos `504` y `'es importante diferenciar los tipos de datos'` al final de la `lista_2` y **repita los valores de la lista final** resultante 3 veces.\n",
        "\n",
        "**Nota:** Utilice el método que permite *adjuntar* datos al final de una lista\n",
        "\n",
        "¿Qué método deberiamos haber utilizado si en realidad buscábamos introducir los nuevos datos en una posición distinta a la última (por ejemplo, a la mitad de la lista)? Explique y de un ejemplo."
      ]
    },
    {
      "cell_type": "code",
      "metadata": {
        "id": "g2uGqTTNKgJF"
      },
      "source": [
        "## Escriba la respuesta aquí\n"
      ],
      "execution_count": null,
      "outputs": []
    },
    {
      "cell_type": "markdown",
      "metadata": {
        "id": "oZB4AEdaJZ1d"
      },
      "source": [
        "## Problema 3\n",
        "Escribir un programa que, por medio de un loop while, convierta una lista de valores de pesos a otra lista de sus equivalentes en dólares. Utilizar alguno de los muchos tipos de cambio que existen (no importa si es legal o no). Imprima por pantalla cada uno de los resultados junto algunos strings que expliquen la operación o el programa.\n",
        "\n",
        "\n",
        "**Nota:** guardar los valores de pesos y dolares en distintas variables\n"
      ]
    },
    {
      "cell_type": "code",
      "metadata": {
        "id": "aqI8yM_lKXjx"
      },
      "source": [
        "# Escriba la respuesta aquí\n",
        "\n"
      ],
      "execution_count": null,
      "outputs": []
    }
  ]
}
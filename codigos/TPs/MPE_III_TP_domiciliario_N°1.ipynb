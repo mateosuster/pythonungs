{
  "nbformat": 4,
  "nbformat_minor": 0,
  "metadata": {
    "colab": {
      "name": "MPE III - TP domiciliario N°1.ipynb",
      "provenance": [],
      "include_colab_link": true
    },
    "kernelspec": {
      "name": "python3",
      "display_name": "Python 3"
    },
    "language_info": {
      "name": "python"
    }
  },
  "cells": [
    {
      "cell_type": "markdown",
      "metadata": {
        "id": "view-in-github",
        "colab_type": "text"
      },
      "source": [
        "<a href=\"https://colab.research.google.com/github/mateosuster/pythonungs/blob/master/codigos/TPs/MPE_III_TP_domiciliario_N%C2%B01.ipynb\" target=\"_parent\"><img src=\"https://colab.research.google.com/assets/colab-badge.svg\" alt=\"Open In Colab\"/></a>"
      ]
    },
    {
      "cell_type": "markdown",
      "metadata": {
        "id": "eLiRPK5bAfFH"
      },
      "source": [
        "# Ejercicio Domiciliario de introducción a Python\n",
        "\n",
        "Fecha de entrega límite: Domingo 22/04/23 23:59hs \n",
        "\n",
        "Modo de presentación: \n",
        "\n",
        "1. Guardar una copia de este archivo en su carpeta Drive.\n",
        "2. Completar su nombre en la siguiente celda de texto \n",
        "3. Renombrar el archivo con el siguiente formato: *MPE3_012023_COM#_TP1_NumeroDNI.ipynb* (sin espacios ni puntos), siendo *COM1* comisión Periera y *COM2* comisión Calello, y *NumeroDNI* el número de DNI del estudiante. Esto es muy importante.\n",
        "4. Descargar y mandar el trabajo **exclusivamente** en formato `.ipynb` por mail (Asunto \"TP 1 Python - *Apellido*\", al mail msuster@campus.ungs.edu.ar). Para descargarlo hay que ir dentro de la barra de herramientas a *Archivo* --> *Descargar* --> *Descargar .ipynb*\n",
        "\n",
        "Pautas:\n",
        "1. Realización individual\n",
        "2. Asegúrese que el código se ejecute sin errores\n",
        "3. Si tiene dificultades consulte por Slack en los canales correspondientes\n"
      ]
    },
    {
      "cell_type": "markdown",
      "source": [
        "### Estudiante: [Nombre y Apellido]"
      ],
      "metadata": {
        "id": "YtmZzPfD1u17"
      }
    },
    {
      "cell_type": "markdown",
      "metadata": {
        "id": "4pTLMa3c-DfT"
      },
      "source": [
        "\n",
        "\n",
        "## Presentación de la lista\n",
        "\n",
        "A partir de operar únicamente con los valores de las siguientes listas:"
      ]
    },
    {
      "cell_type": "code",
      "metadata": {
        "id": "g7bdrd5_9_7S"
      },
      "source": [
        "# Ejecute estas lineas de código sin modificar\n",
        "lista_1 = [420, 18, 'esto es un string', 5, 6, 7.8, 34, 76,  12, 45, 667, 15, 3.4, 34, 43, 313, 'al fin...', 2, 3, 918] \n",
        "lista_2 = [78, 5.4, 'que molesto este texto', 4261, 3., 4, 56]\n",
        "lista_3 = [60, 2.0, 1, 65, 84.3]"
      ],
      "execution_count": null,
      "outputs": []
    },
    {
      "cell_type": "markdown",
      "metadata": {
        "id": "4eZXmfIMAIU9"
      },
      "source": [
        "## Problema 1"
      ]
    },
    {
      "cell_type": "markdown",
      "metadata": {
        "id": "p4Z7F4JZ1Qp_"
      },
      "source": [
        "**Recorte y concatene** las listas 1, 2 y 3 (cuantas veces lo considere necesario) de manera tal que el resultado sea una **nueva lista** con los siguientes valores:\n",
        "\n",
        "``` resultado = [1, 2, 3, 4, 5, 6]```\n",
        "\n",
        "<br>\n",
        "\n",
        "\n",
        "\n",
        "**Nota: Utilice slicing** para obtener los subconjuntos de las listas y recuerde que también puede acceder a los últimos valores por medio de índices negativos"
      ]
    },
    {
      "cell_type": "code",
      "metadata": {
        "id": "MooxUT6tx8I_"
      },
      "source": [
        "#Solución:\n",
        "\n"
      ],
      "execution_count": null,
      "outputs": []
    },
    {
      "cell_type": "markdown",
      "metadata": {
        "id": "zCU06VJwHmZ7"
      },
      "source": [
        "## Problema 2\n",
        " ¿Cuál es la diferencia entre acceder a **un único valor** de una lista por medio de un índice de un sólo valor y un slicing? En otras palabras, ¿qué diferencia hay entre, por ejemplo, `lista_1[0:1]` y `lista_1[0]`? ¿Estamos hablando del mismo tipo de dato? \n",
        "\n",
        " **Nota:** ¿Había una función que nos permitía saber qué tipo de dato es una determinada variable? Si su respuesta es **Sí**, entonces utilícela\n"
      ]
    },
    {
      "cell_type": "code",
      "metadata": {
        "id": "ZIp7eh3e01OM"
      },
      "source": [],
      "execution_count": null,
      "outputs": []
    },
    {
      "cell_type": "markdown",
      "metadata": {
        "id": "5_apvQUIJu9o"
      },
      "source": [
        "**Escriba la respuesta aquí**:\n",
        "<br>\n",
        ".....\n"
      ]
    },
    {
      "cell_type": "markdown",
      "metadata": {
        "id": "yeJS3b9lvW7X"
      },
      "source": [
        "## Problema 3\n",
        "\n",
        "**Modifique** la lista asignada en `lista_3` (lo cual es distinto a *redefinir* la `lista_3`) de modo tal que sus valores queden como sigue:\n",
        "\n",
        "``` lista_3 = [4.20, 'usa slicing', 2,  ['lista dentro de lista'], 1 ]```\n"
      ]
    },
    {
      "cell_type": "code",
      "metadata": {
        "id": "jcATCikVvafY"
      },
      "source": [
        "#Solución:\n"
      ],
      "execution_count": null,
      "outputs": []
    },
    {
      "cell_type": "markdown",
      "metadata": {
        "id": "mWP8jZqaBU7e"
      },
      "source": [
        "## Problema 4\n",
        "\n",
        "Observe un valor de una lista frente a un valor de otra (por ejemplo, alguno de la `lista_2` frente a la `lista_3`). \n",
        "\n",
        "¿Son iguales? ¿Cúal es mayor/menor? ¿De qué manera podemos expresar esto algorítmicamente? Escriba un programa que compare ambos valores elegidos y devuelva como resultado un tipo de dato booleano (*Verdadero* o *Falso*). Realice lo mismo para otros valores de las listas definidas, evaluando si son menores, mayores, iguales o distintos (elija a gusto las listas, los valores y las comparaciones).\n",
        "\n",
        "**Nota:** utilice solo los operadores lógicos (`==`, `!=`, `>=`, etc.). No hay necesidad de utilizar cosas NO vistas en clase"
      ]
    },
    {
      "cell_type": "code",
      "metadata": {
        "id": "FLu-eh2uBU7q"
      },
      "source": [
        "#Solución:\n"
      ],
      "execution_count": null,
      "outputs": []
    },
    {
      "cell_type": "markdown",
      "metadata": {
        "id": "xbglQxrFKEk_"
      },
      "source": [
        "## Problema 5\n",
        "\n",
        "Anexe los datos `88.9` y `'es importante diferenciar los tipos de datos'` al final de la `lista_2` y **repita los valores de la lista** resultante 3 veces.\n",
        "\n",
        "**Nota:** Utilice la función que permite *appendear* (adjuntar) datos al final de una lista"
      ]
    },
    {
      "cell_type": "code",
      "metadata": {
        "id": "g2uGqTTNKgJF"
      },
      "source": [
        "## Escriba la respuesta aquí\n"
      ],
      "execution_count": null,
      "outputs": []
    },
    {
      "cell_type": "markdown",
      "metadata": {
        "id": "oZB4AEdaJZ1d"
      },
      "source": [
        "## Problema 6\n",
        "Escribir un programa que convierta una lista de valores de pesos a otra lista de sus equivalentes en dólares. Utilizar alguno de los muchos tipos de cambio que existen (no importa si es legal o no). Imprima por pantalla los resultados junto algunos strings que expliquen la operación o el programa.\n",
        "\n",
        "\n",
        "\n",
        "**Nota:** guardar los valores de pesos y dolares en distintas variables\n"
      ]
    },
    {
      "cell_type": "code",
      "metadata": {
        "id": "aqI8yM_lKXjx"
      },
      "source": [
        "# Escriba la respuesta aquí\n",
        "\n"
      ],
      "execution_count": null,
      "outputs": []
    }
  ]
}
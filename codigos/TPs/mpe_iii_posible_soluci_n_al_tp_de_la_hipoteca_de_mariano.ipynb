{
  "nbformat": 4,
  "nbformat_minor": 0,
  "metadata": {
    "colab": {
      "provenance": [],
      "authorship_tag": "ABX9TyMZJU0iF0nzEbs4onVgG8Uc",
      "include_colab_link": true
    },
    "kernelspec": {
      "name": "python3",
      "display_name": "Python 3"
    },
    "language_info": {
      "name": "python"
    }
  },
  "cells": [
    {
      "cell_type": "markdown",
      "metadata": {
        "id": "view-in-github",
        "colab_type": "text"
      },
      "source": [
        "<a href=\"https://colab.research.google.com/github/mateosuster/pythonungs/blob/master/codigos/TPs/mpe_iii_posible_soluci_n_al_tp_de_la_hipoteca_de_mariano.ipynb\" target=\"_parent\"><img src=\"https://colab.research.google.com/assets/colab-badge.svg\" alt=\"Open In Colab\"/></a>"
      ]
    },
    {
      "cell_type": "markdown",
      "source": [
        "## *La hipoteca de Mariano*\n",
        "\n",
        "Mariano accedió a un crédito a 30 años para comprar una vivienda, con una tasa fija nominal anual del 5%. Pidió 1.000.000 al banco y quedó en pagar una cuota fija mensual de 5.368,22\n",
        "\n",
        "El siguiente es un programa que calcula el monto total que pagará Mariano a lo largo de los años. ¿Cuánto es lo que va pagar? Ejecute el siguiente programa para saberlo"
      ],
      "metadata": {
        "id": "fRH3Kft2meY1"
      }
    },
    {
      "cell_type": "markdown",
      "source": [
        "#### Problema Adelantos\n",
        "\n",
        "Imaginemos que Mariano adelanta pagos extra de 1000/mes durante los primeros 12 meses de la hipoteca.\n",
        "\n",
        "Modificá el programa anterior para incorporar estos pagos extra y que imprima el monto total pagado junto con la cantidad de meses requeridos.\n",
        "\n",
        "Aclaración: aunque pueda parecer sencillo, este ejercicio va a necesitar que agregues una variable mes y que prestes bastante atención a cuándo la incrementás, con qué valor entra al ciclo y con qué valor sale del ciclo. Una posiblidad es inicializar una variable de mes en 0 y otra es inicializarla en 1. En el primer caso es problable que la variable salga del ciclo contando la cantidad de pagos que se hicieron, en el segundo, ¡es probable que salga contando la cantidad de pagos más uno!\n",
        "\n",
        "*El ejercicio tiene que dar: 1,896,245.22 en 351 meses*\n"
      ],
      "metadata": {
        "id": "JBWbfAtBmjj3"
      }
    },
    {
      "cell_type": "code",
      "source": [
        "saldo = 1000000.0\n",
        "tasa = 0.05\n",
        "pago_mensual = 5368.22\n",
        "total_pagado = 0.0\n",
        "mes=0\n",
        "adelanto=1000\n",
        "\n",
        "while saldo > 0:\n",
        "    saldo = saldo * (1+tasa/12) - pago_mensual\n",
        "    total_pagado = total_pagado + pago_mensual\n",
        "    mes=mes+1\n",
        "    if mes<=12:\n",
        "        saldo=saldo-adelanto\n",
        "        total_pagado=total_pagado+adelanto\n",
        "\n",
        "\n",
        "print('Total pagado', round(total_pagado, 2))\n",
        "print('Meses requeridos', mes)\n",
        "\n"
      ],
      "metadata": {
        "colab": {
          "base_uri": "https://localhost:8080/"
        },
        "id": "AaEMaiJpoX0q",
        "outputId": "90401b0b-f38b-4cac-8cb8-0779a81eedb4"
      },
      "execution_count": null,
      "outputs": [
        {
          "output_type": "stream",
          "name": "stdout",
          "text": [
            "Total pagado 1896245.22\n",
            "Meses requeridos 351\n"
          ]
        }
      ]
    },
    {
      "cell_type": "markdown",
      "source": [
        "#### Problema Calculando adelantos\n",
        "\n",
        "¿Cuánto pagaría Mariano si solo agrega los $1000 por mes durante cuatro años, comenzando en el sexto año de la hipoteca (es decir, luego de 5 años)?\n",
        "\n",
        "Modificá tu programa de forma que la información sobre pagos extras pueda ser incorporada de manera más ágil. Agregá las siguientes variables antes del ciclo, para definir el comienzo, fin y monto de los pagos extras:\n",
        "\n",
        "`pago_extra_mes_comienzo` = 61\n",
        "\n",
        "`pago_extra_mes_fin` = 108\n",
        "\n",
        "`pago_extra` = 1000\n",
        "\n",
        "Hacé que el programa tenga en cuenta estas variables para calcular el total a pagar apropiadamente.\n",
        "\n",
        "*El ejercicio tiene que dar: 1,840,985.48 en 334 meses*"
      ],
      "metadata": {
        "id": "Z0lVx7pUmgLH"
      }
    },
    {
      "cell_type": "code",
      "source": [
        "saldo = 1000000.0\n",
        "tasa = 0.05\n",
        "pago_mensual = 5368.22\n",
        "total_pagado = 0.0\n",
        "mes=0\n",
        "adelanto=1000\n",
        "comienzo=61\n",
        "fin=108\n",
        "\n",
        "while saldo > 0:\n",
        "    if fin>=mes and mes>=comienzo:\n",
        "        saldo=saldo-adelanto\n",
        "        total_pagado=total_pagado+adelanto\n",
        "\n",
        "    saldo = saldo * (1+tasa/12) - pago_mensual\n",
        "    total_pagado = total_pagado + pago_mensual\n",
        "    mes=mes+1\n",
        "\n",
        "\n",
        "\n",
        "print('Total pagado', round(total_pagado, 2))\n",
        "print('Meses requeridos', mes)\n"
      ],
      "metadata": {
        "colab": {
          "base_uri": "https://localhost:8080/"
        },
        "id": "gwcjv1lko3v8",
        "outputId": "a2e09a7a-5f57-42f2-c2b3-dbf04354d7ce"
      },
      "execution_count": null,
      "outputs": [
        {
          "output_type": "stream",
          "name": "stdout",
          "text": [
            "Total pagado 1840985.48\n",
            "Meses requeridos 334\n"
          ]
        }
      ]
    }
  ]
}
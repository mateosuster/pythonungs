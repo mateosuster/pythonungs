{
  "nbformat": 4,
  "nbformat_minor": 0,
  "metadata": {
    "colab": {
      "provenance": [],
      "include_colab_link": true
    },
    "kernelspec": {
      "name": "python3",
      "display_name": "Python 3"
    },
    "language_info": {
      "name": "python"
    }
  },
  "cells": [
    {
      "cell_type": "markdown",
      "metadata": {
        "id": "view-in-github",
        "colab_type": "text"
      },
      "source": [
        "<a href=\"https://colab.research.google.com/github/mateosuster/pythonungs/blob/master/codigos/TPs/MPE3_022023_TP4_resolucion.ipynb\" target=\"_parent\"><img src=\"https://colab.research.google.com/assets/colab-badge.svg\" alt=\"Open In Colab\"/></a>"
      ]
    },
    {
      "cell_type": "markdown",
      "source": [
        "# Matemática para Economistas III - UNGS\n",
        "\n",
        "## TP N°4 - Posible resolución\n"
      ],
      "metadata": {
        "id": "rKz2YNhXvTFY"
      }
    },
    {
      "cell_type": "markdown",
      "source": [
        "#### 1) Cargue y guarde en una variable el dataset de Reservas Internacionales (promedio mensual) disponibilizado por el BCRA"
      ],
      "metadata": {
        "id": "BdvjpOmI56gV"
      }
    },
    {
      "cell_type": "code",
      "source": [
        "#importamos las librerías, siempre al principio\n",
        "import pandas as pd\n",
        "import numpy as np"
      ],
      "metadata": {
        "id": "wqcRj1B85GaU"
      },
      "execution_count": 1,
      "outputs": []
    },
    {
      "cell_type": "code",
      "execution_count": 2,
      "metadata": {
        "id": "C2EiCnVPt8D6"
      },
      "outputs": [],
      "source": [
        "#cargamos el dataset\n",
        "df = pd.read_csv(\"https://infra.datos.gob.ar/catalog/sspm/dataset/92/distribution/92.2/download/reservas-internacionales-pasivos-financieros-bcra.csv\")"
      ]
    },
    {
      "cell_type": "markdown",
      "source": [
        "#### 2) Explore el dataset con las funciones correspondientes. Detalle a grandes rasgos qué información poseen sus columnas y de qué tipos de datos son las mismas.\n",
        "\n",
        "El dataset posee información sobre las reservas internacionales del BCRA, de algunos de sus pasivos e incluso sobre el tipo de cambio con el que se valuan los mismos. El método `.info()` nos brinda un resumen sintético de la información del dataset: columnas, cantidad de valores no nulos, tipo de dato de cada una de ellas, etc.\n",
        "\n"
      ],
      "metadata": {
        "id": "myAz2wyd6HQR"
      }
    },
    {
      "cell_type": "code",
      "source": [
        "df.info()"
      ],
      "metadata": {
        "id": "X0gHUvvG69VR",
        "colab": {
          "base_uri": "https://localhost:8080/"
        },
        "outputId": "c3ef053b-8506-4fc4-83fc-3ba07c93987d"
      },
      "execution_count": 3,
      "outputs": [
        {
          "output_type": "stream",
          "name": "stdout",
          "text": [
            "<class 'pandas.core.frame.DataFrame'>\n",
            "RangeIndex: 7608 entries, 0 to 7607\n",
            "Data columns (total 12 columns):\n",
            " #   Column                             Non-Null Count  Dtype  \n",
            "---  ------                             --------------  -----  \n",
            " 0   indice_tiempo                      7608 non-null   object \n",
            " 1   reservas_internacionales_dolares   7608 non-null   float64\n",
            " 2   pasivos_monetarios                 7608 non-null   float64\n",
            " 3   pasivos_monetarios_letras_pesos    7608 non-null   float64\n",
            " 4   pasivos_monetarios_letras_dolares  7608 non-null   float64\n",
            " 5   letras_liquidez_saldo_pesos        7608 non-null   float64\n",
            " 6   posicion_neta_pases                7608 non-null   float64\n",
            " 7   otros_depositos_gobierno           7608 non-null   float64\n",
            " 8   redescuentos_adelantos_iliquidez   7608 non-null   float64\n",
            " 9   tipo_cambio_valuacion              7608 non-null   float64\n",
            " 10  pos_neta_det_des_pases_pasivos     7608 non-null   float64\n",
            " 11  pos_neta_det_des_pases_activos     7608 non-null   float64\n",
            "dtypes: float64(11), object(1)\n",
            "memory usage: 713.4+ KB\n"
          ]
        }
      ]
    },
    {
      "cell_type": "markdown",
      "source": [
        " La columna que contiene la fecha, `indice_tiempo`, es de tipo object, lo cual indica que es un string, mientras que el resto son de tipo float, es decir, números reales. Una alternativa es el atributo `.dtypes`"
      ],
      "metadata": {
        "id": "RTy1fBcaHLLI"
      }
    },
    {
      "cell_type": "code",
      "source": [
        "df.dtypes"
      ],
      "metadata": {
        "id": "TfL1fb3tdPi-",
        "colab": {
          "base_uri": "https://localhost:8080/"
        },
        "outputId": "30937bca-d14a-4330-8711-5f3586f806ce"
      },
      "execution_count": 7,
      "outputs": [
        {
          "output_type": "execute_result",
          "data": {
            "text/plain": [
              "indice_tiempo                         object\n",
              "reservas_internacionales_dolares     float64\n",
              "pasivos_monetarios                   float64\n",
              "pasivos_monetarios_letras_pesos      float64\n",
              "pasivos_monetarios_letras_dolares    float64\n",
              "letras_liquidez_saldo_pesos          float64\n",
              "posicion_neta_pases                  float64\n",
              "otros_depositos_gobierno             float64\n",
              "redescuentos_adelantos_iliquidez     float64\n",
              "tipo_cambio_valuacion                float64\n",
              "pos_neta_det_des_pases_pasivos       float64\n",
              "pos_neta_det_des_pases_activos       float64\n",
              "dtype: object"
            ]
          },
          "metadata": {},
          "execution_count": 7
        }
      ]
    },
    {
      "cell_type": "markdown",
      "source": [
        "\n",
        "El método `.head()` nos permite ver el encabezado del dataset, lo cual es más prolijo que imprimir el dataset entero por la pantalla."
      ],
      "metadata": {
        "id": "PJs9HByMFF3Z"
      }
    },
    {
      "cell_type": "code",
      "source": [
        "df.head()"
      ],
      "metadata": {
        "colab": {
          "base_uri": "https://localhost:8080/",
          "height": 226
        },
        "id": "PcLGhgwiFuyl",
        "outputId": "5bfdd972-f43b-4100-a0ad-6c18c2a59b45"
      },
      "execution_count": 4,
      "outputs": [
        {
          "output_type": "execute_result",
          "data": {
            "text/plain": [
              "  indice_tiempo  reservas_internacionales_dolares  pasivos_monetarios  \\\n",
              "0    2003-01-02                      10500.743384             30300.0   \n",
              "1    2003-01-03                      10505.278810             30359.0   \n",
              "2    2003-01-04                      10505.278810             30359.0   \n",
              "3    2003-01-05                      10505.278810             30359.0   \n",
              "4    2003-01-06                      10563.790206             30538.0   \n",
              "\n",
              "   pasivos_monetarios_letras_pesos  pasivos_monetarios_letras_dolares  \\\n",
              "0                      2584.292106                         558.358408   \n",
              "1                      2650.113332                         643.514769   \n",
              "2                      2650.113332                         643.514769   \n",
              "3                      2650.113332                         643.514769   \n",
              "4                      2650.113332                         637.830787   \n",
              "\n",
              "   letras_liquidez_saldo_pesos  posicion_neta_pases  otros_depositos_gobierno  \\\n",
              "0                          0.0               -187.0                      67.0   \n",
              "1                          0.0               -187.0                      48.0   \n",
              "2                          0.0               -187.0                      48.0   \n",
              "3                          0.0               -187.0                      48.0   \n",
              "4                          0.0               -187.0                      46.0   \n",
              "\n",
              "   redescuentos_adelantos_iliquidez  tipo_cambio_valuacion  \\\n",
              "0                           20176.0                 3.3630   \n",
              "1                           20176.0                 3.3625   \n",
              "2                           20176.0                 3.3625   \n",
              "3                           20176.0                 3.3625   \n",
              "4                           20176.0                 3.3328   \n",
              "\n",
              "   pos_neta_det_des_pases_pasivos  pos_neta_det_des_pases_activos  \n",
              "0                             0.0                           187.0  \n",
              "1                             0.0                           187.0  \n",
              "2                             0.0                           187.0  \n",
              "3                             0.0                           187.0  \n",
              "4                             0.0                           187.0  "
            ],
            "text/html": [
              "\n",
              "  <div id=\"df-81709bd2-77be-4b70-b8f7-352a00633363\" class=\"colab-df-container\">\n",
              "    <div>\n",
              "<style scoped>\n",
              "    .dataframe tbody tr th:only-of-type {\n",
              "        vertical-align: middle;\n",
              "    }\n",
              "\n",
              "    .dataframe tbody tr th {\n",
              "        vertical-align: top;\n",
              "    }\n",
              "\n",
              "    .dataframe thead th {\n",
              "        text-align: right;\n",
              "    }\n",
              "</style>\n",
              "<table border=\"1\" class=\"dataframe\">\n",
              "  <thead>\n",
              "    <tr style=\"text-align: right;\">\n",
              "      <th></th>\n",
              "      <th>indice_tiempo</th>\n",
              "      <th>reservas_internacionales_dolares</th>\n",
              "      <th>pasivos_monetarios</th>\n",
              "      <th>pasivos_monetarios_letras_pesos</th>\n",
              "      <th>pasivos_monetarios_letras_dolares</th>\n",
              "      <th>letras_liquidez_saldo_pesos</th>\n",
              "      <th>posicion_neta_pases</th>\n",
              "      <th>otros_depositos_gobierno</th>\n",
              "      <th>redescuentos_adelantos_iliquidez</th>\n",
              "      <th>tipo_cambio_valuacion</th>\n",
              "      <th>pos_neta_det_des_pases_pasivos</th>\n",
              "      <th>pos_neta_det_des_pases_activos</th>\n",
              "    </tr>\n",
              "  </thead>\n",
              "  <tbody>\n",
              "    <tr>\n",
              "      <th>0</th>\n",
              "      <td>2003-01-02</td>\n",
              "      <td>10500.743384</td>\n",
              "      <td>30300.0</td>\n",
              "      <td>2584.292106</td>\n",
              "      <td>558.358408</td>\n",
              "      <td>0.0</td>\n",
              "      <td>-187.0</td>\n",
              "      <td>67.0</td>\n",
              "      <td>20176.0</td>\n",
              "      <td>3.3630</td>\n",
              "      <td>0.0</td>\n",
              "      <td>187.0</td>\n",
              "    </tr>\n",
              "    <tr>\n",
              "      <th>1</th>\n",
              "      <td>2003-01-03</td>\n",
              "      <td>10505.278810</td>\n",
              "      <td>30359.0</td>\n",
              "      <td>2650.113332</td>\n",
              "      <td>643.514769</td>\n",
              "      <td>0.0</td>\n",
              "      <td>-187.0</td>\n",
              "      <td>48.0</td>\n",
              "      <td>20176.0</td>\n",
              "      <td>3.3625</td>\n",
              "      <td>0.0</td>\n",
              "      <td>187.0</td>\n",
              "    </tr>\n",
              "    <tr>\n",
              "      <th>2</th>\n",
              "      <td>2003-01-04</td>\n",
              "      <td>10505.278810</td>\n",
              "      <td>30359.0</td>\n",
              "      <td>2650.113332</td>\n",
              "      <td>643.514769</td>\n",
              "      <td>0.0</td>\n",
              "      <td>-187.0</td>\n",
              "      <td>48.0</td>\n",
              "      <td>20176.0</td>\n",
              "      <td>3.3625</td>\n",
              "      <td>0.0</td>\n",
              "      <td>187.0</td>\n",
              "    </tr>\n",
              "    <tr>\n",
              "      <th>3</th>\n",
              "      <td>2003-01-05</td>\n",
              "      <td>10505.278810</td>\n",
              "      <td>30359.0</td>\n",
              "      <td>2650.113332</td>\n",
              "      <td>643.514769</td>\n",
              "      <td>0.0</td>\n",
              "      <td>-187.0</td>\n",
              "      <td>48.0</td>\n",
              "      <td>20176.0</td>\n",
              "      <td>3.3625</td>\n",
              "      <td>0.0</td>\n",
              "      <td>187.0</td>\n",
              "    </tr>\n",
              "    <tr>\n",
              "      <th>4</th>\n",
              "      <td>2003-01-06</td>\n",
              "      <td>10563.790206</td>\n",
              "      <td>30538.0</td>\n",
              "      <td>2650.113332</td>\n",
              "      <td>637.830787</td>\n",
              "      <td>0.0</td>\n",
              "      <td>-187.0</td>\n",
              "      <td>46.0</td>\n",
              "      <td>20176.0</td>\n",
              "      <td>3.3328</td>\n",
              "      <td>0.0</td>\n",
              "      <td>187.0</td>\n",
              "    </tr>\n",
              "  </tbody>\n",
              "</table>\n",
              "</div>\n",
              "    <div class=\"colab-df-buttons\">\n",
              "\n",
              "  <div class=\"colab-df-container\">\n",
              "    <button class=\"colab-df-convert\" onclick=\"convertToInteractive('df-81709bd2-77be-4b70-b8f7-352a00633363')\"\n",
              "            title=\"Convert this dataframe to an interactive table.\"\n",
              "            style=\"display:none;\">\n",
              "\n",
              "  <svg xmlns=\"http://www.w3.org/2000/svg\" height=\"24px\" viewBox=\"0 -960 960 960\">\n",
              "    <path d=\"M120-120v-720h720v720H120Zm60-500h600v-160H180v160Zm220 220h160v-160H400v160Zm0 220h160v-160H400v160ZM180-400h160v-160H180v160Zm440 0h160v-160H620v160ZM180-180h160v-160H180v160Zm440 0h160v-160H620v160Z\"/>\n",
              "  </svg>\n",
              "    </button>\n",
              "\n",
              "  <style>\n",
              "    .colab-df-container {\n",
              "      display:flex;\n",
              "      gap: 12px;\n",
              "    }\n",
              "\n",
              "    .colab-df-convert {\n",
              "      background-color: #E8F0FE;\n",
              "      border: none;\n",
              "      border-radius: 50%;\n",
              "      cursor: pointer;\n",
              "      display: none;\n",
              "      fill: #1967D2;\n",
              "      height: 32px;\n",
              "      padding: 0 0 0 0;\n",
              "      width: 32px;\n",
              "    }\n",
              "\n",
              "    .colab-df-convert:hover {\n",
              "      background-color: #E2EBFA;\n",
              "      box-shadow: 0px 1px 2px rgba(60, 64, 67, 0.3), 0px 1px 3px 1px rgba(60, 64, 67, 0.15);\n",
              "      fill: #174EA6;\n",
              "    }\n",
              "\n",
              "    .colab-df-buttons div {\n",
              "      margin-bottom: 4px;\n",
              "    }\n",
              "\n",
              "    [theme=dark] .colab-df-convert {\n",
              "      background-color: #3B4455;\n",
              "      fill: #D2E3FC;\n",
              "    }\n",
              "\n",
              "    [theme=dark] .colab-df-convert:hover {\n",
              "      background-color: #434B5C;\n",
              "      box-shadow: 0px 1px 3px 1px rgba(0, 0, 0, 0.15);\n",
              "      filter: drop-shadow(0px 1px 2px rgba(0, 0, 0, 0.3));\n",
              "      fill: #FFFFFF;\n",
              "    }\n",
              "  </style>\n",
              "\n",
              "    <script>\n",
              "      const buttonEl =\n",
              "        document.querySelector('#df-81709bd2-77be-4b70-b8f7-352a00633363 button.colab-df-convert');\n",
              "      buttonEl.style.display =\n",
              "        google.colab.kernel.accessAllowed ? 'block' : 'none';\n",
              "\n",
              "      async function convertToInteractive(key) {\n",
              "        const element = document.querySelector('#df-81709bd2-77be-4b70-b8f7-352a00633363');\n",
              "        const dataTable =\n",
              "          await google.colab.kernel.invokeFunction('convertToInteractive',\n",
              "                                                    [key], {});\n",
              "        if (!dataTable) return;\n",
              "\n",
              "        const docLinkHtml = 'Like what you see? Visit the ' +\n",
              "          '<a target=\"_blank\" href=https://colab.research.google.com/notebooks/data_table.ipynb>data table notebook</a>'\n",
              "          + ' to learn more about interactive tables.';\n",
              "        element.innerHTML = '';\n",
              "        dataTable['output_type'] = 'display_data';\n",
              "        await google.colab.output.renderOutput(dataTable, element);\n",
              "        const docLink = document.createElement('div');\n",
              "        docLink.innerHTML = docLinkHtml;\n",
              "        element.appendChild(docLink);\n",
              "      }\n",
              "    </script>\n",
              "  </div>\n",
              "\n",
              "\n",
              "<div id=\"df-a7f42dbf-7812-453d-ae1d-f51c804c4ae8\">\n",
              "  <button class=\"colab-df-quickchart\" onclick=\"quickchart('df-a7f42dbf-7812-453d-ae1d-f51c804c4ae8')\"\n",
              "            title=\"Suggest charts\"\n",
              "            style=\"display:none;\">\n",
              "\n",
              "<svg xmlns=\"http://www.w3.org/2000/svg\" height=\"24px\"viewBox=\"0 0 24 24\"\n",
              "     width=\"24px\">\n",
              "    <g>\n",
              "        <path d=\"M19 3H5c-1.1 0-2 .9-2 2v14c0 1.1.9 2 2 2h14c1.1 0 2-.9 2-2V5c0-1.1-.9-2-2-2zM9 17H7v-7h2v7zm4 0h-2V7h2v10zm4 0h-2v-4h2v4z\"/>\n",
              "    </g>\n",
              "</svg>\n",
              "  </button>\n",
              "\n",
              "<style>\n",
              "  .colab-df-quickchart {\n",
              "      --bg-color: #E8F0FE;\n",
              "      --fill-color: #1967D2;\n",
              "      --hover-bg-color: #E2EBFA;\n",
              "      --hover-fill-color: #174EA6;\n",
              "      --disabled-fill-color: #AAA;\n",
              "      --disabled-bg-color: #DDD;\n",
              "  }\n",
              "\n",
              "  [theme=dark] .colab-df-quickchart {\n",
              "      --bg-color: #3B4455;\n",
              "      --fill-color: #D2E3FC;\n",
              "      --hover-bg-color: #434B5C;\n",
              "      --hover-fill-color: #FFFFFF;\n",
              "      --disabled-bg-color: #3B4455;\n",
              "      --disabled-fill-color: #666;\n",
              "  }\n",
              "\n",
              "  .colab-df-quickchart {\n",
              "    background-color: var(--bg-color);\n",
              "    border: none;\n",
              "    border-radius: 50%;\n",
              "    cursor: pointer;\n",
              "    display: none;\n",
              "    fill: var(--fill-color);\n",
              "    height: 32px;\n",
              "    padding: 0;\n",
              "    width: 32px;\n",
              "  }\n",
              "\n",
              "  .colab-df-quickchart:hover {\n",
              "    background-color: var(--hover-bg-color);\n",
              "    box-shadow: 0 1px 2px rgba(60, 64, 67, 0.3), 0 1px 3px 1px rgba(60, 64, 67, 0.15);\n",
              "    fill: var(--button-hover-fill-color);\n",
              "  }\n",
              "\n",
              "  .colab-df-quickchart-complete:disabled,\n",
              "  .colab-df-quickchart-complete:disabled:hover {\n",
              "    background-color: var(--disabled-bg-color);\n",
              "    fill: var(--disabled-fill-color);\n",
              "    box-shadow: none;\n",
              "  }\n",
              "\n",
              "  .colab-df-spinner {\n",
              "    border: 2px solid var(--fill-color);\n",
              "    border-color: transparent;\n",
              "    border-bottom-color: var(--fill-color);\n",
              "    animation:\n",
              "      spin 1s steps(1) infinite;\n",
              "  }\n",
              "\n",
              "  @keyframes spin {\n",
              "    0% {\n",
              "      border-color: transparent;\n",
              "      border-bottom-color: var(--fill-color);\n",
              "      border-left-color: var(--fill-color);\n",
              "    }\n",
              "    20% {\n",
              "      border-color: transparent;\n",
              "      border-left-color: var(--fill-color);\n",
              "      border-top-color: var(--fill-color);\n",
              "    }\n",
              "    30% {\n",
              "      border-color: transparent;\n",
              "      border-left-color: var(--fill-color);\n",
              "      border-top-color: var(--fill-color);\n",
              "      border-right-color: var(--fill-color);\n",
              "    }\n",
              "    40% {\n",
              "      border-color: transparent;\n",
              "      border-right-color: var(--fill-color);\n",
              "      border-top-color: var(--fill-color);\n",
              "    }\n",
              "    60% {\n",
              "      border-color: transparent;\n",
              "      border-right-color: var(--fill-color);\n",
              "    }\n",
              "    80% {\n",
              "      border-color: transparent;\n",
              "      border-right-color: var(--fill-color);\n",
              "      border-bottom-color: var(--fill-color);\n",
              "    }\n",
              "    90% {\n",
              "      border-color: transparent;\n",
              "      border-bottom-color: var(--fill-color);\n",
              "    }\n",
              "  }\n",
              "</style>\n",
              "\n",
              "  <script>\n",
              "    async function quickchart(key) {\n",
              "      const quickchartButtonEl =\n",
              "        document.querySelector('#' + key + ' button');\n",
              "      quickchartButtonEl.disabled = true;  // To prevent multiple clicks.\n",
              "      quickchartButtonEl.classList.add('colab-df-spinner');\n",
              "      try {\n",
              "        const charts = await google.colab.kernel.invokeFunction(\n",
              "            'suggestCharts', [key], {});\n",
              "      } catch (error) {\n",
              "        console.error('Error during call to suggestCharts:', error);\n",
              "      }\n",
              "      quickchartButtonEl.classList.remove('colab-df-spinner');\n",
              "      quickchartButtonEl.classList.add('colab-df-quickchart-complete');\n",
              "    }\n",
              "    (() => {\n",
              "      let quickchartButtonEl =\n",
              "        document.querySelector('#df-a7f42dbf-7812-453d-ae1d-f51c804c4ae8 button');\n",
              "      quickchartButtonEl.style.display =\n",
              "        google.colab.kernel.accessAllowed ? 'block' : 'none';\n",
              "    })();\n",
              "  </script>\n",
              "</div>\n",
              "    </div>\n",
              "  </div>\n"
            ]
          },
          "metadata": {},
          "execution_count": 4
        }
      ]
    },
    {
      "cell_type": "markdown",
      "source": [
        "El atributo `.shape` nos permite ver la forma del dataset, el cual posee 7608 filas y 12 columnas."
      ],
      "metadata": {
        "id": "_JubwgRhGZKB"
      }
    },
    {
      "cell_type": "code",
      "source": [
        "df.shape"
      ],
      "metadata": {
        "id": "VMuu7ccl6X_2",
        "colab": {
          "base_uri": "https://localhost:8080/"
        },
        "outputId": "7a1b048c-5695-42f1-a3cd-6c3a5edbd404"
      },
      "execution_count": 5,
      "outputs": [
        {
          "output_type": "execute_result",
          "data": {
            "text/plain": [
              "(7608, 12)"
            ]
          },
          "metadata": {},
          "execution_count": 5
        }
      ]
    },
    {
      "cell_type": "markdown",
      "source": [
        "A su vez, `.size` nos da el tamaño de la matriz"
      ],
      "metadata": {
        "id": "w8bJZfYwHb7V"
      }
    },
    {
      "cell_type": "code",
      "source": [
        "df.size"
      ],
      "metadata": {
        "id": "aSPty7kB7VBQ",
        "colab": {
          "base_uri": "https://localhost:8080/"
        },
        "outputId": "9db8ed26-2637-4f0a-a5a3-bf075d605694"
      },
      "execution_count": 6,
      "outputs": [
        {
          "output_type": "execute_result",
          "data": {
            "text/plain": [
              "91296"
            ]
          },
          "metadata": {},
          "execution_count": 6
        }
      ]
    },
    {
      "cell_type": "markdown",
      "source": [
        "#### 3) Convierta la variable \"indice_tiempo\" en una variable tipo fecha. ¿Cuál es el rango de la variable?"
      ],
      "metadata": {
        "id": "M3ivUK3AfMtb"
      }
    },
    {
      "cell_type": "code",
      "source": [
        "#conversion\n",
        "df[\"indice_tiempo\"] = pd.to_datetime(df[\"indice_tiempo\"])\n",
        "\n",
        "#busco valores minimos y maximos de la variable, para ver su rango\n",
        "print(f'El valor mínimo es {df[\"indice_tiempo\"].min()}')\n",
        "print(f'El valor máximo es {df[\"indice_tiempo\"].max()}')"
      ],
      "metadata": {
        "id": "mK26HSu3iND6",
        "colab": {
          "base_uri": "https://localhost:8080/"
        },
        "outputId": "4bec7e61-1478-4ade-e473-be76ccbf03cf"
      },
      "execution_count": 11,
      "outputs": [
        {
          "output_type": "stream",
          "name": "stdout",
          "text": [
            "El valor mínimo es 2003-01-02 00:00:00\n",
            "El valor máximo es 2023-10-31 00:00:00\n"
          ]
        }
      ]
    },
    {
      "cell_type": "markdown",
      "source": [
        "#### 4) Filtre el dataset para quedarse únicamente con los datos entre enero de 2010 a diciembre de 2020. Utilice el método .loc"
      ],
      "metadata": {
        "id": "6UA28Rk06gtJ"
      }
    },
    {
      "cell_type": "code",
      "source": [
        "#se fijan los años que se quieren filtrar en variables\n",
        "start_year = 2010\n",
        "end_year = 2020\n",
        "\n",
        "#se construye una máscara booleana: prestar atención al atributo .dt.year que devuelve el año de la fecha, facilitando la manipulacion\n",
        "boolean_mask = (df[\"indice_tiempo\"].dt.year >= start_year) & (df[\"indice_tiempo\"].dt.year <= end_year)\n",
        "\n",
        "#se pasa la máscara en el dataframe\n",
        "df_filtrado = df.loc[boolean_mask]\n",
        "\n",
        "#se corrobora su tamaño\n",
        "df_filtrado.shape"
      ],
      "metadata": {
        "id": "aEUkKnWH7rei",
        "colab": {
          "base_uri": "https://localhost:8080/"
        },
        "outputId": "32c957b9-b107-4f77-b19e-06c56c8d91a5"
      },
      "execution_count": 14,
      "outputs": [
        {
          "output_type": "execute_result",
          "data": {
            "text/plain": [
              "(4018, 12)"
            ]
          },
          "metadata": {},
          "execution_count": 14
        }
      ]
    },
    {
      "cell_type": "markdown",
      "source": [
        "#### 5) Cree una nueva columna que contenga la variación absoluta de la variable de reservas internacionales entre períodos. Previo a eso, para asegurarse que el cálculo está bien hecho, ordene el dataset por fecha."
      ],
      "metadata": {
        "id": "5_5zuzPxAr9u"
      }
    },
    {
      "cell_type": "code",
      "source": [
        "#ordeno y asigno el dataset ordenado\n",
        "df_filtrado = df_filtrado.sort_index()"
      ],
      "metadata": {
        "id": "geD9OJuWBQsM"
      },
      "execution_count": 15,
      "outputs": []
    },
    {
      "cell_type": "code",
      "source": [
        "# alternativa 1: con método .diff()\n",
        "df_filtrado['variacion_abs_rrii_1'] = df_filtrado[\"reservas_internacionales_dolares\"].diff()\n",
        "\n",
        "#muestro sus valores estadisticos\n",
        "df_filtrado['variacion_abs_rrii_1'].describe()"
      ],
      "metadata": {
        "id": "AYQKwQ33FjZM",
        "colab": {
          "base_uri": "https://localhost:8080/"
        },
        "outputId": "140cf5a4-4e12-494c-a0b8-3ccd112d80e0"
      },
      "execution_count": 18,
      "outputs": [
        {
          "output_type": "execute_result",
          "data": {
            "text/plain": [
              "count     4017.000000\n",
              "mean        -2.136041\n",
              "std        502.723829\n",
              "min      -4749.000000\n",
              "25%        -38.000000\n",
              "50%          0.000000\n",
              "75%         10.000000\n",
              "max      14796.200000\n",
              "Name: variacion_abs_rrii, dtype: float64"
            ]
          },
          "metadata": {},
          "execution_count": 18
        }
      ]
    },
    {
      "cell_type": "code",
      "source": [
        "# alternativa 2: con función propia\n",
        "\n",
        "def variacion_absoluta(x):\n",
        "  return x - x.shift(1)\n",
        "\n",
        "df_filtrado['variacion_abs_rrii_2'] = variacion_absoluta(df_filtrado[\"reservas_internacionales_dolares\"])\n",
        "df_filtrado['variacion_abs_rrii_2'].describe()"
      ],
      "metadata": {
        "colab": {
          "base_uri": "https://localhost:8080/"
        },
        "id": "KnT4VH2JJv78",
        "outputId": "5b5c904b-9254-4112-c63a-2e16420abcfb"
      },
      "execution_count": 38,
      "outputs": [
        {
          "output_type": "execute_result",
          "data": {
            "text/plain": [
              "count     4017.000000\n",
              "mean        -2.136041\n",
              "std        502.723829\n",
              "min      -4749.000000\n",
              "25%        -38.000000\n",
              "50%          0.000000\n",
              "75%         10.000000\n",
              "max      14796.200000\n",
              "Name: variacion_abs_rrii_2, dtype: float64"
            ]
          },
          "metadata": {},
          "execution_count": 38
        }
      ]
    }
  ]
}
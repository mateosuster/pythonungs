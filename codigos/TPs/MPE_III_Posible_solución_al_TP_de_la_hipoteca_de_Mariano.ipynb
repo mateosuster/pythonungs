{
  "nbformat": 4,
  "nbformat_minor": 0,
  "metadata": {
    "colab": {
      "provenance": [],
      "authorship_tag": "ABX9TyM5k+XbT1RDjO4KcORjXmMp",
      "include_colab_link": true
    },
    "kernelspec": {
      "name": "python3",
      "display_name": "Python 3"
    },
    "language_info": {
      "name": "python"
    }
  },
  "cells": [
    {
      "cell_type": "markdown",
      "metadata": {
        "id": "view-in-github",
        "colab_type": "text"
      },
      "source": [
        "<a href=\"https://colab.research.google.com/github/mateosuster/pythonungs/blob/master/codigos/TPs/MPE_III_Posible_soluci%C3%B3n_al_TP_de_la_hipoteca_de_Mariano.ipynb\" target=\"_parent\"><img src=\"https://colab.research.google.com/assets/colab-badge.svg\" alt=\"Open In Colab\"/></a>"
      ]
    },
    {
      "cell_type": "code",
      "source": [
        "saldo = 1000000.0\n",
        "tasa = 0.05\n",
        "pago_mensual = 5368.22\n",
        "total_pagado = 0.0\n",
        "mes=0\n",
        "adelanto=1000\n",
        "\n",
        "while saldo > 0:\n",
        "    saldo = saldo * (1+tasa/12) - pago_mensual\n",
        "    total_pagado = total_pagado + pago_mensual\n",
        "    mes=mes+1\n",
        "    if mes<=12:\n",
        "        saldo=saldo-adelanto\n",
        "        total_pagado=total_pagado+adelanto\n",
        "\n",
        "\n",
        "print('Total pagado', round(total_pagado, 2))\n",
        "print('Meses requeridos', mes)\n",
        "\n"
      ],
      "metadata": {
        "colab": {
          "base_uri": "https://localhost:8080/"
        },
        "id": "AaEMaiJpoX0q",
        "outputId": "90401b0b-f38b-4cac-8cb8-0779a81eedb4"
      },
      "execution_count": 2,
      "outputs": [
        {
          "output_type": "stream",
          "name": "stdout",
          "text": [
            "Total pagado 1896245.22\n",
            "Meses requeridos 351\n"
          ]
        }
      ]
    },
    {
      "cell_type": "code",
      "source": [
        "saldo = 1000000.0\n",
        "tasa = 0.05\n",
        "pago_mensual = 5368.22\n",
        "total_pagado = 0.0\n",
        "mes=0\n",
        "adelanto=1000\n",
        "comienzo=61\n",
        "fin=108\n",
        "\n",
        "while saldo > 0:\n",
        "    if fin>=mes and mes>=comienzo:\n",
        "        saldo=saldo-adelanto\n",
        "        total_pagado=total_pagado+adelanto\n",
        "\n",
        "    saldo = saldo * (1+tasa/12) - pago_mensual\n",
        "    total_pagado = total_pagado + pago_mensual\n",
        "    mes=mes+1\n",
        "\n",
        "\n",
        "\n",
        "print('Total pagado', round(total_pagado, 2))\n",
        "print('Meses requeridos', mes)\n"
      ],
      "metadata": {
        "colab": {
          "base_uri": "https://localhost:8080/"
        },
        "id": "gwcjv1lko3v8",
        "outputId": "a2e09a7a-5f57-42f2-c2b3-dbf04354d7ce"
      },
      "execution_count": 3,
      "outputs": [
        {
          "output_type": "stream",
          "name": "stdout",
          "text": [
            "Total pagado 1840985.48\n",
            "Meses requeridos 334\n"
          ]
        }
      ]
    }
  ]
}
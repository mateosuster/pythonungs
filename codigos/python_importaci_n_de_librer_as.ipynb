{
  "cells": [
    {
      "cell_type": "markdown",
      "metadata": {
        "id": "view-in-github",
        "colab_type": "text"
      },
      "source": [
        "<a href=\"https://colab.research.google.com/github/mateosuster/pythonungs/blob/master/codigos/python_importaci_n_de_librer_as.ipynb\" target=\"_parent\"><img src=\"https://colab.research.google.com/assets/colab-badge.svg\" alt=\"Open In Colab\"/></a>"
      ]
    },
    {
      "cell_type": "markdown",
      "metadata": {
        "id": "JOEpImumZ9us"
      },
      "source": [
        "# Importación de librerías o modulos\n",
        "\n",
        "En programación, una librería responde al conjunto de funcionalidades que permiten al usuario  llevar a cabo nuevas tareas que antes no se podían realizar.\n",
        "\n",
        "Cada una de las librerías de Python disponen de diferentes módulos, con funciones específicas y que también varían en función del sistema operativo con el que se trabaje.\n",
        "\n",
        "De acuerdo, con los objetivos de las librerías de Python existen diferentes clasificaciones. Estos son algunos tipos de librerías de Python:\n",
        "\n",
        "\n",
        "* Cálculo numérico: Preparan los datos y ofrecen atributos importantes para su cálculo.\n",
        "* Visualización: Sirven para entender y comprender los datos, de una forma más legible.\n",
        "* Machine learning: Estas librerías son útiles para el machine learning, ya que mejoran el proceso de información y la resolución de problemas de clasificación y el análisis de regresión de datos.\n",
        "* Inteligencia Artificial explicable: Buscan resultados óptimos en Inteligencia Artificial, llevando adelante diversas metodologías tecnológicas.\n",
        "* Procesamiento de lenguaje natural: A partir del cálculo de frecuencias normalizadas, se construyen los modelos con datos de texto.\n",
        "* Deep learning: Están enfocadas, de cara a la predicción de datos con modelos de redes neuronales artificiales.\n",
        "\n",
        "En síntesis, los módulos son archivos de Python que contienen funciones y variables. Podemos importar los módulos y acceder a las funciones y variables con el operador \".\" (punto) o agregándolos a nuestro *namespace*. Contamos con las siguientes maneras de importar funciones de un módulo:"
      ]
    },
    {
      "cell_type": "markdown",
      "metadata": {
        "id": "ApU9fPBXgkKK"
      },
      "source": [
        "# Formas de importar librerías"
      ]
    },
    {
      "cell_type": "markdown",
      "metadata": {
        "id": "RFnwYPdA0g29"
      },
      "source": [
        "## Usando `import`\n",
        "\n",
        "La primera opción, y la más sencilla, es usar el comando `import` seguido del nombre la librería, así:\n",
        "\n",
        "```python\n",
        "import math\n",
        "```\n",
        "\n",
        "Cuando queramos usar algún comando de la librería, debemos llamarla por su nombre seguido de un punto (`.`) y la tecla <kbd>Tab</kbd>. Inmediatamente deberá aparecer una lista con las funciones que hacen parte de la misma. así:"
      ]
    },
    {
      "cell_type": "code",
      "execution_count": null,
      "metadata": {
        "id": "NXAKuF0S0g29"
      },
      "outputs": [],
      "source": [
        "import math"
      ]
    },
    {
      "cell_type": "code",
      "execution_count": null,
      "metadata": {
        "id": "AyM37rUQ0g3A"
      },
      "outputs": [],
      "source": [
        "math.pi"
      ]
    },
    {
      "cell_type": "code",
      "execution_count": null,
      "metadata": {
        "id": "Qk9w743d0g3C"
      },
      "outputs": [],
      "source": [
        "math.cos(5)"
      ]
    },
    {
      "cell_type": "markdown",
      "metadata": {
        "id": "zOViekt20g3F"
      },
      "source": [
        "Como `math` es la librería de funciones matemáticas básicas de Python, podemos utilizarla para calcular el $\\textrm{sin}(\\pi/2)$, por ejemplo:"
      ]
    },
    {
      "cell_type": "code",
      "execution_count": null,
      "metadata": {
        "id": "Qu7H9Wzh0g3F"
      },
      "outputs": [],
      "source": [
        "math.sin(math.pi/2)"
      ]
    },
    {
      "cell_type": "code",
      "execution_count": null,
      "metadata": {
        "id": "Zfn44y9qiigc"
      },
      "outputs": [],
      "source": [
        "math.log10(2)"
      ]
    },
    {
      "cell_type": "markdown",
      "metadata": {
        "id": "luyYB4_fbwBb"
      },
      "source": [
        "Si no invocamos la librería previamente al uso de la función, Python tirará un error."
      ]
    },
    {
      "cell_type": "code",
      "execution_count": null,
      "metadata": {
        "id": "iLqDsZdFbsbX"
      },
      "outputs": [],
      "source": [
        "cos(5)"
      ]
    },
    {
      "cell_type": "markdown",
      "metadata": {
        "id": "JP0Omiof0g3H"
      },
      "source": [
        "## Usando `from`\n",
        "\n",
        "Otra opción es sólo llamar un comando específico de una librería determinada. Para ello usamos la siguiente sintaxis:\n",
        "\n",
        "```python\n",
        "from math import sin\n",
        "```\n",
        "\n",
        "En este caso sólo se carga el comando `sin`, sin cargar el resto de la librería. Esto puede ser muy ventajoso cuando la librería es grande y sólo queremos utilizar una pequeña funcionalidad de la misma. Otra ventaja es que no es necesario usar el nombre de la librería antes del comando."
      ]
    },
    {
      "cell_type": "code",
      "execution_count": null,
      "metadata": {
        "id": "v2-k8Qhv0g3I"
      },
      "outputs": [],
      "source": [
        "from math import sin"
      ]
    },
    {
      "cell_type": "code",
      "execution_count": null,
      "metadata": {
        "id": "wFokjpr40g3K"
      },
      "outputs": [],
      "source": [
        "sin(3.1)"
      ]
    },
    {
      "cell_type": "code",
      "execution_count": null,
      "metadata": {
        "id": "0T5z4wBy0g3N"
      },
      "outputs": [],
      "source": [
        "sin(pi/2)"
      ]
    },
    {
      "cell_type": "markdown",
      "metadata": {
        "id": "x6PWnLRx0g3P"
      },
      "source": [
        "Para no tener que escribir **una línea** `from math import ...` **por cada símbolo que se desee importar**, se puede usar la misma sintaxis de arriba con cada símbolo separado por una coma, así:"
      ]
    },
    {
      "cell_type": "code",
      "execution_count": null,
      "metadata": {
        "id": "ovkG91i-0g3P"
      },
      "outputs": [],
      "source": [
        "from math import sin, pi"
      ]
    },
    {
      "cell_type": "markdown",
      "metadata": {
        "id": "br2oatcN0g3R"
      },
      "source": [
        "Al cargar `pi` de `math` de esta forma, ya no veremos el error anterior:"
      ]
    },
    {
      "cell_type": "code",
      "execution_count": null,
      "metadata": {
        "id": "tb3QQeJn0g3S"
      },
      "outputs": [],
      "source": [
        "sin(pi/2)"
      ]
    },
    {
      "cell_type": "markdown",
      "metadata": {
        "id": "KemIHOIQ0g3U"
      },
      "source": [
        "## Usando un nombre corto\n",
        "\n",
        "Una opción para no tener que llamar una librería por su nombre completo, es renombrarla al momento de importarla. Esto es una práctica bastante común, pues permite utilizar nombres cortos para las librerías, lo que hace más fácil llamarlas con el `.`\n",
        "\n",
        "\n",
        " Para ello se usa la siguiente sintaxis:\n",
        "\n",
        "```python\n",
        "import math as mt\n",
        "```\n",
        "\n",
        "De esta forma, en lugar de `math` sólo usamos `mt`, así:"
      ]
    },
    {
      "cell_type": "code",
      "execution_count": null,
      "metadata": {
        "id": "B2KvQDBR0g3U"
      },
      "outputs": [],
      "source": [
        "import math as mt"
      ]
    },
    {
      "cell_type": "code",
      "execution_count": null,
      "metadata": {
        "id": "DQo-3f6r0g3X"
      },
      "outputs": [],
      "source": [
        "mt.sin(mt.pi/2)"
      ]
    },
    {
      "cell_type": "markdown",
      "metadata": {
        "id": "L2ELs-3C0g3Y"
      },
      "source": [
        "## Importando todos los comandos\n",
        "\n",
        "La última opción consiste en llamar todos los comandos de una librería sin que estén precedidos por su nombre. Para ello se utiliza la sintaxis:\n",
        "\n",
        "```python\n",
        "from math import *\n",
        "```\n",
        "\n",
        "**Advertencia**:\n",
        "\n",
        "Esta opción no es muy recomendable ya que los comandos de varias librerías pueden tener el mismo nombre, lo que puede resultar en serias confusiones. Podemos pisar funciones que hemos construido previamente\n",
        "\n",
        "Un ejemplo de este caso es el siguiente:"
      ]
    },
    {
      "cell_type": "code",
      "execution_count": null,
      "metadata": {
        "id": "nSQsq5AE0g3Z"
      },
      "outputs": [],
      "source": [
        "from math import *"
      ]
    },
    {
      "cell_type": "code",
      "execution_count": null,
      "metadata": {
        "id": "j7UjdYOO0g3a"
      },
      "outputs": [],
      "source": [
        "log10(exp(9)/2)"
      ]
    },
    {
      "cell_type": "markdown",
      "metadata": {
        "id": "S0thZuUBguA9"
      },
      "source": [
        "# Tipos de módulos"
      ]
    },
    {
      "cell_type": "markdown",
      "metadata": {
        "id": "aMo-oo-2dTsh"
      },
      "source": [
        "\n",
        "## 1. Módulos de \"Python nativo\"\n",
        "\n",
        "Cuando instalamos Python, hay algunos módulos que contienen funcionalidad básica y para poder utilizarlos los tenemos que importar explícitamente.\n",
        "\n",
        "Hay módulos para trabajar con fechas (datetime), para interactuar con el sistema operativo donde nuestro programa está corriendo (os), para generar números aleatorios (random), para hacer operaciones matemáticas (math) y muchos otros más.\n",
        "\n"
      ]
    },
    {
      "cell_type": "code",
      "execution_count": null,
      "metadata": {
        "id": "s-rHFktsdTsh"
      },
      "outputs": [],
      "source": [
        "# Ejemplo de uso de datetime\n",
        "import datetime\n",
        "print(datetime.datetime.now())"
      ]
    },
    {
      "cell_type": "code",
      "execution_count": null,
      "metadata": {
        "id": "0oJqG4GndTsh"
      },
      "outputs": [],
      "source": [
        "import datetime as dt\n",
        "print(dt.datetime.now())"
      ]
    },
    {
      "cell_type": "code",
      "execution_count": null,
      "metadata": {
        "id": "Kn3gJ-WHdTsi"
      },
      "outputs": [],
      "source": [
        "from datetime import datetime\n",
        "print(datetime.now())"
      ]
    },
    {
      "cell_type": "code",
      "execution_count": null,
      "metadata": {
        "id": "Km-U5RvsdTsi"
      },
      "outputs": [],
      "source": [
        "from datetime import *\n",
        "print(datetime.now())"
      ]
    },
    {
      "cell_type": "markdown",
      "metadata": {
        "id": "NkAPoHn0dHOY"
      },
      "source": [
        "**`math` Modulo**\n",
        "\n",
        "Nos permite hacer tener acceso a funciones matemáticas, que originalmente, estan programadas en C."
      ]
    },
    {
      "cell_type": "code",
      "execution_count": null,
      "metadata": {
        "id": "cM3NfgipdKSd",
        "scrolled": true
      },
      "outputs": [],
      "source": [
        "import math\n",
        "\n",
        "print(dir(math))"
      ]
    },
    {
      "cell_type": "code",
      "execution_count": null,
      "metadata": {
        "id": "BqoLQzGvdihA"
      },
      "outputs": [],
      "source": [
        "log_21 = math.log(21)\n",
        "print(log_21)"
      ]
    },
    {
      "cell_type": "code",
      "execution_count": null,
      "metadata": {
        "id": "LqtD7Q_hgG0n"
      },
      "outputs": [],
      "source": [
        "coseno_pi = math.cos(math.pi)\n",
        "print(coseno_pi)"
      ]
    },
    {
      "cell_type": "markdown",
      "source": [
        "**`random` Modulo**"
      ],
      "metadata": {
        "id": "G6umHY9LDw2P"
      }
    },
    {
      "cell_type": "code",
      "source": [
        "import random\n",
        "\n",
        "# Generar un número aleatorio entero entre 1 y 10\n",
        "numero_aleatorio = random.randint(1, 10)\n",
        "print(f\"Número aleatorio entero entre 1 y 10: {numero_aleatorio}\")\n",
        "\n",
        "# Elegir un elemento aleatorio de una lista\n",
        "frutas = [\"manzana\", \"banana\", \"cereza\"]\n",
        "fruta_aleatoria = random.choice(frutas)\n",
        "print(f\"Fruta aleatoria: {fruta_aleatoria}\")\n",
        "\n",
        "# Barajar una lista de elementos\n",
        "numeros = [1, 2, 3, 4, 5]\n",
        "random.shuffle(numeros)\n",
        "print(f\"Lista barajada: {numeros}\")\n",
        "\n",
        "# Generar un número aleatorio de punto flotante entre 0 y 1\n",
        "numero_flotante = random.random()\n",
        "print(f\"Número de punto flotante aleatorio: {numero_flotante}\")\n"
      ],
      "metadata": {
        "colab": {
          "base_uri": "https://localhost:8080/"
        },
        "id": "n6zNuNCeDsTe",
        "outputId": "fab0441e-7cb6-4c3f-c678-7a67d5250382"
      },
      "execution_count": null,
      "outputs": [
        {
          "output_type": "stream",
          "name": "stdout",
          "text": [
            "Número aleatorio entero entre 1 y 10: 2\n",
            "Fruta aleatoria: manzana\n",
            "Lista barajada: [4, 1, 3, 5, 2]\n",
            "Número de punto flotante aleatorio: 0.6191514016883374\n"
          ]
        }
      ]
    },
    {
      "cell_type": "markdown",
      "metadata": {
        "id": "ydS3Qvbx9vgs"
      },
      "source": [
        "### Numpy\n",
        "\n",
        "[NumPy](https://numpy.org/) es el paquete fundamental para computación científica con Python. En el no sólo vamos a encontrar las siempre prácticas matrices que facilitan en sobremanera el manejo de información numérica; sino que también vamos a poder encontrar un gran número de funciones matemáticas. Su objeto más popular es el `array` (matrices/vectores)."
      ]
    },
    {
      "cell_type": "code",
      "execution_count": null,
      "metadata": {
        "id": "KfQjwhQD3cae"
      },
      "outputs": [],
      "source": [
        "import numpy as np\n",
        "\n",
        "a = np.array([1, 2, 3])   # Crea un array de rango 1\n",
        "\n",
        "print( a, \"\\n\")\n",
        "print(\"el array es de tipo\", type(a))\n",
        "print(\"la forma de esta matriz es\" , a.shape)\n",
        "print(a[0], a[1], a[2])   # Imprime los objetos de la fila\n",
        "a[0] = 5                  # cambia un objeto del array\n",
        "print(\"\\n\", a)\n"
      ]
    },
    {
      "cell_type": "code",
      "execution_count": null,
      "metadata": {
        "id": "tVlFXR-y255M"
      },
      "outputs": [],
      "source": [
        "import numpy as np\n",
        "\n",
        "a = np.array([[1,2], [3, 4], [5, 6]])\n",
        "a"
      ]
    },
    {
      "cell_type": "markdown",
      "metadata": {
        "id": "pVm0Mf3SrkGe"
      },
      "source": [
        "Recordemos que podemos utilizar el signo `?` o la función `help()` para acceder a la ayuda de la función (también disponible en las páginas de documentación de las librerías)"
      ]
    },
    {
      "cell_type": "code",
      "execution_count": null,
      "metadata": {
        "id": "0LcZpwLn2748"
      },
      "outputs": [],
      "source": [
        "np.array?"
      ]
    },
    {
      "cell_type": "markdown",
      "metadata": {
        "id": "J14rbC6ku12Z"
      },
      "source": [
        "Inspeccionemos la documentación de la función `linspace`, la cual continuaremos utilizando en la materia."
      ]
    },
    {
      "cell_type": "code",
      "execution_count": null,
      "metadata": {
        "id": "sSPcZZH-4fRu"
      },
      "outputs": [],
      "source": [
        "np.linspace?"
      ]
    },
    {
      "cell_type": "markdown",
      "metadata": {
        "id": "mtXR1x1du7sP"
      },
      "source": [
        "Como vemos, toma como argumentos dos valores obligatorios:\n",
        "\n",
        "\n",
        "*   `start`: en qué valor inicia el arreglo de datos\n",
        "*   `stop`: en qué valor termina\n",
        "\n",
        "Y se pueden establecer otros parámetros más como `num` para indicar cuantos valores (puntos en el espacio) queremos. Por default toma un valor igual a 50.\n",
        "\n"
      ]
    },
    {
      "cell_type": "code",
      "source": [
        "np.linspace(1, 52)"
      ],
      "metadata": {
        "id": "udmVDYuovv-l"
      },
      "execution_count": null,
      "outputs": []
    },
    {
      "cell_type": "code",
      "source": [
        "np.linspace(1, 52, num = 10 )"
      ],
      "metadata": {
        "id": "VPgAAyjTv1at"
      },
      "execution_count": null,
      "outputs": []
    },
    {
      "cell_type": "markdown",
      "metadata": {
        "id": "hPo1LBXldTsj"
      },
      "source": [
        "## 2. Módulos propios\n",
        "\n",
        "Cuando estemos creando aplicaciones grandes y complejas, será necesario llevar alguna de la funcionalidad que desarrollemos a módulos.\n",
        "\n",
        "Para eso es necesario escribir archivos que tengan nuestro código, y luego importar los módulos localmente.||"
      ]
    },
    {
      "cell_type": "code",
      "execution_count": null,
      "metadata": {
        "id": "UD6dPkQidTsk"
      },
      "outputs": [],
      "source": [
        "with open('misfunciones.py', 'w') as out:\n",
        "    out.write(\"\"\"def misuma(a,b):\n",
        "        print('Sumando!')\n",
        "        return a+b\"\"\")"
      ]
    },
    {
      "cell_type": "code",
      "execution_count": null,
      "metadata": {
        "id": "ep_gV6VcdTsk"
      },
      "outputs": [],
      "source": [
        "from misfunciones import misuma\n",
        "\n",
        "misuma(3,2)"
      ]
    },
    {
      "cell_type": "markdown",
      "metadata": {
        "id": "FCJoS0a5dTsk"
      },
      "source": [
        "## 3. Módulos de terceros\n",
        "\n",
        "Cada lenguaje de programación tiene su propio sistema de gestión de paquetes donde la comunidad contribuye con distintos módulos. En el caso de Python este sistema es <a href = 'https://pypi.org/project/pip/'> PyPI </a>. Los organizadores de este proyecto se encargan de fijar estándares de calidad para las librerías que se distribuyan a través del mismo.\n",
        "\n",
        "Los entornos (como collab) que tienen instalado python, en general, también tienen instalado un software que se llama python-pip. Este nos permite ejecutar el comando pip para descargar librerías desde PyPI.\n",
        "\n",
        "Este comando lo podemos ejecutar desde una terminal, o desde la propia jupyter notebook si utilizamos la sintaxis \"!\" para cada línea o el comando %%bash para cada celda.\n",
        "\n",
        "La sintaxis es:\n",
        "\n",
        "<code> pip install [nombre del paquete]</code>\n",
        "\n",
        "Opcionalmente podemos especificar una versión de ese paquete. Si no lo hacemos, va a descargar la última que encuentre para la versión de python-pip que tenemos instalada.\n",
        "\n",
        "\n",
        "<code> pip install [nombre del paquete][==version]</code>\n",
        "\n",
        "\n",
        "Cuando desarrollamos aplicaciones en Python, es muy importante tener en cuenta el manejo de versiones. Para que nuestro código funcione adecuadamente, el ambiente donde la aplicación corre tiene que tener las mismas versiones de librerías que usamos al momento de desarrollar.\n",
        "\n",
        "Esto generalmente se maneja a través de un archivo, <strong>requirements.txt</strong>,  que contiene todos los paquetes que la aplicación necesita con sus respectivas versiones."
      ]
    },
    {
      "cell_type": "markdown",
      "metadata": {
        "id": "fVQRrFx-dTsk"
      },
      "source": [
        "#### Ejemplo de uso de pip\n",
        "La librería seaborn por ejemplo, se usa para hacer gráficos."
      ]
    },
    {
      "cell_type": "code",
      "execution_count": null,
      "metadata": {
        "id": "jh05zucOdTsk"
      },
      "outputs": [],
      "source": [
        "!pip install seaborn==0.9.0"
      ]
    },
    {
      "cell_type": "code",
      "execution_count": null,
      "metadata": {
        "id": "80EkrtrXdTsk"
      },
      "outputs": [],
      "source": [
        "import seaborn as sns"
      ]
    },
    {
      "cell_type": "code",
      "execution_count": null,
      "metadata": {
        "id": "7kODv9F2dTsl"
      },
      "outputs": [],
      "source": [
        "# Con este comando podemos consultar la versión de cualquier módulo.\n",
        "sns.__version__"
      ]
    },
    {
      "cell_type": "code",
      "execution_count": null,
      "metadata": {
        "id": "YC7U53cAdTsl"
      },
      "outputs": [],
      "source": [
        "sns.scatterplot(x=[3,4,5,6],y=[6,8,10,12]);"
      ]
    }
  ],
  "metadata": {
    "colab": {
      "provenance": [],
      "include_colab_link": true
    },
    "kernelspec": {
      "display_name": "Python 3 (ipykernel)",
      "language": "python",
      "name": "python3"
    },
    "language_info": {
      "codemirror_mode": {
        "name": "ipython",
        "version": 3
      },
      "file_extension": ".py",
      "mimetype": "text/x-python",
      "name": "python",
      "nbconvert_exporter": "python",
      "pygments_lexer": "ipython3",
      "version": "3.10.4"
    }
  },
  "nbformat": 4,
  "nbformat_minor": 0
}
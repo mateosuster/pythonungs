{
  "cells": [
    {
      "cell_type": "markdown",
      "metadata": {
        "id": "view-in-github",
        "colab_type": "text"
      },
      "source": [
        "<a href=\"https://colab.research.google.com/github/mateosuster/pythonungs/blob/master/codigos/pandas/Pr%C3%A1ctica_Visualizacion_de_datos.ipynb\" target=\"_parent\"><img src=\"https://colab.research.google.com/assets/colab-badge.svg\" alt=\"Open In Colab\"/></a>"
      ]
    },
    {
      "cell_type": "markdown",
      "metadata": {
        "id": "JaFzpFhlXKLD"
      },
      "source": [
        "\n",
        "\n",
        "## <center>Introducción a la Ciencia de Datos</center>\n",
        "### <center> Práctica introducción a Pandas y visualizaciones</center>\n"
      ]
    },
    {
      "cell_type": "markdown",
      "metadata": {
        "id": "fdSFTj60XKLF"
      },
      "source": [
        "<center>Ejemplos de visualizaciones utilizando el dataset Titanic provisto por Kaggle</center>"
      ]
    },
    {
      "cell_type": "markdown",
      "metadata": {
        "id": "q4ap5_D0XKLG"
      },
      "source": [
        "Links de interés\n",
        " \n",
        "https://pandas.pydata.org\n",
        " \n",
        "https://matplotlib.org\n",
        " \n",
        "https://seaborn.pydata.org\n"
      ]
    },
    {
      "cell_type": "markdown",
      "metadata": {
        "id": "4RRKVrMuXKLG"
      },
      "source": [
        "Importamos todas las librerías que vamos a utilizar"
      ]
    },
    {
      "cell_type": "code",
      "execution_count": null,
      "metadata": {
        "_cell_guid": "b1076dfc-b9ad-4769-8c92-a6c4dae69d19",
        "_uuid": "8f2839f25d086af736a60e9eeb907d3b93b6e0e5",
        "execution": {
          "iopub.execute_input": "2022-03-28T22:10:19.650638Z",
          "iopub.status.busy": "2022-03-28T22:10:19.650138Z",
          "iopub.status.idle": "2022-03-28T22:10:19.656277Z",
          "shell.execute_reply": "2022-03-28T22:10:19.654856Z",
          "shell.execute_reply.started": "2022-03-28T22:10:19.650595Z"
        },
        "id": "r6kCWtymXKLH"
      },
      "outputs": [],
      "source": [
        "import numpy as np \n",
        "import pandas as pd\n",
        "\n",
        "import warnings\n",
        "warnings.simplefilter(action='ignore', category=FutureWarning)"
      ]
    },
    {
      "cell_type": "markdown",
      "metadata": {
        "id": "6YKNDZvsXKLI"
      },
      "source": [
        "### <center> Repaso b&aacute;sico de Pandas </center>"
      ]
    },
    {
      "cell_type": "markdown",
      "metadata": {
        "id": "Wt5eeMp4JESv"
      },
      "source": [
        "Cargamos el archivo de datos en un dataframe de Pandas"
      ]
    },
    {
      "cell_type": "code",
      "execution_count": null,
      "metadata": {
        "execution": {
          "iopub.execute_input": "2022-03-28T22:11:29.448158Z",
          "iopub.status.busy": "2022-03-28T22:11:29.447887Z",
          "iopub.status.idle": "2022-03-28T22:11:29.463807Z",
          "shell.execute_reply": "2022-03-28T22:11:29.462377Z",
          "shell.execute_reply.started": "2022-03-28T22:11:29.448130Z"
        },
        "id": "_pODwJ7BXKLJ"
      },
      "outputs": [],
      "source": []
    },
    {
      "cell_type": "code",
      "execution_count": null,
      "metadata": {
        "id": "0WjkXleTdvTM"
      },
      "outputs": [],
      "source": [
        "url='https://docs.google.com/spreadsheets/d/1bAk9A7zHIlQ6vQSRjOn_GFCxa9Cb3Tsj/edit?usp=sharing&ouid=101465130384122033115&rtpof=true&sd=true'\n",
        "url='https://drive.google.com/uc?id=' + url.split('/')[-2]\n",
        "ds_titanic=pd.read_excel(url)"
      ]
    },
    {
      "cell_type": "markdown",
      "metadata": {
        "id": "fnc49WgbXKLJ"
      },
      "source": [
        "Realizamos una copia del dataset sobre el cual vamos a trabajar para no alterar los datos originales"
      ]
    },
    {
      "cell_type": "code",
      "execution_count": null,
      "metadata": {
        "execution": {
          "iopub.execute_input": "2022-03-28T22:15:30.054114Z",
          "iopub.status.busy": "2022-03-28T22:15:30.053696Z",
          "iopub.status.idle": "2022-03-28T22:15:30.057331Z",
          "shell.execute_reply": "2022-03-28T22:15:30.056913Z",
          "shell.execute_reply.started": "2022-03-28T22:15:30.054087Z"
        },
        "id": "bwtgi667XKLK"
      },
      "outputs": [],
      "source": [
        "ds_trabajo=ds_titanic.copy()"
      ]
    },
    {
      "cell_type": "markdown",
      "metadata": {
        "id": "TplZ0F0pXKLM"
      },
      "source": [
        "Mostramos las primeras y últimas filas del dataset"
      ]
    },
    {
      "cell_type": "code",
      "execution_count": null,
      "metadata": {
        "colab": {
          "base_uri": "https://localhost:8080/",
          "height": 112
        },
        "execution": {
          "iopub.execute_input": "2022-03-28T22:15:56.371498Z",
          "iopub.status.busy": "2022-03-28T22:15:56.371122Z",
          "iopub.status.idle": "2022-03-28T22:15:56.385879Z",
          "shell.execute_reply": "2022-03-28T22:15:56.384265Z",
          "shell.execute_reply.started": "2022-03-28T22:15:56.371450Z"
        },
        "id": "PqCdJmVjXKLM",
        "outputId": "b33ab87e-4806-4d4c-c1c1-21c7dc91b6b6"
      },
      "outputs": [
        {
          "data": {
            "text/html": [
              "\n",
              "  <div id=\"df-496c960f-f743-4430-9acc-a9224c556f87\">\n",
              "    <div class=\"colab-df-container\">\n",
              "      <div>\n",
              "<style scoped>\n",
              "    .dataframe tbody tr th:only-of-type {\n",
              "        vertical-align: middle;\n",
              "    }\n",
              "\n",
              "    .dataframe tbody tr th {\n",
              "        vertical-align: top;\n",
              "    }\n",
              "\n",
              "    .dataframe thead th {\n",
              "        text-align: right;\n",
              "    }\n",
              "</style>\n",
              "<table border=\"1\" class=\"dataframe\">\n",
              "  <thead>\n",
              "    <tr style=\"text-align: right;\">\n",
              "      <th></th>\n",
              "      <th>pclass</th>\n",
              "      <th>survived</th>\n",
              "      <th>name</th>\n",
              "      <th>sex</th>\n",
              "      <th>age</th>\n",
              "      <th>sibsp</th>\n",
              "      <th>parch</th>\n",
              "      <th>ticket</th>\n",
              "      <th>fare</th>\n",
              "      <th>cabin</th>\n",
              "      <th>embarked</th>\n",
              "      <th>boat</th>\n",
              "      <th>body</th>\n",
              "      <th>home.dest</th>\n",
              "    </tr>\n",
              "  </thead>\n",
              "  <tbody>\n",
              "    <tr>\n",
              "      <th>0</th>\n",
              "      <td>1</td>\n",
              "      <td>1</td>\n",
              "      <td>Allen, Miss. Elisabeth Walton</td>\n",
              "      <td>female</td>\n",
              "      <td>29.0000</td>\n",
              "      <td>0</td>\n",
              "      <td>0</td>\n",
              "      <td>24160</td>\n",
              "      <td>211.3375</td>\n",
              "      <td>B5</td>\n",
              "      <td>S</td>\n",
              "      <td>2</td>\n",
              "      <td>NaN</td>\n",
              "      <td>St Louis, MO</td>\n",
              "    </tr>\n",
              "    <tr>\n",
              "      <th>1</th>\n",
              "      <td>1</td>\n",
              "      <td>1</td>\n",
              "      <td>Allison, Master. Hudson Trevor</td>\n",
              "      <td>male</td>\n",
              "      <td>0.9167</td>\n",
              "      <td>1</td>\n",
              "      <td>2</td>\n",
              "      <td>113781</td>\n",
              "      <td>151.5500</td>\n",
              "      <td>C22 C26</td>\n",
              "      <td>S</td>\n",
              "      <td>11</td>\n",
              "      <td>NaN</td>\n",
              "      <td>Montreal, PQ / Chesterville, ON</td>\n",
              "    </tr>\n",
              "  </tbody>\n",
              "</table>\n",
              "</div>\n",
              "      <button class=\"colab-df-convert\" onclick=\"convertToInteractive('df-496c960f-f743-4430-9acc-a9224c556f87')\"\n",
              "              title=\"Convert this dataframe to an interactive table.\"\n",
              "              style=\"display:none;\">\n",
              "        \n",
              "  <svg xmlns=\"http://www.w3.org/2000/svg\" height=\"24px\"viewBox=\"0 0 24 24\"\n",
              "       width=\"24px\">\n",
              "    <path d=\"M0 0h24v24H0V0z\" fill=\"none\"/>\n",
              "    <path d=\"M18.56 5.44l.94 2.06.94-2.06 2.06-.94-2.06-.94-.94-2.06-.94 2.06-2.06.94zm-11 1L8.5 8.5l.94-2.06 2.06-.94-2.06-.94L8.5 2.5l-.94 2.06-2.06.94zm10 10l.94 2.06.94-2.06 2.06-.94-2.06-.94-.94-2.06-.94 2.06-2.06.94z\"/><path d=\"M17.41 7.96l-1.37-1.37c-.4-.4-.92-.59-1.43-.59-.52 0-1.04.2-1.43.59L10.3 9.45l-7.72 7.72c-.78.78-.78 2.05 0 2.83L4 21.41c.39.39.9.59 1.41.59.51 0 1.02-.2 1.41-.59l7.78-7.78 2.81-2.81c.8-.78.8-2.07 0-2.86zM5.41 20L4 18.59l7.72-7.72 1.47 1.35L5.41 20z\"/>\n",
              "  </svg>\n",
              "      </button>\n",
              "      \n",
              "  <style>\n",
              "    .colab-df-container {\n",
              "      display:flex;\n",
              "      flex-wrap:wrap;\n",
              "      gap: 12px;\n",
              "    }\n",
              "\n",
              "    .colab-df-convert {\n",
              "      background-color: #E8F0FE;\n",
              "      border: none;\n",
              "      border-radius: 50%;\n",
              "      cursor: pointer;\n",
              "      display: none;\n",
              "      fill: #1967D2;\n",
              "      height: 32px;\n",
              "      padding: 0 0 0 0;\n",
              "      width: 32px;\n",
              "    }\n",
              "\n",
              "    .colab-df-convert:hover {\n",
              "      background-color: #E2EBFA;\n",
              "      box-shadow: 0px 1px 2px rgba(60, 64, 67, 0.3), 0px 1px 3px 1px rgba(60, 64, 67, 0.15);\n",
              "      fill: #174EA6;\n",
              "    }\n",
              "\n",
              "    [theme=dark] .colab-df-convert {\n",
              "      background-color: #3B4455;\n",
              "      fill: #D2E3FC;\n",
              "    }\n",
              "\n",
              "    [theme=dark] .colab-df-convert:hover {\n",
              "      background-color: #434B5C;\n",
              "      box-shadow: 0px 1px 3px 1px rgba(0, 0, 0, 0.15);\n",
              "      filter: drop-shadow(0px 1px 2px rgba(0, 0, 0, 0.3));\n",
              "      fill: #FFFFFF;\n",
              "    }\n",
              "  </style>\n",
              "\n",
              "      <script>\n",
              "        const buttonEl =\n",
              "          document.querySelector('#df-496c960f-f743-4430-9acc-a9224c556f87 button.colab-df-convert');\n",
              "        buttonEl.style.display =\n",
              "          google.colab.kernel.accessAllowed ? 'block' : 'none';\n",
              "\n",
              "        async function convertToInteractive(key) {\n",
              "          const element = document.querySelector('#df-496c960f-f743-4430-9acc-a9224c556f87');\n",
              "          const dataTable =\n",
              "            await google.colab.kernel.invokeFunction('convertToInteractive',\n",
              "                                                     [key], {});\n",
              "          if (!dataTable) return;\n",
              "\n",
              "          const docLinkHtml = 'Like what you see? Visit the ' +\n",
              "            '<a target=\"_blank\" href=https://colab.research.google.com/notebooks/data_table.ipynb>data table notebook</a>'\n",
              "            + ' to learn more about interactive tables.';\n",
              "          element.innerHTML = '';\n",
              "          dataTable['output_type'] = 'display_data';\n",
              "          await google.colab.output.renderOutput(dataTable, element);\n",
              "          const docLink = document.createElement('div');\n",
              "          docLink.innerHTML = docLinkHtml;\n",
              "          element.appendChild(docLink);\n",
              "        }\n",
              "      </script>\n",
              "    </div>\n",
              "  </div>\n",
              "  "
            ],
            "text/plain": [
              "   pclass  survived                            name     sex      age  sibsp  \\\n",
              "0       1         1   Allen, Miss. Elisabeth Walton  female  29.0000      0   \n",
              "1       1         1  Allison, Master. Hudson Trevor    male   0.9167      1   \n",
              "\n",
              "   parch  ticket      fare    cabin embarked boat  body  \\\n",
              "0      0   24160  211.3375       B5        S    2   NaN   \n",
              "1      2  113781  151.5500  C22 C26        S   11   NaN   \n",
              "\n",
              "                         home.dest  \n",
              "0                     St Louis, MO  \n",
              "1  Montreal, PQ / Chesterville, ON  "
            ]
          },
          "execution_count": 16,
          "metadata": {},
          "output_type": "execute_result"
        }
      ],
      "source": [
        "ds_trabajo.head(2)"
      ]
    },
    {
      "cell_type": "code",
      "execution_count": null,
      "metadata": {
        "colab": {
          "base_uri": "https://localhost:8080/",
          "height": 112
        },
        "execution": {
          "iopub.execute_input": "2022-03-28T22:16:07.294668Z",
          "iopub.status.busy": "2022-03-28T22:16:07.294434Z",
          "iopub.status.idle": "2022-03-28T22:16:07.309261Z",
          "shell.execute_reply": "2022-03-28T22:16:07.308218Z",
          "shell.execute_reply.started": "2022-03-28T22:16:07.294642Z"
        },
        "id": "mjgropMBXKLM",
        "outputId": "745e7a19-940d-44ff-a944-ea1933be15c0"
      },
      "outputs": [
        {
          "data": {
            "text/html": [
              "\n",
              "  <div id=\"df-9d1fdd85-2315-4989-8f52-62e6af55de06\">\n",
              "    <div class=\"colab-df-container\">\n",
              "      <div>\n",
              "<style scoped>\n",
              "    .dataframe tbody tr th:only-of-type {\n",
              "        vertical-align: middle;\n",
              "    }\n",
              "\n",
              "    .dataframe tbody tr th {\n",
              "        vertical-align: top;\n",
              "    }\n",
              "\n",
              "    .dataframe thead th {\n",
              "        text-align: right;\n",
              "    }\n",
              "</style>\n",
              "<table border=\"1\" class=\"dataframe\">\n",
              "  <thead>\n",
              "    <tr style=\"text-align: right;\">\n",
              "      <th></th>\n",
              "      <th>pclass</th>\n",
              "      <th>survived</th>\n",
              "      <th>name</th>\n",
              "      <th>sex</th>\n",
              "      <th>age</th>\n",
              "      <th>sibsp</th>\n",
              "      <th>parch</th>\n",
              "      <th>ticket</th>\n",
              "      <th>fare</th>\n",
              "      <th>cabin</th>\n",
              "      <th>embarked</th>\n",
              "      <th>boat</th>\n",
              "      <th>body</th>\n",
              "      <th>home.dest</th>\n",
              "    </tr>\n",
              "  </thead>\n",
              "  <tbody>\n",
              "    <tr>\n",
              "      <th>1307</th>\n",
              "      <td>3</td>\n",
              "      <td>0</td>\n",
              "      <td>Zakarian, Mr. Ortin</td>\n",
              "      <td>male</td>\n",
              "      <td>27.0</td>\n",
              "      <td>0</td>\n",
              "      <td>0</td>\n",
              "      <td>2670</td>\n",
              "      <td>7.225</td>\n",
              "      <td>NaN</td>\n",
              "      <td>C</td>\n",
              "      <td>NaN</td>\n",
              "      <td>NaN</td>\n",
              "      <td>NaN</td>\n",
              "    </tr>\n",
              "    <tr>\n",
              "      <th>1308</th>\n",
              "      <td>3</td>\n",
              "      <td>0</td>\n",
              "      <td>Zimmerman, Mr. Leo</td>\n",
              "      <td>male</td>\n",
              "      <td>29.0</td>\n",
              "      <td>0</td>\n",
              "      <td>0</td>\n",
              "      <td>315082</td>\n",
              "      <td>7.875</td>\n",
              "      <td>NaN</td>\n",
              "      <td>S</td>\n",
              "      <td>NaN</td>\n",
              "      <td>NaN</td>\n",
              "      <td>NaN</td>\n",
              "    </tr>\n",
              "  </tbody>\n",
              "</table>\n",
              "</div>\n",
              "      <button class=\"colab-df-convert\" onclick=\"convertToInteractive('df-9d1fdd85-2315-4989-8f52-62e6af55de06')\"\n",
              "              title=\"Convert this dataframe to an interactive table.\"\n",
              "              style=\"display:none;\">\n",
              "        \n",
              "  <svg xmlns=\"http://www.w3.org/2000/svg\" height=\"24px\"viewBox=\"0 0 24 24\"\n",
              "       width=\"24px\">\n",
              "    <path d=\"M0 0h24v24H0V0z\" fill=\"none\"/>\n",
              "    <path d=\"M18.56 5.44l.94 2.06.94-2.06 2.06-.94-2.06-.94-.94-2.06-.94 2.06-2.06.94zm-11 1L8.5 8.5l.94-2.06 2.06-.94-2.06-.94L8.5 2.5l-.94 2.06-2.06.94zm10 10l.94 2.06.94-2.06 2.06-.94-2.06-.94-.94-2.06-.94 2.06-2.06.94z\"/><path d=\"M17.41 7.96l-1.37-1.37c-.4-.4-.92-.59-1.43-.59-.52 0-1.04.2-1.43.59L10.3 9.45l-7.72 7.72c-.78.78-.78 2.05 0 2.83L4 21.41c.39.39.9.59 1.41.59.51 0 1.02-.2 1.41-.59l7.78-7.78 2.81-2.81c.8-.78.8-2.07 0-2.86zM5.41 20L4 18.59l7.72-7.72 1.47 1.35L5.41 20z\"/>\n",
              "  </svg>\n",
              "      </button>\n",
              "      \n",
              "  <style>\n",
              "    .colab-df-container {\n",
              "      display:flex;\n",
              "      flex-wrap:wrap;\n",
              "      gap: 12px;\n",
              "    }\n",
              "\n",
              "    .colab-df-convert {\n",
              "      background-color: #E8F0FE;\n",
              "      border: none;\n",
              "      border-radius: 50%;\n",
              "      cursor: pointer;\n",
              "      display: none;\n",
              "      fill: #1967D2;\n",
              "      height: 32px;\n",
              "      padding: 0 0 0 0;\n",
              "      width: 32px;\n",
              "    }\n",
              "\n",
              "    .colab-df-convert:hover {\n",
              "      background-color: #E2EBFA;\n",
              "      box-shadow: 0px 1px 2px rgba(60, 64, 67, 0.3), 0px 1px 3px 1px rgba(60, 64, 67, 0.15);\n",
              "      fill: #174EA6;\n",
              "    }\n",
              "\n",
              "    [theme=dark] .colab-df-convert {\n",
              "      background-color: #3B4455;\n",
              "      fill: #D2E3FC;\n",
              "    }\n",
              "\n",
              "    [theme=dark] .colab-df-convert:hover {\n",
              "      background-color: #434B5C;\n",
              "      box-shadow: 0px 1px 3px 1px rgba(0, 0, 0, 0.15);\n",
              "      filter: drop-shadow(0px 1px 2px rgba(0, 0, 0, 0.3));\n",
              "      fill: #FFFFFF;\n",
              "    }\n",
              "  </style>\n",
              "\n",
              "      <script>\n",
              "        const buttonEl =\n",
              "          document.querySelector('#df-9d1fdd85-2315-4989-8f52-62e6af55de06 button.colab-df-convert');\n",
              "        buttonEl.style.display =\n",
              "          google.colab.kernel.accessAllowed ? 'block' : 'none';\n",
              "\n",
              "        async function convertToInteractive(key) {\n",
              "          const element = document.querySelector('#df-9d1fdd85-2315-4989-8f52-62e6af55de06');\n",
              "          const dataTable =\n",
              "            await google.colab.kernel.invokeFunction('convertToInteractive',\n",
              "                                                     [key], {});\n",
              "          if (!dataTable) return;\n",
              "\n",
              "          const docLinkHtml = 'Like what you see? Visit the ' +\n",
              "            '<a target=\"_blank\" href=https://colab.research.google.com/notebooks/data_table.ipynb>data table notebook</a>'\n",
              "            + ' to learn more about interactive tables.';\n",
              "          element.innerHTML = '';\n",
              "          dataTable['output_type'] = 'display_data';\n",
              "          await google.colab.output.renderOutput(dataTable, element);\n",
              "          const docLink = document.createElement('div');\n",
              "          docLink.innerHTML = docLinkHtml;\n",
              "          element.appendChild(docLink);\n",
              "        }\n",
              "      </script>\n",
              "    </div>\n",
              "  </div>\n",
              "  "
            ],
            "text/plain": [
              "      pclass  survived                 name   sex   age  sibsp  parch  ticket  \\\n",
              "1307       3         0  Zakarian, Mr. Ortin  male  27.0      0      0    2670   \n",
              "1308       3         0   Zimmerman, Mr. Leo  male  29.0      0      0  315082   \n",
              "\n",
              "       fare cabin embarked boat  body home.dest  \n",
              "1307  7.225   NaN        C  NaN   NaN       NaN  \n",
              "1308  7.875   NaN        S  NaN   NaN       NaN  "
            ]
          },
          "execution_count": 17,
          "metadata": {},
          "output_type": "execute_result"
        }
      ],
      "source": [
        "ds_trabajo.tail(2)"
      ]
    },
    {
      "cell_type": "markdown",
      "metadata": {
        "id": "b2FedeDuXKLK"
      },
      "source": [
        "Listar la cantidad de filas y columnas que tiene el dataset"
      ]
    },
    {
      "cell_type": "code",
      "execution_count": null,
      "metadata": {
        "colab": {
          "base_uri": "https://localhost:8080/"
        },
        "execution": {
          "iopub.execute_input": "2022-03-28T22:15:32.673031Z",
          "iopub.status.busy": "2022-03-28T22:15:32.672608Z",
          "iopub.status.idle": "2022-03-28T22:15:32.678268Z",
          "shell.execute_reply": "2022-03-28T22:15:32.677614Z",
          "shell.execute_reply.started": "2022-03-28T22:15:32.672996Z"
        },
        "id": "A0NdnkvbXKLK",
        "outputId": "d4d76fb6-069e-499d-b5d6-cf2dab2205ee"
      },
      "outputs": [
        {
          "data": {
            "text/plain": [
              "(1309, 14)"
            ]
          },
          "execution_count": 18,
          "metadata": {},
          "output_type": "execute_result"
        }
      ],
      "source": [
        "ds_trabajo.shape"
      ]
    },
    {
      "cell_type": "markdown",
      "metadata": {
        "id": "lfatRkScXKLK"
      },
      "source": [
        "Este dataset contiene 1309 filas y 14 columnas"
      ]
    },
    {
      "cell_type": "markdown",
      "metadata": {
        "id": "ff7bVs4PXKLL"
      },
      "source": [
        "Listar los nombres de las columnas del dataset"
      ]
    },
    {
      "cell_type": "code",
      "execution_count": null,
      "metadata": {
        "colab": {
          "base_uri": "https://localhost:8080/"
        },
        "execution": {
          "iopub.execute_input": "2022-03-28T22:15:35.137331Z",
          "iopub.status.busy": "2022-03-28T22:15:35.136896Z",
          "iopub.status.idle": "2022-03-28T22:15:35.143714Z",
          "shell.execute_reply": "2022-03-28T22:15:35.142974Z",
          "shell.execute_reply.started": "2022-03-28T22:15:35.137294Z"
        },
        "id": "WYjPuOULXKLL",
        "outputId": "5fa6af52-7f4c-4c3c-bc9f-720ae6879c7d"
      },
      "outputs": [
        {
          "data": {
            "text/plain": [
              "['pclass',\n",
              " 'survived',\n",
              " 'name',\n",
              " 'sex',\n",
              " 'age',\n",
              " 'sibsp',\n",
              " 'parch',\n",
              " 'ticket',\n",
              " 'fare',\n",
              " 'cabin',\n",
              " 'embarked',\n",
              " 'boat',\n",
              " 'body',\n",
              " 'home.dest']"
            ]
          },
          "execution_count": 19,
          "metadata": {},
          "output_type": "execute_result"
        }
      ],
      "source": [
        "ds_trabajo.columns.tolist()"
      ]
    },
    {
      "cell_type": "markdown",
      "metadata": {
        "id": "IFwAxgcUXKLL"
      },
      "source": [
        "<b>Descripción de los campos</b><br>\n",
        "PassengerId: Identificador del pasajero dentro de la tabla<br>\n",
        "Survived: Indica si el pasajero sobrevivió<br>\n",
        "Pclass: clase de pasajero primera(1), segunda (2) o tercera (3) <br>\n",
        "Name: Nombre del pasajero <br>\n",
        "Sex: Sexo del pasajero<br>\n",
        "Age: Edad<br>\n",
        "SibSp: Cantidad de hermanas/os o esposas/os a bordo<br>\n",
        "Parch: Cantidad de padres o hijos a bordo<br>\n",
        "Ticket: Número de ticket<br>\n",
        "Fate: Tarifa <br>\n",
        "Cabin: Cabina en la cual se encuentra alojado el pasajero<br>\n",
        "Embarked: Puerta de embarque<br>"
      ]
    },
    {
      "cell_type": "markdown",
      "metadata": {
        "id": "IigPdM3EXKLL"
      },
      "source": [
        "Mostrar el tipo de cada columna del dataframe"
      ]
    },
    {
      "cell_type": "code",
      "execution_count": null,
      "metadata": {
        "colab": {
          "base_uri": "https://localhost:8080/"
        },
        "execution": {
          "iopub.execute_input": "2022-03-28T22:15:38.390933Z",
          "iopub.status.busy": "2022-03-28T22:15:38.390517Z",
          "iopub.status.idle": "2022-03-28T22:15:38.403248Z",
          "shell.execute_reply": "2022-03-28T22:15:38.402178Z",
          "shell.execute_reply.started": "2022-03-28T22:15:38.390904Z"
        },
        "id": "Vyz2f8HqXKLM",
        "outputId": "c5574aef-514e-4404-87ff-ff358ce7cf94"
      },
      "outputs": [
        {
          "name": "stdout",
          "output_type": "stream",
          "text": [
            "<class 'pandas.core.frame.DataFrame'>\n",
            "RangeIndex: 1309 entries, 0 to 1308\n",
            "Data columns (total 14 columns):\n",
            " #   Column     Non-Null Count  Dtype  \n",
            "---  ------     --------------  -----  \n",
            " 0   pclass     1309 non-null   int64  \n",
            " 1   survived   1309 non-null   int64  \n",
            " 2   name       1309 non-null   object \n",
            " 3   sex        1309 non-null   object \n",
            " 4   age        1046 non-null   float64\n",
            " 5   sibsp      1309 non-null   int64  \n",
            " 6   parch      1309 non-null   int64  \n",
            " 7   ticket     1309 non-null   object \n",
            " 8   fare       1308 non-null   float64\n",
            " 9   cabin      295 non-null    object \n",
            " 10  embarked   1307 non-null   object \n",
            " 11  boat       486 non-null    object \n",
            " 12  body       121 non-null    float64\n",
            " 13  home.dest  745 non-null    object \n",
            "dtypes: float64(3), int64(4), object(7)\n",
            "memory usage: 143.3+ KB\n"
          ]
        }
      ],
      "source": [
        "ds_trabajo.info()"
      ]
    },
    {
      "cell_type": "code",
      "execution_count": null,
      "metadata": {
        "colab": {
          "base_uri": "https://localhost:8080/"
        },
        "execution": {
          "iopub.status.busy": "2022-03-28T22:15:20.703301Z",
          "iopub.status.idle": "2022-03-28T22:15:20.703807Z",
          "shell.execute_reply": "2022-03-28T22:15:20.703588Z",
          "shell.execute_reply.started": "2022-03-28T22:15:20.703531Z"
        },
        "id": "3MlQrdA3XKLM",
        "outputId": "1234687c-e8bf-468a-b07c-58909415d07b"
      },
      "outputs": [
        {
          "data": {
            "text/plain": [
              "pclass         int64\n",
              "survived       int64\n",
              "name          object\n",
              "sex           object\n",
              "age          float64\n",
              "sibsp          int64\n",
              "parch          int64\n",
              "ticket        object\n",
              "fare         float64\n",
              "cabin         object\n",
              "embarked      object\n",
              "boat          object\n",
              "body         float64\n",
              "home.dest     object\n",
              "dtype: object"
            ]
          },
          "execution_count": 21,
          "metadata": {},
          "output_type": "execute_result"
        }
      ],
      "source": [
        "ds_trabajo.dtypes"
      ]
    },
    {
      "cell_type": "markdown",
      "metadata": {
        "id": "Hl4bHuuCXKLN"
      },
      "source": [
        "Cambiar nombre a una columna"
      ]
    },
    {
      "cell_type": "code",
      "execution_count": null,
      "metadata": {
        "colab": {
          "base_uri": "https://localhost:8080/",
          "height": 112
        },
        "execution": {
          "iopub.execute_input": "2022-03-28T22:17:49.627477Z",
          "iopub.status.busy": "2022-03-28T22:17:49.627220Z",
          "iopub.status.idle": "2022-03-28T22:17:49.642482Z",
          "shell.execute_reply": "2022-03-28T22:17:49.641667Z",
          "shell.execute_reply.started": "2022-03-28T22:17:49.627454Z"
        },
        "id": "NTfWarvbXKLN",
        "outputId": "559d88be-58f7-4ea4-9b4c-51a631b74289"
      },
      "outputs": [
        {
          "data": {
            "text/html": [
              "\n",
              "  <div id=\"df-08bbb84a-30dd-4a23-a89f-eff90a9f8049\">\n",
              "    <div class=\"colab-df-container\">\n",
              "      <div>\n",
              "<style scoped>\n",
              "    .dataframe tbody tr th:only-of-type {\n",
              "        vertical-align: middle;\n",
              "    }\n",
              "\n",
              "    .dataframe tbody tr th {\n",
              "        vertical-align: top;\n",
              "    }\n",
              "\n",
              "    .dataframe thead th {\n",
              "        text-align: right;\n",
              "    }\n",
              "</style>\n",
              "<table border=\"1\" class=\"dataframe\">\n",
              "  <thead>\n",
              "    <tr style=\"text-align: right;\">\n",
              "      <th></th>\n",
              "      <th>PassengerClass</th>\n",
              "      <th>survived</th>\n",
              "      <th>name</th>\n",
              "      <th>sex</th>\n",
              "      <th>age</th>\n",
              "      <th>sibsp</th>\n",
              "      <th>parch</th>\n",
              "      <th>ticket</th>\n",
              "      <th>fare</th>\n",
              "      <th>cabin</th>\n",
              "      <th>embarked</th>\n",
              "      <th>boat</th>\n",
              "      <th>body</th>\n",
              "      <th>home.dest</th>\n",
              "    </tr>\n",
              "  </thead>\n",
              "  <tbody>\n",
              "    <tr>\n",
              "      <th>0</th>\n",
              "      <td>1</td>\n",
              "      <td>1</td>\n",
              "      <td>Allen, Miss. Elisabeth Walton</td>\n",
              "      <td>female</td>\n",
              "      <td>29.0000</td>\n",
              "      <td>0</td>\n",
              "      <td>0</td>\n",
              "      <td>24160</td>\n",
              "      <td>211.3375</td>\n",
              "      <td>B5</td>\n",
              "      <td>S</td>\n",
              "      <td>2</td>\n",
              "      <td>NaN</td>\n",
              "      <td>St Louis, MO</td>\n",
              "    </tr>\n",
              "    <tr>\n",
              "      <th>1</th>\n",
              "      <td>1</td>\n",
              "      <td>1</td>\n",
              "      <td>Allison, Master. Hudson Trevor</td>\n",
              "      <td>male</td>\n",
              "      <td>0.9167</td>\n",
              "      <td>1</td>\n",
              "      <td>2</td>\n",
              "      <td>113781</td>\n",
              "      <td>151.5500</td>\n",
              "      <td>C22 C26</td>\n",
              "      <td>S</td>\n",
              "      <td>11</td>\n",
              "      <td>NaN</td>\n",
              "      <td>Montreal, PQ / Chesterville, ON</td>\n",
              "    </tr>\n",
              "  </tbody>\n",
              "</table>\n",
              "</div>\n",
              "      <button class=\"colab-df-convert\" onclick=\"convertToInteractive('df-08bbb84a-30dd-4a23-a89f-eff90a9f8049')\"\n",
              "              title=\"Convert this dataframe to an interactive table.\"\n",
              "              style=\"display:none;\">\n",
              "        \n",
              "  <svg xmlns=\"http://www.w3.org/2000/svg\" height=\"24px\"viewBox=\"0 0 24 24\"\n",
              "       width=\"24px\">\n",
              "    <path d=\"M0 0h24v24H0V0z\" fill=\"none\"/>\n",
              "    <path d=\"M18.56 5.44l.94 2.06.94-2.06 2.06-.94-2.06-.94-.94-2.06-.94 2.06-2.06.94zm-11 1L8.5 8.5l.94-2.06 2.06-.94-2.06-.94L8.5 2.5l-.94 2.06-2.06.94zm10 10l.94 2.06.94-2.06 2.06-.94-2.06-.94-.94-2.06-.94 2.06-2.06.94z\"/><path d=\"M17.41 7.96l-1.37-1.37c-.4-.4-.92-.59-1.43-.59-.52 0-1.04.2-1.43.59L10.3 9.45l-7.72 7.72c-.78.78-.78 2.05 0 2.83L4 21.41c.39.39.9.59 1.41.59.51 0 1.02-.2 1.41-.59l7.78-7.78 2.81-2.81c.8-.78.8-2.07 0-2.86zM5.41 20L4 18.59l7.72-7.72 1.47 1.35L5.41 20z\"/>\n",
              "  </svg>\n",
              "      </button>\n",
              "      \n",
              "  <style>\n",
              "    .colab-df-container {\n",
              "      display:flex;\n",
              "      flex-wrap:wrap;\n",
              "      gap: 12px;\n",
              "    }\n",
              "\n",
              "    .colab-df-convert {\n",
              "      background-color: #E8F0FE;\n",
              "      border: none;\n",
              "      border-radius: 50%;\n",
              "      cursor: pointer;\n",
              "      display: none;\n",
              "      fill: #1967D2;\n",
              "      height: 32px;\n",
              "      padding: 0 0 0 0;\n",
              "      width: 32px;\n",
              "    }\n",
              "\n",
              "    .colab-df-convert:hover {\n",
              "      background-color: #E2EBFA;\n",
              "      box-shadow: 0px 1px 2px rgba(60, 64, 67, 0.3), 0px 1px 3px 1px rgba(60, 64, 67, 0.15);\n",
              "      fill: #174EA6;\n",
              "    }\n",
              "\n",
              "    [theme=dark] .colab-df-convert {\n",
              "      background-color: #3B4455;\n",
              "      fill: #D2E3FC;\n",
              "    }\n",
              "\n",
              "    [theme=dark] .colab-df-convert:hover {\n",
              "      background-color: #434B5C;\n",
              "      box-shadow: 0px 1px 3px 1px rgba(0, 0, 0, 0.15);\n",
              "      filter: drop-shadow(0px 1px 2px rgba(0, 0, 0, 0.3));\n",
              "      fill: #FFFFFF;\n",
              "    }\n",
              "  </style>\n",
              "\n",
              "      <script>\n",
              "        const buttonEl =\n",
              "          document.querySelector('#df-08bbb84a-30dd-4a23-a89f-eff90a9f8049 button.colab-df-convert');\n",
              "        buttonEl.style.display =\n",
              "          google.colab.kernel.accessAllowed ? 'block' : 'none';\n",
              "\n",
              "        async function convertToInteractive(key) {\n",
              "          const element = document.querySelector('#df-08bbb84a-30dd-4a23-a89f-eff90a9f8049');\n",
              "          const dataTable =\n",
              "            await google.colab.kernel.invokeFunction('convertToInteractive',\n",
              "                                                     [key], {});\n",
              "          if (!dataTable) return;\n",
              "\n",
              "          const docLinkHtml = 'Like what you see? Visit the ' +\n",
              "            '<a target=\"_blank\" href=https://colab.research.google.com/notebooks/data_table.ipynb>data table notebook</a>'\n",
              "            + ' to learn more about interactive tables.';\n",
              "          element.innerHTML = '';\n",
              "          dataTable['output_type'] = 'display_data';\n",
              "          await google.colab.output.renderOutput(dataTable, element);\n",
              "          const docLink = document.createElement('div');\n",
              "          docLink.innerHTML = docLinkHtml;\n",
              "          element.appendChild(docLink);\n",
              "        }\n",
              "      </script>\n",
              "    </div>\n",
              "  </div>\n",
              "  "
            ],
            "text/plain": [
              "   PassengerClass  survived                            name     sex      age  \\\n",
              "0               1         1   Allen, Miss. Elisabeth Walton  female  29.0000   \n",
              "1               1         1  Allison, Master. Hudson Trevor    male   0.9167   \n",
              "\n",
              "   sibsp  parch  ticket      fare    cabin embarked boat  body  \\\n",
              "0      0      0   24160  211.3375       B5        S    2   NaN   \n",
              "1      1      2  113781  151.5500  C22 C26        S   11   NaN   \n",
              "\n",
              "                         home.dest  \n",
              "0                     St Louis, MO  \n",
              "1  Montreal, PQ / Chesterville, ON  "
            ]
          },
          "execution_count": 22,
          "metadata": {},
          "output_type": "execute_result"
        }
      ],
      "source": [
        "columnas={\"pclass\":\"PassengerClass\"}\n",
        "ds_trabajo.rename(columns = columnas, inplace = True)\n",
        "ds_trabajo.head(2)"
      ]
    },
    {
      "cell_type": "markdown",
      "metadata": {
        "id": "Xm8m-C2IXKLN"
      },
      "source": [
        "Listar la cantidad de datos nulos por columna"
      ]
    },
    {
      "cell_type": "code",
      "execution_count": null,
      "metadata": {
        "colab": {
          "base_uri": "https://localhost:8080/",
          "height": 423
        },
        "execution": {
          "iopub.execute_input": "2022-03-28T22:18:57.090419Z",
          "iopub.status.busy": "2022-03-28T22:18:57.090154Z",
          "iopub.status.idle": "2022-03-28T22:18:57.115678Z",
          "shell.execute_reply": "2022-03-28T22:18:57.114521Z",
          "shell.execute_reply.started": "2022-03-28T22:18:57.090392Z"
        },
        "id": "wQywIzjxXKLO",
        "outputId": "68eed49a-df8e-48e0-9ddc-15707cf6b8af"
      },
      "outputs": [
        {
          "data": {
            "text/html": [
              "\n",
              "  <div id=\"df-019a88b3-3e4a-4208-910f-4591dcc82572\">\n",
              "    <div class=\"colab-df-container\">\n",
              "      <div>\n",
              "<style scoped>\n",
              "    .dataframe tbody tr th:only-of-type {\n",
              "        vertical-align: middle;\n",
              "    }\n",
              "\n",
              "    .dataframe tbody tr th {\n",
              "        vertical-align: top;\n",
              "    }\n",
              "\n",
              "    .dataframe thead th {\n",
              "        text-align: right;\n",
              "    }\n",
              "</style>\n",
              "<table border=\"1\" class=\"dataframe\">\n",
              "  <thead>\n",
              "    <tr style=\"text-align: right;\">\n",
              "      <th></th>\n",
              "      <th>PassengerClass</th>\n",
              "      <th>survived</th>\n",
              "      <th>name</th>\n",
              "      <th>sex</th>\n",
              "      <th>age</th>\n",
              "      <th>sibsp</th>\n",
              "      <th>parch</th>\n",
              "      <th>ticket</th>\n",
              "      <th>fare</th>\n",
              "      <th>cabin</th>\n",
              "      <th>embarked</th>\n",
              "      <th>boat</th>\n",
              "      <th>body</th>\n",
              "      <th>home.dest</th>\n",
              "    </tr>\n",
              "  </thead>\n",
              "  <tbody>\n",
              "    <tr>\n",
              "      <th>0</th>\n",
              "      <td>False</td>\n",
              "      <td>False</td>\n",
              "      <td>False</td>\n",
              "      <td>False</td>\n",
              "      <td>False</td>\n",
              "      <td>False</td>\n",
              "      <td>False</td>\n",
              "      <td>False</td>\n",
              "      <td>False</td>\n",
              "      <td>False</td>\n",
              "      <td>False</td>\n",
              "      <td>False</td>\n",
              "      <td>True</td>\n",
              "      <td>False</td>\n",
              "    </tr>\n",
              "    <tr>\n",
              "      <th>1</th>\n",
              "      <td>False</td>\n",
              "      <td>False</td>\n",
              "      <td>False</td>\n",
              "      <td>False</td>\n",
              "      <td>False</td>\n",
              "      <td>False</td>\n",
              "      <td>False</td>\n",
              "      <td>False</td>\n",
              "      <td>False</td>\n",
              "      <td>False</td>\n",
              "      <td>False</td>\n",
              "      <td>False</td>\n",
              "      <td>True</td>\n",
              "      <td>False</td>\n",
              "    </tr>\n",
              "    <tr>\n",
              "      <th>2</th>\n",
              "      <td>False</td>\n",
              "      <td>False</td>\n",
              "      <td>False</td>\n",
              "      <td>False</td>\n",
              "      <td>False</td>\n",
              "      <td>False</td>\n",
              "      <td>False</td>\n",
              "      <td>False</td>\n",
              "      <td>False</td>\n",
              "      <td>False</td>\n",
              "      <td>False</td>\n",
              "      <td>True</td>\n",
              "      <td>True</td>\n",
              "      <td>False</td>\n",
              "    </tr>\n",
              "    <tr>\n",
              "      <th>3</th>\n",
              "      <td>False</td>\n",
              "      <td>False</td>\n",
              "      <td>False</td>\n",
              "      <td>False</td>\n",
              "      <td>False</td>\n",
              "      <td>False</td>\n",
              "      <td>False</td>\n",
              "      <td>False</td>\n",
              "      <td>False</td>\n",
              "      <td>False</td>\n",
              "      <td>False</td>\n",
              "      <td>True</td>\n",
              "      <td>False</td>\n",
              "      <td>False</td>\n",
              "    </tr>\n",
              "    <tr>\n",
              "      <th>4</th>\n",
              "      <td>False</td>\n",
              "      <td>False</td>\n",
              "      <td>False</td>\n",
              "      <td>False</td>\n",
              "      <td>False</td>\n",
              "      <td>False</td>\n",
              "      <td>False</td>\n",
              "      <td>False</td>\n",
              "      <td>False</td>\n",
              "      <td>False</td>\n",
              "      <td>False</td>\n",
              "      <td>True</td>\n",
              "      <td>True</td>\n",
              "      <td>False</td>\n",
              "    </tr>\n",
              "    <tr>\n",
              "      <th>...</th>\n",
              "      <td>...</td>\n",
              "      <td>...</td>\n",
              "      <td>...</td>\n",
              "      <td>...</td>\n",
              "      <td>...</td>\n",
              "      <td>...</td>\n",
              "      <td>...</td>\n",
              "      <td>...</td>\n",
              "      <td>...</td>\n",
              "      <td>...</td>\n",
              "      <td>...</td>\n",
              "      <td>...</td>\n",
              "      <td>...</td>\n",
              "      <td>...</td>\n",
              "    </tr>\n",
              "    <tr>\n",
              "      <th>1304</th>\n",
              "      <td>False</td>\n",
              "      <td>False</td>\n",
              "      <td>False</td>\n",
              "      <td>False</td>\n",
              "      <td>False</td>\n",
              "      <td>False</td>\n",
              "      <td>False</td>\n",
              "      <td>False</td>\n",
              "      <td>False</td>\n",
              "      <td>True</td>\n",
              "      <td>False</td>\n",
              "      <td>True</td>\n",
              "      <td>False</td>\n",
              "      <td>True</td>\n",
              "    </tr>\n",
              "    <tr>\n",
              "      <th>1305</th>\n",
              "      <td>False</td>\n",
              "      <td>False</td>\n",
              "      <td>False</td>\n",
              "      <td>False</td>\n",
              "      <td>True</td>\n",
              "      <td>False</td>\n",
              "      <td>False</td>\n",
              "      <td>False</td>\n",
              "      <td>False</td>\n",
              "      <td>True</td>\n",
              "      <td>False</td>\n",
              "      <td>True</td>\n",
              "      <td>True</td>\n",
              "      <td>True</td>\n",
              "    </tr>\n",
              "    <tr>\n",
              "      <th>1306</th>\n",
              "      <td>False</td>\n",
              "      <td>False</td>\n",
              "      <td>False</td>\n",
              "      <td>False</td>\n",
              "      <td>False</td>\n",
              "      <td>False</td>\n",
              "      <td>False</td>\n",
              "      <td>False</td>\n",
              "      <td>False</td>\n",
              "      <td>True</td>\n",
              "      <td>False</td>\n",
              "      <td>True</td>\n",
              "      <td>False</td>\n",
              "      <td>True</td>\n",
              "    </tr>\n",
              "    <tr>\n",
              "      <th>1307</th>\n",
              "      <td>False</td>\n",
              "      <td>False</td>\n",
              "      <td>False</td>\n",
              "      <td>False</td>\n",
              "      <td>False</td>\n",
              "      <td>False</td>\n",
              "      <td>False</td>\n",
              "      <td>False</td>\n",
              "      <td>False</td>\n",
              "      <td>True</td>\n",
              "      <td>False</td>\n",
              "      <td>True</td>\n",
              "      <td>True</td>\n",
              "      <td>True</td>\n",
              "    </tr>\n",
              "    <tr>\n",
              "      <th>1308</th>\n",
              "      <td>False</td>\n",
              "      <td>False</td>\n",
              "      <td>False</td>\n",
              "      <td>False</td>\n",
              "      <td>False</td>\n",
              "      <td>False</td>\n",
              "      <td>False</td>\n",
              "      <td>False</td>\n",
              "      <td>False</td>\n",
              "      <td>True</td>\n",
              "      <td>False</td>\n",
              "      <td>True</td>\n",
              "      <td>True</td>\n",
              "      <td>True</td>\n",
              "    </tr>\n",
              "  </tbody>\n",
              "</table>\n",
              "<p>1309 rows × 14 columns</p>\n",
              "</div>\n",
              "      <button class=\"colab-df-convert\" onclick=\"convertToInteractive('df-019a88b3-3e4a-4208-910f-4591dcc82572')\"\n",
              "              title=\"Convert this dataframe to an interactive table.\"\n",
              "              style=\"display:none;\">\n",
              "        \n",
              "  <svg xmlns=\"http://www.w3.org/2000/svg\" height=\"24px\"viewBox=\"0 0 24 24\"\n",
              "       width=\"24px\">\n",
              "    <path d=\"M0 0h24v24H0V0z\" fill=\"none\"/>\n",
              "    <path d=\"M18.56 5.44l.94 2.06.94-2.06 2.06-.94-2.06-.94-.94-2.06-.94 2.06-2.06.94zm-11 1L8.5 8.5l.94-2.06 2.06-.94-2.06-.94L8.5 2.5l-.94 2.06-2.06.94zm10 10l.94 2.06.94-2.06 2.06-.94-2.06-.94-.94-2.06-.94 2.06-2.06.94z\"/><path d=\"M17.41 7.96l-1.37-1.37c-.4-.4-.92-.59-1.43-.59-.52 0-1.04.2-1.43.59L10.3 9.45l-7.72 7.72c-.78.78-.78 2.05 0 2.83L4 21.41c.39.39.9.59 1.41.59.51 0 1.02-.2 1.41-.59l7.78-7.78 2.81-2.81c.8-.78.8-2.07 0-2.86zM5.41 20L4 18.59l7.72-7.72 1.47 1.35L5.41 20z\"/>\n",
              "  </svg>\n",
              "      </button>\n",
              "      \n",
              "  <style>\n",
              "    .colab-df-container {\n",
              "      display:flex;\n",
              "      flex-wrap:wrap;\n",
              "      gap: 12px;\n",
              "    }\n",
              "\n",
              "    .colab-df-convert {\n",
              "      background-color: #E8F0FE;\n",
              "      border: none;\n",
              "      border-radius: 50%;\n",
              "      cursor: pointer;\n",
              "      display: none;\n",
              "      fill: #1967D2;\n",
              "      height: 32px;\n",
              "      padding: 0 0 0 0;\n",
              "      width: 32px;\n",
              "    }\n",
              "\n",
              "    .colab-df-convert:hover {\n",
              "      background-color: #E2EBFA;\n",
              "      box-shadow: 0px 1px 2px rgba(60, 64, 67, 0.3), 0px 1px 3px 1px rgba(60, 64, 67, 0.15);\n",
              "      fill: #174EA6;\n",
              "    }\n",
              "\n",
              "    [theme=dark] .colab-df-convert {\n",
              "      background-color: #3B4455;\n",
              "      fill: #D2E3FC;\n",
              "    }\n",
              "\n",
              "    [theme=dark] .colab-df-convert:hover {\n",
              "      background-color: #434B5C;\n",
              "      box-shadow: 0px 1px 3px 1px rgba(0, 0, 0, 0.15);\n",
              "      filter: drop-shadow(0px 1px 2px rgba(0, 0, 0, 0.3));\n",
              "      fill: #FFFFFF;\n",
              "    }\n",
              "  </style>\n",
              "\n",
              "      <script>\n",
              "        const buttonEl =\n",
              "          document.querySelector('#df-019a88b3-3e4a-4208-910f-4591dcc82572 button.colab-df-convert');\n",
              "        buttonEl.style.display =\n",
              "          google.colab.kernel.accessAllowed ? 'block' : 'none';\n",
              "\n",
              "        async function convertToInteractive(key) {\n",
              "          const element = document.querySelector('#df-019a88b3-3e4a-4208-910f-4591dcc82572');\n",
              "          const dataTable =\n",
              "            await google.colab.kernel.invokeFunction('convertToInteractive',\n",
              "                                                     [key], {});\n",
              "          if (!dataTable) return;\n",
              "\n",
              "          const docLinkHtml = 'Like what you see? Visit the ' +\n",
              "            '<a target=\"_blank\" href=https://colab.research.google.com/notebooks/data_table.ipynb>data table notebook</a>'\n",
              "            + ' to learn more about interactive tables.';\n",
              "          element.innerHTML = '';\n",
              "          dataTable['output_type'] = 'display_data';\n",
              "          await google.colab.output.renderOutput(dataTable, element);\n",
              "          const docLink = document.createElement('div');\n",
              "          docLink.innerHTML = docLinkHtml;\n",
              "          element.appendChild(docLink);\n",
              "        }\n",
              "      </script>\n",
              "    </div>\n",
              "  </div>\n",
              "  "
            ],
            "text/plain": [
              "      PassengerClass  survived   name    sex    age  sibsp  parch  ticket  \\\n",
              "0              False     False  False  False  False  False  False   False   \n",
              "1              False     False  False  False  False  False  False   False   \n",
              "2              False     False  False  False  False  False  False   False   \n",
              "3              False     False  False  False  False  False  False   False   \n",
              "4              False     False  False  False  False  False  False   False   \n",
              "...              ...       ...    ...    ...    ...    ...    ...     ...   \n",
              "1304           False     False  False  False  False  False  False   False   \n",
              "1305           False     False  False  False   True  False  False   False   \n",
              "1306           False     False  False  False  False  False  False   False   \n",
              "1307           False     False  False  False  False  False  False   False   \n",
              "1308           False     False  False  False  False  False  False   False   \n",
              "\n",
              "       fare  cabin  embarked   boat   body  home.dest  \n",
              "0     False  False     False  False   True      False  \n",
              "1     False  False     False  False   True      False  \n",
              "2     False  False     False   True   True      False  \n",
              "3     False  False     False   True  False      False  \n",
              "4     False  False     False   True   True      False  \n",
              "...     ...    ...       ...    ...    ...        ...  \n",
              "1304  False   True     False   True  False       True  \n",
              "1305  False   True     False   True   True       True  \n",
              "1306  False   True     False   True  False       True  \n",
              "1307  False   True     False   True   True       True  \n",
              "1308  False   True     False   True   True       True  \n",
              "\n",
              "[1309 rows x 14 columns]"
            ]
          },
          "execution_count": 23,
          "metadata": {},
          "output_type": "execute_result"
        }
      ],
      "source": [
        "ds_trabajo.isna()"
      ]
    },
    {
      "cell_type": "code",
      "execution_count": null,
      "metadata": {
        "colab": {
          "base_uri": "https://localhost:8080/"
        },
        "execution": {
          "iopub.execute_input": "2022-03-28T22:19:30.073503Z",
          "iopub.status.busy": "2022-03-28T22:19:30.073237Z",
          "iopub.status.idle": "2022-03-28T22:19:30.081910Z",
          "shell.execute_reply": "2022-03-28T22:19:30.081116Z",
          "shell.execute_reply.started": "2022-03-28T22:19:30.073475Z"
        },
        "id": "yV7YaKwoXKLO",
        "outputId": "4df34389-c10c-4ab2-e91e-7a7f817e19d0"
      },
      "outputs": [
        {
          "name": "stdout",
          "output_type": "stream",
          "text": [
            "PassengerClass       0\n",
            "survived             0\n",
            "name                 0\n",
            "sex                  0\n",
            "age                263\n",
            "sibsp                0\n",
            "parch                0\n",
            "ticket               0\n",
            "fare                 1\n",
            "cabin             1014\n",
            "embarked             2\n",
            "boat               823\n",
            "body              1188\n",
            "home.dest          564\n",
            "dtype: int64\n"
          ]
        }
      ],
      "source": [
        "print(ds_trabajo.isna().sum())"
      ]
    },
    {
      "cell_type": "markdown",
      "metadata": {
        "id": "sFKLBX9EXKLO"
      },
      "source": [
        "Listar la cantidad de datos no nulos por columna"
      ]
    },
    {
      "cell_type": "code",
      "execution_count": null,
      "metadata": {
        "colab": {
          "base_uri": "https://localhost:8080/"
        },
        "execution": {
          "iopub.execute_input": "2022-03-28T21:55:10.643457Z",
          "iopub.status.busy": "2022-03-28T21:55:10.643237Z",
          "iopub.status.idle": "2022-03-28T21:55:10.651603Z",
          "shell.execute_reply": "2022-03-28T21:55:10.650383Z",
          "shell.execute_reply.started": "2022-03-28T21:55:10.643436Z"
        },
        "id": "v1wxUVeWXKLP",
        "outputId": "1de5a09e-28ad-4066-b1e4-d196dffe334c"
      },
      "outputs": [
        {
          "name": "stdout",
          "output_type": "stream",
          "text": [
            "PassengerClass    1309\n",
            "survived          1309\n",
            "name              1309\n",
            "sex               1309\n",
            "age               1046\n",
            "sibsp             1309\n",
            "parch             1309\n",
            "ticket            1309\n",
            "fare              1308\n",
            "cabin              295\n",
            "embarked          1307\n",
            "boat               486\n",
            "body               121\n",
            "home.dest          745\n",
            "dtype: int64\n"
          ]
        }
      ],
      "source": [
        "print(ds_trabajo.count())"
      ]
    },
    {
      "cell_type": "markdown",
      "metadata": {
        "id": "M_65tA3TXKLP"
      },
      "source": [
        "Analizar algunas combinaciones de variables"
      ]
    },
    {
      "cell_type": "code",
      "execution_count": null,
      "metadata": {
        "colab": {
          "base_uri": "https://localhost:8080/",
          "height": 143
        },
        "execution": {
          "iopub.execute_input": "2022-03-28T21:55:12.684209Z",
          "iopub.status.busy": "2022-03-28T21:55:12.683938Z",
          "iopub.status.idle": "2022-03-28T21:55:12.714518Z",
          "shell.execute_reply": "2022-03-28T21:55:12.713641Z",
          "shell.execute_reply.started": "2022-03-28T21:55:12.684181Z"
        },
        "id": "9HC3xKZBXKLP",
        "outputId": "d6c40015-2cfd-4497-9fd6-089c9782bea9"
      },
      "outputs": [
        {
          "data": {
            "text/html": [
              "\n",
              "  <div id=\"df-2ebb686c-1a27-49c6-b412-83ba6ce8bc99\">\n",
              "    <div class=\"colab-df-container\">\n",
              "      <div>\n",
              "<style scoped>\n",
              "    .dataframe tbody tr th:only-of-type {\n",
              "        vertical-align: middle;\n",
              "    }\n",
              "\n",
              "    .dataframe tbody tr th {\n",
              "        vertical-align: top;\n",
              "    }\n",
              "\n",
              "    .dataframe thead th {\n",
              "        text-align: right;\n",
              "    }\n",
              "</style>\n",
              "<table border=\"1\" class=\"dataframe\">\n",
              "  <thead>\n",
              "    <tr style=\"text-align: right;\">\n",
              "      <th>sex</th>\n",
              "      <th>female</th>\n",
              "      <th>male</th>\n",
              "    </tr>\n",
              "    <tr>\n",
              "      <th>survived</th>\n",
              "      <th></th>\n",
              "      <th></th>\n",
              "    </tr>\n",
              "  </thead>\n",
              "  <tbody>\n",
              "    <tr>\n",
              "      <th>0</th>\n",
              "      <td>127</td>\n",
              "      <td>682</td>\n",
              "    </tr>\n",
              "    <tr>\n",
              "      <th>1</th>\n",
              "      <td>339</td>\n",
              "      <td>161</td>\n",
              "    </tr>\n",
              "  </tbody>\n",
              "</table>\n",
              "</div>\n",
              "      <button class=\"colab-df-convert\" onclick=\"convertToInteractive('df-2ebb686c-1a27-49c6-b412-83ba6ce8bc99')\"\n",
              "              title=\"Convert this dataframe to an interactive table.\"\n",
              "              style=\"display:none;\">\n",
              "        \n",
              "  <svg xmlns=\"http://www.w3.org/2000/svg\" height=\"24px\"viewBox=\"0 0 24 24\"\n",
              "       width=\"24px\">\n",
              "    <path d=\"M0 0h24v24H0V0z\" fill=\"none\"/>\n",
              "    <path d=\"M18.56 5.44l.94 2.06.94-2.06 2.06-.94-2.06-.94-.94-2.06-.94 2.06-2.06.94zm-11 1L8.5 8.5l.94-2.06 2.06-.94-2.06-.94L8.5 2.5l-.94 2.06-2.06.94zm10 10l.94 2.06.94-2.06 2.06-.94-2.06-.94-.94-2.06-.94 2.06-2.06.94z\"/><path d=\"M17.41 7.96l-1.37-1.37c-.4-.4-.92-.59-1.43-.59-.52 0-1.04.2-1.43.59L10.3 9.45l-7.72 7.72c-.78.78-.78 2.05 0 2.83L4 21.41c.39.39.9.59 1.41.59.51 0 1.02-.2 1.41-.59l7.78-7.78 2.81-2.81c.8-.78.8-2.07 0-2.86zM5.41 20L4 18.59l7.72-7.72 1.47 1.35L5.41 20z\"/>\n",
              "  </svg>\n",
              "      </button>\n",
              "      \n",
              "  <style>\n",
              "    .colab-df-container {\n",
              "      display:flex;\n",
              "      flex-wrap:wrap;\n",
              "      gap: 12px;\n",
              "    }\n",
              "\n",
              "    .colab-df-convert {\n",
              "      background-color: #E8F0FE;\n",
              "      border: none;\n",
              "      border-radius: 50%;\n",
              "      cursor: pointer;\n",
              "      display: none;\n",
              "      fill: #1967D2;\n",
              "      height: 32px;\n",
              "      padding: 0 0 0 0;\n",
              "      width: 32px;\n",
              "    }\n",
              "\n",
              "    .colab-df-convert:hover {\n",
              "      background-color: #E2EBFA;\n",
              "      box-shadow: 0px 1px 2px rgba(60, 64, 67, 0.3), 0px 1px 3px 1px rgba(60, 64, 67, 0.15);\n",
              "      fill: #174EA6;\n",
              "    }\n",
              "\n",
              "    [theme=dark] .colab-df-convert {\n",
              "      background-color: #3B4455;\n",
              "      fill: #D2E3FC;\n",
              "    }\n",
              "\n",
              "    [theme=dark] .colab-df-convert:hover {\n",
              "      background-color: #434B5C;\n",
              "      box-shadow: 0px 1px 3px 1px rgba(0, 0, 0, 0.15);\n",
              "      filter: drop-shadow(0px 1px 2px rgba(0, 0, 0, 0.3));\n",
              "      fill: #FFFFFF;\n",
              "    }\n",
              "  </style>\n",
              "\n",
              "      <script>\n",
              "        const buttonEl =\n",
              "          document.querySelector('#df-2ebb686c-1a27-49c6-b412-83ba6ce8bc99 button.colab-df-convert');\n",
              "        buttonEl.style.display =\n",
              "          google.colab.kernel.accessAllowed ? 'block' : 'none';\n",
              "\n",
              "        async function convertToInteractive(key) {\n",
              "          const element = document.querySelector('#df-2ebb686c-1a27-49c6-b412-83ba6ce8bc99');\n",
              "          const dataTable =\n",
              "            await google.colab.kernel.invokeFunction('convertToInteractive',\n",
              "                                                     [key], {});\n",
              "          if (!dataTable) return;\n",
              "\n",
              "          const docLinkHtml = 'Like what you see? Visit the ' +\n",
              "            '<a target=\"_blank\" href=https://colab.research.google.com/notebooks/data_table.ipynb>data table notebook</a>'\n",
              "            + ' to learn more about interactive tables.';\n",
              "          element.innerHTML = '';\n",
              "          dataTable['output_type'] = 'display_data';\n",
              "          await google.colab.output.renderOutput(dataTable, element);\n",
              "          const docLink = document.createElement('div');\n",
              "          docLink.innerHTML = docLinkHtml;\n",
              "          element.appendChild(docLink);\n",
              "        }\n",
              "      </script>\n",
              "    </div>\n",
              "  </div>\n",
              "  "
            ],
            "text/plain": [
              "sex       female  male\n",
              "survived              \n",
              "0            127   682\n",
              "1            339   161"
            ]
          },
          "execution_count": 28,
          "metadata": {},
          "output_type": "execute_result"
        }
      ],
      "source": [
        "pd.crosstab(ds_trabajo['survived'],ds_trabajo['sex'])"
      ]
    },
    {
      "cell_type": "code",
      "execution_count": null,
      "metadata": {
        "colab": {
          "base_uri": "https://localhost:8080/"
        },
        "execution": {
          "iopub.execute_input": "2022-03-28T21:55:31.481133Z",
          "iopub.status.busy": "2022-03-28T21:55:31.480651Z",
          "iopub.status.idle": "2022-03-28T21:55:31.491961Z",
          "shell.execute_reply": "2022-03-28T21:55:31.491539Z",
          "shell.execute_reply.started": "2022-03-28T21:55:31.481109Z"
        },
        "id": "gjKzCWXgXKLQ",
        "outputId": "7ccd8bbc-a1c1-4237-be3b-a229881d6981"
      },
      "outputs": [
        {
          "data": {
            "text/plain": [
              "PassengerClass  sex   \n",
              "1               female    139\n",
              "                male       61\n",
              "2               female     94\n",
              "                male       25\n",
              "3               female    106\n",
              "                male       75\n",
              "Name: survived, dtype: int64"
            ]
          },
          "execution_count": 29,
          "metadata": {},
          "output_type": "execute_result"
        }
      ],
      "source": [
        "ds_trabajo.groupby(['PassengerClass','sex'])['survived'].sum()"
      ]
    },
    {
      "cell_type": "markdown",
      "metadata": {
        "id": "r0cCwL4PXKLQ"
      },
      "source": [
        "Mostrar información de resumen del dataset"
      ]
    },
    {
      "cell_type": "code",
      "execution_count": null,
      "metadata": {
        "colab": {
          "base_uri": "https://localhost:8080/",
          "height": 300
        },
        "execution": {
          "iopub.execute_input": "2022-03-28T21:55:33.584769Z",
          "iopub.status.busy": "2022-03-28T21:55:33.584510Z",
          "iopub.status.idle": "2022-03-28T21:55:33.613435Z",
          "shell.execute_reply": "2022-03-28T21:55:33.612627Z",
          "shell.execute_reply.started": "2022-03-28T21:55:33.584742Z"
        },
        "id": "KH-8nnCgXKLQ",
        "outputId": "892076d2-d3ff-4f70-d418-76add61defa7"
      },
      "outputs": [
        {
          "data": {
            "text/html": [
              "\n",
              "  <div id=\"df-271021ab-ba0e-4ea1-be3b-ee8ddef3bb0c\">\n",
              "    <div class=\"colab-df-container\">\n",
              "      <div>\n",
              "<style scoped>\n",
              "    .dataframe tbody tr th:only-of-type {\n",
              "        vertical-align: middle;\n",
              "    }\n",
              "\n",
              "    .dataframe tbody tr th {\n",
              "        vertical-align: top;\n",
              "    }\n",
              "\n",
              "    .dataframe thead th {\n",
              "        text-align: right;\n",
              "    }\n",
              "</style>\n",
              "<table border=\"1\" class=\"dataframe\">\n",
              "  <thead>\n",
              "    <tr style=\"text-align: right;\">\n",
              "      <th></th>\n",
              "      <th>PassengerClass</th>\n",
              "      <th>survived</th>\n",
              "      <th>age</th>\n",
              "      <th>sibsp</th>\n",
              "      <th>parch</th>\n",
              "      <th>fare</th>\n",
              "      <th>body</th>\n",
              "    </tr>\n",
              "  </thead>\n",
              "  <tbody>\n",
              "    <tr>\n",
              "      <th>count</th>\n",
              "      <td>1309.000000</td>\n",
              "      <td>1309.000000</td>\n",
              "      <td>1046.000000</td>\n",
              "      <td>1309.000000</td>\n",
              "      <td>1309.000000</td>\n",
              "      <td>1308.000000</td>\n",
              "      <td>121.000000</td>\n",
              "    </tr>\n",
              "    <tr>\n",
              "      <th>mean</th>\n",
              "      <td>2.294882</td>\n",
              "      <td>0.381971</td>\n",
              "      <td>29.881135</td>\n",
              "      <td>0.498854</td>\n",
              "      <td>0.385027</td>\n",
              "      <td>33.295479</td>\n",
              "      <td>160.809917</td>\n",
              "    </tr>\n",
              "    <tr>\n",
              "      <th>std</th>\n",
              "      <td>0.837836</td>\n",
              "      <td>0.486055</td>\n",
              "      <td>14.413500</td>\n",
              "      <td>1.041658</td>\n",
              "      <td>0.865560</td>\n",
              "      <td>51.758668</td>\n",
              "      <td>97.696922</td>\n",
              "    </tr>\n",
              "    <tr>\n",
              "      <th>min</th>\n",
              "      <td>1.000000</td>\n",
              "      <td>0.000000</td>\n",
              "      <td>0.166700</td>\n",
              "      <td>0.000000</td>\n",
              "      <td>0.000000</td>\n",
              "      <td>0.000000</td>\n",
              "      <td>1.000000</td>\n",
              "    </tr>\n",
              "    <tr>\n",
              "      <th>25%</th>\n",
              "      <td>2.000000</td>\n",
              "      <td>0.000000</td>\n",
              "      <td>21.000000</td>\n",
              "      <td>0.000000</td>\n",
              "      <td>0.000000</td>\n",
              "      <td>7.895800</td>\n",
              "      <td>72.000000</td>\n",
              "    </tr>\n",
              "    <tr>\n",
              "      <th>50%</th>\n",
              "      <td>3.000000</td>\n",
              "      <td>0.000000</td>\n",
              "      <td>28.000000</td>\n",
              "      <td>0.000000</td>\n",
              "      <td>0.000000</td>\n",
              "      <td>14.454200</td>\n",
              "      <td>155.000000</td>\n",
              "    </tr>\n",
              "    <tr>\n",
              "      <th>75%</th>\n",
              "      <td>3.000000</td>\n",
              "      <td>1.000000</td>\n",
              "      <td>39.000000</td>\n",
              "      <td>1.000000</td>\n",
              "      <td>0.000000</td>\n",
              "      <td>31.275000</td>\n",
              "      <td>256.000000</td>\n",
              "    </tr>\n",
              "    <tr>\n",
              "      <th>max</th>\n",
              "      <td>3.000000</td>\n",
              "      <td>1.000000</td>\n",
              "      <td>80.000000</td>\n",
              "      <td>8.000000</td>\n",
              "      <td>9.000000</td>\n",
              "      <td>512.329200</td>\n",
              "      <td>328.000000</td>\n",
              "    </tr>\n",
              "  </tbody>\n",
              "</table>\n",
              "</div>\n",
              "      <button class=\"colab-df-convert\" onclick=\"convertToInteractive('df-271021ab-ba0e-4ea1-be3b-ee8ddef3bb0c')\"\n",
              "              title=\"Convert this dataframe to an interactive table.\"\n",
              "              style=\"display:none;\">\n",
              "        \n",
              "  <svg xmlns=\"http://www.w3.org/2000/svg\" height=\"24px\"viewBox=\"0 0 24 24\"\n",
              "       width=\"24px\">\n",
              "    <path d=\"M0 0h24v24H0V0z\" fill=\"none\"/>\n",
              "    <path d=\"M18.56 5.44l.94 2.06.94-2.06 2.06-.94-2.06-.94-.94-2.06-.94 2.06-2.06.94zm-11 1L8.5 8.5l.94-2.06 2.06-.94-2.06-.94L8.5 2.5l-.94 2.06-2.06.94zm10 10l.94 2.06.94-2.06 2.06-.94-2.06-.94-.94-2.06-.94 2.06-2.06.94z\"/><path d=\"M17.41 7.96l-1.37-1.37c-.4-.4-.92-.59-1.43-.59-.52 0-1.04.2-1.43.59L10.3 9.45l-7.72 7.72c-.78.78-.78 2.05 0 2.83L4 21.41c.39.39.9.59 1.41.59.51 0 1.02-.2 1.41-.59l7.78-7.78 2.81-2.81c.8-.78.8-2.07 0-2.86zM5.41 20L4 18.59l7.72-7.72 1.47 1.35L5.41 20z\"/>\n",
              "  </svg>\n",
              "      </button>\n",
              "      \n",
              "  <style>\n",
              "    .colab-df-container {\n",
              "      display:flex;\n",
              "      flex-wrap:wrap;\n",
              "      gap: 12px;\n",
              "    }\n",
              "\n",
              "    .colab-df-convert {\n",
              "      background-color: #E8F0FE;\n",
              "      border: none;\n",
              "      border-radius: 50%;\n",
              "      cursor: pointer;\n",
              "      display: none;\n",
              "      fill: #1967D2;\n",
              "      height: 32px;\n",
              "      padding: 0 0 0 0;\n",
              "      width: 32px;\n",
              "    }\n",
              "\n",
              "    .colab-df-convert:hover {\n",
              "      background-color: #E2EBFA;\n",
              "      box-shadow: 0px 1px 2px rgba(60, 64, 67, 0.3), 0px 1px 3px 1px rgba(60, 64, 67, 0.15);\n",
              "      fill: #174EA6;\n",
              "    }\n",
              "\n",
              "    [theme=dark] .colab-df-convert {\n",
              "      background-color: #3B4455;\n",
              "      fill: #D2E3FC;\n",
              "    }\n",
              "\n",
              "    [theme=dark] .colab-df-convert:hover {\n",
              "      background-color: #434B5C;\n",
              "      box-shadow: 0px 1px 3px 1px rgba(0, 0, 0, 0.15);\n",
              "      filter: drop-shadow(0px 1px 2px rgba(0, 0, 0, 0.3));\n",
              "      fill: #FFFFFF;\n",
              "    }\n",
              "  </style>\n",
              "\n",
              "      <script>\n",
              "        const buttonEl =\n",
              "          document.querySelector('#df-271021ab-ba0e-4ea1-be3b-ee8ddef3bb0c button.colab-df-convert');\n",
              "        buttonEl.style.display =\n",
              "          google.colab.kernel.accessAllowed ? 'block' : 'none';\n",
              "\n",
              "        async function convertToInteractive(key) {\n",
              "          const element = document.querySelector('#df-271021ab-ba0e-4ea1-be3b-ee8ddef3bb0c');\n",
              "          const dataTable =\n",
              "            await google.colab.kernel.invokeFunction('convertToInteractive',\n",
              "                                                     [key], {});\n",
              "          if (!dataTable) return;\n",
              "\n",
              "          const docLinkHtml = 'Like what you see? Visit the ' +\n",
              "            '<a target=\"_blank\" href=https://colab.research.google.com/notebooks/data_table.ipynb>data table notebook</a>'\n",
              "            + ' to learn more about interactive tables.';\n",
              "          element.innerHTML = '';\n",
              "          dataTable['output_type'] = 'display_data';\n",
              "          await google.colab.output.renderOutput(dataTable, element);\n",
              "          const docLink = document.createElement('div');\n",
              "          docLink.innerHTML = docLinkHtml;\n",
              "          element.appendChild(docLink);\n",
              "        }\n",
              "      </script>\n",
              "    </div>\n",
              "  </div>\n",
              "  "
            ],
            "text/plain": [
              "       PassengerClass     survived          age        sibsp        parch  \\\n",
              "count     1309.000000  1309.000000  1046.000000  1309.000000  1309.000000   \n",
              "mean         2.294882     0.381971    29.881135     0.498854     0.385027   \n",
              "std          0.837836     0.486055    14.413500     1.041658     0.865560   \n",
              "min          1.000000     0.000000     0.166700     0.000000     0.000000   \n",
              "25%          2.000000     0.000000    21.000000     0.000000     0.000000   \n",
              "50%          3.000000     0.000000    28.000000     0.000000     0.000000   \n",
              "75%          3.000000     1.000000    39.000000     1.000000     0.000000   \n",
              "max          3.000000     1.000000    80.000000     8.000000     9.000000   \n",
              "\n",
              "              fare        body  \n",
              "count  1308.000000  121.000000  \n",
              "mean     33.295479  160.809917  \n",
              "std      51.758668   97.696922  \n",
              "min       0.000000    1.000000  \n",
              "25%       7.895800   72.000000  \n",
              "50%      14.454200  155.000000  \n",
              "75%      31.275000  256.000000  \n",
              "max     512.329200  328.000000  "
            ]
          },
          "execution_count": 30,
          "metadata": {},
          "output_type": "execute_result"
        }
      ],
      "source": [
        "ds_trabajo.describe()"
      ]
    },
    {
      "cell_type": "markdown",
      "metadata": {
        "id": "2vdzyxp9XKLR"
      },
      "source": [
        "Seleccionar fila por posición"
      ]
    },
    {
      "cell_type": "code",
      "execution_count": null,
      "metadata": {
        "colab": {
          "base_uri": "https://localhost:8080/"
        },
        "execution": {
          "iopub.execute_input": "2022-03-28T22:28:19.956213Z",
          "iopub.status.busy": "2022-03-28T22:28:19.955968Z",
          "iopub.status.idle": "2022-03-28T22:28:19.962294Z",
          "shell.execute_reply": "2022-03-28T22:28:19.961909Z",
          "shell.execute_reply.started": "2022-03-28T22:28:19.956189Z"
        },
        "id": "jZno8vGpXKLR",
        "outputId": "7ea3be89-8368-490a-a9fa-00660aa34ec5"
      },
      "outputs": [
        {
          "data": {
            "text/plain": [
              "PassengerClass                                1\n",
              "survived                                      1\n",
              "name              Allen, Miss. Elisabeth Walton\n",
              "sex                                      female\n",
              "age                                        29.0\n",
              "sibsp                                         0\n",
              "parch                                         0\n",
              "ticket                                    24160\n",
              "fare                                   211.3375\n",
              "cabin                                        B5\n",
              "embarked                                      S\n",
              "boat                                          2\n",
              "body                                        NaN\n",
              "home.dest                          St Louis, MO\n",
              "Name: 0, dtype: object"
            ]
          },
          "execution_count": 31,
          "metadata": {},
          "output_type": "execute_result"
        }
      ],
      "source": [
        "ds_trabajo.iloc[0]"
      ]
    },
    {
      "cell_type": "markdown",
      "metadata": {
        "execution": {
          "iopub.execute_input": "2022-03-26T16:45:01.767021Z",
          "iopub.status.busy": "2022-03-26T16:45:01.766694Z",
          "iopub.status.idle": "2022-03-26T16:45:01.770964Z",
          "shell.execute_reply": "2022-03-26T16:45:01.769932Z",
          "shell.execute_reply.started": "2022-03-26T16:45:01.766982Z"
        },
        "id": "_GB0yVtfXKLR"
      },
      "source": [
        "Seleccionar columna por posición"
      ]
    },
    {
      "cell_type": "code",
      "execution_count": null,
      "metadata": {
        "colab": {
          "base_uri": "https://localhost:8080/"
        },
        "execution": {
          "iopub.execute_input": "2022-03-28T22:28:41.589598Z",
          "iopub.status.busy": "2022-03-28T22:28:41.589226Z",
          "iopub.status.idle": "2022-03-28T22:28:41.596864Z",
          "shell.execute_reply": "2022-03-28T22:28:41.595777Z",
          "shell.execute_reply.started": "2022-03-28T22:28:41.589560Z"
        },
        "id": "782-2XyvXKLS",
        "outputId": "40bfd361-c983-4cc4-8842-202a70a47aa6"
      },
      "outputs": [
        {
          "data": {
            "text/plain": [
              "0       1\n",
              "1       1\n",
              "2       1\n",
              "3       1\n",
              "4       1\n",
              "       ..\n",
              "1304    3\n",
              "1305    3\n",
              "1306    3\n",
              "1307    3\n",
              "1308    3\n",
              "Name: PassengerClass, Length: 1309, dtype: int64"
            ]
          },
          "execution_count": 32,
          "metadata": {},
          "output_type": "execute_result"
        }
      ],
      "source": [
        "ds_trabajo.iloc[:,0]"
      ]
    },
    {
      "cell_type": "markdown",
      "metadata": {
        "id": "9E-GWQyPXKLS"
      },
      "source": [
        "##### Seleccionar columna por nombre"
      ]
    },
    {
      "cell_type": "code",
      "execution_count": null,
      "metadata": {
        "colab": {
          "base_uri": "https://localhost:8080/"
        },
        "execution": {
          "iopub.execute_input": "2022-03-28T22:29:26.154071Z",
          "iopub.status.busy": "2022-03-28T22:29:26.153132Z",
          "iopub.status.idle": "2022-03-28T22:29:26.160725Z",
          "shell.execute_reply": "2022-03-28T22:29:26.159991Z",
          "shell.execute_reply.started": "2022-03-28T22:29:26.154041Z"
        },
        "id": "lqHsIMh2XKLS",
        "outputId": "b779102c-5b41-44a5-c3c5-aae2f4cf4866"
      },
      "outputs": [
        {
          "data": {
            "text/plain": [
              "0                         Allen, Miss. Elisabeth Walton\n",
              "1                        Allison, Master. Hudson Trevor\n",
              "2                          Allison, Miss. Helen Loraine\n",
              "3                  Allison, Mr. Hudson Joshua Creighton\n",
              "4       Allison, Mrs. Hudson J C (Bessie Waldo Daniels)\n",
              "                             ...                       \n",
              "1304                               Zabour, Miss. Hileni\n",
              "1305                              Zabour, Miss. Thamine\n",
              "1306                          Zakarian, Mr. Mapriededer\n",
              "1307                                Zakarian, Mr. Ortin\n",
              "1308                                 Zimmerman, Mr. Leo\n",
              "Name: name, Length: 1309, dtype: object"
            ]
          },
          "execution_count": 34,
          "metadata": {},
          "output_type": "execute_result"
        }
      ],
      "source": [
        "ds_trabajo.loc[:,\"name\"]   #ds_trabajo[\"name\"]"
      ]
    },
    {
      "cell_type": "code",
      "execution_count": null,
      "metadata": {
        "colab": {
          "base_uri": "https://localhost:8080/"
        },
        "id": "ZPnS-arA7t8a",
        "outputId": "f52ef0e8-73d6-47e7-a3eb-a68a89df8f20"
      },
      "outputs": [
        {
          "data": {
            "text/plain": [
              "0                         Allen, Miss. Elisabeth Walton\n",
              "1                        Allison, Master. Hudson Trevor\n",
              "2                          Allison, Miss. Helen Loraine\n",
              "3                  Allison, Mr. Hudson Joshua Creighton\n",
              "4       Allison, Mrs. Hudson J C (Bessie Waldo Daniels)\n",
              "                             ...                       \n",
              "1304                               Zabour, Miss. Hileni\n",
              "1305                              Zabour, Miss. Thamine\n",
              "1306                          Zakarian, Mr. Mapriededer\n",
              "1307                                Zakarian, Mr. Ortin\n",
              "1308                                 Zimmerman, Mr. Leo\n",
              "Name: name, Length: 1309, dtype: object"
            ]
          },
          "execution_count": 35,
          "metadata": {},
          "output_type": "execute_result"
        }
      ],
      "source": [
        "ds_trabajo[\"name\"]"
      ]
    },
    {
      "cell_type": "markdown",
      "metadata": {
        "id": "VQ9qTdNAXKLS"
      },
      "source": [
        "##### Selección de filas en función de características de columnas"
      ]
    },
    {
      "cell_type": "code",
      "execution_count": null,
      "metadata": {
        "colab": {
          "base_uri": "https://localhost:8080/"
        },
        "execution": {
          "iopub.execute_input": "2022-03-28T21:55:39.896673Z",
          "iopub.status.busy": "2022-03-28T21:55:39.896298Z",
          "iopub.status.idle": "2022-03-28T21:55:39.904312Z",
          "shell.execute_reply": "2022-03-28T21:55:39.903573Z",
          "shell.execute_reply.started": "2022-03-28T21:55:39.896639Z"
        },
        "id": "9UnL0VqWXKLS",
        "outputId": "b306dc42-9a25-45f5-edd9-81c856641a12"
      },
      "outputs": [
        {
          "data": {
            "text/plain": [
              "0        True\n",
              "1        True\n",
              "2       False\n",
              "3       False\n",
              "4       False\n",
              "        ...  \n",
              "1304    False\n",
              "1305    False\n",
              "1306    False\n",
              "1307    False\n",
              "1308    False\n",
              "Name: survived, Length: 1309, dtype: bool"
            ]
          },
          "execution_count": 39,
          "metadata": {},
          "output_type": "execute_result"
        }
      ],
      "source": [
        "ds_trabajo.loc[:,\"survived\"]==1"
      ]
    },
    {
      "cell_type": "code",
      "execution_count": null,
      "metadata": {
        "colab": {
          "base_uri": "https://localhost:8080/"
        },
        "id": "MjbCK9ee7t8c",
        "outputId": "bf744696-fed8-43aa-a984-87d607af933f"
      },
      "outputs": [
        {
          "data": {
            "text/plain": [
              "0        True\n",
              "1        True\n",
              "2       False\n",
              "3       False\n",
              "4       False\n",
              "        ...  \n",
              "1304    False\n",
              "1305    False\n",
              "1306    False\n",
              "1307    False\n",
              "1308    False\n",
              "Name: survived, Length: 1309, dtype: bool"
            ]
          },
          "execution_count": 37,
          "metadata": {},
          "output_type": "execute_result"
        }
      ],
      "source": [
        "ds_trabajo[\"survived\"]==1"
      ]
    },
    {
      "cell_type": "code",
      "execution_count": null,
      "metadata": {
        "colab": {
          "base_uri": "https://localhost:8080/",
          "height": 467
        },
        "execution": {
          "iopub.execute_input": "2022-03-28T21:55:43.555797Z",
          "iopub.status.busy": "2022-03-28T21:55:43.555520Z",
          "iopub.status.idle": "2022-03-28T21:55:43.583225Z",
          "shell.execute_reply": "2022-03-28T21:55:43.582535Z",
          "shell.execute_reply.started": "2022-03-28T21:55:43.555769Z"
        },
        "id": "io_HiUHlXKLS",
        "outputId": "a78d28c1-df0a-41b3-d807-582a78d39467"
      },
      "outputs": [
        {
          "data": {
            "text/html": [
              "\n",
              "  <div id=\"df-5dbf122f-6d78-4256-896f-632cf1989687\">\n",
              "    <div class=\"colab-df-container\">\n",
              "      <div>\n",
              "<style scoped>\n",
              "    .dataframe tbody tr th:only-of-type {\n",
              "        vertical-align: middle;\n",
              "    }\n",
              "\n",
              "    .dataframe tbody tr th {\n",
              "        vertical-align: top;\n",
              "    }\n",
              "\n",
              "    .dataframe thead th {\n",
              "        text-align: right;\n",
              "    }\n",
              "</style>\n",
              "<table border=\"1\" class=\"dataframe\">\n",
              "  <thead>\n",
              "    <tr style=\"text-align: right;\">\n",
              "      <th></th>\n",
              "      <th>PassengerClass</th>\n",
              "      <th>survived</th>\n",
              "      <th>name</th>\n",
              "      <th>sex</th>\n",
              "      <th>age</th>\n",
              "      <th>sibsp</th>\n",
              "      <th>parch</th>\n",
              "      <th>ticket</th>\n",
              "      <th>fare</th>\n",
              "      <th>cabin</th>\n",
              "      <th>embarked</th>\n",
              "      <th>boat</th>\n",
              "      <th>body</th>\n",
              "      <th>home.dest</th>\n",
              "    </tr>\n",
              "  </thead>\n",
              "  <tbody>\n",
              "    <tr>\n",
              "      <th>0</th>\n",
              "      <td>1</td>\n",
              "      <td>1</td>\n",
              "      <td>Allen, Miss. Elisabeth Walton</td>\n",
              "      <td>female</td>\n",
              "      <td>29.0000</td>\n",
              "      <td>0</td>\n",
              "      <td>0</td>\n",
              "      <td>24160</td>\n",
              "      <td>211.3375</td>\n",
              "      <td>B5</td>\n",
              "      <td>S</td>\n",
              "      <td>2</td>\n",
              "      <td>NaN</td>\n",
              "      <td>St Louis, MO</td>\n",
              "    </tr>\n",
              "    <tr>\n",
              "      <th>1</th>\n",
              "      <td>1</td>\n",
              "      <td>1</td>\n",
              "      <td>Allison, Master. Hudson Trevor</td>\n",
              "      <td>male</td>\n",
              "      <td>0.9167</td>\n",
              "      <td>1</td>\n",
              "      <td>2</td>\n",
              "      <td>113781</td>\n",
              "      <td>151.5500</td>\n",
              "      <td>C22 C26</td>\n",
              "      <td>S</td>\n",
              "      <td>11</td>\n",
              "      <td>NaN</td>\n",
              "      <td>Montreal, PQ / Chesterville, ON</td>\n",
              "    </tr>\n",
              "    <tr>\n",
              "      <th>5</th>\n",
              "      <td>1</td>\n",
              "      <td>1</td>\n",
              "      <td>Anderson, Mr. Harry</td>\n",
              "      <td>male</td>\n",
              "      <td>48.0000</td>\n",
              "      <td>0</td>\n",
              "      <td>0</td>\n",
              "      <td>19952</td>\n",
              "      <td>26.5500</td>\n",
              "      <td>E12</td>\n",
              "      <td>S</td>\n",
              "      <td>3</td>\n",
              "      <td>NaN</td>\n",
              "      <td>New York, NY</td>\n",
              "    </tr>\n",
              "    <tr>\n",
              "      <th>6</th>\n",
              "      <td>1</td>\n",
              "      <td>1</td>\n",
              "      <td>Andrews, Miss. Kornelia Theodosia</td>\n",
              "      <td>female</td>\n",
              "      <td>63.0000</td>\n",
              "      <td>1</td>\n",
              "      <td>0</td>\n",
              "      <td>13502</td>\n",
              "      <td>77.9583</td>\n",
              "      <td>D7</td>\n",
              "      <td>S</td>\n",
              "      <td>10</td>\n",
              "      <td>NaN</td>\n",
              "      <td>Hudson, NY</td>\n",
              "    </tr>\n",
              "    <tr>\n",
              "      <th>8</th>\n",
              "      <td>1</td>\n",
              "      <td>1</td>\n",
              "      <td>Appleton, Mrs. Edward Dale (Charlotte Lamson)</td>\n",
              "      <td>female</td>\n",
              "      <td>53.0000</td>\n",
              "      <td>2</td>\n",
              "      <td>0</td>\n",
              "      <td>11769</td>\n",
              "      <td>51.4792</td>\n",
              "      <td>C101</td>\n",
              "      <td>S</td>\n",
              "      <td>D</td>\n",
              "      <td>NaN</td>\n",
              "      <td>Bayside, Queens, NY</td>\n",
              "    </tr>\n",
              "    <tr>\n",
              "      <th>...</th>\n",
              "      <td>...</td>\n",
              "      <td>...</td>\n",
              "      <td>...</td>\n",
              "      <td>...</td>\n",
              "      <td>...</td>\n",
              "      <td>...</td>\n",
              "      <td>...</td>\n",
              "      <td>...</td>\n",
              "      <td>...</td>\n",
              "      <td>...</td>\n",
              "      <td>...</td>\n",
              "      <td>...</td>\n",
              "      <td>...</td>\n",
              "      <td>...</td>\n",
              "    </tr>\n",
              "    <tr>\n",
              "      <th>1261</th>\n",
              "      <td>3</td>\n",
              "      <td>1</td>\n",
              "      <td>Turkula, Mrs. (Hedwig)</td>\n",
              "      <td>female</td>\n",
              "      <td>63.0000</td>\n",
              "      <td>0</td>\n",
              "      <td>0</td>\n",
              "      <td>4134</td>\n",
              "      <td>9.5875</td>\n",
              "      <td>NaN</td>\n",
              "      <td>S</td>\n",
              "      <td>15</td>\n",
              "      <td>NaN</td>\n",
              "      <td>NaN</td>\n",
              "    </tr>\n",
              "    <tr>\n",
              "      <th>1277</th>\n",
              "      <td>3</td>\n",
              "      <td>1</td>\n",
              "      <td>Vartanian, Mr. David</td>\n",
              "      <td>male</td>\n",
              "      <td>22.0000</td>\n",
              "      <td>0</td>\n",
              "      <td>0</td>\n",
              "      <td>2658</td>\n",
              "      <td>7.2250</td>\n",
              "      <td>NaN</td>\n",
              "      <td>C</td>\n",
              "      <td>13 15</td>\n",
              "      <td>NaN</td>\n",
              "      <td>NaN</td>\n",
              "    </tr>\n",
              "    <tr>\n",
              "      <th>1286</th>\n",
              "      <td>3</td>\n",
              "      <td>1</td>\n",
              "      <td>Whabee, Mrs. George Joseph (Shawneene Abi-Saab)</td>\n",
              "      <td>female</td>\n",
              "      <td>38.0000</td>\n",
              "      <td>0</td>\n",
              "      <td>0</td>\n",
              "      <td>2688</td>\n",
              "      <td>7.2292</td>\n",
              "      <td>NaN</td>\n",
              "      <td>C</td>\n",
              "      <td>C</td>\n",
              "      <td>NaN</td>\n",
              "      <td>NaN</td>\n",
              "    </tr>\n",
              "    <tr>\n",
              "      <th>1290</th>\n",
              "      <td>3</td>\n",
              "      <td>1</td>\n",
              "      <td>Wilkes, Mrs. James (Ellen Needs)</td>\n",
              "      <td>female</td>\n",
              "      <td>47.0000</td>\n",
              "      <td>1</td>\n",
              "      <td>0</td>\n",
              "      <td>363272</td>\n",
              "      <td>7.0000</td>\n",
              "      <td>NaN</td>\n",
              "      <td>S</td>\n",
              "      <td>NaN</td>\n",
              "      <td>NaN</td>\n",
              "      <td>NaN</td>\n",
              "    </tr>\n",
              "    <tr>\n",
              "      <th>1300</th>\n",
              "      <td>3</td>\n",
              "      <td>1</td>\n",
              "      <td>Yasbeck, Mrs. Antoni (Selini Alexander)</td>\n",
              "      <td>female</td>\n",
              "      <td>15.0000</td>\n",
              "      <td>1</td>\n",
              "      <td>0</td>\n",
              "      <td>2659</td>\n",
              "      <td>14.4542</td>\n",
              "      <td>NaN</td>\n",
              "      <td>C</td>\n",
              "      <td>NaN</td>\n",
              "      <td>NaN</td>\n",
              "      <td>NaN</td>\n",
              "    </tr>\n",
              "  </tbody>\n",
              "</table>\n",
              "<p>500 rows × 14 columns</p>\n",
              "</div>\n",
              "      <button class=\"colab-df-convert\" onclick=\"convertToInteractive('df-5dbf122f-6d78-4256-896f-632cf1989687')\"\n",
              "              title=\"Convert this dataframe to an interactive table.\"\n",
              "              style=\"display:none;\">\n",
              "        \n",
              "  <svg xmlns=\"http://www.w3.org/2000/svg\" height=\"24px\"viewBox=\"0 0 24 24\"\n",
              "       width=\"24px\">\n",
              "    <path d=\"M0 0h24v24H0V0z\" fill=\"none\"/>\n",
              "    <path d=\"M18.56 5.44l.94 2.06.94-2.06 2.06-.94-2.06-.94-.94-2.06-.94 2.06-2.06.94zm-11 1L8.5 8.5l.94-2.06 2.06-.94-2.06-.94L8.5 2.5l-.94 2.06-2.06.94zm10 10l.94 2.06.94-2.06 2.06-.94-2.06-.94-.94-2.06-.94 2.06-2.06.94z\"/><path d=\"M17.41 7.96l-1.37-1.37c-.4-.4-.92-.59-1.43-.59-.52 0-1.04.2-1.43.59L10.3 9.45l-7.72 7.72c-.78.78-.78 2.05 0 2.83L4 21.41c.39.39.9.59 1.41.59.51 0 1.02-.2 1.41-.59l7.78-7.78 2.81-2.81c.8-.78.8-2.07 0-2.86zM5.41 20L4 18.59l7.72-7.72 1.47 1.35L5.41 20z\"/>\n",
              "  </svg>\n",
              "      </button>\n",
              "      \n",
              "  <style>\n",
              "    .colab-df-container {\n",
              "      display:flex;\n",
              "      flex-wrap:wrap;\n",
              "      gap: 12px;\n",
              "    }\n",
              "\n",
              "    .colab-df-convert {\n",
              "      background-color: #E8F0FE;\n",
              "      border: none;\n",
              "      border-radius: 50%;\n",
              "      cursor: pointer;\n",
              "      display: none;\n",
              "      fill: #1967D2;\n",
              "      height: 32px;\n",
              "      padding: 0 0 0 0;\n",
              "      width: 32px;\n",
              "    }\n",
              "\n",
              "    .colab-df-convert:hover {\n",
              "      background-color: #E2EBFA;\n",
              "      box-shadow: 0px 1px 2px rgba(60, 64, 67, 0.3), 0px 1px 3px 1px rgba(60, 64, 67, 0.15);\n",
              "      fill: #174EA6;\n",
              "    }\n",
              "\n",
              "    [theme=dark] .colab-df-convert {\n",
              "      background-color: #3B4455;\n",
              "      fill: #D2E3FC;\n",
              "    }\n",
              "\n",
              "    [theme=dark] .colab-df-convert:hover {\n",
              "      background-color: #434B5C;\n",
              "      box-shadow: 0px 1px 3px 1px rgba(0, 0, 0, 0.15);\n",
              "      filter: drop-shadow(0px 1px 2px rgba(0, 0, 0, 0.3));\n",
              "      fill: #FFFFFF;\n",
              "    }\n",
              "  </style>\n",
              "\n",
              "      <script>\n",
              "        const buttonEl =\n",
              "          document.querySelector('#df-5dbf122f-6d78-4256-896f-632cf1989687 button.colab-df-convert');\n",
              "        buttonEl.style.display =\n",
              "          google.colab.kernel.accessAllowed ? 'block' : 'none';\n",
              "\n",
              "        async function convertToInteractive(key) {\n",
              "          const element = document.querySelector('#df-5dbf122f-6d78-4256-896f-632cf1989687');\n",
              "          const dataTable =\n",
              "            await google.colab.kernel.invokeFunction('convertToInteractive',\n",
              "                                                     [key], {});\n",
              "          if (!dataTable) return;\n",
              "\n",
              "          const docLinkHtml = 'Like what you see? Visit the ' +\n",
              "            '<a target=\"_blank\" href=https://colab.research.google.com/notebooks/data_table.ipynb>data table notebook</a>'\n",
              "            + ' to learn more about interactive tables.';\n",
              "          element.innerHTML = '';\n",
              "          dataTable['output_type'] = 'display_data';\n",
              "          await google.colab.output.renderOutput(dataTable, element);\n",
              "          const docLink = document.createElement('div');\n",
              "          docLink.innerHTML = docLinkHtml;\n",
              "          element.appendChild(docLink);\n",
              "        }\n",
              "      </script>\n",
              "    </div>\n",
              "  </div>\n",
              "  "
            ],
            "text/plain": [
              "      PassengerClass  survived  \\\n",
              "0                  1         1   \n",
              "1                  1         1   \n",
              "5                  1         1   \n",
              "6                  1         1   \n",
              "8                  1         1   \n",
              "...              ...       ...   \n",
              "1261               3         1   \n",
              "1277               3         1   \n",
              "1286               3         1   \n",
              "1290               3         1   \n",
              "1300               3         1   \n",
              "\n",
              "                                                 name     sex      age  sibsp  \\\n",
              "0                       Allen, Miss. Elisabeth Walton  female  29.0000      0   \n",
              "1                      Allison, Master. Hudson Trevor    male   0.9167      1   \n",
              "5                                 Anderson, Mr. Harry    male  48.0000      0   \n",
              "6                   Andrews, Miss. Kornelia Theodosia  female  63.0000      1   \n",
              "8       Appleton, Mrs. Edward Dale (Charlotte Lamson)  female  53.0000      2   \n",
              "...                                               ...     ...      ...    ...   \n",
              "1261                           Turkula, Mrs. (Hedwig)  female  63.0000      0   \n",
              "1277                             Vartanian, Mr. David    male  22.0000      0   \n",
              "1286  Whabee, Mrs. George Joseph (Shawneene Abi-Saab)  female  38.0000      0   \n",
              "1290                 Wilkes, Mrs. James (Ellen Needs)  female  47.0000      1   \n",
              "1300          Yasbeck, Mrs. Antoni (Selini Alexander)  female  15.0000      1   \n",
              "\n",
              "      parch  ticket      fare    cabin embarked   boat  body  \\\n",
              "0         0   24160  211.3375       B5        S      2   NaN   \n",
              "1         2  113781  151.5500  C22 C26        S     11   NaN   \n",
              "5         0   19952   26.5500      E12        S      3   NaN   \n",
              "6         0   13502   77.9583       D7        S     10   NaN   \n",
              "8         0   11769   51.4792     C101        S      D   NaN   \n",
              "...     ...     ...       ...      ...      ...    ...   ...   \n",
              "1261      0    4134    9.5875      NaN        S     15   NaN   \n",
              "1277      0    2658    7.2250      NaN        C  13 15   NaN   \n",
              "1286      0    2688    7.2292      NaN        C      C   NaN   \n",
              "1290      0  363272    7.0000      NaN        S    NaN   NaN   \n",
              "1300      0    2659   14.4542      NaN        C    NaN   NaN   \n",
              "\n",
              "                            home.dest  \n",
              "0                        St Louis, MO  \n",
              "1     Montreal, PQ / Chesterville, ON  \n",
              "5                        New York, NY  \n",
              "6                          Hudson, NY  \n",
              "8                 Bayside, Queens, NY  \n",
              "...                               ...  \n",
              "1261                              NaN  \n",
              "1277                              NaN  \n",
              "1286                              NaN  \n",
              "1290                              NaN  \n",
              "1300                              NaN  \n",
              "\n",
              "[500 rows x 14 columns]"
            ]
          },
          "execution_count": 40,
          "metadata": {},
          "output_type": "execute_result"
        }
      ],
      "source": [
        "ds_trabajo.loc[ds_trabajo.loc[:,\"survived\"]==1,:]"
      ]
    },
    {
      "cell_type": "markdown",
      "metadata": {
        "id": "yfc8vKGTXKLT"
      },
      "source": [
        "##### Eliminar columma"
      ]
    },
    {
      "cell_type": "code",
      "execution_count": null,
      "metadata": {
        "colab": {
          "base_uri": "https://localhost:8080/"
        },
        "execution": {
          "iopub.execute_input": "2022-03-28T22:32:01.357224Z",
          "iopub.status.busy": "2022-03-28T22:32:01.356891Z",
          "iopub.status.idle": "2022-03-28T22:32:01.364150Z",
          "shell.execute_reply": "2022-03-28T22:32:01.363664Z",
          "shell.execute_reply.started": "2022-03-28T22:32:01.357201Z"
        },
        "id": "LqpEH_peXKLT",
        "outputId": "2987af2f-34c7-4b39-b455-859685e63b0a"
      },
      "outputs": [
        {
          "data": {
            "text/plain": [
              "['pclass',\n",
              " 'survived',\n",
              " 'name',\n",
              " 'sex',\n",
              " 'age',\n",
              " 'sibsp',\n",
              " 'parch',\n",
              " 'ticket',\n",
              " 'fare',\n",
              " 'cabin',\n",
              " 'embarked',\n",
              " 'boat',\n",
              " 'body',\n",
              " 'home.dest']"
            ]
          },
          "execution_count": 44,
          "metadata": {},
          "output_type": "execute_result"
        }
      ],
      "source": [
        "ds_trabajo.drop('passengerid', axis='columns', inplace=True)  #Elimina columna sobre el mismo dataframe\n",
        "ds_trabajo.columns.tolist()"
      ]
    },
    {
      "cell_type": "markdown",
      "metadata": {
        "id": "oNoLCeggXKLT"
      },
      "source": [
        "##### Eliminar fila por condición"
      ]
    },
    {
      "cell_type": "code",
      "execution_count": null,
      "metadata": {
        "colab": {
          "base_uri": "https://localhost:8080/"
        },
        "execution": {
          "iopub.execute_input": "2022-03-28T22:34:26.926232Z",
          "iopub.status.busy": "2022-03-28T22:34:26.925148Z",
          "iopub.status.idle": "2022-03-28T22:34:26.933974Z",
          "shell.execute_reply": "2022-03-28T22:34:26.933406Z",
          "shell.execute_reply.started": "2022-03-28T22:34:26.926169Z"
        },
        "id": "7F9APduHXKLT",
        "outputId": "11e3e7de-7f4f-440b-d3b3-0558f1238e48"
      },
      "outputs": [
        {
          "data": {
            "text/plain": [
              "(500, 14)"
            ]
          },
          "execution_count": 45,
          "metadata": {},
          "output_type": "execute_result"
        }
      ],
      "source": [
        "ds_trabajo_sobrevivientes=ds_trabajo.copy()\n",
        "ds_trabajo_sobrevivientes.drop(ds_trabajo[ds_trabajo[\"survived\"]==0].index, axis='index',inplace=True)\n",
        "ds_trabajo_sobrevivientes.shape"
      ]
    },
    {
      "cell_type": "code",
      "execution_count": null,
      "metadata": {
        "colab": {
          "base_uri": "https://localhost:8080/"
        },
        "execution": {
          "iopub.execute_input": "2022-03-28T21:56:02.290608Z",
          "iopub.status.busy": "2022-03-28T21:56:02.289857Z",
          "iopub.status.idle": "2022-03-28T21:56:02.300154Z",
          "shell.execute_reply": "2022-03-28T21:56:02.299248Z",
          "shell.execute_reply.started": "2022-03-28T21:56:02.290581Z"
        },
        "id": "Ciz0tXtMXKLU",
        "outputId": "bcac14e4-2808-47ee-cbca-e75437f757e2"
      },
      "outputs": [
        {
          "data": {
            "text/plain": [
              "(500, 14)"
            ]
          },
          "execution_count": 46,
          "metadata": {},
          "output_type": "execute_result"
        }
      ],
      "source": [
        "ds_trabajo_sobrevivientes=ds_trabajo.copy()\n",
        "ds_trabajo_sobrevivientes.drop(ds_trabajo.loc[ds_trabajo.loc[:,\"survived\"]==0,:].index, axis='index', inplace=True)\n",
        "ds_trabajo_sobrevivientes.shape"
      ]
    },
    {
      "cell_type": "code",
      "execution_count": null,
      "metadata": {
        "colab": {
          "base_uri": "https://localhost:8080/",
          "height": 206
        },
        "execution": {
          "iopub.execute_input": "2022-03-28T22:35:02.687724Z",
          "iopub.status.busy": "2022-03-28T22:35:02.687447Z",
          "iopub.status.idle": "2022-03-28T22:35:02.702764Z",
          "shell.execute_reply": "2022-03-28T22:35:02.702023Z",
          "shell.execute_reply.started": "2022-03-28T22:35:02.687694Z"
        },
        "id": "SdL94JGvXKLU",
        "outputId": "13ff0974-2b1f-4171-87af-ba7fe25e5649"
      },
      "outputs": [
        {
          "data": {
            "text/html": [
              "\n",
              "  <div id=\"df-3a110658-f727-493d-8f2e-f46840de2877\">\n",
              "    <div class=\"colab-df-container\">\n",
              "      <div>\n",
              "<style scoped>\n",
              "    .dataframe tbody tr th:only-of-type {\n",
              "        vertical-align: middle;\n",
              "    }\n",
              "\n",
              "    .dataframe tbody tr th {\n",
              "        vertical-align: top;\n",
              "    }\n",
              "\n",
              "    .dataframe thead th {\n",
              "        text-align: right;\n",
              "    }\n",
              "</style>\n",
              "<table border=\"1\" class=\"dataframe\">\n",
              "  <thead>\n",
              "    <tr style=\"text-align: right;\">\n",
              "      <th></th>\n",
              "      <th>pclass</th>\n",
              "      <th>survived</th>\n",
              "      <th>name</th>\n",
              "      <th>sex</th>\n",
              "      <th>age</th>\n",
              "      <th>sibsp</th>\n",
              "      <th>parch</th>\n",
              "      <th>ticket</th>\n",
              "      <th>fare</th>\n",
              "      <th>cabin</th>\n",
              "      <th>embarked</th>\n",
              "      <th>boat</th>\n",
              "      <th>body</th>\n",
              "      <th>home.dest</th>\n",
              "    </tr>\n",
              "  </thead>\n",
              "  <tbody>\n",
              "    <tr>\n",
              "      <th>0</th>\n",
              "      <td>1.0</td>\n",
              "      <td>1.0</td>\n",
              "      <td>Allen, Miss. Elisabeth Walton</td>\n",
              "      <td>female</td>\n",
              "      <td>29.0000</td>\n",
              "      <td>0.0</td>\n",
              "      <td>0.0</td>\n",
              "      <td>24160.0</td>\n",
              "      <td>211.3375</td>\n",
              "      <td>B5</td>\n",
              "      <td>S</td>\n",
              "      <td>2.0</td>\n",
              "      <td>NaN</td>\n",
              "      <td>St Louis, MO</td>\n",
              "    </tr>\n",
              "    <tr>\n",
              "      <th>1</th>\n",
              "      <td>1.0</td>\n",
              "      <td>1.0</td>\n",
              "      <td>Allison, Master. Hudson Trevor</td>\n",
              "      <td>male</td>\n",
              "      <td>0.9167</td>\n",
              "      <td>1.0</td>\n",
              "      <td>2.0</td>\n",
              "      <td>113781.0</td>\n",
              "      <td>151.5500</td>\n",
              "      <td>C22 C26</td>\n",
              "      <td>S</td>\n",
              "      <td>11</td>\n",
              "      <td>NaN</td>\n",
              "      <td>Montreal, PQ / Chesterville, ON</td>\n",
              "    </tr>\n",
              "    <tr>\n",
              "      <th>5</th>\n",
              "      <td>1.0</td>\n",
              "      <td>1.0</td>\n",
              "      <td>Anderson, Mr. Harry</td>\n",
              "      <td>male</td>\n",
              "      <td>48.0000</td>\n",
              "      <td>0.0</td>\n",
              "      <td>0.0</td>\n",
              "      <td>19952.0</td>\n",
              "      <td>26.5500</td>\n",
              "      <td>E12</td>\n",
              "      <td>S</td>\n",
              "      <td>3</td>\n",
              "      <td>NaN</td>\n",
              "      <td>New York, NY</td>\n",
              "    </tr>\n",
              "    <tr>\n",
              "      <th>6</th>\n",
              "      <td>1.0</td>\n",
              "      <td>1.0</td>\n",
              "      <td>Andrews, Miss. Kornelia Theodosia</td>\n",
              "      <td>female</td>\n",
              "      <td>63.0000</td>\n",
              "      <td>1.0</td>\n",
              "      <td>0.0</td>\n",
              "      <td>13502.0</td>\n",
              "      <td>77.9583</td>\n",
              "      <td>D7</td>\n",
              "      <td>S</td>\n",
              "      <td>10</td>\n",
              "      <td>NaN</td>\n",
              "      <td>Hudson, NY</td>\n",
              "    </tr>\n",
              "    <tr>\n",
              "      <th>8</th>\n",
              "      <td>1.0</td>\n",
              "      <td>1.0</td>\n",
              "      <td>Appleton, Mrs. Edward Dale (Charlotte Lamson)</td>\n",
              "      <td>female</td>\n",
              "      <td>53.0000</td>\n",
              "      <td>2.0</td>\n",
              "      <td>0.0</td>\n",
              "      <td>11769.0</td>\n",
              "      <td>51.4792</td>\n",
              "      <td>C101</td>\n",
              "      <td>S</td>\n",
              "      <td>D</td>\n",
              "      <td>NaN</td>\n",
              "      <td>Bayside, Queens, NY</td>\n",
              "    </tr>\n",
              "  </tbody>\n",
              "</table>\n",
              "</div>\n",
              "      <button class=\"colab-df-convert\" onclick=\"convertToInteractive('df-3a110658-f727-493d-8f2e-f46840de2877')\"\n",
              "              title=\"Convert this dataframe to an interactive table.\"\n",
              "              style=\"display:none;\">\n",
              "        \n",
              "  <svg xmlns=\"http://www.w3.org/2000/svg\" height=\"24px\"viewBox=\"0 0 24 24\"\n",
              "       width=\"24px\">\n",
              "    <path d=\"M0 0h24v24H0V0z\" fill=\"none\"/>\n",
              "    <path d=\"M18.56 5.44l.94 2.06.94-2.06 2.06-.94-2.06-.94-.94-2.06-.94 2.06-2.06.94zm-11 1L8.5 8.5l.94-2.06 2.06-.94-2.06-.94L8.5 2.5l-.94 2.06-2.06.94zm10 10l.94 2.06.94-2.06 2.06-.94-2.06-.94-.94-2.06-.94 2.06-2.06.94z\"/><path d=\"M17.41 7.96l-1.37-1.37c-.4-.4-.92-.59-1.43-.59-.52 0-1.04.2-1.43.59L10.3 9.45l-7.72 7.72c-.78.78-.78 2.05 0 2.83L4 21.41c.39.39.9.59 1.41.59.51 0 1.02-.2 1.41-.59l7.78-7.78 2.81-2.81c.8-.78.8-2.07 0-2.86zM5.41 20L4 18.59l7.72-7.72 1.47 1.35L5.41 20z\"/>\n",
              "  </svg>\n",
              "      </button>\n",
              "      \n",
              "  <style>\n",
              "    .colab-df-container {\n",
              "      display:flex;\n",
              "      flex-wrap:wrap;\n",
              "      gap: 12px;\n",
              "    }\n",
              "\n",
              "    .colab-df-convert {\n",
              "      background-color: #E8F0FE;\n",
              "      border: none;\n",
              "      border-radius: 50%;\n",
              "      cursor: pointer;\n",
              "      display: none;\n",
              "      fill: #1967D2;\n",
              "      height: 32px;\n",
              "      padding: 0 0 0 0;\n",
              "      width: 32px;\n",
              "    }\n",
              "\n",
              "    .colab-df-convert:hover {\n",
              "      background-color: #E2EBFA;\n",
              "      box-shadow: 0px 1px 2px rgba(60, 64, 67, 0.3), 0px 1px 3px 1px rgba(60, 64, 67, 0.15);\n",
              "      fill: #174EA6;\n",
              "    }\n",
              "\n",
              "    [theme=dark] .colab-df-convert {\n",
              "      background-color: #3B4455;\n",
              "      fill: #D2E3FC;\n",
              "    }\n",
              "\n",
              "    [theme=dark] .colab-df-convert:hover {\n",
              "      background-color: #434B5C;\n",
              "      box-shadow: 0px 1px 3px 1px rgba(0, 0, 0, 0.15);\n",
              "      filter: drop-shadow(0px 1px 2px rgba(0, 0, 0, 0.3));\n",
              "      fill: #FFFFFF;\n",
              "    }\n",
              "  </style>\n",
              "\n",
              "      <script>\n",
              "        const buttonEl =\n",
              "          document.querySelector('#df-3a110658-f727-493d-8f2e-f46840de2877 button.colab-df-convert');\n",
              "        buttonEl.style.display =\n",
              "          google.colab.kernel.accessAllowed ? 'block' : 'none';\n",
              "\n",
              "        async function convertToInteractive(key) {\n",
              "          const element = document.querySelector('#df-3a110658-f727-493d-8f2e-f46840de2877');\n",
              "          const dataTable =\n",
              "            await google.colab.kernel.invokeFunction('convertToInteractive',\n",
              "                                                     [key], {});\n",
              "          if (!dataTable) return;\n",
              "\n",
              "          const docLinkHtml = 'Like what you see? Visit the ' +\n",
              "            '<a target=\"_blank\" href=https://colab.research.google.com/notebooks/data_table.ipynb>data table notebook</a>'\n",
              "            + ' to learn more about interactive tables.';\n",
              "          element.innerHTML = '';\n",
              "          dataTable['output_type'] = 'display_data';\n",
              "          await google.colab.output.renderOutput(dataTable, element);\n",
              "          const docLink = document.createElement('div');\n",
              "          docLink.innerHTML = docLinkHtml;\n",
              "          element.appendChild(docLink);\n",
              "        }\n",
              "      </script>\n",
              "    </div>\n",
              "  </div>\n",
              "  "
            ],
            "text/plain": [
              "   pclass  survived                                           name     sex  \\\n",
              "0     1.0       1.0                  Allen, Miss. Elisabeth Walton  female   \n",
              "1     1.0       1.0                 Allison, Master. Hudson Trevor    male   \n",
              "5     1.0       1.0                            Anderson, Mr. Harry    male   \n",
              "6     1.0       1.0              Andrews, Miss. Kornelia Theodosia  female   \n",
              "8     1.0       1.0  Appleton, Mrs. Edward Dale (Charlotte Lamson)  female   \n",
              "\n",
              "       age  sibsp  parch    ticket      fare    cabin embarked boat  body  \\\n",
              "0  29.0000    0.0    0.0   24160.0  211.3375       B5        S  2.0   NaN   \n",
              "1   0.9167    1.0    2.0  113781.0  151.5500  C22 C26        S   11   NaN   \n",
              "5  48.0000    0.0    0.0   19952.0   26.5500      E12        S    3   NaN   \n",
              "6  63.0000    1.0    0.0   13502.0   77.9583       D7        S   10   NaN   \n",
              "8  53.0000    2.0    0.0   11769.0   51.4792     C101        S    D   NaN   \n",
              "\n",
              "                         home.dest  \n",
              "0                     St Louis, MO  \n",
              "1  Montreal, PQ / Chesterville, ON  \n",
              "5                     New York, NY  \n",
              "6                       Hudson, NY  \n",
              "8              Bayside, Queens, NY  "
            ]
          },
          "execution_count": 47,
          "metadata": {},
          "output_type": "execute_result"
        }
      ],
      "source": [
        "ds_trabajo_sobrevivientes.head()"
      ]
    },
    {
      "cell_type": "markdown",
      "metadata": {
        "id": "6JnsRB_2XKLU"
      },
      "source": [
        "##### Cambiar valores de features"
      ]
    },
    {
      "cell_type": "code",
      "execution_count": null,
      "metadata": {
        "colab": {
          "base_uri": "https://localhost:8080/",
          "height": 206
        },
        "execution": {
          "iopub.execute_input": "2022-03-28T21:56:06.603004Z",
          "iopub.status.busy": "2022-03-28T21:56:06.602553Z",
          "iopub.status.idle": "2022-03-28T21:56:06.621674Z",
          "shell.execute_reply": "2022-03-28T21:56:06.621056Z",
          "shell.execute_reply.started": "2022-03-28T21:56:06.602975Z"
        },
        "id": "2o920w-BXKLU",
        "outputId": "1337730d-cdea-4c8d-f556-da5e7246ad1a"
      },
      "outputs": [
        {
          "data": {
            "text/html": [
              "\n",
              "  <div id=\"df-fb74a590-7c70-48c8-9082-3799c166fe2a\">\n",
              "    <div class=\"colab-df-container\">\n",
              "      <div>\n",
              "<style scoped>\n",
              "    .dataframe tbody tr th:only-of-type {\n",
              "        vertical-align: middle;\n",
              "    }\n",
              "\n",
              "    .dataframe tbody tr th {\n",
              "        vertical-align: top;\n",
              "    }\n",
              "\n",
              "    .dataframe thead th {\n",
              "        text-align: right;\n",
              "    }\n",
              "</style>\n",
              "<table border=\"1\" class=\"dataframe\">\n",
              "  <thead>\n",
              "    <tr style=\"text-align: right;\">\n",
              "      <th></th>\n",
              "      <th>pclass</th>\n",
              "      <th>survived</th>\n",
              "      <th>name</th>\n",
              "      <th>sex</th>\n",
              "      <th>age</th>\n",
              "      <th>sibsp</th>\n",
              "      <th>parch</th>\n",
              "      <th>ticket</th>\n",
              "      <th>fare</th>\n",
              "      <th>cabin</th>\n",
              "      <th>embarked</th>\n",
              "      <th>boat</th>\n",
              "      <th>body</th>\n",
              "      <th>home.dest</th>\n",
              "    </tr>\n",
              "  </thead>\n",
              "  <tbody>\n",
              "    <tr>\n",
              "      <th>0</th>\n",
              "      <td>1.0</td>\n",
              "      <td>Yes</td>\n",
              "      <td>Allen, Miss. Elisabeth Walton</td>\n",
              "      <td>female</td>\n",
              "      <td>29.0000</td>\n",
              "      <td>0.0</td>\n",
              "      <td>0.0</td>\n",
              "      <td>24160.0</td>\n",
              "      <td>211.3375</td>\n",
              "      <td>B5</td>\n",
              "      <td>S</td>\n",
              "      <td>2.0</td>\n",
              "      <td>NaN</td>\n",
              "      <td>St Louis, MO</td>\n",
              "    </tr>\n",
              "    <tr>\n",
              "      <th>1</th>\n",
              "      <td>1.0</td>\n",
              "      <td>Yes</td>\n",
              "      <td>Allison, Master. Hudson Trevor</td>\n",
              "      <td>male</td>\n",
              "      <td>0.9167</td>\n",
              "      <td>1.0</td>\n",
              "      <td>2.0</td>\n",
              "      <td>113781.0</td>\n",
              "      <td>151.5500</td>\n",
              "      <td>C22 C26</td>\n",
              "      <td>S</td>\n",
              "      <td>11</td>\n",
              "      <td>NaN</td>\n",
              "      <td>Montreal, PQ / Chesterville, ON</td>\n",
              "    </tr>\n",
              "    <tr>\n",
              "      <th>2</th>\n",
              "      <td>1.0</td>\n",
              "      <td>No</td>\n",
              "      <td>Allison, Miss. Helen Loraine</td>\n",
              "      <td>female</td>\n",
              "      <td>2.0000</td>\n",
              "      <td>1.0</td>\n",
              "      <td>2.0</td>\n",
              "      <td>113781.0</td>\n",
              "      <td>151.5500</td>\n",
              "      <td>C22 C26</td>\n",
              "      <td>S</td>\n",
              "      <td>NaN</td>\n",
              "      <td>NaN</td>\n",
              "      <td>Montreal, PQ / Chesterville, ON</td>\n",
              "    </tr>\n",
              "    <tr>\n",
              "      <th>3</th>\n",
              "      <td>1.0</td>\n",
              "      <td>No</td>\n",
              "      <td>Allison, Mr. Hudson Joshua Creighton</td>\n",
              "      <td>male</td>\n",
              "      <td>30.0000</td>\n",
              "      <td>1.0</td>\n",
              "      <td>2.0</td>\n",
              "      <td>113781.0</td>\n",
              "      <td>151.5500</td>\n",
              "      <td>C22 C26</td>\n",
              "      <td>S</td>\n",
              "      <td>NaN</td>\n",
              "      <td>135.0</td>\n",
              "      <td>Montreal, PQ / Chesterville, ON</td>\n",
              "    </tr>\n",
              "    <tr>\n",
              "      <th>4</th>\n",
              "      <td>1.0</td>\n",
              "      <td>No</td>\n",
              "      <td>Allison, Mrs. Hudson J C (Bessie Waldo Daniels)</td>\n",
              "      <td>female</td>\n",
              "      <td>25.0000</td>\n",
              "      <td>1.0</td>\n",
              "      <td>2.0</td>\n",
              "      <td>113781.0</td>\n",
              "      <td>151.5500</td>\n",
              "      <td>C22 C26</td>\n",
              "      <td>S</td>\n",
              "      <td>NaN</td>\n",
              "      <td>NaN</td>\n",
              "      <td>Montreal, PQ / Chesterville, ON</td>\n",
              "    </tr>\n",
              "  </tbody>\n",
              "</table>\n",
              "</div>\n",
              "      <button class=\"colab-df-convert\" onclick=\"convertToInteractive('df-fb74a590-7c70-48c8-9082-3799c166fe2a')\"\n",
              "              title=\"Convert this dataframe to an interactive table.\"\n",
              "              style=\"display:none;\">\n",
              "        \n",
              "  <svg xmlns=\"http://www.w3.org/2000/svg\" height=\"24px\"viewBox=\"0 0 24 24\"\n",
              "       width=\"24px\">\n",
              "    <path d=\"M0 0h24v24H0V0z\" fill=\"none\"/>\n",
              "    <path d=\"M18.56 5.44l.94 2.06.94-2.06 2.06-.94-2.06-.94-.94-2.06-.94 2.06-2.06.94zm-11 1L8.5 8.5l.94-2.06 2.06-.94-2.06-.94L8.5 2.5l-.94 2.06-2.06.94zm10 10l.94 2.06.94-2.06 2.06-.94-2.06-.94-.94-2.06-.94 2.06-2.06.94z\"/><path d=\"M17.41 7.96l-1.37-1.37c-.4-.4-.92-.59-1.43-.59-.52 0-1.04.2-1.43.59L10.3 9.45l-7.72 7.72c-.78.78-.78 2.05 0 2.83L4 21.41c.39.39.9.59 1.41.59.51 0 1.02-.2 1.41-.59l7.78-7.78 2.81-2.81c.8-.78.8-2.07 0-2.86zM5.41 20L4 18.59l7.72-7.72 1.47 1.35L5.41 20z\"/>\n",
              "  </svg>\n",
              "      </button>\n",
              "      \n",
              "  <style>\n",
              "    .colab-df-container {\n",
              "      display:flex;\n",
              "      flex-wrap:wrap;\n",
              "      gap: 12px;\n",
              "    }\n",
              "\n",
              "    .colab-df-convert {\n",
              "      background-color: #E8F0FE;\n",
              "      border: none;\n",
              "      border-radius: 50%;\n",
              "      cursor: pointer;\n",
              "      display: none;\n",
              "      fill: #1967D2;\n",
              "      height: 32px;\n",
              "      padding: 0 0 0 0;\n",
              "      width: 32px;\n",
              "    }\n",
              "\n",
              "    .colab-df-convert:hover {\n",
              "      background-color: #E2EBFA;\n",
              "      box-shadow: 0px 1px 2px rgba(60, 64, 67, 0.3), 0px 1px 3px 1px rgba(60, 64, 67, 0.15);\n",
              "      fill: #174EA6;\n",
              "    }\n",
              "\n",
              "    [theme=dark] .colab-df-convert {\n",
              "      background-color: #3B4455;\n",
              "      fill: #D2E3FC;\n",
              "    }\n",
              "\n",
              "    [theme=dark] .colab-df-convert:hover {\n",
              "      background-color: #434B5C;\n",
              "      box-shadow: 0px 1px 3px 1px rgba(0, 0, 0, 0.15);\n",
              "      filter: drop-shadow(0px 1px 2px rgba(0, 0, 0, 0.3));\n",
              "      fill: #FFFFFF;\n",
              "    }\n",
              "  </style>\n",
              "\n",
              "      <script>\n",
              "        const buttonEl =\n",
              "          document.querySelector('#df-fb74a590-7c70-48c8-9082-3799c166fe2a button.colab-df-convert');\n",
              "        buttonEl.style.display =\n",
              "          google.colab.kernel.accessAllowed ? 'block' : 'none';\n",
              "\n",
              "        async function convertToInteractive(key) {\n",
              "          const element = document.querySelector('#df-fb74a590-7c70-48c8-9082-3799c166fe2a');\n",
              "          const dataTable =\n",
              "            await google.colab.kernel.invokeFunction('convertToInteractive',\n",
              "                                                     [key], {});\n",
              "          if (!dataTable) return;\n",
              "\n",
              "          const docLinkHtml = 'Like what you see? Visit the ' +\n",
              "            '<a target=\"_blank\" href=https://colab.research.google.com/notebooks/data_table.ipynb>data table notebook</a>'\n",
              "            + ' to learn more about interactive tables.';\n",
              "          element.innerHTML = '';\n",
              "          dataTable['output_type'] = 'display_data';\n",
              "          await google.colab.output.renderOutput(dataTable, element);\n",
              "          const docLink = document.createElement('div');\n",
              "          docLink.innerHTML = docLinkHtml;\n",
              "          element.appendChild(docLink);\n",
              "        }\n",
              "      </script>\n",
              "    </div>\n",
              "  </div>\n",
              "  "
            ],
            "text/plain": [
              "   pclass survived                                             name     sex  \\\n",
              "0     1.0      Yes                    Allen, Miss. Elisabeth Walton  female   \n",
              "1     1.0      Yes                   Allison, Master. Hudson Trevor    male   \n",
              "2     1.0       No                     Allison, Miss. Helen Loraine  female   \n",
              "3     1.0       No             Allison, Mr. Hudson Joshua Creighton    male   \n",
              "4     1.0       No  Allison, Mrs. Hudson J C (Bessie Waldo Daniels)  female   \n",
              "\n",
              "       age  sibsp  parch    ticket      fare    cabin embarked boat   body  \\\n",
              "0  29.0000    0.0    0.0   24160.0  211.3375       B5        S  2.0    NaN   \n",
              "1   0.9167    1.0    2.0  113781.0  151.5500  C22 C26        S   11    NaN   \n",
              "2   2.0000    1.0    2.0  113781.0  151.5500  C22 C26        S  NaN    NaN   \n",
              "3  30.0000    1.0    2.0  113781.0  151.5500  C22 C26        S  NaN  135.0   \n",
              "4  25.0000    1.0    2.0  113781.0  151.5500  C22 C26        S  NaN    NaN   \n",
              "\n",
              "                         home.dest  \n",
              "0                     St Louis, MO  \n",
              "1  Montreal, PQ / Chesterville, ON  \n",
              "2  Montreal, PQ / Chesterville, ON  \n",
              "3  Montreal, PQ / Chesterville, ON  \n",
              "4  Montreal, PQ / Chesterville, ON  "
            ]
          },
          "execution_count": 48,
          "metadata": {},
          "output_type": "execute_result"
        }
      ],
      "source": [
        "ds_trabajo_reemplazo_valores=ds_trabajo.copy()\n",
        "\n",
        "ds_trabajo_reemplazo_valores.loc[ds_trabajo_reemplazo_valores.loc[:,\"survived\"]==1,\"survived\"]=\"Yes\"\n",
        "ds_trabajo_reemplazo_valores.loc[ds_trabajo_reemplazo_valores.loc[:,\"survived\"]==0,\"survived\"]=\"No\"\n",
        "\n",
        "ds_trabajo_reemplazo_valores.head()"
      ]
    },
    {
      "cell_type": "code",
      "execution_count": null,
      "metadata": {
        "colab": {
          "base_uri": "https://localhost:8080/",
          "height": 206
        },
        "execution": {
          "iopub.execute_input": "2022-03-28T22:38:23.493559Z",
          "iopub.status.busy": "2022-03-28T22:38:23.492934Z",
          "iopub.status.idle": "2022-03-28T22:38:23.508474Z",
          "shell.execute_reply": "2022-03-28T22:38:23.507387Z",
          "shell.execute_reply.started": "2022-03-28T22:38:23.493531Z"
        },
        "id": "zTVlkEfYXKLU",
        "outputId": "167c49bb-b100-4e00-9611-a08f3b8bd175"
      },
      "outputs": [
        {
          "data": {
            "text/html": [
              "\n",
              "  <div id=\"df-6b5e4fb2-3b83-4cee-ba06-30d68fb9a892\">\n",
              "    <div class=\"colab-df-container\">\n",
              "      <div>\n",
              "<style scoped>\n",
              "    .dataframe tbody tr th:only-of-type {\n",
              "        vertical-align: middle;\n",
              "    }\n",
              "\n",
              "    .dataframe tbody tr th {\n",
              "        vertical-align: top;\n",
              "    }\n",
              "\n",
              "    .dataframe thead th {\n",
              "        text-align: right;\n",
              "    }\n",
              "</style>\n",
              "<table border=\"1\" class=\"dataframe\">\n",
              "  <thead>\n",
              "    <tr style=\"text-align: right;\">\n",
              "      <th></th>\n",
              "      <th>pclass</th>\n",
              "      <th>survived</th>\n",
              "      <th>name</th>\n",
              "      <th>sex</th>\n",
              "      <th>age</th>\n",
              "      <th>sibsp</th>\n",
              "      <th>parch</th>\n",
              "      <th>ticket</th>\n",
              "      <th>fare</th>\n",
              "      <th>cabin</th>\n",
              "      <th>embarked</th>\n",
              "      <th>boat</th>\n",
              "      <th>body</th>\n",
              "      <th>home.dest</th>\n",
              "    </tr>\n",
              "  </thead>\n",
              "  <tbody>\n",
              "    <tr>\n",
              "      <th>0</th>\n",
              "      <td>1.0</td>\n",
              "      <td>Yes</td>\n",
              "      <td>Allen, Miss. Elisabeth Walton</td>\n",
              "      <td>female</td>\n",
              "      <td>29.0000</td>\n",
              "      <td>0.0</td>\n",
              "      <td>0.0</td>\n",
              "      <td>24160.0</td>\n",
              "      <td>211.3375</td>\n",
              "      <td>B5</td>\n",
              "      <td>S</td>\n",
              "      <td>2.0</td>\n",
              "      <td>NaN</td>\n",
              "      <td>St Louis, MO</td>\n",
              "    </tr>\n",
              "    <tr>\n",
              "      <th>1</th>\n",
              "      <td>1.0</td>\n",
              "      <td>Yes</td>\n",
              "      <td>Allison, Master. Hudson Trevor</td>\n",
              "      <td>male</td>\n",
              "      <td>0.9167</td>\n",
              "      <td>1.0</td>\n",
              "      <td>2.0</td>\n",
              "      <td>113781.0</td>\n",
              "      <td>151.5500</td>\n",
              "      <td>C22 C26</td>\n",
              "      <td>S</td>\n",
              "      <td>11</td>\n",
              "      <td>NaN</td>\n",
              "      <td>Montreal, PQ / Chesterville, ON</td>\n",
              "    </tr>\n",
              "    <tr>\n",
              "      <th>2</th>\n",
              "      <td>1.0</td>\n",
              "      <td>No</td>\n",
              "      <td>Allison, Miss. Helen Loraine</td>\n",
              "      <td>female</td>\n",
              "      <td>2.0000</td>\n",
              "      <td>1.0</td>\n",
              "      <td>2.0</td>\n",
              "      <td>113781.0</td>\n",
              "      <td>151.5500</td>\n",
              "      <td>C22 C26</td>\n",
              "      <td>S</td>\n",
              "      <td>NaN</td>\n",
              "      <td>NaN</td>\n",
              "      <td>Montreal, PQ / Chesterville, ON</td>\n",
              "    </tr>\n",
              "    <tr>\n",
              "      <th>3</th>\n",
              "      <td>1.0</td>\n",
              "      <td>No</td>\n",
              "      <td>Allison, Mr. Hudson Joshua Creighton</td>\n",
              "      <td>male</td>\n",
              "      <td>30.0000</td>\n",
              "      <td>1.0</td>\n",
              "      <td>2.0</td>\n",
              "      <td>113781.0</td>\n",
              "      <td>151.5500</td>\n",
              "      <td>C22 C26</td>\n",
              "      <td>S</td>\n",
              "      <td>NaN</td>\n",
              "      <td>135.0</td>\n",
              "      <td>Montreal, PQ / Chesterville, ON</td>\n",
              "    </tr>\n",
              "    <tr>\n",
              "      <th>4</th>\n",
              "      <td>1.0</td>\n",
              "      <td>No</td>\n",
              "      <td>Allison, Mrs. Hudson J C (Bessie Waldo Daniels)</td>\n",
              "      <td>female</td>\n",
              "      <td>25.0000</td>\n",
              "      <td>1.0</td>\n",
              "      <td>2.0</td>\n",
              "      <td>113781.0</td>\n",
              "      <td>151.5500</td>\n",
              "      <td>C22 C26</td>\n",
              "      <td>S</td>\n",
              "      <td>NaN</td>\n",
              "      <td>NaN</td>\n",
              "      <td>Montreal, PQ / Chesterville, ON</td>\n",
              "    </tr>\n",
              "  </tbody>\n",
              "</table>\n",
              "</div>\n",
              "      <button class=\"colab-df-convert\" onclick=\"convertToInteractive('df-6b5e4fb2-3b83-4cee-ba06-30d68fb9a892')\"\n",
              "              title=\"Convert this dataframe to an interactive table.\"\n",
              "              style=\"display:none;\">\n",
              "        \n",
              "  <svg xmlns=\"http://www.w3.org/2000/svg\" height=\"24px\"viewBox=\"0 0 24 24\"\n",
              "       width=\"24px\">\n",
              "    <path d=\"M0 0h24v24H0V0z\" fill=\"none\"/>\n",
              "    <path d=\"M18.56 5.44l.94 2.06.94-2.06 2.06-.94-2.06-.94-.94-2.06-.94 2.06-2.06.94zm-11 1L8.5 8.5l.94-2.06 2.06-.94-2.06-.94L8.5 2.5l-.94 2.06-2.06.94zm10 10l.94 2.06.94-2.06 2.06-.94-2.06-.94-.94-2.06-.94 2.06-2.06.94z\"/><path d=\"M17.41 7.96l-1.37-1.37c-.4-.4-.92-.59-1.43-.59-.52 0-1.04.2-1.43.59L10.3 9.45l-7.72 7.72c-.78.78-.78 2.05 0 2.83L4 21.41c.39.39.9.59 1.41.59.51 0 1.02-.2 1.41-.59l7.78-7.78 2.81-2.81c.8-.78.8-2.07 0-2.86zM5.41 20L4 18.59l7.72-7.72 1.47 1.35L5.41 20z\"/>\n",
              "  </svg>\n",
              "      </button>\n",
              "      \n",
              "  <style>\n",
              "    .colab-df-container {\n",
              "      display:flex;\n",
              "      flex-wrap:wrap;\n",
              "      gap: 12px;\n",
              "    }\n",
              "\n",
              "    .colab-df-convert {\n",
              "      background-color: #E8F0FE;\n",
              "      border: none;\n",
              "      border-radius: 50%;\n",
              "      cursor: pointer;\n",
              "      display: none;\n",
              "      fill: #1967D2;\n",
              "      height: 32px;\n",
              "      padding: 0 0 0 0;\n",
              "      width: 32px;\n",
              "    }\n",
              "\n",
              "    .colab-df-convert:hover {\n",
              "      background-color: #E2EBFA;\n",
              "      box-shadow: 0px 1px 2px rgba(60, 64, 67, 0.3), 0px 1px 3px 1px rgba(60, 64, 67, 0.15);\n",
              "      fill: #174EA6;\n",
              "    }\n",
              "\n",
              "    [theme=dark] .colab-df-convert {\n",
              "      background-color: #3B4455;\n",
              "      fill: #D2E3FC;\n",
              "    }\n",
              "\n",
              "    [theme=dark] .colab-df-convert:hover {\n",
              "      background-color: #434B5C;\n",
              "      box-shadow: 0px 1px 3px 1px rgba(0, 0, 0, 0.15);\n",
              "      filter: drop-shadow(0px 1px 2px rgba(0, 0, 0, 0.3));\n",
              "      fill: #FFFFFF;\n",
              "    }\n",
              "  </style>\n",
              "\n",
              "      <script>\n",
              "        const buttonEl =\n",
              "          document.querySelector('#df-6b5e4fb2-3b83-4cee-ba06-30d68fb9a892 button.colab-df-convert');\n",
              "        buttonEl.style.display =\n",
              "          google.colab.kernel.accessAllowed ? 'block' : 'none';\n",
              "\n",
              "        async function convertToInteractive(key) {\n",
              "          const element = document.querySelector('#df-6b5e4fb2-3b83-4cee-ba06-30d68fb9a892');\n",
              "          const dataTable =\n",
              "            await google.colab.kernel.invokeFunction('convertToInteractive',\n",
              "                                                     [key], {});\n",
              "          if (!dataTable) return;\n",
              "\n",
              "          const docLinkHtml = 'Like what you see? Visit the ' +\n",
              "            '<a target=\"_blank\" href=https://colab.research.google.com/notebooks/data_table.ipynb>data table notebook</a>'\n",
              "            + ' to learn more about interactive tables.';\n",
              "          element.innerHTML = '';\n",
              "          dataTable['output_type'] = 'display_data';\n",
              "          await google.colab.output.renderOutput(dataTable, element);\n",
              "          const docLink = document.createElement('div');\n",
              "          docLink.innerHTML = docLinkHtml;\n",
              "          element.appendChild(docLink);\n",
              "        }\n",
              "      </script>\n",
              "    </div>\n",
              "  </div>\n",
              "  "
            ],
            "text/plain": [
              "   pclass survived                                             name     sex  \\\n",
              "0     1.0      Yes                    Allen, Miss. Elisabeth Walton  female   \n",
              "1     1.0      Yes                   Allison, Master. Hudson Trevor    male   \n",
              "2     1.0       No                     Allison, Miss. Helen Loraine  female   \n",
              "3     1.0       No             Allison, Mr. Hudson Joshua Creighton    male   \n",
              "4     1.0       No  Allison, Mrs. Hudson J C (Bessie Waldo Daniels)  female   \n",
              "\n",
              "       age  sibsp  parch    ticket      fare    cabin embarked boat   body  \\\n",
              "0  29.0000    0.0    0.0   24160.0  211.3375       B5        S  2.0    NaN   \n",
              "1   0.9167    1.0    2.0  113781.0  151.5500  C22 C26        S   11    NaN   \n",
              "2   2.0000    1.0    2.0  113781.0  151.5500  C22 C26        S  NaN    NaN   \n",
              "3  30.0000    1.0    2.0  113781.0  151.5500  C22 C26        S  NaN  135.0   \n",
              "4  25.0000    1.0    2.0  113781.0  151.5500  C22 C26        S  NaN    NaN   \n",
              "\n",
              "                         home.dest  \n",
              "0                     St Louis, MO  \n",
              "1  Montreal, PQ / Chesterville, ON  \n",
              "2  Montreal, PQ / Chesterville, ON  \n",
              "3  Montreal, PQ / Chesterville, ON  \n",
              "4  Montreal, PQ / Chesterville, ON  "
            ]
          },
          "execution_count": 49,
          "metadata": {},
          "output_type": "execute_result"
        }
      ],
      "source": [
        "ds_trabajo.loc[:,\"survived\"].replace(to_replace=[0,1],value=[\"No\",\"Yes\"],inplace=True)\n",
        "\n",
        "ds_trabajo.head()"
      ]
    },
    {
      "cell_type": "markdown",
      "metadata": {
        "id": "bMa3fWCHXKLV"
      },
      "source": [
        "### <center> Análisis exploratorio inicial </center>"
      ]
    },
    {
      "cell_type": "code",
      "execution_count": null,
      "metadata": {
        "id": "iBIYsMPg7t8n"
      },
      "outputs": [],
      "source": [
        "import matplotlib.pyplot as plt\n",
        "import seaborn as sns"
      ]
    },
    {
      "cell_type": "markdown",
      "metadata": {
        "execution": {
          "iopub.execute_input": "2022-03-24T03:31:08.44444Z",
          "iopub.status.busy": "2022-03-24T03:31:08.444108Z",
          "iopub.status.idle": "2022-03-24T03:31:08.449307Z",
          "shell.execute_reply": "2022-03-24T03:31:08.448296Z",
          "shell.execute_reply.started": "2022-03-24T03:31:08.444405Z"
        },
        "id": "2J90L4eWXKLV"
      },
      "source": [
        "### <center> Análisis exploratorio de algunas variables de interés </center> "
      ]
    },
    {
      "cell_type": "markdown",
      "metadata": {
        "id": "W1zi69pTXKLV"
      },
      "source": [
        "### Gráfico de barras"
      ]
    },
    {
      "cell_type": "markdown",
      "metadata": {
        "id": "WymjWUB_XKLV"
      },
      "source": [
        "Gráfico de frecuencias para variables cualitativas"
      ]
    },
    {
      "cell_type": "code",
      "execution_count": null,
      "metadata": {
        "colab": {
          "base_uri": "https://localhost:8080/",
          "height": 301
        },
        "execution": {
          "iopub.execute_input": "2022-03-28T22:44:49.174540Z",
          "iopub.status.busy": "2022-03-28T22:44:49.174206Z",
          "iopub.status.idle": "2022-03-28T22:44:49.310866Z",
          "shell.execute_reply": "2022-03-28T22:44:49.310376Z",
          "shell.execute_reply.started": "2022-03-28T22:44:49.174516Z"
        },
        "id": "7Kwc8hbLXKLV",
        "outputId": "eb86e5f4-4e61-4afa-ebcb-cb4a5c70ba58"
      },
      "outputs": [
        {
          "data": {
            "image/png": "[encoded data removed]",
            "text/plain": [
              "<Figure size 432x288 with 1 Axes>"
            ]
          },
          "metadata": {
            "needs_background": "light"
          },
          "output_type": "display_data"
        }
      ],
      "source": [
        "#Gráfico de barras con Pandas\n",
        "\n",
        "grf_ds=ds_trabajo['survived'].value_counts().plot.bar(alpha=0.5 , title=\"Gráfico de barras variable Survived \" , xlabel=\"Superviviente\" , ylabel=\"Frecuencia\")"
      ]
    },
    {
      "cell_type": "code",
      "execution_count": null,
      "metadata": {
        "colab": {
          "base_uri": "https://localhost:8080/",
          "height": 301
        },
        "execution": {
          "iopub.execute_input": "2022-03-28T21:56:14.906598Z",
          "iopub.status.busy": "2022-03-28T21:56:14.905730Z",
          "iopub.status.idle": "2022-03-28T21:56:15.044255Z",
          "shell.execute_reply": "2022-03-28T21:56:15.043240Z",
          "shell.execute_reply.started": "2022-03-28T21:56:14.906567Z"
        },
        "id": "H6k_R5maXKLW",
        "outputId": "92706702-4667-42ed-ac88-0fb2851fe504"
      },
      "outputs": [
        {
          "data": {
            "image/png": "[encoded data removed]",
            "text/plain": [
              "<Figure size 432x288 with 1 Axes>"
            ]
          },
          "metadata": {
            "needs_background": "light"
          },
          "output_type": "display_data"
        }
      ],
      "source": [
        "colores=[(0,0,1),(0,1,0),(1,0,0)]\n",
        "grf=ds_trabajo['pclass'].value_counts().plot.bar(alpha=0.5,color=colores, title=\"Gráfico de barras variable PassengerClass \", xlabel=\"Clase de pasajero\",ylabel=\"Frecuencia\") \n",
        "#plot(kind=\"bar\",alpha=0.5,color=colores)"
      ]
    },
    {
      "cell_type": "code",
      "execution_count": null,
      "metadata": {
        "colab": {
          "base_uri": "https://localhost:8080/",
          "height": 295
        },
        "execution": {
          "iopub.execute_input": "2022-03-28T21:57:19.345817Z",
          "iopub.status.busy": "2022-03-28T21:57:19.345493Z",
          "iopub.status.idle": "2022-03-28T21:57:19.447989Z",
          "shell.execute_reply": "2022-03-28T21:57:19.447567Z",
          "shell.execute_reply.started": "2022-03-28T21:57:19.345794Z"
        },
        "id": "qM3CuluIXKLW",
        "outputId": "dce09d5c-082c-4ed0-b6b6-2046a9ff6e0c"
      },
      "outputs": [
        {
          "data": {
            "image/png": "[encoded data removed]",
            "text/plain": [
              "<Figure size 432x288 with 1 Axes>"
            ]
          },
          "metadata": {
            "needs_background": "light"
          },
          "output_type": "display_data"
        }
      ],
      "source": [
        "#Gráfico de barras con Matplotlib\n",
        "ds_agrupado_Pclass=ds_trabajo.groupby(['pclass']).count()  #Calculo la frecuencia de cada categoría\n",
        "\n",
        "ds_agrupado_Pclass\n",
        "\n",
        "eje_x = ds_agrupado_Pclass.index.tolist()   ## Declaramos valores para el eje x\n",
        "eje_y = ds_agrupado_Pclass['survived'].tolist()  ## Declaramos valores para el eje y\n",
        "\n",
        "plt.locator_params('x', nbins=3)\n",
        "plt.bar(eje_x, eje_y) ## Creamos Gráfica\n",
        "\n",
        "plt.ylabel('Frecuencia') # Leyenda en el eje y\n",
        "plt.xlabel('Clase de pasajero') # Leyenda en el eje x \n",
        "plt.title('Frecuencia de pasajeros en cada categoría') ## Título de Gráfica\n",
        " \n",
        "plt.show() ## Mostramos Gráfica"
      ]
    },
    {
      "cell_type": "code",
      "execution_count": null,
      "metadata": {
        "colab": {
          "base_uri": "https://localhost:8080/",
          "height": 295
        },
        "execution": {
          "iopub.execute_input": "2022-03-28T21:57:30.082082Z",
          "iopub.status.busy": "2022-03-28T21:57:30.081256Z",
          "iopub.status.idle": "2022-03-28T21:57:30.211633Z",
          "shell.execute_reply": "2022-03-28T21:57:30.210737Z",
          "shell.execute_reply.started": "2022-03-28T21:57:30.082054Z"
        },
        "id": "ee_B_z4CXKLW",
        "outputId": "59b00acf-547f-44fd-ac9b-18a916e07106"
      },
      "outputs": [
        {
          "data": {
            "image/png": "[encoded data removed]",
            "text/plain": [
              "<Figure size 432x288 with 1 Axes>"
            ]
          },
          "metadata": {
            "needs_background": "light"
          },
          "output_type": "display_data"
        }
      ],
      "source": [
        "#Gráfico de barras con Seaborn\n",
        "ds_agrupado_Pclass=ds_trabajo.groupby(['pclass']).count()  #Calculo la frecuencia de cada categoría\n",
        "\n",
        "eje_x = ds_agrupado_Pclass.index.tolist()   ## Declaramos valores para el eje x\n",
        "eje_y = ds_agrupado_Pclass['survived'].tolist()  ## Declaramos valores para el eje y\n",
        "\n",
        "sns_bar_plot=sns.barplot(x=eje_x, y=eje_y, data=ds_agrupado_Pclass ,alpha=0.5).set(title=\"Frecuencia de pasajeros en cada categoría\",ylabel='Frecuencia',xlabel='Clase de pasajero')"
      ]
    },
    {
      "cell_type": "code",
      "execution_count": null,
      "metadata": {
        "colab": {
          "base_uri": "https://localhost:8080/",
          "height": 281
        },
        "execution": {
          "iopub.execute_input": "2022-03-28T21:57:32.659498Z",
          "iopub.status.busy": "2022-03-28T21:57:32.658626Z",
          "iopub.status.idle": "2022-03-28T21:57:32.815122Z",
          "shell.execute_reply": "2022-03-28T21:57:32.814593Z",
          "shell.execute_reply.started": "2022-03-28T21:57:32.659433Z"
        },
        "id": "N8-7Kz4kXKLW",
        "outputId": "0e8d2d27-7d9e-41c4-b191-758a4d71d522"
      },
      "outputs": [
        {
          "data": {
            "image/png": "[encoded data removed]",
            "text/plain": [
              "<Figure size 432x288 with 1 Axes>"
            ]
          },
          "metadata": {
            "needs_background": "light"
          },
          "output_type": "display_data"
        }
      ],
      "source": [
        "colores=[(0,0,1),(0,1,0),(1,0,0)]\n",
        "grf=ds_trabajo['pclass'].value_counts().plot.barh(alpha=0.5,color=colores, title=\"Frecuencia de pasajeros en cada categoría\",xlabel='Frecuencia',ylabel='Clase de pasajero')  \n",
        "#plot(kind=\"barh\",alpha=0.5,color=colores)"
      ]
    },
    {
      "cell_type": "code",
      "execution_count": null,
      "metadata": {
        "colab": {
          "base_uri": "https://localhost:8080/",
          "height": 295
        },
        "execution": {
          "iopub.execute_input": "2022-03-28T21:57:40.793790Z",
          "iopub.status.busy": "2022-03-28T21:57:40.791833Z",
          "iopub.status.idle": "2022-03-28T21:57:40.906966Z",
          "shell.execute_reply": "2022-03-28T21:57:40.906482Z",
          "shell.execute_reply.started": "2022-03-28T21:57:40.793751Z"
        },
        "id": "k4fFX9gMXKLW",
        "outputId": "592d25e1-09ed-41f1-86f3-757017f39f3d"
      },
      "outputs": [
        {
          "data": {
            "image/png": "[encoded data removed]",
            "text/plain": [
              "<Figure size 432x288 with 1 Axes>"
            ]
          },
          "metadata": {
            "needs_background": "light"
          },
          "output_type": "display_data"
        }
      ],
      "source": [
        "#MatplotLib\n",
        "ds_agrupado_Pclass=ds_trabajo.groupby(['pclass']).count()  #Calculo la frecuencia de cada categoría\n",
        "\n",
        "eje_x = ds_agrupado_Pclass.index.tolist()   ## Declaramos valores para el eje x\n",
        "eje_y = ds_agrupado_Pclass['survived'].tolist()  ## Declaramos valores para el eje y\n",
        "\n",
        "plt.locator_params('y', nbins=3)\n",
        "plt.barh(eje_x, eje_y) ## Creamos Gráfico\n",
        "\n",
        "plt.ylabel('Clase de pasajero') ## Leyenda en el eje y\n",
        "plt.xlabel('Frecuencia') ## Leyenda en el eje x \n",
        "plt.title('Frecuencia de pasajeros en cada categoría') ## Título de Gráfica\n",
        " \n",
        "plt.show() ## Mostramos Gráfico"
      ]
    },
    {
      "cell_type": "code",
      "execution_count": null,
      "metadata": {
        "colab": {
          "base_uri": "https://localhost:8080/",
          "height": 295
        },
        "execution": {
          "iopub.execute_input": "2022-03-28T21:57:45.501237Z",
          "iopub.status.busy": "2022-03-28T21:57:45.500225Z",
          "iopub.status.idle": "2022-03-28T21:57:45.633892Z",
          "shell.execute_reply": "2022-03-28T21:57:45.632988Z",
          "shell.execute_reply.started": "2022-03-28T21:57:45.501171Z"
        },
        "id": "uZC4-h1yXKLX",
        "outputId": "b1a92261-e06d-47d5-a24a-b2c868b3e783"
      },
      "outputs": [
        {
          "data": {
            "image/png": "[encoded data removed]",
            "text/plain": [
              "<Figure size 432x288 with 1 Axes>"
            ]
          },
          "metadata": {
            "needs_background": "light"
          },
          "output_type": "display_data"
        }
      ],
      "source": [
        "#Seaborn\n",
        "ds_agrupado_Pclass=ds_trabajo.groupby(['pclass']).count()  #Calculo la frecuencia de cada categoría\n",
        "\n",
        "eje_y = ds_agrupado_Pclass.index.tolist()   ## Declaramos valores para el eje x\n",
        "eje_x = ds_agrupado_Pclass['survived'].tolist()  ## Declaramos valores para el eje y\n",
        "\n",
        "sns_bar_plot=sns.barplot(x=eje_x, y=eje_y, data=ds_agrupado_Pclass ,alpha=0.5, orient=\"h\").set(title=\"Frecuencia de pasajeros en cada categoría\",xlabel='Frecuencia',ylabel='Clase de pasajero')"
      ]
    },
    {
      "cell_type": "markdown",
      "metadata": {
        "id": "JiMLhTmMXKLX"
      },
      "source": [
        "### Histogramas"
      ]
    },
    {
      "cell_type": "markdown",
      "metadata": {
        "id": "qiLG6YF_XKLX"
      },
      "source": [
        "Gráfico de frecuencias para variables cuantitativas (en caso de variables cuantitativas se utiliza un gráfico de barras)"
      ]
    },
    {
      "cell_type": "code",
      "execution_count": null,
      "metadata": {
        "colab": {
          "base_uri": "https://localhost:8080/",
          "height": 265
        },
        "execution": {
          "iopub.execute_input": "2022-03-28T22:55:24.076128Z",
          "iopub.status.busy": "2022-03-28T22:55:24.075853Z",
          "iopub.status.idle": "2022-03-28T22:55:24.334154Z",
          "shell.execute_reply": "2022-03-28T22:55:24.333379Z",
          "shell.execute_reply.started": "2022-03-28T22:55:24.076100Z"
        },
        "id": "16mSbV5MXKLX",
        "outputId": "7b18d49d-06a6-407c-dbc4-e8b5c4946b58"
      },
      "outputs": [
        {
          "data": {
            "image/png": "[encoded data removed]",
            "text/plain": [
              "<Figure size 432x288 with 1 Axes>"
            ]
          },
          "metadata": {
            "needs_background": "light"
          },
          "output_type": "display_data"
        }
      ],
      "source": [
        "# Histogramas con Pandas\n",
        "\n",
        "grf=ds_trabajo['age'].hist(alpha=0.5,bins=25)"
      ]
    },
    {
      "cell_type": "code",
      "execution_count": null,
      "metadata": {
        "colab": {
          "base_uri": "https://localhost:8080/",
          "height": 295
        },
        "execution": {
          "iopub.execute_input": "2022-03-28T22:56:22.182192Z",
          "iopub.status.busy": "2022-03-28T22:56:22.181933Z",
          "iopub.status.idle": "2022-03-28T22:56:22.396727Z",
          "shell.execute_reply": "2022-03-28T22:56:22.395954Z",
          "shell.execute_reply.started": "2022-03-28T22:56:22.182166Z"
        },
        "id": "ylNtaO8mXKLX",
        "outputId": "a3f9efb9-22aa-4d5b-c216-6417338447e9"
      },
      "outputs": [
        {
          "data": {
            "image/png": "[encoded data removed]",
            "text/plain": [
              "<Figure size 432x288 with 1 Axes>"
            ]
          },
          "metadata": {
            "needs_background": "light"
          },
          "output_type": "display_data"
        }
      ],
      "source": [
        "# Histogramas con matplotlib\n",
        "\n",
        "plt.title('Distribución de edades de pasajeros')\n",
        "plt.hist(ds_trabajo['age'], bins = 25 , alpha = 0.5)\n",
        "plt.xlabel(\"Edad\")\n",
        "plt.ylabel(\"Frecuencia\")\n",
        "plt.grid(True)\n",
        "plt.show()"
      ]
    },
    {
      "cell_type": "code",
      "execution_count": null,
      "metadata": {
        "colab": {
          "base_uri": "https://localhost:8080/",
          "height": 295
        },
        "execution": {
          "iopub.execute_input": "2022-03-28T21:57:53.667968Z",
          "iopub.status.busy": "2022-03-28T21:57:53.666670Z",
          "iopub.status.idle": "2022-03-28T21:57:53.879386Z",
          "shell.execute_reply": "2022-03-28T21:57:53.878270Z",
          "shell.execute_reply.started": "2022-03-28T21:57:53.667914Z"
        },
        "id": "dbWuXJoNXKLY",
        "outputId": "f852696d-38e6-41b0-90d2-eea62835539d"
      },
      "outputs": [
        {
          "data": {
            "image/png": "[encoded data removed]",
            "text/plain": [
              "<Figure size 432x288 with 1 Axes>"
            ]
          },
          "metadata": {
            "needs_background": "light"
          },
          "output_type": "display_data"
        }
      ],
      "source": [
        "#Histogramas con Seaborn\n",
        "sns_hist=sns.histplot(data=ds_trabajo['age'], alpha = 0.5).set(title=\"Distribución de edades de pasajeros\",xlabel=\"Edad\",ylabel=\"Frecuencia\")"
      ]
    },
    {
      "cell_type": "markdown",
      "metadata": {
        "id": "zqZumYNVXKLY"
      },
      "source": [
        "### Gráficos de densidad"
      ]
    },
    {
      "cell_type": "markdown",
      "metadata": {
        "id": "5gUqvBXRXKLY"
      },
      "source": [
        "Representación de la distribución de una variables <br>\n",
        "(Histograma suavizado)"
      ]
    },
    {
      "cell_type": "code",
      "execution_count": null,
      "metadata": {
        "colab": {
          "base_uri": "https://localhost:8080/",
          "height": 281
        },
        "execution": {
          "iopub.execute_input": "2022-03-28T21:57:56.885444Z",
          "iopub.status.busy": "2022-03-28T21:57:56.884598Z",
          "iopub.status.idle": "2022-03-28T21:57:57.068939Z",
          "shell.execute_reply": "2022-03-28T21:57:57.068118Z",
          "shell.execute_reply.started": "2022-03-28T21:57:56.885394Z"
        },
        "id": "FXoxCzi8XKLY",
        "outputId": "f51160cb-02cf-4074-b064-d94dbb494936"
      },
      "outputs": [
        {
          "data": {
            "image/png": "[encoded data removed]",
            "text/plain": [
              "<Figure size 432x288 with 1 Axes>"
            ]
          },
          "metadata": {
            "needs_background": "light"
          },
          "output_type": "display_data"
        }
      ],
      "source": [
        "# Gráficos de densidad con Pandas\n",
        "grf=ds_trabajo['age'].plot.kde(title=\"Densidad variable edad\",xlabel=\"Edad\",ylabel=\"Densidad\")"
      ]
    },
    {
      "cell_type": "code",
      "execution_count": null,
      "metadata": {
        "colab": {
          "base_uri": "https://localhost:8080/",
          "height": 295
        },
        "execution": {
          "iopub.execute_input": "2022-03-28T21:57:59.178562Z",
          "iopub.status.busy": "2022-03-28T21:57:59.178330Z",
          "iopub.status.idle": "2022-03-28T21:57:59.387020Z",
          "shell.execute_reply": "2022-03-28T21:57:59.386060Z",
          "shell.execute_reply.started": "2022-03-28T21:57:59.178541Z"
        },
        "id": "SBlnsMhcXKLY",
        "outputId": "0e754478-e70e-4f77-a92c-2ff6ca81575f"
      },
      "outputs": [
        {
          "data": {
            "image/png": "[encoded data removed]",
            "text/plain": [
              "<Figure size 432x288 with 1 Axes>"
            ]
          },
          "metadata": {
            "needs_background": "light"
          },
          "output_type": "display_data"
        }
      ],
      "source": [
        "# Gráficos de densidad con Seaborn\n",
        "sns_hist=sns.histplot(data=ds_trabajo['age'], kde=True, alpha = 0.5).set(title=\"Densidad variable edad\",xlabel=\"Edad\",ylabel=\"Densidad\")"
      ]
    },
    {
      "cell_type": "code",
      "execution_count": null,
      "metadata": {
        "colab": {
          "base_uri": "https://localhost:8080/",
          "height": 295
        },
        "execution": {
          "iopub.execute_input": "2022-03-28T21:58:02.037766Z",
          "iopub.status.busy": "2022-03-28T21:58:02.037028Z",
          "iopub.status.idle": "2022-03-28T21:58:02.231261Z",
          "shell.execute_reply": "2022-03-28T21:58:02.230677Z",
          "shell.execute_reply.started": "2022-03-28T21:58:02.037737Z"
        },
        "id": "-SpUuV21XKLY",
        "outputId": "41c55ae2-90f9-465a-ed6a-0a29cf407e80"
      },
      "outputs": [
        {
          "data": {
            "image/png": "[encoded data removed]",
            "text/plain": [
              "<Figure size 432x288 with 1 Axes>"
            ]
          },
          "metadata": {
            "needs_background": "light"
          },
          "output_type": "display_data"
        }
      ],
      "source": [
        "# Gráficos de densidad con Seaborn\n",
        "sns_hist=sns.kdeplot(data=ds_trabajo['age']).set(title=\"Densidad variable edad\",xlabel=\"Edad\",ylabel=\"Densidad\")"
      ]
    },
    {
      "cell_type": "markdown",
      "metadata": {
        "id": "tGq_ROx1XKLZ"
      },
      "source": [
        "### Boxplots"
      ]
    },
    {
      "cell_type": "code",
      "execution_count": null,
      "metadata": {
        "colab": {
          "base_uri": "https://localhost:8080/",
          "height": 281
        },
        "execution": {
          "iopub.execute_input": "2022-03-28T21:58:05.680080Z",
          "iopub.status.busy": "2022-03-28T21:58:05.679183Z",
          "iopub.status.idle": "2022-03-28T21:58:05.837162Z",
          "shell.execute_reply": "2022-03-28T21:58:05.836410Z",
          "shell.execute_reply.started": "2022-03-28T21:58:05.680049Z"
        },
        "id": "fUEb65G9XKLZ",
        "outputId": "a5d40f4c-8b88-4bef-98a7-e9c0620462d2"
      },
      "outputs": [
        {
          "data": {
            "image/png": "[encoded data removed]",
            "text/plain": [
              "<Figure size 432x288 with 1 Axes>"
            ]
          },
          "metadata": {
            "needs_background": "light"
          },
          "output_type": "display_data"
        }
      ],
      "source": [
        "# Boxplots con Pandas\n",
        "grf=ds_trabajo['age'].plot.box(title=\"Boxplot variable Age\",xlabel=\" \",ylabel=\"Edad\")"
      ]
    },
    {
      "cell_type": "code",
      "execution_count": null,
      "metadata": {
        "colab": {
          "base_uri": "https://localhost:8080/",
          "height": 285
        },
        "execution": {
          "iopub.execute_input": "2022-03-28T21:58:21.142457Z",
          "iopub.status.busy": "2022-03-28T21:58:21.141409Z",
          "iopub.status.idle": "2022-03-28T21:58:21.288825Z",
          "shell.execute_reply": "2022-03-28T21:58:21.288248Z",
          "shell.execute_reply.started": "2022-03-28T21:58:21.142404Z"
        },
        "id": "rfv7DJWOXKLZ",
        "outputId": "6e4071b7-c520-4cfe-cc5d-077005083d4d"
      },
      "outputs": [
        {
          "data": {
            "image/png": "[encoded data removed]",
            "text/plain": [
              "<Figure size 432x288 with 1 Axes>"
            ]
          },
          "metadata": {
            "needs_background": "light"
          },
          "output_type": "display_data"
        }
      ],
      "source": [
        "# Boxplots con Seaborn\n",
        "grf=sns.boxplot(y=\"age\", data=ds_trabajo).set(title=\"Boxplot variable edad\",xlabel=\" \",ylabel=\"Edad\")"
      ]
    },
    {
      "cell_type": "code",
      "execution_count": null,
      "metadata": {
        "colab": {
          "base_uri": "https://localhost:8080/",
          "height": 279
        },
        "execution": {
          "iopub.execute_input": "2022-03-28T21:58:23.539738Z",
          "iopub.status.busy": "2022-03-28T21:58:23.538395Z",
          "iopub.status.idle": "2022-03-28T21:58:23.833116Z",
          "shell.execute_reply": "2022-03-28T21:58:23.832334Z",
          "shell.execute_reply.started": "2022-03-28T21:58:23.539625Z"
        },
        "id": "m22QAE0FXKLZ",
        "outputId": "e3c8a2b4-374c-49de-901e-3a7533f311b5"
      },
      "outputs": [
        {
          "data": {
            "image/png": "[encoded data removed]",
            "text/plain": [
              "<Figure size 432x288 with 2 Axes>"
            ]
          },
          "metadata": {
            "needs_background": "light"
          },
          "output_type": "display_data"
        }
      ],
      "source": [
        " \n",
        "# Creamos una figura compuesta de otras dos figuras\n",
        "f, (boxplot, hist) = plt.subplots(2, sharex=True, gridspec_kw={\"height_ratios\": (.2, .8)})\n",
        " \n",
        "# Creamos histograma\n",
        "sns.histplot(data=ds_trabajo['age'], ax=hist).set(xlabel='Edad',ylabel='Frecuencia')\n",
        "#Creamos boxplot\n",
        "sns.boxplot(ds_trabajo['age'], ax=boxplot).set(xlabel=\"Edad\",ylabel=\"\")\n",
        "\n",
        "boxplot.set(xlabel='')\n",
        "plt.show()"
      ]
    },
    {
      "cell_type": "code",
      "execution_count": null,
      "metadata": {
        "colab": {
          "base_uri": "https://localhost:8080/",
          "height": 282
        },
        "execution": {
          "iopub.execute_input": "2022-03-28T21:58:26.605024Z",
          "iopub.status.busy": "2022-03-28T21:58:26.604754Z",
          "iopub.status.idle": "2022-03-28T21:58:26.740489Z",
          "shell.execute_reply": "2022-03-28T21:58:26.739533Z",
          "shell.execute_reply.started": "2022-03-28T21:58:26.604996Z"
        },
        "id": "cc8v_zsmXKLZ",
        "outputId": "51db74db-111e-435a-ee1b-4b7a521c894f"
      },
      "outputs": [
        {
          "data": {
            "text/plain": [
              "<matplotlib.axes._subplots.AxesSubplot at 0x7f22686e9370>"
            ]
          },
          "execution_count": 70,
          "metadata": {},
          "output_type": "execute_result"
        },
        {
          "data": {
            "image/png": "[encoded data removed]",
            "text/plain": [
              "<Figure size 432x288 with 1 Axes>"
            ]
          },
          "metadata": {
            "needs_background": "light"
          },
          "output_type": "display_data"
        }
      ],
      "source": [
        "ds_trabajo['fare'].plot.box()"
      ]
    },
    {
      "cell_type": "code",
      "execution_count": null,
      "metadata": {
        "colab": {
          "base_uri": "https://localhost:8080/",
          "height": 206
        },
        "execution": {
          "iopub.execute_input": "2022-03-28T21:58:28.904886Z",
          "iopub.status.busy": "2022-03-28T21:58:28.904623Z",
          "iopub.status.idle": "2022-03-28T21:58:28.922115Z",
          "shell.execute_reply": "2022-03-28T21:58:28.921242Z",
          "shell.execute_reply.started": "2022-03-28T21:58:28.904858Z"
        },
        "id": "RN0RVYjAXKLa",
        "outputId": "657ba16c-5cea-4f92-94a5-c68bd47c2f3d"
      },
      "outputs": [
        {
          "data": {
            "text/html": [
              "\n",
              "  <div id=\"df-82b4fb31-b9bb-44d6-8168-45e2f11d8fa1\">\n",
              "    <div class=\"colab-df-container\">\n",
              "      <div>\n",
              "<style scoped>\n",
              "    .dataframe tbody tr th:only-of-type {\n",
              "        vertical-align: middle;\n",
              "    }\n",
              "\n",
              "    .dataframe tbody tr th {\n",
              "        vertical-align: top;\n",
              "    }\n",
              "\n",
              "    .dataframe thead th {\n",
              "        text-align: right;\n",
              "    }\n",
              "</style>\n",
              "<table border=\"1\" class=\"dataframe\">\n",
              "  <thead>\n",
              "    <tr style=\"text-align: right;\">\n",
              "      <th></th>\n",
              "      <th>pclass</th>\n",
              "      <th>survived</th>\n",
              "      <th>name</th>\n",
              "      <th>sex</th>\n",
              "      <th>age</th>\n",
              "      <th>sibsp</th>\n",
              "      <th>parch</th>\n",
              "      <th>ticket</th>\n",
              "      <th>fare</th>\n",
              "      <th>cabin</th>\n",
              "      <th>embarked</th>\n",
              "      <th>boat</th>\n",
              "      <th>body</th>\n",
              "      <th>home.dest</th>\n",
              "    </tr>\n",
              "  </thead>\n",
              "  <tbody>\n",
              "    <tr>\n",
              "      <th>0</th>\n",
              "      <td>1.0</td>\n",
              "      <td>Yes</td>\n",
              "      <td>Allen, Miss. Elisabeth Walton</td>\n",
              "      <td>female</td>\n",
              "      <td>29.0000</td>\n",
              "      <td>0.0</td>\n",
              "      <td>0.0</td>\n",
              "      <td>24160.0</td>\n",
              "      <td>211.3375</td>\n",
              "      <td>B5</td>\n",
              "      <td>S</td>\n",
              "      <td>2.0</td>\n",
              "      <td>NaN</td>\n",
              "      <td>St Louis, MO</td>\n",
              "    </tr>\n",
              "    <tr>\n",
              "      <th>1</th>\n",
              "      <td>1.0</td>\n",
              "      <td>Yes</td>\n",
              "      <td>Allison, Master. Hudson Trevor</td>\n",
              "      <td>male</td>\n",
              "      <td>0.9167</td>\n",
              "      <td>1.0</td>\n",
              "      <td>2.0</td>\n",
              "      <td>113781.0</td>\n",
              "      <td>151.5500</td>\n",
              "      <td>C22 C26</td>\n",
              "      <td>S</td>\n",
              "      <td>11</td>\n",
              "      <td>NaN</td>\n",
              "      <td>Montreal, PQ / Chesterville, ON</td>\n",
              "    </tr>\n",
              "    <tr>\n",
              "      <th>2</th>\n",
              "      <td>1.0</td>\n",
              "      <td>No</td>\n",
              "      <td>Allison, Miss. Helen Loraine</td>\n",
              "      <td>female</td>\n",
              "      <td>2.0000</td>\n",
              "      <td>1.0</td>\n",
              "      <td>2.0</td>\n",
              "      <td>113781.0</td>\n",
              "      <td>151.5500</td>\n",
              "      <td>C22 C26</td>\n",
              "      <td>S</td>\n",
              "      <td>NaN</td>\n",
              "      <td>NaN</td>\n",
              "      <td>Montreal, PQ / Chesterville, ON</td>\n",
              "    </tr>\n",
              "    <tr>\n",
              "      <th>3</th>\n",
              "      <td>1.0</td>\n",
              "      <td>No</td>\n",
              "      <td>Allison, Mr. Hudson Joshua Creighton</td>\n",
              "      <td>male</td>\n",
              "      <td>30.0000</td>\n",
              "      <td>1.0</td>\n",
              "      <td>2.0</td>\n",
              "      <td>113781.0</td>\n",
              "      <td>151.5500</td>\n",
              "      <td>C22 C26</td>\n",
              "      <td>S</td>\n",
              "      <td>NaN</td>\n",
              "      <td>135.0</td>\n",
              "      <td>Montreal, PQ / Chesterville, ON</td>\n",
              "    </tr>\n",
              "    <tr>\n",
              "      <th>4</th>\n",
              "      <td>1.0</td>\n",
              "      <td>No</td>\n",
              "      <td>Allison, Mrs. Hudson J C (Bessie Waldo Daniels)</td>\n",
              "      <td>female</td>\n",
              "      <td>25.0000</td>\n",
              "      <td>1.0</td>\n",
              "      <td>2.0</td>\n",
              "      <td>113781.0</td>\n",
              "      <td>151.5500</td>\n",
              "      <td>C22 C26</td>\n",
              "      <td>S</td>\n",
              "      <td>NaN</td>\n",
              "      <td>NaN</td>\n",
              "      <td>Montreal, PQ / Chesterville, ON</td>\n",
              "    </tr>\n",
              "  </tbody>\n",
              "</table>\n",
              "</div>\n",
              "      <button class=\"colab-df-convert\" onclick=\"convertToInteractive('df-82b4fb31-b9bb-44d6-8168-45e2f11d8fa1')\"\n",
              "              title=\"Convert this dataframe to an interactive table.\"\n",
              "              style=\"display:none;\">\n",
              "        \n",
              "  <svg xmlns=\"http://www.w3.org/2000/svg\" height=\"24px\"viewBox=\"0 0 24 24\"\n",
              "       width=\"24px\">\n",
              "    <path d=\"M0 0h24v24H0V0z\" fill=\"none\"/>\n",
              "    <path d=\"M18.56 5.44l.94 2.06.94-2.06 2.06-.94-2.06-.94-.94-2.06-.94 2.06-2.06.94zm-11 1L8.5 8.5l.94-2.06 2.06-.94-2.06-.94L8.5 2.5l-.94 2.06-2.06.94zm10 10l.94 2.06.94-2.06 2.06-.94-2.06-.94-.94-2.06-.94 2.06-2.06.94z\"/><path d=\"M17.41 7.96l-1.37-1.37c-.4-.4-.92-.59-1.43-.59-.52 0-1.04.2-1.43.59L10.3 9.45l-7.72 7.72c-.78.78-.78 2.05 0 2.83L4 21.41c.39.39.9.59 1.41.59.51 0 1.02-.2 1.41-.59l7.78-7.78 2.81-2.81c.8-.78.8-2.07 0-2.86zM5.41 20L4 18.59l7.72-7.72 1.47 1.35L5.41 20z\"/>\n",
              "  </svg>\n",
              "      </button>\n",
              "      \n",
              "  <style>\n",
              "    .colab-df-container {\n",
              "      display:flex;\n",
              "      flex-wrap:wrap;\n",
              "      gap: 12px;\n",
              "    }\n",
              "\n",
              "    .colab-df-convert {\n",
              "      background-color: #E8F0FE;\n",
              "      border: none;\n",
              "      border-radius: 50%;\n",
              "      cursor: pointer;\n",
              "      display: none;\n",
              "      fill: #1967D2;\n",
              "      height: 32px;\n",
              "      padding: 0 0 0 0;\n",
              "      width: 32px;\n",
              "    }\n",
              "\n",
              "    .colab-df-convert:hover {\n",
              "      background-color: #E2EBFA;\n",
              "      box-shadow: 0px 1px 2px rgba(60, 64, 67, 0.3), 0px 1px 3px 1px rgba(60, 64, 67, 0.15);\n",
              "      fill: #174EA6;\n",
              "    }\n",
              "\n",
              "    [theme=dark] .colab-df-convert {\n",
              "      background-color: #3B4455;\n",
              "      fill: #D2E3FC;\n",
              "    }\n",
              "\n",
              "    [theme=dark] .colab-df-convert:hover {\n",
              "      background-color: #434B5C;\n",
              "      box-shadow: 0px 1px 3px 1px rgba(0, 0, 0, 0.15);\n",
              "      filter: drop-shadow(0px 1px 2px rgba(0, 0, 0, 0.3));\n",
              "      fill: #FFFFFF;\n",
              "    }\n",
              "  </style>\n",
              "\n",
              "      <script>\n",
              "        const buttonEl =\n",
              "          document.querySelector('#df-82b4fb31-b9bb-44d6-8168-45e2f11d8fa1 button.colab-df-convert');\n",
              "        buttonEl.style.display =\n",
              "          google.colab.kernel.accessAllowed ? 'block' : 'none';\n",
              "\n",
              "        async function convertToInteractive(key) {\n",
              "          const element = document.querySelector('#df-82b4fb31-b9bb-44d6-8168-45e2f11d8fa1');\n",
              "          const dataTable =\n",
              "            await google.colab.kernel.invokeFunction('convertToInteractive',\n",
              "                                                     [key], {});\n",
              "          if (!dataTable) return;\n",
              "\n",
              "          const docLinkHtml = 'Like what you see? Visit the ' +\n",
              "            '<a target=\"_blank\" href=https://colab.research.google.com/notebooks/data_table.ipynb>data table notebook</a>'\n",
              "            + ' to learn more about interactive tables.';\n",
              "          element.innerHTML = '';\n",
              "          dataTable['output_type'] = 'display_data';\n",
              "          await google.colab.output.renderOutput(dataTable, element);\n",
              "          const docLink = document.createElement('div');\n",
              "          docLink.innerHTML = docLinkHtml;\n",
              "          element.appendChild(docLink);\n",
              "        }\n",
              "      </script>\n",
              "    </div>\n",
              "  </div>\n",
              "  "
            ],
            "text/plain": [
              "   pclass survived                                             name     sex  \\\n",
              "0     1.0      Yes                    Allen, Miss. Elisabeth Walton  female   \n",
              "1     1.0      Yes                   Allison, Master. Hudson Trevor    male   \n",
              "2     1.0       No                     Allison, Miss. Helen Loraine  female   \n",
              "3     1.0       No             Allison, Mr. Hudson Joshua Creighton    male   \n",
              "4     1.0       No  Allison, Mrs. Hudson J C (Bessie Waldo Daniels)  female   \n",
              "\n",
              "       age  sibsp  parch    ticket      fare    cabin embarked boat   body  \\\n",
              "0  29.0000    0.0    0.0   24160.0  211.3375       B5        S  2.0    NaN   \n",
              "1   0.9167    1.0    2.0  113781.0  151.5500  C22 C26        S   11    NaN   \n",
              "2   2.0000    1.0    2.0  113781.0  151.5500  C22 C26        S  NaN    NaN   \n",
              "3  30.0000    1.0    2.0  113781.0  151.5500  C22 C26        S  NaN  135.0   \n",
              "4  25.0000    1.0    2.0  113781.0  151.5500  C22 C26        S  NaN    NaN   \n",
              "\n",
              "                         home.dest  \n",
              "0                     St Louis, MO  \n",
              "1  Montreal, PQ / Chesterville, ON  \n",
              "2  Montreal, PQ / Chesterville, ON  \n",
              "3  Montreal, PQ / Chesterville, ON  \n",
              "4  Montreal, PQ / Chesterville, ON  "
            ]
          },
          "execution_count": 71,
          "metadata": {},
          "output_type": "execute_result"
        }
      ],
      "source": [
        "ds_trabajo.head()"
      ]
    },
    {
      "cell_type": "code",
      "execution_count": null,
      "metadata": {
        "colab": {
          "base_uri": "https://localhost:8080/",
          "height": 295
        },
        "execution": {
          "iopub.execute_input": "2022-03-28T21:58:31.373606Z",
          "iopub.status.busy": "2022-03-28T21:58:31.372626Z",
          "iopub.status.idle": "2022-03-28T21:58:31.525968Z",
          "shell.execute_reply": "2022-03-28T21:58:31.525236Z",
          "shell.execute_reply.started": "2022-03-28T21:58:31.373539Z"
        },
        "id": "f5vvS-ALXKLa",
        "outputId": "73e97c85-8775-4b69-e32a-5d5c6c66ae45"
      },
      "outputs": [
        {
          "data": {
            "image/png": "[encoded data removed]",
            "text/plain": [
              "<Figure size 432x288 with 1 Axes>"
            ]
          },
          "metadata": {
            "needs_background": "light"
          },
          "output_type": "display_data"
        }
      ],
      "source": [
        "#Boxplots con Seaborn\n",
        "sns_boxplot_fare_pclass=sns.boxplot(x=\"pclass\",y=\"fare\", data=ds_trabajo).set(title=\"Boxplot costo del pasaje en función de la clase de pasajero\",xlabel='Clase',ylabel='Tarifa')"
      ]
    },
    {
      "cell_type": "code",
      "execution_count": null,
      "metadata": {
        "colab": {
          "base_uri": "https://localhost:8080/",
          "height": 295
        },
        "execution": {
          "iopub.execute_input": "2022-03-28T21:58:33.705920Z",
          "iopub.status.busy": "2022-03-28T21:58:33.705586Z",
          "iopub.status.idle": "2022-03-28T21:58:33.850496Z",
          "shell.execute_reply": "2022-03-28T21:58:33.849915Z",
          "shell.execute_reply.started": "2022-03-28T21:58:33.705888Z"
        },
        "id": "fCxB4SH-XKLa",
        "outputId": "2c3d8baf-8908-44d0-e301-d10f2d208e9e"
      },
      "outputs": [
        {
          "data": {
            "image/png": "[encoded data removed]",
            "text/plain": [
              "<Figure size 432x288 with 1 Axes>"
            ]
          },
          "metadata": {
            "needs_background": "light"
          },
          "output_type": "display_data"
        }
      ],
      "source": [
        "#Boxplots con Seaborn\n",
        "grf=sns.boxplot(x=\"survived\",y=\"age\", data=ds_trabajo, palette=[\"r\", \"g\"]).set(title=\"Boxplot de edad en función de supervivencia\",xlabel='Superviviente',ylabel='edad')"
      ]
    },
    {
      "cell_type": "code",
      "execution_count": null,
      "metadata": {
        "colab": {
          "base_uri": "https://localhost:8080/",
          "height": 356
        },
        "execution": {
          "iopub.execute_input": "2022-03-28T21:58:35.843137Z",
          "iopub.status.busy": "2022-03-28T21:58:35.842904Z",
          "iopub.status.idle": "2022-03-28T21:58:35.979024Z",
          "shell.execute_reply": "2022-03-28T21:58:35.978547Z",
          "shell.execute_reply.started": "2022-03-28T21:58:35.843113Z"
        },
        "id": "N1tHu4QdXKLa",
        "outputId": "1c22aeff-9221-4ab8-acec-bac478fd5f67"
      },
      "outputs": [
        {
          "name": "stderr",
          "output_type": "stream",
          "text": [
            "/usr/local/lib/python3.8/dist-packages/matplotlib/cbook/__init__.py:1376: VisibleDeprecationWarning: Creating an ndarray from ragged nested sequences (which is a list-or-tuple of lists-or-tuples-or ndarrays with different lengths or shapes) is deprecated. If you meant to do this, you must specify 'dtype=object' when creating the ndarray.\n",
            "  X = np.atleast_1d(X.T if isinstance(X, np.ndarray) else np.asarray(X))\n"
          ]
        },
        {
          "data": {
            "image/png": "[encoded data removed]",
            "text/plain": [
              "<Figure size 432x288 with 1 Axes>"
            ]
          },
          "metadata": {
            "needs_background": "light"
          },
          "output_type": "display_data"
        }
      ],
      "source": [
        "#Boxplots con Pandas\n",
        "grf=ds_trabajo[[\"survived\",\"fare\"]].boxplot(by=\"survived\")"
      ]
    },
    {
      "cell_type": "code",
      "execution_count": null,
      "metadata": {
        "colab": {
          "base_uri": "https://localhost:8080/",
          "height": 295
        },
        "execution": {
          "iopub.execute_input": "2022-03-28T21:58:38.185602Z",
          "iopub.status.busy": "2022-03-28T21:58:38.185273Z",
          "iopub.status.idle": "2022-03-28T21:58:38.323971Z",
          "shell.execute_reply": "2022-03-28T21:58:38.323412Z",
          "shell.execute_reply.started": "2022-03-28T21:58:38.185579Z"
        },
        "id": "gEn0uaATXKLa",
        "outputId": "2259b95b-f830-4ba2-91ae-0d349164b188"
      },
      "outputs": [
        {
          "data": {
            "image/png": "[encoded data removed]",
            "text/plain": [
              "<Figure size 432x288 with 1 Axes>"
            ]
          },
          "metadata": {
            "needs_background": "light"
          },
          "output_type": "display_data"
        }
      ],
      "source": [
        "#Boxplots con Seaborn\n",
        "sns_boxplot_fare_pclass=sns.boxplot(x=\"survived\",y=\"fare\", data=ds_trabajo, palette=[\"r\", \"g\"]).set(title=\"Boxplot Fare en función de supervivencia\",xlabel='Superviviente',ylabel='Tarifa')"
      ]
    },
    {
      "cell_type": "markdown",
      "metadata": {
        "id": "rzxeeNvUXKLb"
      },
      "source": [
        "### Gráficos de a pares"
      ]
    },
    {
      "cell_type": "code",
      "execution_count": null,
      "metadata": {
        "colab": {
          "base_uri": "https://localhost:8080/",
          "height": 287
        },
        "execution": {
          "iopub.execute_input": "2022-03-28T21:58:50.106825Z",
          "iopub.status.busy": "2022-03-28T21:58:50.106603Z",
          "iopub.status.idle": "2022-03-28T21:58:51.436941Z",
          "shell.execute_reply": "2022-03-28T21:58:51.432781Z",
          "shell.execute_reply.started": "2022-03-28T21:58:50.106801Z"
        },
        "id": "tg9jLSXuXKLb",
        "outputId": "379487ba-dea3-435e-ca2f-d5d487005cd9"
      },
      "outputs": [
        {
          "data": {
            "image/png": "[encoded data removed]",
            "text/plain": [
              "<Figure size 432x288 with 36 Axes>"
            ]
          },
          "metadata": {
            "needs_background": "light"
          },
          "output_type": "display_data"
        }
      ],
      "source": [
        "#Gráficos de a pares de variables con Pandas\n",
        "\n",
        "from pandas.plotting import scatter_matrix\n",
        "\n",
        "columns=ds_trabajo.columns.tolist()\n",
        "columns.remove('survived')\n",
        "ds_scatter_matrix=ds_trabajo[columns].copy()\n",
        "scatter_matrix(ds_scatter_matrix, alpha=0.2);"
      ]
    },
    {
      "cell_type": "code",
      "execution_count": null,
      "metadata": {
        "colab": {
          "base_uri": "https://localhost:8080/",
          "height": 1000
        },
        "execution": {
          "iopub.execute_input": "2022-03-28T21:59:06.367522Z",
          "iopub.status.busy": "2022-03-28T21:59:06.367262Z",
          "iopub.status.idle": "2022-03-28T21:59:12.604642Z",
          "shell.execute_reply": "2022-03-28T21:59:12.603416Z",
          "shell.execute_reply.started": "2022-03-28T21:59:06.367498Z"
        },
        "id": "DHSQHXNUXKLb",
        "outputId": "b5dbe2b5-0618-4083-cf06-725e83186c16"
      },
      "outputs": [
        {
          "data": {
            "image/png": "[encoded data removed]",
            "text/plain": [
              "<Figure size 1132x1080 with 42 Axes>"
            ]
          },
          "metadata": {
            "needs_background": "light"
          },
          "output_type": "display_data"
        }
      ],
      "source": [
        "#Gráficos de a pares de variables con Seaborn\n",
        "columns=ds_trabajo.columns.tolist()\n",
        "#columns.remove('PassengerId')\n",
        "ds_pariplot=ds_trabajo[columns].copy()\n",
        "graf_pairplot=sns.pairplot(data=ds_pariplot, hue=\"survived\", palette=[\"r\", \"g\"])"
      ]
    },
    {
      "cell_type": "markdown",
      "metadata": {
        "id": "0DLMo6bxXKLb"
      },
      "source": [
        "### Dispersogramas"
      ]
    },
    {
      "cell_type": "code",
      "execution_count": null,
      "metadata": {
        "_kg_hide-input": true,
        "colab": {
          "base_uri": "https://localhost:8080/",
          "height": 295
        },
        "execution": {
          "iopub.execute_input": "2022-03-28T21:59:17.050857Z",
          "iopub.status.busy": "2022-03-28T21:59:17.048687Z",
          "iopub.status.idle": "2022-03-28T21:59:17.241271Z",
          "shell.execute_reply": "2022-03-28T21:59:17.240414Z",
          "shell.execute_reply.started": "2022-03-28T21:59:17.050805Z"
        },
        "id": "Yt4sV5v7XKLb",
        "outputId": "c85f2dbe-213c-41e4-f7f3-cba07ee53d01"
      },
      "outputs": [
        {
          "data": {
            "image/png": "[encoded data removed]",
            "text/plain": [
              "<Figure size 432x288 with 1 Axes>"
            ]
          },
          "metadata": {
            "needs_background": "light"
          },
          "output_type": "display_data"
        }
      ],
      "source": [
        "#Dispersograma con Pandas\n",
        "#ds_trabajo.plot.scatter(x=\"Age\", y=\"Fare\", c=\"Survived\", cmap=\"viridis\", s=50);\n",
        "\n",
        "col = ds_trabajo.survived.map({\"No\":'r', \"Yes\":'g'})\n",
        "\n",
        "grf=ds_trabajo.plot.scatter(x=\"age\", y=\"fare\", c=col, s=10).set(title=\"Dispersograma edad vs tarifa\",xlabel='Edad',ylabel='Tarifa') \n",
        "#c=color s=size"
      ]
    },
    {
      "cell_type": "code",
      "execution_count": null,
      "metadata": {
        "colab": {
          "base_uri": "https://localhost:8080/",
          "height": 385
        },
        "execution": {
          "iopub.execute_input": "2022-03-28T21:59:19.906371Z",
          "iopub.status.busy": "2022-03-28T21:59:19.906114Z",
          "iopub.status.idle": "2022-03-28T21:59:20.298061Z",
          "shell.execute_reply": "2022-03-28T21:59:20.297373Z",
          "shell.execute_reply.started": "2022-03-28T21:59:19.906329Z"
        },
        "id": "dHwb1_V5XKLc",
        "outputId": "6dcad6e5-24c1-4aff-a03f-c1f1cff15628"
      },
      "outputs": [
        {
          "data": {
            "image/png": "[encoded data removed]",
            "text/plain": [
              "<Figure size 412x360 with 1 Axes>"
            ]
          },
          "metadata": {
            "needs_background": "light"
          },
          "output_type": "display_data"
        }
      ],
      "source": [
        "#Dispersograma con Seaborn\n",
        "graf_relplot=sns.relplot(data=ds_trabajo,x=\"age\", y=\"fare\", hue=\"survived\",palette=[\"g\", \"r\"]).set(title=\"Tarifa vs edad\",xlabel='Edad',ylabel='Tarifa')"
      ]
    },
    {
      "cell_type": "markdown",
      "metadata": {
        "id": "HB7a8bpTXKLc"
      },
      "source": [
        "#### Gráfico de violín"
      ]
    },
    {
      "cell_type": "markdown",
      "metadata": {
        "id": "eJ3N1mxrXKLc"
      },
      "source": [
        "###### Muestra la distribución de una variable cuantitativa condicionada a distintos valores de una variable categórica, de forma que las distribuciones pueden ser comparadas de forma visual rápidamente."
      ]
    },
    {
      "cell_type": "code",
      "execution_count": null,
      "metadata": {
        "colab": {
          "base_uri": "https://localhost:8080/",
          "height": 295
        },
        "execution": {
          "iopub.execute_input": "2022-03-28T21:59:23.022056Z",
          "iopub.status.busy": "2022-03-28T21:59:23.021310Z",
          "iopub.status.idle": "2022-03-28T21:59:23.193122Z",
          "shell.execute_reply": "2022-03-28T21:59:23.192244Z",
          "shell.execute_reply.started": "2022-03-28T21:59:23.022019Z"
        },
        "id": "64q0xqPPXKLc",
        "outputId": "6b84f17c-2147-49a5-baa0-f99c3c746efa"
      },
      "outputs": [
        {
          "data": {
            "image/png": "[encoded data removed]",
            "text/plain": [
              "<Figure size 432x288 with 1 Axes>"
            ]
          },
          "metadata": {
            "needs_background": "light"
          },
          "output_type": "display_data"
        }
      ],
      "source": [
        "#Gráfico de violín Seaborn\n",
        "ax = sns.violinplot(x=\"survived\", y=\"fare\", data=ds_trabajo,palette=[\"g\", \"r\"]).set(title=\"Gráfico de violín tarifa vs edad\",xlabel='survived',ylabel='fare') "
      ]
    },
    {
      "cell_type": "markdown",
      "metadata": {
        "id": "sSMWH9meXKLc"
      },
      "source": [
        "#### Heatmap"
      ]
    },
    {
      "cell_type": "code",
      "execution_count": null,
      "metadata": {
        "colab": {
          "base_uri": "https://localhost:8080/",
          "height": 279
        },
        "execution": {
          "iopub.execute_input": "2022-03-28T21:59:25.519006Z",
          "iopub.status.busy": "2022-03-28T21:59:25.518107Z",
          "iopub.status.idle": "2022-03-28T21:59:25.703919Z",
          "shell.execute_reply": "2022-03-28T21:59:25.703315Z",
          "shell.execute_reply.started": "2022-03-28T21:59:25.518947Z"
        },
        "id": "KKF823Y1XKLd",
        "outputId": "a318c9f9-d798-4315-ff44-994e700f95e1"
      },
      "outputs": [
        {
          "data": {
            "image/png": "[encoded data removed]",
            "text/plain": [
              "<Figure size 432x288 with 2 Axes>"
            ]
          },
          "metadata": {
            "needs_background": "light"
          },
          "output_type": "display_data"
        }
      ],
      "source": [
        "tabla=pd.crosstab(ds_trabajo['pclass'], ds_trabajo['survived'])\n",
        "\n",
        "grf=sns.heatmap(tabla,annot=True)"
      ]
    },
    {
      "cell_type": "code",
      "execution_count": null,
      "metadata": {
        "colab": {
          "base_uri": "https://localhost:8080/",
          "height": 279
        },
        "execution": {
          "iopub.execute_input": "2022-03-28T21:59:28.087698Z",
          "iopub.status.busy": "2022-03-28T21:59:28.087311Z",
          "iopub.status.idle": "2022-03-28T21:59:28.284174Z",
          "shell.execute_reply": "2022-03-28T21:59:28.283025Z",
          "shell.execute_reply.started": "2022-03-28T21:59:28.087663Z"
        },
        "id": "nKZFiBwjXKLd",
        "outputId": "fcc4c813-37d1-43be-810f-a96879055ea7"
      },
      "outputs": [
        {
          "data": {
            "image/png": "[encoded data removed]",
            "text/plain": [
              "<Figure size 432x288 with 2 Axes>"
            ]
          },
          "metadata": {
            "needs_background": "light"
          },
          "output_type": "display_data"
        }
      ],
      "source": [
        "tabla=pd.crosstab(ds_trabajo['embarked'], ds_trabajo['survived'])\n",
        "\n",
        "grf=sns.heatmap(tabla,annot=True)"
      ]
    },
    {
      "cell_type": "code",
      "execution_count": null,
      "metadata": {
        "colab": {
          "base_uri": "https://localhost:8080/",
          "height": 279
        },
        "execution": {
          "iopub.execute_input": "2022-03-28T21:59:30.556413Z",
          "iopub.status.busy": "2022-03-28T21:59:30.556176Z",
          "iopub.status.idle": "2022-03-28T21:59:30.767287Z",
          "shell.execute_reply": "2022-03-28T21:59:30.766721Z",
          "shell.execute_reply.started": "2022-03-28T21:59:30.556388Z"
        },
        "id": "YO8zcZ5mXKLd",
        "outputId": "f61a2f1d-f42c-469e-fbad-bd520b196de0"
      },
      "outputs": [
        {
          "data": {
            "image/png": "[encoded data removed]",
            "text/plain": [
              "<Figure size 432x288 with 2 Axes>"
            ]
          },
          "metadata": {
            "needs_background": "light"
          },
          "output_type": "display_data"
        }
      ],
      "source": [
        "tabla=pd.crosstab(ds_trabajo['embarked'], ds_trabajo['pclass'])\n",
        "\n",
        "grf=sns.heatmap(tabla,annot=True)"
      ]
    }
  ],
  "metadata": {
    "colab": {
      "provenance": [],
      "include_colab_link": true
    },
    "kernelspec": {
      "display_name": "Python 3",
      "language": "python",
      "name": "python3"
    },
    "language_info": {
      "codemirror_mode": {
        "name": "ipython",
        "version": 3
      },
      "file_extension": ".py",
      "mimetype": "text/x-python",
      "name": "python",
      "nbconvert_exporter": "python",
      "pygments_lexer": "ipython3",
      "version": "3.11.0 (main, Oct 24 2022, 18:26:48) [MSC v.1933 64 bit (AMD64)]"
    },
    "vscode": {
      "interpreter": {
        "hash": "cd630acd3fbadcb2fe87dabf0c76100e6d1c3d96744d8621a437a4590f09a0f3"
      }
    }
  },
  "nbformat": 4,
  "nbformat_minor": 0
}
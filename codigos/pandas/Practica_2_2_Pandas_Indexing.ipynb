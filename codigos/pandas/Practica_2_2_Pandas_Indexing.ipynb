{
  "cells": [
    {
      "cell_type": "markdown",
      "metadata": {
        "id": "view-in-github",
        "colab_type": "text"
      },
      "source": [
        "<a href=\"https://colab.research.google.com/github/mateosuster/pythonungs/blob/master/codigos/pandas/Practica_2_2_Pandas_Indexing.ipynb\" target=\"_parent\"><img src=\"https://colab.research.google.com/assets/colab-badge.svg\" alt=\"Open In Colab\"/></a>"
      ]
    },
    {
      "cell_type": "markdown",
      "metadata": {
        "id": "AleuxzX735GY"
      },
      "source": [
        "# Indexación y Agregación \n",
        "\n",
        "Tabla de Contenidos\n",
        "\n",
        "    I. Índices\n",
        "    II. Exploración\n",
        "        I. Filtrando un DataFrame (Indexing)\n",
        "            I. Boolean Indexing\n",
        "                I. Máscara booleana\n",
        "                II. Máscara booleana con muchas condiciones\n",
        "            II. Boolean indexing con query()\n",
        "            III. Fancy Indexing\n",
        "        II. Funciones de Agregación\n",
        "    IV. Otros análisis descriptivos\n",
        "        III. Ordenar por columnas y limitar la cantidad de resultados\n",
        "    V. Anexo: volviendo al tema de la vectorización"
      ]
    },
    {
      "cell_type": "markdown",
      "metadata": {
        "id": "hlrhI8jMbgru"
      },
      "source": [
        "## Índices\n",
        "\n",
        "Los índices acompañan a las series y a los Data Frames. Son conjuntos ordenados e inmutables de elementos. Volvamos a levantar el dataset de salarios de funcionarios como ejemplo."
      ]
    },
    {
      "cell_type": "code",
      "execution_count": null,
      "metadata": {
        "id": "8w8jo4VBv0xh"
      },
      "outputs": [],
      "source": [
        "# Siempre al principio, importamos las librerías.\n",
        "import numpy as np \n",
        "import pandas as pd\n",
        "\n",
        "df = pd.read_csv('http://cdn.buenosaires.gob.ar/datosabiertos/datasets/sueldo-funcionarios/sueldo_funcionarios_2019.csv')"
      ]
    },
    {
      "cell_type": "code",
      "execution_count": null,
      "metadata": {
        "id": "gvHh-dPabgru"
      },
      "outputs": [],
      "source": [
        "df.index"
      ]
    },
    {
      "cell_type": "code",
      "execution_count": null,
      "metadata": {
        "id": "6w3SlXG1AXxP"
      },
      "outputs": [],
      "source": [
        "df.shape"
      ]
    },
    {
      "cell_type": "code",
      "execution_count": null,
      "metadata": {
        "id": "ScNFGLnZbgru"
      },
      "outputs": [],
      "source": [
        "df.columns"
      ]
    },
    {
      "cell_type": "code",
      "execution_count": null,
      "metadata": {
        "id": "7yBgUhUFbgrv"
      },
      "outputs": [],
      "source": [
        "ind = pd.Index([2, 3, 5, 7, 11])\n",
        "ind"
      ]
    },
    {
      "cell_type": "code",
      "execution_count": null,
      "metadata": {
        "id": "EOtH7ZNNbgrv"
      },
      "outputs": [],
      "source": [
        "ind[1] = 0"
      ]
    },
    {
      "cell_type": "markdown",
      "metadata": {
        "id": "lIxH-aIDbgrv"
      },
      "source": [
        "### Ejercicio Titanic exploratorio\n",
        "Exploren el dataset público del Titanic que se encuentra en la carpeta de Drive (también presente en la siguiente [url](https://drive.google.com/uc?export=download&id=1gx8PkHLMIPJQtsETT8yRV4C9UfgmKqV4)). ¿De qué se trata? ¿Cuántas filas tiene? ¿Cuántas columnas? Al leerlo, pueden almacenarlo en la variable df_titanic. "
      ]
    },
    {
      "cell_type": "code",
      "execution_count": null,
      "metadata": {
        "id": "6DxC0jcdbgrv"
      },
      "outputs": [],
      "source": []
    },
    {
      "cell_type": "code",
      "execution_count": null,
      "metadata": {
        "id": "xY0o7rzXbgrw"
      },
      "outputs": [],
      "source": []
    },
    {
      "cell_type": "code",
      "execution_count": null,
      "metadata": {
        "id": "f2YL17MTbgrw"
      },
      "outputs": [],
      "source": []
    },
    {
      "cell_type": "markdown",
      "metadata": {
        "id": "nVU-KyNJyTy0"
      },
      "source": [
        "## Filtrando un DataFrame (Indexing)\n",
        "\n",
        "Hay muchas técnicas para filtrar un DataFrame. Podemos querer filtrar por columnas o por filas, por posición o por nombre. También podemos querer filtrar por condiciones que se cumplen o no. Cuando no queremos filtrar sobre una dimensión (filas o columnas) usamos \":\" para seleccionar todo.\n",
        "\n",
        "Existe un método muy práctico con el cual podemos acceder a filas y columnas que se realiza mediante las instrucciones **`.iloc[]`** (utilizando el número de índice/posición) o usando **`.loc[]`** (mediante el nombre del índice o columna).\n",
        "\n",
        "\n",
        "\n",
        "```\n",
        "#con .iloc (selección implícita)\n",
        "NombreDataFrame.iloc[numero_filas, numero_columnas]\n",
        "\n",
        "#con .loc (selección explícita)\n",
        "NombreDataFrame.loc[nombre_indice, nombre_columnas]\n",
        "```\n",
        "\n",
        "![](https://c8j9w8r3.rocketcdn.me/wp-content/uploads/2016/10/Pandas-selections-and-indexing.png)"
      ]
    },
    {
      "cell_type": "markdown",
      "metadata": {
        "id": "JjRbNTp-JLJI"
      },
      "source": [
        "En resumen, el acceso a los datos de un DataFrame se puede hacer a través de posiciones o través de los nombres de las filas y columnas.\n",
        "\n",
        "*Accesos mediante posiciones*\n",
        "\n",
        "* df.iloc[i, j] : Devuelve el elemento que se encuentra en la fila i y la columna j del DataFrame df. Pueden indicarse secuencias de índices para obtener partes del DataFrame.\n",
        "* df.iloc[filas, columnas] : Devuelve un DataFrame con los elementos de las filas de la lista filas y de las columnas de la lista columnas.\n",
        "* df.iloc[i] : Devuelve una serie con los elementos de la fila i del DataFrame df.\n",
        "\n",
        "*Acceso a los elementos mediante nombres*\n",
        "\n",
        "* df.loc[fila, columna] : Devuelve el elemento que se encuentra en la fila con nombre fila y la columna de con nombre columna del DataFrame df.\n",
        "* df.loc[filas, columnas] : Devuelve un DataFrame con los elemento que se encuentra en las filas con los nombres de la lista filas y las columnas con los nombres de la lista columnas del DataFrame df.\n",
        "* df[columna] : Devuelve una serie con los elementos de la columna de nombre columna del DataFrame df.\n",
        "* df.columna : Devuelve una serie con los elementos de la columna de nombre columna del DataFrame df. Es similar al método anterior pero sólo funciona cuando el nombre de la columna no tiene espacios en blanco.\n",
        "\n",
        "Como vemos, cuando realizamos una selección de atributos sin especificar el método (loc o iloc), pandas asume que el tipo de indexing es loc y que el filtro es sobre las columnas y no las filas"
      ]
    },
    {
      "cell_type": "code",
      "execution_count": null,
      "metadata": {
        "id": "zW0Hp0EaJLJI"
      },
      "outputs": [],
      "source": [
        "df['funcionario_apellido']"
      ]
    },
    {
      "cell_type": "code",
      "execution_count": null,
      "metadata": {
        "id": "bh26uyG2JLJJ"
      },
      "outputs": [],
      "source": [
        "df.funcionario_apellido"
      ]
    },
    {
      "cell_type": "code",
      "execution_count": null,
      "metadata": {
        "id": "QPAuy-2vJLJJ"
      },
      "outputs": [],
      "source": [
        "df.loc[1, 'funcionario_apellido']"
      ]
    },
    {
      "cell_type": "code",
      "execution_count": null,
      "metadata": {
        "id": "999OSAPcJLJJ"
      },
      "outputs": [],
      "source": [
        "df.iloc[0]"
      ]
    },
    {
      "cell_type": "code",
      "execution_count": null,
      "metadata": {
        "id": "y5urb00dJLJJ"
      },
      "outputs": [],
      "source": [
        "df.iloc[0,0]"
      ]
    },
    {
      "cell_type": "markdown",
      "metadata": {
        "id": "fGgxMGYYbgrw"
      },
      "source": [
        "### Boolean Indexing\n",
        "\n",
        "Supongamos que queremos tomar el dataset de funcionarios y quedarnos únicamente con los que pertenecen al Ministerio de Cultura.\n",
        "Para eso lo que hacemos es indexar al DataFrame por una condición booleana. Eso implica que debemos crear una serie compuesta por valores True y False para aplicarla como índice a las filas.\n",
        "\n",
        "Los operadores que sirven para evaluar condiciones sobre las series son:\n",
        "\n",
        "\n",
        "| S  | Descripción   | S  | Descripción   |   |\n",
        "|----|---------------|----|---------------|---|\n",
        "| >= | Mayor o Igual | <= | Menor o Igual |   |\n",
        "| == | Igual         | != | Distinto      |   |\n",
        "| >  | Mayor         | <  | Menor         |   |"
      ]
    },
    {
      "cell_type": "markdown",
      "metadata": {
        "id": "bYA8IIE_bgrw"
      },
      "source": [
        "#### Máscara booleana\n",
        "\n",
        "Veamos lo que pasa cuando le aplicamos a una serie una condición que devuelve un booleano"
      ]
    },
    {
      "cell_type": "code",
      "execution_count": null,
      "metadata": {
        "id": "msAO-kbVbgrx"
      },
      "outputs": [],
      "source": [
        "df['mes'] != 2"
      ]
    },
    {
      "cell_type": "markdown",
      "metadata": {
        "id": "mHS7hDQVbgrx"
      },
      "source": [
        "Nos devuelve una serie de la misma longitud que la original y que contiene sólo valores True o False. "
      ]
    },
    {
      "cell_type": "code",
      "execution_count": null,
      "metadata": {
        "id": "ES0QPzOzbgrx"
      },
      "outputs": [],
      "source": [
        "mascara_booleana = df['mes'] != 2"
      ]
    },
    {
      "cell_type": "code",
      "execution_count": null,
      "metadata": {
        "id": "vGFH4L_Xbgry"
      },
      "outputs": [],
      "source": [
        "type(mascara_booleana)"
      ]
    },
    {
      "cell_type": "code",
      "execution_count": null,
      "metadata": {
        "id": "Yd6A69rlbgry"
      },
      "outputs": [],
      "source": [
        "mascara_booleana.shape"
      ]
    },
    {
      "cell_type": "code",
      "execution_count": null,
      "metadata": {
        "id": "Th7GR2OMbgry"
      },
      "outputs": [],
      "source": [
        "mascara_booleana.dtype"
      ]
    },
    {
      "cell_type": "markdown",
      "metadata": {
        "id": "GISuzHGdbgry"
      },
      "source": [
        "Ahora seleccionemos entonces, los registros que corresponden al Ministerio de Cultura."
      ]
    },
    {
      "cell_type": "code",
      "execution_count": null,
      "metadata": {
        "id": "3pDK1b5Ubgrz"
      },
      "outputs": [],
      "source": [
        "df_min_cul = df.loc[df['reparticion'] == 'Ministerio de Cultura',:]"
      ]
    },
    {
      "cell_type": "code",
      "execution_count": null,
      "metadata": {
        "id": "M7UTc7rxbgrz"
      },
      "outputs": [],
      "source": [
        "# Veamos la cantidad de casos\n",
        "df_min_cul.shape"
      ]
    },
    {
      "cell_type": "markdown",
      "metadata": {
        "id": "6pwJlhaObgr0"
      },
      "source": [
        "Algo que puede llegar a confundir sobre el Indexing en Pandas es que en algunos casos se puede ser menos explícito a la hora de filtrar. Por ejemplo si ponemos una condición Booleana, pandas asume que el tipo de indexing es loc y que el filtro es sobre las filas y no sobre las columnas. Veamos un ejemplo con el mismo resultado:\n"
      ]
    },
    {
      "cell_type": "code",
      "execution_count": null,
      "metadata": {
        "id": "piT3y3NPbgr1"
      },
      "outputs": [],
      "source": [
        "#mismo resultado, pero sin .loc\n",
        "df_min_cul = df[df['reparticion'] == 'Ministerio de Cultura']\n",
        "df_min_cul.shape"
      ]
    },
    {
      "cell_type": "markdown",
      "metadata": {
        "id": "BHbds_hZbgr1"
      },
      "source": [
        "Probemos con otra condición.\n",
        "\n",
        "### Ejercicio sueldos mitad de año\n",
        "\n",
        "Traer todos los sueldos de la segunda mitad del año..."
      ]
    },
    {
      "cell_type": "code",
      "execution_count": null,
      "metadata": {
        "id": "xW7x-hiL5dgD"
      },
      "outputs": [],
      "source": []
    },
    {
      "cell_type": "markdown",
      "metadata": {
        "id": "nXldedjBbgr2"
      },
      "source": [
        "### Ejercicio Titanic sobrevientes\n",
        "Volviendo al DataFrame del Titanic ¿Cuántos pasajeros sobrevivieron y cuántos no? ¿Cuántos eran mayores de 70 años?"
      ]
    },
    {
      "cell_type": "code",
      "execution_count": null,
      "metadata": {
        "id": "UhXVRAHmbgr2"
      },
      "outputs": [],
      "source": []
    },
    {
      "cell_type": "code",
      "execution_count": null,
      "metadata": {
        "id": "6dePEW1q-iJu"
      },
      "outputs": [],
      "source": []
    },
    {
      "cell_type": "markdown",
      "metadata": {
        "id": "8xPqIKXzbgr2"
      },
      "source": [
        "#### Máscara booleana con muchas condiciones\n",
        "\n",
        "Ahora tratemos de filtrar el dataset por dos condiciones: por ejemplo tomar los sueldos de abril de la secretaria de innovación. \n",
        "Para eso tenemos que combinar dos máscaras booleanas con una condición.\n",
        "\n",
        "| S | Descripcion        | S  | Descripcion |   |\n",
        "|---|--------------------|----|-------------|---|\n",
        "| & | AND (y)            | \\| | OR (o)      |   |\n",
        "| ^ | XOR (o exclusivo)  | ~  | NOT (no)    |   |\n",
        "\n",
        "\n",
        "\n",
        "Por ejemplo: seleccionemos los casos donde o bien se haya cobrado aguinaldo o bien el salario total haya sido mayor que 240.000, pero no las dos cosas. \n"
      ]
    },
    {
      "cell_type": "code",
      "execution_count": null,
      "metadata": {
        "id": "td2ToapWbgr3"
      },
      "outputs": [],
      "source": [
        "df[(df['total_salario_bruto_i_+_ii'] > 240000) ^ (df['aguinaldo_ii'] > 0)]"
      ]
    },
    {
      "cell_type": "markdown",
      "metadata": {
        "id": "SOJxVc5Bbgr3"
      },
      "source": [
        "Ahora veamos los sueldos de febrero de la SECR Ciencia, Tecnologia e Innovacion."
      ]
    },
    {
      "cell_type": "code",
      "execution_count": null,
      "metadata": {
        "id": "OWOkINiZbgr3"
      },
      "outputs": [],
      "source": [
        "df[(df['mes'] == 2) & (df['reparticion'] == 'SECR Ciencia, Tecnologia e Innovacion')]"
      ]
    },
    {
      "cell_type": "markdown",
      "metadata": {
        "id": "Jr4QHKBUbgr3"
      },
      "source": [
        "### Boolean indexing con query()\n",
        "\n",
        "La sintaxis que se utiliza para hacer Boolean indexing es un poco repetitiva. Noten que filtrar (aún en su expresión más corta sin loc ni especificar filas o columnas) implica ESCRIBIR DOS VECES el nombre del dataset. Para crear un shortcut, Pandas ofrece la función *.query()* \n",
        "\n"
      ]
    },
    {
      "cell_type": "code",
      "execution_count": null,
      "metadata": {
        "id": "qmU3wiCAbgr3"
      },
      "outputs": [],
      "source": [
        "df_cult = df.query('reparticion == \"Ministerio de Cultura\"')\n",
        "df_cult.head()"
      ]
    },
    {
      "cell_type": "markdown",
      "metadata": {
        "id": "U8Pg2Gawbgr4"
      },
      "source": [
        "También se puede hacer query sobre múltiples condiciones."
      ]
    },
    {
      "cell_type": "code",
      "execution_count": null,
      "metadata": {
        "id": "Iaf7xDeKbgr4"
      },
      "outputs": [],
      "source": [
        "df2 = df.query('asignacion_por_cargo_i > 240000 & aguinaldo_ii > 0')"
      ]
    },
    {
      "cell_type": "code",
      "execution_count": null,
      "metadata": {
        "id": "fUupMju3bgr4"
      },
      "outputs": [],
      "source": [
        "df2.shape"
      ]
    },
    {
      "cell_type": "markdown",
      "metadata": {
        "id": "pwPMlzgCJLJM",
        "tags": []
      },
      "source": [
        "### Ejercicio: Piensen cómo traducir a la sintaxis de query, estas consultas que ya hicimos:"
      ]
    },
    {
      "cell_type": "code",
      "execution_count": null,
      "metadata": {
        "id": "OdpFImSDJLJN"
      },
      "outputs": [],
      "source": [
        "# df_sem2 = df[df['mes'] > 6]\n"
      ]
    },
    {
      "cell_type": "code",
      "execution_count": null,
      "metadata": {
        "id": "MwNPRakRJLJN"
      },
      "outputs": [],
      "source": [
        "# df[(df['mes'] == 2) & (df['reparticion'] == 'SECR Ciencia, Tecnologia e Innovacion')]\n"
      ]
    },
    {
      "cell_type": "markdown",
      "metadata": {
        "id": "V1POkoeNbgr5"
      },
      "source": [
        "### Fancy Indexing\n",
        "\n",
        "Ahora vamos a quedarnos con un subconjunto de columnas del DataFrame."
      ]
    },
    {
      "cell_type": "code",
      "execution_count": null,
      "metadata": {
        "id": "LnkLlS9Ebgr5"
      },
      "outputs": [],
      "source": [
        "df_view = df.loc[:,['anio','mes']]"
      ]
    },
    {
      "cell_type": "code",
      "execution_count": null,
      "metadata": {
        "id": "hE8wtOmBbgr6"
      },
      "outputs": [],
      "source": [
        "df_view.shape"
      ]
    },
    {
      "cell_type": "markdown",
      "metadata": {
        "id": "rz4VDplUbgr6"
      },
      "source": [
        "Como mencionamos anteriormente, existe una forma menos explícita de hacer esta misma operación. Si pasamos una lista al indexing, pandas asume que el tipo de indexing es loc y que el filtro es sobre las columnas y no las filas:"
      ]
    },
    {
      "cell_type": "code",
      "execution_count": null,
      "metadata": {
        "id": "G1gKbRqcbgr6"
      },
      "outputs": [],
      "source": [
        "df_view = df[['anio','mes']]"
      ]
    },
    {
      "cell_type": "code",
      "execution_count": null,
      "metadata": {
        "id": "JbsjaC3zbgr6"
      },
      "outputs": [],
      "source": [
        "df_view.shape"
      ]
    },
    {
      "cell_type": "markdown",
      "metadata": {
        "id": "MPLG_4wjbgr6"
      },
      "source": [
        "Fíjense lo que pasa si tratamos de pasar la lista `[3,8]` al indexing. "
      ]
    },
    {
      "cell_type": "code",
      "execution_count": null,
      "metadata": {
        "id": "k4KkKoBibgr7"
      },
      "outputs": [],
      "source": [
        "# Incorrecto\n",
        "df_view = df[[3,8]]"
      ]
    },
    {
      "cell_type": "markdown",
      "metadata": {
        "id": "8o-gc73ibgr7"
      },
      "source": [
        "Nos da un error porque cuando pasamos únicamente una lista al indexing, pandas asume que queremos un set de columnas y si los nombres no existen, da error. La forma correcta de hacerlo es pasar una lista de índices y explicitar qué es lo que vamos a indizar con loc o iloc (según lo que necesitemos)."
      ]
    },
    {
      "cell_type": "code",
      "execution_count": null,
      "metadata": {
        "id": "TVIEZQ5Cbgr7"
      },
      "outputs": [],
      "source": [
        "# Correcto\n",
        "df_view = df.loc[[3,8],:]  #Traigo las filas 3 y 8 y todas las columnas"
      ]
    },
    {
      "cell_type": "code",
      "execution_count": null,
      "metadata": {
        "id": "prJq-9wkbgr7"
      },
      "outputs": [],
      "source": [
        "df_view"
      ]
    },
    {
      "cell_type": "markdown",
      "metadata": {
        "id": "ueED58pzFM79"
      },
      "source": [
        "Podemos utilizar una lista con números para filtrar con el método .iloc"
      ]
    },
    {
      "cell_type": "code",
      "execution_count": null,
      "metadata": {
        "id": "ij7oK0dcFRR4"
      },
      "outputs": [],
      "source": [
        "# También correcto\n",
        "df.iloc[:,[3,8]] #Traigo todas las filas y las columnas 3 y 8"
      ]
    },
    {
      "cell_type": "markdown",
      "metadata": {
        "id": "TeTWfwk8L638"
      },
      "source": [
        "### Ejercicio Titanic (otra vez)\n",
        "\n",
        "Volviendo al ejemplo del titanic...\n",
        "\n",
        "1) ¿Cuántos hombres y mujeres sobrevivieron? \n",
        "\n",
        "2) ¿Cuántos menores de 18 años había? ¿Cuántos sobrevivieron?\n",
        "\n",
        "3) Seleccionen únicamente las columnas Sex y Survived y almacenenlas en un nuevo DataFrame que se llame df_titanic_subset.\n"
      ]
    },
    {
      "cell_type": "code",
      "execution_count": null,
      "metadata": {
        "id": "g7HVcTN7L77l"
      },
      "outputs": [],
      "source": []
    },
    {
      "cell_type": "code",
      "execution_count": null,
      "metadata": {
        "id": "Nqdd9U3mKrjT"
      },
      "outputs": [],
      "source": []
    },
    {
      "cell_type": "code",
      "execution_count": null,
      "metadata": {
        "id": "67dENlitKrpa"
      },
      "outputs": [],
      "source": []
    },
    {
      "cell_type": "code",
      "execution_count": null,
      "metadata": {
        "id": "z9vEMXv3Ks57"
      },
      "outputs": [],
      "source": [
        "#df_titanic_subset.head()"
      ]
    },
    {
      "cell_type": "markdown",
      "metadata": {
        "id": "HsUi_0I9bgr_"
      },
      "source": [
        "## Aplicación de funciones de agregación\n",
        "\n",
        "Utilizando Pandas podemos aplicar funciones a nivel de columna. Algunas funciones predefinidas son la media, el desvío estándar y la sumatoria, el valor máximo y el mínimo.\n",
        "\n",
        "Algunas de las funciones de agregación más comunes son:\n",
        "\n",
        "<ul>\n",
        "    <li>min</li>\n",
        "    <li>max</li>\n",
        "    <li>count</li>\n",
        "    <li>sum</li>\n",
        "    <li>prod</li>\n",
        "    <li>mean</li>\n",
        "    <li>median</li>\n",
        "    <li>mode</li>\n",
        "    <li>std</li>\n",
        "    <li>var</li>\n",
        "</ul>\n",
        "\n",
        "\n"
      ]
    },
    {
      "cell_type": "code",
      "execution_count": null,
      "metadata": {
        "id": "vkoCP4S9bgr_"
      },
      "outputs": [],
      "source": [
        "df['mes'].max()"
      ]
    },
    {
      "cell_type": "code",
      "execution_count": null,
      "metadata": {
        "id": "OMYYFNMCbgr_"
      },
      "outputs": [],
      "source": [
        "df['asignacion_por_cargo_i'].mean()"
      ]
    },
    {
      "cell_type": "code",
      "execution_count": null,
      "metadata": {
        "id": "QT3OF1Ykbgr_"
      },
      "outputs": [],
      "source": [
        "df['asignacion_por_cargo_i'].std()"
      ]
    },
    {
      "cell_type": "code",
      "execution_count": null,
      "metadata": {
        "id": "aeKH2RgybgsA"
      },
      "outputs": [],
      "source": [
        "df['total_salario_bruto_i_+_ii'].sum()"
      ]
    },
    {
      "cell_type": "markdown",
      "metadata": {
        "id": "2n0T-s98JLJP"
      },
      "source": [
        "Podemos aplicar también estas funciones sobre todo el dataset"
      ]
    },
    {
      "cell_type": "code",
      "execution_count": null,
      "metadata": {
        "id": "6fz_PNFLJLJP"
      },
      "outputs": [],
      "source": [
        "df.mean()"
      ]
    },
    {
      "cell_type": "code",
      "execution_count": null,
      "metadata": {
        "id": "UmUM3-cNJLJP"
      },
      "outputs": [],
      "source": [
        "df.min()"
      ]
    },
    {
      "cell_type": "markdown",
      "metadata": {
        "id": "1MY-PNmybgsA"
      },
      "source": [
        "Podemos combinar los filtros que vimos antes con las funciones de agregación para responder preguntas cómo ¿Cuál fue en gasto en asignaciones de funcionarios para la Secretaría de Medios 2019? ¿Y para la de Justicia y Seguridad?"
      ]
    },
    {
      "cell_type": "code",
      "execution_count": null,
      "metadata": {
        "id": "nS2J0AKebgsA"
      },
      "outputs": [],
      "source": [
        "df[df['reparticion'] == 'SECR de Medios']['total_salario_bruto_i_+_ii'].sum()"
      ]
    },
    {
      "cell_type": "code",
      "execution_count": null,
      "metadata": {
        "id": "NRW1RHSebgsB"
      },
      "outputs": [],
      "source": [
        "df[df['reparticion'] == 'SECR Justicia y Seguridad']['total_salario_bruto_i_+_ii'].sum()"
      ]
    },
    {
      "cell_type": "markdown",
      "metadata": {
        "id": "d92bOdn_bgsB"
      },
      "source": [
        "Ahora respondamos algunas preguntas: ¿Quién o quiénes del dataset cobran el salario más alto? ¿Y el más bajo?"
      ]
    },
    {
      "cell_type": "code",
      "execution_count": null,
      "metadata": {
        "id": "RurRvJyYbgsB",
        "scrolled": true
      },
      "outputs": [],
      "source": [
        "df[df['total_salario_bruto_i_+_ii'] == df['total_salario_bruto_i_+_ii'].max()]"
      ]
    },
    {
      "cell_type": "code",
      "execution_count": null,
      "metadata": {
        "id": "7MZQyVQmbgsC",
        "scrolled": true
      },
      "outputs": [],
      "source": [
        "df[df['total_salario_bruto_i_+_ii'] == df['total_salario_bruto_i_+_ii'].min()]"
      ]
    },
    {
      "cell_type": "markdown",
      "metadata": {
        "id": "kK_li5T6JLJQ"
      },
      "source": [
        "Podemos aplicar una misma función a cada elemento de las Series usando [**apply**](https://pandas.pydata.org/pandas-docs/stable/reference/api/pandas.DataFrame.apply.html)."
      ]
    },
    {
      "cell_type": "code",
      "execution_count": null,
      "metadata": {
        "id": "XGceEkE2JLJQ"
      },
      "outputs": [],
      "source": [
        "df[['asignacion_por_cargo_i','aguinaldo_ii']].apply(np.log)"
      ]
    },
    {
      "cell_type": "markdown",
      "metadata": {
        "id": "kxoqanBjJLJQ"
      },
      "source": [
        "Con *apply* podemos aplicar nuestras propias funciones, definidas con nuestro puño y teclado."
      ]
    },
    {
      "cell_type": "code",
      "execution_count": null,
      "metadata": {
        "id": "jHoh24nTJLJQ"
      },
      "outputs": [],
      "source": [
        "def por_cien(x): #un ejemplo sencillo\n",
        "  return x*100\n",
        "\n",
        "df.apply(por_cien).head(3)"
      ]
    },
    {
      "cell_type": "markdown",
      "metadata": {
        "id": "bFKsI5hlJLJQ"
      },
      "source": [
        "Con `lambda` podemos definir la función en una sóla linea"
      ]
    },
    {
      "cell_type": "code",
      "execution_count": null,
      "metadata": {
        "id": "S1jlbXPJJLJQ"
      },
      "outputs": [],
      "source": [
        "df.apply(lambda x: x*100 , axis=0).head(3)"
      ]
    },
    {
      "cell_type": "markdown",
      "metadata": {
        "id": "3Z_qOQ48N2Uf",
        "tags": []
      },
      "source": [
        "### Ejercicios volviendo al Tiranic edad\n",
        "\n",
        "1) ¿Cuál era la edad promedio de los pasajeros de cada clase (Pclass)?\n",
        "\n",
        "2) ¿Cuál fue la tarifa que pagaron en promedio los hombres? ¿Y las mujeres?\n",
        "\n",
        "3) ¿Cuánto pagaron en total los pasajeros de primera clase para subir al Titanic? ¿Y los de tercera?\n",
        "\n",
        "4) ¿Cuántos pasajeros había en cada tipo de clase?\n",
        "\n"
      ]
    },
    {
      "cell_type": "code",
      "execution_count": null,
      "metadata": {
        "id": "wRPuKyCnN8rW"
      },
      "outputs": [],
      "source": []
    },
    {
      "cell_type": "code",
      "execution_count": null,
      "metadata": {
        "id": "ScUy2OWdN8wA"
      },
      "outputs": [],
      "source": []
    },
    {
      "cell_type": "code",
      "execution_count": null,
      "metadata": {
        "id": "5LebvMjcN81h"
      },
      "outputs": [],
      "source": []
    },
    {
      "cell_type": "markdown",
      "metadata": {
        "id": "MpqGCjOXbgsG"
      },
      "source": [
        "## Ordenar por columnas y limitar la cantidad de resultados"
      ]
    },
    {
      "cell_type": "markdown",
      "metadata": {
        "id": "ZwQ1Pn8tbgsH"
      },
      "source": [
        "Otra forma de resolver el problema de encontrar el mayor y el menos es con el método sort_values. Este método puede recibir un valor único (nombre de columna) o una lista (con varias columnas) y un orden asc o desc. Por default el orden es asc.\n",
        "\n",
        "Si combinamos el ordenamiento con el método head() para limitar la cantidad de resultados, podemos encontrar los N primeros. "
      ]
    },
    {
      "cell_type": "code",
      "execution_count": null,
      "metadata": {
        "id": "fBP_8bx1bgsH"
      },
      "outputs": [],
      "source": [
        "# Recordemos cómo abrir la documentación de un método\n",
        "df.sort_values?"
      ]
    },
    {
      "cell_type": "code",
      "execution_count": null,
      "metadata": {
        "id": "OC-s64jJbgsH"
      },
      "outputs": [],
      "source": [
        "# Calculamos el máximo\n",
        "df.sort_values('total_salario_bruto_i_+_ii',ascending=False).head(1)"
      ]
    },
    {
      "cell_type": "code",
      "execution_count": null,
      "metadata": {
        "id": "w4XN09k3bgsI"
      },
      "outputs": [],
      "source": [
        "# Calculamos el mínimo\n",
        "df.sort_values('total_salario_bruto_i_+_ii').head(1)"
      ]
    },
    {
      "cell_type": "markdown",
      "metadata": {
        "id": "z7hXh2t_JLJR"
      },
      "source": [
        "## Anexo: volviendo al tema de la vectorización\n",
        "\n",
        "¿Por qué es tan importante trabajar con Pandas y no con funciones escritas por nosotros en Python nativo y que procesen los datos dentro de un for loop?\n",
        "\n",
        "Por un lado está la comodidad. Hay mucha funcionalidad que ya está desarrollada en Pandas. Existen funciones que resuelven muchos de los problemas clásicos de manipular datos: agrupar, sumarizar, sacar estadísticas, filtrar, etc. Pero además hay una razón de performance. \n",
        "\n",
        "Veamos una demostración de que vectorizar es más eficiente. Vamos a crear dos listas de 1.000.000 de números aleatorios cada una y vamos a tratar de multiplicar elemento por elemento con pandas y sin pandas:\n",
        "\n"
      ]
    },
    {
      "cell_type": "code",
      "execution_count": null,
      "metadata": {
        "id": "GJmgvtp0JLJR"
      },
      "outputs": [],
      "source": [
        "lista1 = list(np.random.randint(1, 100, 1000000))\n",
        "lista2 = list(np.random.randint(1, 100, 1000000))"
      ]
    },
    {
      "cell_type": "code",
      "execution_count": null,
      "metadata": {
        "id": "JVmY7T0OJLJR"
      },
      "outputs": [],
      "source": [
        "%%timeit \n",
        "for x,y in zip(lista1,lista2):\n",
        "    x * y"
      ]
    },
    {
      "cell_type": "markdown",
      "metadata": {
        "id": "y_IzQqkPJLJR"
      },
      "source": [
        "Ahora probemos hacer lo mismo con dos series de Pandas"
      ]
    },
    {
      "cell_type": "code",
      "execution_count": null,
      "metadata": {
        "id": "Vc7_PEEhJLJR"
      },
      "outputs": [],
      "source": [
        "serie1 = pd.Series(lista1)\n",
        "serie2 = pd.Series(lista2)"
      ]
    },
    {
      "cell_type": "code",
      "execution_count": null,
      "metadata": {
        "id": "GbcexP1LJLJR"
      },
      "outputs": [],
      "source": [
        "%%timeit \n",
        "resultado = serie1 * serie2"
      ]
    },
    {
      "cell_type": "markdown",
      "metadata": {
        "id": "bXSHcl3sJLJS"
      },
      "source": [
        "Conclusión: la operación vectorizada es <strong> más de 70 veces más rápida.</strong>"
      ]
    }
  ],
  "metadata": {
    "colab": {
      "provenance": [],
      "include_colab_link": true
    },
    "kernelspec": {
      "display_name": "Python 3 (ipykernel)",
      "language": "python",
      "name": "python3"
    },
    "language_info": {
      "codemirror_mode": {
        "name": "ipython",
        "version": 3
      },
      "file_extension": ".py",
      "mimetype": "text/x-python",
      "name": "python",
      "nbconvert_exporter": "python",
      "pygments_lexer": "ipython3",
      "version": "3.9.12"
    }
  },
  "nbformat": 4,
  "nbformat_minor": 0
}
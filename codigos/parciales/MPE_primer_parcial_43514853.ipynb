{
 "cells": [
  {
   "cell_type": "markdown",
   "metadata": {
    "id": "s0Uuh7GjPBW_"
   },
   "source": [
    "#**_1er Parcial de Introduccion a la Programacion en Python_**\n",
    "##**Matemática para Economistas III**"
   ]
  },
  {
   "cell_type": "markdown",
   "metadata": {
    "id": "ylBub4KDnZXG"
   },
   "source": [
    "**Apellido y nombre:** Lescano Agustina Betsabé\n",
    "\n",
    "**Comisión:** 02"
   ]
  },
  {
   "cell_type": "markdown",
   "metadata": {
    "id": "7LUM6xwznf1z"
   },
   "source": [
    "## Ejercicios:\n",
    "\n",
    "**1.**"
   ]
  },
  {
   "cell_type": "code",
   "execution_count": null,
   "metadata": {
    "id": "5RC2G3i4RBie"
   },
   "outputs": [],
   "source": [
    "#defino las cuatro listas que se piden:\n",
    "lista_materias= [\"Matemática\", \"Química\", \"Biología\", \"Inglés\", \"Física\"] \n",
    "notas_personales = [8, 9, 6, 10, 7] \n",
    "promedios_historicos = [7.7, 8.2, 6.6, 9.4, 7.1]  \n",
    "lista_vacia= []"
   ]
  },
  {
   "cell_type": "code",
   "execution_count": null,
   "metadata": {
    "colab": {
     "base_uri": "https://localhost:8080/"
    },
    "id": "zr2jdG4ARFwg",
    "outputId": "fb67f384-f4e8-41c6-d922-3f9b95a90e45"
   },
   "outputs": [
    {
     "name": "stdout",
     "output_type": "stream",
     "text": [
      "Las diferencias porcentuales de las notas personales con respecto a los promedios historicos para cada una de las materias son: Matemática = 3.9%, Química = 9.76%, Biología = -9.09%, Inglés = 6.38%, Física = -1.41%\n"
     ]
    }
   ],
   "source": [
    "#primero compruebo que al menos alguna de las dos materias (historia o matemática) está dentro de la lista de materias:\n",
    "if \"Matemática\" in lista_materias or \"Historia\" in lista_materias:\n",
    "      i=0\n",
    "      while i<len(notas_personales) and i<len(promedios_historicos): #si la condición se cumple entonces pido que se ejecute un programa usando while, donde solicito un calculo de diferencia porcentual de las notas personales con respecto a los promedios historicos. \n",
    "         diferencia_porcentual= round((notas_personales[i]- promedios_historicos[i])/promedios_historicos[i]*100, 2)\n",
    "         lista_vacia.append(f\"{lista_materias[i]} = {diferencia_porcentual}%\") #a continuación apendeo los cálculos hechos a la lista vacia que predeterminé junto con su materia correspondiente \n",
    "         diferencias_str = \", \".join(lista_vacia) #uso el join para unir los elementos de la lista en una sola cadena utilizando como separador la coma\n",
    "         i=i+1\n",
    "                               \n",
    "      print(\"Las diferencias porcentuales de las notas personales con respecto a los promedios historicos para cada una de las materias son: \" +diferencias_str) #imprimo por pantalla esa leyenda junto a las diferencias porcentuales\n",
    "else:\n",
    "   print(\"No se encuentran ni Matemática ni Historia en la lista de materias, por lo tanto, no se pueden hacer las diferencias porcentuales\") #en caso contrario, uso el else para pedir que imprima esta leyenda, el cual no se va a ejecutar para este caso\n",
    " "
   ]
  },
  {
   "cell_type": "code",
   "execution_count": null,
   "metadata": {
    "id": "HIUKZvOMk5BO"
   },
   "outputs": [],
   "source": [
    "#ahora defino otra lista que no contenga la materia matématica o historia:\n",
    "lista_materias2=[\"Geografía\", \"Química\", \"Biología\", \"Inglés\", \"Física\"]\n",
    "#uso los mismos datos para las notas y los promedios:\n",
    "notas_personales2 = [8, 9, 6, 10, 7] \n",
    "promedios_historicos2 = [7.7, 8.2, 6.6, 9.4, 7.1]  \n",
    "lista_vacia2= []"
   ]
  },
  {
   "cell_type": "code",
   "execution_count": null,
   "metadata": {
    "colab": {
     "base_uri": "https://localhost:8080/"
    },
    "id": "E-NGN40kmIub",
    "outputId": "70bf5100-5b67-4a03-a081-6a24c778abd5"
   },
   "outputs": [
    {
     "name": "stdout",
     "output_type": "stream",
     "text": [
      "No se encuentran Matemática o Historia en la lista de materias, por lo tanto, no se pueden calcular las diferencias porcentuales.\n"
     ]
    }
   ],
   "source": [
    "#compruebo si las materias se encuentran en la nueva lista de materias:\n",
    "if \"Matemática\" in lista_materias2 or \"Historia\" in lista_materias2: \n",
    "      i=0\n",
    "      while i<len(notas_personales2) and i<len(promedios_historicos2): #si la condición se cumple pido que haga el cálculo de diferencia porcentual\n",
    "         diferencia_porcentual= round((notas_personales2[i]- promedios_historicos2[i])/promedios_historicos2[i]*100, 2)\n",
    "         lista_vacia2.append(f\"{lista_materias[i]} = {diferencia_porcentual}%\")  \n",
    "         diferencias_str = \", \".join(lista_vacia2)\n",
    "         i=i+1\n",
    "                               \n",
    "      print(\"Las diferencias porcentuales de las notas personales con respecto a los promedios historicos para cada una de las materias son:\", diferencias_str) \n",
    "else:\n",
    "   print(\"No se encuentran Matemática o Historia en la lista de materias, por lo tanto, no se pueden calcular las diferencias porcentuales.\") #como la condición no se cumple, se va a ejecutar el else. "
   ]
  },
  {
   "cell_type": "markdown",
   "metadata": {
    "id": "dpqGWjUYxSzT"
   },
   "source": [
    "**2.**"
   ]
  },
  {
   "cell_type": "code",
   "execution_count": null,
   "metadata": {
    "colab": {
     "base_uri": "https://localhost:8080/",
     "height": 53
    },
    "id": "aOq8U6zExUeR",
    "outputId": "69175920-4b55-419d-e6c7-789506a71a45"
   },
   "outputs": [
    {
     "data": {
      "application/vnd.google.colaboratory.intrinsic+json": {
       "type": "string"
      },
      "text/plain": [
       "'Ya que el promedio de las notas personales es mayor a 7, las diferencias porcentuales son: Matemática= 3.9%, Química= 9.76%, Biología= -9.09%, Inglés= 6.38%, Física= -1.41%'"
      ]
     },
     "execution_count": 5,
     "metadata": {},
     "output_type": "execute_result"
    }
   ],
   "source": [
    "def calcular_diferencias (m, np, promh, prom_mayor7=True): #agrego el prom_mayor7 como un parámetro de tipo booleano que pide que la condición se cumpla si o si \n",
    "         prom_mayor7= sum(notas_personales)/len(notas_personales) #determino que es lo que significa el parámetro prom_mayor\n",
    "         if prom_mayor7> 7: #en esta línea le estoy asignado la condición al último parámetro\n",
    "            i = 0\n",
    "            diferencias = [] #genero una lista para que los valores se guarden allí en caso de que se cumpla la condición\n",
    "            while i<len(np) and i<len(promh):\n",
    "               diferencias_porcentuales= round((np[i]-promh[i])/promh[i]*100, 2)\n",
    "               diferencias.append(f\"{m[i]}= {diferencias_porcentuales}%\") \n",
    "               diferencias_finales = \", \".join(diferencias) \n",
    "               i= i+1\n",
    "            return \"Ya que el promedio de las notas personales es mayor a 7, las diferencias porcentuales son: \" + diferencias_finales #pido que me devuelva esta leyenda con los cálculos\n",
    "         else: #en caso de que no se cumpla, pido que salga la siguiente leyenda con la nota máxima de la lista de las notas del estudiante\n",
    "            nota_maxima= max(np)\n",
    "            max_index = np.index(nota_maxima) #esto nos da la posición/índice en la lista donde se encuentra el valor máximo.\n",
    "            materia_maxima = m[max_index] #uso ese max_index para acceder a la misma posición en la lista de materias\n",
    "         return f\"El promedio es menor a 7 por lo que la nota máxima es: {materia_maxima}= {nota_maxima}\"\n",
    "\n",
    "#entonces, defino listas y ejecuto el programa\n",
    "materias= [\"Matemática\", \"Química\", \"Biología\", \"Inglés\", \"Física\"] \n",
    "notas = [8, 9, 6, 10, 7]\n",
    "promedios = [7.7, 8.2, 6.6, 9.4, 7.1]\n",
    "calcular_diferencias(materias, notas, promedios, True)"
   ]
  },
  {
   "cell_type": "code",
   "execution_count": null,
   "metadata": {
    "colab": {
     "base_uri": "https://localhost:8080/",
     "height": 35
    },
    "id": "QHR9ldu5rABJ",
    "outputId": "ed34b179-2944-46b1-cc1d-27c89cb5ae06"
   },
   "outputs": [
    {
     "data": {
      "application/vnd.google.colaboratory.intrinsic+json": {
       "type": "string"
      },
      "text/plain": [
       "'El promedio es menor a 7 por lo que la nota máxima es: Matemática= 8'"
      ]
     },
     "execution_count": 6,
     "metadata": {},
     "output_type": "execute_result"
    }
   ],
   "source": [
    "#defino otras listas como ejemplo para demostrar que se cumpla el else\n",
    "materias = [\"Matemática\", \"Química\", \"Plástica\"]\n",
    "notas_personales = [8, 5, 3]\n",
    "promedios_historicos = [7.7, 8.2, 2.2]\n",
    "calcular_diferencias(materias, notas_personales, promedios_historicos, True)\n"
   ]
  },
  {
   "cell_type": "markdown",
   "metadata": {
    "id": "YE4UCyInxX3U"
   },
   "source": [
    "**3.** La ecuación diferencial que quiero elegir es:\n",
    "\n",
    "$$Y_t^{''}-2Y_t^{'}+Y_t=3$$\n",
    "\n",
    "La escogí porque es la ecuación que me tocó en el examen y da raíces dobles. Sus condiciones iniciales van a  ser:\n",
    "\n",
    "$$Y_t(0)=1$$\n",
    "$$Y_t^{'}(0)=-2$$\n"
   ]
  },
  {
   "cell_type": "markdown",
   "metadata": {
    "id": "3zHmMKHt-xRV"
   },
   "source": [
    "**4.** A continuación voy a resolver la ecuación anteriormente planteada:"
   ]
  },
  {
   "cell_type": "code",
   "execution_count": null,
   "metadata": {
    "id": "RyRUsSQh_1h_"
   },
   "outputs": [],
   "source": [
    "#para hacerlo, voy a usar las siguientes librerías e importar algunos elementos para poder trabajar con expresiones matemáticas simbólicas y poder imprimir por pantalla un mejor formato matemático\n",
    "from sympy import * #con el * importo todo lo de la librería\n",
    "from numpy import linspace\n",
    "from IPython.display import display"
   ]
  },
  {
   "cell_type": "code",
   "execution_count": null,
   "metadata": {
    "id": "efTkytfbG2do"
   },
   "outputs": [],
   "source": [
    "t = symbols('t') #variable independiente\n",
    "#con la función symbols transformo el string t en un simbolo para poder operar matematicamente\n",
    "y = Function('y') #esto lo hago para definir a la y como una función\n"
   ]
  },
  {
   "cell_type": "code",
   "execution_count": null,
   "metadata": {
    "colab": {
     "base_uri": "https://localhost:8080/",
     "height": 54
    },
    "id": "-89Bv5QGJn05",
    "outputId": "2d8df9d8-4ef4-42bd-a27b-6676e88bfd0f"
   },
   "outputs": [
    {
     "data": {
      "text/latex": [
       "$\\displaystyle y{\\left(t \\right)} - 2 \\frac{d}{d t} y{\\left(t \\right)} + \\frac{d^{2}}{d t^{2}} y{\\left(t \\right)} = 3$"
      ],
      "text/plain": [
       "Eq(y(t) - 2*Derivative(y(t), t) + Derivative(y(t), (t, 2)), 3)"
      ]
     },
     "execution_count": 9,
     "metadata": {},
     "output_type": "execute_result"
    }
   ],
   "source": [
    "#planteo la ecuación a resolver:\n",
    "ecuacion_diferencial= Eq(y(t).diff(t,t)-2*y(t).diff(t)+y(t), 3) \n",
    "#Eq es la función de Python para definidir ecuaciones diferenciales. La coma es el signo igual (=).\n",
    "#y(t).diff(t) es la derivada primera\n",
    "#y(t).diff(t,t) es la derivada segunda\n",
    "ecuacion_diferencial"
   ]
  },
  {
   "cell_type": "code",
   "execution_count": null,
   "metadata": {
    "colab": {
     "base_uri": "https://localhost:8080/",
     "height": 68
    },
    "id": "6-W1519TRf1i",
    "outputId": "d10e687d-2322-4a49-bdf2-33f890cfffce"
   },
   "outputs": [
    {
     "data": {
      "text/latex": [
       "$\\displaystyle \\left\\{ y{\\left(0 \\right)} : 1, \\  \\left. \\frac{d}{d t} y{\\left(t \\right)} \\right|_{\\substack{ t=0 }} : -2\\right\\}$"
      ],
      "text/plain": [
       "⎧         ⎛d       ⎞│       ⎫\n",
       "⎨y(0): 1, ⎜──(y(t))⎟│   : -2⎬\n",
       "⎩         ⎝dt      ⎠│t=0    ⎭"
      ]
     },
     "execution_count": 10,
     "metadata": {},
     "output_type": "execute_result"
    }
   ],
   "source": [
    "init_printing() \n",
    "condiciones_iniciales= {y(0):1, y(t).diff(t).subs(t,0):-2} #establezco las condiciones\n",
    "condiciones_iniciales"
   ]
  },
  {
   "cell_type": "code",
   "execution_count": null,
   "metadata": {
    "colab": {
     "base_uri": "https://localhost:8080/",
     "height": 38
    },
    "id": "ZM1BhN6QLN9o",
    "outputId": "0211225b-4cdb-4410-dde3-577fb08de537"
   },
   "outputs": [
    {
     "data": {
      "text/latex": [
       "$\\displaystyle y{\\left(t \\right)} = \\left(C_{1} + C_{2} t\\right) e^{t} + 3$"
      ],
      "text/plain": [
       "                    t    \n",
       "y(t) = (C₁ + C₂⋅t)⋅ℯ  + 3"
      ]
     },
     "execution_count": 14,
     "metadata": {},
     "output_type": "execute_result"
    }
   ],
   "source": [
    "#resuelvo la ecuación sin las condiciones\n",
    "solución= dsolve(eq= ecuacion_diferencial, funcs=y(t)) \n",
    "#dsolve es la función de la librería sympy para calcular la solución de la ecuación diferencial\n",
    "#eq es su parámetro en donde indicamos la ecuación diferencial a resolver (en este caso el objeto ecuacion_diferencial)\n",
    "#en funcs indicamos la función que queremos resolver (en este caso y(t))\n",
    "solución"
   ]
  },
  {
   "cell_type": "code",
   "execution_count": null,
   "metadata": {
    "colab": {
     "base_uri": "https://localhost:8080/",
     "height": 38
    },
    "id": "wM4nLQmlOcNe",
    "outputId": "d3969fd2-4f9b-4c89-a2e1-7873948bfa8c"
   },
   "outputs": [
    {
     "data": {
      "text/latex": [
       "$\\displaystyle y{\\left(t \\right)} = 3 - 2 e^{t}$"
      ],
      "text/plain": [
       "              t\n",
       "y(t) = 3 - 2⋅ℯ "
      ]
     },
     "execution_count": 15,
     "metadata": {},
     "output_type": "execute_result"
    }
   ],
   "source": [
    "#ahora resuelvo la ecuación con las condiciones iniciales dadas:\n",
    "solución_completa= dsolve(eq=ecuacion_diferencial,funcs=y(t), ics=condiciones_iniciales)\n",
    "#ics son las condiciones iniciales (nuestra variable es condiciones_iniciales)\n",
    "solución_completa"
   ]
  },
  {
   "cell_type": "code",
   "execution_count": null,
   "metadata": {
    "colab": {
     "base_uri": "https://localhost:8080/",
     "height": 213
    },
    "id": "OUeo9HF4QQOT",
    "outputId": "3dd433c2-beab-485a-a83a-3a0b61a9b7a3"
   },
   "outputs": [
    {
     "name": "stdout",
     "output_type": "stream",
     "text": [
      "La ecuación diferencial es:\n"
     ]
    },
    {
     "data": {
      "text/latex": [
       "$\\displaystyle y{\\left(t \\right)} - 2 \\frac{d}{d t} y{\\left(t \\right)} + \\frac{d^{2}}{d t^{2}} y{\\left(t \\right)} = 3$"
      ],
      "text/plain": [
       "                      2          \n",
       "         d           d           \n",
       "y(t) - 2⋅──(y(t)) + ───(y(t)) = 3\n",
       "         dt           2          \n",
       "                    dt           "
      ]
     },
     "metadata": {},
     "output_type": "display_data"
    },
    {
     "name": "stdout",
     "output_type": "stream",
     "text": [
      "\n",
      " Las condiciones inciales son:\n"
     ]
    },
    {
     "data": {
      "text/latex": [
       "$\\displaystyle \\left\\{ y{\\left(0 \\right)} : 1, \\  \\left. \\frac{d}{d t} y{\\left(t \\right)} \\right|_{\\substack{ t=0 }} : -2\\right\\}$"
      ],
      "text/plain": [
       "⎧         ⎛d       ⎞│       ⎫\n",
       "⎨y(0): 1, ⎜──(y(t))⎟│   : -2⎬\n",
       "⎩         ⎝dt      ⎠│t=0    ⎭"
      ]
     },
     "metadata": {},
     "output_type": "display_data"
    },
    {
     "name": "stdout",
     "output_type": "stream",
     "text": [
      "\n",
      " La solución es:\n"
     ]
    },
    {
     "data": {
      "text/latex": [
       "$\\displaystyle y{\\left(t \\right)} = 3 - 2 e^{t}$"
      ],
      "text/plain": [
       "              t\n",
       "y(t) = 3 - 2⋅ℯ "
      ]
     },
     "metadata": {},
     "output_type": "display_data"
    }
   ],
   "source": [
    "#la ecuación y los resultados obtenidos presentados de una manera más legible:\n",
    "print(\"La ecuación diferencial es:\")\n",
    "display(ecuacion_diferencial)\n",
    "print(\"\\n Las condiciones inciales son:\")\n",
    "display(condiciones_iniciales)\n",
    "print(\"\\n La solución es:\")\n",
    "display(solución_completa)"
   ]
  },
  {
   "cell_type": "markdown",
   "metadata": {
    "id": "GrLRaxGwSxQ9"
   },
   "source": [
    "Para determinar la estabilidad dinámica de la ecuación se deben analizar $r_1$ y $r_2$. Al resolver la parte homogénea de la ecuación $r^{2}-2r+1=0$ nos da como resultado $r_1=1=r_2$. En primera instancia, podemos estar seguros de un equilibrio estable independientemente de $c_1$ y $c_2$ si y solo si, las raíces son negativas. \n",
    "En el caso que yo elegí, al haber raíces dobles, la solución particular contiene: $e^{rt}$ y $e^{rt}t$. Para que el primer término se haga 0 (independientemente de las condiciones iniciales) es sufciente que r<0. Para que el segundo término también se haga 0, la condición necesaria es que también $r<0$. En la ecuación que elegí, el segundo término desaparece por las condiciones iniciales propuestas y solo queda el primero ($e^{rt}$) pero como el resultado de las raíces es mayor a 0, la solución no va a converger a un equilibrio y va a tender al infinito, por lo que la ecuación no llega a un equilibrio intertemporal dinámicamente estable. "
   ]
  },
  {
   "cell_type": "markdown",
   "metadata": {
    "id": "3vvghzmchey_"
   },
   "source": [
    "**5.** Ahora voy a modificar las condiciones iniciales de la ecuación propuesta. Estas van a ser:\n",
    "$$Y_t(0)=2$$\n",
    "$$Y_t^{'}(0)=-3$$"
   ]
  },
  {
   "cell_type": "code",
   "execution_count": null,
   "metadata": {
    "colab": {
     "base_uri": "https://localhost:8080/",
     "height": 38
    },
    "id": "R1HLlWdvhkS1",
    "outputId": "288764f3-a8b5-42c1-ea29-8bdaad67c58d"
   },
   "outputs": [
    {
     "data": {
      "text/latex": [
       "$\\displaystyle y{\\left(t \\right)} = \\left(- 2 t - 1\\right) e^{t} + 3$"
      ],
      "text/plain": [
       "                   t    \n",
       "y(t) = (-2⋅t - 1)⋅ℯ  + 3"
      ]
     },
     "execution_count": 16,
     "metadata": {},
     "output_type": "execute_result"
    }
   ],
   "source": [
    "#resuelvo nuevamente la ecuación con las nuevas condiciones iniciales:\n",
    "condIn_nuevas={y(0):2, y(t).diff(t).subs(t,0):-3}\n",
    "solución_alt= dsolve(eq=ecuacion_diferencial,funcs=y(t), ics=condIn_nuevas)\n",
    "solución_alt"
   ]
  },
  {
   "cell_type": "code",
   "execution_count": null,
   "metadata": {
    "colab": {
     "base_uri": "https://localhost:8080/",
     "height": 213
    },
    "id": "68j4coH5t4yx",
    "outputId": "b1e10853-064f-49e2-ee84-edf980e5e4c6"
   },
   "outputs": [
    {
     "name": "stdout",
     "output_type": "stream",
     "text": [
      "La ecuación diferencial es:\n"
     ]
    },
    {
     "data": {
      "text/latex": [
       "$\\displaystyle y{\\left(t \\right)} - 2 \\frac{d}{d t} y{\\left(t \\right)} + \\frac{d^{2}}{d t^{2}} y{\\left(t \\right)} = 3$"
      ],
      "text/plain": [
       "                      2          \n",
       "         d           d           \n",
       "y(t) - 2⋅──(y(t)) + ───(y(t)) = 3\n",
       "         dt           2          \n",
       "                    dt           "
      ]
     },
     "metadata": {},
     "output_type": "display_data"
    },
    {
     "name": "stdout",
     "output_type": "stream",
     "text": [
      "\n",
      " Las condiciones inciales son:\n"
     ]
    },
    {
     "data": {
      "text/latex": [
       "$\\displaystyle \\left\\{ y{\\left(0 \\right)} : 2, \\  \\left. \\frac{d}{d t} y{\\left(t \\right)} \\right|_{\\substack{ t=0 }} : -3\\right\\}$"
      ],
      "text/plain": [
       "⎧         ⎛d       ⎞│       ⎫\n",
       "⎨y(0): 2, ⎜──(y(t))⎟│   : -3⎬\n",
       "⎩         ⎝dt      ⎠│t=0    ⎭"
      ]
     },
     "metadata": {},
     "output_type": "display_data"
    },
    {
     "name": "stdout",
     "output_type": "stream",
     "text": [
      "\n",
      " La solución es:\n"
     ]
    },
    {
     "data": {
      "text/latex": [
       "$\\displaystyle y{\\left(t \\right)} = \\left(- 2 t - 1\\right) e^{t} + 3$"
      ],
      "text/plain": [
       "                   t    \n",
       "y(t) = (-2⋅t - 1)⋅ℯ  + 3"
      ]
     },
     "metadata": {},
     "output_type": "display_data"
    }
   ],
   "source": [
    "#presento los datos y la resolución de manera más ordenada nuevamente:\n",
    "print(\"La ecuación diferencial es:\")\n",
    "display(ecuacion_diferencial)\n",
    "print(\"\\n Las condiciones inciales son:\")\n",
    "display(condIn_nuevas)\n",
    "print(\"\\n La solución es:\")\n",
    "display(solución_alt)"
   ]
  },
  {
   "cell_type": "code",
   "execution_count": null,
   "metadata": {
    "colab": {
     "base_uri": "https://localhost:8080/",
     "height": 472
    },
    "id": "9q58tSPMleYp",
    "outputId": "a648fa49-bfee-4059-aa2b-9a053f6ea9d8"
   },
   "outputs": [
    {
     "data": {
      "image/png": "[encoded data removed]",
      "text/plain": [
       "<Figure size 640x480 with 1 Axes>"
      ]
     },
     "metadata": {},
     "output_type": "display_data"
    }
   ],
   "source": [
    "#datos para poder graficar las dos ecuaciones juntas:\n",
    "from matplotlib import pyplot as plt #importo pyplot de la biblioteca de matplotlib para facilitar la creación de gráficos\n",
    "formula1=solución_completa.args[1] #me quedo solamente con 3−2e^t\n",
    "formula2= solución_alt.args[1] #me quedo solamente con (−2t−1)e^t+3\n",
    "evaluación1= lambdify(args=t, expr= formula1, modules=[\"numpy\"]) #en estas líneas hago que t vaya cambiando para mis soluciones\n",
    "evaluación2= lambdify(args=t, expr= formula2, modules=[\"numpy\"] )\n",
    "valores_de_t= linspace(0, 1, 50) #construyo una grilla de valores\n",
    "eje_y1= evaluación1(valores_de_t)\n",
    "eje_y2= evaluación2(valores_de_t) #los valores que va a tomar Y según los que tome T\n",
    "\n",
    "#gráfico\n",
    "plt.plot(valores_de_t, eje_y1, color= \"blue\", label= \"Primera propuesta\") #pido que haga el gráfico y los diferencio con colores y nombres\n",
    "plt.plot(valores_de_t, eje_y2, color= \"red\", label=\"Segunda propuesta\" )\n",
    "plt.legend() #para mostrar que nombre le corresponde a cada ecuación\n",
    "plt.grid() #para que ponga un grillado en el gráfico\n",
    "plt.title(\"Evolución de las funciones y(t)\") #título del gráfico\n",
    "plt.xlabel(\"tiempo\") #leyenda del eje horizontal\n",
    "plt.ylabel(\"eje y\") #leyenda del eje vertical\n",
    "plt.show() #finalmente muestro el gráfico\n"
   ]
  },
  {
   "cell_type": "markdown",
   "metadata": {
    "id": "9PxmBR8x03LI"
   },
   "source": [
    "Si evaluamos $t$ entre los números 0 y 0,2, el gráfico nos muestra el primer cuadrante donde ambas funciones son positivas y se intersectan en el eje $y$ en 2 y 1. Si seguimos aumentando los valores de $t$, por ejemplo entre 0 y 5, ya nos muestra el cuarto cuadrante y vemos como las funciones decrecen hasta el menos infinito. En la grila de valores $y$ se puede ver que las funciones toman valores negativos muy grandes para valores chicos de $t$ y se puede notar que la función $y(t) = (-2t - 1)e^t + 3$ decrece a mayor velocidad que la función $y(t) = 3 - 2e^t$ a medida que $t$ aumenta, esto se  debe a la combianción del termino exponencial y lineal negativos que afectan fuertemente en el comportamiento de la función, a diferencia de la segunda. "
   ]
  }
 ],
 "metadata": {
  "colab": {
   "provenance": []
  },
  "kernelspec": {
   "display_name": "Python 3 (ipykernel)",
   "language": "python",
   "name": "python3"
  },
  "language_info": {
   "codemirror_mode": {
    "name": "ipython",
    "version": 3
   },
   "file_extension": ".py",
   "mimetype": "text/x-python",
   "name": "python",
   "nbconvert_exporter": "python",
   "pygments_lexer": "ipython3",
   "version": "3.9.12"
  }
 },
 "nbformat": 4,
 "nbformat_minor": 4
}

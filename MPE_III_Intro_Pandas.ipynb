{
  "nbformat": 4,
  "nbformat_minor": 0,
  "metadata": {
    "kernelspec": {
      "display_name": "Python 3",
      "language": "python",
      "name": "python3"
    },
    "language_info": {
      "codemirror_mode": {
        "name": "ipython",
        "version": 3
      },
      "file_extension": ".py",
      "mimetype": "text/x-python",
      "name": "python",
      "nbconvert_exporter": "python",
      "pygments_lexer": "ipython3",
      "version": "3.7.6"
    },
    "colab": {
      "name": "MPE III - Intro Pandas.ipynb",
      "provenance": [],
      "collapsed_sections": [],
      "include_colab_link": true
    }
  },
  "cells": [
    {
      "cell_type": "markdown",
      "metadata": {
        "id": "view-in-github",
        "colab_type": "text"
      },
      "source": [
        "<a href=\"https://colab.research.google.com/github/mateosuster/pythonungs/blob/master/MPE_III_Intro_Pandas.ipynb\" target=\"_parent\"><img src=\"https://colab.research.google.com/assets/colab-badge.svg\" alt=\"Open In Colab\"/></a>"
      ]
    },
    {
      "cell_type": "markdown",
      "metadata": {
        "id": "CNfoNA42MR9k"
      },
      "source": [
        "# Pandas\n",
        "\n",
        "* [Pandas](https://pandas.pydata.org/pandas-docs/stable/index.html) es una biblioteca de código abierto que proporciona estructuras de datos y herramientas de análisis de datos de alto rendimiento y fáciles de usar para el lenguaje de programación Python.\n",
        "\n",
        "* Nombre derivado de \"**Pan**el **Da**ta **S**ystem\" (término econométrico para datasets multidimensionales).\n",
        "\n",
        "* Combina la alta performance de las operaciones sobre arrays de NumPy con la flexibilidad en la manipulación datasets (Excel, CSV, Google Spreadsheets, etc., etc.) o una base de datos relacional (SQL)."
      ]
    },
    {
      "cell_type": "markdown",
      "metadata": {
        "id": "RtxguLb4MWfG"
      },
      "source": [
        "## Data Frame \n",
        "El principal objeto en Pandas es el dataframe, el cual es muy similar a una planilla o tabla de Excel. El data frame representa una estructura de datos tabular que contiene una colección de columnas, cada una de las cuales tiene un tipo determinado de dato (number, string, boolean, etc.).\n",
        "\n",
        "\n",
        "Podemos crear dataframes de varias maneras:\n",
        "\n",
        "* Diccionario con listas:\n",
        "<br> {Nombre columna: [Valores]}"
      ]
    },
    {
      "cell_type": "code",
      "metadata": {
        "id": "qPwW644lqLk9",
        "colab": {
          "base_uri": "https://localhost:8080/"
        },
        "outputId": "fde09b56-8624-4209-e287-636cda8c648f"
      },
      "source": [
        "import pandas as pd\n",
        "import numpy as np\n",
        " \n",
        "name_age = {'Name' : ['Ali', 'Bill', 'David', 'Hany', 'Ibtisam'], 'Age' : [32, 55, 20, 43, 30]}\n",
        "print(\"name_age es\", type(name_age))\n",
        "print(name_age)"
      ],
      "execution_count": null,
      "outputs": [
        {
          "output_type": "stream",
          "name": "stdout",
          "text": [
            "name_age es <class 'dict'>\n",
            "{'Name': ['Ali', 'Bill', 'David', 'Hany', 'Ibtisam'], 'Age': [32, 55, 20, 43, 30]}\n"
          ]
        }
      ]
    },
    {
      "cell_type": "code",
      "metadata": {
        "id": "VtXyEgXTZ1LR",
        "colab": {
          "base_uri": "https://localhost:8080/",
          "height": 192
        },
        "outputId": "0c87579d-bb6f-434b-e255-72ddf89bf1e2"
      },
      "source": [
        "data_frame = pd.DataFrame(name_age)\n",
        "print(\"data_frame es\", type(data_frame))\n",
        "data_frame.head(4)"
      ],
      "execution_count": null,
      "outputs": [
        {
          "output_type": "stream",
          "name": "stdout",
          "text": [
            "data_frame es <class 'pandas.core.frame.DataFrame'>\n"
          ]
        },
        {
          "output_type": "execute_result",
          "data": {
            "text/html": [
              "<div>\n",
              "<style scoped>\n",
              "    .dataframe tbody tr th:only-of-type {\n",
              "        vertical-align: middle;\n",
              "    }\n",
              "\n",
              "    .dataframe tbody tr th {\n",
              "        vertical-align: top;\n",
              "    }\n",
              "\n",
              "    .dataframe thead th {\n",
              "        text-align: right;\n",
              "    }\n",
              "</style>\n",
              "<table border=\"1\" class=\"dataframe\">\n",
              "  <thead>\n",
              "    <tr style=\"text-align: right;\">\n",
              "      <th></th>\n",
              "      <th>Name</th>\n",
              "      <th>Age</th>\n",
              "    </tr>\n",
              "  </thead>\n",
              "  <tbody>\n",
              "    <tr>\n",
              "      <th>0</th>\n",
              "      <td>Ali</td>\n",
              "      <td>32</td>\n",
              "    </tr>\n",
              "    <tr>\n",
              "      <th>1</th>\n",
              "      <td>Bill</td>\n",
              "      <td>55</td>\n",
              "    </tr>\n",
              "    <tr>\n",
              "      <th>2</th>\n",
              "      <td>David</td>\n",
              "      <td>20</td>\n",
              "    </tr>\n",
              "    <tr>\n",
              "      <th>3</th>\n",
              "      <td>Hany</td>\n",
              "      <td>43</td>\n",
              "    </tr>\n",
              "  </tbody>\n",
              "</table>\n",
              "</div>"
            ],
            "text/plain": [
              "    Name  Age\n",
              "0    Ali   32\n",
              "1   Bill   55\n",
              "2  David   20\n",
              "3   Hany   43"
            ]
          },
          "metadata": {},
          "execution_count": 4
        }
      ]
    },
    {
      "cell_type": "markdown",
      "metadata": {
        "id": "Z6Y9Qkk-nN5Y"
      },
      "source": [
        "* Lista de Diccionarios: \n",
        "<br>\n",
        "[{Columna1: valor, Columna2: valor}, <br>\n",
        "{Columna1: valor, Columna2: valor}]\n",
        "\n",
        "Cada elemento de la lista corresponde a una fila"
      ]
    },
    {
      "cell_type": "code",
      "metadata": {
        "id": "oQAZgFnanu_s",
        "colab": {
          "base_uri": "https://localhost:8080/"
        },
        "outputId": "4da58871-5945-4622-fc3f-1a7ad43a91d7"
      },
      "source": [
        "name_age = [{'Name': 'Ali','Age':32},{'Name': 'Bill','Age':55},{'Name': 'David','Age':20},{'Name': 'Hany','Age':43},{'Name': 'Ibtisam','Age':30}]\n",
        "print(\"name_age es\", type(name_age))\n",
        "print(name_age)"
      ],
      "execution_count": null,
      "outputs": [
        {
          "output_type": "stream",
          "name": "stdout",
          "text": [
            "name_age es <class 'list'>\n",
            "[{'Name': 'Ali', 'Age': 32}, {'Name': 'Bill', 'Age': 55}, {'Name': 'David', 'Age': 20}, {'Name': 'Hany', 'Age': 43}, {'Name': 'Ibtisam', 'Age': 30}]\n"
          ]
        }
      ]
    },
    {
      "cell_type": "code",
      "metadata": {
        "id": "25FZNzvHaX5w",
        "colab": {
          "base_uri": "https://localhost:8080/",
          "height": 223
        },
        "outputId": "53424dd2-ae76-492a-b92d-98c5c86eb23c"
      },
      "source": [
        "data_frame = pd.DataFrame(name_age)\n",
        "print(\"data_frame es\", type(data_frame))\n",
        "data_frame"
      ],
      "execution_count": null,
      "outputs": [
        {
          "output_type": "stream",
          "name": "stdout",
          "text": [
            "data_frame es <class 'pandas.core.frame.DataFrame'>\n"
          ]
        },
        {
          "output_type": "execute_result",
          "data": {
            "text/html": [
              "<div>\n",
              "<style scoped>\n",
              "    .dataframe tbody tr th:only-of-type {\n",
              "        vertical-align: middle;\n",
              "    }\n",
              "\n",
              "    .dataframe tbody tr th {\n",
              "        vertical-align: top;\n",
              "    }\n",
              "\n",
              "    .dataframe thead th {\n",
              "        text-align: right;\n",
              "    }\n",
              "</style>\n",
              "<table border=\"1\" class=\"dataframe\">\n",
              "  <thead>\n",
              "    <tr style=\"text-align: right;\">\n",
              "      <th></th>\n",
              "      <th>Name</th>\n",
              "      <th>Age</th>\n",
              "    </tr>\n",
              "  </thead>\n",
              "  <tbody>\n",
              "    <tr>\n",
              "      <th>0</th>\n",
              "      <td>Ali</td>\n",
              "      <td>32</td>\n",
              "    </tr>\n",
              "    <tr>\n",
              "      <th>1</th>\n",
              "      <td>Bill</td>\n",
              "      <td>55</td>\n",
              "    </tr>\n",
              "    <tr>\n",
              "      <th>2</th>\n",
              "      <td>David</td>\n",
              "      <td>20</td>\n",
              "    </tr>\n",
              "    <tr>\n",
              "      <th>3</th>\n",
              "      <td>Hany</td>\n",
              "      <td>43</td>\n",
              "    </tr>\n",
              "    <tr>\n",
              "      <th>4</th>\n",
              "      <td>Ibtisam</td>\n",
              "      <td>30</td>\n",
              "    </tr>\n",
              "  </tbody>\n",
              "</table>\n",
              "</div>"
            ],
            "text/plain": [
              "      Name  Age\n",
              "0      Ali   32\n",
              "1     Bill   55\n",
              "2    David   20\n",
              "3     Hany   43\n",
              "4  Ibtisam   30"
            ]
          },
          "metadata": {},
          "execution_count": 6
        }
      ]
    },
    {
      "cell_type": "markdown",
      "metadata": {
        "id": "V_Tpt4WAj7bs"
      },
      "source": [
        "* Lista de listas: \n",
        "\n",
        "[  [valor<sub>11</sub>, valor<sub>12</sub>],\n",
        "<br>\n",
        "[valor<sub>21</sub>, valor<sub>22</sub>], \n",
        "<br> ... <br>\n",
        "[valor<sub>n1</sub>, valor<sub>n2</sub>] ]\n",
        "<br><br>\n",
        "  Cada lista de la superlista corresponde a una fila u observación"
      ]
    },
    {
      "cell_type": "code",
      "metadata": {
        "id": "uIhrjhrAi_HX",
        "colab": {
          "base_uri": "https://localhost:8080/"
        },
        "outputId": "a77ce6fe-bee2-4137-f5d6-2e90debedda6"
      },
      "source": [
        "name_age = [  ['Ali',32], ['Bill',55],['David', 20], \n",
        "              ['Hany',43],['Ibtisam',30]  ]\n",
        "\n",
        "print(\"name_age es\", type(name_age))\n",
        "print(name_age)"
      ],
      "execution_count": null,
      "outputs": [
        {
          "output_type": "stream",
          "name": "stdout",
          "text": [
            "name_age es <class 'list'>\n",
            "[['Ali', 32], ['Bill', 55], ['David', 20], ['Hany', 43], ['Ibtisam', 30]]\n"
          ]
        }
      ]
    },
    {
      "cell_type": "code",
      "metadata": {
        "id": "xaeLPzkKjdBd",
        "colab": {
          "base_uri": "https://localhost:8080/",
          "height": 223
        },
        "outputId": "5f983fb2-80e1-4d30-e254-a1b4a67806df"
      },
      "source": [
        "data_frame = pd.DataFrame(name_age, columns = [\"Name\", \"Age\"]) #con columns especificamos los nombres de columnas\n",
        "print(\"data_frame es\", type(data_frame))\n",
        "data_frame"
      ],
      "execution_count": null,
      "outputs": [
        {
          "output_type": "stream",
          "name": "stdout",
          "text": [
            "data_frame es <class 'pandas.core.frame.DataFrame'>\n"
          ]
        },
        {
          "output_type": "execute_result",
          "data": {
            "text/html": [
              "<div>\n",
              "<style scoped>\n",
              "    .dataframe tbody tr th:only-of-type {\n",
              "        vertical-align: middle;\n",
              "    }\n",
              "\n",
              "    .dataframe tbody tr th {\n",
              "        vertical-align: top;\n",
              "    }\n",
              "\n",
              "    .dataframe thead th {\n",
              "        text-align: right;\n",
              "    }\n",
              "</style>\n",
              "<table border=\"1\" class=\"dataframe\">\n",
              "  <thead>\n",
              "    <tr style=\"text-align: right;\">\n",
              "      <th></th>\n",
              "      <th>Name</th>\n",
              "      <th>Age</th>\n",
              "    </tr>\n",
              "  </thead>\n",
              "  <tbody>\n",
              "    <tr>\n",
              "      <th>0</th>\n",
              "      <td>Ali</td>\n",
              "      <td>32</td>\n",
              "    </tr>\n",
              "    <tr>\n",
              "      <th>1</th>\n",
              "      <td>Bill</td>\n",
              "      <td>55</td>\n",
              "    </tr>\n",
              "    <tr>\n",
              "      <th>2</th>\n",
              "      <td>David</td>\n",
              "      <td>20</td>\n",
              "    </tr>\n",
              "    <tr>\n",
              "      <th>3</th>\n",
              "      <td>Hany</td>\n",
              "      <td>43</td>\n",
              "    </tr>\n",
              "    <tr>\n",
              "      <th>4</th>\n",
              "      <td>Ibtisam</td>\n",
              "      <td>30</td>\n",
              "    </tr>\n",
              "  </tbody>\n",
              "</table>\n",
              "</div>"
            ],
            "text/plain": [
              "      Name  Age\n",
              "0      Ali   32\n",
              "1     Bill   55\n",
              "2    David   20\n",
              "3     Hany   43\n",
              "4  Ibtisam   30"
            ]
          },
          "metadata": {},
          "execution_count": 8
        }
      ]
    },
    {
      "cell_type": "markdown",
      "metadata": {
        "id": "JvHEVOTTRRoH"
      },
      "source": [
        "## Manipulación de Data Frames\n"
      ]
    },
    {
      "cell_type": "markdown",
      "metadata": {
        "id": "AwHJgnWH7xGv"
      },
      "source": [
        "El objeto más simple de Pandas son las *Series*\n",
        "* Una *Series* es un objeto similar a un vector unidimensional\n",
        "* Contiene un array de valores y un array asociado de etiquetas de estos valores denominado como **índice**.\n",
        "* Una Serie también puede ser pensada como un diccionario de tamaño fijo con sus claves ordenadas.\n",
        "\n",
        "\n",
        "<br>\n",
        "\n",
        "Vamos a construir un data frame a partir de dos instancias de *Series*:\n",
        "\n",
        "* area, a partir de un diccionario\n",
        "\n",
        "* population, a partir de dos listas"
      ]
    },
    {
      "cell_type": "code",
      "metadata": {
        "id": "D49WsAwfe71-",
        "colab": {
          "base_uri": "https://localhost:8080/"
        },
        "outputId": "25a80e14-eb0b-4615-f47a-cf55695b2c70"
      },
      "source": [
        "area_dict = {'California': 423967, 'Texas': 695662, 'New York': 141297,\n",
        "             'Florida': 170312, 'Illinois': 149995}\n",
        "area = pd.Series(area_dict)\n",
        "area"
      ],
      "execution_count": null,
      "outputs": [
        {
          "output_type": "execute_result",
          "data": {
            "text/plain": [
              "California    423967\n",
              "Texas         695662\n",
              "New York      141297\n",
              "Florida       170312\n",
              "Illinois      149995\n",
              "dtype: int64"
            ]
          },
          "metadata": {},
          "execution_count": 9
        }
      ]
    },
    {
      "cell_type": "code",
      "metadata": {
        "id": "aGsazS5T8CEE",
        "colab": {
          "base_uri": "https://localhost:8080/"
        },
        "outputId": "47b17740-3a0e-459b-e45e-73a5f788eeda"
      },
      "source": [
        "area.values"
      ],
      "execution_count": null,
      "outputs": [
        {
          "output_type": "execute_result",
          "data": {
            "text/plain": [
              "array([423967, 695662, 141297, 170312, 149995])"
            ]
          },
          "metadata": {},
          "execution_count": 10
        }
      ]
    },
    {
      "cell_type": "code",
      "metadata": {
        "id": "gWsnrl8Q8eOh",
        "colab": {
          "base_uri": "https://localhost:8080/"
        },
        "outputId": "9b9cf11d-ae11-4fe1-a0b6-e749a28c0122"
      },
      "source": [
        "area.index"
      ],
      "execution_count": null,
      "outputs": [
        {
          "output_type": "execute_result",
          "data": {
            "text/plain": [
              "Index(['California', 'Texas', 'New York', 'Florida', 'Illinois'], dtype='object')"
            ]
          },
          "metadata": {},
          "execution_count": 11
        }
      ]
    },
    {
      "cell_type": "code",
      "metadata": {
        "id": "OqkoDHgtfNRJ",
        "colab": {
          "base_uri": "https://localhost:8080/"
        },
        "outputId": "57837605-9f6f-4f21-ab7c-e6e406d97339"
      },
      "source": [
        "states_list = ['Illinois','Texas','New York', 'Florida', 'California']\n",
        "states_pop = [12882135, 26448193, 19651127, 19552860, 38332521]\n",
        "population = pd.Series(states_pop, index= states_list)\n",
        "\n",
        "population"
      ],
      "execution_count": null,
      "outputs": [
        {
          "output_type": "execute_result",
          "data": {
            "text/plain": [
              "Illinois      12882135\n",
              "Texas         26448193\n",
              "New York      19651127\n",
              "Florida       19552860\n",
              "California    38332521\n",
              "dtype: int64"
            ]
          },
          "metadata": {},
          "execution_count": 12
        }
      ]
    },
    {
      "cell_type": "code",
      "metadata": {
        "id": "wgzcsQOXBYsc",
        "colab": {
          "base_uri": "https://localhost:8080/",
          "height": 206
        },
        "outputId": "6392140a-3083-4cfa-e8db-805654f91005"
      },
      "source": [
        "states = pd.DataFrame({'population': population,\n",
        "                       'area': area})\n",
        "states"
      ],
      "execution_count": null,
      "outputs": [
        {
          "output_type": "execute_result",
          "data": {
            "text/html": [
              "<div>\n",
              "<style scoped>\n",
              "    .dataframe tbody tr th:only-of-type {\n",
              "        vertical-align: middle;\n",
              "    }\n",
              "\n",
              "    .dataframe tbody tr th {\n",
              "        vertical-align: top;\n",
              "    }\n",
              "\n",
              "    .dataframe thead th {\n",
              "        text-align: right;\n",
              "    }\n",
              "</style>\n",
              "<table border=\"1\" class=\"dataframe\">\n",
              "  <thead>\n",
              "    <tr style=\"text-align: right;\">\n",
              "      <th></th>\n",
              "      <th>population</th>\n",
              "      <th>area</th>\n",
              "    </tr>\n",
              "  </thead>\n",
              "  <tbody>\n",
              "    <tr>\n",
              "      <th>California</th>\n",
              "      <td>38332521</td>\n",
              "      <td>423967</td>\n",
              "    </tr>\n",
              "    <tr>\n",
              "      <th>Florida</th>\n",
              "      <td>19552860</td>\n",
              "      <td>170312</td>\n",
              "    </tr>\n",
              "    <tr>\n",
              "      <th>Illinois</th>\n",
              "      <td>12882135</td>\n",
              "      <td>149995</td>\n",
              "    </tr>\n",
              "    <tr>\n",
              "      <th>New York</th>\n",
              "      <td>19651127</td>\n",
              "      <td>141297</td>\n",
              "    </tr>\n",
              "    <tr>\n",
              "      <th>Texas</th>\n",
              "      <td>26448193</td>\n",
              "      <td>695662</td>\n",
              "    </tr>\n",
              "  </tbody>\n",
              "</table>\n",
              "</div>"
            ],
            "text/plain": [
              "            population    area\n",
              "California    38332521  423967\n",
              "Florida       19552860  170312\n",
              "Illinois      12882135  149995\n",
              "New York      19651127  141297\n",
              "Texas         26448193  695662"
            ]
          },
          "metadata": {},
          "execution_count": 13
        }
      ]
    },
    {
      "cell_type": "markdown",
      "metadata": {
        "id": "SkZLUisFr6ej"
      },
      "source": [
        "Bien, ahora que tenemos un pequeño dataset de prueba, veamos algunas operaciones de manipulación básica de datos. Entre ellas: \n",
        "\n",
        "* Seleccionar y renombrar columnas \n",
        "* Seleccionar y renombrar índices\n",
        "* Filtrar observaciones\n",
        "* Crear nuevas columnas\n",
        "* Agregar nuevas filas\n",
        "* Revisar y eliminar duplicados\n",
        "* Y muchas más..."
      ]
    },
    {
      "cell_type": "markdown",
      "metadata": {
        "id": "lr-TW7R91d2Z"
      },
      "source": [
        "### Operaciones básicas de filas y columnas"
      ]
    },
    {
      "cell_type": "markdown",
      "metadata": {
        "id": "QmpHPZx8s5vf"
      },
      "source": [
        "Primero veamos que columnas tenemos"
      ]
    },
    {
      "cell_type": "code",
      "metadata": {
        "id": "eJFMQT89BsPO",
        "colab": {
          "base_uri": "https://localhost:8080/"
        },
        "outputId": "131240ec-61fd-410e-92f9-3806da1749a0"
      },
      "source": [
        "states.columns"
      ],
      "execution_count": null,
      "outputs": [
        {
          "output_type": "execute_result",
          "data": {
            "text/plain": [
              "Index(['population', 'area'], dtype='object')"
            ]
          },
          "metadata": {},
          "execution_count": 14
        }
      ]
    },
    {
      "cell_type": "markdown",
      "metadata": {
        "id": "rwY4j1CoB2Pd"
      },
      "source": [
        "* ¿Cómo seleccionamos una columna? Hay dos alternativas:"
      ]
    },
    {
      "cell_type": "code",
      "metadata": {
        "id": "C-W2vQhiB1Q4",
        "colab": {
          "base_uri": "https://localhost:8080/"
        },
        "outputId": "16bd0643-9ac6-42b8-dd3e-843dcce0317e"
      },
      "source": [
        "states[\"area\"]"
      ],
      "execution_count": null,
      "outputs": [
        {
          "output_type": "execute_result",
          "data": {
            "text/plain": [
              "California    423967\n",
              "Florida       170312\n",
              "Illinois      149995\n",
              "New York      141297\n",
              "Texas         695662\n",
              "Name: area, dtype: int64"
            ]
          },
          "metadata": {},
          "execution_count": 15
        }
      ]
    },
    {
      "cell_type": "code",
      "metadata": {
        "id": "BUkMkmP4CdOt",
        "colab": {
          "base_uri": "https://localhost:8080/"
        },
        "outputId": "38da4e92-4b8f-4c1d-f8b0-266f723675f9"
      },
      "source": [
        "states.area"
      ],
      "execution_count": null,
      "outputs": [
        {
          "output_type": "execute_result",
          "data": {
            "text/plain": [
              "California    423967\n",
              "Florida       170312\n",
              "Illinois      149995\n",
              "New York      141297\n",
              "Texas         695662\n",
              "Name: area, dtype: int64"
            ]
          },
          "metadata": {},
          "execution_count": 16
        }
      ]
    },
    {
      "cell_type": "code",
      "metadata": {
        "id": "xSTeeBJzBcS5",
        "colab": {
          "base_uri": "https://localhost:8080/"
        },
        "outputId": "2f55580b-e8b2-487e-9b18-a4343434df2e"
      },
      "source": [
        "type(states.area)"
      ],
      "execution_count": null,
      "outputs": [
        {
          "output_type": "execute_result",
          "data": {
            "text/plain": [
              "pandas.core.series.Series"
            ]
          },
          "metadata": {},
          "execution_count": 17
        }
      ]
    },
    {
      "cell_type": "markdown",
      "metadata": {
        "id": "hxjkCyVZaXqi"
      },
      "source": [
        "* Podemos modificar todos los indices de la siguiente forma"
      ]
    },
    {
      "cell_type": "code",
      "metadata": {
        "colab": {
          "base_uri": "https://localhost:8080/"
        },
        "id": "F9NBgK-MBhvg",
        "outputId": "1a598873-9ff4-4216-c585-c198301238e4"
      },
      "source": [
        "states.index"
      ],
      "execution_count": null,
      "outputs": [
        {
          "output_type": "execute_result",
          "data": {
            "text/plain": [
              "Index(['California', 'Florida', 'Illinois', 'New York', 'Texas'], dtype='object')"
            ]
          },
          "metadata": {},
          "execution_count": 18
        }
      ]
    },
    {
      "cell_type": "code",
      "metadata": {
        "id": "IxGI3YMfaA5E",
        "colab": {
          "base_uri": "https://localhost:8080/",
          "height": 206
        },
        "outputId": "e208115c-3d84-489a-bbe2-c7356e6367af"
      },
      "source": [
        "states.index = ['San Juan','Formosa','Neuquén','Jujuy', 'La Pampa']\n",
        "states"
      ],
      "execution_count": null,
      "outputs": [
        {
          "output_type": "execute_result",
          "data": {
            "text/html": [
              "<div>\n",
              "<style scoped>\n",
              "    .dataframe tbody tr th:only-of-type {\n",
              "        vertical-align: middle;\n",
              "    }\n",
              "\n",
              "    .dataframe tbody tr th {\n",
              "        vertical-align: top;\n",
              "    }\n",
              "\n",
              "    .dataframe thead th {\n",
              "        text-align: right;\n",
              "    }\n",
              "</style>\n",
              "<table border=\"1\" class=\"dataframe\">\n",
              "  <thead>\n",
              "    <tr style=\"text-align: right;\">\n",
              "      <th></th>\n",
              "      <th>population</th>\n",
              "      <th>area</th>\n",
              "    </tr>\n",
              "  </thead>\n",
              "  <tbody>\n",
              "    <tr>\n",
              "      <th>San Juan</th>\n",
              "      <td>38332521</td>\n",
              "      <td>423967</td>\n",
              "    </tr>\n",
              "    <tr>\n",
              "      <th>Formosa</th>\n",
              "      <td>19552860</td>\n",
              "      <td>170312</td>\n",
              "    </tr>\n",
              "    <tr>\n",
              "      <th>Neuquén</th>\n",
              "      <td>12882135</td>\n",
              "      <td>149995</td>\n",
              "    </tr>\n",
              "    <tr>\n",
              "      <th>Jujuy</th>\n",
              "      <td>19651127</td>\n",
              "      <td>141297</td>\n",
              "    </tr>\n",
              "    <tr>\n",
              "      <th>La Pampa</th>\n",
              "      <td>26448193</td>\n",
              "      <td>695662</td>\n",
              "    </tr>\n",
              "  </tbody>\n",
              "</table>\n",
              "</div>"
            ],
            "text/plain": [
              "          population    area\n",
              "San Juan    38332521  423967\n",
              "Formosa     19552860  170312\n",
              "Neuquén     12882135  149995\n",
              "Jujuy       19651127  141297\n",
              "La Pampa    26448193  695662"
            ]
          },
          "metadata": {},
          "execution_count": 19
        }
      ]
    },
    {
      "cell_type": "markdown",
      "metadata": {
        "id": "KYJjTHDumuQD"
      },
      "source": [
        "* Lo mismo con las columnas"
      ]
    },
    {
      "cell_type": "code",
      "metadata": {
        "id": "4FKJNuKUmtuB",
        "colab": {
          "base_uri": "https://localhost:8080/",
          "height": 206
        },
        "outputId": "b6d4e63a-63f7-4c9a-8d13-ae75550d7b41"
      },
      "source": [
        "states.columns = [\"poblacion\", \"superficie\"]\n",
        "states"
      ],
      "execution_count": null,
      "outputs": [
        {
          "output_type": "execute_result",
          "data": {
            "text/html": [
              "<div>\n",
              "<style scoped>\n",
              "    .dataframe tbody tr th:only-of-type {\n",
              "        vertical-align: middle;\n",
              "    }\n",
              "\n",
              "    .dataframe tbody tr th {\n",
              "        vertical-align: top;\n",
              "    }\n",
              "\n",
              "    .dataframe thead th {\n",
              "        text-align: right;\n",
              "    }\n",
              "</style>\n",
              "<table border=\"1\" class=\"dataframe\">\n",
              "  <thead>\n",
              "    <tr style=\"text-align: right;\">\n",
              "      <th></th>\n",
              "      <th>poblacion</th>\n",
              "      <th>superficie</th>\n",
              "    </tr>\n",
              "  </thead>\n",
              "  <tbody>\n",
              "    <tr>\n",
              "      <th>San Juan</th>\n",
              "      <td>38332521</td>\n",
              "      <td>423967</td>\n",
              "    </tr>\n",
              "    <tr>\n",
              "      <th>Formosa</th>\n",
              "      <td>19552860</td>\n",
              "      <td>170312</td>\n",
              "    </tr>\n",
              "    <tr>\n",
              "      <th>Neuquén</th>\n",
              "      <td>12882135</td>\n",
              "      <td>149995</td>\n",
              "    </tr>\n",
              "    <tr>\n",
              "      <th>Jujuy</th>\n",
              "      <td>19651127</td>\n",
              "      <td>141297</td>\n",
              "    </tr>\n",
              "    <tr>\n",
              "      <th>La Pampa</th>\n",
              "      <td>26448193</td>\n",
              "      <td>695662</td>\n",
              "    </tr>\n",
              "  </tbody>\n",
              "</table>\n",
              "</div>"
            ],
            "text/plain": [
              "          poblacion  superficie\n",
              "San Juan   38332521      423967\n",
              "Formosa    19552860      170312\n",
              "Neuquén    12882135      149995\n",
              "Jujuy      19651127      141297\n",
              "La Pampa   26448193      695662"
            ]
          },
          "metadata": {},
          "execution_count": 20
        }
      ]
    },
    {
      "cell_type": "markdown",
      "metadata": {
        "id": "DZD4L6-J2F9b"
      },
      "source": [
        "### Creación de nuevas columnas"
      ]
    },
    {
      "cell_type": "markdown",
      "metadata": {
        "id": "KjW5XXJEK52v"
      },
      "source": [
        "* Podemos modificar valores de una DataFrame (o crear nuevas columnas)\n",
        "\n"
      ]
    },
    {
      "cell_type": "code",
      "metadata": {
        "id": "vYHSgfMEK6c8",
        "colab": {
          "base_uri": "https://localhost:8080/",
          "height": 206
        },
        "outputId": "b95aef84-b9bd-4237-9142-af873c90cd1f"
      },
      "source": [
        "states['densidad'] = states['poblacion'] / states['superficie']\n",
        "states"
      ],
      "execution_count": null,
      "outputs": [
        {
          "output_type": "execute_result",
          "data": {
            "text/html": [
              "<div>\n",
              "<style scoped>\n",
              "    .dataframe tbody tr th:only-of-type {\n",
              "        vertical-align: middle;\n",
              "    }\n",
              "\n",
              "    .dataframe tbody tr th {\n",
              "        vertical-align: top;\n",
              "    }\n",
              "\n",
              "    .dataframe thead th {\n",
              "        text-align: right;\n",
              "    }\n",
              "</style>\n",
              "<table border=\"1\" class=\"dataframe\">\n",
              "  <thead>\n",
              "    <tr style=\"text-align: right;\">\n",
              "      <th></th>\n",
              "      <th>poblacion</th>\n",
              "      <th>superficie</th>\n",
              "      <th>densidad</th>\n",
              "    </tr>\n",
              "  </thead>\n",
              "  <tbody>\n",
              "    <tr>\n",
              "      <th>San Juan</th>\n",
              "      <td>38332521</td>\n",
              "      <td>423967</td>\n",
              "      <td>90.413926</td>\n",
              "    </tr>\n",
              "    <tr>\n",
              "      <th>Formosa</th>\n",
              "      <td>19552860</td>\n",
              "      <td>170312</td>\n",
              "      <td>114.806121</td>\n",
              "    </tr>\n",
              "    <tr>\n",
              "      <th>Neuquén</th>\n",
              "      <td>12882135</td>\n",
              "      <td>149995</td>\n",
              "      <td>85.883763</td>\n",
              "    </tr>\n",
              "    <tr>\n",
              "      <th>Jujuy</th>\n",
              "      <td>19651127</td>\n",
              "      <td>141297</td>\n",
              "      <td>139.076746</td>\n",
              "    </tr>\n",
              "    <tr>\n",
              "      <th>La Pampa</th>\n",
              "      <td>26448193</td>\n",
              "      <td>695662</td>\n",
              "      <td>38.018740</td>\n",
              "    </tr>\n",
              "  </tbody>\n",
              "</table>\n",
              "</div>"
            ],
            "text/plain": [
              "          poblacion  superficie    densidad\n",
              "San Juan   38332521      423967   90.413926\n",
              "Formosa    19552860      170312  114.806121\n",
              "Neuquén    12882135      149995   85.883763\n",
              "Jujuy      19651127      141297  139.076746\n",
              "La Pampa   26448193      695662   38.018740"
            ]
          },
          "metadata": {},
          "execution_count": 21
        }
      ]
    },
    {
      "cell_type": "markdown",
      "metadata": {
        "id": "Nj_Y8U4tSz4N"
      },
      "source": [
        "La asignación no es dinámica ⚡, es decir, si yo modifico una variable, las columnas que creamos como resultado de la misma no se modifican, dado que fue asignada en un estado anterior. Por ejemplo, si yo varío la población, la densidad no se modifica."
      ]
    },
    {
      "cell_type": "code",
      "metadata": {
        "colab": {
          "base_uri": "https://localhost:8080/",
          "height": 206
        },
        "id": "IrbHyDs7CZze",
        "outputId": "9cb33fdb-0fad-4ab8-d8fe-0ad676c2cdef"
      },
      "source": [
        "states[\"superficie\"] = states[\"superficie\"]/1000\n",
        "states"
      ],
      "execution_count": null,
      "outputs": [
        {
          "output_type": "execute_result",
          "data": {
            "text/html": [
              "<div>\n",
              "<style scoped>\n",
              "    .dataframe tbody tr th:only-of-type {\n",
              "        vertical-align: middle;\n",
              "    }\n",
              "\n",
              "    .dataframe tbody tr th {\n",
              "        vertical-align: top;\n",
              "    }\n",
              "\n",
              "    .dataframe thead th {\n",
              "        text-align: right;\n",
              "    }\n",
              "</style>\n",
              "<table border=\"1\" class=\"dataframe\">\n",
              "  <thead>\n",
              "    <tr style=\"text-align: right;\">\n",
              "      <th></th>\n",
              "      <th>poblacion</th>\n",
              "      <th>superficie</th>\n",
              "      <th>densidad</th>\n",
              "    </tr>\n",
              "  </thead>\n",
              "  <tbody>\n",
              "    <tr>\n",
              "      <th>0</th>\n",
              "      <td>NaN</td>\n",
              "      <td>423.967</td>\n",
              "      <td>NaN</td>\n",
              "    </tr>\n",
              "    <tr>\n",
              "      <th>1</th>\n",
              "      <td>1.955286e+10</td>\n",
              "      <td>170.312</td>\n",
              "      <td>114.806121</td>\n",
              "    </tr>\n",
              "    <tr>\n",
              "      <th>2</th>\n",
              "      <td>1.288214e+10</td>\n",
              "      <td>149.995</td>\n",
              "      <td>85.883763</td>\n",
              "    </tr>\n",
              "    <tr>\n",
              "      <th>3</th>\n",
              "      <td>1.965113e+10</td>\n",
              "      <td>141.297</td>\n",
              "      <td>139.076746</td>\n",
              "    </tr>\n",
              "    <tr>\n",
              "      <th>4</th>\n",
              "      <td>NaN</td>\n",
              "      <td>695.662</td>\n",
              "      <td>NaN</td>\n",
              "    </tr>\n",
              "  </tbody>\n",
              "</table>\n",
              "</div>"
            ],
            "text/plain": [
              "      poblacion  superficie    densidad\n",
              "0           NaN     423.967         NaN\n",
              "1  1.955286e+10     170.312  114.806121\n",
              "2  1.288214e+10     149.995   85.883763\n",
              "3  1.965113e+10     141.297  139.076746\n",
              "4           NaN     695.662         NaN"
            ]
          },
          "metadata": {},
          "execution_count": 97
        }
      ]
    },
    {
      "cell_type": "markdown",
      "metadata": {
        "id": "97ILfQwoUgYH"
      },
      "source": [
        "Tambien podemos ordenar las columnas de la siguiente manera"
      ]
    },
    {
      "cell_type": "code",
      "metadata": {
        "id": "H2Hfg0COUlJb",
        "colab": {
          "base_uri": "https://localhost:8080/",
          "height": 206
        },
        "outputId": "72a1d65f-68c9-4078-b5fe-e78dbf060147"
      },
      "source": [
        "states[[\"densidad\",\"superficie\", \"poblacion\"]]"
      ],
      "execution_count": null,
      "outputs": [
        {
          "output_type": "execute_result",
          "data": {
            "text/html": [
              "<div>\n",
              "<style scoped>\n",
              "    .dataframe tbody tr th:only-of-type {\n",
              "        vertical-align: middle;\n",
              "    }\n",
              "\n",
              "    .dataframe tbody tr th {\n",
              "        vertical-align: top;\n",
              "    }\n",
              "\n",
              "    .dataframe thead th {\n",
              "        text-align: right;\n",
              "    }\n",
              "</style>\n",
              "<table border=\"1\" class=\"dataframe\">\n",
              "  <thead>\n",
              "    <tr style=\"text-align: right;\">\n",
              "      <th></th>\n",
              "      <th>densidad</th>\n",
              "      <th>superficie</th>\n",
              "      <th>poblacion</th>\n",
              "    </tr>\n",
              "  </thead>\n",
              "  <tbody>\n",
              "    <tr>\n",
              "      <th>San Juan</th>\n",
              "      <td>90.413926</td>\n",
              "      <td>423967</td>\n",
              "      <td>38332521.0</td>\n",
              "    </tr>\n",
              "    <tr>\n",
              "      <th>Formosa</th>\n",
              "      <td>114.806121</td>\n",
              "      <td>170312</td>\n",
              "      <td>19552860.0</td>\n",
              "    </tr>\n",
              "    <tr>\n",
              "      <th>Neuquén</th>\n",
              "      <td>85.883763</td>\n",
              "      <td>149995</td>\n",
              "      <td>12882135.0</td>\n",
              "    </tr>\n",
              "    <tr>\n",
              "      <th>Jujuy</th>\n",
              "      <td>139.076746</td>\n",
              "      <td>141297</td>\n",
              "      <td>19651127.0</td>\n",
              "    </tr>\n",
              "    <tr>\n",
              "      <th>La Pampa</th>\n",
              "      <td>38.018740</td>\n",
              "      <td>695662</td>\n",
              "      <td>26448193.0</td>\n",
              "    </tr>\n",
              "  </tbody>\n",
              "</table>\n",
              "</div>"
            ],
            "text/plain": [
              "            densidad  superficie   poblacion\n",
              "San Juan   90.413926      423967  38332521.0\n",
              "Formosa   114.806121      170312  19552860.0\n",
              "Neuquén    85.883763      149995  12882135.0\n",
              "Jujuy     139.076746      141297  19651127.0\n",
              "La Pampa   38.018740      695662  26448193.0"
            ]
          },
          "metadata": {},
          "execution_count": 26
        }
      ]
    },
    {
      "cell_type": "markdown",
      "metadata": {
        "id": "duKMFkRU2Kxu"
      },
      "source": [
        "### Filtro de observaciones"
      ]
    },
    {
      "cell_type": "markdown",
      "metadata": {
        "id": "J8ZlOypVuGTj"
      },
      "source": [
        "Para filtrar observaciones hay dos maneras, las cuales poseen sutiles diferencias. \n",
        "\n",
        "* Primero veamos que ocurre cuando operamos con una condición lógica sobre una columna"
      ]
    },
    {
      "cell_type": "code",
      "metadata": {
        "id": "a9ZYjE2dj0iN",
        "colab": {
          "base_uri": "https://localhost:8080/"
        },
        "outputId": "7ffbab75-68a5-44ea-fbf2-b2ef522b6a45"
      },
      "source": [
        "states.poblacion > 20000000"
      ],
      "execution_count": null,
      "outputs": [
        {
          "output_type": "execute_result",
          "data": {
            "text/plain": [
              "San Juan     True\n",
              "Formosa     False\n",
              "Neuquén     False\n",
              "Jujuy       False\n",
              "La Pampa     True\n",
              "Name: poblacion, dtype: bool"
            ]
          },
          "metadata": {},
          "execution_count": 27
        }
      ]
    },
    {
      "cell_type": "markdown",
      "metadata": {
        "id": "e72rYyk0yPdS"
      },
      "source": [
        "En este caso,\n",
        "```\n",
        "states.poblacion > 20000000\n",
        "```\n",
        "genera un objeto Series con True en donde se cumple la condición y False donde no. Luego podemos quedarnos con solo las filas que cumplen la condición indexando el dataframe con este Series resultante."
      ]
    },
    {
      "cell_type": "markdown",
      "metadata": {
        "id": "92lcQStGpX1Q"
      },
      "source": [
        "Este vector de booleanos nos puede ser útil para filtrar observaciones"
      ]
    },
    {
      "cell_type": "code",
      "metadata": {
        "id": "YNGQntcWpf66",
        "colab": {
          "base_uri": "https://localhost:8080/",
          "height": 112
        },
        "outputId": "9b16e309-4573-4cd8-f5f3-9c353bbb6770"
      },
      "source": [
        "states[states[\"poblacion\"] > 20000000] "
      ],
      "execution_count": null,
      "outputs": [
        {
          "output_type": "execute_result",
          "data": {
            "text/html": [
              "<div>\n",
              "<style scoped>\n",
              "    .dataframe tbody tr th:only-of-type {\n",
              "        vertical-align: middle;\n",
              "    }\n",
              "\n",
              "    .dataframe tbody tr th {\n",
              "        vertical-align: top;\n",
              "    }\n",
              "\n",
              "    .dataframe thead th {\n",
              "        text-align: right;\n",
              "    }\n",
              "</style>\n",
              "<table border=\"1\" class=\"dataframe\">\n",
              "  <thead>\n",
              "    <tr style=\"text-align: right;\">\n",
              "      <th></th>\n",
              "      <th>poblacion</th>\n",
              "      <th>superficie</th>\n",
              "      <th>densidad</th>\n",
              "    </tr>\n",
              "  </thead>\n",
              "  <tbody>\n",
              "    <tr>\n",
              "      <th>San Juan</th>\n",
              "      <td>38332521.0</td>\n",
              "      <td>423967</td>\n",
              "      <td>90.413926</td>\n",
              "    </tr>\n",
              "    <tr>\n",
              "      <th>La Pampa</th>\n",
              "      <td>26448193.0</td>\n",
              "      <td>695662</td>\n",
              "      <td>38.018740</td>\n",
              "    </tr>\n",
              "  </tbody>\n",
              "</table>\n",
              "</div>"
            ],
            "text/plain": [
              "           poblacion  superficie   densidad\n",
              "San Juan  38332521.0      423967  90.413926\n",
              "La Pampa  26448193.0      695662  38.018740"
            ]
          },
          "metadata": {},
          "execution_count": 28
        }
      ]
    },
    {
      "cell_type": "markdown",
      "metadata": {
        "id": "uSrMpbYVrSW9"
      },
      "source": [
        "Podemos acceder a menos columnas invocándolas entre corchetes"
      ]
    },
    {
      "cell_type": "code",
      "metadata": {
        "id": "ayErM-CnreVk",
        "colab": {
          "base_uri": "https://localhost:8080/",
          "height": 112
        },
        "outputId": "60193314-107b-4a67-b6d1-48cc794eae16"
      },
      "source": [
        "states[states[\"poblacion\"] > 20000000][[\"densidad\", \"poblacion\"]] "
      ],
      "execution_count": null,
      "outputs": [
        {
          "output_type": "execute_result",
          "data": {
            "text/html": [
              "<div>\n",
              "<style scoped>\n",
              "    .dataframe tbody tr th:only-of-type {\n",
              "        vertical-align: middle;\n",
              "    }\n",
              "\n",
              "    .dataframe tbody tr th {\n",
              "        vertical-align: top;\n",
              "    }\n",
              "\n",
              "    .dataframe thead th {\n",
              "        text-align: right;\n",
              "    }\n",
              "</style>\n",
              "<table border=\"1\" class=\"dataframe\">\n",
              "  <thead>\n",
              "    <tr style=\"text-align: right;\">\n",
              "      <th></th>\n",
              "      <th>densidad</th>\n",
              "      <th>poblacion</th>\n",
              "    </tr>\n",
              "  </thead>\n",
              "  <tbody>\n",
              "    <tr>\n",
              "      <th>San Juan</th>\n",
              "      <td>90.413926</td>\n",
              "      <td>38332521.0</td>\n",
              "    </tr>\n",
              "    <tr>\n",
              "      <th>La Pampa</th>\n",
              "      <td>38.018740</td>\n",
              "      <td>26448193.0</td>\n",
              "    </tr>\n",
              "  </tbody>\n",
              "</table>\n",
              "</div>"
            ],
            "text/plain": [
              "           densidad   poblacion\n",
              "San Juan  90.413926  38332521.0\n",
              "La Pampa  38.018740  26448193.0"
            ]
          },
          "metadata": {},
          "execution_count": 29
        }
      ]
    },
    {
      "cell_type": "markdown",
      "metadata": {
        "id": "-dTTO08d2P04"
      },
      "source": [
        "#### **`.loc`** e **`.iloc`**"
      ]
    },
    {
      "cell_type": "markdown",
      "metadata": {
        "id": "RPk7x1bNyRm6"
      },
      "source": [
        "* No obstante, existe un método más potente con el cual podemos acceder a también a las filas. Esto se realiza mediante **`.iloc[]`** utilizando el número de índice/posición o mediante el nombre del índice o columna usando **`.loc[]`**.\n",
        "\n",
        "\n",
        "\n",
        "```\n",
        "#con .iloc (selección implícita)\n",
        "NombreDataFrame.iloc[numero_filas, numero_columnas]\n",
        "\n",
        "#con .loc (selección explícita)\n",
        "NombreDataFrame.loc[nombre_indice, nombre_columnas]\n",
        "```\n",
        "\n",
        "![](https://shanelynnwebsite-mid9n9g1q9y8tt.netdna-ssl.com/wp-content/uploads/2016/10/Pandas-selections-and-indexing-1024x731.png)"
      ]
    },
    {
      "cell_type": "code",
      "metadata": {
        "id": "av1Mhuh8EjXR",
        "colab": {
          "base_uri": "https://localhost:8080/",
          "height": 143
        },
        "outputId": "12378369-778a-4ef1-d7e1-bec6372187f3"
      },
      "source": [
        "states.iloc[:3, :1]"
      ],
      "execution_count": null,
      "outputs": [
        {
          "output_type": "execute_result",
          "data": {
            "text/html": [
              "<div>\n",
              "<style scoped>\n",
              "    .dataframe tbody tr th:only-of-type {\n",
              "        vertical-align: middle;\n",
              "    }\n",
              "\n",
              "    .dataframe tbody tr th {\n",
              "        vertical-align: top;\n",
              "    }\n",
              "\n",
              "    .dataframe thead th {\n",
              "        text-align: right;\n",
              "    }\n",
              "</style>\n",
              "<table border=\"1\" class=\"dataframe\">\n",
              "  <thead>\n",
              "    <tr style=\"text-align: right;\">\n",
              "      <th></th>\n",
              "      <th>poblacion</th>\n",
              "    </tr>\n",
              "  </thead>\n",
              "  <tbody>\n",
              "    <tr>\n",
              "      <th>San Juan</th>\n",
              "      <td>38332521.0</td>\n",
              "    </tr>\n",
              "    <tr>\n",
              "      <th>Formosa</th>\n",
              "      <td>19552860.0</td>\n",
              "    </tr>\n",
              "    <tr>\n",
              "      <th>Neuquén</th>\n",
              "      <td>12882135.0</td>\n",
              "    </tr>\n",
              "  </tbody>\n",
              "</table>\n",
              "</div>"
            ],
            "text/plain": [
              "           poblacion\n",
              "San Juan  38332521.0\n",
              "Formosa   19552860.0\n",
              "Neuquén   12882135.0"
            ]
          },
          "metadata": {},
          "execution_count": 30
        }
      ]
    },
    {
      "cell_type": "code",
      "metadata": {
        "id": "7HUradNJIoZ0",
        "colab": {
          "base_uri": "https://localhost:8080/",
          "height": 143
        },
        "outputId": "f25ecb82-9d98-4a9d-87f6-2f4ff24747a1"
      },
      "source": [
        "states.loc[:'Neuquén', :'poblacion']"
      ],
      "execution_count": null,
      "outputs": [
        {
          "output_type": "execute_result",
          "data": {
            "text/html": [
              "<div>\n",
              "<style scoped>\n",
              "    .dataframe tbody tr th:only-of-type {\n",
              "        vertical-align: middle;\n",
              "    }\n",
              "\n",
              "    .dataframe tbody tr th {\n",
              "        vertical-align: top;\n",
              "    }\n",
              "\n",
              "    .dataframe thead th {\n",
              "        text-align: right;\n",
              "    }\n",
              "</style>\n",
              "<table border=\"1\" class=\"dataframe\">\n",
              "  <thead>\n",
              "    <tr style=\"text-align: right;\">\n",
              "      <th></th>\n",
              "      <th>poblacion</th>\n",
              "    </tr>\n",
              "  </thead>\n",
              "  <tbody>\n",
              "    <tr>\n",
              "      <th>San Juan</th>\n",
              "      <td>38332521.0</td>\n",
              "    </tr>\n",
              "    <tr>\n",
              "      <th>Formosa</th>\n",
              "      <td>19552860.0</td>\n",
              "    </tr>\n",
              "    <tr>\n",
              "      <th>Neuquén</th>\n",
              "      <td>12882135.0</td>\n",
              "    </tr>\n",
              "  </tbody>\n",
              "</table>\n",
              "</div>"
            ],
            "text/plain": [
              "           poblacion\n",
              "San Juan  38332521.0\n",
              "Formosa   19552860.0\n",
              "Neuquén   12882135.0"
            ]
          },
          "metadata": {},
          "execution_count": 31
        }
      ]
    },
    {
      "cell_type": "markdown",
      "metadata": {
        "id": "j6DK6Ppwol90"
      },
      "source": [
        "Podemos no especificar las filas o columnas a rescatar, y en ese caso devuelves todas por default"
      ]
    },
    {
      "cell_type": "code",
      "metadata": {
        "id": "FI4_x2WKNjpe",
        "colab": {
          "base_uri": "https://localhost:8080/",
          "height": 112
        },
        "outputId": "0f1d3406-30e2-4443-a038-7b729f298f4d"
      },
      "source": [
        "states.loc[\"Formosa\":'Neuquén']"
      ],
      "execution_count": null,
      "outputs": [
        {
          "output_type": "execute_result",
          "data": {
            "text/html": [
              "<div>\n",
              "<style scoped>\n",
              "    .dataframe tbody tr th:only-of-type {\n",
              "        vertical-align: middle;\n",
              "    }\n",
              "\n",
              "    .dataframe tbody tr th {\n",
              "        vertical-align: top;\n",
              "    }\n",
              "\n",
              "    .dataframe thead th {\n",
              "        text-align: right;\n",
              "    }\n",
              "</style>\n",
              "<table border=\"1\" class=\"dataframe\">\n",
              "  <thead>\n",
              "    <tr style=\"text-align: right;\">\n",
              "      <th></th>\n",
              "      <th>poblacion</th>\n",
              "      <th>superficie</th>\n",
              "      <th>densidad</th>\n",
              "    </tr>\n",
              "  </thead>\n",
              "  <tbody>\n",
              "    <tr>\n",
              "      <th>Formosa</th>\n",
              "      <td>19552860.0</td>\n",
              "      <td>170312</td>\n",
              "      <td>114.806121</td>\n",
              "    </tr>\n",
              "    <tr>\n",
              "      <th>Neuquén</th>\n",
              "      <td>12882135.0</td>\n",
              "      <td>149995</td>\n",
              "      <td>85.883763</td>\n",
              "    </tr>\n",
              "  </tbody>\n",
              "</table>\n",
              "</div>"
            ],
            "text/plain": [
              "          poblacion  superficie    densidad\n",
              "Formosa  19552860.0      170312  114.806121\n",
              "Neuquén  12882135.0      149995   85.883763"
            ]
          },
          "metadata": {},
          "execution_count": 33
        }
      ]
    },
    {
      "cell_type": "markdown",
      "metadata": {
        "id": "GtLmrcMao2qT"
      },
      "source": [
        "Si filtramos una sóla columna, el objeto que devuelve ya no es un data frame, sino un Series"
      ]
    },
    {
      "cell_type": "code",
      "metadata": {
        "id": "8fueMO2Q1LCB",
        "colab": {
          "base_uri": "https://localhost:8080/"
        },
        "outputId": "62aa99da-d6f6-464b-e36b-04a3d39f86da"
      },
      "source": [
        "print(states.loc['Formosa'])\n",
        "print('\\n')\n",
        "print(states.iloc[1])"
      ],
      "execution_count": null,
      "outputs": [
        {
          "output_type": "stream",
          "name": "stdout",
          "text": [
            "poblacion     1.955286e+07\n",
            "superficie    1.703120e+05\n",
            "densidad      1.148061e+02\n",
            "Name: Formosa, dtype: float64\n",
            "\n",
            "\n",
            "poblacion     1.955286e+07\n",
            "superficie    1.703120e+05\n",
            "densidad      1.148061e+02\n",
            "Name: Formosa, dtype: float64\n"
          ]
        }
      ]
    },
    {
      "cell_type": "markdown",
      "metadata": {
        "id": "srfsB-L5KruT"
      },
      "source": [
        "* Podemos indexar un DataFrame usando loc y máscaras booleanas, de modo de filtrar observaciones. Realicemos el mismo filtro visto anteriormente\n"
      ]
    },
    {
      "cell_type": "code",
      "metadata": {
        "id": "6B3v7myDKjzr",
        "colab": {
          "base_uri": "https://localhost:8080/",
          "height": 112
        },
        "outputId": "df5b0c17-6ebe-4cf5-e9ec-1cd45daea98b"
      },
      "source": [
        "states.loc[states.poblacion > 20000000 , ['densidad', 'poblacion']]"
      ],
      "execution_count": null,
      "outputs": [
        {
          "output_type": "execute_result",
          "data": {
            "text/html": [
              "<div>\n",
              "<style scoped>\n",
              "    .dataframe tbody tr th:only-of-type {\n",
              "        vertical-align: middle;\n",
              "    }\n",
              "\n",
              "    .dataframe tbody tr th {\n",
              "        vertical-align: top;\n",
              "    }\n",
              "\n",
              "    .dataframe thead th {\n",
              "        text-align: right;\n",
              "    }\n",
              "</style>\n",
              "<table border=\"1\" class=\"dataframe\">\n",
              "  <thead>\n",
              "    <tr style=\"text-align: right;\">\n",
              "      <th></th>\n",
              "      <th>densidad</th>\n",
              "      <th>poblacion</th>\n",
              "    </tr>\n",
              "  </thead>\n",
              "  <tbody>\n",
              "    <tr>\n",
              "      <th>San Juan</th>\n",
              "      <td>90.413926</td>\n",
              "      <td>38332521.0</td>\n",
              "    </tr>\n",
              "    <tr>\n",
              "      <th>La Pampa</th>\n",
              "      <td>38.018740</td>\n",
              "      <td>26448193.0</td>\n",
              "    </tr>\n",
              "  </tbody>\n",
              "</table>\n",
              "</div>"
            ],
            "text/plain": [
              "           densidad   poblacion\n",
              "San Juan  90.413926  38332521.0\n",
              "La Pampa  38.018740  26448193.0"
            ]
          },
          "metadata": {},
          "execution_count": 36
        }
      ]
    },
    {
      "cell_type": "markdown",
      "metadata": {
        "id": "rvUGFS4pyGnx"
      },
      "source": [
        "La ventaja de utilizar .loc o .iloc es que podemos modificar esos valores específicos del dataset de la siguiente manera"
      ]
    },
    {
      "cell_type": "code",
      "metadata": {
        "id": "yFGtnIqeyMTt",
        "colab": {
          "base_uri": "https://localhost:8080/",
          "height": 206
        },
        "outputId": "5d75573a-2970-4919-d1dd-3ac2a79677cf"
      },
      "source": [
        "states.loc[states.poblacion > 20000000 , [\"poblacion\", 'densidad'] ] = np.nan\n",
        "states"
      ],
      "execution_count": null,
      "outputs": [
        {
          "output_type": "execute_result",
          "data": {
            "text/html": [
              "<div>\n",
              "<style scoped>\n",
              "    .dataframe tbody tr th:only-of-type {\n",
              "        vertical-align: middle;\n",
              "    }\n",
              "\n",
              "    .dataframe tbody tr th {\n",
              "        vertical-align: top;\n",
              "    }\n",
              "\n",
              "    .dataframe thead th {\n",
              "        text-align: right;\n",
              "    }\n",
              "</style>\n",
              "<table border=\"1\" class=\"dataframe\">\n",
              "  <thead>\n",
              "    <tr style=\"text-align: right;\">\n",
              "      <th></th>\n",
              "      <th>poblacion</th>\n",
              "      <th>superficie</th>\n",
              "      <th>densidad</th>\n",
              "    </tr>\n",
              "  </thead>\n",
              "  <tbody>\n",
              "    <tr>\n",
              "      <th>San Juan</th>\n",
              "      <td>NaN</td>\n",
              "      <td>423967</td>\n",
              "      <td>NaN</td>\n",
              "    </tr>\n",
              "    <tr>\n",
              "      <th>Formosa</th>\n",
              "      <td>19552860.0</td>\n",
              "      <td>170312</td>\n",
              "      <td>114.806121</td>\n",
              "    </tr>\n",
              "    <tr>\n",
              "      <th>Neuquén</th>\n",
              "      <td>12882135.0</td>\n",
              "      <td>149995</td>\n",
              "      <td>85.883763</td>\n",
              "    </tr>\n",
              "    <tr>\n",
              "      <th>Jujuy</th>\n",
              "      <td>19651127.0</td>\n",
              "      <td>141297</td>\n",
              "      <td>139.076746</td>\n",
              "    </tr>\n",
              "    <tr>\n",
              "      <th>La Pampa</th>\n",
              "      <td>NaN</td>\n",
              "      <td>695662</td>\n",
              "      <td>NaN</td>\n",
              "    </tr>\n",
              "  </tbody>\n",
              "</table>\n",
              "</div>"
            ],
            "text/plain": [
              "           poblacion  superficie    densidad\n",
              "San Juan         NaN      423967         NaN\n",
              "Formosa   19552860.0      170312  114.806121\n",
              "Neuquén   12882135.0      149995   85.883763\n",
              "Jujuy     19651127.0      141297  139.076746\n",
              "La Pampa         NaN      695662         NaN"
            ]
          },
          "metadata": {},
          "execution_count": 38
        }
      ]
    },
    {
      "cell_type": "markdown",
      "metadata": {
        "id": "tasJn6Gd2l4o"
      },
      "source": [
        "### Registración de nuevas observaciones"
      ]
    },
    {
      "cell_type": "markdown",
      "metadata": {
        "id": "rwzfIH17yzDc"
      },
      "source": [
        "* Podemos agregar nuevas filas al final del dataset con la función `append()` que ya utilizamos con las listas. Por ejemplo, agreguemos una observación duplicada"
      ]
    },
    {
      "cell_type": "code",
      "metadata": {
        "id": "_sfImTcIy5Et",
        "colab": {
          "base_uri": "https://localhost:8080/",
          "height": 237
        },
        "outputId": "e95c7d47-66b0-462d-f93b-81640745d2ab"
      },
      "source": [
        "states = states.append({\"poblacion\":np.nan,\t\"superficie\": 423.967,\"densidad\":\tnp.nan} , ignore_index= True)\n",
        "states"
      ],
      "execution_count": null,
      "outputs": [
        {
          "output_type": "execute_result",
          "data": {
            "text/html": [
              "<div>\n",
              "<style scoped>\n",
              "    .dataframe tbody tr th:only-of-type {\n",
              "        vertical-align: middle;\n",
              "    }\n",
              "\n",
              "    .dataframe tbody tr th {\n",
              "        vertical-align: top;\n",
              "    }\n",
              "\n",
              "    .dataframe thead th {\n",
              "        text-align: right;\n",
              "    }\n",
              "</style>\n",
              "<table border=\"1\" class=\"dataframe\">\n",
              "  <thead>\n",
              "    <tr style=\"text-align: right;\">\n",
              "      <th></th>\n",
              "      <th>poblacion</th>\n",
              "      <th>superficie</th>\n",
              "      <th>densidad</th>\n",
              "    </tr>\n",
              "  </thead>\n",
              "  <tbody>\n",
              "    <tr>\n",
              "      <th>0</th>\n",
              "      <td>NaN</td>\n",
              "      <td>423.967</td>\n",
              "      <td>NaN</td>\n",
              "    </tr>\n",
              "    <tr>\n",
              "      <th>1</th>\n",
              "      <td>1.955286e+10</td>\n",
              "      <td>170.312</td>\n",
              "      <td>114.806121</td>\n",
              "    </tr>\n",
              "    <tr>\n",
              "      <th>2</th>\n",
              "      <td>1.288214e+10</td>\n",
              "      <td>149.995</td>\n",
              "      <td>85.883763</td>\n",
              "    </tr>\n",
              "    <tr>\n",
              "      <th>3</th>\n",
              "      <td>1.965113e+10</td>\n",
              "      <td>141.297</td>\n",
              "      <td>139.076746</td>\n",
              "    </tr>\n",
              "    <tr>\n",
              "      <th>4</th>\n",
              "      <td>NaN</td>\n",
              "      <td>695.662</td>\n",
              "      <td>NaN</td>\n",
              "    </tr>\n",
              "    <tr>\n",
              "      <th>5</th>\n",
              "      <td>NaN</td>\n",
              "      <td>423.967</td>\n",
              "      <td>NaN</td>\n",
              "    </tr>\n",
              "  </tbody>\n",
              "</table>\n",
              "</div>"
            ],
            "text/plain": [
              "      poblacion  superficie    densidad\n",
              "0           NaN     423.967         NaN\n",
              "1  1.955286e+10     170.312  114.806121\n",
              "2  1.288214e+10     149.995   85.883763\n",
              "3  1.965113e+10     141.297  139.076746\n",
              "4           NaN     695.662         NaN\n",
              "5           NaN     423.967         NaN"
            ]
          },
          "metadata": {},
          "execution_count": 98
        }
      ]
    },
    {
      "cell_type": "markdown",
      "metadata": {
        "id": "hiZsPa6h0f6e"
      },
      "source": [
        "`ignore_index=True` ignorará el index del nuevo dataframe y le asignará un nuevo índice. Podemos reasignar los índices con la función `set_index()` que veremos próximamente."
      ]
    },
    {
      "cell_type": "markdown",
      "metadata": {
        "id": "dMGkjhsY2rN0"
      },
      "source": [
        "### Tratamiento de duplicados"
      ]
    },
    {
      "cell_type": "markdown",
      "metadata": {
        "id": "jow6LE6sIpnG"
      },
      "source": [
        "* Puede que nuestros datos tengan entradas duplicadas. Es fácil detectarlas usando el método **duplicated()** y borrarlas usando **drop_duplicates()**"
      ]
    },
    {
      "cell_type": "code",
      "metadata": {
        "id": "C01QTcyW02ym",
        "colab": {
          "base_uri": "https://localhost:8080/"
        },
        "outputId": "d02833e0-dfc8-4d9a-9845-90f2ceefd240"
      },
      "source": [
        "print('Dataframe original\\n')\n",
        "print(states)\n",
        "\n",
        "print('\\n¿Está duplicado?\\n')\n",
        "print(states.duplicated())\n",
        "\n",
        "print('\\nEntradas duplicadas\\n')\n",
        "print(states[states.duplicated()])\n",
        "\n",
        "print('\\nDataframe sin entradas duplicadas\\n')\n",
        "print(states.drop_duplicates())"
      ],
      "execution_count": null,
      "outputs": [
        {
          "output_type": "stream",
          "name": "stdout",
          "text": [
            "Dataframe original\n",
            "\n",
            "      poblacion  superficie    densidad\n",
            "0           NaN     423.967         NaN\n",
            "1  1.955286e+10     170.312  114.806121\n",
            "2  1.288214e+10     149.995   85.883763\n",
            "3  1.965113e+10     141.297  139.076746\n",
            "4           NaN     695.662         NaN\n",
            "5           NaN     423.967         NaN\n",
            "\n",
            "¿Está duplicado?\n",
            "\n",
            "0    False\n",
            "1    False\n",
            "2    False\n",
            "3    False\n",
            "4    False\n",
            "5     True\n",
            "dtype: bool\n",
            "\n",
            "Entradas duplicadas\n",
            "\n",
            "   poblacion  superficie  densidad\n",
            "5        NaN     423.967       NaN\n",
            "\n",
            "Dataframe sin entradas duplicadas\n",
            "\n",
            "      poblacion  superficie    densidad\n",
            "0           NaN     423.967         NaN\n",
            "1  1.955286e+10     170.312  114.806121\n",
            "2  1.288214e+10     149.995   85.883763\n",
            "3  1.965113e+10     141.297  139.076746\n",
            "4           NaN     695.662         NaN\n"
          ]
        }
      ]
    },
    {
      "cell_type": "markdown",
      "metadata": {
        "id": "FeDrHkDT2t9l"
      },
      "source": [
        "Si queremos seguir operando con el dataset ya sin duplicados, podemos utilizar el parámetro `inplace=True`, dentro de la función `drop_duplicates()`. Esto permite no tener que redifinir la variable, sino que el cambio se hace \"en el lugar\". "
      ]
    },
    {
      "cell_type": "code",
      "metadata": {
        "id": "MEpUxnxB2-xp",
        "colab": {
          "base_uri": "https://localhost:8080/",
          "height": 206
        },
        "outputId": "4d2629cb-da7c-4cac-b6e8-8044596d6124"
      },
      "source": [
        "states.drop_duplicates(inplace= True)\n",
        "states"
      ],
      "execution_count": null,
      "outputs": [
        {
          "output_type": "execute_result",
          "data": {
            "text/html": [
              "<div>\n",
              "<style scoped>\n",
              "    .dataframe tbody tr th:only-of-type {\n",
              "        vertical-align: middle;\n",
              "    }\n",
              "\n",
              "    .dataframe tbody tr th {\n",
              "        vertical-align: top;\n",
              "    }\n",
              "\n",
              "    .dataframe thead th {\n",
              "        text-align: right;\n",
              "    }\n",
              "</style>\n",
              "<table border=\"1\" class=\"dataframe\">\n",
              "  <thead>\n",
              "    <tr style=\"text-align: right;\">\n",
              "      <th></th>\n",
              "      <th>poblacion</th>\n",
              "      <th>superficie</th>\n",
              "      <th>densidad</th>\n",
              "    </tr>\n",
              "  </thead>\n",
              "  <tbody>\n",
              "    <tr>\n",
              "      <th>0</th>\n",
              "      <td>NaN</td>\n",
              "      <td>423967.0</td>\n",
              "      <td>NaN</td>\n",
              "    </tr>\n",
              "    <tr>\n",
              "      <th>1</th>\n",
              "      <td>19552860.0</td>\n",
              "      <td>170312.0</td>\n",
              "      <td>114.806121</td>\n",
              "    </tr>\n",
              "    <tr>\n",
              "      <th>2</th>\n",
              "      <td>12882135.0</td>\n",
              "      <td>149995.0</td>\n",
              "      <td>85.883763</td>\n",
              "    </tr>\n",
              "    <tr>\n",
              "      <th>3</th>\n",
              "      <td>19651127.0</td>\n",
              "      <td>141297.0</td>\n",
              "      <td>139.076746</td>\n",
              "    </tr>\n",
              "    <tr>\n",
              "      <th>4</th>\n",
              "      <td>NaN</td>\n",
              "      <td>695662.0</td>\n",
              "      <td>NaN</td>\n",
              "    </tr>\n",
              "  </tbody>\n",
              "</table>\n",
              "</div>"
            ],
            "text/plain": [
              "    poblacion  superficie    densidad\n",
              "0         NaN    423967.0         NaN\n",
              "1  19552860.0    170312.0  114.806121\n",
              "2  12882135.0    149995.0   85.883763\n",
              "3  19651127.0    141297.0  139.076746\n",
              "4         NaN    695662.0         NaN"
            ]
          },
          "metadata": {},
          "execution_count": 41
        }
      ]
    },
    {
      "cell_type": "markdown",
      "metadata": {
        "id": "4bl5PwVa3NJg"
      },
      "source": [
        "Esto es lo mismo que hacer lo siguiente"
      ]
    },
    {
      "cell_type": "code",
      "metadata": {
        "id": "1nmo8NOJ3MmY",
        "colab": {
          "base_uri": "https://localhost:8080/",
          "height": 206
        },
        "outputId": "1be098e5-69ab-4506-e717-0235b389ac87"
      },
      "source": [
        "states = states.drop_duplicates(inplace= False)\n",
        "states"
      ],
      "execution_count": null,
      "outputs": [
        {
          "output_type": "execute_result",
          "data": {
            "text/html": [
              "<div>\n",
              "<style scoped>\n",
              "    .dataframe tbody tr th:only-of-type {\n",
              "        vertical-align: middle;\n",
              "    }\n",
              "\n",
              "    .dataframe tbody tr th {\n",
              "        vertical-align: top;\n",
              "    }\n",
              "\n",
              "    .dataframe thead th {\n",
              "        text-align: right;\n",
              "    }\n",
              "</style>\n",
              "<table border=\"1\" class=\"dataframe\">\n",
              "  <thead>\n",
              "    <tr style=\"text-align: right;\">\n",
              "      <th></th>\n",
              "      <th>poblacion</th>\n",
              "      <th>superficie</th>\n",
              "      <th>densidad</th>\n",
              "    </tr>\n",
              "  </thead>\n",
              "  <tbody>\n",
              "    <tr>\n",
              "      <th>0</th>\n",
              "      <td>NaN</td>\n",
              "      <td>423967.0</td>\n",
              "      <td>NaN</td>\n",
              "    </tr>\n",
              "    <tr>\n",
              "      <th>1</th>\n",
              "      <td>19552860.0</td>\n",
              "      <td>170312.0</td>\n",
              "      <td>114.806121</td>\n",
              "    </tr>\n",
              "    <tr>\n",
              "      <th>2</th>\n",
              "      <td>12882135.0</td>\n",
              "      <td>149995.0</td>\n",
              "      <td>85.883763</td>\n",
              "    </tr>\n",
              "    <tr>\n",
              "      <th>3</th>\n",
              "      <td>19651127.0</td>\n",
              "      <td>141297.0</td>\n",
              "      <td>139.076746</td>\n",
              "    </tr>\n",
              "    <tr>\n",
              "      <th>4</th>\n",
              "      <td>NaN</td>\n",
              "      <td>695662.0</td>\n",
              "      <td>NaN</td>\n",
              "    </tr>\n",
              "  </tbody>\n",
              "</table>\n",
              "</div>"
            ],
            "text/plain": [
              "    poblacion  superficie    densidad\n",
              "0         NaN    423967.0         NaN\n",
              "1  19552860.0    170312.0  114.806121\n",
              "2  12882135.0    149995.0   85.883763\n",
              "3  19651127.0    141297.0  139.076746\n",
              "4         NaN    695662.0         NaN"
            ]
          },
          "metadata": {},
          "execution_count": 43
        }
      ]
    },
    {
      "cell_type": "markdown",
      "metadata": {
        "id": "gUhdQtSQqLld"
      },
      "source": [
        "## Leer un archivo CSV, Excel, etc...\n",
        "\n",
        "Otra manera de crear dataframes, es leyendo archivos con datos, en lugar de armarlos nosotros a mano. La [librería pandas](https://pandas.pydata.org/pandas-docs/stable/reference/io.html) permite abrir y guardar los dataframes en muchos formatos distintos \n",
        "\n",
        "### Carga de Archivos\n",
        "\n",
        "Lo primero que debemos resolver es cómo subir archivos a Google Colab. Veamos un ejemplo con los datos de [cotizaciones del dólar](https://datos.gob.ar/ru/dataset/sspm-tipo-cambio--usd---futuro-dolar). Existen múltiples maneras:\n",
        "\n",
        "* Si tenemos una url, podemos descargarla directamente a Colab de la siguiente manera:\n",
        "\n"
      ]
    },
    {
      "cell_type": "code",
      "metadata": {
        "id": "hKhxwPUZ-EwT",
        "colab": {
          "base_uri": "https://localhost:8080/"
        },
        "outputId": "0d04d267-2087-4405-8c6c-2b43aa98c447"
      },
      "source": [
        "!wget https://infra.datos.gob.ar/catalog/sspm/dataset/168/distribution/168.1/download/datos-tipo-cambio-usd-futuro-dolar-frecuencia-diaria.csv"
      ],
      "execution_count": null,
      "outputs": [
        {
          "output_type": "stream",
          "name": "stdout",
          "text": [
            "--2021-11-05 22:00:39--  https://infra.datos.gob.ar/catalog/sspm/dataset/168/distribution/168.1/download/datos-tipo-cambio-usd-futuro-dolar-frecuencia-diaria.csv\n",
            "Resolving infra.datos.gob.ar (infra.datos.gob.ar)... 186.33.215.176\n",
            "Connecting to infra.datos.gob.ar (infra.datos.gob.ar)|186.33.215.176|:443... connected.\n",
            "HTTP request sent, awaiting response... 200 OK\n",
            "Length: 782681 (764K) [text/csv]\n",
            "Saving to: ‘datos-tipo-cambio-usd-futuro-dolar-frecuencia-diaria.csv.1’\n",
            "\n",
            "datos-tipo-cambio-u 100%[===================>] 764.34K  1005KB/s    in 0.8s    \n",
            "\n",
            "2021-11-05 22:00:40 (1005 KB/s) - ‘datos-tipo-cambio-usd-futuro-dolar-frecuencia-diaria.csv.1’ saved [782681/782681]\n",
            "\n"
          ]
        }
      ]
    },
    {
      "cell_type": "markdown",
      "metadata": {
        "id": "_Gc5ilIeKF1i"
      },
      "source": [
        "* Otra opción es subir el archivo manualmente:"
      ]
    },
    {
      "cell_type": "code",
      "metadata": {
        "id": "X-iVr6EyJ9iS"
      },
      "source": [
        "from google.colab import files\n",
        "\n",
        "uploaded=files.upload()"
      ],
      "execution_count": null,
      "outputs": []
    },
    {
      "cell_type": "markdown",
      "metadata": {
        "id": "d0YI-bhILL7y"
      },
      "source": [
        "* Por último, es posible acceder a Google Drive en colab:"
      ]
    },
    {
      "cell_type": "code",
      "metadata": {
        "id": "JxmfIOijKxqZ",
        "colab": {
          "base_uri": "https://localhost:8080/"
        },
        "outputId": "fe6536fe-70cb-4332-d1ae-405a299eab53"
      },
      "source": [
        "from google.colab import drive\n",
        "\n",
        "drive.mount('/content/gdrive')"
      ],
      "execution_count": null,
      "outputs": [
        {
          "output_type": "stream",
          "name": "stdout",
          "text": [
            "Mounted at /content/gdrive\n"
          ]
        }
      ]
    },
    {
      "cell_type": "markdown",
      "metadata": {
        "id": "RfTnKaQtNRHy"
      },
      "source": [
        "Una vez que tenemos el archivo que queremos en colab, podemos abrirlo con la función **read_csv**"
      ]
    },
    {
      "cell_type": "code",
      "metadata": {
        "id": "iXtWeUpB-bch",
        "colab": {
          "base_uri": "https://localhost:8080/",
          "height": 443
        },
        "outputId": "eb4f9842-44c7-4f39-b2eb-60bfe91e8a6f"
      },
      "source": [
        "dolar = pd.read_csv(\"/content/datos-tipo-cambio-usd-futuro-dolar-frecuencia-diaria.csv\")\n",
        "dolar"
      ],
      "execution_count": null,
      "outputs": [
        {
          "output_type": "execute_result",
          "data": {
            "text/html": [
              "<div>\n",
              "<style scoped>\n",
              "    .dataframe tbody tr th:only-of-type {\n",
              "        vertical-align: middle;\n",
              "    }\n",
              "\n",
              "    .dataframe tbody tr th {\n",
              "        vertical-align: top;\n",
              "    }\n",
              "\n",
              "    .dataframe thead th {\n",
              "        text-align: right;\n",
              "    }\n",
              "</style>\n",
              "<table border=\"1\" class=\"dataframe\">\n",
              "  <thead>\n",
              "    <tr style=\"text-align: right;\">\n",
              "      <th></th>\n",
              "      <th>indice_tiempo</th>\n",
              "      <th>tipo_cambio_bna_vendedor</th>\n",
              "      <th>tipo_cambio_a3500</th>\n",
              "      <th>tipo_cambio_mae</th>\n",
              "      <th>volumen_mae</th>\n",
              "      <th>tipo_cambio_implicito_en_adrs</th>\n",
              "      <th>futuro_rofex_usd1m</th>\n",
              "      <th>interes_abierto_1m</th>\n",
              "      <th>futuro_rofex_usd2m</th>\n",
              "      <th>interes_abierto_2m</th>\n",
              "      <th>futuro_rofex_usd3m</th>\n",
              "      <th>interes_abierto_3m</th>\n",
              "      <th>futuro_rofex_usd4m</th>\n",
              "      <th>interes_abierto_4m</th>\n",
              "      <th>futuro_rofex_usd5m</th>\n",
              "      <th>interes_abierto_5m</th>\n",
              "      <th>futuro_rofex_usd6m</th>\n",
              "      <th>interes_abierto_6m</th>\n",
              "    </tr>\n",
              "  </thead>\n",
              "  <tbody>\n",
              "    <tr>\n",
              "      <th>0</th>\n",
              "      <td>2002-03-05</td>\n",
              "      <td>NaN</td>\n",
              "      <td>1.9917</td>\n",
              "      <td>NaN</td>\n",
              "      <td>NaN</td>\n",
              "      <td>2.180124</td>\n",
              "      <td>NaN</td>\n",
              "      <td>NaN</td>\n",
              "      <td>NaN</td>\n",
              "      <td>NaN</td>\n",
              "      <td>NaN</td>\n",
              "      <td>NaN</td>\n",
              "      <td>NaN</td>\n",
              "      <td>NaN</td>\n",
              "      <td>NaN</td>\n",
              "      <td>NaN</td>\n",
              "      <td>NaN</td>\n",
              "      <td>NaN</td>\n",
              "    </tr>\n",
              "    <tr>\n",
              "      <th>1</th>\n",
              "      <td>2002-03-06</td>\n",
              "      <td>NaN</td>\n",
              "      <td>2.0508</td>\n",
              "      <td>NaN</td>\n",
              "      <td>NaN</td>\n",
              "      <td>2.222222</td>\n",
              "      <td>NaN</td>\n",
              "      <td>NaN</td>\n",
              "      <td>NaN</td>\n",
              "      <td>NaN</td>\n",
              "      <td>NaN</td>\n",
              "      <td>NaN</td>\n",
              "      <td>NaN</td>\n",
              "      <td>NaN</td>\n",
              "      <td>NaN</td>\n",
              "      <td>NaN</td>\n",
              "      <td>NaN</td>\n",
              "      <td>NaN</td>\n",
              "    </tr>\n",
              "    <tr>\n",
              "      <th>2</th>\n",
              "      <td>2002-03-07</td>\n",
              "      <td>NaN</td>\n",
              "      <td>2.1375</td>\n",
              "      <td>NaN</td>\n",
              "      <td>NaN</td>\n",
              "      <td>2.343949</td>\n",
              "      <td>NaN</td>\n",
              "      <td>NaN</td>\n",
              "      <td>NaN</td>\n",
              "      <td>NaN</td>\n",
              "      <td>NaN</td>\n",
              "      <td>NaN</td>\n",
              "      <td>NaN</td>\n",
              "      <td>NaN</td>\n",
              "      <td>NaN</td>\n",
              "      <td>NaN</td>\n",
              "      <td>NaN</td>\n",
              "      <td>NaN</td>\n",
              "    </tr>\n",
              "    <tr>\n",
              "      <th>3</th>\n",
              "      <td>2002-03-08</td>\n",
              "      <td>NaN</td>\n",
              "      <td>2.2033</td>\n",
              "      <td>NaN</td>\n",
              "      <td>NaN</td>\n",
              "      <td>2.227778</td>\n",
              "      <td>NaN</td>\n",
              "      <td>NaN</td>\n",
              "      <td>NaN</td>\n",
              "      <td>NaN</td>\n",
              "      <td>NaN</td>\n",
              "      <td>NaN</td>\n",
              "      <td>NaN</td>\n",
              "      <td>NaN</td>\n",
              "      <td>NaN</td>\n",
              "      <td>NaN</td>\n",
              "      <td>NaN</td>\n",
              "      <td>NaN</td>\n",
              "    </tr>\n",
              "    <tr>\n",
              "      <th>4</th>\n",
              "      <td>2002-03-09</td>\n",
              "      <td>NaN</td>\n",
              "      <td>2.2033</td>\n",
              "      <td>NaN</td>\n",
              "      <td>NaN</td>\n",
              "      <td>2.227778</td>\n",
              "      <td>NaN</td>\n",
              "      <td>NaN</td>\n",
              "      <td>NaN</td>\n",
              "      <td>NaN</td>\n",
              "      <td>NaN</td>\n",
              "      <td>NaN</td>\n",
              "      <td>NaN</td>\n",
              "      <td>NaN</td>\n",
              "      <td>NaN</td>\n",
              "      <td>NaN</td>\n",
              "      <td>NaN</td>\n",
              "      <td>NaN</td>\n",
              "    </tr>\n",
              "    <tr>\n",
              "      <th>...</th>\n",
              "      <td>...</td>\n",
              "      <td>...</td>\n",
              "      <td>...</td>\n",
              "      <td>...</td>\n",
              "      <td>...</td>\n",
              "      <td>...</td>\n",
              "      <td>...</td>\n",
              "      <td>...</td>\n",
              "      <td>...</td>\n",
              "      <td>...</td>\n",
              "      <td>...</td>\n",
              "      <td>...</td>\n",
              "      <td>...</td>\n",
              "      <td>...</td>\n",
              "      <td>...</td>\n",
              "      <td>...</td>\n",
              "      <td>...</td>\n",
              "      <td>...</td>\n",
              "    </tr>\n",
              "    <tr>\n",
              "      <th>7145</th>\n",
              "      <td>2021-09-26</td>\n",
              "      <td>103.75</td>\n",
              "      <td>98.5600</td>\n",
              "      <td>98.56</td>\n",
              "      <td>170150.0</td>\n",
              "      <td>193.230277</td>\n",
              "      <td>98.95</td>\n",
              "      <td>1088117.0</td>\n",
              "      <td>100.85</td>\n",
              "      <td>757244.0</td>\n",
              "      <td>103.62</td>\n",
              "      <td>634164.0</td>\n",
              "      <td>108.42</td>\n",
              "      <td>434610.0</td>\n",
              "      <td>114.20</td>\n",
              "      <td>195865.0</td>\n",
              "      <td>118.45</td>\n",
              "      <td>167095.0</td>\n",
              "    </tr>\n",
              "    <tr>\n",
              "      <th>7146</th>\n",
              "      <td>2021-09-27</td>\n",
              "      <td>103.75</td>\n",
              "      <td>98.6683</td>\n",
              "      <td>98.63</td>\n",
              "      <td>235420.0</td>\n",
              "      <td>194.324045</td>\n",
              "      <td>98.82</td>\n",
              "      <td>1067339.0</td>\n",
              "      <td>100.76</td>\n",
              "      <td>763820.0</td>\n",
              "      <td>103.58</td>\n",
              "      <td>650136.0</td>\n",
              "      <td>108.30</td>\n",
              "      <td>435093.0</td>\n",
              "      <td>114.20</td>\n",
              "      <td>219189.0</td>\n",
              "      <td>118.40</td>\n",
              "      <td>174160.0</td>\n",
              "    </tr>\n",
              "    <tr>\n",
              "      <th>7147</th>\n",
              "      <td>2021-09-28</td>\n",
              "      <td>103.75</td>\n",
              "      <td>98.6817</td>\n",
              "      <td>98.66</td>\n",
              "      <td>200620.0</td>\n",
              "      <td>195.937500</td>\n",
              "      <td>98.77</td>\n",
              "      <td>1009647.0</td>\n",
              "      <td>100.74</td>\n",
              "      <td>817405.0</td>\n",
              "      <td>103.56</td>\n",
              "      <td>693348.0</td>\n",
              "      <td>108.21</td>\n",
              "      <td>517875.0</td>\n",
              "      <td>114.13</td>\n",
              "      <td>240850.0</td>\n",
              "      <td>118.42</td>\n",
              "      <td>197414.0</td>\n",
              "    </tr>\n",
              "    <tr>\n",
              "      <th>7148</th>\n",
              "      <td>2021-09-29</td>\n",
              "      <td>103.75</td>\n",
              "      <td>98.7050</td>\n",
              "      <td>98.72</td>\n",
              "      <td>195070.0</td>\n",
              "      <td>195.696721</td>\n",
              "      <td>98.74</td>\n",
              "      <td>933897.0</td>\n",
              "      <td>100.73</td>\n",
              "      <td>901606.0</td>\n",
              "      <td>103.55</td>\n",
              "      <td>733969.0</td>\n",
              "      <td>108.17</td>\n",
              "      <td>550545.0</td>\n",
              "      <td>114.20</td>\n",
              "      <td>247267.0</td>\n",
              "      <td>118.55</td>\n",
              "      <td>199575.0</td>\n",
              "    </tr>\n",
              "    <tr>\n",
              "      <th>7149</th>\n",
              "      <td>2021-09-30</td>\n",
              "      <td>104.00</td>\n",
              "      <td>98.7350</td>\n",
              "      <td>98.74</td>\n",
              "      <td>339160.0</td>\n",
              "      <td>192.502483</td>\n",
              "      <td>98.74</td>\n",
              "      <td>933897.0</td>\n",
              "      <td>100.45</td>\n",
              "      <td>1257252.0</td>\n",
              "      <td>103.45</td>\n",
              "      <td>758081.0</td>\n",
              "      <td>108.03</td>\n",
              "      <td>534876.0</td>\n",
              "      <td>114.05</td>\n",
              "      <td>255425.0</td>\n",
              "      <td>118.42</td>\n",
              "      <td>212948.0</td>\n",
              "    </tr>\n",
              "  </tbody>\n",
              "</table>\n",
              "<p>7150 rows × 18 columns</p>\n",
              "</div>"
            ],
            "text/plain": [
              "     indice_tiempo  ...  interes_abierto_6m\n",
              "0       2002-03-05  ...                 NaN\n",
              "1       2002-03-06  ...                 NaN\n",
              "2       2002-03-07  ...                 NaN\n",
              "3       2002-03-08  ...                 NaN\n",
              "4       2002-03-09  ...                 NaN\n",
              "...            ...  ...                 ...\n",
              "7145    2021-09-26  ...            167095.0\n",
              "7146    2021-09-27  ...            174160.0\n",
              "7147    2021-09-28  ...            197414.0\n",
              "7148    2021-09-29  ...            199575.0\n",
              "7149    2021-09-30  ...            212948.0\n",
              "\n",
              "[7150 rows x 18 columns]"
            ]
          },
          "metadata": {},
          "execution_count": 50
        }
      ]
    },
    {
      "cell_type": "markdown",
      "metadata": {
        "id": "290_usiPNGjE"
      },
      "source": [
        "Podemos explorar los datos del dataset con los [graficos de Pandas](https://pandas.pydata.org/pandas-docs/stable/reference/api/pandas.DataFrame.plot.html)"
      ]
    },
    {
      "cell_type": "code",
      "metadata": {
        "id": "_Pdekut2G0bB",
        "colab": {
          "base_uri": "https://localhost:8080/",
          "height": 347
        },
        "outputId": "31a004bf-3c94-4064-9774-ab61da09394a"
      },
      "source": [
        "dolar_df = dolar.set_index(keys = \"indice_tiempo\")\n",
        "dolar_df.plot(rot = 45 )"
      ],
      "execution_count": null,
      "outputs": [
        {
          "output_type": "execute_result",
          "data": {
            "text/plain": [
              "<matplotlib.axes._subplots.AxesSubplot at 0x7f8b67411910>"
            ]
          },
          "metadata": {},
          "execution_count": 51
        },
        {
          "output_type": "display_data",
          "data": {
            "image/png": "[encoded data removed]",
            "text/plain": [
              "<Figure size 432x288 with 1 Axes>"
            ]
          },
          "metadata": {
            "needs_background": "light"
          }
        }
      ]
    },
    {
      "cell_type": "code",
      "metadata": {
        "id": "5S6iCMi9h0-J",
        "colab": {
          "base_uri": "https://localhost:8080/",
          "height": 335
        },
        "outputId": "07550002-9e50-4fa6-eb8e-ca18056818ab"
      },
      "source": [
        "dolar_df= dolar_df[[ \"tipo_cambio_a3500\",  \"tipo_cambio_implicito_en_adrs\"]]\n",
        "dolar_df.plot(rot = 45 ) # , kind = \"scatter\", x = dolar_df.index, y = dolar_df.tipo_cambio_implicito_en_adrs )"
      ],
      "execution_count": null,
      "outputs": [
        {
          "output_type": "execute_result",
          "data": {
            "text/plain": [
              "<matplotlib.axes._subplots.AxesSubplot at 0x7f8b63c90050>"
            ]
          },
          "metadata": {},
          "execution_count": 55
        },
        {
          "output_type": "display_data",
          "data": {
            "image/png": "[encoded data removed]",
            "text/plain": [
              "<Figure size 432x288 with 1 Axes>"
            ]
          },
          "metadata": {
            "needs_background": "light"
          }
        }
      ]
    },
    {
      "cell_type": "markdown",
      "metadata": {
        "id": "8gbzrNw_Jk8_"
      },
      "source": [
        "## Exploración y manipulación de datos de bonos \n",
        "\n",
        "Veamos algunas cotizaciones reales de [bonos argentinos](https://datos.gob.ar/dataset/sspm-titulos-publicos-deuda/archivo/sspm_179.1)"
      ]
    },
    {
      "cell_type": "markdown",
      "metadata": {
        "id": "3OUnrrlm-9fB"
      },
      "source": [
        "### Buscamos y cargamos los datos"
      ]
    },
    {
      "cell_type": "code",
      "metadata": {
        "id": "SCY-9sT3Jor8",
        "colab": {
          "base_uri": "https://localhost:8080/"
        },
        "outputId": "5086f2b6-f2e2-409c-c439-3828ae8c8a3a"
      },
      "source": [
        "!wget https://infra.datos.gob.ar/catalog/sspm/dataset/179/distribution/179.1/download/titulos-publicos.csv"
      ],
      "execution_count": null,
      "outputs": [
        {
          "output_type": "stream",
          "name": "stdout",
          "text": [
            "--2021-11-05 22:13:52--  https://infra.datos.gob.ar/catalog/sspm/dataset/179/distribution/179.1/download/titulos-publicos.csv\n",
            "Resolving infra.datos.gob.ar (infra.datos.gob.ar)... 186.33.215.176\n",
            "Connecting to infra.datos.gob.ar (infra.datos.gob.ar)|186.33.215.176|:443... connected.\n",
            "HTTP request sent, awaiting response... 200 OK\n",
            "Length: 1587473 (1.5M) [text/csv]\n",
            "Saving to: ‘titulos-publicos.csv’\n",
            "\n",
            "titulos-publicos.cs 100%[===================>]   1.51M  1.73MB/s    in 0.9s    \n",
            "\n",
            "2021-11-05 22:13:54 (1.73 MB/s) - ‘titulos-publicos.csv’ saved [1587473/1587473]\n",
            "\n"
          ]
        }
      ]
    },
    {
      "cell_type": "code",
      "metadata": {
        "id": "YJZbnwhQJrXh",
        "colab": {
          "base_uri": "https://localhost:8080/",
          "height": 318
        },
        "outputId": "24695d87-4ae6-49bd-fdfa-a56e94545f49"
      },
      "source": [
        "import pandas as pd \n",
        "\n",
        "df = pd.read_csv(\"/content/titulos-publicos.csv\")\n",
        "df.head(7)"
      ],
      "execution_count": null,
      "outputs": [
        {
          "output_type": "execute_result",
          "data": {
            "text/html": [
              "<div>\n",
              "<style scoped>\n",
              "    .dataframe tbody tr th:only-of-type {\n",
              "        vertical-align: middle;\n",
              "    }\n",
              "\n",
              "    .dataframe tbody tr th {\n",
              "        vertical-align: top;\n",
              "    }\n",
              "\n",
              "    .dataframe thead th {\n",
              "        text-align: right;\n",
              "    }\n",
              "</style>\n",
              "<table border=\"1\" class=\"dataframe\">\n",
              "  <thead>\n",
              "    <tr style=\"text-align: right;\">\n",
              "      <th></th>\n",
              "      <th>indice_tiempo</th>\n",
              "      <th>aa19_cotizacion</th>\n",
              "      <th>aa19_yield</th>\n",
              "      <th>aa19_dur</th>\n",
              "      <th>aa19_ppv_en_anios</th>\n",
              "      <th>aa21_cotizacion</th>\n",
              "      <th>aa21_yield</th>\n",
              "      <th>aa21_dur</th>\n",
              "      <th>aa21_ppv_en_anios</th>\n",
              "      <th>a2e2_cotizacion</th>\n",
              "      <th>a2e2_yield</th>\n",
              "      <th>a2e2_dur</th>\n",
              "      <th>a2e2_ppv_en_anios</th>\n",
              "      <th>a2e3_cotizacion</th>\n",
              "      <th>a2e3_yield</th>\n",
              "      <th>a2e3_dur</th>\n",
              "      <th>a2e3_ppv_en_anios</th>\n",
              "      <th>aa26_cotizacion</th>\n",
              "      <th>aa26_yield</th>\n",
              "      <th>aa26_dur</th>\n",
              "      <th>aa26_ppv_en_anios</th>\n",
              "      <th>a2e7_cotizacion</th>\n",
              "      <th>a2e7_yield</th>\n",
              "      <th>a2e7_dur</th>\n",
              "      <th>a2e7_ppv_en_anios</th>\n",
              "      <th>a2e8_cotizacion</th>\n",
              "      <th>a2e8_yield</th>\n",
              "      <th>a2e8_dur</th>\n",
              "      <th>a2e8_ppv_en_anios</th>\n",
              "      <th>dicy_cotizacion</th>\n",
              "      <th>dicy_yield</th>\n",
              "      <th>dicy_dur</th>\n",
              "      <th>dicy_ppv_en_anios</th>\n",
              "      <th>diy0_cotizacion</th>\n",
              "      <th>diy0_yield</th>\n",
              "      <th>diy0_dur</th>\n",
              "      <th>diy0_ppv_en_anios</th>\n",
              "      <th>pary_cotizacion</th>\n",
              "      <th>pary_yield</th>\n",
              "      <th>pary_dur</th>\n",
              "      <th>...</th>\n",
              "      <th>tc23_cotizacion</th>\n",
              "      <th>tc23_yield</th>\n",
              "      <th>tc23_dur</th>\n",
              "      <th>tc23_ppv_en_anios</th>\n",
              "      <th>pr13_cotizacion</th>\n",
              "      <th>pr13_yield</th>\n",
              "      <th>pr13_dur</th>\n",
              "      <th>pr13_ppv_en_anios</th>\n",
              "      <th>tc25p_cotizacion</th>\n",
              "      <th>tc25p_yield</th>\n",
              "      <th>tc25p_dur</th>\n",
              "      <th>tc25p_ppv_en_anios</th>\n",
              "      <th>dicp_cotizacion</th>\n",
              "      <th>dicp_yield</th>\n",
              "      <th>dicp_dur</th>\n",
              "      <th>dicp_ppv_en_anios</th>\n",
              "      <th>parp_cotizacion</th>\n",
              "      <th>parp_yield</th>\n",
              "      <th>parp_dur</th>\n",
              "      <th>parp_ppv_en_anios</th>\n",
              "      <th>cuap_cotizacion</th>\n",
              "      <th>cuap_yield</th>\n",
              "      <th>cuap_dur</th>\n",
              "      <th>cuap_ppv_en_anios</th>\n",
              "      <th>af19_cotizacion</th>\n",
              "      <th>af19_yield</th>\n",
              "      <th>af19_dur</th>\n",
              "      <th>af19_ppv_en_anios</th>\n",
              "      <th>a2m2_cotizacion</th>\n",
              "      <th>a2m2_yield</th>\n",
              "      <th>a2m2_dur</th>\n",
              "      <th>a2m2_ppv_en_anios</th>\n",
              "      <th>td21_cotizacion</th>\n",
              "      <th>td21_yield</th>\n",
              "      <th>td21_dur</th>\n",
              "      <th>td21_ppv_en_anios</th>\n",
              "      <th>tvpp_cotizacion</th>\n",
              "      <th>tvpy_cotizacion</th>\n",
              "      <th>tvpa_cotizacion</th>\n",
              "      <th>tvpe_cotizacion</th>\n",
              "    </tr>\n",
              "  </thead>\n",
              "  <tbody>\n",
              "    <tr>\n",
              "      <th>0</th>\n",
              "      <td>2013-01-02</td>\n",
              "      <td>NaN</td>\n",
              "      <td>NaN</td>\n",
              "      <td>NaN</td>\n",
              "      <td>NaN</td>\n",
              "      <td>NaN</td>\n",
              "      <td>NaN</td>\n",
              "      <td>NaN</td>\n",
              "      <td>NaN</td>\n",
              "      <td>NaN</td>\n",
              "      <td>NaN</td>\n",
              "      <td>NaN</td>\n",
              "      <td>NaN</td>\n",
              "      <td>NaN</td>\n",
              "      <td>NaN</td>\n",
              "      <td>NaN</td>\n",
              "      <td>NaN</td>\n",
              "      <td>NaN</td>\n",
              "      <td>NaN</td>\n",
              "      <td>NaN</td>\n",
              "      <td>NaN</td>\n",
              "      <td>NaN</td>\n",
              "      <td>NaN</td>\n",
              "      <td>NaN</td>\n",
              "      <td>NaN</td>\n",
              "      <td>NaN</td>\n",
              "      <td>NaN</td>\n",
              "      <td>NaN</td>\n",
              "      <td>NaN</td>\n",
              "      <td>700.0</td>\n",
              "      <td>0.080265</td>\n",
              "      <td>8.953592</td>\n",
              "      <td>11.9868</td>\n",
              "      <td>NaN</td>\n",
              "      <td>NaN</td>\n",
              "      <td>NaN</td>\n",
              "      <td>NaN</td>\n",
              "      <td>252.0</td>\n",
              "      <td>0.084898</td>\n",
              "      <td>12.579070</td>\n",
              "      <td>...</td>\n",
              "      <td>NaN</td>\n",
              "      <td>NaN</td>\n",
              "      <td>NaN</td>\n",
              "      <td>NaN</td>\n",
              "      <td>149.00</td>\n",
              "      <td>0.128100</td>\n",
              "      <td>4.998972</td>\n",
              "      <td>6.0978</td>\n",
              "      <td>NaN</td>\n",
              "      <td>NaN</td>\n",
              "      <td>NaN</td>\n",
              "      <td>NaN</td>\n",
              "      <td>131.25</td>\n",
              "      <td>0.144516</td>\n",
              "      <td>7.526447</td>\n",
              "      <td>12.6360</td>\n",
              "      <td>47.50</td>\n",
              "      <td>0.118083</td>\n",
              "      <td>12.693837</td>\n",
              "      <td>19.0318</td>\n",
              "      <td>NaN</td>\n",
              "      <td>NaN</td>\n",
              "      <td>NaN</td>\n",
              "      <td>NaN</td>\n",
              "      <td>NaN</td>\n",
              "      <td>NaN</td>\n",
              "      <td>NaN</td>\n",
              "      <td>NaN</td>\n",
              "      <td>NaN</td>\n",
              "      <td>NaN</td>\n",
              "      <td>NaN</td>\n",
              "      <td>NaN</td>\n",
              "      <td>NaN</td>\n",
              "      <td>NaN</td>\n",
              "      <td>NaN</td>\n",
              "      <td>NaN</td>\n",
              "      <td>7.145</td>\n",
              "      <td>50.85</td>\n",
              "      <td>50.7</td>\n",
              "      <td>57.00</td>\n",
              "    </tr>\n",
              "    <tr>\n",
              "      <th>1</th>\n",
              "      <td>2013-01-03</td>\n",
              "      <td>NaN</td>\n",
              "      <td>NaN</td>\n",
              "      <td>NaN</td>\n",
              "      <td>NaN</td>\n",
              "      <td>NaN</td>\n",
              "      <td>NaN</td>\n",
              "      <td>NaN</td>\n",
              "      <td>NaN</td>\n",
              "      <td>NaN</td>\n",
              "      <td>NaN</td>\n",
              "      <td>NaN</td>\n",
              "      <td>NaN</td>\n",
              "      <td>NaN</td>\n",
              "      <td>NaN</td>\n",
              "      <td>NaN</td>\n",
              "      <td>NaN</td>\n",
              "      <td>NaN</td>\n",
              "      <td>NaN</td>\n",
              "      <td>NaN</td>\n",
              "      <td>NaN</td>\n",
              "      <td>NaN</td>\n",
              "      <td>NaN</td>\n",
              "      <td>NaN</td>\n",
              "      <td>NaN</td>\n",
              "      <td>NaN</td>\n",
              "      <td>NaN</td>\n",
              "      <td>NaN</td>\n",
              "      <td>NaN</td>\n",
              "      <td>700.0</td>\n",
              "      <td>0.080347</td>\n",
              "      <td>8.948217</td>\n",
              "      <td>11.9840</td>\n",
              "      <td>670.0</td>\n",
              "      <td>0.085414</td>\n",
              "      <td>8.780469</td>\n",
              "      <td>12.6332</td>\n",
              "      <td>252.0</td>\n",
              "      <td>0.084958</td>\n",
              "      <td>12.573035</td>\n",
              "      <td>...</td>\n",
              "      <td>NaN</td>\n",
              "      <td>NaN</td>\n",
              "      <td>NaN</td>\n",
              "      <td>NaN</td>\n",
              "      <td>150.35</td>\n",
              "      <td>0.126190</td>\n",
              "      <td>5.009697</td>\n",
              "      <td>6.0951</td>\n",
              "      <td>NaN</td>\n",
              "      <td>NaN</td>\n",
              "      <td>NaN</td>\n",
              "      <td>NaN</td>\n",
              "      <td>133.75</td>\n",
              "      <td>0.141912</td>\n",
              "      <td>7.599752</td>\n",
              "      <td>12.6332</td>\n",
              "      <td>46.25</td>\n",
              "      <td>0.120308</td>\n",
              "      <td>12.563981</td>\n",
              "      <td>19.0290</td>\n",
              "      <td>NaN</td>\n",
              "      <td>NaN</td>\n",
              "      <td>NaN</td>\n",
              "      <td>NaN</td>\n",
              "      <td>NaN</td>\n",
              "      <td>NaN</td>\n",
              "      <td>NaN</td>\n",
              "      <td>NaN</td>\n",
              "      <td>NaN</td>\n",
              "      <td>NaN</td>\n",
              "      <td>NaN</td>\n",
              "      <td>NaN</td>\n",
              "      <td>NaN</td>\n",
              "      <td>NaN</td>\n",
              "      <td>NaN</td>\n",
              "      <td>NaN</td>\n",
              "      <td>7.340</td>\n",
              "      <td>50.30</td>\n",
              "      <td>50.4</td>\n",
              "      <td>55.60</td>\n",
              "    </tr>\n",
              "    <tr>\n",
              "      <th>2</th>\n",
              "      <td>2013-01-04</td>\n",
              "      <td>NaN</td>\n",
              "      <td>NaN</td>\n",
              "      <td>NaN</td>\n",
              "      <td>NaN</td>\n",
              "      <td>NaN</td>\n",
              "      <td>NaN</td>\n",
              "      <td>NaN</td>\n",
              "      <td>NaN</td>\n",
              "      <td>NaN</td>\n",
              "      <td>NaN</td>\n",
              "      <td>NaN</td>\n",
              "      <td>NaN</td>\n",
              "      <td>NaN</td>\n",
              "      <td>NaN</td>\n",
              "      <td>NaN</td>\n",
              "      <td>NaN</td>\n",
              "      <td>NaN</td>\n",
              "      <td>NaN</td>\n",
              "      <td>NaN</td>\n",
              "      <td>NaN</td>\n",
              "      <td>NaN</td>\n",
              "      <td>NaN</td>\n",
              "      <td>NaN</td>\n",
              "      <td>NaN</td>\n",
              "      <td>NaN</td>\n",
              "      <td>NaN</td>\n",
              "      <td>NaN</td>\n",
              "      <td>NaN</td>\n",
              "      <td>700.0</td>\n",
              "      <td>0.080371</td>\n",
              "      <td>8.944776</td>\n",
              "      <td>11.9812</td>\n",
              "      <td>673.0</td>\n",
              "      <td>0.084919</td>\n",
              "      <td>8.794155</td>\n",
              "      <td>12.6303</td>\n",
              "      <td>252.0</td>\n",
              "      <td>0.084976</td>\n",
              "      <td>12.569364</td>\n",
              "      <td>...</td>\n",
              "      <td>NaN</td>\n",
              "      <td>NaN</td>\n",
              "      <td>NaN</td>\n",
              "      <td>NaN</td>\n",
              "      <td>150.00</td>\n",
              "      <td>0.126773</td>\n",
              "      <td>5.002877</td>\n",
              "      <td>6.0923</td>\n",
              "      <td>NaN</td>\n",
              "      <td>NaN</td>\n",
              "      <td>NaN</td>\n",
              "      <td>NaN</td>\n",
              "      <td>134.25</td>\n",
              "      <td>0.141416</td>\n",
              "      <td>7.611532</td>\n",
              "      <td>12.6303</td>\n",
              "      <td>46.00</td>\n",
              "      <td>0.120784</td>\n",
              "      <td>12.534177</td>\n",
              "      <td>19.0263</td>\n",
              "      <td>NaN</td>\n",
              "      <td>NaN</td>\n",
              "      <td>NaN</td>\n",
              "      <td>NaN</td>\n",
              "      <td>NaN</td>\n",
              "      <td>NaN</td>\n",
              "      <td>NaN</td>\n",
              "      <td>NaN</td>\n",
              "      <td>NaN</td>\n",
              "      <td>NaN</td>\n",
              "      <td>NaN</td>\n",
              "      <td>NaN</td>\n",
              "      <td>NaN</td>\n",
              "      <td>NaN</td>\n",
              "      <td>NaN</td>\n",
              "      <td>NaN</td>\n",
              "      <td>7.200</td>\n",
              "      <td>49.00</td>\n",
              "      <td>50.0</td>\n",
              "      <td>54.50</td>\n",
              "    </tr>\n",
              "    <tr>\n",
              "      <th>3</th>\n",
              "      <td>2013-01-05</td>\n",
              "      <td>NaN</td>\n",
              "      <td>NaN</td>\n",
              "      <td>NaN</td>\n",
              "      <td>NaN</td>\n",
              "      <td>NaN</td>\n",
              "      <td>NaN</td>\n",
              "      <td>NaN</td>\n",
              "      <td>NaN</td>\n",
              "      <td>NaN</td>\n",
              "      <td>NaN</td>\n",
              "      <td>NaN</td>\n",
              "      <td>NaN</td>\n",
              "      <td>NaN</td>\n",
              "      <td>NaN</td>\n",
              "      <td>NaN</td>\n",
              "      <td>NaN</td>\n",
              "      <td>NaN</td>\n",
              "      <td>NaN</td>\n",
              "      <td>NaN</td>\n",
              "      <td>NaN</td>\n",
              "      <td>NaN</td>\n",
              "      <td>NaN</td>\n",
              "      <td>NaN</td>\n",
              "      <td>NaN</td>\n",
              "      <td>NaN</td>\n",
              "      <td>NaN</td>\n",
              "      <td>NaN</td>\n",
              "      <td>NaN</td>\n",
              "      <td>NaN</td>\n",
              "      <td>NaN</td>\n",
              "      <td>NaN</td>\n",
              "      <td>NaN</td>\n",
              "      <td>NaN</td>\n",
              "      <td>NaN</td>\n",
              "      <td>NaN</td>\n",
              "      <td>NaN</td>\n",
              "      <td>NaN</td>\n",
              "      <td>NaN</td>\n",
              "      <td>NaN</td>\n",
              "      <td>...</td>\n",
              "      <td>NaN</td>\n",
              "      <td>NaN</td>\n",
              "      <td>NaN</td>\n",
              "      <td>NaN</td>\n",
              "      <td>NaN</td>\n",
              "      <td>NaN</td>\n",
              "      <td>NaN</td>\n",
              "      <td>NaN</td>\n",
              "      <td>NaN</td>\n",
              "      <td>NaN</td>\n",
              "      <td>NaN</td>\n",
              "      <td>NaN</td>\n",
              "      <td>NaN</td>\n",
              "      <td>NaN</td>\n",
              "      <td>NaN</td>\n",
              "      <td>NaN</td>\n",
              "      <td>NaN</td>\n",
              "      <td>NaN</td>\n",
              "      <td>NaN</td>\n",
              "      <td>NaN</td>\n",
              "      <td>NaN</td>\n",
              "      <td>NaN</td>\n",
              "      <td>NaN</td>\n",
              "      <td>NaN</td>\n",
              "      <td>NaN</td>\n",
              "      <td>NaN</td>\n",
              "      <td>NaN</td>\n",
              "      <td>NaN</td>\n",
              "      <td>NaN</td>\n",
              "      <td>NaN</td>\n",
              "      <td>NaN</td>\n",
              "      <td>NaN</td>\n",
              "      <td>NaN</td>\n",
              "      <td>NaN</td>\n",
              "      <td>NaN</td>\n",
              "      <td>NaN</td>\n",
              "      <td>NaN</td>\n",
              "      <td>NaN</td>\n",
              "      <td>NaN</td>\n",
              "      <td>NaN</td>\n",
              "    </tr>\n",
              "    <tr>\n",
              "      <th>4</th>\n",
              "      <td>2013-01-06</td>\n",
              "      <td>NaN</td>\n",
              "      <td>NaN</td>\n",
              "      <td>NaN</td>\n",
              "      <td>NaN</td>\n",
              "      <td>NaN</td>\n",
              "      <td>NaN</td>\n",
              "      <td>NaN</td>\n",
              "      <td>NaN</td>\n",
              "      <td>NaN</td>\n",
              "      <td>NaN</td>\n",
              "      <td>NaN</td>\n",
              "      <td>NaN</td>\n",
              "      <td>NaN</td>\n",
              "      <td>NaN</td>\n",
              "      <td>NaN</td>\n",
              "      <td>NaN</td>\n",
              "      <td>NaN</td>\n",
              "      <td>NaN</td>\n",
              "      <td>NaN</td>\n",
              "      <td>NaN</td>\n",
              "      <td>NaN</td>\n",
              "      <td>NaN</td>\n",
              "      <td>NaN</td>\n",
              "      <td>NaN</td>\n",
              "      <td>NaN</td>\n",
              "      <td>NaN</td>\n",
              "      <td>NaN</td>\n",
              "      <td>NaN</td>\n",
              "      <td>NaN</td>\n",
              "      <td>NaN</td>\n",
              "      <td>NaN</td>\n",
              "      <td>NaN</td>\n",
              "      <td>NaN</td>\n",
              "      <td>NaN</td>\n",
              "      <td>NaN</td>\n",
              "      <td>NaN</td>\n",
              "      <td>NaN</td>\n",
              "      <td>NaN</td>\n",
              "      <td>NaN</td>\n",
              "      <td>...</td>\n",
              "      <td>NaN</td>\n",
              "      <td>NaN</td>\n",
              "      <td>NaN</td>\n",
              "      <td>NaN</td>\n",
              "      <td>NaN</td>\n",
              "      <td>NaN</td>\n",
              "      <td>NaN</td>\n",
              "      <td>NaN</td>\n",
              "      <td>NaN</td>\n",
              "      <td>NaN</td>\n",
              "      <td>NaN</td>\n",
              "      <td>NaN</td>\n",
              "      <td>NaN</td>\n",
              "      <td>NaN</td>\n",
              "      <td>NaN</td>\n",
              "      <td>NaN</td>\n",
              "      <td>NaN</td>\n",
              "      <td>NaN</td>\n",
              "      <td>NaN</td>\n",
              "      <td>NaN</td>\n",
              "      <td>NaN</td>\n",
              "      <td>NaN</td>\n",
              "      <td>NaN</td>\n",
              "      <td>NaN</td>\n",
              "      <td>NaN</td>\n",
              "      <td>NaN</td>\n",
              "      <td>NaN</td>\n",
              "      <td>NaN</td>\n",
              "      <td>NaN</td>\n",
              "      <td>NaN</td>\n",
              "      <td>NaN</td>\n",
              "      <td>NaN</td>\n",
              "      <td>NaN</td>\n",
              "      <td>NaN</td>\n",
              "      <td>NaN</td>\n",
              "      <td>NaN</td>\n",
              "      <td>NaN</td>\n",
              "      <td>NaN</td>\n",
              "      <td>NaN</td>\n",
              "      <td>NaN</td>\n",
              "    </tr>\n",
              "    <tr>\n",
              "      <th>5</th>\n",
              "      <td>2013-01-07</td>\n",
              "      <td>NaN</td>\n",
              "      <td>NaN</td>\n",
              "      <td>NaN</td>\n",
              "      <td>NaN</td>\n",
              "      <td>NaN</td>\n",
              "      <td>NaN</td>\n",
              "      <td>NaN</td>\n",
              "      <td>NaN</td>\n",
              "      <td>NaN</td>\n",
              "      <td>NaN</td>\n",
              "      <td>NaN</td>\n",
              "      <td>NaN</td>\n",
              "      <td>NaN</td>\n",
              "      <td>NaN</td>\n",
              "      <td>NaN</td>\n",
              "      <td>NaN</td>\n",
              "      <td>NaN</td>\n",
              "      <td>NaN</td>\n",
              "      <td>NaN</td>\n",
              "      <td>NaN</td>\n",
              "      <td>NaN</td>\n",
              "      <td>NaN</td>\n",
              "      <td>NaN</td>\n",
              "      <td>NaN</td>\n",
              "      <td>NaN</td>\n",
              "      <td>NaN</td>\n",
              "      <td>NaN</td>\n",
              "      <td>NaN</td>\n",
              "      <td>698.0</td>\n",
              "      <td>0.080840</td>\n",
              "      <td>8.926541</td>\n",
              "      <td>11.9784</td>\n",
              "      <td>NaN</td>\n",
              "      <td>NaN</td>\n",
              "      <td>NaN</td>\n",
              "      <td>NaN</td>\n",
              "      <td>250.0</td>\n",
              "      <td>0.085730</td>\n",
              "      <td>12.523703</td>\n",
              "      <td>...</td>\n",
              "      <td>NaN</td>\n",
              "      <td>NaN</td>\n",
              "      <td>NaN</td>\n",
              "      <td>NaN</td>\n",
              "      <td>149.70</td>\n",
              "      <td>0.127286</td>\n",
              "      <td>4.996561</td>\n",
              "      <td>6.0895</td>\n",
              "      <td>NaN</td>\n",
              "      <td>NaN</td>\n",
              "      <td>NaN</td>\n",
              "      <td>NaN</td>\n",
              "      <td>134.95</td>\n",
              "      <td>0.140719</td>\n",
              "      <td>7.629280</td>\n",
              "      <td>12.6274</td>\n",
              "      <td>45.00</td>\n",
              "      <td>0.122647</td>\n",
              "      <td>12.425121</td>\n",
              "      <td>19.0235</td>\n",
              "      <td>71.5</td>\n",
              "      <td>0.138849</td>\n",
              "      <td>9.48201</td>\n",
              "      <td>21.9866</td>\n",
              "      <td>NaN</td>\n",
              "      <td>NaN</td>\n",
              "      <td>NaN</td>\n",
              "      <td>NaN</td>\n",
              "      <td>NaN</td>\n",
              "      <td>NaN</td>\n",
              "      <td>NaN</td>\n",
              "      <td>NaN</td>\n",
              "      <td>NaN</td>\n",
              "      <td>NaN</td>\n",
              "      <td>NaN</td>\n",
              "      <td>NaN</td>\n",
              "      <td>7.080</td>\n",
              "      <td>47.25</td>\n",
              "      <td>48.1</td>\n",
              "      <td>52.25</td>\n",
              "    </tr>\n",
              "    <tr>\n",
              "      <th>6</th>\n",
              "      <td>2013-01-08</td>\n",
              "      <td>NaN</td>\n",
              "      <td>NaN</td>\n",
              "      <td>NaN</td>\n",
              "      <td>NaN</td>\n",
              "      <td>NaN</td>\n",
              "      <td>NaN</td>\n",
              "      <td>NaN</td>\n",
              "      <td>NaN</td>\n",
              "      <td>NaN</td>\n",
              "      <td>NaN</td>\n",
              "      <td>NaN</td>\n",
              "      <td>NaN</td>\n",
              "      <td>NaN</td>\n",
              "      <td>NaN</td>\n",
              "      <td>NaN</td>\n",
              "      <td>NaN</td>\n",
              "      <td>NaN</td>\n",
              "      <td>NaN</td>\n",
              "      <td>NaN</td>\n",
              "      <td>NaN</td>\n",
              "      <td>NaN</td>\n",
              "      <td>NaN</td>\n",
              "      <td>NaN</td>\n",
              "      <td>NaN</td>\n",
              "      <td>NaN</td>\n",
              "      <td>NaN</td>\n",
              "      <td>NaN</td>\n",
              "      <td>NaN</td>\n",
              "      <td>690.0</td>\n",
              "      <td>0.082192</td>\n",
              "      <td>8.879011</td>\n",
              "      <td>11.9756</td>\n",
              "      <td>NaN</td>\n",
              "      <td>NaN</td>\n",
              "      <td>NaN</td>\n",
              "      <td>NaN</td>\n",
              "      <td>250.0</td>\n",
              "      <td>0.085748</td>\n",
              "      <td>12.520021</td>\n",
              "      <td>...</td>\n",
              "      <td>NaN</td>\n",
              "      <td>NaN</td>\n",
              "      <td>NaN</td>\n",
              "      <td>NaN</td>\n",
              "      <td>150.00</td>\n",
              "      <td>0.126917</td>\n",
              "      <td>4.996442</td>\n",
              "      <td>6.0867</td>\n",
              "      <td>NaN</td>\n",
              "      <td>NaN</td>\n",
              "      <td>NaN</td>\n",
              "      <td>NaN</td>\n",
              "      <td>134.50</td>\n",
              "      <td>0.141201</td>\n",
              "      <td>7.612352</td>\n",
              "      <td>12.6245</td>\n",
              "      <td>44.50</td>\n",
              "      <td>0.123615</td>\n",
              "      <td>12.367285</td>\n",
              "      <td>19.0207</td>\n",
              "      <td>NaN</td>\n",
              "      <td>NaN</td>\n",
              "      <td>NaN</td>\n",
              "      <td>NaN</td>\n",
              "      <td>NaN</td>\n",
              "      <td>NaN</td>\n",
              "      <td>NaN</td>\n",
              "      <td>NaN</td>\n",
              "      <td>NaN</td>\n",
              "      <td>NaN</td>\n",
              "      <td>NaN</td>\n",
              "      <td>NaN</td>\n",
              "      <td>NaN</td>\n",
              "      <td>NaN</td>\n",
              "      <td>NaN</td>\n",
              "      <td>NaN</td>\n",
              "      <td>6.750</td>\n",
              "      <td>44.00</td>\n",
              "      <td>45.4</td>\n",
              "      <td>50.30</td>\n",
              "    </tr>\n",
              "  </tbody>\n",
              "</table>\n",
              "<p>7 rows × 225 columns</p>\n",
              "</div>"
            ],
            "text/plain": [
              "  indice_tiempo  aa19_cotizacion  ...  tvpa_cotizacion  tvpe_cotizacion\n",
              "0    2013-01-02              NaN  ...             50.7            57.00\n",
              "1    2013-01-03              NaN  ...             50.4            55.60\n",
              "2    2013-01-04              NaN  ...             50.0            54.50\n",
              "3    2013-01-05              NaN  ...              NaN              NaN\n",
              "4    2013-01-06              NaN  ...              NaN              NaN\n",
              "5    2013-01-07              NaN  ...             48.1            52.25\n",
              "6    2013-01-08              NaN  ...             45.4            50.30\n",
              "\n",
              "[7 rows x 225 columns]"
            ]
          },
          "metadata": {},
          "execution_count": 59
        }
      ]
    },
    {
      "cell_type": "code",
      "metadata": {
        "id": "15NyzYeo9cp5",
        "colab": {
          "base_uri": "https://localhost:8080/",
          "height": 193
        },
        "outputId": "0ca67c57-7987-4f9e-84bb-4bb778c2dcdf"
      },
      "source": [
        "df.tail(3)"
      ],
      "execution_count": null,
      "outputs": [
        {
          "output_type": "execute_result",
          "data": {
            "text/html": [
              "<div>\n",
              "<style scoped>\n",
              "    .dataframe tbody tr th:only-of-type {\n",
              "        vertical-align: middle;\n",
              "    }\n",
              "\n",
              "    .dataframe tbody tr th {\n",
              "        vertical-align: top;\n",
              "    }\n",
              "\n",
              "    .dataframe thead th {\n",
              "        text-align: right;\n",
              "    }\n",
              "</style>\n",
              "<table border=\"1\" class=\"dataframe\">\n",
              "  <thead>\n",
              "    <tr style=\"text-align: right;\">\n",
              "      <th></th>\n",
              "      <th>indice_tiempo</th>\n",
              "      <th>aa19_cotizacion</th>\n",
              "      <th>aa19_yield</th>\n",
              "      <th>aa19_dur</th>\n",
              "      <th>aa19_ppv_en_anios</th>\n",
              "      <th>aa21_cotizacion</th>\n",
              "      <th>aa21_yield</th>\n",
              "      <th>aa21_dur</th>\n",
              "      <th>aa21_ppv_en_anios</th>\n",
              "      <th>a2e2_cotizacion</th>\n",
              "      <th>a2e2_yield</th>\n",
              "      <th>a2e2_dur</th>\n",
              "      <th>a2e2_ppv_en_anios</th>\n",
              "      <th>a2e3_cotizacion</th>\n",
              "      <th>a2e3_yield</th>\n",
              "      <th>a2e3_dur</th>\n",
              "      <th>a2e3_ppv_en_anios</th>\n",
              "      <th>aa26_cotizacion</th>\n",
              "      <th>aa26_yield</th>\n",
              "      <th>aa26_dur</th>\n",
              "      <th>aa26_ppv_en_anios</th>\n",
              "      <th>a2e7_cotizacion</th>\n",
              "      <th>a2e7_yield</th>\n",
              "      <th>a2e7_dur</th>\n",
              "      <th>a2e7_ppv_en_anios</th>\n",
              "      <th>a2e8_cotizacion</th>\n",
              "      <th>a2e8_yield</th>\n",
              "      <th>a2e8_dur</th>\n",
              "      <th>a2e8_ppv_en_anios</th>\n",
              "      <th>dicy_cotizacion</th>\n",
              "      <th>dicy_yield</th>\n",
              "      <th>dicy_dur</th>\n",
              "      <th>dicy_ppv_en_anios</th>\n",
              "      <th>diy0_cotizacion</th>\n",
              "      <th>diy0_yield</th>\n",
              "      <th>diy0_dur</th>\n",
              "      <th>diy0_ppv_en_anios</th>\n",
              "      <th>pary_cotizacion</th>\n",
              "      <th>pary_yield</th>\n",
              "      <th>pary_dur</th>\n",
              "      <th>...</th>\n",
              "      <th>tc23_cotizacion</th>\n",
              "      <th>tc23_yield</th>\n",
              "      <th>tc23_dur</th>\n",
              "      <th>tc23_ppv_en_anios</th>\n",
              "      <th>pr13_cotizacion</th>\n",
              "      <th>pr13_yield</th>\n",
              "      <th>pr13_dur</th>\n",
              "      <th>pr13_ppv_en_anios</th>\n",
              "      <th>tc25p_cotizacion</th>\n",
              "      <th>tc25p_yield</th>\n",
              "      <th>tc25p_dur</th>\n",
              "      <th>tc25p_ppv_en_anios</th>\n",
              "      <th>dicp_cotizacion</th>\n",
              "      <th>dicp_yield</th>\n",
              "      <th>dicp_dur</th>\n",
              "      <th>dicp_ppv_en_anios</th>\n",
              "      <th>parp_cotizacion</th>\n",
              "      <th>parp_yield</th>\n",
              "      <th>parp_dur</th>\n",
              "      <th>parp_ppv_en_anios</th>\n",
              "      <th>cuap_cotizacion</th>\n",
              "      <th>cuap_yield</th>\n",
              "      <th>cuap_dur</th>\n",
              "      <th>cuap_ppv_en_anios</th>\n",
              "      <th>af19_cotizacion</th>\n",
              "      <th>af19_yield</th>\n",
              "      <th>af19_dur</th>\n",
              "      <th>af19_ppv_en_anios</th>\n",
              "      <th>a2m2_cotizacion</th>\n",
              "      <th>a2m2_yield</th>\n",
              "      <th>a2m2_dur</th>\n",
              "      <th>a2m2_ppv_en_anios</th>\n",
              "      <th>td21_cotizacion</th>\n",
              "      <th>td21_yield</th>\n",
              "      <th>td21_dur</th>\n",
              "      <th>td21_ppv_en_anios</th>\n",
              "      <th>tvpp_cotizacion</th>\n",
              "      <th>tvpy_cotizacion</th>\n",
              "      <th>tvpa_cotizacion</th>\n",
              "      <th>tvpe_cotizacion</th>\n",
              "    </tr>\n",
              "  </thead>\n",
              "  <tbody>\n",
              "    <tr>\n",
              "      <th>2796</th>\n",
              "      <td>2020-08-29</td>\n",
              "      <td>NaN</td>\n",
              "      <td>NaN</td>\n",
              "      <td>NaN</td>\n",
              "      <td>NaN</td>\n",
              "      <td>NaN</td>\n",
              "      <td>NaN</td>\n",
              "      <td>NaN</td>\n",
              "      <td>NaN</td>\n",
              "      <td>NaN</td>\n",
              "      <td>NaN</td>\n",
              "      <td>NaN</td>\n",
              "      <td>NaN</td>\n",
              "      <td>NaN</td>\n",
              "      <td>NaN</td>\n",
              "      <td>NaN</td>\n",
              "      <td>NaN</td>\n",
              "      <td>NaN</td>\n",
              "      <td>NaN</td>\n",
              "      <td>NaN</td>\n",
              "      <td>NaN</td>\n",
              "      <td>NaN</td>\n",
              "      <td>NaN</td>\n",
              "      <td>NaN</td>\n",
              "      <td>NaN</td>\n",
              "      <td>NaN</td>\n",
              "      <td>NaN</td>\n",
              "      <td>NaN</td>\n",
              "      <td>NaN</td>\n",
              "      <td>NaN</td>\n",
              "      <td>NaN</td>\n",
              "      <td>NaN</td>\n",
              "      <td>NaN</td>\n",
              "      <td>NaN</td>\n",
              "      <td>NaN</td>\n",
              "      <td>NaN</td>\n",
              "      <td>NaN</td>\n",
              "      <td>NaN</td>\n",
              "      <td>NaN</td>\n",
              "      <td>NaN</td>\n",
              "      <td>...</td>\n",
              "      <td>NaN</td>\n",
              "      <td>NaN</td>\n",
              "      <td>NaN</td>\n",
              "      <td>NaN</td>\n",
              "      <td>NaN</td>\n",
              "      <td>NaN</td>\n",
              "      <td>NaN</td>\n",
              "      <td>NaN</td>\n",
              "      <td>NaN</td>\n",
              "      <td>NaN</td>\n",
              "      <td>NaN</td>\n",
              "      <td>NaN</td>\n",
              "      <td>NaN</td>\n",
              "      <td>NaN</td>\n",
              "      <td>NaN</td>\n",
              "      <td>NaN</td>\n",
              "      <td>NaN</td>\n",
              "      <td>NaN</td>\n",
              "      <td>NaN</td>\n",
              "      <td>NaN</td>\n",
              "      <td>NaN</td>\n",
              "      <td>NaN</td>\n",
              "      <td>NaN</td>\n",
              "      <td>NaN</td>\n",
              "      <td>NaN</td>\n",
              "      <td>NaN</td>\n",
              "      <td>NaN</td>\n",
              "      <td>NaN</td>\n",
              "      <td>NaN</td>\n",
              "      <td>NaN</td>\n",
              "      <td>NaN</td>\n",
              "      <td>NaN</td>\n",
              "      <td>NaN</td>\n",
              "      <td>NaN</td>\n",
              "      <td>NaN</td>\n",
              "      <td>NaN</td>\n",
              "      <td>NaN</td>\n",
              "      <td>NaN</td>\n",
              "      <td>NaN</td>\n",
              "      <td>NaN</td>\n",
              "    </tr>\n",
              "    <tr>\n",
              "      <th>2797</th>\n",
              "      <td>2020-08-30</td>\n",
              "      <td>NaN</td>\n",
              "      <td>NaN</td>\n",
              "      <td>NaN</td>\n",
              "      <td>NaN</td>\n",
              "      <td>NaN</td>\n",
              "      <td>NaN</td>\n",
              "      <td>NaN</td>\n",
              "      <td>NaN</td>\n",
              "      <td>NaN</td>\n",
              "      <td>NaN</td>\n",
              "      <td>NaN</td>\n",
              "      <td>NaN</td>\n",
              "      <td>NaN</td>\n",
              "      <td>NaN</td>\n",
              "      <td>NaN</td>\n",
              "      <td>NaN</td>\n",
              "      <td>NaN</td>\n",
              "      <td>NaN</td>\n",
              "      <td>NaN</td>\n",
              "      <td>NaN</td>\n",
              "      <td>NaN</td>\n",
              "      <td>NaN</td>\n",
              "      <td>NaN</td>\n",
              "      <td>NaN</td>\n",
              "      <td>NaN</td>\n",
              "      <td>NaN</td>\n",
              "      <td>NaN</td>\n",
              "      <td>NaN</td>\n",
              "      <td>NaN</td>\n",
              "      <td>NaN</td>\n",
              "      <td>NaN</td>\n",
              "      <td>NaN</td>\n",
              "      <td>NaN</td>\n",
              "      <td>NaN</td>\n",
              "      <td>NaN</td>\n",
              "      <td>NaN</td>\n",
              "      <td>NaN</td>\n",
              "      <td>NaN</td>\n",
              "      <td>NaN</td>\n",
              "      <td>...</td>\n",
              "      <td>NaN</td>\n",
              "      <td>NaN</td>\n",
              "      <td>NaN</td>\n",
              "      <td>NaN</td>\n",
              "      <td>NaN</td>\n",
              "      <td>NaN</td>\n",
              "      <td>NaN</td>\n",
              "      <td>NaN</td>\n",
              "      <td>NaN</td>\n",
              "      <td>NaN</td>\n",
              "      <td>NaN</td>\n",
              "      <td>NaN</td>\n",
              "      <td>NaN</td>\n",
              "      <td>NaN</td>\n",
              "      <td>NaN</td>\n",
              "      <td>NaN</td>\n",
              "      <td>NaN</td>\n",
              "      <td>NaN</td>\n",
              "      <td>NaN</td>\n",
              "      <td>NaN</td>\n",
              "      <td>NaN</td>\n",
              "      <td>NaN</td>\n",
              "      <td>NaN</td>\n",
              "      <td>NaN</td>\n",
              "      <td>NaN</td>\n",
              "      <td>NaN</td>\n",
              "      <td>NaN</td>\n",
              "      <td>NaN</td>\n",
              "      <td>NaN</td>\n",
              "      <td>NaN</td>\n",
              "      <td>NaN</td>\n",
              "      <td>NaN</td>\n",
              "      <td>NaN</td>\n",
              "      <td>NaN</td>\n",
              "      <td>NaN</td>\n",
              "      <td>NaN</td>\n",
              "      <td>NaN</td>\n",
              "      <td>NaN</td>\n",
              "      <td>NaN</td>\n",
              "      <td>NaN</td>\n",
              "    </tr>\n",
              "    <tr>\n",
              "      <th>2798</th>\n",
              "      <td>2020-08-31</td>\n",
              "      <td>NaN</td>\n",
              "      <td>NaN</td>\n",
              "      <td>NaN</td>\n",
              "      <td>NaN</td>\n",
              "      <td>NaN</td>\n",
              "      <td>NaN</td>\n",
              "      <td>NaN</td>\n",
              "      <td>NaN</td>\n",
              "      <td>NaN</td>\n",
              "      <td>NaN</td>\n",
              "      <td>NaN</td>\n",
              "      <td>NaN</td>\n",
              "      <td>NaN</td>\n",
              "      <td>NaN</td>\n",
              "      <td>NaN</td>\n",
              "      <td>NaN</td>\n",
              "      <td>NaN</td>\n",
              "      <td>NaN</td>\n",
              "      <td>NaN</td>\n",
              "      <td>NaN</td>\n",
              "      <td>NaN</td>\n",
              "      <td>NaN</td>\n",
              "      <td>NaN</td>\n",
              "      <td>NaN</td>\n",
              "      <td>NaN</td>\n",
              "      <td>NaN</td>\n",
              "      <td>NaN</td>\n",
              "      <td>NaN</td>\n",
              "      <td>7250.0</td>\n",
              "      <td>0.3179</td>\n",
              "      <td>3.14</td>\n",
              "      <td>6.89</td>\n",
              "      <td>NaN</td>\n",
              "      <td>NaN</td>\n",
              "      <td>NaN</td>\n",
              "      <td>NaN</td>\n",
              "      <td>4570.0</td>\n",
              "      <td>0.1612</td>\n",
              "      <td>7.21</td>\n",
              "      <td>...</td>\n",
              "      <td>259.0</td>\n",
              "      <td>0.0542</td>\n",
              "      <td>2.3</td>\n",
              "      <td>2.37</td>\n",
              "      <td>666.0</td>\n",
              "      <td>0.04</td>\n",
              "      <td>1.73</td>\n",
              "      <td>1.78</td>\n",
              "      <td>NaN</td>\n",
              "      <td>NaN</td>\n",
              "      <td>NaN</td>\n",
              "      <td>NaN</td>\n",
              "      <td>1980.0</td>\n",
              "      <td>0.0621</td>\n",
              "      <td>6.43</td>\n",
              "      <td>7.35</td>\n",
              "      <td>849.0</td>\n",
              "      <td>0.0766</td>\n",
              "      <td>10.63</td>\n",
              "      <td>12.49</td>\n",
              "      <td>1190.0</td>\n",
              "      <td>0.0806</td>\n",
              "      <td>11.94</td>\n",
              "      <td>16.55</td>\n",
              "      <td>NaN</td>\n",
              "      <td>NaN</td>\n",
              "      <td>NaN</td>\n",
              "      <td>NaN</td>\n",
              "      <td>NaN</td>\n",
              "      <td>NaN</td>\n",
              "      <td>NaN</td>\n",
              "      <td>NaN</td>\n",
              "      <td>97.0</td>\n",
              "      <td>0.4593</td>\n",
              "      <td>0.69</td>\n",
              "      <td>0.86</td>\n",
              "      <td>1.85</td>\n",
              "      <td>86.0</td>\n",
              "      <td>75.5</td>\n",
              "      <td>NaN</td>\n",
              "    </tr>\n",
              "  </tbody>\n",
              "</table>\n",
              "<p>3 rows × 225 columns</p>\n",
              "</div>"
            ],
            "text/plain": [
              "     indice_tiempo  aa19_cotizacion  ...  tvpa_cotizacion  tvpe_cotizacion\n",
              "2796    2020-08-29              NaN  ...              NaN              NaN\n",
              "2797    2020-08-30              NaN  ...              NaN              NaN\n",
              "2798    2020-08-31              NaN  ...             75.5              NaN\n",
              "\n",
              "[3 rows x 225 columns]"
            ]
          },
          "metadata": {},
          "execution_count": 60
        }
      ]
    },
    {
      "cell_type": "code",
      "metadata": {
        "id": "-SGCVwm0yG1a",
        "colab": {
          "base_uri": "https://localhost:8080/"
        },
        "outputId": "a42bf0d2-d6bd-43aa-db44-122306130da7"
      },
      "source": [
        "df.columns"
      ],
      "execution_count": null,
      "outputs": [
        {
          "output_type": "execute_result",
          "data": {
            "text/plain": [
              "Index(['indice_tiempo', 'aa19_cotizacion', 'aa19_yield', 'aa19_dur',\n",
              "       'aa19_ppv_en_anios', 'aa21_cotizacion', 'aa21_yield', 'aa21_dur',\n",
              "       'aa21_ppv_en_anios', 'a2e2_cotizacion',\n",
              "       ...\n",
              "       'a2m2_dur', 'a2m2_ppv_en_anios', 'td21_cotizacion', 'td21_yield',\n",
              "       'td21_dur', 'td21_ppv_en_anios', 'tvpp_cotizacion', 'tvpy_cotizacion',\n",
              "       'tvpa_cotizacion', 'tvpe_cotizacion'],\n",
              "      dtype='object', length=225)"
            ]
          },
          "metadata": {},
          "execution_count": 61
        }
      ]
    },
    {
      "cell_type": "markdown",
      "metadata": {
        "id": "14uMzg4D-kvH"
      },
      "source": [
        "Seleccionamos algunas variables de interés, dado que con 225 se torna dificultoso..."
      ]
    },
    {
      "cell_type": "code",
      "metadata": {
        "id": "QnM5ng2f-j33"
      },
      "source": [
        "df_sel =df[[\"indice_tiempo\", \"dicy_cotizacion\", \"pary_cotizacion\", \"ac17_cotizacion\"]]"
      ],
      "execution_count": null,
      "outputs": []
    },
    {
      "cell_type": "markdown",
      "metadata": {
        "id": "igucu2Qa-3lm"
      },
      "source": [
        "### Exploración inicial"
      ]
    },
    {
      "cell_type": "code",
      "metadata": {
        "id": "GjLW1NXt_MPz",
        "colab": {
          "base_uri": "https://localhost:8080/"
        },
        "outputId": "0222128a-5e10-49c8-cb0c-2e2fcce49371"
      },
      "source": [
        "df_sel.info()"
      ],
      "execution_count": null,
      "outputs": [
        {
          "output_type": "stream",
          "name": "stdout",
          "text": [
            "<class 'pandas.core.frame.DataFrame'>\n",
            "RangeIndex: 2799 entries, 0 to 2798\n",
            "Data columns (total 4 columns):\n",
            " #   Column           Non-Null Count  Dtype  \n",
            "---  ------           --------------  -----  \n",
            " 0   indice_tiempo    2799 non-null   object \n",
            " 1   dicy_cotizacion  1801 non-null   float64\n",
            " 2   pary_cotizacion  1771 non-null   float64\n",
            " 3   ac17_cotizacion  769 non-null    float64\n",
            "dtypes: float64(3), object(1)\n",
            "memory usage: 87.6+ KB\n"
          ]
        }
      ]
    },
    {
      "cell_type": "code",
      "metadata": {
        "id": "ruKSnxigUDnH",
        "colab": {
          "base_uri": "https://localhost:8080/"
        },
        "outputId": "81900f00-5f0e-47da-cb74-bf09514f77ef"
      },
      "source": [
        "df_sel.dtypes"
      ],
      "execution_count": null,
      "outputs": [
        {
          "output_type": "execute_result",
          "data": {
            "text/plain": [
              "indice_tiempo       object\n",
              "dicy_cotizacion    float64\n",
              "pary_cotizacion    float64\n",
              "ac17_cotizacion    float64\n",
              "dtype: object"
            ]
          },
          "metadata": {},
          "execution_count": 64
        }
      ]
    },
    {
      "cell_type": "code",
      "metadata": {
        "id": "EVM33hcg_Raj",
        "colab": {
          "base_uri": "https://localhost:8080/",
          "height": 300
        },
        "outputId": "5614cd49-84d3-4a4a-f079-fdffe3548c6d"
      },
      "source": [
        "df_sel.describe()"
      ],
      "execution_count": null,
      "outputs": [
        {
          "output_type": "execute_result",
          "data": {
            "text/html": [
              "<div>\n",
              "<style scoped>\n",
              "    .dataframe tbody tr th:only-of-type {\n",
              "        vertical-align: middle;\n",
              "    }\n",
              "\n",
              "    .dataframe tbody tr th {\n",
              "        vertical-align: top;\n",
              "    }\n",
              "\n",
              "    .dataframe thead th {\n",
              "        text-align: right;\n",
              "    }\n",
              "</style>\n",
              "<table border=\"1\" class=\"dataframe\">\n",
              "  <thead>\n",
              "    <tr style=\"text-align: right;\">\n",
              "      <th></th>\n",
              "      <th>dicy_cotizacion</th>\n",
              "      <th>pary_cotizacion</th>\n",
              "      <th>ac17_cotizacion</th>\n",
              "    </tr>\n",
              "  </thead>\n",
              "  <tbody>\n",
              "    <tr>\n",
              "      <th>count</th>\n",
              "      <td>1801.000000</td>\n",
              "      <td>1771.000000</td>\n",
              "      <td>769.000000</td>\n",
              "    </tr>\n",
              "    <tr>\n",
              "      <th>mean</th>\n",
              "      <td>2970.292655</td>\n",
              "      <td>1433.169060</td>\n",
              "      <td>2844.229843</td>\n",
              "    </tr>\n",
              "    <tr>\n",
              "      <th>std</th>\n",
              "      <td>1908.004774</td>\n",
              "      <td>1141.915304</td>\n",
              "      <td>891.137608</td>\n",
              "    </tr>\n",
              "    <tr>\n",
              "      <th>min</th>\n",
              "      <td>603.000000</td>\n",
              "      <td>243.000000</td>\n",
              "      <td>1526.000000</td>\n",
              "    </tr>\n",
              "    <tr>\n",
              "      <th>25%</th>\n",
              "      <td>1530.000000</td>\n",
              "      <td>640.500000</td>\n",
              "      <td>1930.000000</td>\n",
              "    </tr>\n",
              "    <tr>\n",
              "      <th>50%</th>\n",
              "      <td>2435.000000</td>\n",
              "      <td>1038.000000</td>\n",
              "      <td>2870.000000</td>\n",
              "    </tr>\n",
              "    <tr>\n",
              "      <th>75%</th>\n",
              "      <td>4471.500000</td>\n",
              "      <td>2100.000000</td>\n",
              "      <td>3310.000000</td>\n",
              "    </tr>\n",
              "    <tr>\n",
              "      <th>max</th>\n",
              "      <td>9780.000000</td>\n",
              "      <td>5850.000000</td>\n",
              "      <td>5850.000000</td>\n",
              "    </tr>\n",
              "  </tbody>\n",
              "</table>\n",
              "</div>"
            ],
            "text/plain": [
              "       dicy_cotizacion  pary_cotizacion  ac17_cotizacion\n",
              "count      1801.000000      1771.000000       769.000000\n",
              "mean       2970.292655      1433.169060      2844.229843\n",
              "std        1908.004774      1141.915304       891.137608\n",
              "min         603.000000       243.000000      1526.000000\n",
              "25%        1530.000000       640.500000      1930.000000\n",
              "50%        2435.000000      1038.000000      2870.000000\n",
              "75%        4471.500000      2100.000000      3310.000000\n",
              "max        9780.000000      5850.000000      5850.000000"
            ]
          },
          "metadata": {},
          "execution_count": 65
        }
      ]
    },
    {
      "cell_type": "markdown",
      "metadata": {
        "id": "pTlbn_6SECTS"
      },
      "source": [
        "### Variables tipo fecha"
      ]
    },
    {
      "cell_type": "markdown",
      "metadata": {
        "id": "nxMyT-YdATn1"
      },
      "source": [
        "Detectamos que la variable de tiempo es tipo string (\"object\"). Podemos convertirla a una variable temporal la función [`date_time()`](https://pandas.pydata.org/docs/reference/api/pandas.to_datetime.html) de Pandas"
      ]
    },
    {
      "cell_type": "code",
      "metadata": {
        "id": "mcGnY-7r_mPO",
        "colab": {
          "base_uri": "https://localhost:8080/"
        },
        "outputId": "c0aa9b02-44b5-4d82-c8fb-462640e19525"
      },
      "source": [
        "df_sel[\"indice_tiempo\"] =  pd.to_datetime(df_sel[\"indice_tiempo\"]) \n",
        "df_sel.info()"
      ],
      "execution_count": null,
      "outputs": [
        {
          "output_type": "stream",
          "name": "stdout",
          "text": [
            "<class 'pandas.core.frame.DataFrame'>\n",
            "RangeIndex: 2799 entries, 0 to 2798\n",
            "Data columns (total 4 columns):\n",
            " #   Column           Non-Null Count  Dtype         \n",
            "---  ------           --------------  -----         \n",
            " 0   indice_tiempo    2799 non-null   datetime64[ns]\n",
            " 1   dicy_cotizacion  1801 non-null   float64       \n",
            " 2   pary_cotizacion  1771 non-null   float64       \n",
            " 3   ac17_cotizacion  769 non-null    float64       \n",
            "dtypes: datetime64[ns](1), float64(3)\n",
            "memory usage: 87.6 KB\n"
          ]
        },
        {
          "output_type": "stream",
          "name": "stderr",
          "text": [
            "/usr/local/lib/python3.7/dist-packages/ipykernel_launcher.py:1: SettingWithCopyWarning: \n",
            "A value is trying to be set on a copy of a slice from a DataFrame.\n",
            "Try using .loc[row_indexer,col_indexer] = value instead\n",
            "\n",
            "See the caveats in the documentation: https://pandas.pydata.org/pandas-docs/stable/user_guide/indexing.html#returning-a-view-versus-a-copy\n",
            "  \"\"\"Entry point for launching an IPython kernel.\n"
          ]
        }
      ]
    },
    {
      "cell_type": "markdown",
      "metadata": {
        "id": "yqgNExwoEb98"
      },
      "source": [
        "### Conversión columna a índice"
      ]
    },
    {
      "cell_type": "markdown",
      "metadata": {
        "id": "x8DckAxOAmXX"
      },
      "source": [
        "Podemos setear a la variable temporal como índice de todo el dataset con `set_index()`. La inversa es `reset_index()`."
      ]
    },
    {
      "cell_type": "code",
      "metadata": {
        "id": "871-gxcXyQYK",
        "colab": {
          "base_uri": "https://localhost:8080/",
          "height": 206
        },
        "outputId": "5d23a807-a328-4120-81b9-f8e7fb83f754"
      },
      "source": [
        "df_sel.set_index(keys = \"indice_tiempo\", inplace = True)\n",
        "df_sel.head(4)"
      ],
      "execution_count": null,
      "outputs": [
        {
          "output_type": "execute_result",
          "data": {
            "text/html": [
              "<div>\n",
              "<style scoped>\n",
              "    .dataframe tbody tr th:only-of-type {\n",
              "        vertical-align: middle;\n",
              "    }\n",
              "\n",
              "    .dataframe tbody tr th {\n",
              "        vertical-align: top;\n",
              "    }\n",
              "\n",
              "    .dataframe thead th {\n",
              "        text-align: right;\n",
              "    }\n",
              "</style>\n",
              "<table border=\"1\" class=\"dataframe\">\n",
              "  <thead>\n",
              "    <tr style=\"text-align: right;\">\n",
              "      <th></th>\n",
              "      <th>dicy_cotizacion</th>\n",
              "      <th>pary_cotizacion</th>\n",
              "      <th>ac17_cotizacion</th>\n",
              "    </tr>\n",
              "    <tr>\n",
              "      <th>indice_tiempo</th>\n",
              "      <th></th>\n",
              "      <th></th>\n",
              "      <th></th>\n",
              "    </tr>\n",
              "  </thead>\n",
              "  <tbody>\n",
              "    <tr>\n",
              "      <th>2013-01-02</th>\n",
              "      <td>700.0</td>\n",
              "      <td>252.0</td>\n",
              "      <td>NaN</td>\n",
              "    </tr>\n",
              "    <tr>\n",
              "      <th>2013-01-03</th>\n",
              "      <td>700.0</td>\n",
              "      <td>252.0</td>\n",
              "      <td>NaN</td>\n",
              "    </tr>\n",
              "    <tr>\n",
              "      <th>2013-01-04</th>\n",
              "      <td>700.0</td>\n",
              "      <td>252.0</td>\n",
              "      <td>NaN</td>\n",
              "    </tr>\n",
              "    <tr>\n",
              "      <th>2013-01-05</th>\n",
              "      <td>NaN</td>\n",
              "      <td>NaN</td>\n",
              "      <td>NaN</td>\n",
              "    </tr>\n",
              "  </tbody>\n",
              "</table>\n",
              "</div>"
            ],
            "text/plain": [
              "               dicy_cotizacion  pary_cotizacion  ac17_cotizacion\n",
              "indice_tiempo                                                   \n",
              "2013-01-02               700.0            252.0              NaN\n",
              "2013-01-03               700.0            252.0              NaN\n",
              "2013-01-04               700.0            252.0              NaN\n",
              "2013-01-05                 NaN              NaN              NaN"
            ]
          },
          "metadata": {},
          "execution_count": 67
        }
      ]
    },
    {
      "cell_type": "markdown",
      "metadata": {
        "id": "AUV9-1VREguI"
      },
      "source": [
        "### Ordenando valores por índice o columna"
      ]
    },
    {
      "cell_type": "markdown",
      "metadata": {
        "id": "M632aInJCMtO"
      },
      "source": [
        "Con `sort_index()` podemos ordenar los valores por índice. Podemos usar [`sort_values()`](https://pandas.pydata.org/docs/reference/api/pandas.DataFrame.sort_values.html) si deseamos ordenar por algun valor particular."
      ]
    },
    {
      "cell_type": "code",
      "metadata": {
        "id": "DRk84azbB3EO",
        "colab": {
          "base_uri": "https://localhost:8080/",
          "height": 455
        },
        "outputId": "4887c277-6c92-427a-9c58-1ad62fb2f91a"
      },
      "source": [
        "df_sel.sort_index(inplace = True) #inplace me permite no tener que redefinir la variable\n",
        "df_sel"
      ],
      "execution_count": null,
      "outputs": [
        {
          "output_type": "execute_result",
          "data": {
            "text/html": [
              "<div>\n",
              "<style scoped>\n",
              "    .dataframe tbody tr th:only-of-type {\n",
              "        vertical-align: middle;\n",
              "    }\n",
              "\n",
              "    .dataframe tbody tr th {\n",
              "        vertical-align: top;\n",
              "    }\n",
              "\n",
              "    .dataframe thead th {\n",
              "        text-align: right;\n",
              "    }\n",
              "</style>\n",
              "<table border=\"1\" class=\"dataframe\">\n",
              "  <thead>\n",
              "    <tr style=\"text-align: right;\">\n",
              "      <th></th>\n",
              "      <th>dicy_cotizacion</th>\n",
              "      <th>pary_cotizacion</th>\n",
              "      <th>ac17_cotizacion</th>\n",
              "    </tr>\n",
              "    <tr>\n",
              "      <th>indice_tiempo</th>\n",
              "      <th></th>\n",
              "      <th></th>\n",
              "      <th></th>\n",
              "    </tr>\n",
              "  </thead>\n",
              "  <tbody>\n",
              "    <tr>\n",
              "      <th>2013-01-02</th>\n",
              "      <td>700.0</td>\n",
              "      <td>252.0</td>\n",
              "      <td>NaN</td>\n",
              "    </tr>\n",
              "    <tr>\n",
              "      <th>2013-01-03</th>\n",
              "      <td>700.0</td>\n",
              "      <td>252.0</td>\n",
              "      <td>NaN</td>\n",
              "    </tr>\n",
              "    <tr>\n",
              "      <th>2013-01-04</th>\n",
              "      <td>700.0</td>\n",
              "      <td>252.0</td>\n",
              "      <td>NaN</td>\n",
              "    </tr>\n",
              "    <tr>\n",
              "      <th>2013-01-05</th>\n",
              "      <td>NaN</td>\n",
              "      <td>NaN</td>\n",
              "      <td>NaN</td>\n",
              "    </tr>\n",
              "    <tr>\n",
              "      <th>2013-01-06</th>\n",
              "      <td>NaN</td>\n",
              "      <td>NaN</td>\n",
              "      <td>NaN</td>\n",
              "    </tr>\n",
              "    <tr>\n",
              "      <th>...</th>\n",
              "      <td>...</td>\n",
              "      <td>...</td>\n",
              "      <td>...</td>\n",
              "    </tr>\n",
              "    <tr>\n",
              "      <th>2020-08-27</th>\n",
              "      <td>7850.0</td>\n",
              "      <td>4700.0</td>\n",
              "      <td>4700.0</td>\n",
              "    </tr>\n",
              "    <tr>\n",
              "      <th>2020-08-28</th>\n",
              "      <td>7701.0</td>\n",
              "      <td>4650.0</td>\n",
              "      <td>4650.0</td>\n",
              "    </tr>\n",
              "    <tr>\n",
              "      <th>2020-08-29</th>\n",
              "      <td>NaN</td>\n",
              "      <td>NaN</td>\n",
              "      <td>NaN</td>\n",
              "    </tr>\n",
              "    <tr>\n",
              "      <th>2020-08-30</th>\n",
              "      <td>NaN</td>\n",
              "      <td>NaN</td>\n",
              "      <td>NaN</td>\n",
              "    </tr>\n",
              "    <tr>\n",
              "      <th>2020-08-31</th>\n",
              "      <td>7250.0</td>\n",
              "      <td>4570.0</td>\n",
              "      <td>NaN</td>\n",
              "    </tr>\n",
              "  </tbody>\n",
              "</table>\n",
              "<p>2799 rows × 3 columns</p>\n",
              "</div>"
            ],
            "text/plain": [
              "               dicy_cotizacion  pary_cotizacion  ac17_cotizacion\n",
              "indice_tiempo                                                   \n",
              "2013-01-02               700.0            252.0              NaN\n",
              "2013-01-03               700.0            252.0              NaN\n",
              "2013-01-04               700.0            252.0              NaN\n",
              "2013-01-05                 NaN              NaN              NaN\n",
              "2013-01-06                 NaN              NaN              NaN\n",
              "...                        ...              ...              ...\n",
              "2020-08-27              7850.0           4700.0           4700.0\n",
              "2020-08-28              7701.0           4650.0           4650.0\n",
              "2020-08-29                 NaN              NaN              NaN\n",
              "2020-08-30                 NaN              NaN              NaN\n",
              "2020-08-31              7250.0           4570.0              NaN\n",
              "\n",
              "[2799 rows x 3 columns]"
            ]
          },
          "metadata": {},
          "execution_count": 68
        }
      ]
    },
    {
      "cell_type": "code",
      "metadata": {
        "id": "K5eaNP5MGIQ-",
        "colab": {
          "base_uri": "https://localhost:8080/",
          "height": 455
        },
        "outputId": "00f62fb1-38e9-4ab5-f7d5-491afe61f51b"
      },
      "source": [
        "df_sel.sort_values(by = [\"dicy_cotizacion\"], axis = 0, ascending=False)"
      ],
      "execution_count": null,
      "outputs": [
        {
          "output_type": "execute_result",
          "data": {
            "text/html": [
              "<div>\n",
              "<style scoped>\n",
              "    .dataframe tbody tr th:only-of-type {\n",
              "        vertical-align: middle;\n",
              "    }\n",
              "\n",
              "    .dataframe tbody tr th {\n",
              "        vertical-align: top;\n",
              "    }\n",
              "\n",
              "    .dataframe thead th {\n",
              "        text-align: right;\n",
              "    }\n",
              "</style>\n",
              "<table border=\"1\" class=\"dataframe\">\n",
              "  <thead>\n",
              "    <tr style=\"text-align: right;\">\n",
              "      <th></th>\n",
              "      <th>dicy_cotizacion</th>\n",
              "      <th>pary_cotizacion</th>\n",
              "      <th>ac17_cotizacion</th>\n",
              "    </tr>\n",
              "    <tr>\n",
              "      <th>indice_tiempo</th>\n",
              "      <th></th>\n",
              "      <th></th>\n",
              "      <th></th>\n",
              "    </tr>\n",
              "  </thead>\n",
              "  <tbody>\n",
              "    <tr>\n",
              "      <th>2020-08-07</th>\n",
              "      <td>9780.0</td>\n",
              "      <td>5685.0</td>\n",
              "      <td>5800.0</td>\n",
              "    </tr>\n",
              "    <tr>\n",
              "      <th>2020-08-12</th>\n",
              "      <td>9639.5</td>\n",
              "      <td>5850.0</td>\n",
              "      <td>5765.0</td>\n",
              "    </tr>\n",
              "    <tr>\n",
              "      <th>2020-08-20</th>\n",
              "      <td>9600.0</td>\n",
              "      <td>5800.0</td>\n",
              "      <td>5745.0</td>\n",
              "    </tr>\n",
              "    <tr>\n",
              "      <th>2020-08-13</th>\n",
              "      <td>9560.0</td>\n",
              "      <td>5800.0</td>\n",
              "      <td>5715.0</td>\n",
              "    </tr>\n",
              "    <tr>\n",
              "      <th>2020-08-11</th>\n",
              "      <td>9555.0</td>\n",
              "      <td>5799.0</td>\n",
              "      <td>5770.0</td>\n",
              "    </tr>\n",
              "    <tr>\n",
              "      <th>...</th>\n",
              "      <td>...</td>\n",
              "      <td>...</td>\n",
              "      <td>...</td>\n",
              "    </tr>\n",
              "    <tr>\n",
              "      <th>2020-08-17</th>\n",
              "      <td>NaN</td>\n",
              "      <td>NaN</td>\n",
              "      <td>NaN</td>\n",
              "    </tr>\n",
              "    <tr>\n",
              "      <th>2020-08-22</th>\n",
              "      <td>NaN</td>\n",
              "      <td>NaN</td>\n",
              "      <td>NaN</td>\n",
              "    </tr>\n",
              "    <tr>\n",
              "      <th>2020-08-23</th>\n",
              "      <td>NaN</td>\n",
              "      <td>NaN</td>\n",
              "      <td>NaN</td>\n",
              "    </tr>\n",
              "    <tr>\n",
              "      <th>2020-08-29</th>\n",
              "      <td>NaN</td>\n",
              "      <td>NaN</td>\n",
              "      <td>NaN</td>\n",
              "    </tr>\n",
              "    <tr>\n",
              "      <th>2020-08-30</th>\n",
              "      <td>NaN</td>\n",
              "      <td>NaN</td>\n",
              "      <td>NaN</td>\n",
              "    </tr>\n",
              "  </tbody>\n",
              "</table>\n",
              "<p>2799 rows × 3 columns</p>\n",
              "</div>"
            ],
            "text/plain": [
              "               dicy_cotizacion  pary_cotizacion  ac17_cotizacion\n",
              "indice_tiempo                                                   \n",
              "2020-08-07              9780.0           5685.0           5800.0\n",
              "2020-08-12              9639.5           5850.0           5765.0\n",
              "2020-08-20              9600.0           5800.0           5745.0\n",
              "2020-08-13              9560.0           5800.0           5715.0\n",
              "2020-08-11              9555.0           5799.0           5770.0\n",
              "...                        ...              ...              ...\n",
              "2020-08-17                 NaN              NaN              NaN\n",
              "2020-08-22                 NaN              NaN              NaN\n",
              "2020-08-23                 NaN              NaN              NaN\n",
              "2020-08-29                 NaN              NaN              NaN\n",
              "2020-08-30                 NaN              NaN              NaN\n",
              "\n",
              "[2799 rows x 3 columns]"
            ]
          },
          "metadata": {},
          "execution_count": 70
        }
      ]
    },
    {
      "cell_type": "markdown",
      "metadata": {
        "id": "HoIGxfuKDbet"
      },
      "source": [
        "Podemos utilizar el indexado de `.loc` visto previamente"
      ]
    },
    {
      "cell_type": "code",
      "metadata": {
        "id": "VhforKgG9o3G",
        "colab": {
          "base_uri": "https://localhost:8080/",
          "height": 455
        },
        "outputId": "c018623b-694e-4e29-d7de-92299b739c5e"
      },
      "source": [
        "df_sel.loc[\"2019-12-31\":\"2020-04-01\", [\"dicy_cotizacion\", \"pary_cotizacion\"]]"
      ],
      "execution_count": null,
      "outputs": [
        {
          "output_type": "execute_result",
          "data": {
            "text/html": [
              "<div>\n",
              "<style scoped>\n",
              "    .dataframe tbody tr th:only-of-type {\n",
              "        vertical-align: middle;\n",
              "    }\n",
              "\n",
              "    .dataframe tbody tr th {\n",
              "        vertical-align: top;\n",
              "    }\n",
              "\n",
              "    .dataframe thead th {\n",
              "        text-align: right;\n",
              "    }\n",
              "</style>\n",
              "<table border=\"1\" class=\"dataframe\">\n",
              "  <thead>\n",
              "    <tr style=\"text-align: right;\">\n",
              "      <th></th>\n",
              "      <th>dicy_cotizacion</th>\n",
              "      <th>pary_cotizacion</th>\n",
              "    </tr>\n",
              "    <tr>\n",
              "      <th>indice_tiempo</th>\n",
              "      <th></th>\n",
              "      <th></th>\n",
              "    </tr>\n",
              "  </thead>\n",
              "  <tbody>\n",
              "    <tr>\n",
              "      <th>2019-12-31</th>\n",
              "      <td>NaN</td>\n",
              "      <td>NaN</td>\n",
              "    </tr>\n",
              "    <tr>\n",
              "      <th>2020-01-01</th>\n",
              "      <td>NaN</td>\n",
              "      <td>NaN</td>\n",
              "    </tr>\n",
              "    <tr>\n",
              "      <th>2020-01-02</th>\n",
              "      <td>6400.0</td>\n",
              "      <td>3650.0</td>\n",
              "    </tr>\n",
              "    <tr>\n",
              "      <th>2020-01-03</th>\n",
              "      <td>6400.0</td>\n",
              "      <td>3600.0</td>\n",
              "    </tr>\n",
              "    <tr>\n",
              "      <th>2020-01-04</th>\n",
              "      <td>NaN</td>\n",
              "      <td>NaN</td>\n",
              "    </tr>\n",
              "    <tr>\n",
              "      <th>...</th>\n",
              "      <td>...</td>\n",
              "      <td>...</td>\n",
              "    </tr>\n",
              "    <tr>\n",
              "      <th>2020-03-28</th>\n",
              "      <td>NaN</td>\n",
              "      <td>NaN</td>\n",
              "    </tr>\n",
              "    <tr>\n",
              "      <th>2020-03-29</th>\n",
              "      <td>NaN</td>\n",
              "      <td>NaN</td>\n",
              "    </tr>\n",
              "    <tr>\n",
              "      <th>2020-03-30</th>\n",
              "      <td>4440.0</td>\n",
              "      <td>2436.0</td>\n",
              "    </tr>\n",
              "    <tr>\n",
              "      <th>2020-03-31</th>\n",
              "      <td>NaN</td>\n",
              "      <td>NaN</td>\n",
              "    </tr>\n",
              "    <tr>\n",
              "      <th>2020-04-01</th>\n",
              "      <td>4599.0</td>\n",
              "      <td>2610.0</td>\n",
              "    </tr>\n",
              "  </tbody>\n",
              "</table>\n",
              "<p>93 rows × 2 columns</p>\n",
              "</div>"
            ],
            "text/plain": [
              "               dicy_cotizacion  pary_cotizacion\n",
              "indice_tiempo                                  \n",
              "2019-12-31                 NaN              NaN\n",
              "2020-01-01                 NaN              NaN\n",
              "2020-01-02              6400.0           3650.0\n",
              "2020-01-03              6400.0           3600.0\n",
              "2020-01-04                 NaN              NaN\n",
              "...                        ...              ...\n",
              "2020-03-28                 NaN              NaN\n",
              "2020-03-29                 NaN              NaN\n",
              "2020-03-30              4440.0           2436.0\n",
              "2020-03-31                 NaN              NaN\n",
              "2020-04-01              4599.0           2610.0\n",
              "\n",
              "[93 rows x 2 columns]"
            ]
          },
          "metadata": {},
          "execution_count": 71
        }
      ]
    },
    {
      "cell_type": "code",
      "metadata": {
        "id": "cwBdyJy3yxj2",
        "colab": {
          "base_uri": "https://localhost:8080/"
        },
        "outputId": "09b9249b-911f-40d1-c652-d466a0eea410"
      },
      "source": [
        "df_filtrado = df_sel.loc[\"2017-01-01\":]\n",
        "df_filtrado.index"
      ],
      "execution_count": null,
      "outputs": [
        {
          "output_type": "execute_result",
          "data": {
            "text/plain": [
              "DatetimeIndex(['2017-01-01', '2017-01-02', '2017-01-03', '2017-01-04',\n",
              "               '2017-01-05', '2017-01-06', '2017-01-07', '2017-01-08',\n",
              "               '2017-01-09', '2017-01-10',\n",
              "               ...\n",
              "               '2020-08-22', '2020-08-23', '2020-08-24', '2020-08-25',\n",
              "               '2020-08-26', '2020-08-27', '2020-08-28', '2020-08-29',\n",
              "               '2020-08-30', '2020-08-31'],\n",
              "              dtype='datetime64[ns]', name='indice_tiempo', length=1339, freq=None)"
            ]
          },
          "metadata": {},
          "execution_count": 72
        }
      ]
    },
    {
      "cell_type": "markdown",
      "metadata": {
        "id": "1mquxniSF7b2"
      },
      "source": [
        "### Aplicando funciones"
      ]
    },
    {
      "cell_type": "markdown",
      "metadata": {
        "id": "J3NClbhwKbh4"
      },
      "source": [
        "* Podemos aplicar funciones sobre las series"
      ]
    },
    {
      "cell_type": "code",
      "metadata": {
        "id": "5wfO173a_1Hm",
        "colab": {
          "base_uri": "https://localhost:8080/"
        },
        "outputId": "c0201827-ee86-4a7f-ce58-d0781fa3ca13"
      },
      "source": [
        "promedio = df_filtrado.mean()\n",
        "promedio"
      ],
      "execution_count": null,
      "outputs": [
        {
          "output_type": "execute_result",
          "data": {
            "text/plain": [
              "dicy_cotizacion    4429.258144\n",
              "pary_cotizacion    2234.801716\n",
              "ac17_cotizacion    2844.229843\n",
              "dtype: float64"
            ]
          },
          "metadata": {},
          "execution_count": 73
        }
      ]
    },
    {
      "cell_type": "code",
      "metadata": {
        "id": "dkYRNJ1OFTxT",
        "colab": {
          "base_uri": "https://localhost:8080/"
        },
        "outputId": "10d74925-6e9a-4361-920d-2a0656a46ab9"
      },
      "source": [
        "minimo = df_filtrado['dicy_cotizacion'].min()\n",
        "minimo"
      ],
      "execution_count": null,
      "outputs": [
        {
          "output_type": "execute_result",
          "data": {
            "text/plain": [
              "2330.0"
            ]
          },
          "metadata": {},
          "execution_count": 74
        }
      ]
    },
    {
      "cell_type": "markdown",
      "metadata": {
        "id": "Q5CmC4bz1WA3"
      },
      "source": [
        "* Podemos aplicar una misma función a cada elemento del Series usando [**apply**](https://pandas.pydata.org/pandas-docs/stable/reference/api/pandas.DataFrame.apply.html). Por default, aplica la función a cada fila."
      ]
    },
    {
      "cell_type": "code",
      "metadata": {
        "id": "DgRsj6OA1pdw",
        "colab": {
          "base_uri": "https://localhost:8080/",
          "height": 455
        },
        "outputId": "2823522e-5346-47bc-aac3-fb281efb03ab"
      },
      "source": [
        "df_filtrado.apply(np.log)"
      ],
      "execution_count": null,
      "outputs": [
        {
          "output_type": "execute_result",
          "data": {
            "text/html": [
              "<div>\n",
              "<style scoped>\n",
              "    .dataframe tbody tr th:only-of-type {\n",
              "        vertical-align: middle;\n",
              "    }\n",
              "\n",
              "    .dataframe tbody tr th {\n",
              "        vertical-align: top;\n",
              "    }\n",
              "\n",
              "    .dataframe thead th {\n",
              "        text-align: right;\n",
              "    }\n",
              "</style>\n",
              "<table border=\"1\" class=\"dataframe\">\n",
              "  <thead>\n",
              "    <tr style=\"text-align: right;\">\n",
              "      <th></th>\n",
              "      <th>dicy_cotizacion</th>\n",
              "      <th>pary_cotizacion</th>\n",
              "      <th>ac17_cotizacion</th>\n",
              "    </tr>\n",
              "    <tr>\n",
              "      <th>indice_tiempo</th>\n",
              "      <th></th>\n",
              "      <th></th>\n",
              "      <th></th>\n",
              "    </tr>\n",
              "  </thead>\n",
              "  <tbody>\n",
              "    <tr>\n",
              "      <th>2017-01-01</th>\n",
              "      <td>NaN</td>\n",
              "      <td>NaN</td>\n",
              "      <td>NaN</td>\n",
              "    </tr>\n",
              "    <tr>\n",
              "      <th>2017-01-02</th>\n",
              "      <td>7.789869</td>\n",
              "      <td>6.916715</td>\n",
              "      <td>NaN</td>\n",
              "    </tr>\n",
              "    <tr>\n",
              "      <th>2017-01-03</th>\n",
              "      <td>7.784057</td>\n",
              "      <td>6.900731</td>\n",
              "      <td>NaN</td>\n",
              "    </tr>\n",
              "    <tr>\n",
              "      <th>2017-01-04</th>\n",
              "      <td>7.781556</td>\n",
              "      <td>6.904751</td>\n",
              "      <td>NaN</td>\n",
              "    </tr>\n",
              "    <tr>\n",
              "      <th>2017-01-05</th>\n",
              "      <td>7.779049</td>\n",
              "      <td>6.898715</td>\n",
              "      <td>NaN</td>\n",
              "    </tr>\n",
              "    <tr>\n",
              "      <th>...</th>\n",
              "      <td>...</td>\n",
              "      <td>...</td>\n",
              "      <td>...</td>\n",
              "    </tr>\n",
              "    <tr>\n",
              "      <th>2020-08-27</th>\n",
              "      <td>8.968269</td>\n",
              "      <td>8.455318</td>\n",
              "      <td>8.455318</td>\n",
              "    </tr>\n",
              "    <tr>\n",
              "      <th>2020-08-28</th>\n",
              "      <td>8.949105</td>\n",
              "      <td>8.444622</td>\n",
              "      <td>8.444622</td>\n",
              "    </tr>\n",
              "    <tr>\n",
              "      <th>2020-08-29</th>\n",
              "      <td>NaN</td>\n",
              "      <td>NaN</td>\n",
              "      <td>NaN</td>\n",
              "    </tr>\n",
              "    <tr>\n",
              "      <th>2020-08-30</th>\n",
              "      <td>NaN</td>\n",
              "      <td>NaN</td>\n",
              "      <td>NaN</td>\n",
              "    </tr>\n",
              "    <tr>\n",
              "      <th>2020-08-31</th>\n",
              "      <td>8.888757</td>\n",
              "      <td>8.427268</td>\n",
              "      <td>NaN</td>\n",
              "    </tr>\n",
              "  </tbody>\n",
              "</table>\n",
              "<p>1339 rows × 3 columns</p>\n",
              "</div>"
            ],
            "text/plain": [
              "               dicy_cotizacion  pary_cotizacion  ac17_cotizacion\n",
              "indice_tiempo                                                   \n",
              "2017-01-01                 NaN              NaN              NaN\n",
              "2017-01-02            7.789869         6.916715              NaN\n",
              "2017-01-03            7.784057         6.900731              NaN\n",
              "2017-01-04            7.781556         6.904751              NaN\n",
              "2017-01-05            7.779049         6.898715              NaN\n",
              "...                        ...              ...              ...\n",
              "2020-08-27            8.968269         8.455318         8.455318\n",
              "2020-08-28            8.949105         8.444622         8.444622\n",
              "2020-08-29                 NaN              NaN              NaN\n",
              "2020-08-30                 NaN              NaN              NaN\n",
              "2020-08-31            8.888757         8.427268              NaN\n",
              "\n",
              "[1339 rows x 3 columns]"
            ]
          },
          "metadata": {},
          "execution_count": 75
        }
      ]
    },
    {
      "cell_type": "markdown",
      "metadata": {
        "id": "178UDDIlIH1S"
      },
      "source": [
        "Podemos aplicar nuestras propias funciones, definidas con nuestro puño y teclado."
      ]
    },
    {
      "cell_type": "code",
      "metadata": {
        "id": "9icAwZQnH8bJ",
        "colab": {
          "base_uri": "https://localhost:8080/",
          "height": 455
        },
        "outputId": "b9a905ff-550e-483f-bb25-df9f5f0fa113"
      },
      "source": [
        "def por_cien(x): #un ejemplo sencillo\n",
        "  return x*100\n",
        "\n",
        "df_filtrado.apply(por_cien)"
      ],
      "execution_count": null,
      "outputs": [
        {
          "output_type": "execute_result",
          "data": {
            "text/html": [
              "<div>\n",
              "<style scoped>\n",
              "    .dataframe tbody tr th:only-of-type {\n",
              "        vertical-align: middle;\n",
              "    }\n",
              "\n",
              "    .dataframe tbody tr th {\n",
              "        vertical-align: top;\n",
              "    }\n",
              "\n",
              "    .dataframe thead th {\n",
              "        text-align: right;\n",
              "    }\n",
              "</style>\n",
              "<table border=\"1\" class=\"dataframe\">\n",
              "  <thead>\n",
              "    <tr style=\"text-align: right;\">\n",
              "      <th></th>\n",
              "      <th>dicy_cotizacion</th>\n",
              "      <th>pary_cotizacion</th>\n",
              "      <th>ac17_cotizacion</th>\n",
              "    </tr>\n",
              "    <tr>\n",
              "      <th>indice_tiempo</th>\n",
              "      <th></th>\n",
              "      <th></th>\n",
              "      <th></th>\n",
              "    </tr>\n",
              "  </thead>\n",
              "  <tbody>\n",
              "    <tr>\n",
              "      <th>2017-01-01</th>\n",
              "      <td>NaN</td>\n",
              "      <td>NaN</td>\n",
              "      <td>NaN</td>\n",
              "    </tr>\n",
              "    <tr>\n",
              "      <th>2017-01-02</th>\n",
              "      <td>241600.0</td>\n",
              "      <td>100900.0</td>\n",
              "      <td>NaN</td>\n",
              "    </tr>\n",
              "    <tr>\n",
              "      <th>2017-01-03</th>\n",
              "      <td>240200.0</td>\n",
              "      <td>99300.0</td>\n",
              "      <td>NaN</td>\n",
              "    </tr>\n",
              "    <tr>\n",
              "      <th>2017-01-04</th>\n",
              "      <td>239600.0</td>\n",
              "      <td>99700.0</td>\n",
              "      <td>NaN</td>\n",
              "    </tr>\n",
              "    <tr>\n",
              "      <th>2017-01-05</th>\n",
              "      <td>239000.0</td>\n",
              "      <td>99100.0</td>\n",
              "      <td>NaN</td>\n",
              "    </tr>\n",
              "    <tr>\n",
              "      <th>...</th>\n",
              "      <td>...</td>\n",
              "      <td>...</td>\n",
              "      <td>...</td>\n",
              "    </tr>\n",
              "    <tr>\n",
              "      <th>2020-08-27</th>\n",
              "      <td>785000.0</td>\n",
              "      <td>470000.0</td>\n",
              "      <td>470000.0</td>\n",
              "    </tr>\n",
              "    <tr>\n",
              "      <th>2020-08-28</th>\n",
              "      <td>770100.0</td>\n",
              "      <td>465000.0</td>\n",
              "      <td>465000.0</td>\n",
              "    </tr>\n",
              "    <tr>\n",
              "      <th>2020-08-29</th>\n",
              "      <td>NaN</td>\n",
              "      <td>NaN</td>\n",
              "      <td>NaN</td>\n",
              "    </tr>\n",
              "    <tr>\n",
              "      <th>2020-08-30</th>\n",
              "      <td>NaN</td>\n",
              "      <td>NaN</td>\n",
              "      <td>NaN</td>\n",
              "    </tr>\n",
              "    <tr>\n",
              "      <th>2020-08-31</th>\n",
              "      <td>725000.0</td>\n",
              "      <td>457000.0</td>\n",
              "      <td>NaN</td>\n",
              "    </tr>\n",
              "  </tbody>\n",
              "</table>\n",
              "<p>1339 rows × 3 columns</p>\n",
              "</div>"
            ],
            "text/plain": [
              "               dicy_cotizacion  pary_cotizacion  ac17_cotizacion\n",
              "indice_tiempo                                                   \n",
              "2017-01-01                 NaN              NaN              NaN\n",
              "2017-01-02            241600.0         100900.0              NaN\n",
              "2017-01-03            240200.0          99300.0              NaN\n",
              "2017-01-04            239600.0          99700.0              NaN\n",
              "2017-01-05            239000.0          99100.0              NaN\n",
              "...                        ...              ...              ...\n",
              "2020-08-27            785000.0         470000.0         470000.0\n",
              "2020-08-28            770100.0         465000.0         465000.0\n",
              "2020-08-29                 NaN              NaN              NaN\n",
              "2020-08-30                 NaN              NaN              NaN\n",
              "2020-08-31            725000.0         457000.0              NaN\n",
              "\n",
              "[1339 rows x 3 columns]"
            ]
          },
          "metadata": {},
          "execution_count": 76
        }
      ]
    },
    {
      "cell_type": "code",
      "metadata": {
        "id": "G5rEVUzTIapK",
        "colab": {
          "base_uri": "https://localhost:8080/",
          "height": 455
        },
        "outputId": "239710f3-d3b9-4209-849d-0fe6559687f0"
      },
      "source": [
        "def var_porcentual(x):\n",
        "  return  (x / x.shift(1) - 1)*100\n",
        "\n",
        "df_filtrado.apply(var_porcentual)"
      ],
      "execution_count": null,
      "outputs": [
        {
          "output_type": "execute_result",
          "data": {
            "text/html": [
              "<div>\n",
              "<style scoped>\n",
              "    .dataframe tbody tr th:only-of-type {\n",
              "        vertical-align: middle;\n",
              "    }\n",
              "\n",
              "    .dataframe tbody tr th {\n",
              "        vertical-align: top;\n",
              "    }\n",
              "\n",
              "    .dataframe thead th {\n",
              "        text-align: right;\n",
              "    }\n",
              "</style>\n",
              "<table border=\"1\" class=\"dataframe\">\n",
              "  <thead>\n",
              "    <tr style=\"text-align: right;\">\n",
              "      <th></th>\n",
              "      <th>dicy_cotizacion</th>\n",
              "      <th>pary_cotizacion</th>\n",
              "      <th>ac17_cotizacion</th>\n",
              "    </tr>\n",
              "    <tr>\n",
              "      <th>indice_tiempo</th>\n",
              "      <th></th>\n",
              "      <th></th>\n",
              "      <th></th>\n",
              "    </tr>\n",
              "  </thead>\n",
              "  <tbody>\n",
              "    <tr>\n",
              "      <th>2017-01-01</th>\n",
              "      <td>NaN</td>\n",
              "      <td>NaN</td>\n",
              "      <td>NaN</td>\n",
              "    </tr>\n",
              "    <tr>\n",
              "      <th>2017-01-02</th>\n",
              "      <td>NaN</td>\n",
              "      <td>NaN</td>\n",
              "      <td>NaN</td>\n",
              "    </tr>\n",
              "    <tr>\n",
              "      <th>2017-01-03</th>\n",
              "      <td>-0.579470</td>\n",
              "      <td>-1.585728</td>\n",
              "      <td>NaN</td>\n",
              "    </tr>\n",
              "    <tr>\n",
              "      <th>2017-01-04</th>\n",
              "      <td>-0.249792</td>\n",
              "      <td>0.402820</td>\n",
              "      <td>NaN</td>\n",
              "    </tr>\n",
              "    <tr>\n",
              "      <th>2017-01-05</th>\n",
              "      <td>-0.250417</td>\n",
              "      <td>-0.601805</td>\n",
              "      <td>NaN</td>\n",
              "    </tr>\n",
              "    <tr>\n",
              "      <th>...</th>\n",
              "      <td>...</td>\n",
              "      <td>...</td>\n",
              "      <td>...</td>\n",
              "    </tr>\n",
              "    <tr>\n",
              "      <th>2020-08-27</th>\n",
              "      <td>0.000000</td>\n",
              "      <td>-2.083333</td>\n",
              "      <td>-9.615385</td>\n",
              "    </tr>\n",
              "    <tr>\n",
              "      <th>2020-08-28</th>\n",
              "      <td>-1.898089</td>\n",
              "      <td>-1.063830</td>\n",
              "      <td>-1.063830</td>\n",
              "    </tr>\n",
              "    <tr>\n",
              "      <th>2020-08-29</th>\n",
              "      <td>NaN</td>\n",
              "      <td>NaN</td>\n",
              "      <td>NaN</td>\n",
              "    </tr>\n",
              "    <tr>\n",
              "      <th>2020-08-30</th>\n",
              "      <td>NaN</td>\n",
              "      <td>NaN</td>\n",
              "      <td>NaN</td>\n",
              "    </tr>\n",
              "    <tr>\n",
              "      <th>2020-08-31</th>\n",
              "      <td>NaN</td>\n",
              "      <td>NaN</td>\n",
              "      <td>NaN</td>\n",
              "    </tr>\n",
              "  </tbody>\n",
              "</table>\n",
              "<p>1339 rows × 3 columns</p>\n",
              "</div>"
            ],
            "text/plain": [
              "               dicy_cotizacion  pary_cotizacion  ac17_cotizacion\n",
              "indice_tiempo                                                   \n",
              "2017-01-01                 NaN              NaN              NaN\n",
              "2017-01-02                 NaN              NaN              NaN\n",
              "2017-01-03           -0.579470        -1.585728              NaN\n",
              "2017-01-04           -0.249792         0.402820              NaN\n",
              "2017-01-05           -0.250417        -0.601805              NaN\n",
              "...                        ...              ...              ...\n",
              "2020-08-27            0.000000        -2.083333        -9.615385\n",
              "2020-08-28           -1.898089        -1.063830        -1.063830\n",
              "2020-08-29                 NaN              NaN              NaN\n",
              "2020-08-30                 NaN              NaN              NaN\n",
              "2020-08-31                 NaN              NaN              NaN\n",
              "\n",
              "[1339 rows x 3 columns]"
            ]
          },
          "metadata": {},
          "execution_count": 77
        }
      ]
    },
    {
      "cell_type": "markdown",
      "metadata": {
        "id": "77Ad7SYSJq7V"
      },
      "source": [
        "Con `lambda` podemos definir la función en una sóla linea"
      ]
    },
    {
      "cell_type": "code",
      "metadata": {
        "id": "tCgw9YaXJtH2",
        "colab": {
          "base_uri": "https://localhost:8080/",
          "height": 455
        },
        "outputId": "628819fc-f5ba-4f8d-82d2-7e169061637d"
      },
      "source": [
        "df_filtrado.apply(lambda x: (x / x.shift(1) - 1)*100 , axis=0)"
      ],
      "execution_count": null,
      "outputs": [
        {
          "output_type": "execute_result",
          "data": {
            "text/html": [
              "<div>\n",
              "<style scoped>\n",
              "    .dataframe tbody tr th:only-of-type {\n",
              "        vertical-align: middle;\n",
              "    }\n",
              "\n",
              "    .dataframe tbody tr th {\n",
              "        vertical-align: top;\n",
              "    }\n",
              "\n",
              "    .dataframe thead th {\n",
              "        text-align: right;\n",
              "    }\n",
              "</style>\n",
              "<table border=\"1\" class=\"dataframe\">\n",
              "  <thead>\n",
              "    <tr style=\"text-align: right;\">\n",
              "      <th></th>\n",
              "      <th>dicy_cotizacion</th>\n",
              "      <th>pary_cotizacion</th>\n",
              "      <th>ac17_cotizacion</th>\n",
              "    </tr>\n",
              "    <tr>\n",
              "      <th>indice_tiempo</th>\n",
              "      <th></th>\n",
              "      <th></th>\n",
              "      <th></th>\n",
              "    </tr>\n",
              "  </thead>\n",
              "  <tbody>\n",
              "    <tr>\n",
              "      <th>2017-01-01</th>\n",
              "      <td>NaN</td>\n",
              "      <td>NaN</td>\n",
              "      <td>NaN</td>\n",
              "    </tr>\n",
              "    <tr>\n",
              "      <th>2017-01-02</th>\n",
              "      <td>NaN</td>\n",
              "      <td>NaN</td>\n",
              "      <td>NaN</td>\n",
              "    </tr>\n",
              "    <tr>\n",
              "      <th>2017-01-03</th>\n",
              "      <td>-0.579470</td>\n",
              "      <td>-1.585728</td>\n",
              "      <td>NaN</td>\n",
              "    </tr>\n",
              "    <tr>\n",
              "      <th>2017-01-04</th>\n",
              "      <td>-0.249792</td>\n",
              "      <td>0.402820</td>\n",
              "      <td>NaN</td>\n",
              "    </tr>\n",
              "    <tr>\n",
              "      <th>2017-01-05</th>\n",
              "      <td>-0.250417</td>\n",
              "      <td>-0.601805</td>\n",
              "      <td>NaN</td>\n",
              "    </tr>\n",
              "    <tr>\n",
              "      <th>...</th>\n",
              "      <td>...</td>\n",
              "      <td>...</td>\n",
              "      <td>...</td>\n",
              "    </tr>\n",
              "    <tr>\n",
              "      <th>2020-08-27</th>\n",
              "      <td>0.000000</td>\n",
              "      <td>-2.083333</td>\n",
              "      <td>-9.615385</td>\n",
              "    </tr>\n",
              "    <tr>\n",
              "      <th>2020-08-28</th>\n",
              "      <td>-1.898089</td>\n",
              "      <td>-1.063830</td>\n",
              "      <td>-1.063830</td>\n",
              "    </tr>\n",
              "    <tr>\n",
              "      <th>2020-08-29</th>\n",
              "      <td>NaN</td>\n",
              "      <td>NaN</td>\n",
              "      <td>NaN</td>\n",
              "    </tr>\n",
              "    <tr>\n",
              "      <th>2020-08-30</th>\n",
              "      <td>NaN</td>\n",
              "      <td>NaN</td>\n",
              "      <td>NaN</td>\n",
              "    </tr>\n",
              "    <tr>\n",
              "      <th>2020-08-31</th>\n",
              "      <td>NaN</td>\n",
              "      <td>NaN</td>\n",
              "      <td>NaN</td>\n",
              "    </tr>\n",
              "  </tbody>\n",
              "</table>\n",
              "<p>1339 rows × 3 columns</p>\n",
              "</div>"
            ],
            "text/plain": [
              "               dicy_cotizacion  pary_cotizacion  ac17_cotizacion\n",
              "indice_tiempo                                                   \n",
              "2017-01-01                 NaN              NaN              NaN\n",
              "2017-01-02                 NaN              NaN              NaN\n",
              "2017-01-03           -0.579470        -1.585728              NaN\n",
              "2017-01-04           -0.249792         0.402820              NaN\n",
              "2017-01-05           -0.250417        -0.601805              NaN\n",
              "...                        ...              ...              ...\n",
              "2020-08-27            0.000000        -2.083333        -9.615385\n",
              "2020-08-28           -1.898089        -1.063830        -1.063830\n",
              "2020-08-29                 NaN              NaN              NaN\n",
              "2020-08-30                 NaN              NaN              NaN\n",
              "2020-08-31                 NaN              NaN              NaN\n",
              "\n",
              "[1339 rows x 3 columns]"
            ]
          },
          "metadata": {},
          "execution_count": 78
        }
      ]
    },
    {
      "cell_type": "markdown",
      "metadata": {
        "id": "4YK3YIZd3vkn"
      },
      "source": [
        "Si cambiamos el argumento axis a 1 podremos realizar operaciones relacionando datos de columnas (entonces aplicará la función a cada fila/observación). En este caso, podemos calcular la diferencia entre precios de bonos. "
      ]
    },
    {
      "cell_type": "code",
      "metadata": {
        "id": "NoBx8rj11x_3",
        "colab": {
          "base_uri": "https://localhost:8080/"
        },
        "outputId": "602a157c-4d72-4eb1-d172-5ac63a5e6310"
      },
      "source": [
        "df_filtrado.apply(lambda x: (x['dicy_cotizacion']/x['pary_cotizacion'] - 1)*100 , axis=1)"
      ],
      "execution_count": null,
      "outputs": [
        {
          "output_type": "execute_result",
          "data": {
            "text/plain": [
              "indice_tiempo\n",
              "2017-01-01           NaN\n",
              "2017-01-02    139.444995\n",
              "2017-01-03    141.893253\n",
              "2017-01-04    140.320963\n",
              "2017-01-05    141.170535\n",
              "                 ...    \n",
              "2020-08-27     67.021277\n",
              "2020-08-28     65.612903\n",
              "2020-08-29           NaN\n",
              "2020-08-30           NaN\n",
              "2020-08-31     58.643326\n",
              "Length: 1339, dtype: float64"
            ]
          },
          "metadata": {},
          "execution_count": 79
        }
      ]
    },
    {
      "cell_type": "markdown",
      "metadata": {
        "id": "ByaqIEMwQ-VP"
      },
      "source": [
        "Podemos guardar esa diferencia en una columna nueva, como ya vimos"
      ]
    },
    {
      "cell_type": "code",
      "metadata": {
        "id": "UhFXRD3WREjk",
        "colab": {
          "base_uri": "https://localhost:8080/",
          "height": 559
        },
        "outputId": "6e600ad1-04cc-4e3e-ef03-3ac5dfbfd62b"
      },
      "source": [
        "df_filtrado[\"dif\"] = (df_filtrado['dicy_cotizacion']/df_filtrado['pary_cotizacion'] - 1)*100 \n",
        "df_filtrado"
      ],
      "execution_count": null,
      "outputs": [
        {
          "output_type": "stream",
          "name": "stderr",
          "text": [
            "/usr/local/lib/python3.7/dist-packages/ipykernel_launcher.py:1: SettingWithCopyWarning: \n",
            "A value is trying to be set on a copy of a slice from a DataFrame.\n",
            "Try using .loc[row_indexer,col_indexer] = value instead\n",
            "\n",
            "See the caveats in the documentation: https://pandas.pydata.org/pandas-docs/stable/user_guide/indexing.html#returning-a-view-versus-a-copy\n",
            "  \"\"\"Entry point for launching an IPython kernel.\n"
          ]
        },
        {
          "output_type": "execute_result",
          "data": {
            "text/html": [
              "<div>\n",
              "<style scoped>\n",
              "    .dataframe tbody tr th:only-of-type {\n",
              "        vertical-align: middle;\n",
              "    }\n",
              "\n",
              "    .dataframe tbody tr th {\n",
              "        vertical-align: top;\n",
              "    }\n",
              "\n",
              "    .dataframe thead th {\n",
              "        text-align: right;\n",
              "    }\n",
              "</style>\n",
              "<table border=\"1\" class=\"dataframe\">\n",
              "  <thead>\n",
              "    <tr style=\"text-align: right;\">\n",
              "      <th></th>\n",
              "      <th>dicy_cotizacion</th>\n",
              "      <th>pary_cotizacion</th>\n",
              "      <th>ac17_cotizacion</th>\n",
              "      <th>dif</th>\n",
              "    </tr>\n",
              "    <tr>\n",
              "      <th>indice_tiempo</th>\n",
              "      <th></th>\n",
              "      <th></th>\n",
              "      <th></th>\n",
              "      <th></th>\n",
              "    </tr>\n",
              "  </thead>\n",
              "  <tbody>\n",
              "    <tr>\n",
              "      <th>2017-01-01</th>\n",
              "      <td>NaN</td>\n",
              "      <td>NaN</td>\n",
              "      <td>NaN</td>\n",
              "      <td>NaN</td>\n",
              "    </tr>\n",
              "    <tr>\n",
              "      <th>2017-01-02</th>\n",
              "      <td>2416.0</td>\n",
              "      <td>1009.0</td>\n",
              "      <td>NaN</td>\n",
              "      <td>139.444995</td>\n",
              "    </tr>\n",
              "    <tr>\n",
              "      <th>2017-01-03</th>\n",
              "      <td>2402.0</td>\n",
              "      <td>993.0</td>\n",
              "      <td>NaN</td>\n",
              "      <td>141.893253</td>\n",
              "    </tr>\n",
              "    <tr>\n",
              "      <th>2017-01-04</th>\n",
              "      <td>2396.0</td>\n",
              "      <td>997.0</td>\n",
              "      <td>NaN</td>\n",
              "      <td>140.320963</td>\n",
              "    </tr>\n",
              "    <tr>\n",
              "      <th>2017-01-05</th>\n",
              "      <td>2390.0</td>\n",
              "      <td>991.0</td>\n",
              "      <td>NaN</td>\n",
              "      <td>141.170535</td>\n",
              "    </tr>\n",
              "    <tr>\n",
              "      <th>...</th>\n",
              "      <td>...</td>\n",
              "      <td>...</td>\n",
              "      <td>...</td>\n",
              "      <td>...</td>\n",
              "    </tr>\n",
              "    <tr>\n",
              "      <th>2020-08-27</th>\n",
              "      <td>7850.0</td>\n",
              "      <td>4700.0</td>\n",
              "      <td>4700.0</td>\n",
              "      <td>67.021277</td>\n",
              "    </tr>\n",
              "    <tr>\n",
              "      <th>2020-08-28</th>\n",
              "      <td>7701.0</td>\n",
              "      <td>4650.0</td>\n",
              "      <td>4650.0</td>\n",
              "      <td>65.612903</td>\n",
              "    </tr>\n",
              "    <tr>\n",
              "      <th>2020-08-29</th>\n",
              "      <td>NaN</td>\n",
              "      <td>NaN</td>\n",
              "      <td>NaN</td>\n",
              "      <td>NaN</td>\n",
              "    </tr>\n",
              "    <tr>\n",
              "      <th>2020-08-30</th>\n",
              "      <td>NaN</td>\n",
              "      <td>NaN</td>\n",
              "      <td>NaN</td>\n",
              "      <td>NaN</td>\n",
              "    </tr>\n",
              "    <tr>\n",
              "      <th>2020-08-31</th>\n",
              "      <td>7250.0</td>\n",
              "      <td>4570.0</td>\n",
              "      <td>NaN</td>\n",
              "      <td>58.643326</td>\n",
              "    </tr>\n",
              "  </tbody>\n",
              "</table>\n",
              "<p>1339 rows × 4 columns</p>\n",
              "</div>"
            ],
            "text/plain": [
              "               dicy_cotizacion  pary_cotizacion  ac17_cotizacion         dif\n",
              "indice_tiempo                                                               \n",
              "2017-01-01                 NaN              NaN              NaN         NaN\n",
              "2017-01-02              2416.0           1009.0              NaN  139.444995\n",
              "2017-01-03              2402.0            993.0              NaN  141.893253\n",
              "2017-01-04              2396.0            997.0              NaN  140.320963\n",
              "2017-01-05              2390.0            991.0              NaN  141.170535\n",
              "...                        ...              ...              ...         ...\n",
              "2020-08-27              7850.0           4700.0           4700.0   67.021277\n",
              "2020-08-28              7701.0           4650.0           4650.0   65.612903\n",
              "2020-08-29                 NaN              NaN              NaN         NaN\n",
              "2020-08-30                 NaN              NaN              NaN         NaN\n",
              "2020-08-31              7250.0           4570.0              NaN   58.643326\n",
              "\n",
              "[1339 rows x 4 columns]"
            ]
          },
          "metadata": {},
          "execution_count": 80
        }
      ]
    },
    {
      "cell_type": "markdown",
      "metadata": {
        "id": "rWMeSTdaS9Zn"
      },
      "source": [
        "### Concatenación de dataset"
      ]
    },
    {
      "cell_type": "code",
      "metadata": {
        "id": "cZYqInc8S_aI"
      },
      "source": [
        "df_a_concatenar = df_sel.loc[:\"2017-01-01\"]\n",
        "df_a_concatenar"
      ],
      "execution_count": null,
      "outputs": []
    },
    {
      "cell_type": "code",
      "metadata": {
        "id": "ZGcheO5FTWNn"
      },
      "source": [
        "pd.concat([df_filtrado, df_a_concatenar], axis = 0)#.sort_index()"
      ],
      "execution_count": null,
      "outputs": []
    },
    {
      "cell_type": "markdown",
      "metadata": {
        "id": "57x3IOR8KIa5"
      },
      "source": [
        "### Eliminación de filas y columnas"
      ]
    },
    {
      "cell_type": "code",
      "metadata": {
        "id": "EQkBgaXHKbt4"
      },
      "source": [
        "df_filtrado = df_filtrado.drop(\"dif\", axis = 1) #con axis = 1 indicamos a las columnas\n",
        "df_filtrado "
      ],
      "execution_count": null,
      "outputs": []
    },
    {
      "cell_type": "code",
      "metadata": {
        "id": "qQD2PGdoRlj4"
      },
      "source": [
        "df_filtrado.drop(\"2017-01-01\", axis = 0, inplace=True ) #con axis = 0 indicamos a las filas\n",
        "df_filtrado"
      ],
      "execution_count": null,
      "outputs": []
    },
    {
      "cell_type": "markdown",
      "metadata": {
        "id": "xkdI5EPvGAMa"
      },
      "source": [
        "### Joins"
      ]
    },
    {
      "cell_type": "code",
      "metadata": {
        "id": "lWtv_U8ZK52p",
        "colab": {
          "base_uri": "https://localhost:8080/",
          "height": 423
        },
        "outputId": "9fd51d5d-691c-4197-8f84-e0215c43c908"
      },
      "source": [
        "df_a_joinear = df[[\"indice_tiempo\", \"aa19_cotizacion\"]]\n",
        "df_a_joinear"
      ],
      "execution_count": null,
      "outputs": [
        {
          "output_type": "execute_result",
          "data": {
            "text/html": [
              "<div>\n",
              "<style scoped>\n",
              "    .dataframe tbody tr th:only-of-type {\n",
              "        vertical-align: middle;\n",
              "    }\n",
              "\n",
              "    .dataframe tbody tr th {\n",
              "        vertical-align: top;\n",
              "    }\n",
              "\n",
              "    .dataframe thead th {\n",
              "        text-align: right;\n",
              "    }\n",
              "</style>\n",
              "<table border=\"1\" class=\"dataframe\">\n",
              "  <thead>\n",
              "    <tr style=\"text-align: right;\">\n",
              "      <th></th>\n",
              "      <th>indice_tiempo</th>\n",
              "      <th>aa19_cotizacion</th>\n",
              "    </tr>\n",
              "  </thead>\n",
              "  <tbody>\n",
              "    <tr>\n",
              "      <th>0</th>\n",
              "      <td>2013-01-02</td>\n",
              "      <td>NaN</td>\n",
              "    </tr>\n",
              "    <tr>\n",
              "      <th>1</th>\n",
              "      <td>2013-01-03</td>\n",
              "      <td>NaN</td>\n",
              "    </tr>\n",
              "    <tr>\n",
              "      <th>2</th>\n",
              "      <td>2013-01-04</td>\n",
              "      <td>NaN</td>\n",
              "    </tr>\n",
              "    <tr>\n",
              "      <th>3</th>\n",
              "      <td>2013-01-05</td>\n",
              "      <td>NaN</td>\n",
              "    </tr>\n",
              "    <tr>\n",
              "      <th>4</th>\n",
              "      <td>2013-01-06</td>\n",
              "      <td>NaN</td>\n",
              "    </tr>\n",
              "    <tr>\n",
              "      <th>...</th>\n",
              "      <td>...</td>\n",
              "      <td>...</td>\n",
              "    </tr>\n",
              "    <tr>\n",
              "      <th>2794</th>\n",
              "      <td>2020-08-27</td>\n",
              "      <td>NaN</td>\n",
              "    </tr>\n",
              "    <tr>\n",
              "      <th>2795</th>\n",
              "      <td>2020-08-28</td>\n",
              "      <td>NaN</td>\n",
              "    </tr>\n",
              "    <tr>\n",
              "      <th>2796</th>\n",
              "      <td>2020-08-29</td>\n",
              "      <td>NaN</td>\n",
              "    </tr>\n",
              "    <tr>\n",
              "      <th>2797</th>\n",
              "      <td>2020-08-30</td>\n",
              "      <td>NaN</td>\n",
              "    </tr>\n",
              "    <tr>\n",
              "      <th>2798</th>\n",
              "      <td>2020-08-31</td>\n",
              "      <td>NaN</td>\n",
              "    </tr>\n",
              "  </tbody>\n",
              "</table>\n",
              "<p>2799 rows × 2 columns</p>\n",
              "</div>"
            ],
            "text/plain": [
              "     indice_tiempo  aa19_cotizacion\n",
              "0       2013-01-02              NaN\n",
              "1       2013-01-03              NaN\n",
              "2       2013-01-04              NaN\n",
              "3       2013-01-05              NaN\n",
              "4       2013-01-06              NaN\n",
              "...            ...              ...\n",
              "2794    2020-08-27              NaN\n",
              "2795    2020-08-28              NaN\n",
              "2796    2020-08-29              NaN\n",
              "2797    2020-08-30              NaN\n",
              "2798    2020-08-31              NaN\n",
              "\n",
              "[2799 rows x 2 columns]"
            ]
          },
          "metadata": {},
          "execution_count": 81
        }
      ]
    },
    {
      "cell_type": "code",
      "metadata": {
        "id": "Zr80J38qLLWV",
        "colab": {
          "base_uri": "https://localhost:8080/",
          "height": 423
        },
        "outputId": "94a54ea2-a596-46d6-c285-73cc399acd65"
      },
      "source": [
        "df_filtrado.reset_index(inplace = True)\n",
        "df_filtrado"
      ],
      "execution_count": null,
      "outputs": [
        {
          "output_type": "execute_result",
          "data": {
            "text/html": [
              "<div>\n",
              "<style scoped>\n",
              "    .dataframe tbody tr th:only-of-type {\n",
              "        vertical-align: middle;\n",
              "    }\n",
              "\n",
              "    .dataframe tbody tr th {\n",
              "        vertical-align: top;\n",
              "    }\n",
              "\n",
              "    .dataframe thead th {\n",
              "        text-align: right;\n",
              "    }\n",
              "</style>\n",
              "<table border=\"1\" class=\"dataframe\">\n",
              "  <thead>\n",
              "    <tr style=\"text-align: right;\">\n",
              "      <th></th>\n",
              "      <th>indice_tiempo</th>\n",
              "      <th>dicy_cotizacion</th>\n",
              "      <th>pary_cotizacion</th>\n",
              "      <th>ac17_cotizacion</th>\n",
              "      <th>dif</th>\n",
              "    </tr>\n",
              "  </thead>\n",
              "  <tbody>\n",
              "    <tr>\n",
              "      <th>0</th>\n",
              "      <td>2017-01-01</td>\n",
              "      <td>NaN</td>\n",
              "      <td>NaN</td>\n",
              "      <td>NaN</td>\n",
              "      <td>NaN</td>\n",
              "    </tr>\n",
              "    <tr>\n",
              "      <th>1</th>\n",
              "      <td>2017-01-02</td>\n",
              "      <td>2416.0</td>\n",
              "      <td>1009.0</td>\n",
              "      <td>NaN</td>\n",
              "      <td>139.444995</td>\n",
              "    </tr>\n",
              "    <tr>\n",
              "      <th>2</th>\n",
              "      <td>2017-01-03</td>\n",
              "      <td>2402.0</td>\n",
              "      <td>993.0</td>\n",
              "      <td>NaN</td>\n",
              "      <td>141.893253</td>\n",
              "    </tr>\n",
              "    <tr>\n",
              "      <th>3</th>\n",
              "      <td>2017-01-04</td>\n",
              "      <td>2396.0</td>\n",
              "      <td>997.0</td>\n",
              "      <td>NaN</td>\n",
              "      <td>140.320963</td>\n",
              "    </tr>\n",
              "    <tr>\n",
              "      <th>4</th>\n",
              "      <td>2017-01-05</td>\n",
              "      <td>2390.0</td>\n",
              "      <td>991.0</td>\n",
              "      <td>NaN</td>\n",
              "      <td>141.170535</td>\n",
              "    </tr>\n",
              "    <tr>\n",
              "      <th>...</th>\n",
              "      <td>...</td>\n",
              "      <td>...</td>\n",
              "      <td>...</td>\n",
              "      <td>...</td>\n",
              "      <td>...</td>\n",
              "    </tr>\n",
              "    <tr>\n",
              "      <th>1334</th>\n",
              "      <td>2020-08-27</td>\n",
              "      <td>7850.0</td>\n",
              "      <td>4700.0</td>\n",
              "      <td>4700.0</td>\n",
              "      <td>67.021277</td>\n",
              "    </tr>\n",
              "    <tr>\n",
              "      <th>1335</th>\n",
              "      <td>2020-08-28</td>\n",
              "      <td>7701.0</td>\n",
              "      <td>4650.0</td>\n",
              "      <td>4650.0</td>\n",
              "      <td>65.612903</td>\n",
              "    </tr>\n",
              "    <tr>\n",
              "      <th>1336</th>\n",
              "      <td>2020-08-29</td>\n",
              "      <td>NaN</td>\n",
              "      <td>NaN</td>\n",
              "      <td>NaN</td>\n",
              "      <td>NaN</td>\n",
              "    </tr>\n",
              "    <tr>\n",
              "      <th>1337</th>\n",
              "      <td>2020-08-30</td>\n",
              "      <td>NaN</td>\n",
              "      <td>NaN</td>\n",
              "      <td>NaN</td>\n",
              "      <td>NaN</td>\n",
              "    </tr>\n",
              "    <tr>\n",
              "      <th>1338</th>\n",
              "      <td>2020-08-31</td>\n",
              "      <td>7250.0</td>\n",
              "      <td>4570.0</td>\n",
              "      <td>NaN</td>\n",
              "      <td>58.643326</td>\n",
              "    </tr>\n",
              "  </tbody>\n",
              "</table>\n",
              "<p>1339 rows × 5 columns</p>\n",
              "</div>"
            ],
            "text/plain": [
              "     indice_tiempo  dicy_cotizacion  ...  ac17_cotizacion         dif\n",
              "0       2017-01-01              NaN  ...              NaN         NaN\n",
              "1       2017-01-02           2416.0  ...              NaN  139.444995\n",
              "2       2017-01-03           2402.0  ...              NaN  141.893253\n",
              "3       2017-01-04           2396.0  ...              NaN  140.320963\n",
              "4       2017-01-05           2390.0  ...              NaN  141.170535\n",
              "...            ...              ...  ...              ...         ...\n",
              "1334    2020-08-27           7850.0  ...           4700.0   67.021277\n",
              "1335    2020-08-28           7701.0  ...           4650.0   65.612903\n",
              "1336    2020-08-29              NaN  ...              NaN         NaN\n",
              "1337    2020-08-30              NaN  ...              NaN         NaN\n",
              "1338    2020-08-31           7250.0  ...              NaN   58.643326\n",
              "\n",
              "[1339 rows x 5 columns]"
            ]
          },
          "metadata": {},
          "execution_count": 82
        }
      ]
    },
    {
      "cell_type": "markdown",
      "metadata": {
        "id": "gimkImsJL2z6"
      },
      "source": [
        "Para que el join se haga efectivo la llave tiene que  ser el mismo tipo de dato. Por lo tanto, tengo que volver a convertir el tipo de dato fecha a string. Otra alternativa es joiner por el índice de los datos, tal como se comenta en [la documentación](https://pandas.pydata.org/pandas-docs/stable/reference/api/pandas.DataFrame.merge.html)."
      ]
    },
    {
      "cell_type": "code",
      "metadata": {
        "id": "7mtbMXSaLvc6",
        "colab": {
          "base_uri": "https://localhost:8080/"
        },
        "outputId": "e5270ef2-c16c-44aa-ff45-a6a90af1308b"
      },
      "source": [
        "df_filtrado[\"indice_tiempo\"] = df_filtrado[\"indice_tiempo\"].astype(str)"
      ],
      "execution_count": null,
      "outputs": [
        {
          "output_type": "stream",
          "name": "stderr",
          "text": [
            "/usr/local/lib/python3.7/dist-packages/ipykernel_launcher.py:1: SettingWithCopyWarning: \n",
            "A value is trying to be set on a copy of a slice from a DataFrame.\n",
            "Try using .loc[row_indexer,col_indexer] = value instead\n",
            "\n",
            "See the caveats in the documentation: https://pandas.pydata.org/pandas-docs/stable/user_guide/indexing.html#returning-a-view-versus-a-copy\n",
            "  \"\"\"Entry point for launching an IPython kernel.\n"
          ]
        }
      ]
    },
    {
      "cell_type": "code",
      "metadata": {
        "id": "Xyoe1UPTLSws",
        "colab": {
          "base_uri": "https://localhost:8080/",
          "height": 423
        },
        "outputId": "6943006d-679a-41ce-905d-00c94fd41de3"
      },
      "source": [
        "df_mergeado = pd.merge(df_a_joinear, df_filtrado, how =\"left\", left_on = \"indice_tiempo\", right_on = \"indice_tiempo\")\n",
        "df_mergeado"
      ],
      "execution_count": null,
      "outputs": [
        {
          "output_type": "execute_result",
          "data": {
            "text/html": [
              "<div>\n",
              "<style scoped>\n",
              "    .dataframe tbody tr th:only-of-type {\n",
              "        vertical-align: middle;\n",
              "    }\n",
              "\n",
              "    .dataframe tbody tr th {\n",
              "        vertical-align: top;\n",
              "    }\n",
              "\n",
              "    .dataframe thead th {\n",
              "        text-align: right;\n",
              "    }\n",
              "</style>\n",
              "<table border=\"1\" class=\"dataframe\">\n",
              "  <thead>\n",
              "    <tr style=\"text-align: right;\">\n",
              "      <th></th>\n",
              "      <th>indice_tiempo</th>\n",
              "      <th>aa19_cotizacion</th>\n",
              "      <th>dicy_cotizacion</th>\n",
              "      <th>pary_cotizacion</th>\n",
              "      <th>ac17_cotizacion</th>\n",
              "      <th>dif</th>\n",
              "    </tr>\n",
              "  </thead>\n",
              "  <tbody>\n",
              "    <tr>\n",
              "      <th>0</th>\n",
              "      <td>2013-01-02</td>\n",
              "      <td>NaN</td>\n",
              "      <td>NaN</td>\n",
              "      <td>NaN</td>\n",
              "      <td>NaN</td>\n",
              "      <td>NaN</td>\n",
              "    </tr>\n",
              "    <tr>\n",
              "      <th>1</th>\n",
              "      <td>2013-01-03</td>\n",
              "      <td>NaN</td>\n",
              "      <td>NaN</td>\n",
              "      <td>NaN</td>\n",
              "      <td>NaN</td>\n",
              "      <td>NaN</td>\n",
              "    </tr>\n",
              "    <tr>\n",
              "      <th>2</th>\n",
              "      <td>2013-01-04</td>\n",
              "      <td>NaN</td>\n",
              "      <td>NaN</td>\n",
              "      <td>NaN</td>\n",
              "      <td>NaN</td>\n",
              "      <td>NaN</td>\n",
              "    </tr>\n",
              "    <tr>\n",
              "      <th>3</th>\n",
              "      <td>2013-01-05</td>\n",
              "      <td>NaN</td>\n",
              "      <td>NaN</td>\n",
              "      <td>NaN</td>\n",
              "      <td>NaN</td>\n",
              "      <td>NaN</td>\n",
              "    </tr>\n",
              "    <tr>\n",
              "      <th>4</th>\n",
              "      <td>2013-01-06</td>\n",
              "      <td>NaN</td>\n",
              "      <td>NaN</td>\n",
              "      <td>NaN</td>\n",
              "      <td>NaN</td>\n",
              "      <td>NaN</td>\n",
              "    </tr>\n",
              "    <tr>\n",
              "      <th>...</th>\n",
              "      <td>...</td>\n",
              "      <td>...</td>\n",
              "      <td>...</td>\n",
              "      <td>...</td>\n",
              "      <td>...</td>\n",
              "      <td>...</td>\n",
              "    </tr>\n",
              "    <tr>\n",
              "      <th>2794</th>\n",
              "      <td>2020-08-27</td>\n",
              "      <td>NaN</td>\n",
              "      <td>7850.0</td>\n",
              "      <td>4700.0</td>\n",
              "      <td>4700.0</td>\n",
              "      <td>67.021277</td>\n",
              "    </tr>\n",
              "    <tr>\n",
              "      <th>2795</th>\n",
              "      <td>2020-08-28</td>\n",
              "      <td>NaN</td>\n",
              "      <td>7701.0</td>\n",
              "      <td>4650.0</td>\n",
              "      <td>4650.0</td>\n",
              "      <td>65.612903</td>\n",
              "    </tr>\n",
              "    <tr>\n",
              "      <th>2796</th>\n",
              "      <td>2020-08-29</td>\n",
              "      <td>NaN</td>\n",
              "      <td>NaN</td>\n",
              "      <td>NaN</td>\n",
              "      <td>NaN</td>\n",
              "      <td>NaN</td>\n",
              "    </tr>\n",
              "    <tr>\n",
              "      <th>2797</th>\n",
              "      <td>2020-08-30</td>\n",
              "      <td>NaN</td>\n",
              "      <td>NaN</td>\n",
              "      <td>NaN</td>\n",
              "      <td>NaN</td>\n",
              "      <td>NaN</td>\n",
              "    </tr>\n",
              "    <tr>\n",
              "      <th>2798</th>\n",
              "      <td>2020-08-31</td>\n",
              "      <td>NaN</td>\n",
              "      <td>7250.0</td>\n",
              "      <td>4570.0</td>\n",
              "      <td>NaN</td>\n",
              "      <td>58.643326</td>\n",
              "    </tr>\n",
              "  </tbody>\n",
              "</table>\n",
              "<p>2799 rows × 6 columns</p>\n",
              "</div>"
            ],
            "text/plain": [
              "     indice_tiempo  aa19_cotizacion  ...  ac17_cotizacion        dif\n",
              "0       2013-01-02              NaN  ...              NaN        NaN\n",
              "1       2013-01-03              NaN  ...              NaN        NaN\n",
              "2       2013-01-04              NaN  ...              NaN        NaN\n",
              "3       2013-01-05              NaN  ...              NaN        NaN\n",
              "4       2013-01-06              NaN  ...              NaN        NaN\n",
              "...            ...              ...  ...              ...        ...\n",
              "2794    2020-08-27              NaN  ...           4700.0  67.021277\n",
              "2795    2020-08-28              NaN  ...           4650.0  65.612903\n",
              "2796    2020-08-29              NaN  ...              NaN        NaN\n",
              "2797    2020-08-30              NaN  ...              NaN        NaN\n",
              "2798    2020-08-31              NaN  ...              NaN  58.643326\n",
              "\n",
              "[2799 rows x 6 columns]"
            ]
          },
          "metadata": {},
          "execution_count": 84
        }
      ]
    },
    {
      "cell_type": "markdown",
      "metadata": {
        "id": "YwntdmV7MP6m"
      },
      "source": [
        "En el parámetro `how` podemos indicar el tipo de join que deseamos realizar (right, left, inner, full, anti-join, etc...)\n",
        "\n",
        "\n",
        "<br>\n",
        "\n",
        "\n",
        "![](https://i.pinimg.com/originals/c3/33/f5/c333f500174ce2a5b412db86bcd701be.png)"
      ]
    },
    {
      "cell_type": "markdown",
      "metadata": {
        "id": "7gnBunX0MTPK"
      },
      "source": [
        "### Trasponer (melt)\n",
        "\n",
        "\n",
        "Puede ser de mucha utilizada rotar las tablas para obtener otra disposición de acceso a los datos. Las funciones principales para ellos son [melt()](https://pandas.pydata.org/pandas-docs/version/1.0.0/reference/api/pandas.DataFrame.melt.html) y [pivot()](https://pandas.pydata.org/docs/reference/api/pandas.DataFrame.pivot.html).\n",
        "\n",
        "![](https://pandas.pydata.org/docs/_images/reshaping_melt.png)"
      ]
    },
    {
      "cell_type": "code",
      "metadata": {
        "id": "BMa8B2oEMWCg",
        "colab": {
          "base_uri": "https://localhost:8080/",
          "height": 423
        },
        "outputId": "e39c9c2c-1fba-4023-8a7b-9b317a00159e"
      },
      "source": [
        "df_melteado = df_filtrado.melt(id_vars=\"indice_tiempo\", var_name=\"bono\")\n",
        "df_melteado"
      ],
      "execution_count": null,
      "outputs": [
        {
          "output_type": "execute_result",
          "data": {
            "text/html": [
              "<div>\n",
              "<style scoped>\n",
              "    .dataframe tbody tr th:only-of-type {\n",
              "        vertical-align: middle;\n",
              "    }\n",
              "\n",
              "    .dataframe tbody tr th {\n",
              "        vertical-align: top;\n",
              "    }\n",
              "\n",
              "    .dataframe thead th {\n",
              "        text-align: right;\n",
              "    }\n",
              "</style>\n",
              "<table border=\"1\" class=\"dataframe\">\n",
              "  <thead>\n",
              "    <tr style=\"text-align: right;\">\n",
              "      <th></th>\n",
              "      <th>indice_tiempo</th>\n",
              "      <th>bono</th>\n",
              "      <th>value</th>\n",
              "    </tr>\n",
              "  </thead>\n",
              "  <tbody>\n",
              "    <tr>\n",
              "      <th>0</th>\n",
              "      <td>2017-01-01</td>\n",
              "      <td>dicy_cotizacion</td>\n",
              "      <td>NaN</td>\n",
              "    </tr>\n",
              "    <tr>\n",
              "      <th>1</th>\n",
              "      <td>2017-01-02</td>\n",
              "      <td>dicy_cotizacion</td>\n",
              "      <td>2416.000000</td>\n",
              "    </tr>\n",
              "    <tr>\n",
              "      <th>2</th>\n",
              "      <td>2017-01-03</td>\n",
              "      <td>dicy_cotizacion</td>\n",
              "      <td>2402.000000</td>\n",
              "    </tr>\n",
              "    <tr>\n",
              "      <th>3</th>\n",
              "      <td>2017-01-04</td>\n",
              "      <td>dicy_cotizacion</td>\n",
              "      <td>2396.000000</td>\n",
              "    </tr>\n",
              "    <tr>\n",
              "      <th>4</th>\n",
              "      <td>2017-01-05</td>\n",
              "      <td>dicy_cotizacion</td>\n",
              "      <td>2390.000000</td>\n",
              "    </tr>\n",
              "    <tr>\n",
              "      <th>...</th>\n",
              "      <td>...</td>\n",
              "      <td>...</td>\n",
              "      <td>...</td>\n",
              "    </tr>\n",
              "    <tr>\n",
              "      <th>5351</th>\n",
              "      <td>2020-08-27</td>\n",
              "      <td>dif</td>\n",
              "      <td>67.021277</td>\n",
              "    </tr>\n",
              "    <tr>\n",
              "      <th>5352</th>\n",
              "      <td>2020-08-28</td>\n",
              "      <td>dif</td>\n",
              "      <td>65.612903</td>\n",
              "    </tr>\n",
              "    <tr>\n",
              "      <th>5353</th>\n",
              "      <td>2020-08-29</td>\n",
              "      <td>dif</td>\n",
              "      <td>NaN</td>\n",
              "    </tr>\n",
              "    <tr>\n",
              "      <th>5354</th>\n",
              "      <td>2020-08-30</td>\n",
              "      <td>dif</td>\n",
              "      <td>NaN</td>\n",
              "    </tr>\n",
              "    <tr>\n",
              "      <th>5355</th>\n",
              "      <td>2020-08-31</td>\n",
              "      <td>dif</td>\n",
              "      <td>58.643326</td>\n",
              "    </tr>\n",
              "  </tbody>\n",
              "</table>\n",
              "<p>5356 rows × 3 columns</p>\n",
              "</div>"
            ],
            "text/plain": [
              "     indice_tiempo             bono        value\n",
              "0       2017-01-01  dicy_cotizacion          NaN\n",
              "1       2017-01-02  dicy_cotizacion  2416.000000\n",
              "2       2017-01-03  dicy_cotizacion  2402.000000\n",
              "3       2017-01-04  dicy_cotizacion  2396.000000\n",
              "4       2017-01-05  dicy_cotizacion  2390.000000\n",
              "...            ...              ...          ...\n",
              "5351    2020-08-27              dif    67.021277\n",
              "5352    2020-08-28              dif    65.612903\n",
              "5353    2020-08-29              dif          NaN\n",
              "5354    2020-08-30              dif          NaN\n",
              "5355    2020-08-31              dif    58.643326\n",
              "\n",
              "[5356 rows x 3 columns]"
            ]
          },
          "metadata": {},
          "execution_count": 85
        }
      ]
    },
    {
      "cell_type": "markdown",
      "metadata": {
        "id": "pvv-qwF5U07i"
      },
      "source": [
        "Disponer del dataset de esta manera nos permite manipular más facilmente la columna \"bono\" como una variable categórica y \"value\" como una numérica con su precio"
      ]
    },
    {
      "cell_type": "markdown",
      "metadata": {
        "id": "P-AzDE2hWDNs"
      },
      "source": [
        "### Eliminación de valores missings"
      ]
    },
    {
      "cell_type": "markdown",
      "metadata": {
        "id": "eSX5K9ojVZoX"
      },
      "source": [
        "* Por ejemplo, podemos eliminar los valores missings de la columna \"value\" (indicado con el parámetro `subset`)"
      ]
    },
    {
      "cell_type": "code",
      "metadata": {
        "id": "IGYWX5x2VYr_",
        "colab": {
          "base_uri": "https://localhost:8080/",
          "height": 423
        },
        "outputId": "e5fe452e-ba35-4267-8aed-104e07c855de"
      },
      "source": [
        "df_melteado.dropna(subset= [\"value\"], inplace = True)\n",
        "df_melteado"
      ],
      "execution_count": null,
      "outputs": [
        {
          "output_type": "execute_result",
          "data": {
            "text/html": [
              "<div>\n",
              "<style scoped>\n",
              "    .dataframe tbody tr th:only-of-type {\n",
              "        vertical-align: middle;\n",
              "    }\n",
              "\n",
              "    .dataframe tbody tr th {\n",
              "        vertical-align: top;\n",
              "    }\n",
              "\n",
              "    .dataframe thead th {\n",
              "        text-align: right;\n",
              "    }\n",
              "</style>\n",
              "<table border=\"1\" class=\"dataframe\">\n",
              "  <thead>\n",
              "    <tr style=\"text-align: right;\">\n",
              "      <th></th>\n",
              "      <th>indice_tiempo</th>\n",
              "      <th>bono</th>\n",
              "      <th>value</th>\n",
              "    </tr>\n",
              "  </thead>\n",
              "  <tbody>\n",
              "    <tr>\n",
              "      <th>1</th>\n",
              "      <td>2017-01-02</td>\n",
              "      <td>dicy_cotizacion</td>\n",
              "      <td>2416.000000</td>\n",
              "    </tr>\n",
              "    <tr>\n",
              "      <th>2</th>\n",
              "      <td>2017-01-03</td>\n",
              "      <td>dicy_cotizacion</td>\n",
              "      <td>2402.000000</td>\n",
              "    </tr>\n",
              "    <tr>\n",
              "      <th>3</th>\n",
              "      <td>2017-01-04</td>\n",
              "      <td>dicy_cotizacion</td>\n",
              "      <td>2396.000000</td>\n",
              "    </tr>\n",
              "    <tr>\n",
              "      <th>4</th>\n",
              "      <td>2017-01-05</td>\n",
              "      <td>dicy_cotizacion</td>\n",
              "      <td>2390.000000</td>\n",
              "    </tr>\n",
              "    <tr>\n",
              "      <th>5</th>\n",
              "      <td>2017-01-06</td>\n",
              "      <td>dicy_cotizacion</td>\n",
              "      <td>2378.000000</td>\n",
              "    </tr>\n",
              "    <tr>\n",
              "      <th>...</th>\n",
              "      <td>...</td>\n",
              "      <td>...</td>\n",
              "      <td>...</td>\n",
              "    </tr>\n",
              "    <tr>\n",
              "      <th>5349</th>\n",
              "      <td>2020-08-25</td>\n",
              "      <td>dif</td>\n",
              "      <td>72.180000</td>\n",
              "    </tr>\n",
              "    <tr>\n",
              "      <th>5350</th>\n",
              "      <td>2020-08-26</td>\n",
              "      <td>dif</td>\n",
              "      <td>63.541667</td>\n",
              "    </tr>\n",
              "    <tr>\n",
              "      <th>5351</th>\n",
              "      <td>2020-08-27</td>\n",
              "      <td>dif</td>\n",
              "      <td>67.021277</td>\n",
              "    </tr>\n",
              "    <tr>\n",
              "      <th>5352</th>\n",
              "      <td>2020-08-28</td>\n",
              "      <td>dif</td>\n",
              "      <td>65.612903</td>\n",
              "    </tr>\n",
              "    <tr>\n",
              "      <th>5355</th>\n",
              "      <td>2020-08-31</td>\n",
              "      <td>dif</td>\n",
              "      <td>58.643326</td>\n",
              "    </tr>\n",
              "  </tbody>\n",
              "</table>\n",
              "<p>3430 rows × 3 columns</p>\n",
              "</div>"
            ],
            "text/plain": [
              "     indice_tiempo             bono        value\n",
              "1       2017-01-02  dicy_cotizacion  2416.000000\n",
              "2       2017-01-03  dicy_cotizacion  2402.000000\n",
              "3       2017-01-04  dicy_cotizacion  2396.000000\n",
              "4       2017-01-05  dicy_cotizacion  2390.000000\n",
              "5       2017-01-06  dicy_cotizacion  2378.000000\n",
              "...            ...              ...          ...\n",
              "5349    2020-08-25              dif    72.180000\n",
              "5350    2020-08-26              dif    63.541667\n",
              "5351    2020-08-27              dif    67.021277\n",
              "5352    2020-08-28              dif    65.612903\n",
              "5355    2020-08-31              dif    58.643326\n",
              "\n",
              "[3430 rows x 3 columns]"
            ]
          },
          "metadata": {},
          "execution_count": 86
        }
      ]
    },
    {
      "cell_type": "markdown",
      "metadata": {
        "id": "Cc4iN5FrWG0e"
      },
      "source": [
        "### Valores únicos"
      ]
    },
    {
      "cell_type": "markdown",
      "metadata": {
        "id": "5sCKh3e-U9TS"
      },
      "source": [
        "* Podemos ver los valores únicos de la variable \"bono\""
      ]
    },
    {
      "cell_type": "code",
      "metadata": {
        "id": "SrvkZQyaVGXA",
        "colab": {
          "base_uri": "https://localhost:8080/"
        },
        "outputId": "2d75530a-29e9-4e89-d7c8-dbad54121d49"
      },
      "source": [
        "df_melteado[\"bono\"].unique()"
      ],
      "execution_count": null,
      "outputs": [
        {
          "output_type": "execute_result",
          "data": {
            "text/plain": [
              "array(['dicy_cotizacion', 'pary_cotizacion', 'ac17_cotizacion', 'dif'],\n",
              "      dtype=object)"
            ]
          },
          "metadata": {},
          "execution_count": 87
        }
      ]
    },
    {
      "cell_type": "markdown",
      "metadata": {
        "id": "Mb_n2kHiWJGQ"
      },
      "source": [
        "### Frecuencias"
      ]
    },
    {
      "cell_type": "markdown",
      "metadata": {
        "id": "FNb4G6bqVWSL"
      },
      "source": [
        "* Se puede contar la frecuencia de aparición de cada bono con la función `value_counts()`"
      ]
    },
    {
      "cell_type": "code",
      "metadata": {
        "id": "0URqr4EKV2u5",
        "colab": {
          "base_uri": "https://localhost:8080/"
        },
        "outputId": "9b0be738-196e-4db1-9f78-dc1977ba81da"
      },
      "source": [
        "df_melteado.value_counts(\"bono\")"
      ],
      "execution_count": null,
      "outputs": [
        {
          "output_type": "execute_result",
          "data": {
            "text/plain": [
              "bono\n",
              "dicy_cotizacion    891\n",
              "pary_cotizacion    885\n",
              "dif                885\n",
              "ac17_cotizacion    769\n",
              "dtype: int64"
            ]
          },
          "metadata": {},
          "execution_count": 88
        }
      ]
    },
    {
      "cell_type": "markdown",
      "metadata": {
        "id": "CXjhSWriNjW_"
      },
      "source": [
        "### Agrupamientos"
      ]
    },
    {
      "cell_type": "markdown",
      "metadata": {
        "id": "ixqnKE684RvD"
      },
      "source": [
        "* Algo que nos puede interesar hacer sobre este último tipo de tabla melteada es calcular los promedio, pero en vez de todo junto, agrupado por bono. Pandas tiene una función llamada **groupby**, la cual es muy útil para eso:"
      ]
    },
    {
      "cell_type": "code",
      "metadata": {
        "id": "gkNoY3LB4kgV",
        "colab": {
          "base_uri": "https://localhost:8080/",
          "height": 206
        },
        "outputId": "f9ea460c-e4b6-4a43-b2e5-8db28169d4e4"
      },
      "source": [
        "df_melteado.groupby('bono').mean()"
      ],
      "execution_count": null,
      "outputs": [
        {
          "output_type": "execute_result",
          "data": {
            "text/html": [
              "<div>\n",
              "<style scoped>\n",
              "    .dataframe tbody tr th:only-of-type {\n",
              "        vertical-align: middle;\n",
              "    }\n",
              "\n",
              "    .dataframe tbody tr th {\n",
              "        vertical-align: top;\n",
              "    }\n",
              "\n",
              "    .dataframe thead th {\n",
              "        text-align: right;\n",
              "    }\n",
              "</style>\n",
              "<table border=\"1\" class=\"dataframe\">\n",
              "  <thead>\n",
              "    <tr style=\"text-align: right;\">\n",
              "      <th></th>\n",
              "      <th>value</th>\n",
              "    </tr>\n",
              "    <tr>\n",
              "      <th>bono</th>\n",
              "      <th></th>\n",
              "    </tr>\n",
              "  </thead>\n",
              "  <tbody>\n",
              "    <tr>\n",
              "      <th>ac17_cotizacion</th>\n",
              "      <td>2844.229843</td>\n",
              "    </tr>\n",
              "    <tr>\n",
              "      <th>dicy_cotizacion</th>\n",
              "      <td>4429.258144</td>\n",
              "    </tr>\n",
              "    <tr>\n",
              "      <th>dif</th>\n",
              "      <td>110.008695</td>\n",
              "    </tr>\n",
              "    <tr>\n",
              "      <th>pary_cotizacion</th>\n",
              "      <td>2234.801716</td>\n",
              "    </tr>\n",
              "  </tbody>\n",
              "</table>\n",
              "</div>"
            ],
            "text/plain": [
              "                       value\n",
              "bono                        \n",
              "ac17_cotizacion  2844.229843\n",
              "dicy_cotizacion  4429.258144\n",
              "dif               110.008695\n",
              "pary_cotizacion  2234.801716"
            ]
          },
          "metadata": {},
          "execution_count": 89
        }
      ]
    },
    {
      "cell_type": "markdown",
      "metadata": {
        "id": "EIvEaOD1WLoi"
      },
      "source": [
        "### Trasponer (pivot)"
      ]
    },
    {
      "cell_type": "markdown",
      "metadata": {
        "id": "u5LaTsLKVLB4"
      },
      "source": [
        "Podemos volver a la posición original del dataset con `pivot()`\n",
        "\n",
        "![](https://pandas.pydata.org/docs/_images/reshaping_pivot.png)"
      ]
    },
    {
      "cell_type": "code",
      "metadata": {
        "id": "eKREDh_5MzYh",
        "colab": {
          "base_uri": "https://localhost:8080/",
          "height": 455
        },
        "outputId": "67bb65a7-820b-4918-d395-427c8d6daee3"
      },
      "source": [
        "df_unmelteado = df_melteado.pivot(columns=\"bono\", values=\"value\" , index = \"indice_tiempo\")\n",
        "df_unmelteado"
      ],
      "execution_count": null,
      "outputs": [
        {
          "output_type": "execute_result",
          "data": {
            "text/html": [
              "<div>\n",
              "<style scoped>\n",
              "    .dataframe tbody tr th:only-of-type {\n",
              "        vertical-align: middle;\n",
              "    }\n",
              "\n",
              "    .dataframe tbody tr th {\n",
              "        vertical-align: top;\n",
              "    }\n",
              "\n",
              "    .dataframe thead th {\n",
              "        text-align: right;\n",
              "    }\n",
              "</style>\n",
              "<table border=\"1\" class=\"dataframe\">\n",
              "  <thead>\n",
              "    <tr style=\"text-align: right;\">\n",
              "      <th>bono</th>\n",
              "      <th>ac17_cotizacion</th>\n",
              "      <th>dicy_cotizacion</th>\n",
              "      <th>dif</th>\n",
              "      <th>pary_cotizacion</th>\n",
              "    </tr>\n",
              "    <tr>\n",
              "      <th>indice_tiempo</th>\n",
              "      <th></th>\n",
              "      <th></th>\n",
              "      <th></th>\n",
              "      <th></th>\n",
              "    </tr>\n",
              "  </thead>\n",
              "  <tbody>\n",
              "    <tr>\n",
              "      <th>2017-01-02</th>\n",
              "      <td>NaN</td>\n",
              "      <td>2416.0</td>\n",
              "      <td>139.444995</td>\n",
              "      <td>1009.0</td>\n",
              "    </tr>\n",
              "    <tr>\n",
              "      <th>2017-01-03</th>\n",
              "      <td>NaN</td>\n",
              "      <td>2402.0</td>\n",
              "      <td>141.893253</td>\n",
              "      <td>993.0</td>\n",
              "    </tr>\n",
              "    <tr>\n",
              "      <th>2017-01-04</th>\n",
              "      <td>NaN</td>\n",
              "      <td>2396.0</td>\n",
              "      <td>140.320963</td>\n",
              "      <td>997.0</td>\n",
              "    </tr>\n",
              "    <tr>\n",
              "      <th>2017-01-05</th>\n",
              "      <td>NaN</td>\n",
              "      <td>2390.0</td>\n",
              "      <td>141.170535</td>\n",
              "      <td>991.0</td>\n",
              "    </tr>\n",
              "    <tr>\n",
              "      <th>2017-01-06</th>\n",
              "      <td>NaN</td>\n",
              "      <td>2378.0</td>\n",
              "      <td>140.202020</td>\n",
              "      <td>990.0</td>\n",
              "    </tr>\n",
              "    <tr>\n",
              "      <th>...</th>\n",
              "      <td>...</td>\n",
              "      <td>...</td>\n",
              "      <td>...</td>\n",
              "      <td>...</td>\n",
              "    </tr>\n",
              "    <tr>\n",
              "      <th>2020-08-25</th>\n",
              "      <td>5450.0</td>\n",
              "      <td>8609.0</td>\n",
              "      <td>72.180000</td>\n",
              "      <td>5000.0</td>\n",
              "    </tr>\n",
              "    <tr>\n",
              "      <th>2020-08-26</th>\n",
              "      <td>5200.0</td>\n",
              "      <td>7850.0</td>\n",
              "      <td>63.541667</td>\n",
              "      <td>4800.0</td>\n",
              "    </tr>\n",
              "    <tr>\n",
              "      <th>2020-08-27</th>\n",
              "      <td>4700.0</td>\n",
              "      <td>7850.0</td>\n",
              "      <td>67.021277</td>\n",
              "      <td>4700.0</td>\n",
              "    </tr>\n",
              "    <tr>\n",
              "      <th>2020-08-28</th>\n",
              "      <td>4650.0</td>\n",
              "      <td>7701.0</td>\n",
              "      <td>65.612903</td>\n",
              "      <td>4650.0</td>\n",
              "    </tr>\n",
              "    <tr>\n",
              "      <th>2020-08-31</th>\n",
              "      <td>NaN</td>\n",
              "      <td>7250.0</td>\n",
              "      <td>58.643326</td>\n",
              "      <td>4570.0</td>\n",
              "    </tr>\n",
              "  </tbody>\n",
              "</table>\n",
              "<p>891 rows × 4 columns</p>\n",
              "</div>"
            ],
            "text/plain": [
              "bono           ac17_cotizacion  dicy_cotizacion         dif  pary_cotizacion\n",
              "indice_tiempo                                                               \n",
              "2017-01-02                 NaN           2416.0  139.444995           1009.0\n",
              "2017-01-03                 NaN           2402.0  141.893253            993.0\n",
              "2017-01-04                 NaN           2396.0  140.320963            997.0\n",
              "2017-01-05                 NaN           2390.0  141.170535            991.0\n",
              "2017-01-06                 NaN           2378.0  140.202020            990.0\n",
              "...                        ...              ...         ...              ...\n",
              "2020-08-25              5450.0           8609.0   72.180000           5000.0\n",
              "2020-08-26              5200.0           7850.0   63.541667           4800.0\n",
              "2020-08-27              4700.0           7850.0   67.021277           4700.0\n",
              "2020-08-28              4650.0           7701.0   65.612903           4650.0\n",
              "2020-08-31                 NaN           7250.0   58.643326           4570.0\n",
              "\n",
              "[891 rows x 4 columns]"
            ]
          },
          "metadata": {},
          "execution_count": 91
        }
      ]
    },
    {
      "cell_type": "markdown",
      "metadata": {
        "id": "TV3gm9D6Eo2_"
      },
      "source": [
        "### Visualizaciones"
      ]
    },
    {
      "cell_type": "code",
      "metadata": {
        "id": "YBDfOmMv1QBc",
        "colab": {
          "base_uri": "https://localhost:8080/",
          "height": 327
        },
        "outputId": "7731cbc2-db3d-46cb-df57-c534bd8f8103"
      },
      "source": [
        "df_filtrado.plot(title = \"Cotización de bonos seleccionados\", rot = 45, xlabel = \"Fecha\", ylabel = \"USD\")"
      ],
      "execution_count": null,
      "outputs": [
        {
          "output_type": "execute_result",
          "data": {
            "text/plain": [
              "<matplotlib.axes._subplots.AxesSubplot at 0x7f8b63aac2d0>"
            ]
          },
          "metadata": {},
          "execution_count": 92
        },
        {
          "output_type": "display_data",
          "data": {
            "image/png": "[encoded data removed]",
            "text/plain": [
              "<Figure size 432x288 with 1 Axes>"
            ]
          },
          "metadata": {
            "needs_background": "light"
          }
        }
      ]
    },
    {
      "cell_type": "markdown",
      "metadata": {
        "id": "k0rMDIkyWbg3"
      },
      "source": [
        "Podemos hacer las visualizaciones también con matplotlib. Combinemos en una misma impresión distintos tipos de gráficos, por ejemplo, uno de lineas, puntos o [scatter plot](https://matplotlib.org/stable/api/_as_gen/matplotlib.pyplot.scatter.html) y de [barras](). Para modificar los colores también tenemos que revisar la [documentación](https://matplotlib.org/stable/gallery/color/named_colors.html). Existen varias formas de especificar los [colores](https://matplotlib.org/stable/tutorials/colors/colors.html); a continuación lo indicaremos por medio de strings. "
      ]
    },
    {
      "cell_type": "code",
      "metadata": {
        "id": "svN6Zy5FTEQ8",
        "colab": {
          "base_uri": "https://localhost:8080/",
          "height": 333
        },
        "outputId": "1246eb76-2079-4c53-914b-f376faf2c370"
      },
      "source": [
        "import matplotlib.pyplot as plt\n",
        "\n",
        "# df_filtrado.set_index(\"indice_tiempo\", inplace=True)\n",
        "plt.scatter(df_filtrado.index, df_filtrado.dicy_cotizacion, label= \"dicy\", s = 0.4, c = \"salmon\")\n",
        "plt.bar(df_filtrado.index, df_filtrado.pary_cotizacion , label= \"pary\", color = \"indigo\")\n",
        "plt.plot(df_filtrado.index, df_filtrado.ac17_cotizacion , label= \"ac17\", color = \"deepskyblue\")\n",
        "plt.xlabel(\"Fecha\")\n",
        "plt.ylabel(\"USD\")\n",
        "plt.title(\"Cotizacion de bonos argentinos\")\n",
        "plt.legend(loc = \"best\")\n",
        "plt.xticks(df_filtrado.index[::100],  rotation=45)\n",
        "plt.show()"
      ],
      "execution_count": null,
      "outputs": [
        {
          "output_type": "display_data",
          "data": {
            "image/png": "[encoded data removed]",
            "text/plain": [
              "<Figure size 432x288 with 1 Axes>"
            ]
          },
          "metadata": {
            "needs_background": "light"
          }
        }
      ]
    },
    {
      "cell_type": "markdown",
      "metadata": {
        "id": "2r4dnnemfNXN"
      },
      "source": [
        "En cierto punto, el hecho de tener traspuesto los datos facilita la manipulación en pos de la visualización de los datos."
      ]
    },
    {
      "cell_type": "code",
      "metadata": {
        "colab": {
          "base_uri": "https://localhost:8080/",
          "height": 334
        },
        "id": "Q-z6e2aOclOP",
        "outputId": "780f0793-be4b-4a8e-dba1-8377f5eb4922"
      },
      "source": [
        "fig, ax = plt.subplots() #para graficar varios suplots, no utilizado esta vez\n",
        "\n",
        "df_melteado = df_filtrado.reset_index().melt(id_vars=\"indice_tiempo\", var_name=\"bono\")\n",
        "data_plot = df_melteado[df_melteado[\"bono\"] != \"dif\"]\n",
        "\n",
        "colors = {'dicy_cotizacion': \"salmon\", 'pary_cotizacion': \"indigo\", 'ac17_cotizacion': \"deepskyblue\"}\n",
        "\n",
        "ax.scatter(x = \"indice_tiempo\", y= \"value\",  c =  data_plot[\"bono\"].map(colors), data = data_plot, s = 0.4)\n",
        "plt.xlabel(\"Fecha\")\n",
        "plt.ylabel(\"USD\")\n",
        "plt.title(\"Cotizacion de bonos argentinos\")\n",
        "plt.legend(loc = \"best\")\n",
        "plt.xticks(df_filtrado.index[::150],  rotation=45)\n",
        "plt.show()"
      ],
      "execution_count": null,
      "outputs": [
        {
          "output_type": "display_data",
          "data": {
            "image/png": "[encoded data removed]",
            "text/plain": [
              "<Figure size 432x288 with 1 Axes>"
            ]
          },
          "metadata": {
            "needs_background": "light"
          }
        }
      ]
    }
  ]
}
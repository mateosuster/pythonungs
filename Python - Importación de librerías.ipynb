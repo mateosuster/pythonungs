{
  "cells": [
    {
      "cell_type": "markdown",
      "metadata": {
        "id": "view-in-github",
        "colab_type": "text"
      },
      "source": [
        "<a href=\"https://colab.research.google.com/github/mateosuster/pythonungs/blob/master/Python%20-%20Importaci%C3%B3n%20de%20librer%C3%ADas.ipynb\" target=\"_parent\"><img src=\"https://colab.research.google.com/assets/colab-badge.svg\" alt=\"Open In Colab\"/></a>"
      ]
    },
    {
      "cell_type": "markdown",
      "metadata": {
        "id": "JOEpImumZ9us"
      },
      "source": [
        "# Importación de librerías o modulos\n",
        "\n",
        "En programación, una librería responde al conjunto de funcionalidades que permiten al usuario  llevar a cabo nuevas tareas que antes no se podían realizar.\n",
        "\n",
        "Cada una de las librerías de Python disponen de diferentes módulos, con funciones específicas y que también varían en función del sistema operativo con el que se trabaje.\n",
        "\n",
        "De acuerdo, con los objetivos de las librerías de Python existen diferentes clasificaciones. Estos son algunos tipos de librerías de Python:\n",
        "\n",
        "\n",
        "* Machine learning: Estas librerías son útiles para el machine learning, ya que mejoran el proceso de información y la resolución de problemas de clasificación y el análisis de regresión de datos.\n",
        "* Cálculo numérico: Preparan los datos y ofrecen atributos importantes para su cálculo.\n",
        "* Visualización: Sirven para entender y comprender los datos, de una forma más legible. \n",
        "* Inteligencia Artificial explicable: Buscan resultados óptimos en Inteligencia Artificial, llevando adelante diversas metodologías tecnológicas.\n",
        "* Procesamiento de lenguaje natural: A partir del cálculo de frecuencias normalizadas, se construyen los modelos con datos de texto.\n",
        "* Deep learning: Están enfocadas, de cara a la predicción de datos con modelos de redes neuronales artificiales.\n",
        "\n",
        "En síntesis, los módulos son archivos de Python que contienen funciones y variables. Podemos importar los módulos y acceder a las funciones y variables con el operador \".\" (punto) o agregándolos a nuestro *namespace*. Contamos con las siguientes maneras de importar funciones de un módulo:"
      ]
    },
    {
      "cell_type": "markdown",
      "metadata": {
        "id": "ApU9fPBXgkKK"
      },
      "source": [
        "# Formas de importar librerías"
      ]
    },
    {
      "cell_type": "markdown",
      "metadata": {
        "id": "RFnwYPdA0g29"
      },
      "source": [
        "## Usando `import`\n",
        "\n",
        "La primera opción, y la más sencilla, es usar el comando `import` seguido del nombre la librería, así:\n",
        "\n",
        "```python\n",
        "import math\n",
        "```\n",
        "\n",
        "Cuando queramos usar algún comando de la librería, debemos llamarla por su nombre seguido de un punto (`.`) y la tecla <kbd>Tab</kbd>. Inmediatamente deberá aparecer una lista con las funciones que hacen parte de la misma. así:"
      ]
    },
    {
      "cell_type": "code",
      "execution_count": null,
      "metadata": {
        "id": "NXAKuF0S0g29"
      },
      "outputs": [],
      "source": [
        "import math"
      ]
    },
    {
      "cell_type": "code",
      "execution_count": null,
      "metadata": {
        "id": "AyM37rUQ0g3A",
        "outputId": "9813c939-3773-4c2a-f5d2-55a95e82985f",
        "colab": {
          "base_uri": "https://localhost:8080/"
        }
      },
      "outputs": [
        {
          "output_type": "execute_result",
          "data": {
            "text/plain": [
              "3.141592653589793"
            ]
          },
          "metadata": {},
          "execution_count": 2
        }
      ],
      "source": [
        "math.pi"
      ]
    },
    {
      "cell_type": "code",
      "execution_count": null,
      "metadata": {
        "id": "Qk9w743d0g3C",
        "outputId": "98a0732e-8a25-41f4-cfbc-98fd75e5187e",
        "colab": {
          "base_uri": "https://localhost:8080/"
        }
      },
      "outputs": [
        {
          "output_type": "execute_result",
          "data": {
            "text/plain": [
              "0.28366218546322625"
            ]
          },
          "metadata": {},
          "execution_count": 3
        }
      ],
      "source": [
        "math.cos(5)"
      ]
    },
    {
      "cell_type": "markdown",
      "metadata": {
        "id": "zOViekt20g3F"
      },
      "source": [
        "Como `math` es la librería de funciones matemáticas básicas de Python, podemos utilizarla para calcular el $\\textrm{sin}(\\pi/2)$, por ejemplo:"
      ]
    },
    {
      "cell_type": "code",
      "execution_count": null,
      "metadata": {
        "id": "Qu7H9Wzh0g3F",
        "outputId": "48347350-da4f-4f11-d697-7fc009c5ad90",
        "colab": {
          "base_uri": "https://localhost:8080/"
        }
      },
      "outputs": [
        {
          "output_type": "execute_result",
          "data": {
            "text/plain": [
              "1.0"
            ]
          },
          "metadata": {},
          "execution_count": 5
        }
      ],
      "source": [
        "math.sin(math.pi/2)"
      ]
    },
    {
      "cell_type": "code",
      "execution_count": null,
      "metadata": {
        "id": "Zfn44y9qiigc",
        "outputId": "7724b2b9-b09a-4448-9180-987702775c06",
        "colab": {
          "base_uri": "https://localhost:8080/"
        }
      },
      "outputs": [
        {
          "output_type": "execute_result",
          "data": {
            "text/plain": [
              "0.3010299956639812"
            ]
          },
          "metadata": {},
          "execution_count": 6
        }
      ],
      "source": [
        "math.log10(2)"
      ]
    },
    {
      "cell_type": "markdown",
      "metadata": {
        "id": "luyYB4_fbwBb"
      },
      "source": [
        "Si no invocamos la librería previamente al uso de la función, Python tirará un error."
      ]
    },
    {
      "cell_type": "code",
      "execution_count": null,
      "metadata": {
        "id": "iLqDsZdFbsbX",
        "outputId": "be3a10f6-1adb-4dec-bc51-5008ce6a46ba",
        "colab": {
          "base_uri": "https://localhost:8080/",
          "height": 171
        }
      },
      "outputs": [
        {
          "output_type": "error",
          "ename": "NameError",
          "evalue": "ignored",
          "traceback": [
            "\u001b[0;31m---------------------------------------------------------------------------\u001b[0m",
            "\u001b[0;31mNameError\u001b[0m                                 Traceback (most recent call last)",
            "\u001b[0;32m<ipython-input-7-bcbfb2a7b3d5>\u001b[0m in \u001b[0;36m<cell line: 1>\u001b[0;34m()\u001b[0m\n\u001b[0;32m----> 1\u001b[0;31m \u001b[0mcos\u001b[0m\u001b[0;34m(\u001b[0m\u001b[0;36m5\u001b[0m\u001b[0;34m)\u001b[0m\u001b[0;34m\u001b[0m\u001b[0;34m\u001b[0m\u001b[0m\n\u001b[0m",
            "\u001b[0;31mNameError\u001b[0m: name 'cos' is not defined"
          ]
        }
      ],
      "source": [
        "cos(5)"
      ]
    },
    {
      "cell_type": "markdown",
      "metadata": {
        "id": "JP0Omiof0g3H"
      },
      "source": [
        "## Usando `from`\n",
        "\n",
        "Otra opción es sólo llamar un comando específico de una librería determinada. Para ello usamos la siguiente sintaxis:\n",
        "\n",
        "```python\n",
        "from math import sin\n",
        "```\n",
        "\n",
        "En este caso sólo se carga el comando `sin`, sin cargar el resto de la librería. Esto puede ser muy ventajoso cuando la librería es grande y sólo queremos utilizar una pequeña funcionalidad de la misma. Otra ventaja es que no es necesario usar el nombre de la librería antes del comando."
      ]
    },
    {
      "cell_type": "code",
      "execution_count": null,
      "metadata": {
        "id": "v2-k8Qhv0g3I"
      },
      "outputs": [],
      "source": [
        "from math import sin"
      ]
    },
    {
      "cell_type": "code",
      "execution_count": null,
      "metadata": {
        "id": "wFokjpr40g3K",
        "outputId": "e4e54164-d81d-4769-865f-5809aafecee7",
        "colab": {
          "base_uri": "https://localhost:8080/"
        }
      },
      "outputs": [
        {
          "output_type": "execute_result",
          "data": {
            "text/plain": [
              "0.04158066243329049"
            ]
          },
          "metadata": {},
          "execution_count": 9
        }
      ],
      "source": [
        "sin(3.1)"
      ]
    },
    {
      "cell_type": "code",
      "execution_count": null,
      "metadata": {
        "id": "0T5z4wBy0g3N",
        "outputId": "f6da2b8b-1196-4d92-9d57-01305c873176",
        "colab": {
          "base_uri": "https://localhost:8080/",
          "height": 171
        }
      },
      "outputs": [
        {
          "output_type": "error",
          "ename": "NameError",
          "evalue": "ignored",
          "traceback": [
            "\u001b[0;31m---------------------------------------------------------------------------\u001b[0m",
            "\u001b[0;31mNameError\u001b[0m                                 Traceback (most recent call last)",
            "\u001b[0;32m<ipython-input-10-7ec80c2057e2>\u001b[0m in \u001b[0;36m<cell line: 1>\u001b[0;34m()\u001b[0m\n\u001b[0;32m----> 1\u001b[0;31m \u001b[0msin\u001b[0m\u001b[0;34m(\u001b[0m\u001b[0mpi\u001b[0m\u001b[0;34m/\u001b[0m\u001b[0;36m2\u001b[0m\u001b[0;34m)\u001b[0m\u001b[0;34m\u001b[0m\u001b[0;34m\u001b[0m\u001b[0m\n\u001b[0m",
            "\u001b[0;31mNameError\u001b[0m: name 'pi' is not defined"
          ]
        }
      ],
      "source": [
        "sin(pi/2)"
      ]
    },
    {
      "cell_type": "markdown",
      "metadata": {
        "id": "x6PWnLRx0g3P"
      },
      "source": [
        "Para no tener que escribir **una línea** `from math import ...` **por cada símbolo que se desee importar**, se puede usar la misma sintaxis de arriba con cada símbolo separado por una coma, así:"
      ]
    },
    {
      "cell_type": "code",
      "execution_count": null,
      "metadata": {
        "id": "ovkG91i-0g3P"
      },
      "outputs": [],
      "source": [
        "from math import sin, pi"
      ]
    },
    {
      "cell_type": "markdown",
      "metadata": {
        "id": "br2oatcN0g3R"
      },
      "source": [
        "Al cargar `pi` de `math` de esta forma, ya no veremos el error anterior:"
      ]
    },
    {
      "cell_type": "code",
      "execution_count": null,
      "metadata": {
        "id": "tb3QQeJn0g3S",
        "outputId": "6b0b88bd-7191-4338-907c-54bc0f859c34",
        "colab": {
          "base_uri": "https://localhost:8080/"
        }
      },
      "outputs": [
        {
          "output_type": "execute_result",
          "data": {
            "text/plain": [
              "1.0"
            ]
          },
          "metadata": {},
          "execution_count": 12
        }
      ],
      "source": [
        "sin(pi/2)"
      ]
    },
    {
      "cell_type": "markdown",
      "metadata": {
        "id": "KemIHOIQ0g3U"
      },
      "source": [
        "## Usando un nombre corto\n",
        "\n",
        "Una opción para no tener que llamar una librería por su nombre completo, es renombrarla al momento de importarla. Esto es una práctica bastante común, pues permite utilizar nombres cortos para las librerías, lo que hace más fácil llamarlas con el `.`\n",
        "\n",
        "\n",
        " Para ello se usa la siguiente sintaxis:\n",
        "\n",
        "```python\n",
        "import math as mt\n",
        "```\n",
        "\n",
        "De esta forma, en lugar de `math` sólo usamos `mt`, así:"
      ]
    },
    {
      "cell_type": "code",
      "execution_count": null,
      "metadata": {
        "id": "B2KvQDBR0g3U"
      },
      "outputs": [],
      "source": [
        "import math as mt"
      ]
    },
    {
      "cell_type": "code",
      "execution_count": null,
      "metadata": {
        "id": "DQo-3f6r0g3X",
        "outputId": "be495e49-df73-43fd-fc41-643bfad91f7e",
        "colab": {
          "base_uri": "https://localhost:8080/"
        }
      },
      "outputs": [
        {
          "output_type": "execute_result",
          "data": {
            "text/plain": [
              "1.0"
            ]
          },
          "metadata": {},
          "execution_count": 14
        }
      ],
      "source": [
        "mt.sin(mt.pi/2)"
      ]
    },
    {
      "cell_type": "markdown",
      "metadata": {
        "id": "L2ELs-3C0g3Y"
      },
      "source": [
        "## Importando todos los comandos\n",
        "\n",
        "La última opción consiste en llamar todos los comandos de una librería sin que estén precedidos por su nombre. Para ello se utiliza la sintaxis:\n",
        "\n",
        "```python\n",
        "from math import *\n",
        "```\n",
        "\n",
        "**Advertencia**:\n",
        "\n",
        "Esta opción no es muy recomendable ya que los comandos de varias librerías pueden tener el mismo nombre, lo que puede resultar en serias confusiones. Podemos pisar funciones que hemos construido previamente\n",
        "\n",
        "Un ejemplo de este caso es el siguiente:"
      ]
    },
    {
      "cell_type": "code",
      "execution_count": null,
      "metadata": {
        "id": "nSQsq5AE0g3Z"
      },
      "outputs": [],
      "source": [
        "from math import *"
      ]
    },
    {
      "cell_type": "code",
      "execution_count": null,
      "metadata": {
        "colab": {
          "base_uri": "https://localhost:8080/"
        },
        "id": "j7UjdYOO0g3a",
        "outputId": "8440fd44-b2c9-446c-ccdf-29082fd5e99c"
      },
      "outputs": [
        {
          "output_type": "execute_result",
          "data": {
            "text/plain": [
              "3.607620341465285"
            ]
          },
          "metadata": {},
          "execution_count": 16
        }
      ],
      "source": [
        "log10(exp(9)/2)"
      ]
    },
    {
      "cell_type": "markdown",
      "metadata": {
        "id": "S0thZuUBguA9"
      },
      "source": [
        "# Tipos de módulos"
      ]
    },
    {
      "cell_type": "markdown",
      "metadata": {
        "id": "aMo-oo-2dTsh"
      },
      "source": [
        "\n",
        "## 1. Módulos de \"Python nativo\"\n",
        "\n",
        "Cuando instalamos Python, hay algunos módulos que contienen funcionalidad básica y para poder utilizarlos los tenemos que importar explícitamente. \n",
        "\n",
        "Hay módulos para trabajar con fechas (datetime), para interactuar con el sistema operativo donde nuestro programa está corriendo (os), para generar números aleatorios (random), para hacer operaciones matemáticas (math) y muchos otros más.\n",
        "\n"
      ]
    },
    {
      "cell_type": "code",
      "execution_count": null,
      "metadata": {
        "id": "s-rHFktsdTsh",
        "outputId": "34de06b5-e6e7-41d6-f654-cf04858d4f06",
        "colab": {
          "base_uri": "https://localhost:8080/"
        }
      },
      "outputs": [
        {
          "output_type": "stream",
          "name": "stdout",
          "text": [
            "2023-05-05 23:36:06.245268\n"
          ]
        }
      ],
      "source": [
        "# Ejemplo de uso de datetime\n",
        "import datetime\n",
        "print(datetime.datetime.now())"
      ]
    },
    {
      "cell_type": "code",
      "execution_count": null,
      "metadata": {
        "id": "0oJqG4GndTsh",
        "outputId": "76d3cdb2-0489-4c83-8383-a07bbb015514",
        "colab": {
          "base_uri": "https://localhost:8080/"
        }
      },
      "outputs": [
        {
          "output_type": "stream",
          "name": "stdout",
          "text": [
            "2023-05-05 23:37:53.034094\n"
          ]
        }
      ],
      "source": [
        "import datetime as dt\n",
        "print(dt.datetime.now())"
      ]
    },
    {
      "cell_type": "code",
      "execution_count": null,
      "metadata": {
        "id": "Kn3gJ-WHdTsi",
        "outputId": "237aa0f5-16e4-4c3b-bc4b-af766496804e",
        "colab": {
          "base_uri": "https://localhost:8080/"
        }
      },
      "outputs": [
        {
          "output_type": "stream",
          "name": "stdout",
          "text": [
            "2023-05-05 23:38:23.821163\n"
          ]
        }
      ],
      "source": [
        "from datetime import datetime\n",
        "print(datetime.now())"
      ]
    },
    {
      "cell_type": "code",
      "execution_count": null,
      "metadata": {
        "id": "Km-U5RvsdTsi",
        "outputId": "01da20bc-5c25-4817-e234-367819507332",
        "colab": {
          "base_uri": "https://localhost:8080/"
        }
      },
      "outputs": [
        {
          "output_type": "stream",
          "name": "stdout",
          "text": [
            "2023-05-05 23:38:27.883819\n"
          ]
        }
      ],
      "source": [
        "from datetime import *\n",
        "print(datetime.now())"
      ]
    },
    {
      "cell_type": "markdown",
      "metadata": {
        "id": "NkAPoHn0dHOY"
      },
      "source": [
        "**`math` Modulo**\n",
        "\n",
        "Nos permite hacer tener acceso a funciones matemáticas, que originalmente, estan programadas en C."
      ]
    },
    {
      "cell_type": "code",
      "execution_count": null,
      "metadata": {
        "colab": {
          "base_uri": "https://localhost:8080/"
        },
        "id": "cM3NfgipdKSd",
        "outputId": "e72a7446-2e84-477d-c9c1-5766d6bcec2b",
        "scrolled": true
      },
      "outputs": [
        {
          "output_type": "stream",
          "name": "stdout",
          "text": [
            "['__doc__', '__loader__', '__name__', '__package__', '__spec__', 'acos', 'acosh', 'asin', 'asinh', 'atan', 'atan2', 'atanh', 'ceil', 'comb', 'copysign', 'cos', 'cosh', 'degrees', 'dist', 'e', 'erf', 'erfc', 'exp', 'expm1', 'fabs', 'factorial', 'floor', 'fmod', 'frexp', 'fsum', 'gamma', 'gcd', 'hypot', 'inf', 'isclose', 'isfinite', 'isinf', 'isnan', 'isqrt', 'lcm', 'ldexp', 'lgamma', 'log', 'log10', 'log1p', 'log2', 'modf', 'nan', 'nextafter', 'perm', 'pi', 'pow', 'prod', 'radians', 'remainder', 'sin', 'sinh', 'sqrt', 'tan', 'tanh', 'tau', 'trunc', 'ulp']\n"
          ]
        }
      ],
      "source": [
        "import math\n",
        "\n",
        "print(dir(math))"
      ]
    },
    {
      "cell_type": "code",
      "execution_count": null,
      "metadata": {
        "colab": {
          "base_uri": "https://localhost:8080/"
        },
        "id": "BqoLQzGvdihA",
        "outputId": "6cbff89a-ef98-4e28-a5fe-bde4782573d0"
      },
      "outputs": [
        {
          "output_type": "stream",
          "name": "stdout",
          "text": [
            "3.044522437723423\n"
          ]
        }
      ],
      "source": [
        "log_21 = math.log(21)\n",
        "print(log_21)"
      ]
    },
    {
      "cell_type": "code",
      "execution_count": null,
      "metadata": {
        "colab": {
          "base_uri": "https://localhost:8080/"
        },
        "id": "LqtD7Q_hgG0n",
        "outputId": "91efc3ee-43fb-42b9-8be0-8bafc8e6fce5"
      },
      "outputs": [
        {
          "output_type": "stream",
          "name": "stdout",
          "text": [
            "-1.0\n"
          ]
        }
      ],
      "source": [
        "coseno_pi = math.cos(math.pi)\n",
        "print(coseno_pi)"
      ]
    },
    {
      "cell_type": "markdown",
      "metadata": {
        "id": "ydS3Qvbx9vgs"
      },
      "source": [
        "### Numpy\n",
        "\n",
        "[NumPy](https://numpy.org/) es el paquete fundamental para computación científica con Python. En el no sólo vamos a encontrar las siempre prácticas matrices que facilitan en sobremanera el manejo de información numérica; sino que también vamos a poder encontrar un gran número de funciones matemáticas. Su objeto más popular es el `array` (matrices/vectores)."
      ]
    },
    {
      "cell_type": "code",
      "execution_count": null,
      "metadata": {
        "id": "KfQjwhQD3cae",
        "outputId": "f946859b-de15-4034-9d33-a71e390b35fa",
        "colab": {
          "base_uri": "https://localhost:8080/"
        }
      },
      "outputs": [
        {
          "output_type": "stream",
          "name": "stdout",
          "text": [
            "[1 2 3] \n",
            "\n",
            "el array es de tipo <class 'numpy.ndarray'>\n",
            "la forma de esta matriz es (3,)\n",
            "1 2 3\n",
            "\n",
            " [5 2 3]\n"
          ]
        }
      ],
      "source": [
        "import numpy as np\n",
        "\n",
        "a = np.array([1, 2, 3])   # Crea un array de rango 1\n",
        "\n",
        "print( a, \"\\n\")\n",
        "print(\"el array es de tipo\", type(a))\n",
        "print(\"la forma de esta matriz es\" , a.shape)\n",
        "print(a[0], a[1], a[2])   # Imprime los objetos de la fila \n",
        "a[0] = 5                  # cambia un objeto del array\n",
        "print(\"\\n\", a)\n"
      ]
    },
    {
      "cell_type": "code",
      "execution_count": null,
      "metadata": {
        "id": "tVlFXR-y255M",
        "outputId": "97657781-378b-4d0e-faf7-7365f1bdbb4f",
        "colab": {
          "base_uri": "https://localhost:8080/"
        }
      },
      "outputs": [
        {
          "output_type": "execute_result",
          "data": {
            "text/plain": [
              "array([[1, 2],\n",
              "       [3, 4],\n",
              "       [5, 6]])"
            ]
          },
          "metadata": {},
          "execution_count": 25
        }
      ],
      "source": [
        "import numpy as np\n",
        "\n",
        "a = np.array([[1,2], [3, 4], [5, 6]])\n",
        "a"
      ]
    },
    {
      "cell_type": "markdown",
      "metadata": {
        "id": "pVm0Mf3SrkGe"
      },
      "source": [
        "Recordemos que podemos utilizar el signo `?` o la función `help()` para acceder a la ayuda de la función (también disponible en las páginas de documentación de las librerías)"
      ]
    },
    {
      "cell_type": "code",
      "execution_count": null,
      "metadata": {
        "id": "0LcZpwLn2748"
      },
      "outputs": [],
      "source": [
        "np.array?"
      ]
    },
    {
      "cell_type": "markdown",
      "metadata": {
        "id": "J14rbC6ku12Z"
      },
      "source": [
        "Inspeccionemos la documentación de la función `linspace`, la cual continuaremos utilizando en la materia."
      ]
    },
    {
      "cell_type": "code",
      "execution_count": null,
      "metadata": {
        "id": "sSPcZZH-4fRu"
      },
      "outputs": [],
      "source": [
        "np.linspace?"
      ]
    },
    {
      "cell_type": "markdown",
      "metadata": {
        "id": "mtXR1x1du7sP"
      },
      "source": [
        "Como vemos, toma como argumentos dos valores obligatorios:\n",
        "\n",
        "\n",
        "*   `start`: en qué valor inicia el arreglo de datos\n",
        "*   `stop`: en qué valor termina\n",
        "\n",
        "Y se pueden establecer otros parámetros más como `num` para indicar cuantos valores (puntos en el espacio) queremos. Por default toma un valor igual a 50.\n",
        "\n"
      ]
    },
    {
      "cell_type": "markdown",
      "metadata": {
        "id": "hPo1LBXldTsj"
      },
      "source": [
        "## 2. Módulos propios\n",
        "\n",
        "Cuando estemos creando aplicaciones grandes y complejas, será necesario llevar alguna de la funcionalidad que desarrollemos a módulos. \n",
        "\n",
        "Para eso es necesario escribir archivos que tengan nuestro código, y luego importar los módulos localmente.||"
      ]
    },
    {
      "cell_type": "code",
      "execution_count": null,
      "metadata": {
        "id": "UD6dPkQidTsk"
      },
      "outputs": [],
      "source": [
        "with open('misfunciones.py', 'w') as out:\n",
        "    out.write(\"\"\"def misuma(a,b):\n",
        "        print('Sumando!')\n",
        "        return a+b\"\"\")"
      ]
    },
    {
      "cell_type": "code",
      "execution_count": null,
      "metadata": {
        "id": "ep_gV6VcdTsk",
        "outputId": "3ebd752d-a507-45e1-c8e4-6b8196f62fc8",
        "colab": {
          "base_uri": "https://localhost:8080/"
        }
      },
      "outputs": [
        {
          "output_type": "stream",
          "name": "stdout",
          "text": [
            "Sumando!\n"
          ]
        },
        {
          "output_type": "execute_result",
          "data": {
            "text/plain": [
              "5"
            ]
          },
          "metadata": {},
          "execution_count": 29
        }
      ],
      "source": [
        "from misfunciones import misuma\n",
        "\n",
        "misuma(3,2)"
      ]
    },
    {
      "cell_type": "markdown",
      "metadata": {
        "id": "FCJoS0a5dTsk"
      },
      "source": [
        "## 3. Módulos de terceros\n",
        "\n",
        "Cada lenguaje de programación tiene su propio sistema de gestión de paquetes donde la comunidad contribuye con distintos módulos. En el caso de Python este sistema es <a href = 'https://pypi.org/project/pip/'> PyPI </a>. Los organizadores de este proyecto se encargan de fijar estándares de calidad para las librerías que se distribuyan a través del mismo. \n",
        "\n",
        "Los entornos (como collab) que tienen instalado python, en general, también tienen instalado un software que se llama python-pip. Este nos permite ejecutar el comando pip para descargar librerías desde PyPI.\n",
        "\n",
        "Este comando lo podemos ejecutar desde una terminal, o desde la propia jupyter notebook si utilizamos la sintaxis \"!\" para cada línea o el comando %%bash para cada celda.\n",
        "\n",
        "La sintaxis es: \n",
        "\n",
        "<code> pip install [nombre del paquete]</code>\n",
        "\n",
        "Opcionalmente podemos especificar una versión de ese paquete. Si no lo hacemos, va a descargar la última que encuentre para la versión de python-pip que tenemos instalada.\n",
        "\n",
        "\n",
        "<code> pip install [nombre del paquete][==version]</code>\n",
        "\n",
        "\n",
        "Cuando desarrollamos aplicaciones en Python, es muy importante tener en cuenta el manejo de versiones. Para que nuestro código funcione adecuadamente, el ambiente donde la aplicación corre tiene que tener las mismas versiones de librerías que usamos al momento de desarrollar. \n",
        "\n",
        "Esto generalmente se maneja a través de un archivo, <strong>requirements.txt</strong>,  que contiene todos los paquetes que la aplicación necesita con sus respectivas versiones. "
      ]
    },
    {
      "cell_type": "markdown",
      "metadata": {
        "id": "fVQRrFx-dTsk"
      },
      "source": [
        "#### Ejemplo de uso de pip\n",
        "La librería seaborn por ejemplo, se usa para hacer gráficos."
      ]
    },
    {
      "cell_type": "code",
      "execution_count": null,
      "metadata": {
        "id": "jh05zucOdTsk",
        "outputId": "6dc7a277-da0a-4d09-e816-f925534796b6",
        "colab": {
          "base_uri": "https://localhost:8080/"
        }
      },
      "outputs": [
        {
          "output_type": "stream",
          "name": "stdout",
          "text": [
            "Looking in indexes: https://pypi.org/simple, https://us-python.pkg.dev/colab-wheels/public/simple/\n",
            "Collecting seaborn==0.9.0\n",
            "  Downloading seaborn-0.9.0-py3-none-any.whl (208 kB)\n",
            "\u001b[2K     \u001b[90m━━━━━━━━━━━━━━━━━━━━━━━━━━━━━━━━━━━━━━━\u001b[0m \u001b[32m208.1/208.1 kB\u001b[0m \u001b[31m5.3 MB/s\u001b[0m eta \u001b[36m0:00:00\u001b[0m\n",
            "\u001b[?25hRequirement already satisfied: scipy>=0.14.0 in /usr/local/lib/python3.10/dist-packages (from seaborn==0.9.0) (1.10.1)\n",
            "Requirement already satisfied: numpy>=1.9.3 in /usr/local/lib/python3.10/dist-packages (from seaborn==0.9.0) (1.22.4)\n",
            "Requirement already satisfied: pandas>=0.15.2 in /usr/local/lib/python3.10/dist-packages (from seaborn==0.9.0) (1.5.3)\n",
            "Requirement already satisfied: matplotlib>=1.4.3 in /usr/local/lib/python3.10/dist-packages (from seaborn==0.9.0) (3.7.1)\n",
            "Requirement already satisfied: fonttools>=4.22.0 in /usr/local/lib/python3.10/dist-packages (from matplotlib>=1.4.3->seaborn==0.9.0) (4.39.3)\n",
            "Requirement already satisfied: kiwisolver>=1.0.1 in /usr/local/lib/python3.10/dist-packages (from matplotlib>=1.4.3->seaborn==0.9.0) (1.4.4)\n",
            "Requirement already satisfied: pyparsing>=2.3.1 in /usr/local/lib/python3.10/dist-packages (from matplotlib>=1.4.3->seaborn==0.9.0) (3.0.9)\n",
            "Requirement already satisfied: pillow>=6.2.0 in /usr/local/lib/python3.10/dist-packages (from matplotlib>=1.4.3->seaborn==0.9.0) (8.4.0)\n",
            "Requirement already satisfied: packaging>=20.0 in /usr/local/lib/python3.10/dist-packages (from matplotlib>=1.4.3->seaborn==0.9.0) (23.1)\n",
            "Requirement already satisfied: cycler>=0.10 in /usr/local/lib/python3.10/dist-packages (from matplotlib>=1.4.3->seaborn==0.9.0) (0.11.0)\n",
            "Requirement already satisfied: contourpy>=1.0.1 in /usr/local/lib/python3.10/dist-packages (from matplotlib>=1.4.3->seaborn==0.9.0) (1.0.7)\n",
            "Requirement already satisfied: python-dateutil>=2.7 in /usr/local/lib/python3.10/dist-packages (from matplotlib>=1.4.3->seaborn==0.9.0) (2.8.2)\n",
            "Requirement already satisfied: pytz>=2020.1 in /usr/local/lib/python3.10/dist-packages (from pandas>=0.15.2->seaborn==0.9.0) (2022.7.1)\n",
            "Requirement already satisfied: six>=1.5 in /usr/local/lib/python3.10/dist-packages (from python-dateutil>=2.7->matplotlib>=1.4.3->seaborn==0.9.0) (1.16.0)\n",
            "Installing collected packages: seaborn\n",
            "  Attempting uninstall: seaborn\n",
            "    Found existing installation: seaborn 0.12.2\n",
            "    Uninstalling seaborn-0.12.2:\n",
            "      Successfully uninstalled seaborn-0.12.2\n",
            "Successfully installed seaborn-0.9.0\n"
          ]
        }
      ],
      "source": [
        "!pip install seaborn==0.9.0"
      ]
    },
    {
      "cell_type": "code",
      "execution_count": null,
      "metadata": {
        "id": "80EkrtrXdTsk"
      },
      "outputs": [],
      "source": [
        "import seaborn as sns"
      ]
    },
    {
      "cell_type": "code",
      "execution_count": null,
      "metadata": {
        "id": "7kODv9F2dTsl",
        "outputId": "605df6ea-0cbf-49ba-c706-7e3c4050f188",
        "colab": {
          "base_uri": "https://localhost:8080/",
          "height": 36
        }
      },
      "outputs": [
        {
          "output_type": "execute_result",
          "data": {
            "text/plain": [
              "'0.9.0'"
            ],
            "application/vnd.google.colaboratory.intrinsic+json": {
              "type": "string"
            }
          },
          "metadata": {},
          "execution_count": 32
        }
      ],
      "source": [
        "# Con este comando podemos consultar la versión de cualquier módulo.\n",
        "sns.__version__"
      ]
    },
    {
      "cell_type": "code",
      "execution_count": null,
      "metadata": {
        "id": "YC7U53cAdTsl",
        "outputId": "e9ec707e-f85f-482c-b0e4-9fed67f2ae30",
        "colab": {
          "base_uri": "https://localhost:8080/",
          "height": 430
        }
      },
      "outputs": [
        {
          "output_type": "display_data",
          "data": {
            "text/plain": [
              "<Figure size 640x480 with 1 Axes>"
            ],
            "image/png": "[encoded data removed]"
          },
          "metadata": {}
        }
      ],
      "source": [
        "sns.scatterplot(x=[3,4,5,6],y=[6,8,10,12]);"
      ]
    }
  ],
  "metadata": {
    "colab": {
      "provenance": [],
      "include_colab_link": true
    },
    "kernelspec": {
      "display_name": "Python 3 (ipykernel)",
      "language": "python",
      "name": "python3"
    },
    "language_info": {
      "codemirror_mode": {
        "name": "ipython",
        "version": 3
      },
      "file_extension": ".py",
      "mimetype": "text/x-python",
      "name": "python",
      "nbconvert_exporter": "python",
      "pygments_lexer": "ipython3",
      "version": "3.10.4"
    }
  },
  "nbformat": 4,
  "nbformat_minor": 0
}
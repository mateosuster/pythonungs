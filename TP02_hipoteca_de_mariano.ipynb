{
  "nbformat": 4,
  "nbformat_minor": 0,
  "metadata": {
    "colab": {
      "provenance": [],
      "collapsed_sections": [],
      "include_colab_link": true
    },
    "kernelspec": {
      "name": "python3",
      "display_name": "Python 3"
    },
    "language_info": {
      "name": "python"
    }
  },
  "cells": [
    {
      "cell_type": "markdown",
      "metadata": {
        "id": "view-in-github",
        "colab_type": "text"
      },
      "source": [
        "<a href=\"https://colab.research.google.com/github/mateosuster/pythonungs/blob/master/TP02_hipoteca_de_mariano.ipynb\" target=\"_parent\"><img src=\"https://colab.research.google.com/assets/colab-badge.svg\" alt=\"Open In Colab\"/></a>"
      ]
    },
    {
      "cell_type": "markdown",
      "metadata": {
        "id": "cMDwE4MCrLb-"
      },
      "source": [
        "# Ejercicio Domiciliario N°2 de introducción a Python\n",
        "\n",
        "Fecha de entrega límite: Lunes 26/09/22 23:59hs \n",
        "\n",
        "Modo de presentación (LEER ATENTAMENTE): \n",
        "\n",
        "1. Guardar una copia de este archivo en su carpeta Drive.\n",
        "2. Completar su nombre en la siguiente celda de texto \n",
        "3. Renombrar el archivo solo con el número de DNI del estudiante (sin espacios ni puntos). **Esto es muy importante**.\n",
        "4. Descargar y mandar el trabajo **exclusivamente** en formato `.ipynb` por mail (Asunto \"TP 1 Python - *Apellido*\", al mail msuster@campus.ungs.edu.ar). Para descargarlo hay que ir a *Archivo* --> *Descargar* --> *Descargar .ipynb*\n",
        "\n",
        "Pautas:\n",
        "1. Realización individual\n",
        "2. Asegúrese que el código se ejecute sin errores\n",
        "3. Si tiene dificultades consulte por Slack\n"
      ]
    },
    {
      "cell_type": "markdown",
      "metadata": {
        "id": "iAHPTHjmLCtE"
      },
      "source": [
        "## *La hipoteca de Mariano*\n",
        "\n",
        "Mariano accedió a un crédito a 30 años para comprar una vivienda, con una tasa fija nominal anual del 5%. Pidió 1.000.000 al banco y quedó en pagar una cuota fija mensual de 5.368,22\n",
        "\n",
        "El siguiente es un programa que calcula el monto total que pagará Mariano a lo largo de los años. ¿Cuánto es lo que va pagar? Ejecute el siguiente programa para saberlo"
      ]
    },
    {
      "cell_type": "code",
      "metadata": {
        "id": "cM3b8lmYLD_I",
        "colab": {
          "base_uri": "https://localhost:8080/"
        },
        "outputId": "e600d9dd-2a1d-4996-a550-94d9b800a66d"
      },
      "source": [
        "saldo = 1000000.0\n",
        "tasa = 0.05\n",
        "pago_mensual = 5368.22\n",
        "total_pagado = 0.0\n",
        "\n",
        "while saldo > 0:\n",
        "    saldo = saldo * (1+tasa/12) - pago_mensual\n",
        "    total_pagado = total_pagado + pago_mensual\n",
        "\n",
        "print('Total pagado', round(total_pagado, 2))"
      ],
      "execution_count": null,
      "outputs": [
        {
          "output_type": "stream",
          "name": "stdout",
          "text": [
            "Total pagado 1932559.2\n"
          ]
        }
      ]
    },
    {
      "cell_type": "markdown",
      "metadata": {
        "id": "x1lQaqbALHUC"
      },
      "source": [
        "#### Problema Adelantos\n",
        "\n",
        "Imaginemos que Mariano adelanta pagos extra de 1000/mes durante los primeros 12 meses de la hipoteca.\n",
        "\n",
        "Modificá el programa anterior para incorporar estos pagos extra y que imprima el monto total pagado junto con la cantidad de meses requeridos.\n",
        "\n",
        "Aclaración: aunque pueda parecer sencillo, este ejercicio va a necesitar que agregues una variable mes y que prestes bastante atención a cuándo la incrementás, con qué valor entra al ciclo y con qué valor sale del ciclo. Una posiblidad es inicializar una variable de mes en 0 y otra es inicializarla en 1. En el primer caso es problable que la variable salga del ciclo contando la cantidad de pagos que se hicieron, en el segundo, ¡es probable que salga contando la cantidad de pagos más uno!\n",
        "\n",
        "*El ejercicio tiene que dar: 1,896,245.22 en 351 meses*\n"
      ]
    },
    {
      "cell_type": "code",
      "metadata": {
        "id": "46SOj599LMxC"
      },
      "source": [
        "#Escriba la solución aquí\n"
      ],
      "execution_count": null,
      "outputs": []
    },
    {
      "cell_type": "markdown",
      "metadata": {
        "id": "3cICn_azLcP0"
      },
      "source": [
        "#### Problema Calculando adelantos\n",
        "\n",
        "¿Cuánto pagaría Mariano si solo agrega los $1000 por mes durante cuatro años, comenzando en el sexto año de la hipoteca (es decir, luego de 5 años)?\n",
        "\n",
        "Modificá tu programa de forma que la información sobre pagos extras pueda ser incorporada de manera más ágil. Agregá las siguientes variables antes del ciclo, para definir el comienzo, fin y monto de los pagos extras:\n",
        "\n",
        "`pago_extra_mes_comienzo` = 61\n",
        "\n",
        "`pago_extra_mes_fin` = 108\n",
        "\n",
        "`pago_extra` = 1000\n",
        "\n",
        "Hacé que el programa tenga en cuenta estas variables para calcular el total a pagar apropiadamente.\n",
        "\n",
        "*El ejercicio tiene que dar: 1,840,985.48 en 334 meses*"
      ]
    },
    {
      "cell_type": "code",
      "metadata": {
        "id": "IqmK1dVfLgHg"
      },
      "source": [
        "#Escriba la solución aquí\n"
      ],
      "execution_count": null,
      "outputs": []
    }
  ]
}
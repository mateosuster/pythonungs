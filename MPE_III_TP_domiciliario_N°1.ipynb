{
  "nbformat": 4,
  "nbformat_minor": 0,
  "metadata": {
    "colab": {
      "name": "MPE III - TP domiciliario N°1.ipynb",
      "provenance": [],
      "include_colab_link": true
    },
    "kernelspec": {
      "name": "python3",
      "display_name": "Python 3"
    },
    "language_info": {
      "name": "python"
    }
  },
  "cells": [
    {
      "cell_type": "markdown",
      "metadata": {
        "id": "view-in-github",
        "colab_type": "text"
      },
      "source": [
        "<a href=\"https://colab.research.google.com/github/mateosuster/pythonungs/blob/master/MPE_III_TP_domiciliario_N%C2%B01.ipynb\" target=\"_parent\"><img src=\"https://colab.research.google.com/assets/colab-badge.svg\" alt=\"Open In Colab\"/></a>"
      ]
    },
    {
      "cell_type": "markdown",
      "metadata": {
        "id": "eLiRPK5bAfFH"
      },
      "source": [
        "# Ejercicio Domiciliario de introducción a Python\n",
        "\n",
        "Fecha de entrega límite: Miercoles 10/09/25 12:00 AM\n",
        "\n",
        "Modo de presentación:\n",
        "\n",
        "1. Guardar una copia de este archivo en su carpeta Drive.\n",
        "2. Completar su nombre en la siguiente celda de texto\n",
        "3. Renombrar el archivo con el siguiente formato: *MPE3_022025_COM#_TP1_NumeroDNI.ipynb* (sin espacios ni puntos), siendo *COM1* comisión Pereira y *COM2* comisión Calello, y *NumeroDNI* el número de DNI del estudiante. Esto es muy importante.\n",
        "4. Descargar y mandar el trabajo **exclusivamente** en formato `.ipynb` por el [formulario de carga](https://forms.gle/RHdogNVxkpi5cTgW9). Nota: para descargar el código hay que ir dentro de la barra de herramientas a *Archivo* --> *Descargar* --> *Descargar .ipynb*\n",
        "\n",
        "Pautas:\n",
        "1. Realización individual\n",
        "2. Asegúrese que el código se ejecute sin errores\n",
        "3. Si tiene dificultades consulte por Slack en los canales correspondientes\n"
      ]
    },
    {
      "cell_type": "markdown",
      "source": [
        "### Estudiante: [Nombre y Apellido]"
      ],
      "metadata": {
        "id": "YtmZzPfD1u17"
      }
    },
    {
      "cell_type": "markdown",
      "metadata": {
        "id": "4eZXmfIMAIU9"
      },
      "source": [
        "## Problema 1"
      ]
    },
    {
      "cell_type": "markdown",
      "metadata": {
        "id": "4pTLMa3c-DfT"
      },
      "source": [
        "\n",
        "\n",
        "## Presentación de la lista\n",
        "\n",
        "A partir de las siguientes listas:"
      ]
    },
    {
      "cell_type": "code",
      "metadata": {
        "id": "g7bdrd5_9_7S"
      },
      "source": [
        "# Ejecute estas lineas de código sin modificar\n",
        "lista_1 = [100, 200, 'string', 3, 56, 7, 81, 5, 92, 4, 1, 23, 12, 'al fin...', 2, 3, 17]\n",
        "lista_2 = [1, 3.5, 'que molesto este texto', 500, 2, 98, 33, 4]\n",
        "lista_3 = [9, 4, 2, 1, 60, 15, 3, ['ojo que esto es', 'otra lista'], 45]\n"
      ],
      "execution_count": null,
      "outputs": []
    },
    {
      "cell_type": "markdown",
      "metadata": {
        "id": "p4Z7F4JZ1Qp_"
      },
      "source": [
        "Construya, utilizando únicamente **slicing e indexado**, una nueva lista que al imprimirla se vea exactamente:\n",
        "\n",
        "```\n",
        "print(nueva_lista)\n",
        ">>> [200, 3, 56, 'otra lista', 98, 33, 4, 2, 1]\n",
        "```\n",
        "\n",
        "<br>\n",
        "\n",
        "**Consideraciones**:\n",
        "\n",
        "*   Para obtener `'otra lista'` recuerde que se encuentra dentro de una lista anidada en `lista_3`.\n",
        "*   Utilice índices negativos en al menos una de las operaciones de slicing.\n",
        "* No se permite escribir manualmente los valores: todos deben extraerse desde las listas dadas.\n",
        "\n",
        "\n",
        "Finalmente, explique con sus palabras:\n",
        "\n",
        "1. ¿Qué diferencia hay entre `lista_2[1]` y `lista_2[1:2]`?\n",
        "\n",
        "2. ¿Por qué `lista_3[7]` no es lo mismo que `lista_3[7][1]`?\n",
        "\n",
        "<br>\n",
        "\n"
      ]
    },
    {
      "cell_type": "code",
      "metadata": {
        "id": "MooxUT6tx8I_"
      },
      "source": [
        "#Solución:\n",
        "\n"
      ],
      "execution_count": null,
      "outputs": []
    },
    {
      "cell_type": "markdown",
      "metadata": {
        "id": "xbglQxrFKEk_"
      },
      "source": [
        "## Problema 2\n",
        "\n",
        "Tome la siguiente lista:\n",
        "\n",
        "```\n",
        "numeros = [1, 2, 3]\n",
        "```\n",
        "\n",
        "\n",
        "1. Utilice el método adecuado para **agregar** los elementos `4` y `'cinco'` al final de la lista.  \n",
        "2. Luego, repita la lista final resultante **2 veces**.  \n",
        "\n",
        "El resultado esperado es:\n",
        "\n",
        "\n",
        "```\n",
        "print(numeros)\n",
        ">>> [1, 2, 3, 4, 'cinco', 1, 2, 3, 4, 'cinco']\n",
        "```\n",
        "\n",
        "**Pregunta:**  \n",
        "¿Qué método deberíamos usar si en vez de agregar al final, quisiéramos colocar `'cinco'` en la **segunda posición** de la lista?  \n",
        "Escriba un ejemplo en código para ilustrar su respuesta.\n"
      ]
    },
    {
      "cell_type": "code",
      "metadata": {
        "id": "g2uGqTTNKgJF"
      },
      "source": [
        "## Escriba la respuesta aquí\n"
      ],
      "execution_count": null,
      "outputs": []
    },
    {
      "cell_type": "markdown",
      "metadata": {
        "id": "oZB4AEdaJZ1d"
      },
      "source": [
        "## Problema 3\n",
        "Escribir un programa que convierta una lista de valores de pesos a otra lista de sus equivalentes en dólares. Utilizar alguno de los muchos tipos de cambio que existen (no importa si es legal o no). Imprima por pantalla los resultados junto algunos strings que expliquen la operación o el programa.\n",
        "\n",
        "**Nota:** guardar los valores de pesos y dolares en distintas variables\n"
      ]
    },
    {
      "cell_type": "code",
      "metadata": {
        "id": "aqI8yM_lKXjx"
      },
      "source": [
        "# Escriba la respuesta aquí\n",
        "\n"
      ],
      "execution_count": null,
      "outputs": []
    }
  ]
}